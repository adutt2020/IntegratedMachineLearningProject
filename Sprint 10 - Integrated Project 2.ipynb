{
 "cells": [
  {
   "cell_type": "markdown",
   "metadata": {},
   "source": [
    "# Sprint 10: Integrated Project 2\n",
    "\n",
    "**Project Description**\n",
    "\n",
    "I will be working with data stored in three files from Zyfra, a gold mining company. Data is indexed with the date and time of acquisition (date feature). Parameters that are next to each other in terms of time are often similar.\n",
    "\n",
    "Some parameters are not available because they were measured and/or calculated much later. That's why, some of the features that are present in the training set may be absent from the test set. The test set also doesn't contain targets.\n",
    "\n",
    "The source dataset contains the training and test sets with all the features.\n",
    "\n",
    "I have the raw data that was only downloaded from the warehouse. Before building the model, check the correctness of the data. For that, I will be using the instructions given below:\n",
    "\n",
    "\n",
    "\n"
   ]
  },
  {
   "cell_type": "markdown",
   "metadata": {},
   "source": [
    "1. Prepare the data\n",
    "\n",
    "1.1. Open the files and look into the data.\n",
    "\n",
    "Path to files:\n",
    "\n",
    "- /datasets/gold_recovery_train.csv\n",
    "- /datasets/gold_recovery_test.csv\n",
    "- /datasets/gold_recovery_full.csv\n",
    "\n",
    "1.2. Check that recovery is calculated correctly. Using the training set, calculate recovery for the rougher.output.recovery feature. Find the MAE between your calculations and the feature values. Provide findings.\n",
    "\n",
    "1.3. Analyze the features not available in the test set. What are these parameters? What is their type?\n",
    "\n",
    "1.4. Perform data preprocessing.\n",
    "\n",
    "2. Analyze the data\n",
    "\n",
    "2.1. Take note of how the concentrations of metals (Au, Ag, Pb) change depending on the purification stage.\n",
    "\n",
    "2.2. Compare the feed particle size distributions in the training set and in the test set. If the distributions vary significantly, the model evaluation will be incorrect.\n",
    "\n",
    "2.3. Consider the total concentrations of all substances at different stages: raw feed, rougher concentrate, and final concentrate. Do you notice any abnormal values in the total distribution? If you do, is it worth removing such values from both samples? Describe the findings and eliminate anomalies. \n",
    "\n",
    "3. Build the model\n",
    "\n",
    "3.1. Write a function to calculate the final sMAPE value.\n",
    "\n",
    "3.2. Train different models. Evaluate them using cross-validation. Pick the best model and test it using the test sample. Provide findings.\n"
   ]
  },
  {
   "cell_type": "markdown",
   "metadata": {},
   "source": [
    "# Prepare The Data\n"
   ]
  },
  {
   "cell_type": "markdown",
   "metadata": {},
   "source": [
    "## 1.1 Open files and Look into Data\n"
   ]
  },
  {
   "cell_type": "code",
   "execution_count": 1,
   "metadata": {},
   "outputs": [],
   "source": [
    "# Import Libraries \n",
    "import pandas as pd\n",
    "import numpy as np\n",
    "import seaborn as sns\n",
    "import matplotlib.pyplot as plt\n",
    "import plotly.express as px\n",
    "from sklearn.metrics import mean_absolute_error\n",
    "from sklearn.metrics import make_scorer\n",
    "from sklearn.preprocessing import StandardScaler\n",
    "from sklearn.model_selection import KFold\n",
    "from sklearn.model_selection import cross_val_score\n",
    "from sklearn.tree import DecisionTreeRegressor\n",
    "from sklearn.linear_model import LinearRegression\n",
    "from sklearn.ensemble import RandomForestRegressor\n",
    "from sklearn.dummy import DummyRegressor"
   ]
  },
  {
   "cell_type": "code",
   "execution_count": 2,
   "metadata": {},
   "outputs": [],
   "source": [
    "# Read the Files\n",
    "df_train = pd.read_csv('/datasets/gold_recovery_train.csv', index_col='date', parse_dates=True)\n",
    "df_test = pd.read_csv('/datasets/gold_recovery_test.csv', index_col='date', parse_dates=True)\n",
    "df_full = pd.read_csv('/datasets/gold_recovery_full.csv', index_col='date', parse_dates=True)"
   ]
  },
  {
   "cell_type": "code",
   "execution_count": 3,
   "metadata": {},
   "outputs": [
    {
     "name": "stdout",
     "output_type": "stream",
     "text": [
      "<class 'pandas.core.frame.DataFrame'>\n",
      "DatetimeIndex: 16860 entries, 2016-01-15 00:00:00 to 2018-08-18 10:59:59\n",
      "Data columns (total 86 columns):\n",
      " #   Column                                              Non-Null Count  Dtype  \n",
      "---  ------                                              --------------  -----  \n",
      " 0   final.output.concentrate_ag                         16788 non-null  float64\n",
      " 1   final.output.concentrate_pb                         16788 non-null  float64\n",
      " 2   final.output.concentrate_sol                        16490 non-null  float64\n",
      " 3   final.output.concentrate_au                         16789 non-null  float64\n",
      " 4   final.output.recovery                               15339 non-null  float64\n",
      " 5   final.output.tail_ag                                16794 non-null  float64\n",
      " 6   final.output.tail_pb                                16677 non-null  float64\n",
      " 7   final.output.tail_sol                               16715 non-null  float64\n",
      " 8   final.output.tail_au                                16794 non-null  float64\n",
      " 9   primary_cleaner.input.sulfate                       15553 non-null  float64\n",
      " 10  primary_cleaner.input.depressant                    15598 non-null  float64\n",
      " 11  primary_cleaner.input.feed_size                     16860 non-null  float64\n",
      " 12  primary_cleaner.input.xanthate                      15875 non-null  float64\n",
      " 13  primary_cleaner.output.concentrate_ag               16778 non-null  float64\n",
      " 14  primary_cleaner.output.concentrate_pb               16502 non-null  float64\n",
      " 15  primary_cleaner.output.concentrate_sol              16224 non-null  float64\n",
      " 16  primary_cleaner.output.concentrate_au               16778 non-null  float64\n",
      " 17  primary_cleaner.output.tail_ag                      16777 non-null  float64\n",
      " 18  primary_cleaner.output.tail_pb                      16761 non-null  float64\n",
      " 19  primary_cleaner.output.tail_sol                     16579 non-null  float64\n",
      " 20  primary_cleaner.output.tail_au                      16777 non-null  float64\n",
      " 21  primary_cleaner.state.floatbank8_a_air              16820 non-null  float64\n",
      " 22  primary_cleaner.state.floatbank8_a_level            16827 non-null  float64\n",
      " 23  primary_cleaner.state.floatbank8_b_air              16820 non-null  float64\n",
      " 24  primary_cleaner.state.floatbank8_b_level            16833 non-null  float64\n",
      " 25  primary_cleaner.state.floatbank8_c_air              16822 non-null  float64\n",
      " 26  primary_cleaner.state.floatbank8_c_level            16833 non-null  float64\n",
      " 27  primary_cleaner.state.floatbank8_d_air              16821 non-null  float64\n",
      " 28  primary_cleaner.state.floatbank8_d_level            16833 non-null  float64\n",
      " 29  rougher.calculation.sulfate_to_au_concentrate       16833 non-null  float64\n",
      " 30  rougher.calculation.floatbank10_sulfate_to_au_feed  16833 non-null  float64\n",
      " 31  rougher.calculation.floatbank11_sulfate_to_au_feed  16833 non-null  float64\n",
      " 32  rougher.calculation.au_pb_ratio                     15618 non-null  float64\n",
      " 33  rougher.input.feed_ag                               16778 non-null  float64\n",
      " 34  rougher.input.feed_pb                               16632 non-null  float64\n",
      " 35  rougher.input.feed_rate                             16347 non-null  float64\n",
      " 36  rougher.input.feed_size                             16443 non-null  float64\n",
      " 37  rougher.input.feed_sol                              16568 non-null  float64\n",
      " 38  rougher.input.feed_au                               16777 non-null  float64\n",
      " 39  rougher.input.floatbank10_sulfate                   15816 non-null  float64\n",
      " 40  rougher.input.floatbank10_xanthate                  16514 non-null  float64\n",
      " 41  rougher.input.floatbank11_sulfate                   16237 non-null  float64\n",
      " 42  rougher.input.floatbank11_xanthate                  14956 non-null  float64\n",
      " 43  rougher.output.concentrate_ag                       16778 non-null  float64\n",
      " 44  rougher.output.concentrate_pb                       16778 non-null  float64\n",
      " 45  rougher.output.concentrate_sol                      16698 non-null  float64\n",
      " 46  rougher.output.concentrate_au                       16778 non-null  float64\n",
      " 47  rougher.output.recovery                             14287 non-null  float64\n",
      " 48  rougher.output.tail_ag                              14610 non-null  float64\n",
      " 49  rougher.output.tail_pb                              16778 non-null  float64\n",
      " 50  rougher.output.tail_sol                             14611 non-null  float64\n",
      " 51  rougher.output.tail_au                              14611 non-null  float64\n",
      " 52  rougher.state.floatbank10_a_air                     16807 non-null  float64\n",
      " 53  rougher.state.floatbank10_a_level                   16807 non-null  float64\n",
      " 54  rougher.state.floatbank10_b_air                     16807 non-null  float64\n",
      " 55  rougher.state.floatbank10_b_level                   16807 non-null  float64\n",
      " 56  rougher.state.floatbank10_c_air                     16807 non-null  float64\n",
      " 57  rougher.state.floatbank10_c_level                   16814 non-null  float64\n",
      " 58  rougher.state.floatbank10_d_air                     16802 non-null  float64\n",
      " 59  rougher.state.floatbank10_d_level                   16809 non-null  float64\n",
      " 60  rougher.state.floatbank10_e_air                     16257 non-null  float64\n",
      " 61  rougher.state.floatbank10_e_level                   16809 non-null  float64\n",
      " 62  rougher.state.floatbank10_f_air                     16802 non-null  float64\n",
      " 63  rougher.state.floatbank10_f_level                   16802 non-null  float64\n",
      " 64  secondary_cleaner.output.tail_ag                    16776 non-null  float64\n",
      " 65  secondary_cleaner.output.tail_pb                    16764 non-null  float64\n",
      " 66  secondary_cleaner.output.tail_sol                   14874 non-null  float64\n",
      " 67  secondary_cleaner.output.tail_au                    16778 non-null  float64\n",
      " 68  secondary_cleaner.state.floatbank2_a_air            16497 non-null  float64\n",
      " 69  secondary_cleaner.state.floatbank2_a_level          16751 non-null  float64\n",
      " 70  secondary_cleaner.state.floatbank2_b_air            16705 non-null  float64\n",
      " 71  secondary_cleaner.state.floatbank2_b_level          16748 non-null  float64\n",
      " 72  secondary_cleaner.state.floatbank3_a_air            16763 non-null  float64\n",
      " 73  secondary_cleaner.state.floatbank3_a_level          16747 non-null  float64\n",
      " 74  secondary_cleaner.state.floatbank3_b_air            16752 non-null  float64\n",
      " 75  secondary_cleaner.state.floatbank3_b_level          16750 non-null  float64\n",
      " 76  secondary_cleaner.state.floatbank4_a_air            16731 non-null  float64\n",
      " 77  secondary_cleaner.state.floatbank4_a_level          16747 non-null  float64\n",
      " 78  secondary_cleaner.state.floatbank4_b_air            16768 non-null  float64\n",
      " 79  secondary_cleaner.state.floatbank4_b_level          16767 non-null  float64\n",
      " 80  secondary_cleaner.state.floatbank5_a_air            16775 non-null  float64\n",
      " 81  secondary_cleaner.state.floatbank5_a_level          16775 non-null  float64\n",
      " 82  secondary_cleaner.state.floatbank5_b_air            16775 non-null  float64\n",
      " 83  secondary_cleaner.state.floatbank5_b_level          16776 non-null  float64\n",
      " 84  secondary_cleaner.state.floatbank6_a_air            16757 non-null  float64\n",
      " 85  secondary_cleaner.state.floatbank6_a_level          16775 non-null  float64\n",
      "dtypes: float64(86)\n",
      "memory usage: 11.2 MB\n"
     ]
    },
    {
     "data": {
      "text/plain": [
       "(16860, 86)"
      ]
     },
     "metadata": {},
     "output_type": "display_data"
    },
    {
     "data": {
      "text/html": [
       "<div>\n",
       "<style scoped>\n",
       "    .dataframe tbody tr th:only-of-type {\n",
       "        vertical-align: middle;\n",
       "    }\n",
       "\n",
       "    .dataframe tbody tr th {\n",
       "        vertical-align: top;\n",
       "    }\n",
       "\n",
       "    .dataframe thead th {\n",
       "        text-align: right;\n",
       "    }\n",
       "</style>\n",
       "<table border=\"1\" class=\"dataframe\">\n",
       "  <thead>\n",
       "    <tr style=\"text-align: right;\">\n",
       "      <th></th>\n",
       "      <th>final.output.concentrate_ag</th>\n",
       "      <th>final.output.concentrate_pb</th>\n",
       "      <th>final.output.concentrate_sol</th>\n",
       "      <th>final.output.concentrate_au</th>\n",
       "      <th>final.output.recovery</th>\n",
       "      <th>final.output.tail_ag</th>\n",
       "      <th>final.output.tail_pb</th>\n",
       "      <th>final.output.tail_sol</th>\n",
       "      <th>final.output.tail_au</th>\n",
       "      <th>primary_cleaner.input.sulfate</th>\n",
       "      <th>...</th>\n",
       "      <th>secondary_cleaner.state.floatbank4_a_air</th>\n",
       "      <th>secondary_cleaner.state.floatbank4_a_level</th>\n",
       "      <th>secondary_cleaner.state.floatbank4_b_air</th>\n",
       "      <th>secondary_cleaner.state.floatbank4_b_level</th>\n",
       "      <th>secondary_cleaner.state.floatbank5_a_air</th>\n",
       "      <th>secondary_cleaner.state.floatbank5_a_level</th>\n",
       "      <th>secondary_cleaner.state.floatbank5_b_air</th>\n",
       "      <th>secondary_cleaner.state.floatbank5_b_level</th>\n",
       "      <th>secondary_cleaner.state.floatbank6_a_air</th>\n",
       "      <th>secondary_cleaner.state.floatbank6_a_level</th>\n",
       "    </tr>\n",
       "  </thead>\n",
       "  <tbody>\n",
       "    <tr>\n",
       "      <th>count</th>\n",
       "      <td>16788.000000</td>\n",
       "      <td>16788.000000</td>\n",
       "      <td>16490.000000</td>\n",
       "      <td>16789.000000</td>\n",
       "      <td>15339.000000</td>\n",
       "      <td>16794.000000</td>\n",
       "      <td>16677.000000</td>\n",
       "      <td>16715.000000</td>\n",
       "      <td>16794.000000</td>\n",
       "      <td>15553.000000</td>\n",
       "      <td>...</td>\n",
       "      <td>16731.000000</td>\n",
       "      <td>16747.000000</td>\n",
       "      <td>16768.000000</td>\n",
       "      <td>16767.000000</td>\n",
       "      <td>16775.000000</td>\n",
       "      <td>16775.000000</td>\n",
       "      <td>16775.000000</td>\n",
       "      <td>16776.000000</td>\n",
       "      <td>16757.000000</td>\n",
       "      <td>16775.000000</td>\n",
       "    </tr>\n",
       "    <tr>\n",
       "      <th>mean</th>\n",
       "      <td>4.716907</td>\n",
       "      <td>9.113559</td>\n",
       "      <td>8.301123</td>\n",
       "      <td>39.467217</td>\n",
       "      <td>67.213166</td>\n",
       "      <td>8.757048</td>\n",
       "      <td>2.360327</td>\n",
       "      <td>9.303932</td>\n",
       "      <td>2.687512</td>\n",
       "      <td>129.479789</td>\n",
       "      <td>...</td>\n",
       "      <td>19.101874</td>\n",
       "      <td>-494.164481</td>\n",
       "      <td>14.778164</td>\n",
       "      <td>-476.600082</td>\n",
       "      <td>15.779488</td>\n",
       "      <td>-500.230146</td>\n",
       "      <td>12.377241</td>\n",
       "      <td>-498.956257</td>\n",
       "      <td>18.429208</td>\n",
       "      <td>-521.801826</td>\n",
       "    </tr>\n",
       "    <tr>\n",
       "      <th>std</th>\n",
       "      <td>2.096718</td>\n",
       "      <td>3.389495</td>\n",
       "      <td>3.825760</td>\n",
       "      <td>13.917227</td>\n",
       "      <td>11.960446</td>\n",
       "      <td>3.634103</td>\n",
       "      <td>1.215576</td>\n",
       "      <td>4.263208</td>\n",
       "      <td>1.272757</td>\n",
       "      <td>45.386931</td>\n",
       "      <td>...</td>\n",
       "      <td>6.883163</td>\n",
       "      <td>84.803334</td>\n",
       "      <td>5.999149</td>\n",
       "      <td>89.381172</td>\n",
       "      <td>6.834703</td>\n",
       "      <td>76.983542</td>\n",
       "      <td>6.219989</td>\n",
       "      <td>82.146207</td>\n",
       "      <td>6.958294</td>\n",
       "      <td>77.170888</td>\n",
       "    </tr>\n",
       "    <tr>\n",
       "      <th>min</th>\n",
       "      <td>0.000000</td>\n",
       "      <td>0.000000</td>\n",
       "      <td>0.000000</td>\n",
       "      <td>0.000000</td>\n",
       "      <td>0.000000</td>\n",
       "      <td>0.000000</td>\n",
       "      <td>0.000000</td>\n",
       "      <td>0.000000</td>\n",
       "      <td>0.000000</td>\n",
       "      <td>0.000003</td>\n",
       "      <td>...</td>\n",
       "      <td>0.000000</td>\n",
       "      <td>-799.920713</td>\n",
       "      <td>0.000000</td>\n",
       "      <td>-800.021781</td>\n",
       "      <td>-0.423260</td>\n",
       "      <td>-799.741097</td>\n",
       "      <td>0.427084</td>\n",
       "      <td>-800.258209</td>\n",
       "      <td>0.024270</td>\n",
       "      <td>-810.473526</td>\n",
       "    </tr>\n",
       "    <tr>\n",
       "      <th>25%</th>\n",
       "      <td>3.971262</td>\n",
       "      <td>8.825748</td>\n",
       "      <td>6.939185</td>\n",
       "      <td>42.055722</td>\n",
       "      <td>62.625685</td>\n",
       "      <td>7.610544</td>\n",
       "      <td>1.641604</td>\n",
       "      <td>7.870275</td>\n",
       "      <td>2.172953</td>\n",
       "      <td>103.064021</td>\n",
       "      <td>...</td>\n",
       "      <td>14.508299</td>\n",
       "      <td>-500.837689</td>\n",
       "      <td>10.741388</td>\n",
       "      <td>-500.269182</td>\n",
       "      <td>10.977713</td>\n",
       "      <td>-500.530594</td>\n",
       "      <td>8.925586</td>\n",
       "      <td>-500.147603</td>\n",
       "      <td>13.977626</td>\n",
       "      <td>-501.080595</td>\n",
       "    </tr>\n",
       "    <tr>\n",
       "      <th>50%</th>\n",
       "      <td>4.869346</td>\n",
       "      <td>10.065316</td>\n",
       "      <td>8.557228</td>\n",
       "      <td>44.498874</td>\n",
       "      <td>67.644601</td>\n",
       "      <td>9.220393</td>\n",
       "      <td>2.453690</td>\n",
       "      <td>10.021968</td>\n",
       "      <td>2.781132</td>\n",
       "      <td>131.783108</td>\n",
       "      <td>...</td>\n",
       "      <td>19.986958</td>\n",
       "      <td>-499.778379</td>\n",
       "      <td>14.943933</td>\n",
       "      <td>-499.593286</td>\n",
       "      <td>15.998340</td>\n",
       "      <td>-499.784231</td>\n",
       "      <td>11.092839</td>\n",
       "      <td>-499.933330</td>\n",
       "      <td>18.034960</td>\n",
       "      <td>-500.109898</td>\n",
       "    </tr>\n",
       "    <tr>\n",
       "      <th>75%</th>\n",
       "      <td>5.821176</td>\n",
       "      <td>11.054809</td>\n",
       "      <td>10.289741</td>\n",
       "      <td>45.976222</td>\n",
       "      <td>72.824595</td>\n",
       "      <td>10.971110</td>\n",
       "      <td>3.192404</td>\n",
       "      <td>11.648573</td>\n",
       "      <td>3.416936</td>\n",
       "      <td>159.539839</td>\n",
       "      <td>...</td>\n",
       "      <td>24.983961</td>\n",
       "      <td>-494.648754</td>\n",
       "      <td>20.023751</td>\n",
       "      <td>-400.137948</td>\n",
       "      <td>20.000701</td>\n",
       "      <td>-496.531781</td>\n",
       "      <td>15.979467</td>\n",
       "      <td>-498.418000</td>\n",
       "      <td>24.984992</td>\n",
       "      <td>-499.565540</td>\n",
       "    </tr>\n",
       "    <tr>\n",
       "      <th>max</th>\n",
       "      <td>16.001945</td>\n",
       "      <td>17.031899</td>\n",
       "      <td>18.124851</td>\n",
       "      <td>53.611374</td>\n",
       "      <td>100.000000</td>\n",
       "      <td>19.552149</td>\n",
       "      <td>6.086532</td>\n",
       "      <td>22.317730</td>\n",
       "      <td>9.789625</td>\n",
       "      <td>251.999948</td>\n",
       "      <td>...</td>\n",
       "      <td>60.000000</td>\n",
       "      <td>-127.692333</td>\n",
       "      <td>28.003828</td>\n",
       "      <td>-71.472472</td>\n",
       "      <td>63.116298</td>\n",
       "      <td>-275.073125</td>\n",
       "      <td>39.846228</td>\n",
       "      <td>-120.190931</td>\n",
       "      <td>54.876806</td>\n",
       "      <td>-39.784927</td>\n",
       "    </tr>\n",
       "  </tbody>\n",
       "</table>\n",
       "<p>8 rows × 86 columns</p>\n",
       "</div>"
      ],
      "text/plain": [
       "       final.output.concentrate_ag  final.output.concentrate_pb  \\\n",
       "count                 16788.000000                 16788.000000   \n",
       "mean                      4.716907                     9.113559   \n",
       "std                       2.096718                     3.389495   \n",
       "min                       0.000000                     0.000000   \n",
       "25%                       3.971262                     8.825748   \n",
       "50%                       4.869346                    10.065316   \n",
       "75%                       5.821176                    11.054809   \n",
       "max                      16.001945                    17.031899   \n",
       "\n",
       "       final.output.concentrate_sol  final.output.concentrate_au  \\\n",
       "count                  16490.000000                 16789.000000   \n",
       "mean                       8.301123                    39.467217   \n",
       "std                        3.825760                    13.917227   \n",
       "min                        0.000000                     0.000000   \n",
       "25%                        6.939185                    42.055722   \n",
       "50%                        8.557228                    44.498874   \n",
       "75%                       10.289741                    45.976222   \n",
       "max                       18.124851                    53.611374   \n",
       "\n",
       "       final.output.recovery  final.output.tail_ag  final.output.tail_pb  \\\n",
       "count           15339.000000          16794.000000          16677.000000   \n",
       "mean               67.213166              8.757048              2.360327   \n",
       "std                11.960446              3.634103              1.215576   \n",
       "min                 0.000000              0.000000              0.000000   \n",
       "25%                62.625685              7.610544              1.641604   \n",
       "50%                67.644601              9.220393              2.453690   \n",
       "75%                72.824595             10.971110              3.192404   \n",
       "max               100.000000             19.552149              6.086532   \n",
       "\n",
       "       final.output.tail_sol  final.output.tail_au  \\\n",
       "count           16715.000000          16794.000000   \n",
       "mean                9.303932              2.687512   \n",
       "std                 4.263208              1.272757   \n",
       "min                 0.000000              0.000000   \n",
       "25%                 7.870275              2.172953   \n",
       "50%                10.021968              2.781132   \n",
       "75%                11.648573              3.416936   \n",
       "max                22.317730              9.789625   \n",
       "\n",
       "       primary_cleaner.input.sulfate  ...  \\\n",
       "count                   15553.000000  ...   \n",
       "mean                      129.479789  ...   \n",
       "std                        45.386931  ...   \n",
       "min                         0.000003  ...   \n",
       "25%                       103.064021  ...   \n",
       "50%                       131.783108  ...   \n",
       "75%                       159.539839  ...   \n",
       "max                       251.999948  ...   \n",
       "\n",
       "       secondary_cleaner.state.floatbank4_a_air  \\\n",
       "count                              16731.000000   \n",
       "mean                                  19.101874   \n",
       "std                                    6.883163   \n",
       "min                                    0.000000   \n",
       "25%                                   14.508299   \n",
       "50%                                   19.986958   \n",
       "75%                                   24.983961   \n",
       "max                                   60.000000   \n",
       "\n",
       "       secondary_cleaner.state.floatbank4_a_level  \\\n",
       "count                                16747.000000   \n",
       "mean                                  -494.164481   \n",
       "std                                     84.803334   \n",
       "min                                   -799.920713   \n",
       "25%                                   -500.837689   \n",
       "50%                                   -499.778379   \n",
       "75%                                   -494.648754   \n",
       "max                                   -127.692333   \n",
       "\n",
       "       secondary_cleaner.state.floatbank4_b_air  \\\n",
       "count                              16768.000000   \n",
       "mean                                  14.778164   \n",
       "std                                    5.999149   \n",
       "min                                    0.000000   \n",
       "25%                                   10.741388   \n",
       "50%                                   14.943933   \n",
       "75%                                   20.023751   \n",
       "max                                   28.003828   \n",
       "\n",
       "       secondary_cleaner.state.floatbank4_b_level  \\\n",
       "count                                16767.000000   \n",
       "mean                                  -476.600082   \n",
       "std                                     89.381172   \n",
       "min                                   -800.021781   \n",
       "25%                                   -500.269182   \n",
       "50%                                   -499.593286   \n",
       "75%                                   -400.137948   \n",
       "max                                    -71.472472   \n",
       "\n",
       "       secondary_cleaner.state.floatbank5_a_air  \\\n",
       "count                              16775.000000   \n",
       "mean                                  15.779488   \n",
       "std                                    6.834703   \n",
       "min                                   -0.423260   \n",
       "25%                                   10.977713   \n",
       "50%                                   15.998340   \n",
       "75%                                   20.000701   \n",
       "max                                   63.116298   \n",
       "\n",
       "       secondary_cleaner.state.floatbank5_a_level  \\\n",
       "count                                16775.000000   \n",
       "mean                                  -500.230146   \n",
       "std                                     76.983542   \n",
       "min                                   -799.741097   \n",
       "25%                                   -500.530594   \n",
       "50%                                   -499.784231   \n",
       "75%                                   -496.531781   \n",
       "max                                   -275.073125   \n",
       "\n",
       "       secondary_cleaner.state.floatbank5_b_air  \\\n",
       "count                              16775.000000   \n",
       "mean                                  12.377241   \n",
       "std                                    6.219989   \n",
       "min                                    0.427084   \n",
       "25%                                    8.925586   \n",
       "50%                                   11.092839   \n",
       "75%                                   15.979467   \n",
       "max                                   39.846228   \n",
       "\n",
       "       secondary_cleaner.state.floatbank5_b_level  \\\n",
       "count                                16776.000000   \n",
       "mean                                  -498.956257   \n",
       "std                                     82.146207   \n",
       "min                                   -800.258209   \n",
       "25%                                   -500.147603   \n",
       "50%                                   -499.933330   \n",
       "75%                                   -498.418000   \n",
       "max                                   -120.190931   \n",
       "\n",
       "       secondary_cleaner.state.floatbank6_a_air  \\\n",
       "count                              16757.000000   \n",
       "mean                                  18.429208   \n",
       "std                                    6.958294   \n",
       "min                                    0.024270   \n",
       "25%                                   13.977626   \n",
       "50%                                   18.034960   \n",
       "75%                                   24.984992   \n",
       "max                                   54.876806   \n",
       "\n",
       "       secondary_cleaner.state.floatbank6_a_level  \n",
       "count                                16775.000000  \n",
       "mean                                  -521.801826  \n",
       "std                                     77.170888  \n",
       "min                                   -810.473526  \n",
       "25%                                   -501.080595  \n",
       "50%                                   -500.109898  \n",
       "75%                                   -499.565540  \n",
       "max                                    -39.784927  \n",
       "\n",
       "[8 rows x 86 columns]"
      ]
     },
     "metadata": {},
     "output_type": "display_data"
    }
   ],
   "source": [
    "# Review Data for df_train\n",
    "df_train.info()\n",
    "display(df_train.shape)\n",
    "display(df_train.describe())"
   ]
  },
  {
   "cell_type": "code",
   "execution_count": 4,
   "metadata": {},
   "outputs": [
    {
     "data": {
      "text/html": [
       "<div>\n",
       "<style scoped>\n",
       "    .dataframe tbody tr th:only-of-type {\n",
       "        vertical-align: middle;\n",
       "    }\n",
       "\n",
       "    .dataframe tbody tr th {\n",
       "        vertical-align: top;\n",
       "    }\n",
       "\n",
       "    .dataframe thead th {\n",
       "        text-align: right;\n",
       "    }\n",
       "</style>\n",
       "<table border=\"1\" class=\"dataframe\">\n",
       "  <thead>\n",
       "    <tr style=\"text-align: right;\">\n",
       "      <th></th>\n",
       "      <th>final.output.concentrate_ag</th>\n",
       "      <th>final.output.concentrate_pb</th>\n",
       "      <th>final.output.concentrate_sol</th>\n",
       "      <th>final.output.concentrate_au</th>\n",
       "      <th>final.output.recovery</th>\n",
       "      <th>final.output.tail_ag</th>\n",
       "      <th>final.output.tail_pb</th>\n",
       "      <th>final.output.tail_sol</th>\n",
       "      <th>final.output.tail_au</th>\n",
       "      <th>primary_cleaner.input.sulfate</th>\n",
       "      <th>...</th>\n",
       "      <th>secondary_cleaner.state.floatbank4_a_air</th>\n",
       "      <th>secondary_cleaner.state.floatbank4_a_level</th>\n",
       "      <th>secondary_cleaner.state.floatbank4_b_air</th>\n",
       "      <th>secondary_cleaner.state.floatbank4_b_level</th>\n",
       "      <th>secondary_cleaner.state.floatbank5_a_air</th>\n",
       "      <th>secondary_cleaner.state.floatbank5_a_level</th>\n",
       "      <th>secondary_cleaner.state.floatbank5_b_air</th>\n",
       "      <th>secondary_cleaner.state.floatbank5_b_level</th>\n",
       "      <th>secondary_cleaner.state.floatbank6_a_air</th>\n",
       "      <th>secondary_cleaner.state.floatbank6_a_level</th>\n",
       "    </tr>\n",
       "    <tr>\n",
       "      <th>date</th>\n",
       "      <th></th>\n",
       "      <th></th>\n",
       "      <th></th>\n",
       "      <th></th>\n",
       "      <th></th>\n",
       "      <th></th>\n",
       "      <th></th>\n",
       "      <th></th>\n",
       "      <th></th>\n",
       "      <th></th>\n",
       "      <th></th>\n",
       "      <th></th>\n",
       "      <th></th>\n",
       "      <th></th>\n",
       "      <th></th>\n",
       "      <th></th>\n",
       "      <th></th>\n",
       "      <th></th>\n",
       "      <th></th>\n",
       "      <th></th>\n",
       "      <th></th>\n",
       "    </tr>\n",
       "  </thead>\n",
       "  <tbody>\n",
       "    <tr>\n",
       "      <th>2016-01-15 00:00:00</th>\n",
       "      <td>6.055403</td>\n",
       "      <td>9.889648</td>\n",
       "      <td>5.507324</td>\n",
       "      <td>42.192020</td>\n",
       "      <td>70.541216</td>\n",
       "      <td>10.411962</td>\n",
       "      <td>0.895447</td>\n",
       "      <td>16.904297</td>\n",
       "      <td>2.143149</td>\n",
       "      <td>127.092003</td>\n",
       "      <td>...</td>\n",
       "      <td>14.016835</td>\n",
       "      <td>-502.488007</td>\n",
       "      <td>12.099931</td>\n",
       "      <td>-504.715942</td>\n",
       "      <td>9.925633</td>\n",
       "      <td>-498.310211</td>\n",
       "      <td>8.079666</td>\n",
       "      <td>-500.470978</td>\n",
       "      <td>14.151341</td>\n",
       "      <td>-605.841980</td>\n",
       "    </tr>\n",
       "    <tr>\n",
       "      <th>2016-01-15 01:00:00</th>\n",
       "      <td>6.029369</td>\n",
       "      <td>9.968944</td>\n",
       "      <td>5.257781</td>\n",
       "      <td>42.701629</td>\n",
       "      <td>69.266198</td>\n",
       "      <td>10.462676</td>\n",
       "      <td>0.927452</td>\n",
       "      <td>16.634514</td>\n",
       "      <td>2.224930</td>\n",
       "      <td>125.629232</td>\n",
       "      <td>...</td>\n",
       "      <td>13.992281</td>\n",
       "      <td>-505.503262</td>\n",
       "      <td>11.950531</td>\n",
       "      <td>-501.331529</td>\n",
       "      <td>10.039245</td>\n",
       "      <td>-500.169983</td>\n",
       "      <td>7.984757</td>\n",
       "      <td>-500.582168</td>\n",
       "      <td>13.998353</td>\n",
       "      <td>-599.787184</td>\n",
       "    </tr>\n",
       "    <tr>\n",
       "      <th>2016-01-15 02:00:00</th>\n",
       "      <td>6.055926</td>\n",
       "      <td>10.213995</td>\n",
       "      <td>5.383759</td>\n",
       "      <td>42.657501</td>\n",
       "      <td>68.116445</td>\n",
       "      <td>10.507046</td>\n",
       "      <td>0.953716</td>\n",
       "      <td>16.208849</td>\n",
       "      <td>2.257889</td>\n",
       "      <td>123.819808</td>\n",
       "      <td>...</td>\n",
       "      <td>14.015015</td>\n",
       "      <td>-502.520901</td>\n",
       "      <td>11.912783</td>\n",
       "      <td>-501.133383</td>\n",
       "      <td>10.070913</td>\n",
       "      <td>-500.129135</td>\n",
       "      <td>8.013877</td>\n",
       "      <td>-500.517572</td>\n",
       "      <td>14.028663</td>\n",
       "      <td>-601.427363</td>\n",
       "    </tr>\n",
       "    <tr>\n",
       "      <th>2016-01-15 03:00:00</th>\n",
       "      <td>6.047977</td>\n",
       "      <td>9.977019</td>\n",
       "      <td>4.858634</td>\n",
       "      <td>42.689819</td>\n",
       "      <td>68.347543</td>\n",
       "      <td>10.422762</td>\n",
       "      <td>0.883763</td>\n",
       "      <td>16.532835</td>\n",
       "      <td>2.146849</td>\n",
       "      <td>122.270188</td>\n",
       "      <td>...</td>\n",
       "      <td>14.036510</td>\n",
       "      <td>-500.857308</td>\n",
       "      <td>11.999550</td>\n",
       "      <td>-501.193686</td>\n",
       "      <td>9.970366</td>\n",
       "      <td>-499.201640</td>\n",
       "      <td>7.977324</td>\n",
       "      <td>-500.255908</td>\n",
       "      <td>14.005551</td>\n",
       "      <td>-599.996129</td>\n",
       "    </tr>\n",
       "    <tr>\n",
       "      <th>2016-01-15 04:00:00</th>\n",
       "      <td>6.148599</td>\n",
       "      <td>10.142511</td>\n",
       "      <td>4.939416</td>\n",
       "      <td>42.774141</td>\n",
       "      <td>66.927016</td>\n",
       "      <td>10.360302</td>\n",
       "      <td>0.792826</td>\n",
       "      <td>16.525686</td>\n",
       "      <td>2.055292</td>\n",
       "      <td>117.988169</td>\n",
       "      <td>...</td>\n",
       "      <td>14.027298</td>\n",
       "      <td>-499.838632</td>\n",
       "      <td>11.953070</td>\n",
       "      <td>-501.053894</td>\n",
       "      <td>9.925709</td>\n",
       "      <td>-501.686727</td>\n",
       "      <td>7.894242</td>\n",
       "      <td>-500.356035</td>\n",
       "      <td>13.996647</td>\n",
       "      <td>-601.496691</td>\n",
       "    </tr>\n",
       "    <tr>\n",
       "      <th>2016-01-15 05:00:00</th>\n",
       "      <td>6.482968</td>\n",
       "      <td>10.049416</td>\n",
       "      <td>5.480257</td>\n",
       "      <td>41.633678</td>\n",
       "      <td>69.465816</td>\n",
       "      <td>10.182708</td>\n",
       "      <td>0.664118</td>\n",
       "      <td>16.999638</td>\n",
       "      <td>1.918586</td>\n",
       "      <td>115.581252</td>\n",
       "      <td>...</td>\n",
       "      <td>13.938497</td>\n",
       "      <td>-500.970168</td>\n",
       "      <td>11.883350</td>\n",
       "      <td>-500.395298</td>\n",
       "      <td>10.054147</td>\n",
       "      <td>-496.374715</td>\n",
       "      <td>7.965083</td>\n",
       "      <td>-499.364752</td>\n",
       "      <td>14.017067</td>\n",
       "      <td>-599.707915</td>\n",
       "    </tr>\n",
       "    <tr>\n",
       "      <th>2016-01-15 06:00:00</th>\n",
       "      <td>6.533849</td>\n",
       "      <td>10.058141</td>\n",
       "      <td>4.569100</td>\n",
       "      <td>41.995316</td>\n",
       "      <td>69.300835</td>\n",
       "      <td>10.304598</td>\n",
       "      <td>0.807342</td>\n",
       "      <td>16.723575</td>\n",
       "      <td>2.058913</td>\n",
       "      <td>117.322323</td>\n",
       "      <td>...</td>\n",
       "      <td>14.046819</td>\n",
       "      <td>-500.971133</td>\n",
       "      <td>12.091543</td>\n",
       "      <td>-500.501426</td>\n",
       "      <td>10.003247</td>\n",
       "      <td>-497.083180</td>\n",
       "      <td>8.010890</td>\n",
       "      <td>-500.002423</td>\n",
       "      <td>14.029649</td>\n",
       "      <td>-600.905470</td>\n",
       "    </tr>\n",
       "    <tr>\n",
       "      <th>2016-01-15 07:00:00</th>\n",
       "      <td>6.130823</td>\n",
       "      <td>9.935481</td>\n",
       "      <td>4.389813</td>\n",
       "      <td>42.452727</td>\n",
       "      <td>70.230976</td>\n",
       "      <td>10.443288</td>\n",
       "      <td>0.949346</td>\n",
       "      <td>16.689959</td>\n",
       "      <td>2.143437</td>\n",
       "      <td>124.592960</td>\n",
       "      <td>...</td>\n",
       "      <td>13.974691</td>\n",
       "      <td>-501.819696</td>\n",
       "      <td>12.101324</td>\n",
       "      <td>-500.583446</td>\n",
       "      <td>9.873169</td>\n",
       "      <td>-499.171928</td>\n",
       "      <td>7.993381</td>\n",
       "      <td>-499.794518</td>\n",
       "      <td>13.984498</td>\n",
       "      <td>-600.411070</td>\n",
       "    </tr>\n",
       "    <tr>\n",
       "      <th>2016-01-15 08:00:00</th>\n",
       "      <td>5.834140</td>\n",
       "      <td>10.071156</td>\n",
       "      <td>4.876389</td>\n",
       "      <td>43.404078</td>\n",
       "      <td>69.688595</td>\n",
       "      <td>10.420140</td>\n",
       "      <td>1.065453</td>\n",
       "      <td>17.201948</td>\n",
       "      <td>2.209881</td>\n",
       "      <td>131.781026</td>\n",
       "      <td>...</td>\n",
       "      <td>13.964030</td>\n",
       "      <td>-504.252450</td>\n",
       "      <td>12.060738</td>\n",
       "      <td>-501.174549</td>\n",
       "      <td>10.033838</td>\n",
       "      <td>-501.178133</td>\n",
       "      <td>7.881604</td>\n",
       "      <td>-499.729434</td>\n",
       "      <td>13.967135</td>\n",
       "      <td>-599.061188</td>\n",
       "    </tr>\n",
       "    <tr>\n",
       "      <th>2016-01-15 09:00:00</th>\n",
       "      <td>5.687063</td>\n",
       "      <td>9.980404</td>\n",
       "      <td>5.282514</td>\n",
       "      <td>43.235220</td>\n",
       "      <td>70.279619</td>\n",
       "      <td>10.487013</td>\n",
       "      <td>1.159805</td>\n",
       "      <td>17.483979</td>\n",
       "      <td>2.209593</td>\n",
       "      <td>138.120409</td>\n",
       "      <td>...</td>\n",
       "      <td>13.989632</td>\n",
       "      <td>-503.195299</td>\n",
       "      <td>12.052233</td>\n",
       "      <td>-500.928547</td>\n",
       "      <td>9.962574</td>\n",
       "      <td>-502.986357</td>\n",
       "      <td>7.979219</td>\n",
       "      <td>-500.146835</td>\n",
       "      <td>13.981614</td>\n",
       "      <td>-598.070855</td>\n",
       "    </tr>\n",
       "  </tbody>\n",
       "</table>\n",
       "<p>10 rows × 86 columns</p>\n",
       "</div>"
      ],
      "text/plain": [
       "                     final.output.concentrate_ag  final.output.concentrate_pb  \\\n",
       "date                                                                            \n",
       "2016-01-15 00:00:00                     6.055403                     9.889648   \n",
       "2016-01-15 01:00:00                     6.029369                     9.968944   \n",
       "2016-01-15 02:00:00                     6.055926                    10.213995   \n",
       "2016-01-15 03:00:00                     6.047977                     9.977019   \n",
       "2016-01-15 04:00:00                     6.148599                    10.142511   \n",
       "2016-01-15 05:00:00                     6.482968                    10.049416   \n",
       "2016-01-15 06:00:00                     6.533849                    10.058141   \n",
       "2016-01-15 07:00:00                     6.130823                     9.935481   \n",
       "2016-01-15 08:00:00                     5.834140                    10.071156   \n",
       "2016-01-15 09:00:00                     5.687063                     9.980404   \n",
       "\n",
       "                     final.output.concentrate_sol  \\\n",
       "date                                                \n",
       "2016-01-15 00:00:00                      5.507324   \n",
       "2016-01-15 01:00:00                      5.257781   \n",
       "2016-01-15 02:00:00                      5.383759   \n",
       "2016-01-15 03:00:00                      4.858634   \n",
       "2016-01-15 04:00:00                      4.939416   \n",
       "2016-01-15 05:00:00                      5.480257   \n",
       "2016-01-15 06:00:00                      4.569100   \n",
       "2016-01-15 07:00:00                      4.389813   \n",
       "2016-01-15 08:00:00                      4.876389   \n",
       "2016-01-15 09:00:00                      5.282514   \n",
       "\n",
       "                     final.output.concentrate_au  final.output.recovery  \\\n",
       "date                                                                      \n",
       "2016-01-15 00:00:00                    42.192020              70.541216   \n",
       "2016-01-15 01:00:00                    42.701629              69.266198   \n",
       "2016-01-15 02:00:00                    42.657501              68.116445   \n",
       "2016-01-15 03:00:00                    42.689819              68.347543   \n",
       "2016-01-15 04:00:00                    42.774141              66.927016   \n",
       "2016-01-15 05:00:00                    41.633678              69.465816   \n",
       "2016-01-15 06:00:00                    41.995316              69.300835   \n",
       "2016-01-15 07:00:00                    42.452727              70.230976   \n",
       "2016-01-15 08:00:00                    43.404078              69.688595   \n",
       "2016-01-15 09:00:00                    43.235220              70.279619   \n",
       "\n",
       "                     final.output.tail_ag  final.output.tail_pb  \\\n",
       "date                                                              \n",
       "2016-01-15 00:00:00             10.411962              0.895447   \n",
       "2016-01-15 01:00:00             10.462676              0.927452   \n",
       "2016-01-15 02:00:00             10.507046              0.953716   \n",
       "2016-01-15 03:00:00             10.422762              0.883763   \n",
       "2016-01-15 04:00:00             10.360302              0.792826   \n",
       "2016-01-15 05:00:00             10.182708              0.664118   \n",
       "2016-01-15 06:00:00             10.304598              0.807342   \n",
       "2016-01-15 07:00:00             10.443288              0.949346   \n",
       "2016-01-15 08:00:00             10.420140              1.065453   \n",
       "2016-01-15 09:00:00             10.487013              1.159805   \n",
       "\n",
       "                     final.output.tail_sol  final.output.tail_au  \\\n",
       "date                                                               \n",
       "2016-01-15 00:00:00              16.904297              2.143149   \n",
       "2016-01-15 01:00:00              16.634514              2.224930   \n",
       "2016-01-15 02:00:00              16.208849              2.257889   \n",
       "2016-01-15 03:00:00              16.532835              2.146849   \n",
       "2016-01-15 04:00:00              16.525686              2.055292   \n",
       "2016-01-15 05:00:00              16.999638              1.918586   \n",
       "2016-01-15 06:00:00              16.723575              2.058913   \n",
       "2016-01-15 07:00:00              16.689959              2.143437   \n",
       "2016-01-15 08:00:00              17.201948              2.209881   \n",
       "2016-01-15 09:00:00              17.483979              2.209593   \n",
       "\n",
       "                     primary_cleaner.input.sulfate  ...  \\\n",
       "date                                                ...   \n",
       "2016-01-15 00:00:00                     127.092003  ...   \n",
       "2016-01-15 01:00:00                     125.629232  ...   \n",
       "2016-01-15 02:00:00                     123.819808  ...   \n",
       "2016-01-15 03:00:00                     122.270188  ...   \n",
       "2016-01-15 04:00:00                     117.988169  ...   \n",
       "2016-01-15 05:00:00                     115.581252  ...   \n",
       "2016-01-15 06:00:00                     117.322323  ...   \n",
       "2016-01-15 07:00:00                     124.592960  ...   \n",
       "2016-01-15 08:00:00                     131.781026  ...   \n",
       "2016-01-15 09:00:00                     138.120409  ...   \n",
       "\n",
       "                     secondary_cleaner.state.floatbank4_a_air  \\\n",
       "date                                                            \n",
       "2016-01-15 00:00:00                                 14.016835   \n",
       "2016-01-15 01:00:00                                 13.992281   \n",
       "2016-01-15 02:00:00                                 14.015015   \n",
       "2016-01-15 03:00:00                                 14.036510   \n",
       "2016-01-15 04:00:00                                 14.027298   \n",
       "2016-01-15 05:00:00                                 13.938497   \n",
       "2016-01-15 06:00:00                                 14.046819   \n",
       "2016-01-15 07:00:00                                 13.974691   \n",
       "2016-01-15 08:00:00                                 13.964030   \n",
       "2016-01-15 09:00:00                                 13.989632   \n",
       "\n",
       "                     secondary_cleaner.state.floatbank4_a_level  \\\n",
       "date                                                              \n",
       "2016-01-15 00:00:00                                 -502.488007   \n",
       "2016-01-15 01:00:00                                 -505.503262   \n",
       "2016-01-15 02:00:00                                 -502.520901   \n",
       "2016-01-15 03:00:00                                 -500.857308   \n",
       "2016-01-15 04:00:00                                 -499.838632   \n",
       "2016-01-15 05:00:00                                 -500.970168   \n",
       "2016-01-15 06:00:00                                 -500.971133   \n",
       "2016-01-15 07:00:00                                 -501.819696   \n",
       "2016-01-15 08:00:00                                 -504.252450   \n",
       "2016-01-15 09:00:00                                 -503.195299   \n",
       "\n",
       "                     secondary_cleaner.state.floatbank4_b_air  \\\n",
       "date                                                            \n",
       "2016-01-15 00:00:00                                 12.099931   \n",
       "2016-01-15 01:00:00                                 11.950531   \n",
       "2016-01-15 02:00:00                                 11.912783   \n",
       "2016-01-15 03:00:00                                 11.999550   \n",
       "2016-01-15 04:00:00                                 11.953070   \n",
       "2016-01-15 05:00:00                                 11.883350   \n",
       "2016-01-15 06:00:00                                 12.091543   \n",
       "2016-01-15 07:00:00                                 12.101324   \n",
       "2016-01-15 08:00:00                                 12.060738   \n",
       "2016-01-15 09:00:00                                 12.052233   \n",
       "\n",
       "                     secondary_cleaner.state.floatbank4_b_level  \\\n",
       "date                                                              \n",
       "2016-01-15 00:00:00                                 -504.715942   \n",
       "2016-01-15 01:00:00                                 -501.331529   \n",
       "2016-01-15 02:00:00                                 -501.133383   \n",
       "2016-01-15 03:00:00                                 -501.193686   \n",
       "2016-01-15 04:00:00                                 -501.053894   \n",
       "2016-01-15 05:00:00                                 -500.395298   \n",
       "2016-01-15 06:00:00                                 -500.501426   \n",
       "2016-01-15 07:00:00                                 -500.583446   \n",
       "2016-01-15 08:00:00                                 -501.174549   \n",
       "2016-01-15 09:00:00                                 -500.928547   \n",
       "\n",
       "                     secondary_cleaner.state.floatbank5_a_air  \\\n",
       "date                                                            \n",
       "2016-01-15 00:00:00                                  9.925633   \n",
       "2016-01-15 01:00:00                                 10.039245   \n",
       "2016-01-15 02:00:00                                 10.070913   \n",
       "2016-01-15 03:00:00                                  9.970366   \n",
       "2016-01-15 04:00:00                                  9.925709   \n",
       "2016-01-15 05:00:00                                 10.054147   \n",
       "2016-01-15 06:00:00                                 10.003247   \n",
       "2016-01-15 07:00:00                                  9.873169   \n",
       "2016-01-15 08:00:00                                 10.033838   \n",
       "2016-01-15 09:00:00                                  9.962574   \n",
       "\n",
       "                     secondary_cleaner.state.floatbank5_a_level  \\\n",
       "date                                                              \n",
       "2016-01-15 00:00:00                                 -498.310211   \n",
       "2016-01-15 01:00:00                                 -500.169983   \n",
       "2016-01-15 02:00:00                                 -500.129135   \n",
       "2016-01-15 03:00:00                                 -499.201640   \n",
       "2016-01-15 04:00:00                                 -501.686727   \n",
       "2016-01-15 05:00:00                                 -496.374715   \n",
       "2016-01-15 06:00:00                                 -497.083180   \n",
       "2016-01-15 07:00:00                                 -499.171928   \n",
       "2016-01-15 08:00:00                                 -501.178133   \n",
       "2016-01-15 09:00:00                                 -502.986357   \n",
       "\n",
       "                     secondary_cleaner.state.floatbank5_b_air  \\\n",
       "date                                                            \n",
       "2016-01-15 00:00:00                                  8.079666   \n",
       "2016-01-15 01:00:00                                  7.984757   \n",
       "2016-01-15 02:00:00                                  8.013877   \n",
       "2016-01-15 03:00:00                                  7.977324   \n",
       "2016-01-15 04:00:00                                  7.894242   \n",
       "2016-01-15 05:00:00                                  7.965083   \n",
       "2016-01-15 06:00:00                                  8.010890   \n",
       "2016-01-15 07:00:00                                  7.993381   \n",
       "2016-01-15 08:00:00                                  7.881604   \n",
       "2016-01-15 09:00:00                                  7.979219   \n",
       "\n",
       "                     secondary_cleaner.state.floatbank5_b_level  \\\n",
       "date                                                              \n",
       "2016-01-15 00:00:00                                 -500.470978   \n",
       "2016-01-15 01:00:00                                 -500.582168   \n",
       "2016-01-15 02:00:00                                 -500.517572   \n",
       "2016-01-15 03:00:00                                 -500.255908   \n",
       "2016-01-15 04:00:00                                 -500.356035   \n",
       "2016-01-15 05:00:00                                 -499.364752   \n",
       "2016-01-15 06:00:00                                 -500.002423   \n",
       "2016-01-15 07:00:00                                 -499.794518   \n",
       "2016-01-15 08:00:00                                 -499.729434   \n",
       "2016-01-15 09:00:00                                 -500.146835   \n",
       "\n",
       "                     secondary_cleaner.state.floatbank6_a_air  \\\n",
       "date                                                            \n",
       "2016-01-15 00:00:00                                 14.151341   \n",
       "2016-01-15 01:00:00                                 13.998353   \n",
       "2016-01-15 02:00:00                                 14.028663   \n",
       "2016-01-15 03:00:00                                 14.005551   \n",
       "2016-01-15 04:00:00                                 13.996647   \n",
       "2016-01-15 05:00:00                                 14.017067   \n",
       "2016-01-15 06:00:00                                 14.029649   \n",
       "2016-01-15 07:00:00                                 13.984498   \n",
       "2016-01-15 08:00:00                                 13.967135   \n",
       "2016-01-15 09:00:00                                 13.981614   \n",
       "\n",
       "                     secondary_cleaner.state.floatbank6_a_level  \n",
       "date                                                             \n",
       "2016-01-15 00:00:00                                 -605.841980  \n",
       "2016-01-15 01:00:00                                 -599.787184  \n",
       "2016-01-15 02:00:00                                 -601.427363  \n",
       "2016-01-15 03:00:00                                 -599.996129  \n",
       "2016-01-15 04:00:00                                 -601.496691  \n",
       "2016-01-15 05:00:00                                 -599.707915  \n",
       "2016-01-15 06:00:00                                 -600.905470  \n",
       "2016-01-15 07:00:00                                 -600.411070  \n",
       "2016-01-15 08:00:00                                 -599.061188  \n",
       "2016-01-15 09:00:00                                 -598.070855  \n",
       "\n",
       "[10 rows x 86 columns]"
      ]
     },
     "metadata": {},
     "output_type": "display_data"
    }
   ],
   "source": [
    "display(df_train.head(10))"
   ]
  },
  {
   "cell_type": "code",
   "execution_count": 5,
   "metadata": {},
   "outputs": [
    {
     "data": {
      "text/plain": [
       "final.output.concentrate_ag                     72\n",
       "final.output.concentrate_pb                     72\n",
       "final.output.concentrate_sol                   370\n",
       "final.output.concentrate_au                     71\n",
       "final.output.recovery                         1521\n",
       "                                              ... \n",
       "secondary_cleaner.state.floatbank5_a_level      85\n",
       "secondary_cleaner.state.floatbank5_b_air        85\n",
       "secondary_cleaner.state.floatbank5_b_level      84\n",
       "secondary_cleaner.state.floatbank6_a_air       103\n",
       "secondary_cleaner.state.floatbank6_a_level      85\n",
       "Length: 86, dtype: int64"
      ]
     },
     "execution_count": 5,
     "metadata": {},
     "output_type": "execute_result"
    }
   ],
   "source": [
    "# Check for Missing Data\n",
    "df_train.isnull().sum()"
   ]
  },
  {
   "cell_type": "code",
   "execution_count": 6,
   "metadata": {},
   "outputs": [
    {
     "data": {
      "text/plain": [
       "16"
      ]
     },
     "execution_count": 6,
     "metadata": {},
     "output_type": "execute_result"
    }
   ],
   "source": [
    "# Check for Duplicates\n",
    "df_train.duplicated().sum()"
   ]
  },
  {
   "cell_type": "code",
   "execution_count": 7,
   "metadata": {},
   "outputs": [
    {
     "name": "stdout",
     "output_type": "stream",
     "text": [
      "<class 'pandas.core.frame.DataFrame'>\n",
      "DatetimeIndex: 5856 entries, 2016-09-01 00:59:59 to 2017-12-31 23:59:59\n",
      "Data columns (total 52 columns):\n",
      " #   Column                                      Non-Null Count  Dtype  \n",
      "---  ------                                      --------------  -----  \n",
      " 0   primary_cleaner.input.sulfate               5554 non-null   float64\n",
      " 1   primary_cleaner.input.depressant            5572 non-null   float64\n",
      " 2   primary_cleaner.input.feed_size             5856 non-null   float64\n",
      " 3   primary_cleaner.input.xanthate              5690 non-null   float64\n",
      " 4   primary_cleaner.state.floatbank8_a_air      5840 non-null   float64\n",
      " 5   primary_cleaner.state.floatbank8_a_level    5840 non-null   float64\n",
      " 6   primary_cleaner.state.floatbank8_b_air      5840 non-null   float64\n",
      " 7   primary_cleaner.state.floatbank8_b_level    5840 non-null   float64\n",
      " 8   primary_cleaner.state.floatbank8_c_air      5840 non-null   float64\n",
      " 9   primary_cleaner.state.floatbank8_c_level    5840 non-null   float64\n",
      " 10  primary_cleaner.state.floatbank8_d_air      5840 non-null   float64\n",
      " 11  primary_cleaner.state.floatbank8_d_level    5840 non-null   float64\n",
      " 12  rougher.input.feed_ag                       5840 non-null   float64\n",
      " 13  rougher.input.feed_pb                       5840 non-null   float64\n",
      " 14  rougher.input.feed_rate                     5816 non-null   float64\n",
      " 15  rougher.input.feed_size                     5834 non-null   float64\n",
      " 16  rougher.input.feed_sol                      5789 non-null   float64\n",
      " 17  rougher.input.feed_au                       5840 non-null   float64\n",
      " 18  rougher.input.floatbank10_sulfate           5599 non-null   float64\n",
      " 19  rougher.input.floatbank10_xanthate          5733 non-null   float64\n",
      " 20  rougher.input.floatbank11_sulfate           5801 non-null   float64\n",
      " 21  rougher.input.floatbank11_xanthate          5503 non-null   float64\n",
      " 22  rougher.state.floatbank10_a_air             5839 non-null   float64\n",
      " 23  rougher.state.floatbank10_a_level           5840 non-null   float64\n",
      " 24  rougher.state.floatbank10_b_air             5839 non-null   float64\n",
      " 25  rougher.state.floatbank10_b_level           5840 non-null   float64\n",
      " 26  rougher.state.floatbank10_c_air             5839 non-null   float64\n",
      " 27  rougher.state.floatbank10_c_level           5840 non-null   float64\n",
      " 28  rougher.state.floatbank10_d_air             5839 non-null   float64\n",
      " 29  rougher.state.floatbank10_d_level           5840 non-null   float64\n",
      " 30  rougher.state.floatbank10_e_air             5839 non-null   float64\n",
      " 31  rougher.state.floatbank10_e_level           5840 non-null   float64\n",
      " 32  rougher.state.floatbank10_f_air             5839 non-null   float64\n",
      " 33  rougher.state.floatbank10_f_level           5840 non-null   float64\n",
      " 34  secondary_cleaner.state.floatbank2_a_air    5836 non-null   float64\n",
      " 35  secondary_cleaner.state.floatbank2_a_level  5840 non-null   float64\n",
      " 36  secondary_cleaner.state.floatbank2_b_air    5833 non-null   float64\n",
      " 37  secondary_cleaner.state.floatbank2_b_level  5840 non-null   float64\n",
      " 38  secondary_cleaner.state.floatbank3_a_air    5822 non-null   float64\n",
      " 39  secondary_cleaner.state.floatbank3_a_level  5840 non-null   float64\n",
      " 40  secondary_cleaner.state.floatbank3_b_air    5840 non-null   float64\n",
      " 41  secondary_cleaner.state.floatbank3_b_level  5840 non-null   float64\n",
      " 42  secondary_cleaner.state.floatbank4_a_air    5840 non-null   float64\n",
      " 43  secondary_cleaner.state.floatbank4_a_level  5840 non-null   float64\n",
      " 44  secondary_cleaner.state.floatbank4_b_air    5840 non-null   float64\n",
      " 45  secondary_cleaner.state.floatbank4_b_level  5840 non-null   float64\n",
      " 46  secondary_cleaner.state.floatbank5_a_air    5840 non-null   float64\n",
      " 47  secondary_cleaner.state.floatbank5_a_level  5840 non-null   float64\n",
      " 48  secondary_cleaner.state.floatbank5_b_air    5840 non-null   float64\n",
      " 49  secondary_cleaner.state.floatbank5_b_level  5840 non-null   float64\n",
      " 50  secondary_cleaner.state.floatbank6_a_air    5840 non-null   float64\n",
      " 51  secondary_cleaner.state.floatbank6_a_level  5840 non-null   float64\n",
      "dtypes: float64(52)\n",
      "memory usage: 2.4 MB\n"
     ]
    },
    {
     "data": {
      "text/plain": [
       "(5856, 52)"
      ]
     },
     "metadata": {},
     "output_type": "display_data"
    },
    {
     "data": {
      "text/html": [
       "<div>\n",
       "<style scoped>\n",
       "    .dataframe tbody tr th:only-of-type {\n",
       "        vertical-align: middle;\n",
       "    }\n",
       "\n",
       "    .dataframe tbody tr th {\n",
       "        vertical-align: top;\n",
       "    }\n",
       "\n",
       "    .dataframe thead th {\n",
       "        text-align: right;\n",
       "    }\n",
       "</style>\n",
       "<table border=\"1\" class=\"dataframe\">\n",
       "  <thead>\n",
       "    <tr style=\"text-align: right;\">\n",
       "      <th></th>\n",
       "      <th>primary_cleaner.input.sulfate</th>\n",
       "      <th>primary_cleaner.input.depressant</th>\n",
       "      <th>primary_cleaner.input.feed_size</th>\n",
       "      <th>primary_cleaner.input.xanthate</th>\n",
       "      <th>primary_cleaner.state.floatbank8_a_air</th>\n",
       "      <th>primary_cleaner.state.floatbank8_a_level</th>\n",
       "      <th>primary_cleaner.state.floatbank8_b_air</th>\n",
       "      <th>primary_cleaner.state.floatbank8_b_level</th>\n",
       "      <th>primary_cleaner.state.floatbank8_c_air</th>\n",
       "      <th>primary_cleaner.state.floatbank8_c_level</th>\n",
       "      <th>...</th>\n",
       "      <th>secondary_cleaner.state.floatbank4_a_air</th>\n",
       "      <th>secondary_cleaner.state.floatbank4_a_level</th>\n",
       "      <th>secondary_cleaner.state.floatbank4_b_air</th>\n",
       "      <th>secondary_cleaner.state.floatbank4_b_level</th>\n",
       "      <th>secondary_cleaner.state.floatbank5_a_air</th>\n",
       "      <th>secondary_cleaner.state.floatbank5_a_level</th>\n",
       "      <th>secondary_cleaner.state.floatbank5_b_air</th>\n",
       "      <th>secondary_cleaner.state.floatbank5_b_level</th>\n",
       "      <th>secondary_cleaner.state.floatbank6_a_air</th>\n",
       "      <th>secondary_cleaner.state.floatbank6_a_level</th>\n",
       "    </tr>\n",
       "  </thead>\n",
       "  <tbody>\n",
       "    <tr>\n",
       "      <th>count</th>\n",
       "      <td>5554.000000</td>\n",
       "      <td>5572.000000</td>\n",
       "      <td>5856.000000</td>\n",
       "      <td>5690.000000</td>\n",
       "      <td>5840.000000</td>\n",
       "      <td>5840.000000</td>\n",
       "      <td>5840.000000</td>\n",
       "      <td>5840.000000</td>\n",
       "      <td>5840.000000</td>\n",
       "      <td>5840.000000</td>\n",
       "      <td>...</td>\n",
       "      <td>5840.000000</td>\n",
       "      <td>5840.000000</td>\n",
       "      <td>5840.000000</td>\n",
       "      <td>5840.000000</td>\n",
       "      <td>5840.000000</td>\n",
       "      <td>5840.000000</td>\n",
       "      <td>5840.000000</td>\n",
       "      <td>5840.000000</td>\n",
       "      <td>5840.000000</td>\n",
       "      <td>5840.000000</td>\n",
       "    </tr>\n",
       "    <tr>\n",
       "      <th>mean</th>\n",
       "      <td>170.515243</td>\n",
       "      <td>8.482873</td>\n",
       "      <td>7.264651</td>\n",
       "      <td>1.321420</td>\n",
       "      <td>1481.990241</td>\n",
       "      <td>-509.057796</td>\n",
       "      <td>1486.908670</td>\n",
       "      <td>-511.743956</td>\n",
       "      <td>1468.495216</td>\n",
       "      <td>-509.741212</td>\n",
       "      <td>...</td>\n",
       "      <td>15.636031</td>\n",
       "      <td>-516.266074</td>\n",
       "      <td>13.145702</td>\n",
       "      <td>-476.338907</td>\n",
       "      <td>12.308967</td>\n",
       "      <td>-512.208126</td>\n",
       "      <td>9.470986</td>\n",
       "      <td>-505.017827</td>\n",
       "      <td>16.678722</td>\n",
       "      <td>-512.351694</td>\n",
       "    </tr>\n",
       "    <tr>\n",
       "      <th>std</th>\n",
       "      <td>49.608602</td>\n",
       "      <td>3.353105</td>\n",
       "      <td>0.611526</td>\n",
       "      <td>0.693246</td>\n",
       "      <td>310.453166</td>\n",
       "      <td>61.339256</td>\n",
       "      <td>313.224286</td>\n",
       "      <td>67.139074</td>\n",
       "      <td>309.980748</td>\n",
       "      <td>62.671873</td>\n",
       "      <td>...</td>\n",
       "      <td>4.660835</td>\n",
       "      <td>62.756748</td>\n",
       "      <td>4.304086</td>\n",
       "      <td>105.549424</td>\n",
       "      <td>3.762827</td>\n",
       "      <td>58.864651</td>\n",
       "      <td>3.312471</td>\n",
       "      <td>68.785898</td>\n",
       "      <td>5.404514</td>\n",
       "      <td>69.919839</td>\n",
       "    </tr>\n",
       "    <tr>\n",
       "      <th>min</th>\n",
       "      <td>0.000103</td>\n",
       "      <td>0.000031</td>\n",
       "      <td>5.650000</td>\n",
       "      <td>0.000003</td>\n",
       "      <td>0.000000</td>\n",
       "      <td>-799.773788</td>\n",
       "      <td>0.000000</td>\n",
       "      <td>-800.029078</td>\n",
       "      <td>0.000000</td>\n",
       "      <td>-799.995127</td>\n",
       "      <td>...</td>\n",
       "      <td>0.000000</td>\n",
       "      <td>-799.798523</td>\n",
       "      <td>0.000000</td>\n",
       "      <td>-800.836914</td>\n",
       "      <td>-0.223393</td>\n",
       "      <td>-799.661076</td>\n",
       "      <td>0.528083</td>\n",
       "      <td>-800.220337</td>\n",
       "      <td>-0.079426</td>\n",
       "      <td>-809.859706</td>\n",
       "    </tr>\n",
       "    <tr>\n",
       "      <th>25%</th>\n",
       "      <td>143.340022</td>\n",
       "      <td>6.411500</td>\n",
       "      <td>6.885625</td>\n",
       "      <td>0.888769</td>\n",
       "      <td>1497.190681</td>\n",
       "      <td>-500.455211</td>\n",
       "      <td>1497.150234</td>\n",
       "      <td>-500.936639</td>\n",
       "      <td>1437.050321</td>\n",
       "      <td>-501.300441</td>\n",
       "      <td>...</td>\n",
       "      <td>12.057838</td>\n",
       "      <td>-501.054741</td>\n",
       "      <td>11.880119</td>\n",
       "      <td>-500.419113</td>\n",
       "      <td>10.123459</td>\n",
       "      <td>-500.879383</td>\n",
       "      <td>7.991208</td>\n",
       "      <td>-500.223089</td>\n",
       "      <td>13.012422</td>\n",
       "      <td>-500.833821</td>\n",
       "    </tr>\n",
       "    <tr>\n",
       "      <th>50%</th>\n",
       "      <td>176.103893</td>\n",
       "      <td>8.023252</td>\n",
       "      <td>7.259333</td>\n",
       "      <td>1.183362</td>\n",
       "      <td>1554.659783</td>\n",
       "      <td>-499.997402</td>\n",
       "      <td>1553.268084</td>\n",
       "      <td>-500.066588</td>\n",
       "      <td>1546.160672</td>\n",
       "      <td>-500.079537</td>\n",
       "      <td>...</td>\n",
       "      <td>17.001867</td>\n",
       "      <td>-500.160145</td>\n",
       "      <td>14.952102</td>\n",
       "      <td>-499.644328</td>\n",
       "      <td>12.062877</td>\n",
       "      <td>-500.047621</td>\n",
       "      <td>9.980774</td>\n",
       "      <td>-500.001338</td>\n",
       "      <td>16.007242</td>\n",
       "      <td>-500.041085</td>\n",
       "    </tr>\n",
       "    <tr>\n",
       "      <th>75%</th>\n",
       "      <td>207.240761</td>\n",
       "      <td>10.017725</td>\n",
       "      <td>7.650000</td>\n",
       "      <td>1.763797</td>\n",
       "      <td>1601.681656</td>\n",
       "      <td>-499.575313</td>\n",
       "      <td>1601.784707</td>\n",
       "      <td>-499.323361</td>\n",
       "      <td>1600.785573</td>\n",
       "      <td>-499.009545</td>\n",
       "      <td>...</td>\n",
       "      <td>18.030985</td>\n",
       "      <td>-499.441529</td>\n",
       "      <td>15.940011</td>\n",
       "      <td>-401.523664</td>\n",
       "      <td>15.017881</td>\n",
       "      <td>-499.297033</td>\n",
       "      <td>11.992176</td>\n",
       "      <td>-499.722835</td>\n",
       "      <td>21.009076</td>\n",
       "      <td>-499.395621</td>\n",
       "    </tr>\n",
       "    <tr>\n",
       "      <th>max</th>\n",
       "      <td>274.409626</td>\n",
       "      <td>40.024582</td>\n",
       "      <td>15.500000</td>\n",
       "      <td>5.433169</td>\n",
       "      <td>2212.432090</td>\n",
       "      <td>-57.195404</td>\n",
       "      <td>1975.147923</td>\n",
       "      <td>-142.527229</td>\n",
       "      <td>1715.053773</td>\n",
       "      <td>-150.937035</td>\n",
       "      <td>...</td>\n",
       "      <td>30.051797</td>\n",
       "      <td>-401.565212</td>\n",
       "      <td>31.269706</td>\n",
       "      <td>-6.506986</td>\n",
       "      <td>25.258848</td>\n",
       "      <td>-244.483566</td>\n",
       "      <td>14.090194</td>\n",
       "      <td>-126.463446</td>\n",
       "      <td>26.705889</td>\n",
       "      <td>-29.093593</td>\n",
       "    </tr>\n",
       "  </tbody>\n",
       "</table>\n",
       "<p>8 rows × 52 columns</p>\n",
       "</div>"
      ],
      "text/plain": [
       "       primary_cleaner.input.sulfate  primary_cleaner.input.depressant  \\\n",
       "count                    5554.000000                       5572.000000   \n",
       "mean                      170.515243                          8.482873   \n",
       "std                        49.608602                          3.353105   \n",
       "min                         0.000103                          0.000031   \n",
       "25%                       143.340022                          6.411500   \n",
       "50%                       176.103893                          8.023252   \n",
       "75%                       207.240761                         10.017725   \n",
       "max                       274.409626                         40.024582   \n",
       "\n",
       "       primary_cleaner.input.feed_size  primary_cleaner.input.xanthate  \\\n",
       "count                      5856.000000                     5690.000000   \n",
       "mean                          7.264651                        1.321420   \n",
       "std                           0.611526                        0.693246   \n",
       "min                           5.650000                        0.000003   \n",
       "25%                           6.885625                        0.888769   \n",
       "50%                           7.259333                        1.183362   \n",
       "75%                           7.650000                        1.763797   \n",
       "max                          15.500000                        5.433169   \n",
       "\n",
       "       primary_cleaner.state.floatbank8_a_air  \\\n",
       "count                             5840.000000   \n",
       "mean                              1481.990241   \n",
       "std                                310.453166   \n",
       "min                                  0.000000   \n",
       "25%                               1497.190681   \n",
       "50%                               1554.659783   \n",
       "75%                               1601.681656   \n",
       "max                               2212.432090   \n",
       "\n",
       "       primary_cleaner.state.floatbank8_a_level  \\\n",
       "count                               5840.000000   \n",
       "mean                                -509.057796   \n",
       "std                                   61.339256   \n",
       "min                                 -799.773788   \n",
       "25%                                 -500.455211   \n",
       "50%                                 -499.997402   \n",
       "75%                                 -499.575313   \n",
       "max                                  -57.195404   \n",
       "\n",
       "       primary_cleaner.state.floatbank8_b_air  \\\n",
       "count                             5840.000000   \n",
       "mean                              1486.908670   \n",
       "std                                313.224286   \n",
       "min                                  0.000000   \n",
       "25%                               1497.150234   \n",
       "50%                               1553.268084   \n",
       "75%                               1601.784707   \n",
       "max                               1975.147923   \n",
       "\n",
       "       primary_cleaner.state.floatbank8_b_level  \\\n",
       "count                               5840.000000   \n",
       "mean                                -511.743956   \n",
       "std                                   67.139074   \n",
       "min                                 -800.029078   \n",
       "25%                                 -500.936639   \n",
       "50%                                 -500.066588   \n",
       "75%                                 -499.323361   \n",
       "max                                 -142.527229   \n",
       "\n",
       "       primary_cleaner.state.floatbank8_c_air  \\\n",
       "count                             5840.000000   \n",
       "mean                              1468.495216   \n",
       "std                                309.980748   \n",
       "min                                  0.000000   \n",
       "25%                               1437.050321   \n",
       "50%                               1546.160672   \n",
       "75%                               1600.785573   \n",
       "max                               1715.053773   \n",
       "\n",
       "       primary_cleaner.state.floatbank8_c_level  ...  \\\n",
       "count                               5840.000000  ...   \n",
       "mean                                -509.741212  ...   \n",
       "std                                   62.671873  ...   \n",
       "min                                 -799.995127  ...   \n",
       "25%                                 -501.300441  ...   \n",
       "50%                                 -500.079537  ...   \n",
       "75%                                 -499.009545  ...   \n",
       "max                                 -150.937035  ...   \n",
       "\n",
       "       secondary_cleaner.state.floatbank4_a_air  \\\n",
       "count                               5840.000000   \n",
       "mean                                  15.636031   \n",
       "std                                    4.660835   \n",
       "min                                    0.000000   \n",
       "25%                                   12.057838   \n",
       "50%                                   17.001867   \n",
       "75%                                   18.030985   \n",
       "max                                   30.051797   \n",
       "\n",
       "       secondary_cleaner.state.floatbank4_a_level  \\\n",
       "count                                 5840.000000   \n",
       "mean                                  -516.266074   \n",
       "std                                     62.756748   \n",
       "min                                   -799.798523   \n",
       "25%                                   -501.054741   \n",
       "50%                                   -500.160145   \n",
       "75%                                   -499.441529   \n",
       "max                                   -401.565212   \n",
       "\n",
       "       secondary_cleaner.state.floatbank4_b_air  \\\n",
       "count                               5840.000000   \n",
       "mean                                  13.145702   \n",
       "std                                    4.304086   \n",
       "min                                    0.000000   \n",
       "25%                                   11.880119   \n",
       "50%                                   14.952102   \n",
       "75%                                   15.940011   \n",
       "max                                   31.269706   \n",
       "\n",
       "       secondary_cleaner.state.floatbank4_b_level  \\\n",
       "count                                 5840.000000   \n",
       "mean                                  -476.338907   \n",
       "std                                    105.549424   \n",
       "min                                   -800.836914   \n",
       "25%                                   -500.419113   \n",
       "50%                                   -499.644328   \n",
       "75%                                   -401.523664   \n",
       "max                                     -6.506986   \n",
       "\n",
       "       secondary_cleaner.state.floatbank5_a_air  \\\n",
       "count                               5840.000000   \n",
       "mean                                  12.308967   \n",
       "std                                    3.762827   \n",
       "min                                   -0.223393   \n",
       "25%                                   10.123459   \n",
       "50%                                   12.062877   \n",
       "75%                                   15.017881   \n",
       "max                                   25.258848   \n",
       "\n",
       "       secondary_cleaner.state.floatbank5_a_level  \\\n",
       "count                                 5840.000000   \n",
       "mean                                  -512.208126   \n",
       "std                                     58.864651   \n",
       "min                                   -799.661076   \n",
       "25%                                   -500.879383   \n",
       "50%                                   -500.047621   \n",
       "75%                                   -499.297033   \n",
       "max                                   -244.483566   \n",
       "\n",
       "       secondary_cleaner.state.floatbank5_b_air  \\\n",
       "count                               5840.000000   \n",
       "mean                                   9.470986   \n",
       "std                                    3.312471   \n",
       "min                                    0.528083   \n",
       "25%                                    7.991208   \n",
       "50%                                    9.980774   \n",
       "75%                                   11.992176   \n",
       "max                                   14.090194   \n",
       "\n",
       "       secondary_cleaner.state.floatbank5_b_level  \\\n",
       "count                                 5840.000000   \n",
       "mean                                  -505.017827   \n",
       "std                                     68.785898   \n",
       "min                                   -800.220337   \n",
       "25%                                   -500.223089   \n",
       "50%                                   -500.001338   \n",
       "75%                                   -499.722835   \n",
       "max                                   -126.463446   \n",
       "\n",
       "       secondary_cleaner.state.floatbank6_a_air  \\\n",
       "count                               5840.000000   \n",
       "mean                                  16.678722   \n",
       "std                                    5.404514   \n",
       "min                                   -0.079426   \n",
       "25%                                   13.012422   \n",
       "50%                                   16.007242   \n",
       "75%                                   21.009076   \n",
       "max                                   26.705889   \n",
       "\n",
       "       secondary_cleaner.state.floatbank6_a_level  \n",
       "count                                 5840.000000  \n",
       "mean                                  -512.351694  \n",
       "std                                     69.919839  \n",
       "min                                   -809.859706  \n",
       "25%                                   -500.833821  \n",
       "50%                                   -500.041085  \n",
       "75%                                   -499.395621  \n",
       "max                                    -29.093593  \n",
       "\n",
       "[8 rows x 52 columns]"
      ]
     },
     "metadata": {},
     "output_type": "display_data"
    }
   ],
   "source": [
    "# Review Data for df_test\n",
    "df_test.info()\n",
    "display(df_test.shape)\n",
    "display(df_test.describe())"
   ]
  },
  {
   "cell_type": "code",
   "execution_count": 8,
   "metadata": {},
   "outputs": [
    {
     "data": {
      "text/html": [
       "<div>\n",
       "<style scoped>\n",
       "    .dataframe tbody tr th:only-of-type {\n",
       "        vertical-align: middle;\n",
       "    }\n",
       "\n",
       "    .dataframe tbody tr th {\n",
       "        vertical-align: top;\n",
       "    }\n",
       "\n",
       "    .dataframe thead th {\n",
       "        text-align: right;\n",
       "    }\n",
       "</style>\n",
       "<table border=\"1\" class=\"dataframe\">\n",
       "  <thead>\n",
       "    <tr style=\"text-align: right;\">\n",
       "      <th></th>\n",
       "      <th>primary_cleaner.input.sulfate</th>\n",
       "      <th>primary_cleaner.input.depressant</th>\n",
       "      <th>primary_cleaner.input.feed_size</th>\n",
       "      <th>primary_cleaner.input.xanthate</th>\n",
       "      <th>primary_cleaner.state.floatbank8_a_air</th>\n",
       "      <th>primary_cleaner.state.floatbank8_a_level</th>\n",
       "      <th>primary_cleaner.state.floatbank8_b_air</th>\n",
       "      <th>primary_cleaner.state.floatbank8_b_level</th>\n",
       "      <th>primary_cleaner.state.floatbank8_c_air</th>\n",
       "      <th>primary_cleaner.state.floatbank8_c_level</th>\n",
       "      <th>...</th>\n",
       "      <th>secondary_cleaner.state.floatbank4_a_air</th>\n",
       "      <th>secondary_cleaner.state.floatbank4_a_level</th>\n",
       "      <th>secondary_cleaner.state.floatbank4_b_air</th>\n",
       "      <th>secondary_cleaner.state.floatbank4_b_level</th>\n",
       "      <th>secondary_cleaner.state.floatbank5_a_air</th>\n",
       "      <th>secondary_cleaner.state.floatbank5_a_level</th>\n",
       "      <th>secondary_cleaner.state.floatbank5_b_air</th>\n",
       "      <th>secondary_cleaner.state.floatbank5_b_level</th>\n",
       "      <th>secondary_cleaner.state.floatbank6_a_air</th>\n",
       "      <th>secondary_cleaner.state.floatbank6_a_level</th>\n",
       "    </tr>\n",
       "    <tr>\n",
       "      <th>date</th>\n",
       "      <th></th>\n",
       "      <th></th>\n",
       "      <th></th>\n",
       "      <th></th>\n",
       "      <th></th>\n",
       "      <th></th>\n",
       "      <th></th>\n",
       "      <th></th>\n",
       "      <th></th>\n",
       "      <th></th>\n",
       "      <th></th>\n",
       "      <th></th>\n",
       "      <th></th>\n",
       "      <th></th>\n",
       "      <th></th>\n",
       "      <th></th>\n",
       "      <th></th>\n",
       "      <th></th>\n",
       "      <th></th>\n",
       "      <th></th>\n",
       "      <th></th>\n",
       "    </tr>\n",
       "  </thead>\n",
       "  <tbody>\n",
       "    <tr>\n",
       "      <th>2016-09-01 00:59:59</th>\n",
       "      <td>210.800909</td>\n",
       "      <td>14.993118</td>\n",
       "      <td>8.080000</td>\n",
       "      <td>1.005021</td>\n",
       "      <td>1398.981301</td>\n",
       "      <td>-500.225577</td>\n",
       "      <td>1399.144926</td>\n",
       "      <td>-499.919735</td>\n",
       "      <td>1400.102998</td>\n",
       "      <td>-500.704369</td>\n",
       "      <td>...</td>\n",
       "      <td>12.023554</td>\n",
       "      <td>-497.795834</td>\n",
       "      <td>8.016656</td>\n",
       "      <td>-501.289139</td>\n",
       "      <td>7.946562</td>\n",
       "      <td>-432.317850</td>\n",
       "      <td>4.872511</td>\n",
       "      <td>-500.037437</td>\n",
       "      <td>26.705889</td>\n",
       "      <td>-499.709414</td>\n",
       "    </tr>\n",
       "    <tr>\n",
       "      <th>2016-09-01 01:59:59</th>\n",
       "      <td>215.392455</td>\n",
       "      <td>14.987471</td>\n",
       "      <td>8.080000</td>\n",
       "      <td>0.990469</td>\n",
       "      <td>1398.777912</td>\n",
       "      <td>-500.057435</td>\n",
       "      <td>1398.055362</td>\n",
       "      <td>-499.778182</td>\n",
       "      <td>1396.151033</td>\n",
       "      <td>-499.240168</td>\n",
       "      <td>...</td>\n",
       "      <td>12.058140</td>\n",
       "      <td>-498.695773</td>\n",
       "      <td>8.130979</td>\n",
       "      <td>-499.634209</td>\n",
       "      <td>7.958270</td>\n",
       "      <td>-525.839648</td>\n",
       "      <td>4.878850</td>\n",
       "      <td>-500.162375</td>\n",
       "      <td>25.019940</td>\n",
       "      <td>-499.819438</td>\n",
       "    </tr>\n",
       "    <tr>\n",
       "      <th>2016-09-01 02:59:59</th>\n",
       "      <td>215.259946</td>\n",
       "      <td>12.884934</td>\n",
       "      <td>7.786667</td>\n",
       "      <td>0.996043</td>\n",
       "      <td>1398.493666</td>\n",
       "      <td>-500.868360</td>\n",
       "      <td>1398.860436</td>\n",
       "      <td>-499.764529</td>\n",
       "      <td>1398.075709</td>\n",
       "      <td>-502.151509</td>\n",
       "      <td>...</td>\n",
       "      <td>11.962366</td>\n",
       "      <td>-498.767484</td>\n",
       "      <td>8.096893</td>\n",
       "      <td>-500.827423</td>\n",
       "      <td>8.071056</td>\n",
       "      <td>-500.801673</td>\n",
       "      <td>4.905125</td>\n",
       "      <td>-499.828510</td>\n",
       "      <td>24.994862</td>\n",
       "      <td>-500.622559</td>\n",
       "    </tr>\n",
       "    <tr>\n",
       "      <th>2016-09-01 03:59:59</th>\n",
       "      <td>215.336236</td>\n",
       "      <td>12.006805</td>\n",
       "      <td>7.640000</td>\n",
       "      <td>0.863514</td>\n",
       "      <td>1399.618111</td>\n",
       "      <td>-498.863574</td>\n",
       "      <td>1397.440120</td>\n",
       "      <td>-499.211024</td>\n",
       "      <td>1400.129303</td>\n",
       "      <td>-498.355873</td>\n",
       "      <td>...</td>\n",
       "      <td>12.033091</td>\n",
       "      <td>-498.350935</td>\n",
       "      <td>8.074946</td>\n",
       "      <td>-499.474407</td>\n",
       "      <td>7.897085</td>\n",
       "      <td>-500.868509</td>\n",
       "      <td>4.931400</td>\n",
       "      <td>-499.963623</td>\n",
       "      <td>24.948919</td>\n",
       "      <td>-498.709987</td>\n",
       "    </tr>\n",
       "    <tr>\n",
       "      <th>2016-09-01 04:59:59</th>\n",
       "      <td>199.099327</td>\n",
       "      <td>10.682530</td>\n",
       "      <td>7.530000</td>\n",
       "      <td>0.805575</td>\n",
       "      <td>1401.268123</td>\n",
       "      <td>-500.808305</td>\n",
       "      <td>1398.128818</td>\n",
       "      <td>-499.504543</td>\n",
       "      <td>1402.172226</td>\n",
       "      <td>-500.810606</td>\n",
       "      <td>...</td>\n",
       "      <td>12.025367</td>\n",
       "      <td>-500.786497</td>\n",
       "      <td>8.054678</td>\n",
       "      <td>-500.397500</td>\n",
       "      <td>8.107890</td>\n",
       "      <td>-509.526725</td>\n",
       "      <td>4.957674</td>\n",
       "      <td>-500.360026</td>\n",
       "      <td>25.003331</td>\n",
       "      <td>-500.856333</td>\n",
       "    </tr>\n",
       "    <tr>\n",
       "      <th>2016-09-01 05:59:59</th>\n",
       "      <td>168.485085</td>\n",
       "      <td>8.817007</td>\n",
       "      <td>7.420000</td>\n",
       "      <td>0.791191</td>\n",
       "      <td>1402.826803</td>\n",
       "      <td>-499.299521</td>\n",
       "      <td>1401.511119</td>\n",
       "      <td>-499.205357</td>\n",
       "      <td>1404.088107</td>\n",
       "      <td>-497.903666</td>\n",
       "      <td>...</td>\n",
       "      <td>12.029797</td>\n",
       "      <td>-499.814895</td>\n",
       "      <td>8.036586</td>\n",
       "      <td>-500.371492</td>\n",
       "      <td>8.041446</td>\n",
       "      <td>-510.037054</td>\n",
       "      <td>4.983949</td>\n",
       "      <td>-499.990990</td>\n",
       "      <td>24.978973</td>\n",
       "      <td>-500.475640</td>\n",
       "    </tr>\n",
       "    <tr>\n",
       "      <th>2016-09-01 06:59:59</th>\n",
       "      <td>144.133440</td>\n",
       "      <td>7.924610</td>\n",
       "      <td>7.420000</td>\n",
       "      <td>0.788838</td>\n",
       "      <td>1398.252401</td>\n",
       "      <td>-499.748672</td>\n",
       "      <td>1393.255503</td>\n",
       "      <td>-499.195380</td>\n",
       "      <td>1396.738566</td>\n",
       "      <td>-497.923683</td>\n",
       "      <td>...</td>\n",
       "      <td>12.026296</td>\n",
       "      <td>-499.473127</td>\n",
       "      <td>8.027984</td>\n",
       "      <td>-500.983079</td>\n",
       "      <td>7.907340</td>\n",
       "      <td>-507.964971</td>\n",
       "      <td>5.010224</td>\n",
       "      <td>-500.043697</td>\n",
       "      <td>25.040709</td>\n",
       "      <td>-499.501984</td>\n",
       "    </tr>\n",
       "    <tr>\n",
       "      <th>2016-09-01 07:59:59</th>\n",
       "      <td>133.513396</td>\n",
       "      <td>8.055252</td>\n",
       "      <td>6.988000</td>\n",
       "      <td>0.801871</td>\n",
       "      <td>1401.669677</td>\n",
       "      <td>-501.777839</td>\n",
       "      <td>1400.754446</td>\n",
       "      <td>-502.514024</td>\n",
       "      <td>1400.465244</td>\n",
       "      <td>-503.451306</td>\n",
       "      <td>...</td>\n",
       "      <td>12.040911</td>\n",
       "      <td>-501.293852</td>\n",
       "      <td>8.020490</td>\n",
       "      <td>-499.185229</td>\n",
       "      <td>8.116897</td>\n",
       "      <td>-511.927561</td>\n",
       "      <td>5.036498</td>\n",
       "      <td>-500.149615</td>\n",
       "      <td>25.032580</td>\n",
       "      <td>-503.970657</td>\n",
       "    </tr>\n",
       "    <tr>\n",
       "      <th>2016-09-01 08:59:59</th>\n",
       "      <td>133.735356</td>\n",
       "      <td>7.999618</td>\n",
       "      <td>6.935000</td>\n",
       "      <td>0.789329</td>\n",
       "      <td>1402.358981</td>\n",
       "      <td>-499.981597</td>\n",
       "      <td>1400.985954</td>\n",
       "      <td>-496.802968</td>\n",
       "      <td>1401.168584</td>\n",
       "      <td>-499.890350</td>\n",
       "      <td>...</td>\n",
       "      <td>11.998184</td>\n",
       "      <td>-499.481608</td>\n",
       "      <td>8.012610</td>\n",
       "      <td>-500.896783</td>\n",
       "      <td>7.974422</td>\n",
       "      <td>-521.199104</td>\n",
       "      <td>5.061599</td>\n",
       "      <td>-499.791519</td>\n",
       "      <td>25.005063</td>\n",
       "      <td>-497.613716</td>\n",
       "    </tr>\n",
       "    <tr>\n",
       "      <th>2016-09-01 09:59:59</th>\n",
       "      <td>126.961069</td>\n",
       "      <td>8.017856</td>\n",
       "      <td>7.030000</td>\n",
       "      <td>0.805298</td>\n",
       "      <td>1400.816120</td>\n",
       "      <td>-499.014158</td>\n",
       "      <td>1399.975401</td>\n",
       "      <td>-499.570552</td>\n",
       "      <td>1401.871924</td>\n",
       "      <td>-499.577934</td>\n",
       "      <td>...</td>\n",
       "      <td>12.040725</td>\n",
       "      <td>-499.987743</td>\n",
       "      <td>7.989503</td>\n",
       "      <td>-499.750625</td>\n",
       "      <td>7.989710</td>\n",
       "      <td>-509.946737</td>\n",
       "      <td>5.068811</td>\n",
       "      <td>-499.293900</td>\n",
       "      <td>24.992741</td>\n",
       "      <td>-499.272255</td>\n",
       "    </tr>\n",
       "  </tbody>\n",
       "</table>\n",
       "<p>10 rows × 52 columns</p>\n",
       "</div>"
      ],
      "text/plain": [
       "                     primary_cleaner.input.sulfate  \\\n",
       "date                                                 \n",
       "2016-09-01 00:59:59                     210.800909   \n",
       "2016-09-01 01:59:59                     215.392455   \n",
       "2016-09-01 02:59:59                     215.259946   \n",
       "2016-09-01 03:59:59                     215.336236   \n",
       "2016-09-01 04:59:59                     199.099327   \n",
       "2016-09-01 05:59:59                     168.485085   \n",
       "2016-09-01 06:59:59                     144.133440   \n",
       "2016-09-01 07:59:59                     133.513396   \n",
       "2016-09-01 08:59:59                     133.735356   \n",
       "2016-09-01 09:59:59                     126.961069   \n",
       "\n",
       "                     primary_cleaner.input.depressant  \\\n",
       "date                                                    \n",
       "2016-09-01 00:59:59                         14.993118   \n",
       "2016-09-01 01:59:59                         14.987471   \n",
       "2016-09-01 02:59:59                         12.884934   \n",
       "2016-09-01 03:59:59                         12.006805   \n",
       "2016-09-01 04:59:59                         10.682530   \n",
       "2016-09-01 05:59:59                          8.817007   \n",
       "2016-09-01 06:59:59                          7.924610   \n",
       "2016-09-01 07:59:59                          8.055252   \n",
       "2016-09-01 08:59:59                          7.999618   \n",
       "2016-09-01 09:59:59                          8.017856   \n",
       "\n",
       "                     primary_cleaner.input.feed_size  \\\n",
       "date                                                   \n",
       "2016-09-01 00:59:59                         8.080000   \n",
       "2016-09-01 01:59:59                         8.080000   \n",
       "2016-09-01 02:59:59                         7.786667   \n",
       "2016-09-01 03:59:59                         7.640000   \n",
       "2016-09-01 04:59:59                         7.530000   \n",
       "2016-09-01 05:59:59                         7.420000   \n",
       "2016-09-01 06:59:59                         7.420000   \n",
       "2016-09-01 07:59:59                         6.988000   \n",
       "2016-09-01 08:59:59                         6.935000   \n",
       "2016-09-01 09:59:59                         7.030000   \n",
       "\n",
       "                     primary_cleaner.input.xanthate  \\\n",
       "date                                                  \n",
       "2016-09-01 00:59:59                        1.005021   \n",
       "2016-09-01 01:59:59                        0.990469   \n",
       "2016-09-01 02:59:59                        0.996043   \n",
       "2016-09-01 03:59:59                        0.863514   \n",
       "2016-09-01 04:59:59                        0.805575   \n",
       "2016-09-01 05:59:59                        0.791191   \n",
       "2016-09-01 06:59:59                        0.788838   \n",
       "2016-09-01 07:59:59                        0.801871   \n",
       "2016-09-01 08:59:59                        0.789329   \n",
       "2016-09-01 09:59:59                        0.805298   \n",
       "\n",
       "                     primary_cleaner.state.floatbank8_a_air  \\\n",
       "date                                                          \n",
       "2016-09-01 00:59:59                             1398.981301   \n",
       "2016-09-01 01:59:59                             1398.777912   \n",
       "2016-09-01 02:59:59                             1398.493666   \n",
       "2016-09-01 03:59:59                             1399.618111   \n",
       "2016-09-01 04:59:59                             1401.268123   \n",
       "2016-09-01 05:59:59                             1402.826803   \n",
       "2016-09-01 06:59:59                             1398.252401   \n",
       "2016-09-01 07:59:59                             1401.669677   \n",
       "2016-09-01 08:59:59                             1402.358981   \n",
       "2016-09-01 09:59:59                             1400.816120   \n",
       "\n",
       "                     primary_cleaner.state.floatbank8_a_level  \\\n",
       "date                                                            \n",
       "2016-09-01 00:59:59                               -500.225577   \n",
       "2016-09-01 01:59:59                               -500.057435   \n",
       "2016-09-01 02:59:59                               -500.868360   \n",
       "2016-09-01 03:59:59                               -498.863574   \n",
       "2016-09-01 04:59:59                               -500.808305   \n",
       "2016-09-01 05:59:59                               -499.299521   \n",
       "2016-09-01 06:59:59                               -499.748672   \n",
       "2016-09-01 07:59:59                               -501.777839   \n",
       "2016-09-01 08:59:59                               -499.981597   \n",
       "2016-09-01 09:59:59                               -499.014158   \n",
       "\n",
       "                     primary_cleaner.state.floatbank8_b_air  \\\n",
       "date                                                          \n",
       "2016-09-01 00:59:59                             1399.144926   \n",
       "2016-09-01 01:59:59                             1398.055362   \n",
       "2016-09-01 02:59:59                             1398.860436   \n",
       "2016-09-01 03:59:59                             1397.440120   \n",
       "2016-09-01 04:59:59                             1398.128818   \n",
       "2016-09-01 05:59:59                             1401.511119   \n",
       "2016-09-01 06:59:59                             1393.255503   \n",
       "2016-09-01 07:59:59                             1400.754446   \n",
       "2016-09-01 08:59:59                             1400.985954   \n",
       "2016-09-01 09:59:59                             1399.975401   \n",
       "\n",
       "                     primary_cleaner.state.floatbank8_b_level  \\\n",
       "date                                                            \n",
       "2016-09-01 00:59:59                               -499.919735   \n",
       "2016-09-01 01:59:59                               -499.778182   \n",
       "2016-09-01 02:59:59                               -499.764529   \n",
       "2016-09-01 03:59:59                               -499.211024   \n",
       "2016-09-01 04:59:59                               -499.504543   \n",
       "2016-09-01 05:59:59                               -499.205357   \n",
       "2016-09-01 06:59:59                               -499.195380   \n",
       "2016-09-01 07:59:59                               -502.514024   \n",
       "2016-09-01 08:59:59                               -496.802968   \n",
       "2016-09-01 09:59:59                               -499.570552   \n",
       "\n",
       "                     primary_cleaner.state.floatbank8_c_air  \\\n",
       "date                                                          \n",
       "2016-09-01 00:59:59                             1400.102998   \n",
       "2016-09-01 01:59:59                             1396.151033   \n",
       "2016-09-01 02:59:59                             1398.075709   \n",
       "2016-09-01 03:59:59                             1400.129303   \n",
       "2016-09-01 04:59:59                             1402.172226   \n",
       "2016-09-01 05:59:59                             1404.088107   \n",
       "2016-09-01 06:59:59                             1396.738566   \n",
       "2016-09-01 07:59:59                             1400.465244   \n",
       "2016-09-01 08:59:59                             1401.168584   \n",
       "2016-09-01 09:59:59                             1401.871924   \n",
       "\n",
       "                     primary_cleaner.state.floatbank8_c_level  ...  \\\n",
       "date                                                           ...   \n",
       "2016-09-01 00:59:59                               -500.704369  ...   \n",
       "2016-09-01 01:59:59                               -499.240168  ...   \n",
       "2016-09-01 02:59:59                               -502.151509  ...   \n",
       "2016-09-01 03:59:59                               -498.355873  ...   \n",
       "2016-09-01 04:59:59                               -500.810606  ...   \n",
       "2016-09-01 05:59:59                               -497.903666  ...   \n",
       "2016-09-01 06:59:59                               -497.923683  ...   \n",
       "2016-09-01 07:59:59                               -503.451306  ...   \n",
       "2016-09-01 08:59:59                               -499.890350  ...   \n",
       "2016-09-01 09:59:59                               -499.577934  ...   \n",
       "\n",
       "                     secondary_cleaner.state.floatbank4_a_air  \\\n",
       "date                                                            \n",
       "2016-09-01 00:59:59                                 12.023554   \n",
       "2016-09-01 01:59:59                                 12.058140   \n",
       "2016-09-01 02:59:59                                 11.962366   \n",
       "2016-09-01 03:59:59                                 12.033091   \n",
       "2016-09-01 04:59:59                                 12.025367   \n",
       "2016-09-01 05:59:59                                 12.029797   \n",
       "2016-09-01 06:59:59                                 12.026296   \n",
       "2016-09-01 07:59:59                                 12.040911   \n",
       "2016-09-01 08:59:59                                 11.998184   \n",
       "2016-09-01 09:59:59                                 12.040725   \n",
       "\n",
       "                     secondary_cleaner.state.floatbank4_a_level  \\\n",
       "date                                                              \n",
       "2016-09-01 00:59:59                                 -497.795834   \n",
       "2016-09-01 01:59:59                                 -498.695773   \n",
       "2016-09-01 02:59:59                                 -498.767484   \n",
       "2016-09-01 03:59:59                                 -498.350935   \n",
       "2016-09-01 04:59:59                                 -500.786497   \n",
       "2016-09-01 05:59:59                                 -499.814895   \n",
       "2016-09-01 06:59:59                                 -499.473127   \n",
       "2016-09-01 07:59:59                                 -501.293852   \n",
       "2016-09-01 08:59:59                                 -499.481608   \n",
       "2016-09-01 09:59:59                                 -499.987743   \n",
       "\n",
       "                     secondary_cleaner.state.floatbank4_b_air  \\\n",
       "date                                                            \n",
       "2016-09-01 00:59:59                                  8.016656   \n",
       "2016-09-01 01:59:59                                  8.130979   \n",
       "2016-09-01 02:59:59                                  8.096893   \n",
       "2016-09-01 03:59:59                                  8.074946   \n",
       "2016-09-01 04:59:59                                  8.054678   \n",
       "2016-09-01 05:59:59                                  8.036586   \n",
       "2016-09-01 06:59:59                                  8.027984   \n",
       "2016-09-01 07:59:59                                  8.020490   \n",
       "2016-09-01 08:59:59                                  8.012610   \n",
       "2016-09-01 09:59:59                                  7.989503   \n",
       "\n",
       "                     secondary_cleaner.state.floatbank4_b_level  \\\n",
       "date                                                              \n",
       "2016-09-01 00:59:59                                 -501.289139   \n",
       "2016-09-01 01:59:59                                 -499.634209   \n",
       "2016-09-01 02:59:59                                 -500.827423   \n",
       "2016-09-01 03:59:59                                 -499.474407   \n",
       "2016-09-01 04:59:59                                 -500.397500   \n",
       "2016-09-01 05:59:59                                 -500.371492   \n",
       "2016-09-01 06:59:59                                 -500.983079   \n",
       "2016-09-01 07:59:59                                 -499.185229   \n",
       "2016-09-01 08:59:59                                 -500.896783   \n",
       "2016-09-01 09:59:59                                 -499.750625   \n",
       "\n",
       "                     secondary_cleaner.state.floatbank5_a_air  \\\n",
       "date                                                            \n",
       "2016-09-01 00:59:59                                  7.946562   \n",
       "2016-09-01 01:59:59                                  7.958270   \n",
       "2016-09-01 02:59:59                                  8.071056   \n",
       "2016-09-01 03:59:59                                  7.897085   \n",
       "2016-09-01 04:59:59                                  8.107890   \n",
       "2016-09-01 05:59:59                                  8.041446   \n",
       "2016-09-01 06:59:59                                  7.907340   \n",
       "2016-09-01 07:59:59                                  8.116897   \n",
       "2016-09-01 08:59:59                                  7.974422   \n",
       "2016-09-01 09:59:59                                  7.989710   \n",
       "\n",
       "                     secondary_cleaner.state.floatbank5_a_level  \\\n",
       "date                                                              \n",
       "2016-09-01 00:59:59                                 -432.317850   \n",
       "2016-09-01 01:59:59                                 -525.839648   \n",
       "2016-09-01 02:59:59                                 -500.801673   \n",
       "2016-09-01 03:59:59                                 -500.868509   \n",
       "2016-09-01 04:59:59                                 -509.526725   \n",
       "2016-09-01 05:59:59                                 -510.037054   \n",
       "2016-09-01 06:59:59                                 -507.964971   \n",
       "2016-09-01 07:59:59                                 -511.927561   \n",
       "2016-09-01 08:59:59                                 -521.199104   \n",
       "2016-09-01 09:59:59                                 -509.946737   \n",
       "\n",
       "                     secondary_cleaner.state.floatbank5_b_air  \\\n",
       "date                                                            \n",
       "2016-09-01 00:59:59                                  4.872511   \n",
       "2016-09-01 01:59:59                                  4.878850   \n",
       "2016-09-01 02:59:59                                  4.905125   \n",
       "2016-09-01 03:59:59                                  4.931400   \n",
       "2016-09-01 04:59:59                                  4.957674   \n",
       "2016-09-01 05:59:59                                  4.983949   \n",
       "2016-09-01 06:59:59                                  5.010224   \n",
       "2016-09-01 07:59:59                                  5.036498   \n",
       "2016-09-01 08:59:59                                  5.061599   \n",
       "2016-09-01 09:59:59                                  5.068811   \n",
       "\n",
       "                     secondary_cleaner.state.floatbank5_b_level  \\\n",
       "date                                                              \n",
       "2016-09-01 00:59:59                                 -500.037437   \n",
       "2016-09-01 01:59:59                                 -500.162375   \n",
       "2016-09-01 02:59:59                                 -499.828510   \n",
       "2016-09-01 03:59:59                                 -499.963623   \n",
       "2016-09-01 04:59:59                                 -500.360026   \n",
       "2016-09-01 05:59:59                                 -499.990990   \n",
       "2016-09-01 06:59:59                                 -500.043697   \n",
       "2016-09-01 07:59:59                                 -500.149615   \n",
       "2016-09-01 08:59:59                                 -499.791519   \n",
       "2016-09-01 09:59:59                                 -499.293900   \n",
       "\n",
       "                     secondary_cleaner.state.floatbank6_a_air  \\\n",
       "date                                                            \n",
       "2016-09-01 00:59:59                                 26.705889   \n",
       "2016-09-01 01:59:59                                 25.019940   \n",
       "2016-09-01 02:59:59                                 24.994862   \n",
       "2016-09-01 03:59:59                                 24.948919   \n",
       "2016-09-01 04:59:59                                 25.003331   \n",
       "2016-09-01 05:59:59                                 24.978973   \n",
       "2016-09-01 06:59:59                                 25.040709   \n",
       "2016-09-01 07:59:59                                 25.032580   \n",
       "2016-09-01 08:59:59                                 25.005063   \n",
       "2016-09-01 09:59:59                                 24.992741   \n",
       "\n",
       "                     secondary_cleaner.state.floatbank6_a_level  \n",
       "date                                                             \n",
       "2016-09-01 00:59:59                                 -499.709414  \n",
       "2016-09-01 01:59:59                                 -499.819438  \n",
       "2016-09-01 02:59:59                                 -500.622559  \n",
       "2016-09-01 03:59:59                                 -498.709987  \n",
       "2016-09-01 04:59:59                                 -500.856333  \n",
       "2016-09-01 05:59:59                                 -500.475640  \n",
       "2016-09-01 06:59:59                                 -499.501984  \n",
       "2016-09-01 07:59:59                                 -503.970657  \n",
       "2016-09-01 08:59:59                                 -497.613716  \n",
       "2016-09-01 09:59:59                                 -499.272255  \n",
       "\n",
       "[10 rows x 52 columns]"
      ]
     },
     "metadata": {},
     "output_type": "display_data"
    }
   ],
   "source": [
    "display(df_test.head(10))"
   ]
  },
  {
   "cell_type": "code",
   "execution_count": 9,
   "metadata": {},
   "outputs": [
    {
     "data": {
      "text/plain": [
       "primary_cleaner.input.sulfate                 302\n",
       "primary_cleaner.input.depressant              284\n",
       "primary_cleaner.input.feed_size                 0\n",
       "primary_cleaner.input.xanthate                166\n",
       "primary_cleaner.state.floatbank8_a_air         16\n",
       "primary_cleaner.state.floatbank8_a_level       16\n",
       "primary_cleaner.state.floatbank8_b_air         16\n",
       "primary_cleaner.state.floatbank8_b_level       16\n",
       "primary_cleaner.state.floatbank8_c_air         16\n",
       "primary_cleaner.state.floatbank8_c_level       16\n",
       "primary_cleaner.state.floatbank8_d_air         16\n",
       "primary_cleaner.state.floatbank8_d_level       16\n",
       "rougher.input.feed_ag                          16\n",
       "rougher.input.feed_pb                          16\n",
       "rougher.input.feed_rate                        40\n",
       "rougher.input.feed_size                        22\n",
       "rougher.input.feed_sol                         67\n",
       "rougher.input.feed_au                          16\n",
       "rougher.input.floatbank10_sulfate             257\n",
       "rougher.input.floatbank10_xanthate            123\n",
       "rougher.input.floatbank11_sulfate              55\n",
       "rougher.input.floatbank11_xanthate            353\n",
       "rougher.state.floatbank10_a_air                17\n",
       "rougher.state.floatbank10_a_level              16\n",
       "rougher.state.floatbank10_b_air                17\n",
       "rougher.state.floatbank10_b_level              16\n",
       "rougher.state.floatbank10_c_air                17\n",
       "rougher.state.floatbank10_c_level              16\n",
       "rougher.state.floatbank10_d_air                17\n",
       "rougher.state.floatbank10_d_level              16\n",
       "rougher.state.floatbank10_e_air                17\n",
       "rougher.state.floatbank10_e_level              16\n",
       "rougher.state.floatbank10_f_air                17\n",
       "rougher.state.floatbank10_f_level              16\n",
       "secondary_cleaner.state.floatbank2_a_air       20\n",
       "secondary_cleaner.state.floatbank2_a_level     16\n",
       "secondary_cleaner.state.floatbank2_b_air       23\n",
       "secondary_cleaner.state.floatbank2_b_level     16\n",
       "secondary_cleaner.state.floatbank3_a_air       34\n",
       "secondary_cleaner.state.floatbank3_a_level     16\n",
       "secondary_cleaner.state.floatbank3_b_air       16\n",
       "secondary_cleaner.state.floatbank3_b_level     16\n",
       "secondary_cleaner.state.floatbank4_a_air       16\n",
       "secondary_cleaner.state.floatbank4_a_level     16\n",
       "secondary_cleaner.state.floatbank4_b_air       16\n",
       "secondary_cleaner.state.floatbank4_b_level     16\n",
       "secondary_cleaner.state.floatbank5_a_air       16\n",
       "secondary_cleaner.state.floatbank5_a_level     16\n",
       "secondary_cleaner.state.floatbank5_b_air       16\n",
       "secondary_cleaner.state.floatbank5_b_level     16\n",
       "secondary_cleaner.state.floatbank6_a_air       16\n",
       "secondary_cleaner.state.floatbank6_a_level     16\n",
       "dtype: int64"
      ]
     },
     "execution_count": 9,
     "metadata": {},
     "output_type": "execute_result"
    }
   ],
   "source": [
    "# Check for Missing Data\n",
    "df_test.isnull().sum()"
   ]
  },
  {
   "cell_type": "code",
   "execution_count": 10,
   "metadata": {},
   "outputs": [
    {
     "data": {
      "text/plain": [
       "6"
      ]
     },
     "execution_count": 10,
     "metadata": {},
     "output_type": "execute_result"
    }
   ],
   "source": [
    "# Check for Duplicates\n",
    "df_test.duplicated().sum()"
   ]
  },
  {
   "cell_type": "code",
   "execution_count": 11,
   "metadata": {},
   "outputs": [
    {
     "name": "stdout",
     "output_type": "stream",
     "text": [
      "<class 'pandas.core.frame.DataFrame'>\n",
      "DatetimeIndex: 22716 entries, 2016-01-15 00:00:00 to 2018-08-18 10:59:59\n",
      "Data columns (total 86 columns):\n",
      " #   Column                                              Non-Null Count  Dtype  \n",
      "---  ------                                              --------------  -----  \n",
      " 0   final.output.concentrate_ag                         22627 non-null  float64\n",
      " 1   final.output.concentrate_pb                         22629 non-null  float64\n",
      " 2   final.output.concentrate_sol                        22331 non-null  float64\n",
      " 3   final.output.concentrate_au                         22630 non-null  float64\n",
      " 4   final.output.recovery                               20753 non-null  float64\n",
      " 5   final.output.tail_ag                                22633 non-null  float64\n",
      " 6   final.output.tail_pb                                22516 non-null  float64\n",
      " 7   final.output.tail_sol                               22445 non-null  float64\n",
      " 8   final.output.tail_au                                22635 non-null  float64\n",
      " 9   primary_cleaner.input.sulfate                       21107 non-null  float64\n",
      " 10  primary_cleaner.input.depressant                    21170 non-null  float64\n",
      " 11  primary_cleaner.input.feed_size                     22716 non-null  float64\n",
      " 12  primary_cleaner.input.xanthate                      21565 non-null  float64\n",
      " 13  primary_cleaner.output.concentrate_ag               22618 non-null  float64\n",
      " 14  primary_cleaner.output.concentrate_pb               22268 non-null  float64\n",
      " 15  primary_cleaner.output.concentrate_sol              21918 non-null  float64\n",
      " 16  primary_cleaner.output.concentrate_au               22618 non-null  float64\n",
      " 17  primary_cleaner.output.tail_ag                      22614 non-null  float64\n",
      " 18  primary_cleaner.output.tail_pb                      22594 non-null  float64\n",
      " 19  primary_cleaner.output.tail_sol                     22365 non-null  float64\n",
      " 20  primary_cleaner.output.tail_au                      22617 non-null  float64\n",
      " 21  primary_cleaner.state.floatbank8_a_air              22660 non-null  float64\n",
      " 22  primary_cleaner.state.floatbank8_a_level            22667 non-null  float64\n",
      " 23  primary_cleaner.state.floatbank8_b_air              22660 non-null  float64\n",
      " 24  primary_cleaner.state.floatbank8_b_level            22673 non-null  float64\n",
      " 25  primary_cleaner.state.floatbank8_c_air              22662 non-null  float64\n",
      " 26  primary_cleaner.state.floatbank8_c_level            22673 non-null  float64\n",
      " 27  primary_cleaner.state.floatbank8_d_air              22661 non-null  float64\n",
      " 28  primary_cleaner.state.floatbank8_d_level            22673 non-null  float64\n",
      " 29  rougher.calculation.sulfate_to_au_concentrate       22672 non-null  float64\n",
      " 30  rougher.calculation.floatbank10_sulfate_to_au_feed  22672 non-null  float64\n",
      " 31  rougher.calculation.floatbank11_sulfate_to_au_feed  22672 non-null  float64\n",
      " 32  rougher.calculation.au_pb_ratio                     21089 non-null  float64\n",
      " 33  rougher.input.feed_ag                               22618 non-null  float64\n",
      " 34  rougher.input.feed_pb                               22472 non-null  float64\n",
      " 35  rougher.input.feed_rate                             22163 non-null  float64\n",
      " 36  rougher.input.feed_size                             22277 non-null  float64\n",
      " 37  rougher.input.feed_sol                              22357 non-null  float64\n",
      " 38  rougher.input.feed_au                               22617 non-null  float64\n",
      " 39  rougher.input.floatbank10_sulfate                   21415 non-null  float64\n",
      " 40  rougher.input.floatbank10_xanthate                  22247 non-null  float64\n",
      " 41  rougher.input.floatbank11_sulfate                   22038 non-null  float64\n",
      " 42  rougher.input.floatbank11_xanthate                  20459 non-null  float64\n",
      " 43  rougher.output.concentrate_ag                       22618 non-null  float64\n",
      " 44  rougher.output.concentrate_pb                       22618 non-null  float64\n",
      " 45  rougher.output.concentrate_sol                      22526 non-null  float64\n",
      " 46  rougher.output.concentrate_au                       22618 non-null  float64\n",
      " 47  rougher.output.recovery                             19597 non-null  float64\n",
      " 48  rougher.output.tail_ag                              19979 non-null  float64\n",
      " 49  rougher.output.tail_pb                              22618 non-null  float64\n",
      " 50  rougher.output.tail_sol                             19980 non-null  float64\n",
      " 51  rougher.output.tail_au                              19980 non-null  float64\n",
      " 52  rougher.state.floatbank10_a_air                     22646 non-null  float64\n",
      " 53  rougher.state.floatbank10_a_level                   22647 non-null  float64\n",
      " 54  rougher.state.floatbank10_b_air                     22646 non-null  float64\n",
      " 55  rougher.state.floatbank10_b_level                   22647 non-null  float64\n",
      " 56  rougher.state.floatbank10_c_air                     22646 non-null  float64\n",
      " 57  rougher.state.floatbank10_c_level                   22654 non-null  float64\n",
      " 58  rougher.state.floatbank10_d_air                     22641 non-null  float64\n",
      " 59  rougher.state.floatbank10_d_level                   22649 non-null  float64\n",
      " 60  rougher.state.floatbank10_e_air                     22096 non-null  float64\n",
      " 61  rougher.state.floatbank10_e_level                   22649 non-null  float64\n",
      " 62  rougher.state.floatbank10_f_air                     22641 non-null  float64\n",
      " 63  rougher.state.floatbank10_f_level                   22642 non-null  float64\n",
      " 64  secondary_cleaner.output.tail_ag                    22616 non-null  float64\n",
      " 65  secondary_cleaner.output.tail_pb                    22600 non-null  float64\n",
      " 66  secondary_cleaner.output.tail_sol                   20501 non-null  float64\n",
      " 67  secondary_cleaner.output.tail_au                    22618 non-null  float64\n",
      " 68  secondary_cleaner.state.floatbank2_a_air            22333 non-null  float64\n",
      " 69  secondary_cleaner.state.floatbank2_a_level          22591 non-null  float64\n",
      " 70  secondary_cleaner.state.floatbank2_b_air            22538 non-null  float64\n",
      " 71  secondary_cleaner.state.floatbank2_b_level          22588 non-null  float64\n",
      " 72  secondary_cleaner.state.floatbank3_a_air            22585 non-null  float64\n",
      " 73  secondary_cleaner.state.floatbank3_a_level          22587 non-null  float64\n",
      " 74  secondary_cleaner.state.floatbank3_b_air            22592 non-null  float64\n",
      " 75  secondary_cleaner.state.floatbank3_b_level          22590 non-null  float64\n",
      " 76  secondary_cleaner.state.floatbank4_a_air            22571 non-null  float64\n",
      " 77  secondary_cleaner.state.floatbank4_a_level          22587 non-null  float64\n",
      " 78  secondary_cleaner.state.floatbank4_b_air            22608 non-null  float64\n",
      " 79  secondary_cleaner.state.floatbank4_b_level          22607 non-null  float64\n",
      " 80  secondary_cleaner.state.floatbank5_a_air            22615 non-null  float64\n",
      " 81  secondary_cleaner.state.floatbank5_a_level          22615 non-null  float64\n",
      " 82  secondary_cleaner.state.floatbank5_b_air            22615 non-null  float64\n",
      " 83  secondary_cleaner.state.floatbank5_b_level          22616 non-null  float64\n",
      " 84  secondary_cleaner.state.floatbank6_a_air            22597 non-null  float64\n",
      " 85  secondary_cleaner.state.floatbank6_a_level          22615 non-null  float64\n",
      "dtypes: float64(86)\n",
      "memory usage: 15.1 MB\n"
     ]
    },
    {
     "data": {
      "text/plain": [
       "(22716, 86)"
      ]
     },
     "metadata": {},
     "output_type": "display_data"
    },
    {
     "data": {
      "text/html": [
       "<div>\n",
       "<style scoped>\n",
       "    .dataframe tbody tr th:only-of-type {\n",
       "        vertical-align: middle;\n",
       "    }\n",
       "\n",
       "    .dataframe tbody tr th {\n",
       "        vertical-align: top;\n",
       "    }\n",
       "\n",
       "    .dataframe thead th {\n",
       "        text-align: right;\n",
       "    }\n",
       "</style>\n",
       "<table border=\"1\" class=\"dataframe\">\n",
       "  <thead>\n",
       "    <tr style=\"text-align: right;\">\n",
       "      <th></th>\n",
       "      <th>final.output.concentrate_ag</th>\n",
       "      <th>final.output.concentrate_pb</th>\n",
       "      <th>final.output.concentrate_sol</th>\n",
       "      <th>final.output.concentrate_au</th>\n",
       "      <th>final.output.recovery</th>\n",
       "      <th>final.output.tail_ag</th>\n",
       "      <th>final.output.tail_pb</th>\n",
       "      <th>final.output.tail_sol</th>\n",
       "      <th>final.output.tail_au</th>\n",
       "      <th>primary_cleaner.input.sulfate</th>\n",
       "      <th>...</th>\n",
       "      <th>secondary_cleaner.state.floatbank4_a_air</th>\n",
       "      <th>secondary_cleaner.state.floatbank4_a_level</th>\n",
       "      <th>secondary_cleaner.state.floatbank4_b_air</th>\n",
       "      <th>secondary_cleaner.state.floatbank4_b_level</th>\n",
       "      <th>secondary_cleaner.state.floatbank5_a_air</th>\n",
       "      <th>secondary_cleaner.state.floatbank5_a_level</th>\n",
       "      <th>secondary_cleaner.state.floatbank5_b_air</th>\n",
       "      <th>secondary_cleaner.state.floatbank5_b_level</th>\n",
       "      <th>secondary_cleaner.state.floatbank6_a_air</th>\n",
       "      <th>secondary_cleaner.state.floatbank6_a_level</th>\n",
       "    </tr>\n",
       "  </thead>\n",
       "  <tbody>\n",
       "    <tr>\n",
       "      <th>count</th>\n",
       "      <td>22627.000000</td>\n",
       "      <td>22629.000000</td>\n",
       "      <td>22331.000000</td>\n",
       "      <td>22630.000000</td>\n",
       "      <td>20753.000000</td>\n",
       "      <td>22633.000000</td>\n",
       "      <td>22516.000000</td>\n",
       "      <td>22445.000000</td>\n",
       "      <td>22635.000000</td>\n",
       "      <td>21107.000000</td>\n",
       "      <td>...</td>\n",
       "      <td>22571.000000</td>\n",
       "      <td>22587.000000</td>\n",
       "      <td>22608.000000</td>\n",
       "      <td>22607.000000</td>\n",
       "      <td>22615.000000</td>\n",
       "      <td>22615.000000</td>\n",
       "      <td>22615.000000</td>\n",
       "      <td>22616.000000</td>\n",
       "      <td>22597.000000</td>\n",
       "      <td>22615.000000</td>\n",
       "    </tr>\n",
       "    <tr>\n",
       "      <th>mean</th>\n",
       "      <td>4.781559</td>\n",
       "      <td>9.095308</td>\n",
       "      <td>8.640317</td>\n",
       "      <td>40.001172</td>\n",
       "      <td>67.447488</td>\n",
       "      <td>8.923690</td>\n",
       "      <td>2.488252</td>\n",
       "      <td>9.523632</td>\n",
       "      <td>2.827459</td>\n",
       "      <td>140.277672</td>\n",
       "      <td>...</td>\n",
       "      <td>18.205125</td>\n",
       "      <td>-499.878977</td>\n",
       "      <td>14.356474</td>\n",
       "      <td>-476.532613</td>\n",
       "      <td>14.883276</td>\n",
       "      <td>-503.323288</td>\n",
       "      <td>11.626743</td>\n",
       "      <td>-500.521502</td>\n",
       "      <td>17.976810</td>\n",
       "      <td>-519.361465</td>\n",
       "    </tr>\n",
       "    <tr>\n",
       "      <th>std</th>\n",
       "      <td>2.030128</td>\n",
       "      <td>3.230797</td>\n",
       "      <td>3.785035</td>\n",
       "      <td>13.398062</td>\n",
       "      <td>11.616034</td>\n",
       "      <td>3.517917</td>\n",
       "      <td>1.189407</td>\n",
       "      <td>4.079739</td>\n",
       "      <td>1.262834</td>\n",
       "      <td>49.919004</td>\n",
       "      <td>...</td>\n",
       "      <td>6.560700</td>\n",
       "      <td>80.273964</td>\n",
       "      <td>5.655791</td>\n",
       "      <td>93.822791</td>\n",
       "      <td>6.372811</td>\n",
       "      <td>72.925589</td>\n",
       "      <td>5.757449</td>\n",
       "      <td>78.956292</td>\n",
       "      <td>6.636203</td>\n",
       "      <td>75.477151</td>\n",
       "    </tr>\n",
       "    <tr>\n",
       "      <th>min</th>\n",
       "      <td>0.000000</td>\n",
       "      <td>0.000000</td>\n",
       "      <td>0.000000</td>\n",
       "      <td>0.000000</td>\n",
       "      <td>0.000000</td>\n",
       "      <td>0.000000</td>\n",
       "      <td>0.000000</td>\n",
       "      <td>0.000000</td>\n",
       "      <td>0.000000</td>\n",
       "      <td>0.000003</td>\n",
       "      <td>...</td>\n",
       "      <td>0.000000</td>\n",
       "      <td>-799.920713</td>\n",
       "      <td>0.000000</td>\n",
       "      <td>-800.836914</td>\n",
       "      <td>-0.423260</td>\n",
       "      <td>-799.741097</td>\n",
       "      <td>0.427084</td>\n",
       "      <td>-800.258209</td>\n",
       "      <td>-0.079426</td>\n",
       "      <td>-810.473526</td>\n",
       "    </tr>\n",
       "    <tr>\n",
       "      <th>25%</th>\n",
       "      <td>4.018525</td>\n",
       "      <td>8.750171</td>\n",
       "      <td>7.116799</td>\n",
       "      <td>42.383721</td>\n",
       "      <td>63.282393</td>\n",
       "      <td>7.684016</td>\n",
       "      <td>1.805376</td>\n",
       "      <td>8.143576</td>\n",
       "      <td>2.303108</td>\n",
       "      <td>110.177081</td>\n",
       "      <td>...</td>\n",
       "      <td>14.095940</td>\n",
       "      <td>-500.896232</td>\n",
       "      <td>10.882675</td>\n",
       "      <td>-500.309169</td>\n",
       "      <td>10.941299</td>\n",
       "      <td>-500.628697</td>\n",
       "      <td>8.037533</td>\n",
       "      <td>-500.167897</td>\n",
       "      <td>13.968418</td>\n",
       "      <td>-500.981671</td>\n",
       "    </tr>\n",
       "    <tr>\n",
       "      <th>50%</th>\n",
       "      <td>4.953729</td>\n",
       "      <td>9.914519</td>\n",
       "      <td>8.908792</td>\n",
       "      <td>44.653436</td>\n",
       "      <td>68.322258</td>\n",
       "      <td>9.484369</td>\n",
       "      <td>2.653001</td>\n",
       "      <td>10.212998</td>\n",
       "      <td>2.913794</td>\n",
       "      <td>141.330501</td>\n",
       "      <td>...</td>\n",
       "      <td>18.007326</td>\n",
       "      <td>-499.917108</td>\n",
       "      <td>14.947646</td>\n",
       "      <td>-499.612292</td>\n",
       "      <td>14.859117</td>\n",
       "      <td>-499.865158</td>\n",
       "      <td>10.989756</td>\n",
       "      <td>-499.951980</td>\n",
       "      <td>18.004215</td>\n",
       "      <td>-500.095463</td>\n",
       "    </tr>\n",
       "    <tr>\n",
       "      <th>75%</th>\n",
       "      <td>5.862593</td>\n",
       "      <td>10.929839</td>\n",
       "      <td>10.705824</td>\n",
       "      <td>46.111999</td>\n",
       "      <td>72.950836</td>\n",
       "      <td>11.084557</td>\n",
       "      <td>3.287790</td>\n",
       "      <td>11.860824</td>\n",
       "      <td>3.555077</td>\n",
       "      <td>174.049914</td>\n",
       "      <td>...</td>\n",
       "      <td>22.998194</td>\n",
       "      <td>-498.361545</td>\n",
       "      <td>17.977502</td>\n",
       "      <td>-400.224147</td>\n",
       "      <td>18.014914</td>\n",
       "      <td>-498.489381</td>\n",
       "      <td>14.001193</td>\n",
       "      <td>-499.492354</td>\n",
       "      <td>23.009704</td>\n",
       "      <td>-499.526388</td>\n",
       "    </tr>\n",
       "    <tr>\n",
       "      <th>max</th>\n",
       "      <td>16.001945</td>\n",
       "      <td>17.031899</td>\n",
       "      <td>19.615720</td>\n",
       "      <td>53.611374</td>\n",
       "      <td>100.000000</td>\n",
       "      <td>19.552149</td>\n",
       "      <td>6.086532</td>\n",
       "      <td>22.861749</td>\n",
       "      <td>9.789625</td>\n",
       "      <td>274.409626</td>\n",
       "      <td>...</td>\n",
       "      <td>60.000000</td>\n",
       "      <td>-127.692333</td>\n",
       "      <td>31.269706</td>\n",
       "      <td>-6.506986</td>\n",
       "      <td>63.116298</td>\n",
       "      <td>-244.483566</td>\n",
       "      <td>39.846228</td>\n",
       "      <td>-120.190931</td>\n",
       "      <td>54.876806</td>\n",
       "      <td>-29.093593</td>\n",
       "    </tr>\n",
       "  </tbody>\n",
       "</table>\n",
       "<p>8 rows × 86 columns</p>\n",
       "</div>"
      ],
      "text/plain": [
       "       final.output.concentrate_ag  final.output.concentrate_pb  \\\n",
       "count                 22627.000000                 22629.000000   \n",
       "mean                      4.781559                     9.095308   \n",
       "std                       2.030128                     3.230797   \n",
       "min                       0.000000                     0.000000   \n",
       "25%                       4.018525                     8.750171   \n",
       "50%                       4.953729                     9.914519   \n",
       "75%                       5.862593                    10.929839   \n",
       "max                      16.001945                    17.031899   \n",
       "\n",
       "       final.output.concentrate_sol  final.output.concentrate_au  \\\n",
       "count                  22331.000000                 22630.000000   \n",
       "mean                       8.640317                    40.001172   \n",
       "std                        3.785035                    13.398062   \n",
       "min                        0.000000                     0.000000   \n",
       "25%                        7.116799                    42.383721   \n",
       "50%                        8.908792                    44.653436   \n",
       "75%                       10.705824                    46.111999   \n",
       "max                       19.615720                    53.611374   \n",
       "\n",
       "       final.output.recovery  final.output.tail_ag  final.output.tail_pb  \\\n",
       "count           20753.000000          22633.000000          22516.000000   \n",
       "mean               67.447488              8.923690              2.488252   \n",
       "std                11.616034              3.517917              1.189407   \n",
       "min                 0.000000              0.000000              0.000000   \n",
       "25%                63.282393              7.684016              1.805376   \n",
       "50%                68.322258              9.484369              2.653001   \n",
       "75%                72.950836             11.084557              3.287790   \n",
       "max               100.000000             19.552149              6.086532   \n",
       "\n",
       "       final.output.tail_sol  final.output.tail_au  \\\n",
       "count           22445.000000          22635.000000   \n",
       "mean                9.523632              2.827459   \n",
       "std                 4.079739              1.262834   \n",
       "min                 0.000000              0.000000   \n",
       "25%                 8.143576              2.303108   \n",
       "50%                10.212998              2.913794   \n",
       "75%                11.860824              3.555077   \n",
       "max                22.861749              9.789625   \n",
       "\n",
       "       primary_cleaner.input.sulfate  ...  \\\n",
       "count                   21107.000000  ...   \n",
       "mean                      140.277672  ...   \n",
       "std                        49.919004  ...   \n",
       "min                         0.000003  ...   \n",
       "25%                       110.177081  ...   \n",
       "50%                       141.330501  ...   \n",
       "75%                       174.049914  ...   \n",
       "max                       274.409626  ...   \n",
       "\n",
       "       secondary_cleaner.state.floatbank4_a_air  \\\n",
       "count                              22571.000000   \n",
       "mean                                  18.205125   \n",
       "std                                    6.560700   \n",
       "min                                    0.000000   \n",
       "25%                                   14.095940   \n",
       "50%                                   18.007326   \n",
       "75%                                   22.998194   \n",
       "max                                   60.000000   \n",
       "\n",
       "       secondary_cleaner.state.floatbank4_a_level  \\\n",
       "count                                22587.000000   \n",
       "mean                                  -499.878977   \n",
       "std                                     80.273964   \n",
       "min                                   -799.920713   \n",
       "25%                                   -500.896232   \n",
       "50%                                   -499.917108   \n",
       "75%                                   -498.361545   \n",
       "max                                   -127.692333   \n",
       "\n",
       "       secondary_cleaner.state.floatbank4_b_air  \\\n",
       "count                              22608.000000   \n",
       "mean                                  14.356474   \n",
       "std                                    5.655791   \n",
       "min                                    0.000000   \n",
       "25%                                   10.882675   \n",
       "50%                                   14.947646   \n",
       "75%                                   17.977502   \n",
       "max                                   31.269706   \n",
       "\n",
       "       secondary_cleaner.state.floatbank4_b_level  \\\n",
       "count                                22607.000000   \n",
       "mean                                  -476.532613   \n",
       "std                                     93.822791   \n",
       "min                                   -800.836914   \n",
       "25%                                   -500.309169   \n",
       "50%                                   -499.612292   \n",
       "75%                                   -400.224147   \n",
       "max                                     -6.506986   \n",
       "\n",
       "       secondary_cleaner.state.floatbank5_a_air  \\\n",
       "count                              22615.000000   \n",
       "mean                                  14.883276   \n",
       "std                                    6.372811   \n",
       "min                                   -0.423260   \n",
       "25%                                   10.941299   \n",
       "50%                                   14.859117   \n",
       "75%                                   18.014914   \n",
       "max                                   63.116298   \n",
       "\n",
       "       secondary_cleaner.state.floatbank5_a_level  \\\n",
       "count                                22615.000000   \n",
       "mean                                  -503.323288   \n",
       "std                                     72.925589   \n",
       "min                                   -799.741097   \n",
       "25%                                   -500.628697   \n",
       "50%                                   -499.865158   \n",
       "75%                                   -498.489381   \n",
       "max                                   -244.483566   \n",
       "\n",
       "       secondary_cleaner.state.floatbank5_b_air  \\\n",
       "count                              22615.000000   \n",
       "mean                                  11.626743   \n",
       "std                                    5.757449   \n",
       "min                                    0.427084   \n",
       "25%                                    8.037533   \n",
       "50%                                   10.989756   \n",
       "75%                                   14.001193   \n",
       "max                                   39.846228   \n",
       "\n",
       "       secondary_cleaner.state.floatbank5_b_level  \\\n",
       "count                                22616.000000   \n",
       "mean                                  -500.521502   \n",
       "std                                     78.956292   \n",
       "min                                   -800.258209   \n",
       "25%                                   -500.167897   \n",
       "50%                                   -499.951980   \n",
       "75%                                   -499.492354   \n",
       "max                                   -120.190931   \n",
       "\n",
       "       secondary_cleaner.state.floatbank6_a_air  \\\n",
       "count                              22597.000000   \n",
       "mean                                  17.976810   \n",
       "std                                    6.636203   \n",
       "min                                   -0.079426   \n",
       "25%                                   13.968418   \n",
       "50%                                   18.004215   \n",
       "75%                                   23.009704   \n",
       "max                                   54.876806   \n",
       "\n",
       "       secondary_cleaner.state.floatbank6_a_level  \n",
       "count                                22615.000000  \n",
       "mean                                  -519.361465  \n",
       "std                                     75.477151  \n",
       "min                                   -810.473526  \n",
       "25%                                   -500.981671  \n",
       "50%                                   -500.095463  \n",
       "75%                                   -499.526388  \n",
       "max                                    -29.093593  \n",
       "\n",
       "[8 rows x 86 columns]"
      ]
     },
     "metadata": {},
     "output_type": "display_data"
    }
   ],
   "source": [
    "# Review Data for df_full\n",
    "df_full.info()\n",
    "display(df_full.shape)\n",
    "display(df_full.describe())"
   ]
  },
  {
   "cell_type": "code",
   "execution_count": 12,
   "metadata": {},
   "outputs": [
    {
     "data": {
      "text/html": [
       "<div>\n",
       "<style scoped>\n",
       "    .dataframe tbody tr th:only-of-type {\n",
       "        vertical-align: middle;\n",
       "    }\n",
       "\n",
       "    .dataframe tbody tr th {\n",
       "        vertical-align: top;\n",
       "    }\n",
       "\n",
       "    .dataframe thead th {\n",
       "        text-align: right;\n",
       "    }\n",
       "</style>\n",
       "<table border=\"1\" class=\"dataframe\">\n",
       "  <thead>\n",
       "    <tr style=\"text-align: right;\">\n",
       "      <th></th>\n",
       "      <th>final.output.concentrate_ag</th>\n",
       "      <th>final.output.concentrate_pb</th>\n",
       "      <th>final.output.concentrate_sol</th>\n",
       "      <th>final.output.concentrate_au</th>\n",
       "      <th>final.output.recovery</th>\n",
       "      <th>final.output.tail_ag</th>\n",
       "      <th>final.output.tail_pb</th>\n",
       "      <th>final.output.tail_sol</th>\n",
       "      <th>final.output.tail_au</th>\n",
       "      <th>primary_cleaner.input.sulfate</th>\n",
       "      <th>...</th>\n",
       "      <th>secondary_cleaner.state.floatbank4_a_air</th>\n",
       "      <th>secondary_cleaner.state.floatbank4_a_level</th>\n",
       "      <th>secondary_cleaner.state.floatbank4_b_air</th>\n",
       "      <th>secondary_cleaner.state.floatbank4_b_level</th>\n",
       "      <th>secondary_cleaner.state.floatbank5_a_air</th>\n",
       "      <th>secondary_cleaner.state.floatbank5_a_level</th>\n",
       "      <th>secondary_cleaner.state.floatbank5_b_air</th>\n",
       "      <th>secondary_cleaner.state.floatbank5_b_level</th>\n",
       "      <th>secondary_cleaner.state.floatbank6_a_air</th>\n",
       "      <th>secondary_cleaner.state.floatbank6_a_level</th>\n",
       "    </tr>\n",
       "    <tr>\n",
       "      <th>date</th>\n",
       "      <th></th>\n",
       "      <th></th>\n",
       "      <th></th>\n",
       "      <th></th>\n",
       "      <th></th>\n",
       "      <th></th>\n",
       "      <th></th>\n",
       "      <th></th>\n",
       "      <th></th>\n",
       "      <th></th>\n",
       "      <th></th>\n",
       "      <th></th>\n",
       "      <th></th>\n",
       "      <th></th>\n",
       "      <th></th>\n",
       "      <th></th>\n",
       "      <th></th>\n",
       "      <th></th>\n",
       "      <th></th>\n",
       "      <th></th>\n",
       "      <th></th>\n",
       "    </tr>\n",
       "  </thead>\n",
       "  <tbody>\n",
       "    <tr>\n",
       "      <th>2016-01-15 00:00:00</th>\n",
       "      <td>6.055403</td>\n",
       "      <td>9.889648</td>\n",
       "      <td>5.507324</td>\n",
       "      <td>42.192020</td>\n",
       "      <td>70.541216</td>\n",
       "      <td>10.411962</td>\n",
       "      <td>0.895447</td>\n",
       "      <td>16.904297</td>\n",
       "      <td>2.143149</td>\n",
       "      <td>127.092003</td>\n",
       "      <td>...</td>\n",
       "      <td>14.016835</td>\n",
       "      <td>-502.488007</td>\n",
       "      <td>12.099931</td>\n",
       "      <td>-504.715942</td>\n",
       "      <td>9.925633</td>\n",
       "      <td>-498.310211</td>\n",
       "      <td>8.079666</td>\n",
       "      <td>-500.470978</td>\n",
       "      <td>14.151341</td>\n",
       "      <td>-605.841980</td>\n",
       "    </tr>\n",
       "    <tr>\n",
       "      <th>2016-01-15 01:00:00</th>\n",
       "      <td>6.029369</td>\n",
       "      <td>9.968944</td>\n",
       "      <td>5.257781</td>\n",
       "      <td>42.701629</td>\n",
       "      <td>69.266198</td>\n",
       "      <td>10.462676</td>\n",
       "      <td>0.927452</td>\n",
       "      <td>16.634514</td>\n",
       "      <td>2.224930</td>\n",
       "      <td>125.629232</td>\n",
       "      <td>...</td>\n",
       "      <td>13.992281</td>\n",
       "      <td>-505.503262</td>\n",
       "      <td>11.950531</td>\n",
       "      <td>-501.331529</td>\n",
       "      <td>10.039245</td>\n",
       "      <td>-500.169983</td>\n",
       "      <td>7.984757</td>\n",
       "      <td>-500.582168</td>\n",
       "      <td>13.998353</td>\n",
       "      <td>-599.787184</td>\n",
       "    </tr>\n",
       "    <tr>\n",
       "      <th>2016-01-15 02:00:00</th>\n",
       "      <td>6.055926</td>\n",
       "      <td>10.213995</td>\n",
       "      <td>5.383759</td>\n",
       "      <td>42.657501</td>\n",
       "      <td>68.116445</td>\n",
       "      <td>10.507046</td>\n",
       "      <td>0.953716</td>\n",
       "      <td>16.208849</td>\n",
       "      <td>2.257889</td>\n",
       "      <td>123.819808</td>\n",
       "      <td>...</td>\n",
       "      <td>14.015015</td>\n",
       "      <td>-502.520901</td>\n",
       "      <td>11.912783</td>\n",
       "      <td>-501.133383</td>\n",
       "      <td>10.070913</td>\n",
       "      <td>-500.129135</td>\n",
       "      <td>8.013877</td>\n",
       "      <td>-500.517572</td>\n",
       "      <td>14.028663</td>\n",
       "      <td>-601.427363</td>\n",
       "    </tr>\n",
       "    <tr>\n",
       "      <th>2016-01-15 03:00:00</th>\n",
       "      <td>6.047977</td>\n",
       "      <td>9.977019</td>\n",
       "      <td>4.858634</td>\n",
       "      <td>42.689819</td>\n",
       "      <td>68.347543</td>\n",
       "      <td>10.422762</td>\n",
       "      <td>0.883763</td>\n",
       "      <td>16.532835</td>\n",
       "      <td>2.146849</td>\n",
       "      <td>122.270188</td>\n",
       "      <td>...</td>\n",
       "      <td>14.036510</td>\n",
       "      <td>-500.857308</td>\n",
       "      <td>11.999550</td>\n",
       "      <td>-501.193686</td>\n",
       "      <td>9.970366</td>\n",
       "      <td>-499.201640</td>\n",
       "      <td>7.977324</td>\n",
       "      <td>-500.255908</td>\n",
       "      <td>14.005551</td>\n",
       "      <td>-599.996129</td>\n",
       "    </tr>\n",
       "    <tr>\n",
       "      <th>2016-01-15 04:00:00</th>\n",
       "      <td>6.148599</td>\n",
       "      <td>10.142511</td>\n",
       "      <td>4.939416</td>\n",
       "      <td>42.774141</td>\n",
       "      <td>66.927016</td>\n",
       "      <td>10.360302</td>\n",
       "      <td>0.792826</td>\n",
       "      <td>16.525686</td>\n",
       "      <td>2.055292</td>\n",
       "      <td>117.988169</td>\n",
       "      <td>...</td>\n",
       "      <td>14.027298</td>\n",
       "      <td>-499.838632</td>\n",
       "      <td>11.953070</td>\n",
       "      <td>-501.053894</td>\n",
       "      <td>9.925709</td>\n",
       "      <td>-501.686727</td>\n",
       "      <td>7.894242</td>\n",
       "      <td>-500.356035</td>\n",
       "      <td>13.996647</td>\n",
       "      <td>-601.496691</td>\n",
       "    </tr>\n",
       "    <tr>\n",
       "      <th>2016-01-15 05:00:00</th>\n",
       "      <td>6.482968</td>\n",
       "      <td>10.049416</td>\n",
       "      <td>5.480257</td>\n",
       "      <td>41.633678</td>\n",
       "      <td>69.465816</td>\n",
       "      <td>10.182708</td>\n",
       "      <td>0.664118</td>\n",
       "      <td>16.999638</td>\n",
       "      <td>1.918586</td>\n",
       "      <td>115.581252</td>\n",
       "      <td>...</td>\n",
       "      <td>13.938497</td>\n",
       "      <td>-500.970168</td>\n",
       "      <td>11.883350</td>\n",
       "      <td>-500.395298</td>\n",
       "      <td>10.054147</td>\n",
       "      <td>-496.374715</td>\n",
       "      <td>7.965083</td>\n",
       "      <td>-499.364752</td>\n",
       "      <td>14.017067</td>\n",
       "      <td>-599.707915</td>\n",
       "    </tr>\n",
       "    <tr>\n",
       "      <th>2016-01-15 06:00:00</th>\n",
       "      <td>6.533849</td>\n",
       "      <td>10.058141</td>\n",
       "      <td>4.569100</td>\n",
       "      <td>41.995316</td>\n",
       "      <td>69.300835</td>\n",
       "      <td>10.304598</td>\n",
       "      <td>0.807342</td>\n",
       "      <td>16.723575</td>\n",
       "      <td>2.058913</td>\n",
       "      <td>117.322323</td>\n",
       "      <td>...</td>\n",
       "      <td>14.046819</td>\n",
       "      <td>-500.971133</td>\n",
       "      <td>12.091543</td>\n",
       "      <td>-500.501426</td>\n",
       "      <td>10.003247</td>\n",
       "      <td>-497.083180</td>\n",
       "      <td>8.010890</td>\n",
       "      <td>-500.002423</td>\n",
       "      <td>14.029649</td>\n",
       "      <td>-600.905470</td>\n",
       "    </tr>\n",
       "    <tr>\n",
       "      <th>2016-01-15 07:00:00</th>\n",
       "      <td>6.130823</td>\n",
       "      <td>9.935481</td>\n",
       "      <td>4.389813</td>\n",
       "      <td>42.452727</td>\n",
       "      <td>70.230976</td>\n",
       "      <td>10.443288</td>\n",
       "      <td>0.949346</td>\n",
       "      <td>16.689959</td>\n",
       "      <td>2.143437</td>\n",
       "      <td>124.592960</td>\n",
       "      <td>...</td>\n",
       "      <td>13.974691</td>\n",
       "      <td>-501.819696</td>\n",
       "      <td>12.101324</td>\n",
       "      <td>-500.583446</td>\n",
       "      <td>9.873169</td>\n",
       "      <td>-499.171928</td>\n",
       "      <td>7.993381</td>\n",
       "      <td>-499.794518</td>\n",
       "      <td>13.984498</td>\n",
       "      <td>-600.411070</td>\n",
       "    </tr>\n",
       "    <tr>\n",
       "      <th>2016-01-15 08:00:00</th>\n",
       "      <td>5.834140</td>\n",
       "      <td>10.071156</td>\n",
       "      <td>4.876389</td>\n",
       "      <td>43.404078</td>\n",
       "      <td>69.688595</td>\n",
       "      <td>10.420140</td>\n",
       "      <td>1.065453</td>\n",
       "      <td>17.201948</td>\n",
       "      <td>2.209881</td>\n",
       "      <td>131.781026</td>\n",
       "      <td>...</td>\n",
       "      <td>13.964030</td>\n",
       "      <td>-504.252450</td>\n",
       "      <td>12.060738</td>\n",
       "      <td>-501.174549</td>\n",
       "      <td>10.033838</td>\n",
       "      <td>-501.178133</td>\n",
       "      <td>7.881604</td>\n",
       "      <td>-499.729434</td>\n",
       "      <td>13.967135</td>\n",
       "      <td>-599.061188</td>\n",
       "    </tr>\n",
       "    <tr>\n",
       "      <th>2016-01-15 09:00:00</th>\n",
       "      <td>5.687063</td>\n",
       "      <td>9.980404</td>\n",
       "      <td>5.282514</td>\n",
       "      <td>43.235220</td>\n",
       "      <td>70.279619</td>\n",
       "      <td>10.487013</td>\n",
       "      <td>1.159805</td>\n",
       "      <td>17.483979</td>\n",
       "      <td>2.209593</td>\n",
       "      <td>138.120409</td>\n",
       "      <td>...</td>\n",
       "      <td>13.989632</td>\n",
       "      <td>-503.195299</td>\n",
       "      <td>12.052233</td>\n",
       "      <td>-500.928547</td>\n",
       "      <td>9.962574</td>\n",
       "      <td>-502.986357</td>\n",
       "      <td>7.979219</td>\n",
       "      <td>-500.146835</td>\n",
       "      <td>13.981614</td>\n",
       "      <td>-598.070855</td>\n",
       "    </tr>\n",
       "  </tbody>\n",
       "</table>\n",
       "<p>10 rows × 86 columns</p>\n",
       "</div>"
      ],
      "text/plain": [
       "                     final.output.concentrate_ag  final.output.concentrate_pb  \\\n",
       "date                                                                            \n",
       "2016-01-15 00:00:00                     6.055403                     9.889648   \n",
       "2016-01-15 01:00:00                     6.029369                     9.968944   \n",
       "2016-01-15 02:00:00                     6.055926                    10.213995   \n",
       "2016-01-15 03:00:00                     6.047977                     9.977019   \n",
       "2016-01-15 04:00:00                     6.148599                    10.142511   \n",
       "2016-01-15 05:00:00                     6.482968                    10.049416   \n",
       "2016-01-15 06:00:00                     6.533849                    10.058141   \n",
       "2016-01-15 07:00:00                     6.130823                     9.935481   \n",
       "2016-01-15 08:00:00                     5.834140                    10.071156   \n",
       "2016-01-15 09:00:00                     5.687063                     9.980404   \n",
       "\n",
       "                     final.output.concentrate_sol  \\\n",
       "date                                                \n",
       "2016-01-15 00:00:00                      5.507324   \n",
       "2016-01-15 01:00:00                      5.257781   \n",
       "2016-01-15 02:00:00                      5.383759   \n",
       "2016-01-15 03:00:00                      4.858634   \n",
       "2016-01-15 04:00:00                      4.939416   \n",
       "2016-01-15 05:00:00                      5.480257   \n",
       "2016-01-15 06:00:00                      4.569100   \n",
       "2016-01-15 07:00:00                      4.389813   \n",
       "2016-01-15 08:00:00                      4.876389   \n",
       "2016-01-15 09:00:00                      5.282514   \n",
       "\n",
       "                     final.output.concentrate_au  final.output.recovery  \\\n",
       "date                                                                      \n",
       "2016-01-15 00:00:00                    42.192020              70.541216   \n",
       "2016-01-15 01:00:00                    42.701629              69.266198   \n",
       "2016-01-15 02:00:00                    42.657501              68.116445   \n",
       "2016-01-15 03:00:00                    42.689819              68.347543   \n",
       "2016-01-15 04:00:00                    42.774141              66.927016   \n",
       "2016-01-15 05:00:00                    41.633678              69.465816   \n",
       "2016-01-15 06:00:00                    41.995316              69.300835   \n",
       "2016-01-15 07:00:00                    42.452727              70.230976   \n",
       "2016-01-15 08:00:00                    43.404078              69.688595   \n",
       "2016-01-15 09:00:00                    43.235220              70.279619   \n",
       "\n",
       "                     final.output.tail_ag  final.output.tail_pb  \\\n",
       "date                                                              \n",
       "2016-01-15 00:00:00             10.411962              0.895447   \n",
       "2016-01-15 01:00:00             10.462676              0.927452   \n",
       "2016-01-15 02:00:00             10.507046              0.953716   \n",
       "2016-01-15 03:00:00             10.422762              0.883763   \n",
       "2016-01-15 04:00:00             10.360302              0.792826   \n",
       "2016-01-15 05:00:00             10.182708              0.664118   \n",
       "2016-01-15 06:00:00             10.304598              0.807342   \n",
       "2016-01-15 07:00:00             10.443288              0.949346   \n",
       "2016-01-15 08:00:00             10.420140              1.065453   \n",
       "2016-01-15 09:00:00             10.487013              1.159805   \n",
       "\n",
       "                     final.output.tail_sol  final.output.tail_au  \\\n",
       "date                                                               \n",
       "2016-01-15 00:00:00              16.904297              2.143149   \n",
       "2016-01-15 01:00:00              16.634514              2.224930   \n",
       "2016-01-15 02:00:00              16.208849              2.257889   \n",
       "2016-01-15 03:00:00              16.532835              2.146849   \n",
       "2016-01-15 04:00:00              16.525686              2.055292   \n",
       "2016-01-15 05:00:00              16.999638              1.918586   \n",
       "2016-01-15 06:00:00              16.723575              2.058913   \n",
       "2016-01-15 07:00:00              16.689959              2.143437   \n",
       "2016-01-15 08:00:00              17.201948              2.209881   \n",
       "2016-01-15 09:00:00              17.483979              2.209593   \n",
       "\n",
       "                     primary_cleaner.input.sulfate  ...  \\\n",
       "date                                                ...   \n",
       "2016-01-15 00:00:00                     127.092003  ...   \n",
       "2016-01-15 01:00:00                     125.629232  ...   \n",
       "2016-01-15 02:00:00                     123.819808  ...   \n",
       "2016-01-15 03:00:00                     122.270188  ...   \n",
       "2016-01-15 04:00:00                     117.988169  ...   \n",
       "2016-01-15 05:00:00                     115.581252  ...   \n",
       "2016-01-15 06:00:00                     117.322323  ...   \n",
       "2016-01-15 07:00:00                     124.592960  ...   \n",
       "2016-01-15 08:00:00                     131.781026  ...   \n",
       "2016-01-15 09:00:00                     138.120409  ...   \n",
       "\n",
       "                     secondary_cleaner.state.floatbank4_a_air  \\\n",
       "date                                                            \n",
       "2016-01-15 00:00:00                                 14.016835   \n",
       "2016-01-15 01:00:00                                 13.992281   \n",
       "2016-01-15 02:00:00                                 14.015015   \n",
       "2016-01-15 03:00:00                                 14.036510   \n",
       "2016-01-15 04:00:00                                 14.027298   \n",
       "2016-01-15 05:00:00                                 13.938497   \n",
       "2016-01-15 06:00:00                                 14.046819   \n",
       "2016-01-15 07:00:00                                 13.974691   \n",
       "2016-01-15 08:00:00                                 13.964030   \n",
       "2016-01-15 09:00:00                                 13.989632   \n",
       "\n",
       "                     secondary_cleaner.state.floatbank4_a_level  \\\n",
       "date                                                              \n",
       "2016-01-15 00:00:00                                 -502.488007   \n",
       "2016-01-15 01:00:00                                 -505.503262   \n",
       "2016-01-15 02:00:00                                 -502.520901   \n",
       "2016-01-15 03:00:00                                 -500.857308   \n",
       "2016-01-15 04:00:00                                 -499.838632   \n",
       "2016-01-15 05:00:00                                 -500.970168   \n",
       "2016-01-15 06:00:00                                 -500.971133   \n",
       "2016-01-15 07:00:00                                 -501.819696   \n",
       "2016-01-15 08:00:00                                 -504.252450   \n",
       "2016-01-15 09:00:00                                 -503.195299   \n",
       "\n",
       "                     secondary_cleaner.state.floatbank4_b_air  \\\n",
       "date                                                            \n",
       "2016-01-15 00:00:00                                 12.099931   \n",
       "2016-01-15 01:00:00                                 11.950531   \n",
       "2016-01-15 02:00:00                                 11.912783   \n",
       "2016-01-15 03:00:00                                 11.999550   \n",
       "2016-01-15 04:00:00                                 11.953070   \n",
       "2016-01-15 05:00:00                                 11.883350   \n",
       "2016-01-15 06:00:00                                 12.091543   \n",
       "2016-01-15 07:00:00                                 12.101324   \n",
       "2016-01-15 08:00:00                                 12.060738   \n",
       "2016-01-15 09:00:00                                 12.052233   \n",
       "\n",
       "                     secondary_cleaner.state.floatbank4_b_level  \\\n",
       "date                                                              \n",
       "2016-01-15 00:00:00                                 -504.715942   \n",
       "2016-01-15 01:00:00                                 -501.331529   \n",
       "2016-01-15 02:00:00                                 -501.133383   \n",
       "2016-01-15 03:00:00                                 -501.193686   \n",
       "2016-01-15 04:00:00                                 -501.053894   \n",
       "2016-01-15 05:00:00                                 -500.395298   \n",
       "2016-01-15 06:00:00                                 -500.501426   \n",
       "2016-01-15 07:00:00                                 -500.583446   \n",
       "2016-01-15 08:00:00                                 -501.174549   \n",
       "2016-01-15 09:00:00                                 -500.928547   \n",
       "\n",
       "                     secondary_cleaner.state.floatbank5_a_air  \\\n",
       "date                                                            \n",
       "2016-01-15 00:00:00                                  9.925633   \n",
       "2016-01-15 01:00:00                                 10.039245   \n",
       "2016-01-15 02:00:00                                 10.070913   \n",
       "2016-01-15 03:00:00                                  9.970366   \n",
       "2016-01-15 04:00:00                                  9.925709   \n",
       "2016-01-15 05:00:00                                 10.054147   \n",
       "2016-01-15 06:00:00                                 10.003247   \n",
       "2016-01-15 07:00:00                                  9.873169   \n",
       "2016-01-15 08:00:00                                 10.033838   \n",
       "2016-01-15 09:00:00                                  9.962574   \n",
       "\n",
       "                     secondary_cleaner.state.floatbank5_a_level  \\\n",
       "date                                                              \n",
       "2016-01-15 00:00:00                                 -498.310211   \n",
       "2016-01-15 01:00:00                                 -500.169983   \n",
       "2016-01-15 02:00:00                                 -500.129135   \n",
       "2016-01-15 03:00:00                                 -499.201640   \n",
       "2016-01-15 04:00:00                                 -501.686727   \n",
       "2016-01-15 05:00:00                                 -496.374715   \n",
       "2016-01-15 06:00:00                                 -497.083180   \n",
       "2016-01-15 07:00:00                                 -499.171928   \n",
       "2016-01-15 08:00:00                                 -501.178133   \n",
       "2016-01-15 09:00:00                                 -502.986357   \n",
       "\n",
       "                     secondary_cleaner.state.floatbank5_b_air  \\\n",
       "date                                                            \n",
       "2016-01-15 00:00:00                                  8.079666   \n",
       "2016-01-15 01:00:00                                  7.984757   \n",
       "2016-01-15 02:00:00                                  8.013877   \n",
       "2016-01-15 03:00:00                                  7.977324   \n",
       "2016-01-15 04:00:00                                  7.894242   \n",
       "2016-01-15 05:00:00                                  7.965083   \n",
       "2016-01-15 06:00:00                                  8.010890   \n",
       "2016-01-15 07:00:00                                  7.993381   \n",
       "2016-01-15 08:00:00                                  7.881604   \n",
       "2016-01-15 09:00:00                                  7.979219   \n",
       "\n",
       "                     secondary_cleaner.state.floatbank5_b_level  \\\n",
       "date                                                              \n",
       "2016-01-15 00:00:00                                 -500.470978   \n",
       "2016-01-15 01:00:00                                 -500.582168   \n",
       "2016-01-15 02:00:00                                 -500.517572   \n",
       "2016-01-15 03:00:00                                 -500.255908   \n",
       "2016-01-15 04:00:00                                 -500.356035   \n",
       "2016-01-15 05:00:00                                 -499.364752   \n",
       "2016-01-15 06:00:00                                 -500.002423   \n",
       "2016-01-15 07:00:00                                 -499.794518   \n",
       "2016-01-15 08:00:00                                 -499.729434   \n",
       "2016-01-15 09:00:00                                 -500.146835   \n",
       "\n",
       "                     secondary_cleaner.state.floatbank6_a_air  \\\n",
       "date                                                            \n",
       "2016-01-15 00:00:00                                 14.151341   \n",
       "2016-01-15 01:00:00                                 13.998353   \n",
       "2016-01-15 02:00:00                                 14.028663   \n",
       "2016-01-15 03:00:00                                 14.005551   \n",
       "2016-01-15 04:00:00                                 13.996647   \n",
       "2016-01-15 05:00:00                                 14.017067   \n",
       "2016-01-15 06:00:00                                 14.029649   \n",
       "2016-01-15 07:00:00                                 13.984498   \n",
       "2016-01-15 08:00:00                                 13.967135   \n",
       "2016-01-15 09:00:00                                 13.981614   \n",
       "\n",
       "                     secondary_cleaner.state.floatbank6_a_level  \n",
       "date                                                             \n",
       "2016-01-15 00:00:00                                 -605.841980  \n",
       "2016-01-15 01:00:00                                 -599.787184  \n",
       "2016-01-15 02:00:00                                 -601.427363  \n",
       "2016-01-15 03:00:00                                 -599.996129  \n",
       "2016-01-15 04:00:00                                 -601.496691  \n",
       "2016-01-15 05:00:00                                 -599.707915  \n",
       "2016-01-15 06:00:00                                 -600.905470  \n",
       "2016-01-15 07:00:00                                 -600.411070  \n",
       "2016-01-15 08:00:00                                 -599.061188  \n",
       "2016-01-15 09:00:00                                 -598.070855  \n",
       "\n",
       "[10 rows x 86 columns]"
      ]
     },
     "metadata": {},
     "output_type": "display_data"
    }
   ],
   "source": [
    "display(df_full.head(10))"
   ]
  },
  {
   "cell_type": "code",
   "execution_count": 13,
   "metadata": {
    "scrolled": true
   },
   "outputs": [
    {
     "data": {
      "text/plain": [
       "final.output.concentrate_ag                     89\n",
       "final.output.concentrate_pb                     87\n",
       "final.output.concentrate_sol                   385\n",
       "final.output.concentrate_au                     86\n",
       "final.output.recovery                         1963\n",
       "                                              ... \n",
       "secondary_cleaner.state.floatbank5_a_level     101\n",
       "secondary_cleaner.state.floatbank5_b_air       101\n",
       "secondary_cleaner.state.floatbank5_b_level     100\n",
       "secondary_cleaner.state.floatbank6_a_air       119\n",
       "secondary_cleaner.state.floatbank6_a_level     101\n",
       "Length: 86, dtype: int64"
      ]
     },
     "execution_count": 13,
     "metadata": {},
     "output_type": "execute_result"
    }
   ],
   "source": [
    "# Check for Missing Data\n",
    "df_full.isnull().sum()"
   ]
  },
  {
   "cell_type": "code",
   "execution_count": 14,
   "metadata": {
    "scrolled": true
   },
   "outputs": [
    {
     "data": {
      "text/plain": [
       "22"
      ]
     },
     "execution_count": 14,
     "metadata": {},
     "output_type": "execute_result"
    }
   ],
   "source": [
    "# Check for Duplicates\n",
    "df_full.duplicated().sum()"
   ]
  },
  {
   "cell_type": "markdown",
   "metadata": {},
   "source": [
    "**DATA REVIEW**\n",
    "\n",
    "- There is a 75/25 split among the training and testing data. In the training data, there are 87 columns and 16,860 rows. In the test data, there are 53 columns and 5,856 rows. And in the full data, there are 87 columns and 22,716 rows. I was able to find the ratio by the rows of data. \n",
    "- Each dataset has missing data that will need to be preprocessed and fixed before further analysis can be done. \n",
    "- I will also need to change the data type in the 'date' column for all three datasets. It is currently an object and I will be changing it to datetime. \n",
    "- Last but not least, the targets are 'rougher.output.recovery' and 'final.output.recovery'."
   ]
  },
  {
   "cell_type": "markdown",
   "metadata": {},
   "source": [
    "## 1.2  Check that recovery is calculated correctly. Using the training set, calculate recovery for the rougher.output.recovery feature. Find the MAE between your calculations and the feature values. Provide findings."
   ]
  },
  {
   "cell_type": "code",
   "execution_count": 15,
   "metadata": {},
   "outputs": [
    {
     "name": "stdout",
     "output_type": "stream",
     "text": [
      "Mean Absolute Error: 9.303415616264301e-15\n"
     ]
    }
   ],
   "source": [
    "# Function to Calculate Gold Recovery\n",
    "def recovery(df, C, F, T):\n",
    "    rec = 100 * ((df[C] * (df[F] - df[T])) / (df[F] * (df[C] - df[T])))\n",
    "    return rec\n",
    "\n",
    "# Applying functiom to Calculate Gold Recovery\n",
    "vals_pred = recovery(df_train.dropna(subset=['rougher.output.recovery']), 'rougher.output.concentrate_au', 'rougher.input.feed_au', 'rougher.output.tail_au')\n",
    "vals_act = df_train['rougher.output.recovery'].dropna().to_list()\n",
    "\n",
    "# Calculating the value\n",
    "print(f'Mean Absolute Error: {mean_absolute_error(vals_act, vals_pred)}')"
   ]
  },
  {
   "cell_type": "markdown",
   "metadata": {},
   "source": [
    "**Due to the near 0 MAE, we can conclude that there is little (or none) difference between the values of the original calculations and gold recovery calculations.**"
   ]
  },
  {
   "cell_type": "markdown",
   "metadata": {},
   "source": [
    "## 1.3. Analyze the features not available in the test set. What are these parameters? What is their type?"
   ]
  },
  {
   "cell_type": "code",
   "execution_count": 16,
   "metadata": {},
   "outputs": [
    {
     "name": "stdout",
     "output_type": "stream",
     "text": [
      "<class 'pandas.core.frame.DataFrame'>\n",
      "DatetimeIndex: 16860 entries, 2016-01-15 00:00:00 to 2018-08-18 10:59:59\n",
      "Data columns (total 34 columns):\n",
      " #   Column                                              Non-Null Count  Dtype  \n",
      "---  ------                                              --------------  -----  \n",
      " 0   final.output.concentrate_ag                         16788 non-null  float64\n",
      " 1   final.output.concentrate_pb                         16788 non-null  float64\n",
      " 2   final.output.concentrate_sol                        16490 non-null  float64\n",
      " 3   final.output.concentrate_au                         16789 non-null  float64\n",
      " 4   final.output.recovery                               15339 non-null  float64\n",
      " 5   final.output.tail_ag                                16794 non-null  float64\n",
      " 6   final.output.tail_pb                                16677 non-null  float64\n",
      " 7   final.output.tail_sol                               16715 non-null  float64\n",
      " 8   final.output.tail_au                                16794 non-null  float64\n",
      " 9   primary_cleaner.output.concentrate_ag               16778 non-null  float64\n",
      " 10  primary_cleaner.output.concentrate_pb               16502 non-null  float64\n",
      " 11  primary_cleaner.output.concentrate_sol              16224 non-null  float64\n",
      " 12  primary_cleaner.output.concentrate_au               16778 non-null  float64\n",
      " 13  primary_cleaner.output.tail_ag                      16777 non-null  float64\n",
      " 14  primary_cleaner.output.tail_pb                      16761 non-null  float64\n",
      " 15  primary_cleaner.output.tail_sol                     16579 non-null  float64\n",
      " 16  primary_cleaner.output.tail_au                      16777 non-null  float64\n",
      " 17  rougher.calculation.sulfate_to_au_concentrate       16833 non-null  float64\n",
      " 18  rougher.calculation.floatbank10_sulfate_to_au_feed  16833 non-null  float64\n",
      " 19  rougher.calculation.floatbank11_sulfate_to_au_feed  16833 non-null  float64\n",
      " 20  rougher.calculation.au_pb_ratio                     15618 non-null  float64\n",
      " 21  rougher.output.concentrate_ag                       16778 non-null  float64\n",
      " 22  rougher.output.concentrate_pb                       16778 non-null  float64\n",
      " 23  rougher.output.concentrate_sol                      16698 non-null  float64\n",
      " 24  rougher.output.concentrate_au                       16778 non-null  float64\n",
      " 25  rougher.output.recovery                             14287 non-null  float64\n",
      " 26  rougher.output.tail_ag                              14610 non-null  float64\n",
      " 27  rougher.output.tail_pb                              16778 non-null  float64\n",
      " 28  rougher.output.tail_sol                             14611 non-null  float64\n",
      " 29  rougher.output.tail_au                              14611 non-null  float64\n",
      " 30  secondary_cleaner.output.tail_ag                    16776 non-null  float64\n",
      " 31  secondary_cleaner.output.tail_pb                    16764 non-null  float64\n",
      " 32  secondary_cleaner.output.tail_sol                   14874 non-null  float64\n",
      " 33  secondary_cleaner.output.tail_au                    16778 non-null  float64\n",
      "dtypes: float64(34)\n",
      "memory usage: 4.5 MB\n"
     ]
    }
   ],
   "source": [
    "# Finding features that are not present in the test set\n",
    "df = pd.DataFrame()\n",
    "list_columns = list(df_test.columns)\n",
    "for col in list(df_train.columns):\n",
    "    if col not in list_columns: \n",
    "        df[col] = df_train[col] \n",
    "df.info()"
   ]
  },
  {
   "cell_type": "markdown",
   "metadata": {},
   "source": [
    "- Based on the analysis, the features that are not in the test set are data type 'float64' and they are all either an output or calculation. \n",
    "- There are a total of 34 missing parameters. \n",
    "    - 9 parameters are in the final stage.\n",
    "    - 8 parameters are in the primary cleaner stage.\n",
    "    - 13 parameters are in the rougher stage.\n",
    "    - 4 parameters are in the secondary cleaner stage.\n",
    "   "
   ]
  },
  {
   "cell_type": "markdown",
   "metadata": {},
   "source": [
    "## 1.4. Perform data preprocessing\n",
    "\n",
    "- There is missing data in each of the datasets. I will need to check to see if it's a significant amount that will need to filled in. Or if it's <5%, then I can simply drop them. To find the percentage, I will create a new dataset with the missing data dropped and calculate the percentage missing with the difference. \n",
    "- I will also need to change the data type in the 'date' column for all three datasets. It is currently an object and I will be changing it to datetime."
   ]
  },
  {
   "cell_type": "markdown",
   "metadata": {},
   "source": [
    "**Missing Data**"
   ]
  },
  {
   "cell_type": "code",
   "execution_count": 17,
   "metadata": {},
   "outputs": [],
   "source": [
    "# Create new datasets without missing values\n",
    "df_train_new = df_train.dropna() \n",
    "df_test_new = df_test.dropna()\n",
    "df_full_new = df_full.dropna()"
   ]
  },
  {
   "cell_type": "code",
   "execution_count": 18,
   "metadata": {},
   "outputs": [
    {
     "name": "stdout",
     "output_type": "stream",
     "text": [
      "Percentage of Missing Rows in Dataset Train Is 34.65599051008303 %\n",
      "Percentage of Missing Rows in Dataset Test Is 8.077185792349724 %\n",
      "Percentage of Missing Rows in Dataset Full Is 29.151259024476133 %\n"
     ]
    }
   ],
   "source": [
    "# Calculate the percentage of missing values in each dataset\n",
    "print('Percentage of Missing Rows in Dataset Train Is', 100 - ((df_train_new.shape[0] / df_train.shape[0]) * 100), '%')\n",
    "print('Percentage of Missing Rows in Dataset Test Is', 100 - ((df_test_new.shape[0] / df_test.shape[0]) * 100), '%')\n",
    "print('Percentage of Missing Rows in Dataset Full Is', 100 - ((df_full_new.shape[0] / df_full.shape[0]) * 100), '%')"
   ]
  },
  {
   "cell_type": "markdown",
   "metadata": {},
   "source": [
    "**Since the percentage of missing data is above 5% for all data sets, I can not simply drop the rows with missing values. I will fill missing values with the column median. I will also now check for rows with missing targets, but those will be dropped as they would negatively effect my model.** "
   ]
  },
  {
   "cell_type": "code",
   "execution_count": 19,
   "metadata": {},
   "outputs": [
    {
     "data": {
      "text/plain": [
       "rougher.output.recovery    2573\n",
       "final.output.recovery      1521\n",
       "dtype: int64"
      ]
     },
     "execution_count": 19,
     "metadata": {},
     "output_type": "execute_result"
    }
   ],
   "source": [
    "# Checking for Rows with Missing Targets\n",
    "df_train[['rougher.output.recovery', 'final.output.recovery']].isna().sum()"
   ]
  },
  {
   "cell_type": "code",
   "execution_count": 20,
   "metadata": {},
   "outputs": [
    {
     "data": {
      "text/plain": [
       "rougher.output.recovery    3119\n",
       "final.output.recovery      1963\n",
       "dtype: int64"
      ]
     },
     "execution_count": 20,
     "metadata": {},
     "output_type": "execute_result"
    }
   ],
   "source": [
    "# Checking for Rows with Missing Target\n",
    "df_full[['rougher.output.recovery', 'final.output.recovery']].isna().sum()"
   ]
  },
  {
   "cell_type": "code",
   "execution_count": 21,
   "metadata": {},
   "outputs": [],
   "source": [
    "# Dropping Rows with Missing Targets\n",
    "df_train = df_train.dropna(subset=['rougher.output.recovery', 'final.output.recovery'])\n",
    "df_full = df_full.dropna(subset=['rougher.output.recovery', 'final.output.recovery'])"
   ]
  },
  {
   "cell_type": "code",
   "execution_count": 22,
   "metadata": {},
   "outputs": [],
   "source": [
    "# Filling in missing values with the column median\n",
    "\n",
    "df_train = df_train.fillna(df_train.median(numeric_only=True))\n",
    "df_test = df_test.fillna(df_test.median(numeric_only=True))\n",
    "df_full = df_full.fillna(df_full.median(numeric_only=True))"
   ]
  },
  {
   "cell_type": "code",
   "execution_count": 23,
   "metadata": {},
   "outputs": [
    {
     "data": {
      "text/plain": [
       "final.output.concentrate_ag                   0\n",
       "final.output.concentrate_pb                   0\n",
       "final.output.concentrate_sol                  0\n",
       "final.output.concentrate_au                   0\n",
       "final.output.recovery                         0\n",
       "                                             ..\n",
       "secondary_cleaner.state.floatbank5_a_level    0\n",
       "secondary_cleaner.state.floatbank5_b_air      0\n",
       "secondary_cleaner.state.floatbank5_b_level    0\n",
       "secondary_cleaner.state.floatbank6_a_air      0\n",
       "secondary_cleaner.state.floatbank6_a_level    0\n",
       "Length: 86, dtype: int64"
      ]
     },
     "execution_count": 23,
     "metadata": {},
     "output_type": "execute_result"
    }
   ],
   "source": [
    "# Check for Missing Data\n",
    "df_full.isnull().sum()"
   ]
  },
  {
   "cell_type": "code",
   "execution_count": 24,
   "metadata": {},
   "outputs": [
    {
     "data": {
      "text/plain": [
       "primary_cleaner.input.sulfate                 0\n",
       "primary_cleaner.input.depressant              0\n",
       "primary_cleaner.input.feed_size               0\n",
       "primary_cleaner.input.xanthate                0\n",
       "primary_cleaner.state.floatbank8_a_air        0\n",
       "primary_cleaner.state.floatbank8_a_level      0\n",
       "primary_cleaner.state.floatbank8_b_air        0\n",
       "primary_cleaner.state.floatbank8_b_level      0\n",
       "primary_cleaner.state.floatbank8_c_air        0\n",
       "primary_cleaner.state.floatbank8_c_level      0\n",
       "primary_cleaner.state.floatbank8_d_air        0\n",
       "primary_cleaner.state.floatbank8_d_level      0\n",
       "rougher.input.feed_ag                         0\n",
       "rougher.input.feed_pb                         0\n",
       "rougher.input.feed_rate                       0\n",
       "rougher.input.feed_size                       0\n",
       "rougher.input.feed_sol                        0\n",
       "rougher.input.feed_au                         0\n",
       "rougher.input.floatbank10_sulfate             0\n",
       "rougher.input.floatbank10_xanthate            0\n",
       "rougher.input.floatbank11_sulfate             0\n",
       "rougher.input.floatbank11_xanthate            0\n",
       "rougher.state.floatbank10_a_air               0\n",
       "rougher.state.floatbank10_a_level             0\n",
       "rougher.state.floatbank10_b_air               0\n",
       "rougher.state.floatbank10_b_level             0\n",
       "rougher.state.floatbank10_c_air               0\n",
       "rougher.state.floatbank10_c_level             0\n",
       "rougher.state.floatbank10_d_air               0\n",
       "rougher.state.floatbank10_d_level             0\n",
       "rougher.state.floatbank10_e_air               0\n",
       "rougher.state.floatbank10_e_level             0\n",
       "rougher.state.floatbank10_f_air               0\n",
       "rougher.state.floatbank10_f_level             0\n",
       "secondary_cleaner.state.floatbank2_a_air      0\n",
       "secondary_cleaner.state.floatbank2_a_level    0\n",
       "secondary_cleaner.state.floatbank2_b_air      0\n",
       "secondary_cleaner.state.floatbank2_b_level    0\n",
       "secondary_cleaner.state.floatbank3_a_air      0\n",
       "secondary_cleaner.state.floatbank3_a_level    0\n",
       "secondary_cleaner.state.floatbank3_b_air      0\n",
       "secondary_cleaner.state.floatbank3_b_level    0\n",
       "secondary_cleaner.state.floatbank4_a_air      0\n",
       "secondary_cleaner.state.floatbank4_a_level    0\n",
       "secondary_cleaner.state.floatbank4_b_air      0\n",
       "secondary_cleaner.state.floatbank4_b_level    0\n",
       "secondary_cleaner.state.floatbank5_a_air      0\n",
       "secondary_cleaner.state.floatbank5_a_level    0\n",
       "secondary_cleaner.state.floatbank5_b_air      0\n",
       "secondary_cleaner.state.floatbank5_b_level    0\n",
       "secondary_cleaner.state.floatbank6_a_air      0\n",
       "secondary_cleaner.state.floatbank6_a_level    0\n",
       "dtype: int64"
      ]
     },
     "execution_count": 24,
     "metadata": {},
     "output_type": "execute_result"
    }
   ],
   "source": [
    "# Check for Missing Data\n",
    "df_test.isnull().sum()"
   ]
  },
  {
   "cell_type": "code",
   "execution_count": 25,
   "metadata": {},
   "outputs": [
    {
     "data": {
      "text/plain": [
       "final.output.concentrate_ag                   0\n",
       "final.output.concentrate_pb                   0\n",
       "final.output.concentrate_sol                  0\n",
       "final.output.concentrate_au                   0\n",
       "final.output.recovery                         0\n",
       "                                             ..\n",
       "secondary_cleaner.state.floatbank5_a_level    0\n",
       "secondary_cleaner.state.floatbank5_b_air      0\n",
       "secondary_cleaner.state.floatbank5_b_level    0\n",
       "secondary_cleaner.state.floatbank6_a_air      0\n",
       "secondary_cleaner.state.floatbank6_a_level    0\n",
       "Length: 86, dtype: int64"
      ]
     },
     "execution_count": 25,
     "metadata": {},
     "output_type": "execute_result"
    }
   ],
   "source": [
    "# Check for Missing Data\n",
    "df_train.isnull().sum()"
   ]
  },
  {
   "cell_type": "markdown",
   "metadata": {},
   "source": [
    "**Changing The Data Type**"
   ]
  },
  {
   "cell_type": "code",
   "execution_count": 26,
   "metadata": {},
   "outputs": [
    {
     "data": {
      "text/plain": [
       "primary_cleaner.input.sulfate                 float64\n",
       "primary_cleaner.input.depressant              float64\n",
       "primary_cleaner.input.feed_size               float64\n",
       "primary_cleaner.input.xanthate                float64\n",
       "primary_cleaner.state.floatbank8_a_air        float64\n",
       "primary_cleaner.state.floatbank8_a_level      float64\n",
       "primary_cleaner.state.floatbank8_b_air        float64\n",
       "primary_cleaner.state.floatbank8_b_level      float64\n",
       "primary_cleaner.state.floatbank8_c_air        float64\n",
       "primary_cleaner.state.floatbank8_c_level      float64\n",
       "primary_cleaner.state.floatbank8_d_air        float64\n",
       "primary_cleaner.state.floatbank8_d_level      float64\n",
       "rougher.input.feed_ag                         float64\n",
       "rougher.input.feed_pb                         float64\n",
       "rougher.input.feed_rate                       float64\n",
       "rougher.input.feed_size                       float64\n",
       "rougher.input.feed_sol                        float64\n",
       "rougher.input.feed_au                         float64\n",
       "rougher.input.floatbank10_sulfate             float64\n",
       "rougher.input.floatbank10_xanthate            float64\n",
       "rougher.input.floatbank11_sulfate             float64\n",
       "rougher.input.floatbank11_xanthate            float64\n",
       "rougher.state.floatbank10_a_air               float64\n",
       "rougher.state.floatbank10_a_level             float64\n",
       "rougher.state.floatbank10_b_air               float64\n",
       "rougher.state.floatbank10_b_level             float64\n",
       "rougher.state.floatbank10_c_air               float64\n",
       "rougher.state.floatbank10_c_level             float64\n",
       "rougher.state.floatbank10_d_air               float64\n",
       "rougher.state.floatbank10_d_level             float64\n",
       "rougher.state.floatbank10_e_air               float64\n",
       "rougher.state.floatbank10_e_level             float64\n",
       "rougher.state.floatbank10_f_air               float64\n",
       "rougher.state.floatbank10_f_level             float64\n",
       "secondary_cleaner.state.floatbank2_a_air      float64\n",
       "secondary_cleaner.state.floatbank2_a_level    float64\n",
       "secondary_cleaner.state.floatbank2_b_air      float64\n",
       "secondary_cleaner.state.floatbank2_b_level    float64\n",
       "secondary_cleaner.state.floatbank3_a_air      float64\n",
       "secondary_cleaner.state.floatbank3_a_level    float64\n",
       "secondary_cleaner.state.floatbank3_b_air      float64\n",
       "secondary_cleaner.state.floatbank3_b_level    float64\n",
       "secondary_cleaner.state.floatbank4_a_air      float64\n",
       "secondary_cleaner.state.floatbank4_a_level    float64\n",
       "secondary_cleaner.state.floatbank4_b_air      float64\n",
       "secondary_cleaner.state.floatbank4_b_level    float64\n",
       "secondary_cleaner.state.floatbank5_a_air      float64\n",
       "secondary_cleaner.state.floatbank5_a_level    float64\n",
       "secondary_cleaner.state.floatbank5_b_air      float64\n",
       "secondary_cleaner.state.floatbank5_b_level    float64\n",
       "secondary_cleaner.state.floatbank6_a_air      float64\n",
       "secondary_cleaner.state.floatbank6_a_level    float64\n",
       "dtype: object"
      ]
     },
     "execution_count": 26,
     "metadata": {},
     "output_type": "execute_result"
    }
   ],
   "source": [
    "#Checking Conversions\n",
    "df_test.dtypes"
   ]
  },
  {
   "cell_type": "code",
   "execution_count": 27,
   "metadata": {},
   "outputs": [
    {
     "data": {
      "text/plain": [
       "final.output.concentrate_ag                   float64\n",
       "final.output.concentrate_pb                   float64\n",
       "final.output.concentrate_sol                  float64\n",
       "final.output.concentrate_au                   float64\n",
       "final.output.recovery                         float64\n",
       "                                               ...   \n",
       "secondary_cleaner.state.floatbank5_a_level    float64\n",
       "secondary_cleaner.state.floatbank5_b_air      float64\n",
       "secondary_cleaner.state.floatbank5_b_level    float64\n",
       "secondary_cleaner.state.floatbank6_a_air      float64\n",
       "secondary_cleaner.state.floatbank6_a_level    float64\n",
       "Length: 86, dtype: object"
      ]
     },
     "execution_count": 27,
     "metadata": {},
     "output_type": "execute_result"
    }
   ],
   "source": [
    "##Checking Conversions\n",
    "df_full.dtypes"
   ]
  },
  {
   "cell_type": "markdown",
   "metadata": {},
   "source": [
    "# Analyze the Data"
   ]
  },
  {
   "cell_type": "markdown",
   "metadata": {},
   "source": [
    "## 2.1 Take note of how the concentrations of metals (Au, Ag, Pb) change depending on the purification stage."
   ]
  },
  {
   "cell_type": "code",
   "execution_count": 28,
   "metadata": {},
   "outputs": [],
   "source": [
    "#Plotting the Concentrations for Visual Comparisons\n",
    "\n",
    "# List to create concentration plots\n",
    "concentrate_au = ['rougher.output.concentrate_au', 'primary_cleaner.output.concentrate_au', 'secondary_cleaner.output.tail_au','final.output.concentrate_au']\n",
    "concentrate_ag = ['rougher.output.concentrate_ag', 'primary_cleaner.output.concentrate_ag', 'secondary_cleaner.output.tail_ag','final.output.concentrate_ag']\n",
    "concentrate_pb = ['rougher.output.concentrate_pb', 'primary_cleaner.output.concentrate_pb', 'secondary_cleaner.output.tail_pb','final.output.concentrate_pb']\n",
    "\n",
    "# Creating a function to plot each concentration change that occurs\n",
    "def plot_concentrate(data, list_stage):\n",
    "    for stage in list_stage:\n",
    "        data[stage].plot(kind='hist', legend=True, alpha=0.4)\n",
    "        plt.xlabel('concentration')"
   ]
  },
  {
   "cell_type": "markdown",
   "metadata": {},
   "source": [
    "**GOLD**"
   ]
  },
  {
   "cell_type": "code",
   "execution_count": 29,
   "metadata": {},
   "outputs": [
    {
     "data": {
      "image/png": "[encoded data removed]",
      "text/plain": [
       "<Figure size 640x480 with 1 Axes>"
      ]
     },
     "metadata": {},
     "output_type": "display_data"
    }
   ],
   "source": [
    "plot_concentrate(df_train, concentrate_au)"
   ]
  },
  {
   "cell_type": "markdown",
   "metadata": {},
   "source": [
    "**SILVER**"
   ]
  },
  {
   "cell_type": "code",
   "execution_count": 30,
   "metadata": {},
   "outputs": [
    {
     "data": {
      "image/png": "[encoded data removed]",
      "text/plain": [
       "<Figure size 640x480 with 1 Axes>"
      ]
     },
     "metadata": {},
     "output_type": "display_data"
    }
   ],
   "source": [
    "plot_concentrate(df_train, concentrate_ag)"
   ]
  },
  {
   "cell_type": "markdown",
   "metadata": {},
   "source": [
    "**LEAD**"
   ]
  },
  {
   "cell_type": "code",
   "execution_count": 31,
   "metadata": {},
   "outputs": [
    {
     "data": {
      "image/png": "[encoded data removed]",
      "text/plain": [
       "<Figure size 640x480 with 1 Axes>"
      ]
     },
     "metadata": {},
     "output_type": "display_data"
    }
   ],
   "source": [
    "plot_concentrate(df_train, concentrate_pb)"
   ]
  },
  {
   "cell_type": "markdown",
   "metadata": {},
   "source": [
    "From the graphs above, we can conclude the following:\n",
    "\n",
    "GOLD\n",
    "- There is an increase in concentration of gold from the initial purification stage to the final concentrate. It is the highest compared to Silver and Lead. \n",
    "\n",
    "SILVER\n",
    "- There is no increase. It actually decreases throughout all the stages and the final concentrate contains a significantly low amount of concentrate.\n",
    "\n",
    "LEAD\n",
    "- There is a slight increase, but not a significant one compared to Gold. But it did perform better than Silver. \n"
   ]
  },
  {
   "cell_type": "markdown",
   "metadata": {},
   "source": [
    "## 2.2. Compare the feed particle size distributions in the training set and in the test set. If the distributions vary significantly, the model evaluation will be incorrect."
   ]
  },
  {
   "cell_type": "markdown",
   "metadata": {},
   "source": [
    "The two feed particle size features are rougher.input.feed_size and primary_cleaner.input.feed_size."
   ]
  },
  {
   "cell_type": "code",
   "execution_count": 32,
   "metadata": {},
   "outputs": [
    {
     "data": {
      "image/png": "[encoded data removed]",
      "text/plain": [
       "<Figure size 640x480 with 1 Axes>"
      ]
     },
     "metadata": {},
     "output_type": "display_data"
    }
   ],
   "source": [
    "# Rougher Input Feed Size\n",
    "\n",
    "sns.histplot(df_train['rougher.input.feed_size'], bins=50, label=\"Training Set\", alpha=0.5) #Training Set\n",
    "sns.histplot(df_test['rougher.input.feed_size'], bins=50, label=\"Test Set\", color='red') #Test Set\n",
    "plt.title(\"Rougher Input Feed Particle Size Distribution\")\n",
    "plt.legend()\n",
    "plt.xlabel('Rougher Input Feed Size')\n",
    "plt.show()"
   ]
  },
  {
   "cell_type": "code",
   "execution_count": 33,
   "metadata": {},
   "outputs": [
    {
     "data": {
      "image/png": "[encoded data removed]",
      "text/plain": [
       "<Figure size 640x480 with 1 Axes>"
      ]
     },
     "metadata": {},
     "output_type": "display_data"
    }
   ],
   "source": [
    "# Primary Cleaner Input Feed Size\n",
    "sns.histplot(df_train['primary_cleaner.input.feed_size'], bins=50, label=\"Training Set\", color='yellow', alpha=0.5) #Training Set\n",
    "sns.histplot(df_test['primary_cleaner.input.feed_size'], bins=50, label=\"Test Set\", color='green') #Test Set\n",
    "plt.title(\"Primary Cleaner Input Feed Particle Size Distribution\")\n",
    "plt.legend()\n",
    "plt.xlabel('Primary Cleaner Input Feed Size')\n",
    "plt.show()"
   ]
  },
  {
   "cell_type": "markdown",
   "metadata": {},
   "source": [
    "**Based on the graphs above, we can conclude that the distribution of feed particle sizes in the training set and test set do not have significant differences. However, I'd like to note that in ratio they do not differ, because the frequencies do differ substantially due to the differing data sizes between the two datasets.**"
   ]
  },
  {
   "cell_type": "markdown",
   "metadata": {},
   "source": [
    "## 2.3. Consider the total concentrations of all substances at different stages: raw feed, rougher concentrate, and final concentrate. Do you notice any abnormal values in the total distribution? If you do, is it worth removing such values from both samples? Describe the findings and eliminate anomalies. "
   ]
  },
  {
   "cell_type": "code",
   "execution_count": 34,
   "metadata": {},
   "outputs": [],
   "source": [
    "#Summing up concentrations of substances at each stage\n",
    "raw_feed = df_full['rougher.input.feed_au'] + df_full['rougher.input.feed_ag'] + df_full['rougher.input.feed_pb']\n",
    "rougher_concentrate = df_full['rougher.output.concentrate_au'] + df_full['rougher.output.concentrate_ag'] + df_full['rougher.output.concentrate_pb']\n",
    "final_concentrate = df_full['final.output.concentrate_au'] + df_full['final.output.concentrate_ag'] + df_full['final.output.concentrate_pb']\n"
   ]
  },
  {
   "cell_type": "code",
   "execution_count": 35,
   "metadata": {},
   "outputs": [
    {
     "data": {
      "image/png": "[encoded data removed]",
      "text/plain": [
       "<Figure size 640x480 with 1 Axes>"
      ]
     },
     "metadata": {},
     "output_type": "display_data"
    }
   ],
   "source": [
    "#Plot the total concentration of metals at certain stages\n",
    "sns.histplot(data=raw_feed, color='pink', alpha=0.5, legend=True, kde=True, label='Raw Feed')\n",
    "sns.histplot(data=rougher_concentrate, color='red', legend=True, kde=True, label='Rougher Concentrate')\n",
    "sns.histplot(data=final_concentrate, color=\"purple\", legend=True, kde=True, label='Final Concentrate')\n",
    "plt.legend()\n",
    "plt.title('Total Concentration of Metals at Each Stage')\n",
    "plt.show()"
   ]
  },
  {
   "cell_type": "markdown",
   "metadata": {},
   "source": [
    "**Based on the histogram above, the summed values have a considerable number of outliers as \"0\". The data in the histogram also shows a right-skewed distribution which can significantly impact the analysis and model-building process. Therefore, I will remove the outliers from the training data.**"
   ]
  },
  {
   "cell_type": "markdown",
   "metadata": {},
   "source": [
    "**Removing Outliers - The '0' values**"
   ]
  },
  {
   "cell_type": "code",
   "execution_count": 36,
   "metadata": {},
   "outputs": [
    {
     "name": "stdout",
     "output_type": "stream",
     "text": [
      "(14149, 86)\n",
      "(13795, 86)\n"
     ]
    }
   ],
   "source": [
    "#Concentrates\n",
    "features_input_concentrate= ['rougher.input.feed_au','rougher.input.feed_ag','rougher.input.feed_pb','rougher.input.feed_sol',]\n",
    "features_rough_concentrate = ['rougher.output.concentrate_au','rougher.output.concentrate_ag','rougher.output.concentrate_pb','rougher.output.concentrate_sol',]\n",
    "features_final_concentrate = ['final.output.concentrate_au','final.output.concentrate_ag','final.output.concentrate_pb','final.output.concentrate_sol',]\n",
    "\n",
    "threshold = 0.01\n",
    "\n",
    "# Combine conditions for filtering\n",
    "condition_input = (df_train[features_input_concentrate].sum(axis=1) > threshold)\n",
    "condition_rough = (df_train[features_rough_concentrate].sum(axis=1) > threshold)\n",
    "condition_final = (df_train[features_final_concentrate].sum(axis=1) > threshold)\n",
    "\n",
    "# Only keep rows that satisfy all conditions\n",
    "df_train_new = df_train[condition_input & condition_rough & condition_final]\n",
    "\n",
    "print(df_train.shape)\n",
    "print(df_train_new.shape)"
   ]
  },
  {
   "cell_type": "markdown",
   "metadata": {},
   "source": [
    "# Build the Model"
   ]
  },
  {
   "cell_type": "markdown",
   "metadata": {},
   "source": [
    "## 3.1. Write a function to calculate the final sMAPE value."
   ]
  },
  {
   "cell_type": "code",
   "execution_count": 37,
   "metadata": {},
   "outputs": [],
   "source": [
    "epsilon = 1e-10  # Small constant\n",
    "def smape2(y_true, y_pred):\n",
    "    with np.errstate(divide='ignore', invalid='ignore'):\n",
    "        smape = np.nanmean(2 * np.abs(y_pred - y_true) / (np.abs(y_true) + np.abs(y_pred) + epsilon))\n",
    "    return smape\n",
    "   \n",
    "\n",
    "\n",
    "# Function to calculate final sMAPE\n",
    "def fsmape(y_true, y_pred):\n",
    "    # Assumes y_true and y_pred have two columns: [rougher, final]\n",
    "    predicted_rough, predicted_final = y_pred[:, 0], y_pred[:, 1]\n",
    "    true_rough, true_final = y_true[:, 0], y_true[:, 1]\n",
    "    \n",
    "    # Calculate sMAPEs and apply weights\n",
    "    rougher_smape = smape2(true_rough, predicted_rough)\n",
    "    final_smape = smape2(true_final, predicted_final)\n",
    "    \n",
    "    f_smape = (0.25 * rougher_smape) + (0.75 * final_smape)\n",
    "    return f_smape\n"
   ]
  },
  {
   "cell_type": "markdown",
   "metadata": {},
   "source": [
    "## 3.2. Train different models. Evaluate them using cross-validation. Pick the best model and test it using the test sample. Provide findings."
   ]
  },
  {
   "cell_type": "markdown",
   "metadata": {},
   "source": [
    "**Data Prep**"
   ]
  },
  {
   "cell_type": "code",
   "execution_count": 38,
   "metadata": {},
   "outputs": [],
   "source": [
    "#Training Features and Target\n",
    "df_train_new = df_train_new.copy()\n",
    "\n",
    "features_train = df_train_new\n",
    "target_train = df_train_new[['rougher.output.recovery', 'final.output.recovery']]"
   ]
  },
  {
   "cell_type": "code",
   "execution_count": 39,
   "metadata": {},
   "outputs": [],
   "source": [
    "#debugging\n",
    "df_full = df_full.reindex(df_test.index)"
   ]
  },
  {
   "cell_type": "code",
   "execution_count": 40,
   "metadata": {},
   "outputs": [
    {
     "data": {
      "text/plain": [
       "(5856, 2)"
      ]
     },
     "execution_count": 40,
     "metadata": {},
     "output_type": "execute_result"
    }
   ],
   "source": [
    "\n",
    "#Testing Features and Target\n",
    "df_test = df_test.copy()\n",
    "\n",
    "features_test = df_test\n",
    "target_test =  df_full[['rougher.output.recovery', 'final.output.recovery']].loc[df_test.index].reset_index(drop=True)\n",
    "\n",
    "target_test.shape"
   ]
  },
  {
   "cell_type": "code",
   "execution_count": 41,
   "metadata": {},
   "outputs": [],
   "source": [
    "# Transform dates into usable numerical features\n",
    "if 'date' in features_train.columns:\n",
    "    features_train['year'] = features_train['date'].dt.year\n",
    "    features_train['month'] = features_train['date'].dt.month\n",
    "    features_train = features_train.drop(columns=['date'])\n",
    "\n"
   ]
  },
  {
   "cell_type": "code",
   "execution_count": 42,
   "metadata": {},
   "outputs": [
    {
     "name": "stdout",
     "output_type": "stream",
     "text": [
      "                     final.output.concentrate_ag  final.output.concentrate_pb  \\\n",
      "date                                                                            \n",
      "2016-01-15 00:00:00                     6.055403                     9.889648   \n",
      "2016-01-15 01:00:00                     6.029369                     9.968944   \n",
      "2016-01-15 02:00:00                     6.055926                    10.213995   \n",
      "2016-01-15 03:00:00                     6.047977                     9.977019   \n",
      "2016-01-15 04:00:00                     6.148599                    10.142511   \n",
      "\n",
      "                     final.output.concentrate_sol  \\\n",
      "date                                                \n",
      "2016-01-15 00:00:00                      5.507324   \n",
      "2016-01-15 01:00:00                      5.257781   \n",
      "2016-01-15 02:00:00                      5.383759   \n",
      "2016-01-15 03:00:00                      4.858634   \n",
      "2016-01-15 04:00:00                      4.939416   \n",
      "\n",
      "                     final.output.concentrate_au  final.output.recovery  \\\n",
      "date                                                                      \n",
      "2016-01-15 00:00:00                    42.192020              70.541216   \n",
      "2016-01-15 01:00:00                    42.701629              69.266198   \n",
      "2016-01-15 02:00:00                    42.657501              68.116445   \n",
      "2016-01-15 03:00:00                    42.689819              68.347543   \n",
      "2016-01-15 04:00:00                    42.774141              66.927016   \n",
      "\n",
      "                     final.output.tail_ag  final.output.tail_pb  \\\n",
      "date                                                              \n",
      "2016-01-15 00:00:00             10.411962              0.895447   \n",
      "2016-01-15 01:00:00             10.462676              0.927452   \n",
      "2016-01-15 02:00:00             10.507046              0.953716   \n",
      "2016-01-15 03:00:00             10.422762              0.883763   \n",
      "2016-01-15 04:00:00             10.360302              0.792826   \n",
      "\n",
      "                     final.output.tail_sol  final.output.tail_au  \\\n",
      "date                                                               \n",
      "2016-01-15 00:00:00              16.904297              2.143149   \n",
      "2016-01-15 01:00:00              16.634514              2.224930   \n",
      "2016-01-15 02:00:00              16.208849              2.257889   \n",
      "2016-01-15 03:00:00              16.532835              2.146849   \n",
      "2016-01-15 04:00:00              16.525686              2.055292   \n",
      "\n",
      "                     primary_cleaner.input.sulfate  ...  \\\n",
      "date                                                ...   \n",
      "2016-01-15 00:00:00                     127.092003  ...   \n",
      "2016-01-15 01:00:00                     125.629232  ...   \n",
      "2016-01-15 02:00:00                     123.819808  ...   \n",
      "2016-01-15 03:00:00                     122.270188  ...   \n",
      "2016-01-15 04:00:00                     117.988169  ...   \n",
      "\n",
      "                     secondary_cleaner.state.floatbank4_a_air  \\\n",
      "date                                                            \n",
      "2016-01-15 00:00:00                                 14.016835   \n",
      "2016-01-15 01:00:00                                 13.992281   \n",
      "2016-01-15 02:00:00                                 14.015015   \n",
      "2016-01-15 03:00:00                                 14.036510   \n",
      "2016-01-15 04:00:00                                 14.027298   \n",
      "\n",
      "                     secondary_cleaner.state.floatbank4_a_level  \\\n",
      "date                                                              \n",
      "2016-01-15 00:00:00                                 -502.488007   \n",
      "2016-01-15 01:00:00                                 -505.503262   \n",
      "2016-01-15 02:00:00                                 -502.520901   \n",
      "2016-01-15 03:00:00                                 -500.857308   \n",
      "2016-01-15 04:00:00                                 -499.838632   \n",
      "\n",
      "                     secondary_cleaner.state.floatbank4_b_air  \\\n",
      "date                                                            \n",
      "2016-01-15 00:00:00                                 12.099931   \n",
      "2016-01-15 01:00:00                                 11.950531   \n",
      "2016-01-15 02:00:00                                 11.912783   \n",
      "2016-01-15 03:00:00                                 11.999550   \n",
      "2016-01-15 04:00:00                                 11.953070   \n",
      "\n",
      "                     secondary_cleaner.state.floatbank4_b_level  \\\n",
      "date                                                              \n",
      "2016-01-15 00:00:00                                 -504.715942   \n",
      "2016-01-15 01:00:00                                 -501.331529   \n",
      "2016-01-15 02:00:00                                 -501.133383   \n",
      "2016-01-15 03:00:00                                 -501.193686   \n",
      "2016-01-15 04:00:00                                 -501.053894   \n",
      "\n",
      "                     secondary_cleaner.state.floatbank5_a_air  \\\n",
      "date                                                            \n",
      "2016-01-15 00:00:00                                  9.925633   \n",
      "2016-01-15 01:00:00                                 10.039245   \n",
      "2016-01-15 02:00:00                                 10.070913   \n",
      "2016-01-15 03:00:00                                  9.970366   \n",
      "2016-01-15 04:00:00                                  9.925709   \n",
      "\n",
      "                     secondary_cleaner.state.floatbank5_a_level  \\\n",
      "date                                                              \n",
      "2016-01-15 00:00:00                                 -498.310211   \n",
      "2016-01-15 01:00:00                                 -500.169983   \n",
      "2016-01-15 02:00:00                                 -500.129135   \n",
      "2016-01-15 03:00:00                                 -499.201640   \n",
      "2016-01-15 04:00:00                                 -501.686727   \n",
      "\n",
      "                     secondary_cleaner.state.floatbank5_b_air  \\\n",
      "date                                                            \n",
      "2016-01-15 00:00:00                                  8.079666   \n",
      "2016-01-15 01:00:00                                  7.984757   \n",
      "2016-01-15 02:00:00                                  8.013877   \n",
      "2016-01-15 03:00:00                                  7.977324   \n",
      "2016-01-15 04:00:00                                  7.894242   \n",
      "\n",
      "                     secondary_cleaner.state.floatbank5_b_level  \\\n",
      "date                                                              \n",
      "2016-01-15 00:00:00                                 -500.470978   \n",
      "2016-01-15 01:00:00                                 -500.582168   \n",
      "2016-01-15 02:00:00                                 -500.517572   \n",
      "2016-01-15 03:00:00                                 -500.255908   \n",
      "2016-01-15 04:00:00                                 -500.356035   \n",
      "\n",
      "                     secondary_cleaner.state.floatbank6_a_air  \\\n",
      "date                                                            \n",
      "2016-01-15 00:00:00                                 14.151341   \n",
      "2016-01-15 01:00:00                                 13.998353   \n",
      "2016-01-15 02:00:00                                 14.028663   \n",
      "2016-01-15 03:00:00                                 14.005551   \n",
      "2016-01-15 04:00:00                                 13.996647   \n",
      "\n",
      "                     secondary_cleaner.state.floatbank6_a_level  \n",
      "date                                                             \n",
      "2016-01-15 00:00:00                                 -605.841980  \n",
      "2016-01-15 01:00:00                                 -599.787184  \n",
      "2016-01-15 02:00:00                                 -601.427363  \n",
      "2016-01-15 03:00:00                                 -599.996129  \n",
      "2016-01-15 04:00:00                                 -601.496691  \n",
      "\n",
      "[5 rows x 86 columns]\n"
     ]
    }
   ],
   "source": [
    "print(features_train.head())"
   ]
  },
  {
   "cell_type": "markdown",
   "metadata": {},
   "source": [
    "**Testing Models**"
   ]
  },
  {
   "cell_type": "code",
   "execution_count": 43,
   "metadata": {
    "scrolled": true
   },
   "outputs": [
    {
     "name": "stdout",
     "output_type": "stream",
     "text": [
      "Linear Regression sMAPE: 3.981920470289221e-14\n",
      "Decision Tree sMAPE: 0.007249712434071611\n",
      "Random Forest sMAPE: 0.0033230722998529357\n"
     ]
    }
   ],
   "source": [
    "\n",
    "# Scoring function\n",
    "cv_value = min(2, len(features_train))\n",
    "\n",
    "def score_model(model, features, targets, cv=cv_value):\n",
    "    scores = []\n",
    "    kf = KFold(n_splits=cv, shuffle=True, random_state=54321)\n",
    "    \n",
    "    for subtrain_index, valid_index in kf.split(features):\n",
    "        features_subtrain = features.iloc[subtrain_index].reset_index(drop=True)\n",
    "        target_subtrain = targets.iloc[subtrain_index].reset_index(drop=True)\n",
    "        features_valid = features.iloc[valid_index].reset_index(drop=True)\n",
    "        target_valid = targets.iloc[valid_index].reset_index(drop=True)\n",
    "        \n",
    "        model.fit(features_subtrain, target_subtrain)\n",
    "        pred_valid = pd.DataFrame(model.predict(features_valid))\n",
    "        \n",
    "        scores.append(fsmape(target_valid.values, pred_valid.values))\n",
    "        \n",
    "    return np.mean(scores)\n",
    "\n",
    "# Initialize models\n",
    "lr = LinearRegression()\n",
    "dt = DecisionTreeRegressor(random_state=54321)\n",
    "rf = RandomForestRegressor(random_state=54321)\n",
    "\n",
    "# Evaluate models\n",
    "lr_score = score_model(lr, features_train, target_train)\n",
    "dt_score = score_model(dt, features_train, target_train)\n",
    "rf_score = score_model(rf, features_train, target_train)\n",
    "\n",
    "print(\"Linear Regression sMAPE:\", lr_score)\n",
    "print(\"Decision Tree sMAPE:\", dt_score)\n",
    "print(\"Random Forest sMAPE:\", rf_score)"
   ]
  },
  {
   "cell_type": "code",
   "execution_count": 44,
   "metadata": {},
   "outputs": [
    {
     "data": {
      "text/html": [
       "<div>\n",
       "<style scoped>\n",
       "    .dataframe tbody tr th:only-of-type {\n",
       "        vertical-align: middle;\n",
       "    }\n",
       "\n",
       "    .dataframe tbody tr th {\n",
       "        vertical-align: top;\n",
       "    }\n",
       "\n",
       "    .dataframe thead th {\n",
       "        text-align: right;\n",
       "    }\n",
       "</style>\n",
       "<table border=\"1\" class=\"dataframe\">\n",
       "  <thead>\n",
       "    <tr style=\"text-align: right;\">\n",
       "      <th></th>\n",
       "      <th>primary_cleaner.input.sulfate</th>\n",
       "      <th>primary_cleaner.input.depressant</th>\n",
       "      <th>primary_cleaner.input.feed_size</th>\n",
       "      <th>primary_cleaner.input.xanthate</th>\n",
       "      <th>primary_cleaner.state.floatbank8_a_air</th>\n",
       "      <th>primary_cleaner.state.floatbank8_a_level</th>\n",
       "      <th>primary_cleaner.state.floatbank8_b_air</th>\n",
       "      <th>primary_cleaner.state.floatbank8_b_level</th>\n",
       "      <th>primary_cleaner.state.floatbank8_c_air</th>\n",
       "      <th>primary_cleaner.state.floatbank8_c_level</th>\n",
       "      <th>...</th>\n",
       "      <th>secondary_cleaner.state.floatbank4_a_air</th>\n",
       "      <th>secondary_cleaner.state.floatbank4_a_level</th>\n",
       "      <th>secondary_cleaner.state.floatbank4_b_air</th>\n",
       "      <th>secondary_cleaner.state.floatbank4_b_level</th>\n",
       "      <th>secondary_cleaner.state.floatbank5_a_air</th>\n",
       "      <th>secondary_cleaner.state.floatbank5_a_level</th>\n",
       "      <th>secondary_cleaner.state.floatbank5_b_air</th>\n",
       "      <th>secondary_cleaner.state.floatbank5_b_level</th>\n",
       "      <th>secondary_cleaner.state.floatbank6_a_air</th>\n",
       "      <th>secondary_cleaner.state.floatbank6_a_level</th>\n",
       "    </tr>\n",
       "    <tr>\n",
       "      <th>date</th>\n",
       "      <th></th>\n",
       "      <th></th>\n",
       "      <th></th>\n",
       "      <th></th>\n",
       "      <th></th>\n",
       "      <th></th>\n",
       "      <th></th>\n",
       "      <th></th>\n",
       "      <th></th>\n",
       "      <th></th>\n",
       "      <th></th>\n",
       "      <th></th>\n",
       "      <th></th>\n",
       "      <th></th>\n",
       "      <th></th>\n",
       "      <th></th>\n",
       "      <th></th>\n",
       "      <th></th>\n",
       "      <th></th>\n",
       "      <th></th>\n",
       "      <th></th>\n",
       "    </tr>\n",
       "  </thead>\n",
       "  <tbody>\n",
       "    <tr>\n",
       "      <th>2016-09-01 00:59:59</th>\n",
       "      <td>210.800909</td>\n",
       "      <td>14.993118</td>\n",
       "      <td>8.080000</td>\n",
       "      <td>1.005021</td>\n",
       "      <td>1398.981301</td>\n",
       "      <td>-500.225577</td>\n",
       "      <td>1399.144926</td>\n",
       "      <td>-499.919735</td>\n",
       "      <td>1400.102998</td>\n",
       "      <td>-500.704369</td>\n",
       "      <td>...</td>\n",
       "      <td>12.023554</td>\n",
       "      <td>-497.795834</td>\n",
       "      <td>8.016656</td>\n",
       "      <td>-501.289139</td>\n",
       "      <td>7.946562</td>\n",
       "      <td>-432.317850</td>\n",
       "      <td>4.872511</td>\n",
       "      <td>-500.037437</td>\n",
       "      <td>26.705889</td>\n",
       "      <td>-499.709414</td>\n",
       "    </tr>\n",
       "    <tr>\n",
       "      <th>2016-09-01 01:59:59</th>\n",
       "      <td>215.392455</td>\n",
       "      <td>14.987471</td>\n",
       "      <td>8.080000</td>\n",
       "      <td>0.990469</td>\n",
       "      <td>1398.777912</td>\n",
       "      <td>-500.057435</td>\n",
       "      <td>1398.055362</td>\n",
       "      <td>-499.778182</td>\n",
       "      <td>1396.151033</td>\n",
       "      <td>-499.240168</td>\n",
       "      <td>...</td>\n",
       "      <td>12.058140</td>\n",
       "      <td>-498.695773</td>\n",
       "      <td>8.130979</td>\n",
       "      <td>-499.634209</td>\n",
       "      <td>7.958270</td>\n",
       "      <td>-525.839648</td>\n",
       "      <td>4.878850</td>\n",
       "      <td>-500.162375</td>\n",
       "      <td>25.019940</td>\n",
       "      <td>-499.819438</td>\n",
       "    </tr>\n",
       "    <tr>\n",
       "      <th>2016-09-01 02:59:59</th>\n",
       "      <td>215.259946</td>\n",
       "      <td>12.884934</td>\n",
       "      <td>7.786667</td>\n",
       "      <td>0.996043</td>\n",
       "      <td>1398.493666</td>\n",
       "      <td>-500.868360</td>\n",
       "      <td>1398.860436</td>\n",
       "      <td>-499.764529</td>\n",
       "      <td>1398.075709</td>\n",
       "      <td>-502.151509</td>\n",
       "      <td>...</td>\n",
       "      <td>11.962366</td>\n",
       "      <td>-498.767484</td>\n",
       "      <td>8.096893</td>\n",
       "      <td>-500.827423</td>\n",
       "      <td>8.071056</td>\n",
       "      <td>-500.801673</td>\n",
       "      <td>4.905125</td>\n",
       "      <td>-499.828510</td>\n",
       "      <td>24.994862</td>\n",
       "      <td>-500.622559</td>\n",
       "    </tr>\n",
       "    <tr>\n",
       "      <th>2016-09-01 03:59:59</th>\n",
       "      <td>215.336236</td>\n",
       "      <td>12.006805</td>\n",
       "      <td>7.640000</td>\n",
       "      <td>0.863514</td>\n",
       "      <td>1399.618111</td>\n",
       "      <td>-498.863574</td>\n",
       "      <td>1397.440120</td>\n",
       "      <td>-499.211024</td>\n",
       "      <td>1400.129303</td>\n",
       "      <td>-498.355873</td>\n",
       "      <td>...</td>\n",
       "      <td>12.033091</td>\n",
       "      <td>-498.350935</td>\n",
       "      <td>8.074946</td>\n",
       "      <td>-499.474407</td>\n",
       "      <td>7.897085</td>\n",
       "      <td>-500.868509</td>\n",
       "      <td>4.931400</td>\n",
       "      <td>-499.963623</td>\n",
       "      <td>24.948919</td>\n",
       "      <td>-498.709987</td>\n",
       "    </tr>\n",
       "    <tr>\n",
       "      <th>2016-09-01 04:59:59</th>\n",
       "      <td>199.099327</td>\n",
       "      <td>10.682530</td>\n",
       "      <td>7.530000</td>\n",
       "      <td>0.805575</td>\n",
       "      <td>1401.268123</td>\n",
       "      <td>-500.808305</td>\n",
       "      <td>1398.128818</td>\n",
       "      <td>-499.504543</td>\n",
       "      <td>1402.172226</td>\n",
       "      <td>-500.810606</td>\n",
       "      <td>...</td>\n",
       "      <td>12.025367</td>\n",
       "      <td>-500.786497</td>\n",
       "      <td>8.054678</td>\n",
       "      <td>-500.397500</td>\n",
       "      <td>8.107890</td>\n",
       "      <td>-509.526725</td>\n",
       "      <td>4.957674</td>\n",
       "      <td>-500.360026</td>\n",
       "      <td>25.003331</td>\n",
       "      <td>-500.856333</td>\n",
       "    </tr>\n",
       "  </tbody>\n",
       "</table>\n",
       "<p>5 rows × 52 columns</p>\n",
       "</div>"
      ],
      "text/plain": [
       "                     primary_cleaner.input.sulfate  \\\n",
       "date                                                 \n",
       "2016-09-01 00:59:59                     210.800909   \n",
       "2016-09-01 01:59:59                     215.392455   \n",
       "2016-09-01 02:59:59                     215.259946   \n",
       "2016-09-01 03:59:59                     215.336236   \n",
       "2016-09-01 04:59:59                     199.099327   \n",
       "\n",
       "                     primary_cleaner.input.depressant  \\\n",
       "date                                                    \n",
       "2016-09-01 00:59:59                         14.993118   \n",
       "2016-09-01 01:59:59                         14.987471   \n",
       "2016-09-01 02:59:59                         12.884934   \n",
       "2016-09-01 03:59:59                         12.006805   \n",
       "2016-09-01 04:59:59                         10.682530   \n",
       "\n",
       "                     primary_cleaner.input.feed_size  \\\n",
       "date                                                   \n",
       "2016-09-01 00:59:59                         8.080000   \n",
       "2016-09-01 01:59:59                         8.080000   \n",
       "2016-09-01 02:59:59                         7.786667   \n",
       "2016-09-01 03:59:59                         7.640000   \n",
       "2016-09-01 04:59:59                         7.530000   \n",
       "\n",
       "                     primary_cleaner.input.xanthate  \\\n",
       "date                                                  \n",
       "2016-09-01 00:59:59                        1.005021   \n",
       "2016-09-01 01:59:59                        0.990469   \n",
       "2016-09-01 02:59:59                        0.996043   \n",
       "2016-09-01 03:59:59                        0.863514   \n",
       "2016-09-01 04:59:59                        0.805575   \n",
       "\n",
       "                     primary_cleaner.state.floatbank8_a_air  \\\n",
       "date                                                          \n",
       "2016-09-01 00:59:59                             1398.981301   \n",
       "2016-09-01 01:59:59                             1398.777912   \n",
       "2016-09-01 02:59:59                             1398.493666   \n",
       "2016-09-01 03:59:59                             1399.618111   \n",
       "2016-09-01 04:59:59                             1401.268123   \n",
       "\n",
       "                     primary_cleaner.state.floatbank8_a_level  \\\n",
       "date                                                            \n",
       "2016-09-01 00:59:59                               -500.225577   \n",
       "2016-09-01 01:59:59                               -500.057435   \n",
       "2016-09-01 02:59:59                               -500.868360   \n",
       "2016-09-01 03:59:59                               -498.863574   \n",
       "2016-09-01 04:59:59                               -500.808305   \n",
       "\n",
       "                     primary_cleaner.state.floatbank8_b_air  \\\n",
       "date                                                          \n",
       "2016-09-01 00:59:59                             1399.144926   \n",
       "2016-09-01 01:59:59                             1398.055362   \n",
       "2016-09-01 02:59:59                             1398.860436   \n",
       "2016-09-01 03:59:59                             1397.440120   \n",
       "2016-09-01 04:59:59                             1398.128818   \n",
       "\n",
       "                     primary_cleaner.state.floatbank8_b_level  \\\n",
       "date                                                            \n",
       "2016-09-01 00:59:59                               -499.919735   \n",
       "2016-09-01 01:59:59                               -499.778182   \n",
       "2016-09-01 02:59:59                               -499.764529   \n",
       "2016-09-01 03:59:59                               -499.211024   \n",
       "2016-09-01 04:59:59                               -499.504543   \n",
       "\n",
       "                     primary_cleaner.state.floatbank8_c_air  \\\n",
       "date                                                          \n",
       "2016-09-01 00:59:59                             1400.102998   \n",
       "2016-09-01 01:59:59                             1396.151033   \n",
       "2016-09-01 02:59:59                             1398.075709   \n",
       "2016-09-01 03:59:59                             1400.129303   \n",
       "2016-09-01 04:59:59                             1402.172226   \n",
       "\n",
       "                     primary_cleaner.state.floatbank8_c_level  ...  \\\n",
       "date                                                           ...   \n",
       "2016-09-01 00:59:59                               -500.704369  ...   \n",
       "2016-09-01 01:59:59                               -499.240168  ...   \n",
       "2016-09-01 02:59:59                               -502.151509  ...   \n",
       "2016-09-01 03:59:59                               -498.355873  ...   \n",
       "2016-09-01 04:59:59                               -500.810606  ...   \n",
       "\n",
       "                     secondary_cleaner.state.floatbank4_a_air  \\\n",
       "date                                                            \n",
       "2016-09-01 00:59:59                                 12.023554   \n",
       "2016-09-01 01:59:59                                 12.058140   \n",
       "2016-09-01 02:59:59                                 11.962366   \n",
       "2016-09-01 03:59:59                                 12.033091   \n",
       "2016-09-01 04:59:59                                 12.025367   \n",
       "\n",
       "                     secondary_cleaner.state.floatbank4_a_level  \\\n",
       "date                                                              \n",
       "2016-09-01 00:59:59                                 -497.795834   \n",
       "2016-09-01 01:59:59                                 -498.695773   \n",
       "2016-09-01 02:59:59                                 -498.767484   \n",
       "2016-09-01 03:59:59                                 -498.350935   \n",
       "2016-09-01 04:59:59                                 -500.786497   \n",
       "\n",
       "                     secondary_cleaner.state.floatbank4_b_air  \\\n",
       "date                                                            \n",
       "2016-09-01 00:59:59                                  8.016656   \n",
       "2016-09-01 01:59:59                                  8.130979   \n",
       "2016-09-01 02:59:59                                  8.096893   \n",
       "2016-09-01 03:59:59                                  8.074946   \n",
       "2016-09-01 04:59:59                                  8.054678   \n",
       "\n",
       "                     secondary_cleaner.state.floatbank4_b_level  \\\n",
       "date                                                              \n",
       "2016-09-01 00:59:59                                 -501.289139   \n",
       "2016-09-01 01:59:59                                 -499.634209   \n",
       "2016-09-01 02:59:59                                 -500.827423   \n",
       "2016-09-01 03:59:59                                 -499.474407   \n",
       "2016-09-01 04:59:59                                 -500.397500   \n",
       "\n",
       "                     secondary_cleaner.state.floatbank5_a_air  \\\n",
       "date                                                            \n",
       "2016-09-01 00:59:59                                  7.946562   \n",
       "2016-09-01 01:59:59                                  7.958270   \n",
       "2016-09-01 02:59:59                                  8.071056   \n",
       "2016-09-01 03:59:59                                  7.897085   \n",
       "2016-09-01 04:59:59                                  8.107890   \n",
       "\n",
       "                     secondary_cleaner.state.floatbank5_a_level  \\\n",
       "date                                                              \n",
       "2016-09-01 00:59:59                                 -432.317850   \n",
       "2016-09-01 01:59:59                                 -525.839648   \n",
       "2016-09-01 02:59:59                                 -500.801673   \n",
       "2016-09-01 03:59:59                                 -500.868509   \n",
       "2016-09-01 04:59:59                                 -509.526725   \n",
       "\n",
       "                     secondary_cleaner.state.floatbank5_b_air  \\\n",
       "date                                                            \n",
       "2016-09-01 00:59:59                                  4.872511   \n",
       "2016-09-01 01:59:59                                  4.878850   \n",
       "2016-09-01 02:59:59                                  4.905125   \n",
       "2016-09-01 03:59:59                                  4.931400   \n",
       "2016-09-01 04:59:59                                  4.957674   \n",
       "\n",
       "                     secondary_cleaner.state.floatbank5_b_level  \\\n",
       "date                                                              \n",
       "2016-09-01 00:59:59                                 -500.037437   \n",
       "2016-09-01 01:59:59                                 -500.162375   \n",
       "2016-09-01 02:59:59                                 -499.828510   \n",
       "2016-09-01 03:59:59                                 -499.963623   \n",
       "2016-09-01 04:59:59                                 -500.360026   \n",
       "\n",
       "                     secondary_cleaner.state.floatbank6_a_air  \\\n",
       "date                                                            \n",
       "2016-09-01 00:59:59                                 26.705889   \n",
       "2016-09-01 01:59:59                                 25.019940   \n",
       "2016-09-01 02:59:59                                 24.994862   \n",
       "2016-09-01 03:59:59                                 24.948919   \n",
       "2016-09-01 04:59:59                                 25.003331   \n",
       "\n",
       "                     secondary_cleaner.state.floatbank6_a_level  \n",
       "date                                                             \n",
       "2016-09-01 00:59:59                                 -499.709414  \n",
       "2016-09-01 01:59:59                                 -499.819438  \n",
       "2016-09-01 02:59:59                                 -500.622559  \n",
       "2016-09-01 03:59:59                                 -498.709987  \n",
       "2016-09-01 04:59:59                                 -500.856333  \n",
       "\n",
       "[5 rows x 52 columns]"
      ]
     },
     "execution_count": 44,
     "metadata": {},
     "output_type": "execute_result"
    }
   ],
   "source": [
    "# Reviewer's code \n",
    "\n",
    "df_test.head()"
   ]
  },
  {
   "cell_type": "code",
   "execution_count": 45,
   "metadata": {},
   "outputs": [
    {
     "data": {
      "text/html": [
       "<div>\n",
       "<style scoped>\n",
       "    .dataframe tbody tr th:only-of-type {\n",
       "        vertical-align: middle;\n",
       "    }\n",
       "\n",
       "    .dataframe tbody tr th {\n",
       "        vertical-align: top;\n",
       "    }\n",
       "\n",
       "    .dataframe thead th {\n",
       "        text-align: right;\n",
       "    }\n",
       "</style>\n",
       "<table border=\"1\" class=\"dataframe\">\n",
       "  <thead>\n",
       "    <tr style=\"text-align: right;\">\n",
       "      <th></th>\n",
       "      <th>A</th>\n",
       "      <th>B</th>\n",
       "    </tr>\n",
       "  </thead>\n",
       "  <tbody>\n",
       "    <tr>\n",
       "      <th>0</th>\n",
       "      <td>1</td>\n",
       "      <td>3</td>\n",
       "    </tr>\n",
       "    <tr>\n",
       "      <th>1</th>\n",
       "      <td>2</td>\n",
       "      <td>3</td>\n",
       "    </tr>\n",
       "    <tr>\n",
       "      <th>2</th>\n",
       "      <td>4</td>\n",
       "      <td>5</td>\n",
       "    </tr>\n",
       "  </tbody>\n",
       "</table>\n",
       "</div>"
      ],
      "text/plain": [
       "   A  B\n",
       "0  1  3\n",
       "1  2  3\n",
       "2  4  5"
      ]
     },
     "metadata": {},
     "output_type": "display_data"
    },
    {
     "data": {
      "text/html": [
       "<div>\n",
       "<style scoped>\n",
       "    .dataframe tbody tr th:only-of-type {\n",
       "        vertical-align: middle;\n",
       "    }\n",
       "\n",
       "    .dataframe tbody tr th {\n",
       "        vertical-align: top;\n",
       "    }\n",
       "\n",
       "    .dataframe thead th {\n",
       "        text-align: right;\n",
       "    }\n",
       "</style>\n",
       "<table border=\"1\" class=\"dataframe\">\n",
       "  <thead>\n",
       "    <tr style=\"text-align: right;\">\n",
       "      <th></th>\n",
       "      <th>A</th>\n",
       "      <th>B</th>\n",
       "    </tr>\n",
       "  </thead>\n",
       "  <tbody>\n",
       "    <tr>\n",
       "      <th>0</th>\n",
       "      <td>1</td>\n",
       "      <td>3</td>\n",
       "    </tr>\n",
       "    <tr>\n",
       "      <th>1</th>\n",
       "      <td>2</td>\n",
       "      <td>3</td>\n",
       "    </tr>\n",
       "    <tr>\n",
       "      <th>2</th>\n",
       "      <td>4</td>\n",
       "      <td>5</td>\n",
       "    </tr>\n",
       "  </tbody>\n",
       "</table>\n",
       "</div>"
      ],
      "text/plain": [
       "   A  B\n",
       "0  1  3\n",
       "1  2  3\n",
       "2  4  5"
      ]
     },
     "metadata": {},
     "output_type": "display_data"
    },
    {
     "data": {
      "text/html": [
       "<div>\n",
       "<style scoped>\n",
       "    .dataframe tbody tr th:only-of-type {\n",
       "        vertical-align: middle;\n",
       "    }\n",
       "\n",
       "    .dataframe tbody tr th {\n",
       "        vertical-align: top;\n",
       "    }\n",
       "\n",
       "    .dataframe thead th {\n",
       "        text-align: right;\n",
       "    }\n",
       "</style>\n",
       "<table border=\"1\" class=\"dataframe\">\n",
       "  <thead>\n",
       "    <tr style=\"text-align: right;\">\n",
       "      <th></th>\n",
       "      <th>A</th>\n",
       "      <th>B</th>\n",
       "    </tr>\n",
       "  </thead>\n",
       "  <tbody>\n",
       "    <tr>\n",
       "      <th>0</th>\n",
       "      <td>1</td>\n",
       "      <td>3</td>\n",
       "    </tr>\n",
       "    <tr>\n",
       "      <th>1</th>\n",
       "      <td>2</td>\n",
       "      <td>3</td>\n",
       "    </tr>\n",
       "    <tr>\n",
       "      <th>2</th>\n",
       "      <td>4</td>\n",
       "      <td>5</td>\n",
       "    </tr>\n",
       "  </tbody>\n",
       "</table>\n",
       "</div>"
      ],
      "text/plain": [
       "   A  B\n",
       "0  1  3\n",
       "1  2  3\n",
       "2  4  5"
      ]
     },
     "metadata": {},
     "output_type": "display_data"
    }
   ],
   "source": [
    "# Reviewer's code 4.1\n",
    "\n",
    "# Create dataframes\n",
    "\n",
    "l = {'A':[1,2,4], 'B':[3,3,5]}\n",
    "\n",
    "df1 = pd.DataFrame(l)\n",
    "\n",
    "df2 = df1\n",
    "\n",
    "df3 = df1.copy() \n",
    "\n",
    "display(df1, df2, df3)"
   ]
  },
  {
   "cell_type": "code",
   "execution_count": 46,
   "metadata": {},
   "outputs": [
    {
     "data": {
      "text/html": [
       "<div>\n",
       "<style scoped>\n",
       "    .dataframe tbody tr th:only-of-type {\n",
       "        vertical-align: middle;\n",
       "    }\n",
       "\n",
       "    .dataframe tbody tr th {\n",
       "        vertical-align: top;\n",
       "    }\n",
       "\n",
       "    .dataframe thead th {\n",
       "        text-align: right;\n",
       "    }\n",
       "</style>\n",
       "<table border=\"1\" class=\"dataframe\">\n",
       "  <thead>\n",
       "    <tr style=\"text-align: right;\">\n",
       "      <th></th>\n",
       "      <th>A</th>\n",
       "      <th>B</th>\n",
       "    </tr>\n",
       "  </thead>\n",
       "  <tbody>\n",
       "    <tr>\n",
       "      <th>0</th>\n",
       "      <td>change2</td>\n",
       "      <td>3</td>\n",
       "    </tr>\n",
       "    <tr>\n",
       "      <th>1</th>\n",
       "      <td>2</td>\n",
       "      <td>3</td>\n",
       "    </tr>\n",
       "    <tr>\n",
       "      <th>2</th>\n",
       "      <td>4</td>\n",
       "      <td>5</td>\n",
       "    </tr>\n",
       "  </tbody>\n",
       "</table>\n",
       "</div>"
      ],
      "text/plain": [
       "         A  B\n",
       "0  change2  3\n",
       "1        2  3\n",
       "2        4  5"
      ]
     },
     "metadata": {},
     "output_type": "display_data"
    },
    {
     "data": {
      "text/html": [
       "<div>\n",
       "<style scoped>\n",
       "    .dataframe tbody tr th:only-of-type {\n",
       "        vertical-align: middle;\n",
       "    }\n",
       "\n",
       "    .dataframe tbody tr th {\n",
       "        vertical-align: top;\n",
       "    }\n",
       "\n",
       "    .dataframe thead th {\n",
       "        text-align: right;\n",
       "    }\n",
       "</style>\n",
       "<table border=\"1\" class=\"dataframe\">\n",
       "  <thead>\n",
       "    <tr style=\"text-align: right;\">\n",
       "      <th></th>\n",
       "      <th>A</th>\n",
       "      <th>B</th>\n",
       "    </tr>\n",
       "  </thead>\n",
       "  <tbody>\n",
       "    <tr>\n",
       "      <th>0</th>\n",
       "      <td>change2</td>\n",
       "      <td>3</td>\n",
       "    </tr>\n",
       "    <tr>\n",
       "      <th>1</th>\n",
       "      <td>2</td>\n",
       "      <td>3</td>\n",
       "    </tr>\n",
       "    <tr>\n",
       "      <th>2</th>\n",
       "      <td>4</td>\n",
       "      <td>5</td>\n",
       "    </tr>\n",
       "  </tbody>\n",
       "</table>\n",
       "</div>"
      ],
      "text/plain": [
       "         A  B\n",
       "0  change2  3\n",
       "1        2  3\n",
       "2        4  5"
      ]
     },
     "metadata": {},
     "output_type": "display_data"
    },
    {
     "data": {
      "text/html": [
       "<div>\n",
       "<style scoped>\n",
       "    .dataframe tbody tr th:only-of-type {\n",
       "        vertical-align: middle;\n",
       "    }\n",
       "\n",
       "    .dataframe tbody tr th {\n",
       "        vertical-align: top;\n",
       "    }\n",
       "\n",
       "    .dataframe thead th {\n",
       "        text-align: right;\n",
       "    }\n",
       "</style>\n",
       "<table border=\"1\" class=\"dataframe\">\n",
       "  <thead>\n",
       "    <tr style=\"text-align: right;\">\n",
       "      <th></th>\n",
       "      <th>A</th>\n",
       "      <th>B</th>\n",
       "    </tr>\n",
       "  </thead>\n",
       "  <tbody>\n",
       "    <tr>\n",
       "      <th>0</th>\n",
       "      <td>1</td>\n",
       "      <td>3</td>\n",
       "    </tr>\n",
       "    <tr>\n",
       "      <th>1</th>\n",
       "      <td>change3</td>\n",
       "      <td>3</td>\n",
       "    </tr>\n",
       "    <tr>\n",
       "      <th>2</th>\n",
       "      <td>4</td>\n",
       "      <td>5</td>\n",
       "    </tr>\n",
       "  </tbody>\n",
       "</table>\n",
       "</div>"
      ],
      "text/plain": [
       "         A  B\n",
       "0        1  3\n",
       "1  change3  3\n",
       "2        4  5"
      ]
     },
     "metadata": {},
     "output_type": "display_data"
    }
   ],
   "source": [
    "# Reviewer's code 4.2\n",
    "\n",
    "df2.loc[0, 'A'] = 'change2'\n",
    "\n",
    "df3.loc[1, 'A'] = 'change3'\n",
    "\n",
    "display(df1, df2, df3)"
   ]
  },
  {
   "cell_type": "code",
   "execution_count": 47,
   "metadata": {},
   "outputs": [],
   "source": [
    "#debugging\n",
    "common_columns = features_train.columns.intersection(features_test.columns)\n",
    "features_train = features_train[common_columns]\n",
    "features_test = features_test[common_columns]\n"
   ]
  },
  {
   "cell_type": "code",
   "execution_count": 48,
   "metadata": {},
   "outputs": [],
   "source": [
    "#Resetting the index\n",
    "features_train = features_train.reset_index(drop=True)\n",
    "features_test = features_test.reset_index(drop=True)"
   ]
  },
  {
   "cell_type": "code",
   "execution_count": 49,
   "metadata": {},
   "outputs": [
    {
     "name": "stdout",
     "output_type": "stream",
     "text": [
      "RangeIndex(start=0, stop=5856, step=1)\n"
     ]
    }
   ],
   "source": [
    "print(features_test.index)"
   ]
  },
  {
   "cell_type": "code",
   "execution_count": 50,
   "metadata": {},
   "outputs": [
    {
     "name": "stdout",
     "output_type": "stream",
     "text": [
      "RangeIndex(start=0, stop=13795, step=1)\n"
     ]
    }
   ],
   "source": [
    "print(features_train.index)"
   ]
  },
  {
   "cell_type": "code",
   "execution_count": 51,
   "metadata": {
    "scrolled": true
   },
   "outputs": [
    {
     "name": "stdout",
     "output_type": "stream",
     "text": [
      "Training features count: 52\n"
     ]
    }
   ],
   "source": [
    "print(\"Training features count:\", features_train.shape[1])"
   ]
  },
  {
   "cell_type": "code",
   "execution_count": 52,
   "metadata": {},
   "outputs": [
    {
     "name": "stdout",
     "output_type": "stream",
     "text": [
      "Testing features count: 52\n"
     ]
    }
   ],
   "source": [
    "print(\"Testing features count:\", features_test.shape[1])"
   ]
  },
  {
   "cell_type": "code",
   "execution_count": 53,
   "metadata": {},
   "outputs": [],
   "source": [
    "# Train the best model on the entire training set\n",
    "best_model = RandomForestRegressor(random_state=54321)\n",
    "best_model.fit(features_train, target_train)\n",
    "\n",
    "# Make predictions on the test set\n",
    "predictions = best_model.predict(features_test)"
   ]
  },
  {
   "cell_type": "code",
   "execution_count": 54,
   "metadata": {},
   "outputs": [],
   "source": [
    "y_true = target_test   \n",
    "y_pred = predictions\n",
    "\n",
    "# Reshaping\n",
    "y_true = target_test.values.reshape(-1, 1)\n",
    "y_pred = predictions.reshape(-1, 1)"
   ]
  },
  {
   "cell_type": "code",
   "execution_count": 55,
   "metadata": {},
   "outputs": [
    {
     "name": "stdout",
     "output_type": "stream",
     "text": [
      "(5856, 2)\n"
     ]
    }
   ],
   "source": [
    "print(target_test.shape)"
   ]
  },
  {
   "cell_type": "code",
   "execution_count": 56,
   "metadata": {},
   "outputs": [
    {
     "name": "stdout",
     "output_type": "stream",
     "text": [
      "(5856, 2)\n"
     ]
    }
   ],
   "source": [
    "print(predictions.shape)"
   ]
  },
  {
   "cell_type": "code",
   "execution_count": 57,
   "metadata": {},
   "outputs": [],
   "source": [
    "   def fsmape(y_true, y_pred):\n",
    "       # Extract the columns\n",
    "       true_rough, true_final = y_true[:, 0], y_true[:, 1]\n",
    "       pred_rough, pred_final = y_pred[:, 0], y_pred[:, 1]\n",
    "\n",
    "       # Calculate sMAPEs\n",
    "       rougher_smape = smape2(true_rough, pred_rough)\n",
    "       final_smape = smape2(true_final, pred_final)\n",
    "       \n",
    "       # Calculate the weighted f_smape\n",
    "       f_smape = 0.25 * rougher_smape + 0.75 * final_smape\n",
    "       return f_smape\n",
    "   "
   ]
  },
  {
   "cell_type": "code",
   "execution_count": 58,
   "metadata": {},
   "outputs": [],
   "source": [
    "# For DataFrame\n",
    "true_rough = target_test.iloc[:, 0]\n",
    "true_final = target_test.iloc[:, 1]\n",
    "\n",
    "# For NumPy array\n",
    "pred_rough = predictions[:, 0]\n",
    "pred_final = predictions[:, 1]\n",
    "\n",
    "y_true = np.column_stack((true_rough, true_final))\n",
    "y_pred = np.column_stack((pred_rough, pred_final))\n",
    "\n",
    "# Now call the scoring function\n",
    "test_score = fsmape(y_true, y_pred)"
   ]
  },
  {
   "cell_type": "code",
   "execution_count": 59,
   "metadata": {},
   "outputs": [
    {
     "name": "stdout",
     "output_type": "stream",
     "text": [
      "Zeros in y_true: 137\n",
      "Zeros in y_pred: 0\n"
     ]
    }
   ],
   "source": [
    "print(\"Zeros in y_true:\", np.sum(y_true == 0))\n",
    "print(\"Zeros in y_pred:\", np.sum(y_pred == 0))"
   ]
  },
  {
   "cell_type": "code",
   "execution_count": 60,
   "metadata": {},
   "outputs": [
    {
     "name": "stdout",
     "output_type": "stream",
     "text": [
      "sMAPE score for best model on test dataset: 0.10477733727394942\n"
     ]
    }
   ],
   "source": [
    "print(f\"sMAPE score for best model on test dataset: {test_score}\")"
   ]
  },
  {
   "cell_type": "markdown",
   "metadata": {},
   "source": [
    "## CONCLUSION"
   ]
  },
  {
   "cell_type": "markdown",
   "metadata": {},
   "source": [
    "##### \n",
    "**DATA REVIEW**\n",
    "\n",
    "- I was originally provided three datasets, full data, train data and test data. The train data and test data are from the full data. There is a 75/25 split among the training and testing data. In the training data, there are 87 columns and 16,860 rows. In the test data, there are 53 columns and 5,856 rows. And in the full data, there are 87 columns and 22,716 rows. I was able to find the ratio by the rows of data.\n",
    "- After further review, I found that there were missing data that I needed to check to see if I could simply drop it or if the values needed to be filled in. \n",
    "- There was also incorrect data type for the purpose of this project that needed a conversion.\n",
    "- Last but not least, I identified the targets as 'rougher.output.recovery' and 'final.output.recovery'\n",
    "\n",
    "**DATA PREPROCESSING**\n",
    "\n",
    "- The data type of date has been converted to datetime, and then converted to integers when it came time to test models.\n",
    "- The missing columns were over 5%, so I filled it in with the column median. \n",
    "\n",
    "**EDA**\n",
    "\n",
    "- CONCENTRATIONS: There is an increase in concentration of gold from the initial purification stage to the final concentrate. It is the highest compared to Silver and Lead. For Silver, there is no increase. It actually decreases throughout all the stages and the final concentrate contains a significantly low amount of concentrate. And for Lead, there is a slight increase, but not a significant one compared to Gold. But it did perform better than Silver.\n",
    "- OUTLIERS: Based on the histogram for the concentrations, the summed values had a considerable number of outliers as \"0\". The data in the histogram also showed a right-skewed distribution which can significantly impact the analysis and model-building process. Therefore, I removed the zeros. \n",
    "- TRAINING AND TESTING MODELS: Based on the sMAPE values, the lowest value is shown in the Random Forest model. When tested on the test set, the Random Forest model obtained an sMAPE of 11.15."
   ]
  }
 ],
 "metadata": {
  "ExecuteTimeLog": [
   {
    "duration": 2726,
    "start_time": "2024-12-18T03:40:04.439Z"
   },
   {
    "duration": 852,
    "start_time": "2024-12-18T03:41:42.274Z"
   },
   {
    "duration": 577,
    "start_time": "2024-12-18T03:42:25.673Z"
   },
   {
    "duration": 14,
    "start_time": "2024-12-18T03:44:47.267Z"
   },
   {
    "duration": 510,
    "start_time": "2024-12-18T03:44:51.095Z"
   },
   {
    "duration": 186,
    "start_time": "2024-12-18T03:44:54.545Z"
   },
   {
    "duration": 117,
    "start_time": "2024-12-18T03:47:02.202Z"
   },
   {
    "duration": 188,
    "start_time": "2024-12-18T03:47:34.975Z"
   },
   {
    "duration": 8,
    "start_time": "2024-12-18T03:56:31.135Z"
   },
   {
    "duration": 55,
    "start_time": "2024-12-18T03:57:20.635Z"
   },
   {
    "duration": 3,
    "start_time": "2024-12-18T03:59:28.980Z"
   },
   {
    "duration": 485,
    "start_time": "2024-12-18T03:59:28.985Z"
   },
   {
    "duration": 186,
    "start_time": "2024-12-18T03:59:29.472Z"
   },
   {
    "duration": 8,
    "start_time": "2024-12-18T03:59:29.659Z"
   },
   {
    "duration": 67,
    "start_time": "2024-12-18T03:59:29.669Z"
   },
   {
    "duration": 119,
    "start_time": "2024-12-18T03:59:29.738Z"
   },
   {
    "duration": 7,
    "start_time": "2024-12-18T03:59:29.859Z"
   },
   {
    "duration": 37,
    "start_time": "2024-12-18T03:59:29.868Z"
   },
   {
    "duration": 263,
    "start_time": "2024-12-18T03:59:29.907Z"
   },
   {
    "duration": 8,
    "start_time": "2024-12-18T03:59:30.172Z"
   },
   {
    "duration": 88,
    "start_time": "2024-12-18T03:59:30.182Z"
   },
   {
    "duration": 15,
    "start_time": "2024-12-18T04:31:32.464Z"
   },
   {
    "duration": 15,
    "start_time": "2024-12-18T04:41:37.728Z"
   },
   {
    "duration": 5,
    "start_time": "2024-12-18T04:43:22.718Z"
   },
   {
    "duration": 23,
    "start_time": "2024-12-18T04:44:39.153Z"
   },
   {
    "duration": 2753,
    "start_time": "2024-12-19T03:04:30.977Z"
   },
   {
    "duration": 629,
    "start_time": "2024-12-19T03:04:33.732Z"
   },
   {
    "duration": 244,
    "start_time": "2024-12-19T03:04:34.362Z"
   },
   {
    "duration": 6,
    "start_time": "2024-12-19T03:04:34.608Z"
   },
   {
    "duration": 70,
    "start_time": "2024-12-19T03:04:34.616Z"
   },
   {
    "duration": 117,
    "start_time": "2024-12-19T03:04:34.688Z"
   },
   {
    "duration": 5,
    "start_time": "2024-12-19T03:04:34.808Z"
   },
   {
    "duration": 20,
    "start_time": "2024-12-19T03:04:34.815Z"
   },
   {
    "duration": 212,
    "start_time": "2024-12-19T03:04:34.837Z"
   },
   {
    "duration": 8,
    "start_time": "2024-12-19T03:04:35.052Z"
   },
   {
    "duration": 90,
    "start_time": "2024-12-19T03:04:35.062Z"
   },
   {
    "duration": 20,
    "start_time": "2024-12-19T03:04:35.154Z"
   },
   {
    "duration": 242,
    "start_time": "2024-12-19T03:04:35.176Z"
   },
   {
    "duration": 21,
    "start_time": "2024-12-19T03:04:59.200Z"
   },
   {
    "duration": 159,
    "start_time": "2024-12-19T05:11:29.354Z"
   },
   {
    "duration": 12,
    "start_time": "2024-12-19T05:11:35.200Z"
   },
   {
    "duration": 2793,
    "start_time": "2024-12-19T05:11:39.048Z"
   },
   {
    "duration": 634,
    "start_time": "2024-12-19T05:11:41.844Z"
   },
   {
    "duration": 198,
    "start_time": "2024-12-19T05:11:42.480Z"
   },
   {
    "duration": 7,
    "start_time": "2024-12-19T05:11:42.681Z"
   },
   {
    "duration": 70,
    "start_time": "2024-12-19T05:11:42.690Z"
   },
   {
    "duration": 127,
    "start_time": "2024-12-19T05:11:42.762Z"
   },
   {
    "duration": 6,
    "start_time": "2024-12-19T05:11:42.891Z"
   },
   {
    "duration": 22,
    "start_time": "2024-12-19T05:11:42.898Z"
   },
   {
    "duration": 209,
    "start_time": "2024-12-19T05:11:42.922Z"
   },
   {
    "duration": 7,
    "start_time": "2024-12-19T05:11:43.135Z"
   },
   {
    "duration": 99,
    "start_time": "2024-12-19T05:11:43.144Z"
   },
   {
    "duration": 10,
    "start_time": "2024-12-19T05:11:43.246Z"
   },
   {
    "duration": 22,
    "start_time": "2024-12-19T05:11:43.258Z"
   },
   {
    "duration": 112,
    "start_time": "2024-12-19T05:11:43.282Z"
   },
   {
    "duration": 9,
    "start_time": "2024-12-19T05:12:07.714Z"
   },
   {
    "duration": 7,
    "start_time": "2024-12-19T05:12:17.387Z"
   },
   {
    "duration": 9,
    "start_time": "2024-12-19T05:13:07.474Z"
   },
   {
    "duration": 14,
    "start_time": "2024-12-19T05:14:42.978Z"
   },
   {
    "duration": 19,
    "start_time": "2024-12-19T05:15:04.023Z"
   },
   {
    "duration": 13,
    "start_time": "2024-12-19T05:15:43.084Z"
   },
   {
    "duration": 12,
    "start_time": "2024-12-19T05:15:59.061Z"
   },
   {
    "duration": 74,
    "start_time": "2024-12-19T05:22:43.823Z"
   },
   {
    "duration": 2828,
    "start_time": "2024-12-20T01:52:37.428Z"
   },
   {
    "duration": 613,
    "start_time": "2024-12-20T01:52:40.258Z"
   },
   {
    "duration": 186,
    "start_time": "2024-12-20T01:52:40.872Z"
   },
   {
    "duration": 8,
    "start_time": "2024-12-20T01:52:41.061Z"
   },
   {
    "duration": 71,
    "start_time": "2024-12-20T01:52:41.070Z"
   },
   {
    "duration": 117,
    "start_time": "2024-12-20T01:52:41.142Z"
   },
   {
    "duration": 6,
    "start_time": "2024-12-20T01:52:41.261Z"
   },
   {
    "duration": 18,
    "start_time": "2024-12-20T01:52:41.269Z"
   },
   {
    "duration": 268,
    "start_time": "2024-12-20T01:52:41.289Z"
   },
   {
    "duration": 8,
    "start_time": "2024-12-20T01:52:41.561Z"
   },
   {
    "duration": 94,
    "start_time": "2024-12-20T01:52:41.570Z"
   },
   {
    "duration": 11,
    "start_time": "2024-12-20T01:52:41.666Z"
   },
   {
    "duration": 34,
    "start_time": "2024-12-20T01:52:41.678Z"
   },
   {
    "duration": 8,
    "start_time": "2024-12-20T01:52:41.713Z"
   },
   {
    "duration": 7,
    "start_time": "2024-12-20T01:52:41.722Z"
   },
   {
    "duration": 8,
    "start_time": "2024-12-20T01:52:41.730Z"
   },
   {
    "duration": 17,
    "start_time": "2024-12-20T01:52:41.739Z"
   },
   {
    "duration": 12,
    "start_time": "2024-12-20T01:52:41.758Z"
   },
   {
    "duration": 46,
    "start_time": "2024-12-20T01:52:41.771Z"
   },
   {
    "duration": 11,
    "start_time": "2024-12-20T01:52:41.818Z"
   },
   {
    "duration": 7,
    "start_time": "2024-12-20T01:54:28.437Z"
   },
   {
    "duration": 3,
    "start_time": "2024-12-20T01:54:35.044Z"
   },
   {
    "duration": 507,
    "start_time": "2024-12-20T01:54:35.051Z"
   },
   {
    "duration": 189,
    "start_time": "2024-12-20T01:54:35.560Z"
   },
   {
    "duration": 8,
    "start_time": "2024-12-20T01:54:35.750Z"
   },
   {
    "duration": 77,
    "start_time": "2024-12-20T01:54:35.760Z"
   },
   {
    "duration": 117,
    "start_time": "2024-12-20T01:54:35.839Z"
   },
   {
    "duration": 6,
    "start_time": "2024-12-20T01:54:35.958Z"
   },
   {
    "duration": 18,
    "start_time": "2024-12-20T01:54:35.967Z"
   },
   {
    "duration": 204,
    "start_time": "2024-12-20T01:54:35.987Z"
   },
   {
    "duration": 7,
    "start_time": "2024-12-20T01:54:36.193Z"
   },
   {
    "duration": 81,
    "start_time": "2024-12-20T01:54:36.209Z"
   },
   {
    "duration": 23,
    "start_time": "2024-12-20T01:54:36.291Z"
   },
   {
    "duration": 20,
    "start_time": "2024-12-20T01:54:36.316Z"
   },
   {
    "duration": 8,
    "start_time": "2024-12-20T01:54:36.338Z"
   },
   {
    "duration": 5,
    "start_time": "2024-12-20T01:54:36.350Z"
   },
   {
    "duration": 7,
    "start_time": "2024-12-20T01:54:36.357Z"
   },
   {
    "duration": 52,
    "start_time": "2024-12-20T01:54:36.366Z"
   },
   {
    "duration": 12,
    "start_time": "2024-12-20T01:54:36.419Z"
   },
   {
    "duration": 10,
    "start_time": "2024-12-20T01:54:36.432Z"
   },
   {
    "duration": 12,
    "start_time": "2024-12-20T01:54:36.443Z"
   },
   {
    "duration": 11,
    "start_time": "2024-12-20T01:59:39.853Z"
   },
   {
    "duration": 5,
    "start_time": "2024-12-20T02:00:07.580Z"
   },
   {
    "duration": 6,
    "start_time": "2024-12-20T02:00:15.095Z"
   },
   {
    "duration": 5,
    "start_time": "2024-12-20T02:01:30.543Z"
   },
   {
    "duration": 4,
    "start_time": "2024-12-20T02:14:36.375Z"
   },
   {
    "duration": 229,
    "start_time": "2024-12-20T02:15:00.712Z"
   },
   {
    "duration": 216,
    "start_time": "2024-12-20T02:15:05.688Z"
   },
   {
    "duration": 185,
    "start_time": "2024-12-20T02:16:33.652Z"
   },
   {
    "duration": 4,
    "start_time": "2024-12-20T02:17:02.175Z"
   },
   {
    "duration": 211,
    "start_time": "2024-12-20T02:17:13.967Z"
   },
   {
    "duration": 323,
    "start_time": "2024-12-20T02:29:39.006Z"
   },
   {
    "duration": 277,
    "start_time": "2024-12-20T02:29:54.033Z"
   },
   {
    "duration": 237,
    "start_time": "2024-12-20T02:30:00.810Z"
   },
   {
    "duration": 267,
    "start_time": "2024-12-20T02:30:04.330Z"
   },
   {
    "duration": 246,
    "start_time": "2024-12-20T02:30:39.922Z"
   },
   {
    "duration": 3,
    "start_time": "2024-12-20T02:34:18.163Z"
   },
   {
    "duration": 15,
    "start_time": "2024-12-20T02:35:46.815Z"
   },
   {
    "duration": 354,
    "start_time": "2024-12-20T02:38:35.563Z"
   },
   {
    "duration": 18,
    "start_time": "2024-12-20T02:39:51.763Z"
   },
   {
    "duration": 5,
    "start_time": "2024-12-20T02:39:55.970Z"
   },
   {
    "duration": 1597,
    "start_time": "2024-12-20T02:39:58.920Z"
   },
   {
    "duration": 157,
    "start_time": "2024-12-20T03:14:20.378Z"
   },
   {
    "duration": 2703,
    "start_time": "2024-12-20T03:14:28.625Z"
   },
   {
    "duration": 655,
    "start_time": "2024-12-20T03:14:31.330Z"
   },
   {
    "duration": 204,
    "start_time": "2024-12-20T03:14:31.986Z"
   },
   {
    "duration": 7,
    "start_time": "2024-12-20T03:14:32.192Z"
   },
   {
    "duration": 73,
    "start_time": "2024-12-20T03:14:32.201Z"
   },
   {
    "duration": 119,
    "start_time": "2024-12-20T03:14:32.276Z"
   },
   {
    "duration": 6,
    "start_time": "2024-12-20T03:14:32.396Z"
   },
   {
    "duration": 19,
    "start_time": "2024-12-20T03:14:32.403Z"
   },
   {
    "duration": 272,
    "start_time": "2024-12-20T03:14:32.424Z"
   },
   {
    "duration": 8,
    "start_time": "2024-12-20T03:14:32.698Z"
   },
   {
    "duration": 95,
    "start_time": "2024-12-20T03:14:32.707Z"
   },
   {
    "duration": 10,
    "start_time": "2024-12-20T03:14:32.804Z"
   },
   {
    "duration": 20,
    "start_time": "2024-12-20T03:14:32.816Z"
   },
   {
    "duration": 7,
    "start_time": "2024-12-20T03:14:32.840Z"
   },
   {
    "duration": 26,
    "start_time": "2024-12-20T03:14:32.848Z"
   },
   {
    "duration": 8,
    "start_time": "2024-12-20T03:14:32.876Z"
   },
   {
    "duration": 15,
    "start_time": "2024-12-20T03:14:32.886Z"
   },
   {
    "duration": 11,
    "start_time": "2024-12-20T03:14:32.903Z"
   },
   {
    "duration": 10,
    "start_time": "2024-12-20T03:14:32.916Z"
   },
   {
    "duration": 49,
    "start_time": "2024-12-20T03:14:32.927Z"
   },
   {
    "duration": 9,
    "start_time": "2024-12-20T03:14:32.978Z"
   },
   {
    "duration": 16,
    "start_time": "2024-12-20T03:14:32.988Z"
   },
   {
    "duration": 5,
    "start_time": "2024-12-20T03:14:33.005Z"
   },
   {
    "duration": 4,
    "start_time": "2024-12-20T03:14:33.012Z"
   },
   {
    "duration": 3,
    "start_time": "2024-12-20T03:14:33.017Z"
   },
   {
    "duration": 231,
    "start_time": "2024-12-20T03:14:33.022Z"
   },
   {
    "duration": 189,
    "start_time": "2024-12-20T03:14:33.255Z"
   },
   {
    "duration": 204,
    "start_time": "2024-12-20T03:14:33.447Z"
   },
   {
    "duration": 248,
    "start_time": "2024-12-20T03:14:33.654Z"
   },
   {
    "duration": 275,
    "start_time": "2024-12-20T03:14:33.904Z"
   },
   {
    "duration": 3,
    "start_time": "2024-12-20T03:14:34.181Z"
   },
   {
    "duration": 6,
    "start_time": "2024-12-20T03:14:34.186Z"
   },
   {
    "duration": 1570,
    "start_time": "2024-12-20T03:14:34.193Z"
   },
   {
    "duration": 20,
    "start_time": "2024-12-20T03:14:35.766Z"
   },
   {
    "duration": 207,
    "start_time": "2024-12-20T03:16:05.584Z"
   },
   {
    "duration": 16,
    "start_time": "2024-12-20T03:19:12.418Z"
   },
   {
    "duration": 132,
    "start_time": "2024-12-20T03:19:49.424Z"
   },
   {
    "duration": 38,
    "start_time": "2024-12-20T03:27:38.068Z"
   },
   {
    "duration": 40,
    "start_time": "2024-12-20T03:27:45.012Z"
   },
   {
    "duration": 49,
    "start_time": "2024-12-20T03:32:21.756Z"
   },
   {
    "duration": 216,
    "start_time": "2024-12-20T03:32:32.332Z"
   },
   {
    "duration": 4,
    "start_time": "2024-12-20T03:33:28.702Z"
   },
   {
    "duration": 3,
    "start_time": "2024-12-20T03:34:09.503Z"
   },
   {
    "duration": 33,
    "start_time": "2024-12-20T03:35:00.755Z"
   },
   {
    "duration": 14,
    "start_time": "2024-12-20T03:39:04.761Z"
   },
   {
    "duration": 310,
    "start_time": "2024-12-20T03:39:13.137Z"
   },
   {
    "duration": 43,
    "start_time": "2024-12-20T03:39:58.097Z"
   },
   {
    "duration": 47,
    "start_time": "2024-12-20T03:40:21.527Z"
   },
   {
    "duration": 20,
    "start_time": "2024-12-20T03:43:35.657Z"
   },
   {
    "duration": 4,
    "start_time": "2024-12-20T03:45:49.787Z"
   },
   {
    "duration": 14,
    "start_time": "2024-12-20T03:52:21.217Z"
   },
   {
    "duration": 14,
    "start_time": "2024-12-20T03:53:22.642Z"
   },
   {
    "duration": 16,
    "start_time": "2024-12-20T03:53:47.648Z"
   },
   {
    "duration": 14,
    "start_time": "2024-12-20T03:54:03.096Z"
   },
   {
    "duration": 14,
    "start_time": "2024-12-20T03:55:02.928Z"
   },
   {
    "duration": 42,
    "start_time": "2024-12-20T03:55:12.927Z"
   },
   {
    "duration": 15,
    "start_time": "2024-12-20T04:01:35.821Z"
   },
   {
    "duration": 3,
    "start_time": "2024-12-20T04:05:11.834Z"
   },
   {
    "duration": 4,
    "start_time": "2024-12-20T04:07:26.331Z"
   },
   {
    "duration": 14,
    "start_time": "2024-12-20T04:08:34.040Z"
   },
   {
    "duration": 50,
    "start_time": "2024-12-20T04:08:51.812Z"
   },
   {
    "duration": 47,
    "start_time": "2024-12-20T04:09:49.722Z"
   },
   {
    "duration": 3,
    "start_time": "2024-12-20T04:10:13.434Z"
   },
   {
    "duration": 519,
    "start_time": "2024-12-20T04:10:13.443Z"
   },
   {
    "duration": 186,
    "start_time": "2024-12-20T04:10:13.964Z"
   },
   {
    "duration": 8,
    "start_time": "2024-12-20T04:10:14.152Z"
   },
   {
    "duration": 55,
    "start_time": "2024-12-20T04:10:14.169Z"
   },
   {
    "duration": 121,
    "start_time": "2024-12-20T04:10:14.226Z"
   },
   {
    "duration": 6,
    "start_time": "2024-12-20T04:10:14.348Z"
   },
   {
    "duration": 32,
    "start_time": "2024-12-20T04:10:14.356Z"
   },
   {
    "duration": 208,
    "start_time": "2024-12-20T04:10:14.390Z"
   },
   {
    "duration": 8,
    "start_time": "2024-12-20T04:10:14.600Z"
   },
   {
    "duration": 96,
    "start_time": "2024-12-20T04:10:14.609Z"
   },
   {
    "duration": 10,
    "start_time": "2024-12-20T04:10:14.707Z"
   },
   {
    "duration": 22,
    "start_time": "2024-12-20T04:10:14.718Z"
   },
   {
    "duration": 7,
    "start_time": "2024-12-20T04:10:14.742Z"
   },
   {
    "duration": 6,
    "start_time": "2024-12-20T04:10:14.771Z"
   },
   {
    "duration": 10,
    "start_time": "2024-12-20T04:10:14.778Z"
   },
   {
    "duration": 22,
    "start_time": "2024-12-20T04:10:14.792Z"
   },
   {
    "duration": 14,
    "start_time": "2024-12-20T04:10:14.816Z"
   },
   {
    "duration": 38,
    "start_time": "2024-12-20T04:10:14.832Z"
   },
   {
    "duration": 12,
    "start_time": "2024-12-20T04:10:14.872Z"
   },
   {
    "duration": 9,
    "start_time": "2024-12-20T04:10:14.886Z"
   },
   {
    "duration": 4,
    "start_time": "2024-12-20T04:10:14.897Z"
   },
   {
    "duration": 5,
    "start_time": "2024-12-20T04:10:14.902Z"
   },
   {
    "duration": 4,
    "start_time": "2024-12-20T04:10:14.909Z"
   },
   {
    "duration": 3,
    "start_time": "2024-12-20T04:10:14.915Z"
   },
   {
    "duration": 237,
    "start_time": "2024-12-20T04:10:14.919Z"
   },
   {
    "duration": 192,
    "start_time": "2024-12-20T04:10:15.158Z"
   },
   {
    "duration": 197,
    "start_time": "2024-12-20T04:10:15.353Z"
   },
   {
    "duration": 242,
    "start_time": "2024-12-20T04:10:15.552Z"
   },
   {
    "duration": 261,
    "start_time": "2024-12-20T04:10:15.797Z"
   },
   {
    "duration": 10,
    "start_time": "2024-12-20T04:10:16.060Z"
   },
   {
    "duration": 4,
    "start_time": "2024-12-20T04:10:16.072Z"
   },
   {
    "duration": 1629,
    "start_time": "2024-12-20T04:10:16.078Z"
   },
   {
    "duration": 3,
    "start_time": "2024-12-20T04:10:17.709Z"
   },
   {
    "duration": 61,
    "start_time": "2024-12-20T04:10:17.714Z"
   },
   {
    "duration": 0,
    "start_time": "2024-12-20T04:10:17.777Z"
   },
   {
    "duration": 0,
    "start_time": "2024-12-20T04:10:17.778Z"
   },
   {
    "duration": 166,
    "start_time": "2024-12-20T04:11:40.310Z"
   },
   {
    "duration": 47,
    "start_time": "2024-12-20T04:14:05.670Z"
   },
   {
    "duration": 159,
    "start_time": "2024-12-20T21:11:46.301Z"
   },
   {
    "duration": 2851,
    "start_time": "2024-12-20T21:11:59.059Z"
   },
   {
    "duration": 642,
    "start_time": "2024-12-20T21:12:01.912Z"
   },
   {
    "duration": 203,
    "start_time": "2024-12-20T21:12:02.556Z"
   },
   {
    "duration": 6,
    "start_time": "2024-12-20T21:12:02.761Z"
   },
   {
    "duration": 72,
    "start_time": "2024-12-20T21:12:02.769Z"
   },
   {
    "duration": 117,
    "start_time": "2024-12-20T21:12:02.843Z"
   },
   {
    "duration": 7,
    "start_time": "2024-12-20T21:12:02.961Z"
   },
   {
    "duration": 18,
    "start_time": "2024-12-20T21:12:02.971Z"
   },
   {
    "duration": 219,
    "start_time": "2024-12-20T21:12:03.006Z"
   },
   {
    "duration": 7,
    "start_time": "2024-12-20T21:12:03.226Z"
   },
   {
    "duration": 94,
    "start_time": "2024-12-20T21:12:03.235Z"
   },
   {
    "duration": 10,
    "start_time": "2024-12-20T21:12:03.331Z"
   },
   {
    "duration": 22,
    "start_time": "2024-12-20T21:12:03.343Z"
   },
   {
    "duration": 7,
    "start_time": "2024-12-20T21:12:03.369Z"
   },
   {
    "duration": 33,
    "start_time": "2024-12-20T21:12:03.377Z"
   },
   {
    "duration": 7,
    "start_time": "2024-12-20T21:12:03.411Z"
   },
   {
    "duration": 19,
    "start_time": "2024-12-20T21:12:03.420Z"
   },
   {
    "duration": 13,
    "start_time": "2024-12-20T21:12:03.440Z"
   },
   {
    "duration": 10,
    "start_time": "2024-12-20T21:12:03.454Z"
   },
   {
    "duration": 46,
    "start_time": "2024-12-20T21:12:03.466Z"
   },
   {
    "duration": 13,
    "start_time": "2024-12-20T21:12:03.515Z"
   },
   {
    "duration": 5,
    "start_time": "2024-12-20T21:12:03.530Z"
   },
   {
    "duration": 5,
    "start_time": "2024-12-20T21:12:03.536Z"
   },
   {
    "duration": 5,
    "start_time": "2024-12-20T21:12:03.542Z"
   },
   {
    "duration": 4,
    "start_time": "2024-12-20T21:12:03.549Z"
   },
   {
    "duration": 235,
    "start_time": "2024-12-20T21:12:03.555Z"
   },
   {
    "duration": 192,
    "start_time": "2024-12-20T21:12:03.792Z"
   },
   {
    "duration": 208,
    "start_time": "2024-12-20T21:12:03.986Z"
   },
   {
    "duration": 241,
    "start_time": "2024-12-20T21:12:04.196Z"
   },
   {
    "duration": 261,
    "start_time": "2024-12-20T21:12:04.439Z"
   },
   {
    "duration": 515,
    "start_time": "2024-12-20T21:12:04.702Z"
   },
   {
    "duration": 0,
    "start_time": "2024-12-20T21:12:05.219Z"
   },
   {
    "duration": 0,
    "start_time": "2024-12-20T21:12:05.220Z"
   },
   {
    "duration": 0,
    "start_time": "2024-12-20T21:12:05.221Z"
   },
   {
    "duration": 0,
    "start_time": "2024-12-20T21:12:05.223Z"
   },
   {
    "duration": 0,
    "start_time": "2024-12-20T21:12:05.223Z"
   },
   {
    "duration": 0,
    "start_time": "2024-12-20T21:12:05.226Z"
   },
   {
    "duration": 17,
    "start_time": "2024-12-20T21:17:37.450Z"
   },
   {
    "duration": 4,
    "start_time": "2024-12-20T21:18:26.185Z"
   },
   {
    "duration": 4,
    "start_time": "2024-12-20T21:18:31.434Z"
   },
   {
    "duration": 14,
    "start_time": "2024-12-20T21:18:39.182Z"
   },
   {
    "duration": 4,
    "start_time": "2024-12-20T21:18:41.145Z"
   },
   {
    "duration": 3,
    "start_time": "2024-12-20T21:19:32.936Z"
   },
   {
    "duration": 521,
    "start_time": "2024-12-20T21:19:32.941Z"
   },
   {
    "duration": 271,
    "start_time": "2024-12-20T21:19:33.463Z"
   },
   {
    "duration": 7,
    "start_time": "2024-12-20T21:19:33.737Z"
   },
   {
    "duration": 70,
    "start_time": "2024-12-20T21:19:33.745Z"
   },
   {
    "duration": 114,
    "start_time": "2024-12-20T21:19:33.817Z"
   },
   {
    "duration": 5,
    "start_time": "2024-12-20T21:19:33.934Z"
   },
   {
    "duration": 18,
    "start_time": "2024-12-20T21:19:33.941Z"
   },
   {
    "duration": 211,
    "start_time": "2024-12-20T21:19:33.980Z"
   },
   {
    "duration": 15,
    "start_time": "2024-12-20T21:19:34.193Z"
   },
   {
    "duration": 79,
    "start_time": "2024-12-20T21:19:34.210Z"
   },
   {
    "duration": 18,
    "start_time": "2024-12-20T21:19:34.292Z"
   },
   {
    "duration": 19,
    "start_time": "2024-12-20T21:19:34.312Z"
   },
   {
    "duration": 16,
    "start_time": "2024-12-20T21:19:34.332Z"
   },
   {
    "duration": 5,
    "start_time": "2024-12-20T21:19:34.350Z"
   },
   {
    "duration": 9,
    "start_time": "2024-12-20T21:19:34.357Z"
   },
   {
    "duration": 55,
    "start_time": "2024-12-20T21:19:34.367Z"
   },
   {
    "duration": 12,
    "start_time": "2024-12-20T21:19:34.425Z"
   },
   {
    "duration": 10,
    "start_time": "2024-12-20T21:19:34.438Z"
   },
   {
    "duration": 11,
    "start_time": "2024-12-20T21:19:34.450Z"
   },
   {
    "duration": 9,
    "start_time": "2024-12-20T21:19:35.952Z"
   },
   {
    "duration": 5,
    "start_time": "2024-12-20T21:19:35.963Z"
   },
   {
    "duration": 5,
    "start_time": "2024-12-20T21:19:35.970Z"
   },
   {
    "duration": 5,
    "start_time": "2024-12-20T21:19:35.977Z"
   },
   {
    "duration": 3,
    "start_time": "2024-12-20T21:19:35.985Z"
   },
   {
    "duration": 198,
    "start_time": "2024-12-20T21:19:35.990Z"
   },
   {
    "duration": 192,
    "start_time": "2024-12-20T21:19:36.191Z"
   },
   {
    "duration": 206,
    "start_time": "2024-12-20T21:19:36.384Z"
   },
   {
    "duration": 242,
    "start_time": "2024-12-20T21:19:36.592Z"
   },
   {
    "duration": 257,
    "start_time": "2024-12-20T21:19:36.835Z"
   },
   {
    "duration": 51,
    "start_time": "2024-12-20T21:19:37.093Z"
   },
   {
    "duration": 0,
    "start_time": "2024-12-20T21:19:37.146Z"
   },
   {
    "duration": 0,
    "start_time": "2024-12-20T21:19:37.148Z"
   },
   {
    "duration": 0,
    "start_time": "2024-12-20T21:19:37.149Z"
   },
   {
    "duration": 0,
    "start_time": "2024-12-20T21:19:37.151Z"
   },
   {
    "duration": 0,
    "start_time": "2024-12-20T21:19:37.152Z"
   },
   {
    "duration": 0,
    "start_time": "2024-12-20T21:19:37.154Z"
   },
   {
    "duration": 7,
    "start_time": "2024-12-20T21:32:00.828Z"
   },
   {
    "duration": 3,
    "start_time": "2024-12-20T21:32:27.797Z"
   },
   {
    "duration": 506,
    "start_time": "2024-12-20T21:32:27.802Z"
   },
   {
    "duration": 177,
    "start_time": "2024-12-20T21:32:28.309Z"
   },
   {
    "duration": 6,
    "start_time": "2024-12-20T21:32:28.488Z"
   },
   {
    "duration": 54,
    "start_time": "2024-12-20T21:32:28.507Z"
   },
   {
    "duration": 123,
    "start_time": "2024-12-20T21:32:28.562Z"
   },
   {
    "duration": 6,
    "start_time": "2024-12-20T21:32:28.686Z"
   },
   {
    "duration": 20,
    "start_time": "2024-12-20T21:32:28.705Z"
   },
   {
    "duration": 205,
    "start_time": "2024-12-20T21:32:28.727Z"
   },
   {
    "duration": 10,
    "start_time": "2024-12-20T21:32:28.935Z"
   },
   {
    "duration": 92,
    "start_time": "2024-12-20T21:32:28.947Z"
   },
   {
    "duration": 10,
    "start_time": "2024-12-20T21:32:29.040Z"
   },
   {
    "duration": 20,
    "start_time": "2024-12-20T21:32:29.052Z"
   },
   {
    "duration": 37,
    "start_time": "2024-12-20T21:32:29.076Z"
   },
   {
    "duration": 4,
    "start_time": "2024-12-20T21:32:29.114Z"
   },
   {
    "duration": 6,
    "start_time": "2024-12-20T21:32:29.120Z"
   },
   {
    "duration": 11,
    "start_time": "2024-12-20T21:32:29.128Z"
   },
   {
    "duration": 5,
    "start_time": "2024-12-20T21:32:29.141Z"
   },
   {
    "duration": 5,
    "start_time": "2024-12-20T21:32:29.148Z"
   },
   {
    "duration": 5,
    "start_time": "2024-12-20T21:32:29.154Z"
   },
   {
    "duration": 3,
    "start_time": "2024-12-20T21:32:29.160Z"
   },
   {
    "duration": 233,
    "start_time": "2024-12-20T21:32:29.165Z"
   },
   {
    "duration": 201,
    "start_time": "2024-12-20T21:32:29.400Z"
   },
   {
    "duration": 210,
    "start_time": "2024-12-20T21:32:29.605Z"
   },
   {
    "duration": 390,
    "start_time": "2024-12-20T21:32:29.817Z"
   },
   {
    "duration": 254,
    "start_time": "2024-12-20T21:32:30.210Z"
   },
   {
    "duration": 61,
    "start_time": "2024-12-20T21:32:30.466Z"
   },
   {
    "duration": 0,
    "start_time": "2024-12-20T21:32:30.528Z"
   },
   {
    "duration": 0,
    "start_time": "2024-12-20T21:32:30.529Z"
   },
   {
    "duration": 0,
    "start_time": "2024-12-20T21:32:30.531Z"
   },
   {
    "duration": 0,
    "start_time": "2024-12-20T21:32:30.533Z"
   },
   {
    "duration": 0,
    "start_time": "2024-12-20T21:32:30.534Z"
   },
   {
    "duration": 0,
    "start_time": "2024-12-20T21:32:30.536Z"
   },
   {
    "duration": 6,
    "start_time": "2024-12-20T21:33:10.638Z"
   },
   {
    "duration": 13,
    "start_time": "2024-12-20T21:33:40.190Z"
   },
   {
    "duration": 69,
    "start_time": "2024-12-20T21:34:42.065Z"
   },
   {
    "duration": 26,
    "start_time": "2024-12-20T21:35:03.153Z"
   },
   {
    "duration": 8,
    "start_time": "2024-12-20T21:35:58.408Z"
   },
   {
    "duration": 6,
    "start_time": "2024-12-20T21:36:11.013Z"
   },
   {
    "duration": 7,
    "start_time": "2024-12-20T21:36:25.753Z"
   },
   {
    "duration": 7,
    "start_time": "2024-12-20T21:37:13.079Z"
   },
   {
    "duration": 3,
    "start_time": "2024-12-20T21:37:37.029Z"
   },
   {
    "duration": 475,
    "start_time": "2024-12-20T21:37:37.034Z"
   },
   {
    "duration": 183,
    "start_time": "2024-12-20T21:37:37.510Z"
   },
   {
    "duration": 11,
    "start_time": "2024-12-20T21:37:37.696Z"
   },
   {
    "duration": 55,
    "start_time": "2024-12-20T21:37:37.709Z"
   },
   {
    "duration": 126,
    "start_time": "2024-12-20T21:37:37.766Z"
   },
   {
    "duration": 14,
    "start_time": "2024-12-20T21:37:37.893Z"
   },
   {
    "duration": 19,
    "start_time": "2024-12-20T21:37:37.909Z"
   },
   {
    "duration": 207,
    "start_time": "2024-12-20T21:37:37.929Z"
   },
   {
    "duration": 7,
    "start_time": "2024-12-20T21:37:38.140Z"
   },
   {
    "duration": 90,
    "start_time": "2024-12-20T21:37:38.148Z"
   },
   {
    "duration": 10,
    "start_time": "2024-12-20T21:37:38.241Z"
   },
   {
    "duration": 19,
    "start_time": "2024-12-20T21:37:38.253Z"
   },
   {
    "duration": 36,
    "start_time": "2024-12-20T21:37:38.274Z"
   },
   {
    "duration": 4,
    "start_time": "2024-12-20T21:37:38.311Z"
   },
   {
    "duration": 6,
    "start_time": "2024-12-20T21:37:38.316Z"
   },
   {
    "duration": 5,
    "start_time": "2024-12-20T21:37:38.323Z"
   },
   {
    "duration": 15,
    "start_time": "2024-12-20T21:37:38.330Z"
   },
   {
    "duration": 98,
    "start_time": "2024-12-20T21:37:38.347Z"
   },
   {
    "duration": 8,
    "start_time": "2024-12-20T21:37:38.447Z"
   },
   {
    "duration": 6,
    "start_time": "2024-12-20T21:37:38.456Z"
   },
   {
    "duration": 8,
    "start_time": "2024-12-20T21:37:38.463Z"
   },
   {
    "duration": 11,
    "start_time": "2024-12-20T21:37:38.472Z"
   },
   {
    "duration": 5,
    "start_time": "2024-12-20T21:37:38.505Z"
   },
   {
    "duration": 5,
    "start_time": "2024-12-20T21:37:38.512Z"
   },
   {
    "duration": 5,
    "start_time": "2024-12-20T21:37:38.518Z"
   },
   {
    "duration": 4,
    "start_time": "2024-12-20T21:37:38.524Z"
   },
   {
    "duration": 212,
    "start_time": "2024-12-20T21:37:38.532Z"
   },
   {
    "duration": 206,
    "start_time": "2024-12-20T21:37:38.746Z"
   },
   {
    "duration": 216,
    "start_time": "2024-12-20T21:37:38.955Z"
   },
   {
    "duration": 239,
    "start_time": "2024-12-20T21:37:39.173Z"
   },
   {
    "duration": 257,
    "start_time": "2024-12-20T21:37:39.413Z"
   },
   {
    "duration": 60,
    "start_time": "2024-12-20T21:37:39.672Z"
   },
   {
    "duration": 0,
    "start_time": "2024-12-20T21:37:39.734Z"
   },
   {
    "duration": 0,
    "start_time": "2024-12-20T21:37:39.736Z"
   },
   {
    "duration": 0,
    "start_time": "2024-12-20T21:37:39.737Z"
   },
   {
    "duration": 0,
    "start_time": "2024-12-20T21:37:39.738Z"
   },
   {
    "duration": 0,
    "start_time": "2024-12-20T21:37:39.740Z"
   },
   {
    "duration": 0,
    "start_time": "2024-12-20T21:37:39.741Z"
   },
   {
    "duration": 12,
    "start_time": "2024-12-20T21:40:14.150Z"
   },
   {
    "duration": 5,
    "start_time": "2024-12-20T21:41:52.615Z"
   },
   {
    "duration": 1661,
    "start_time": "2024-12-20T21:42:06.254Z"
   },
   {
    "duration": 15,
    "start_time": "2024-12-20T21:44:56.199Z"
   },
   {
    "duration": 16,
    "start_time": "2024-12-20T21:47:53.852Z"
   },
   {
    "duration": 22,
    "start_time": "2024-12-20T21:48:29.425Z"
   },
   {
    "duration": 9,
    "start_time": "2024-12-20T21:48:42.946Z"
   },
   {
    "duration": 1638,
    "start_time": "2024-12-20T21:50:04.173Z"
   },
   {
    "duration": 16,
    "start_time": "2024-12-20T21:50:51.550Z"
   },
   {
    "duration": 16,
    "start_time": "2024-12-20T21:53:24.700Z"
   },
   {
    "duration": 6,
    "start_time": "2024-12-20T21:53:31.903Z"
   },
   {
    "duration": 3,
    "start_time": "2024-12-20T21:53:51.382Z"
   },
   {
    "duration": 6,
    "start_time": "2024-12-20T21:54:14.595Z"
   },
   {
    "duration": 4,
    "start_time": "2024-12-20T22:00:31.586Z"
   },
   {
    "duration": 3,
    "start_time": "2024-12-20T22:00:49.781Z"
   },
   {
    "duration": 484,
    "start_time": "2024-12-20T22:00:49.787Z"
   },
   {
    "duration": 189,
    "start_time": "2024-12-20T22:00:50.272Z"
   },
   {
    "duration": 7,
    "start_time": "2024-12-20T22:00:50.463Z"
   },
   {
    "duration": 67,
    "start_time": "2024-12-20T22:00:50.471Z"
   },
   {
    "duration": 238,
    "start_time": "2024-12-20T22:00:50.539Z"
   },
   {
    "duration": 7,
    "start_time": "2024-12-20T22:00:50.779Z"
   },
   {
    "duration": 22,
    "start_time": "2024-12-20T22:00:50.789Z"
   },
   {
    "duration": 201,
    "start_time": "2024-12-20T22:00:50.813Z"
   },
   {
    "duration": 8,
    "start_time": "2024-12-20T22:00:51.018Z"
   },
   {
    "duration": 95,
    "start_time": "2024-12-20T22:00:51.027Z"
   },
   {
    "duration": 10,
    "start_time": "2024-12-20T22:00:51.124Z"
   },
   {
    "duration": 19,
    "start_time": "2024-12-20T22:00:51.136Z"
   },
   {
    "duration": 15,
    "start_time": "2024-12-20T22:00:51.157Z"
   },
   {
    "duration": 4,
    "start_time": "2024-12-20T22:00:51.174Z"
   },
   {
    "duration": 30,
    "start_time": "2024-12-20T22:00:51.180Z"
   },
   {
    "duration": 6,
    "start_time": "2024-12-20T22:00:51.212Z"
   },
   {
    "duration": 16,
    "start_time": "2024-12-20T22:00:51.219Z"
   },
   {
    "duration": 97,
    "start_time": "2024-12-20T22:00:51.237Z"
   },
   {
    "duration": 7,
    "start_time": "2024-12-20T22:00:51.336Z"
   },
   {
    "duration": 5,
    "start_time": "2024-12-20T22:00:51.344Z"
   },
   {
    "duration": 7,
    "start_time": "2024-12-20T22:00:51.351Z"
   },
   {
    "duration": 10,
    "start_time": "2024-12-20T22:00:51.359Z"
   },
   {
    "duration": 5,
    "start_time": "2024-12-20T22:00:51.370Z"
   },
   {
    "duration": 33,
    "start_time": "2024-12-20T22:00:51.376Z"
   },
   {
    "duration": 4,
    "start_time": "2024-12-20T22:00:51.411Z"
   },
   {
    "duration": 4,
    "start_time": "2024-12-20T22:00:51.417Z"
   },
   {
    "duration": 223,
    "start_time": "2024-12-20T22:00:51.425Z"
   },
   {
    "duration": 201,
    "start_time": "2024-12-20T22:00:51.650Z"
   },
   {
    "duration": 204,
    "start_time": "2024-12-20T22:00:51.853Z"
   },
   {
    "duration": 247,
    "start_time": "2024-12-20T22:00:52.059Z"
   },
   {
    "duration": 277,
    "start_time": "2024-12-20T22:00:52.308Z"
   },
   {
    "duration": 5,
    "start_time": "2024-12-20T22:00:52.587Z"
   },
   {
    "duration": 1692,
    "start_time": "2024-12-20T22:00:52.593Z"
   },
   {
    "duration": 25,
    "start_time": "2024-12-20T22:00:54.287Z"
   },
   {
    "duration": 9,
    "start_time": "2024-12-20T22:00:54.314Z"
   },
   {
    "duration": 4,
    "start_time": "2024-12-20T22:00:54.324Z"
   },
   {
    "duration": 5,
    "start_time": "2024-12-20T22:00:54.329Z"
   },
   {
    "duration": 3,
    "start_time": "2024-12-20T22:00:54.336Z"
   },
   {
    "duration": 6,
    "start_time": "2024-12-20T22:00:54.342Z"
   },
   {
    "duration": 7,
    "start_time": "2024-12-20T22:00:54.350Z"
   },
   {
    "duration": 4,
    "start_time": "2024-12-20T22:02:27.982Z"
   },
   {
    "duration": 4,
    "start_time": "2024-12-20T22:03:30.845Z"
   },
   {
    "duration": 155,
    "start_time": "2024-12-21T00:42:35.766Z"
   },
   {
    "duration": 2732,
    "start_time": "2024-12-21T00:42:51.766Z"
   },
   {
    "duration": 616,
    "start_time": "2024-12-21T00:42:54.500Z"
   },
   {
    "duration": 190,
    "start_time": "2024-12-21T00:42:55.117Z"
   },
   {
    "duration": 8,
    "start_time": "2024-12-21T00:42:55.309Z"
   },
   {
    "duration": 70,
    "start_time": "2024-12-21T00:42:55.318Z"
   },
   {
    "duration": 118,
    "start_time": "2024-12-21T00:42:55.390Z"
   },
   {
    "duration": 6,
    "start_time": "2024-12-21T00:42:55.509Z"
   },
   {
    "duration": 18,
    "start_time": "2024-12-21T00:42:55.517Z"
   },
   {
    "duration": 278,
    "start_time": "2024-12-21T00:42:55.536Z"
   },
   {
    "duration": 7,
    "start_time": "2024-12-21T00:42:55.817Z"
   },
   {
    "duration": 94,
    "start_time": "2024-12-21T00:42:55.825Z"
   },
   {
    "duration": 10,
    "start_time": "2024-12-21T00:42:55.921Z"
   },
   {
    "duration": 37,
    "start_time": "2024-12-21T00:42:55.933Z"
   },
   {
    "duration": 15,
    "start_time": "2024-12-21T00:42:55.972Z"
   },
   {
    "duration": 4,
    "start_time": "2024-12-21T00:42:55.989Z"
   },
   {
    "duration": 5,
    "start_time": "2024-12-21T00:42:55.995Z"
   },
   {
    "duration": 5,
    "start_time": "2024-12-21T00:42:56.002Z"
   },
   {
    "duration": 20,
    "start_time": "2024-12-21T00:42:56.008Z"
   },
   {
    "duration": 105,
    "start_time": "2024-12-21T00:42:56.030Z"
   },
   {
    "duration": 8,
    "start_time": "2024-12-21T00:42:56.137Z"
   },
   {
    "duration": 6,
    "start_time": "2024-12-21T00:42:56.147Z"
   },
   {
    "duration": 8,
    "start_time": "2024-12-21T00:42:56.171Z"
   },
   {
    "duration": 11,
    "start_time": "2024-12-21T00:42:56.180Z"
   },
   {
    "duration": 5,
    "start_time": "2024-12-21T00:42:56.192Z"
   },
   {
    "duration": 5,
    "start_time": "2024-12-21T00:42:56.198Z"
   },
   {
    "duration": 4,
    "start_time": "2024-12-21T00:42:56.204Z"
   },
   {
    "duration": 3,
    "start_time": "2024-12-21T00:42:56.210Z"
   },
   {
    "duration": 243,
    "start_time": "2024-12-21T00:42:56.217Z"
   },
   {
    "duration": 232,
    "start_time": "2024-12-21T00:42:56.462Z"
   },
   {
    "duration": 218,
    "start_time": "2024-12-21T00:42:56.696Z"
   },
   {
    "duration": 266,
    "start_time": "2024-12-21T00:42:56.915Z"
   },
   {
    "duration": 253,
    "start_time": "2024-12-21T00:42:57.183Z"
   },
   {
    "duration": 5,
    "start_time": "2024-12-21T00:42:57.438Z"
   },
   {
    "duration": 1639,
    "start_time": "2024-12-21T00:42:57.444Z"
   },
   {
    "duration": 20,
    "start_time": "2024-12-21T00:42:59.085Z"
   },
   {
    "duration": 10,
    "start_time": "2024-12-21T00:42:59.106Z"
   },
   {
    "duration": 3,
    "start_time": "2024-12-21T00:42:59.118Z"
   },
   {
    "duration": 5,
    "start_time": "2024-12-21T00:42:59.123Z"
   },
   {
    "duration": 3,
    "start_time": "2024-12-21T00:42:59.130Z"
   },
   {
    "duration": 38,
    "start_time": "2024-12-21T00:42:59.135Z"
   },
   {
    "duration": 110,
    "start_time": "2024-12-21T00:42:59.175Z"
   },
   {
    "duration": 0,
    "start_time": "2024-12-21T00:42:59.286Z"
   },
   {
    "duration": 0,
    "start_time": "2024-12-21T00:42:59.287Z"
   },
   {
    "duration": 4,
    "start_time": "2024-12-21T00:45:32.889Z"
   },
   {
    "duration": 25,
    "start_time": "2024-12-21T00:45:37.476Z"
   },
   {
    "duration": 4,
    "start_time": "2024-12-21T00:45:54.414Z"
   },
   {
    "duration": 7,
    "start_time": "2024-12-21T00:45:59.971Z"
   },
   {
    "duration": 13,
    "start_time": "2024-12-21T00:46:05.569Z"
   },
   {
    "duration": 15,
    "start_time": "2024-12-21T00:46:20.309Z"
   },
   {
    "duration": 105,
    "start_time": "2024-12-21T00:48:15.520Z"
   },
   {
    "duration": 17,
    "start_time": "2024-12-21T00:50:00.439Z"
   },
   {
    "duration": 4,
    "start_time": "2024-12-21T00:50:35.846Z"
   },
   {
    "duration": 3,
    "start_time": "2024-12-21T00:50:48.164Z"
   },
   {
    "duration": 15,
    "start_time": "2024-12-21T00:50:51.755Z"
   },
   {
    "duration": 518,
    "start_time": "2024-12-21T00:51:03.470Z"
   },
   {
    "duration": 405,
    "start_time": "2024-12-21T00:52:07.079Z"
   },
   {
    "duration": 3,
    "start_time": "2024-12-21T00:53:32.386Z"
   },
   {
    "duration": 47,
    "start_time": "2024-12-21T00:55:03.162Z"
   },
   {
    "duration": 45,
    "start_time": "2024-12-21T01:05:45.679Z"
   },
   {
    "duration": 4,
    "start_time": "2024-12-21T01:05:52.050Z"
   },
   {
    "duration": 3,
    "start_time": "2024-12-21T01:09:10.017Z"
   },
   {
    "duration": 6,
    "start_time": "2024-12-21T01:13:07.616Z"
   },
   {
    "duration": 3,
    "start_time": "2024-12-21T01:13:56.261Z"
   },
   {
    "duration": 3,
    "start_time": "2024-12-21T01:13:58.583Z"
   },
   {
    "duration": 560,
    "start_time": "2024-12-21T01:14:14.813Z"
   },
   {
    "duration": 47,
    "start_time": "2024-12-21T01:14:39.737Z"
   },
   {
    "duration": 14,
    "start_time": "2024-12-21T01:15:44.393Z"
   },
   {
    "duration": 47,
    "start_time": "2024-12-21T01:16:54.286Z"
   },
   {
    "duration": 4,
    "start_time": "2024-12-21T01:17:15.452Z"
   },
   {
    "duration": 509,
    "start_time": "2024-12-21T01:17:15.458Z"
   },
   {
    "duration": 186,
    "start_time": "2024-12-21T01:17:15.969Z"
   },
   {
    "duration": 13,
    "start_time": "2024-12-21T01:17:16.158Z"
   },
   {
    "duration": 54,
    "start_time": "2024-12-21T01:17:16.172Z"
   },
   {
    "duration": 225,
    "start_time": "2024-12-21T01:17:16.227Z"
   },
   {
    "duration": 6,
    "start_time": "2024-12-21T01:17:16.454Z"
   },
   {
    "duration": 25,
    "start_time": "2024-12-21T01:17:16.461Z"
   },
   {
    "duration": 210,
    "start_time": "2024-12-21T01:17:16.487Z"
   },
   {
    "duration": 8,
    "start_time": "2024-12-21T01:17:16.700Z"
   },
   {
    "duration": 92,
    "start_time": "2024-12-21T01:17:16.709Z"
   },
   {
    "duration": 11,
    "start_time": "2024-12-21T01:17:16.803Z"
   },
   {
    "duration": 20,
    "start_time": "2024-12-21T01:17:16.816Z"
   },
   {
    "duration": 36,
    "start_time": "2024-12-21T01:17:16.838Z"
   },
   {
    "duration": 6,
    "start_time": "2024-12-21T01:17:16.877Z"
   },
   {
    "duration": 5,
    "start_time": "2024-12-21T01:17:16.885Z"
   },
   {
    "duration": 6,
    "start_time": "2024-12-21T01:17:16.892Z"
   },
   {
    "duration": 19,
    "start_time": "2024-12-21T01:17:16.901Z"
   },
   {
    "duration": 101,
    "start_time": "2024-12-21T01:17:16.922Z"
   },
   {
    "duration": 7,
    "start_time": "2024-12-21T01:17:17.025Z"
   },
   {
    "duration": 6,
    "start_time": "2024-12-21T01:17:17.034Z"
   },
   {
    "duration": 7,
    "start_time": "2024-12-21T01:17:17.041Z"
   },
   {
    "duration": 27,
    "start_time": "2024-12-21T01:17:17.050Z"
   },
   {
    "duration": 4,
    "start_time": "2024-12-21T01:17:17.079Z"
   },
   {
    "duration": 5,
    "start_time": "2024-12-21T01:17:17.085Z"
   },
   {
    "duration": 6,
    "start_time": "2024-12-21T01:17:17.091Z"
   },
   {
    "duration": 4,
    "start_time": "2024-12-21T01:17:17.098Z"
   },
   {
    "duration": 235,
    "start_time": "2024-12-21T01:17:17.106Z"
   },
   {
    "duration": 197,
    "start_time": "2024-12-21T01:17:17.343Z"
   },
   {
    "duration": 209,
    "start_time": "2024-12-21T01:17:17.542Z"
   },
   {
    "duration": 252,
    "start_time": "2024-12-21T01:17:17.753Z"
   },
   {
    "duration": 258,
    "start_time": "2024-12-21T01:17:18.006Z"
   },
   {
    "duration": 4,
    "start_time": "2024-12-21T01:17:18.270Z"
   },
   {
    "duration": 1635,
    "start_time": "2024-12-21T01:17:18.276Z"
   },
   {
    "duration": 17,
    "start_time": "2024-12-21T01:17:19.913Z"
   },
   {
    "duration": 11,
    "start_time": "2024-12-21T01:17:19.932Z"
   },
   {
    "duration": 4,
    "start_time": "2024-12-21T01:17:19.944Z"
   },
   {
    "duration": 5,
    "start_time": "2024-12-21T01:17:19.970Z"
   },
   {
    "duration": 3,
    "start_time": "2024-12-21T01:17:19.977Z"
   },
   {
    "duration": 3,
    "start_time": "2024-12-21T01:17:19.982Z"
   },
   {
    "duration": 176,
    "start_time": "2024-12-21T01:17:19.986Z"
   },
   {
    "duration": 0,
    "start_time": "2024-12-21T01:17:20.164Z"
   },
   {
    "duration": 0,
    "start_time": "2024-12-21T01:17:20.170Z"
   },
   {
    "duration": 516,
    "start_time": "2024-12-21T01:18:10.062Z"
   },
   {
    "duration": 3,
    "start_time": "2024-12-21T01:18:45.650Z"
   },
   {
    "duration": 3,
    "start_time": "2024-12-21T01:18:47.408Z"
   },
   {
    "duration": 164,
    "start_time": "2024-12-21T01:18:52.477Z"
   },
   {
    "duration": 36,
    "start_time": "2024-12-21T01:21:18.849Z"
   },
   {
    "duration": 39,
    "start_time": "2024-12-21T01:21:48.580Z"
   },
   {
    "duration": 33,
    "start_time": "2024-12-21T01:22:30.782Z"
   },
   {
    "duration": 15,
    "start_time": "2024-12-21T01:23:41.351Z"
   },
   {
    "duration": 26,
    "start_time": "2024-12-21T01:40:07.806Z"
   },
   {
    "duration": 9,
    "start_time": "2024-12-21T01:42:58.039Z"
   },
   {
    "duration": 3,
    "start_time": "2024-12-21T01:45:32.761Z"
   },
   {
    "duration": 4,
    "start_time": "2024-12-21T01:46:45.310Z"
   },
   {
    "duration": 13,
    "start_time": "2024-12-21T01:46:57.640Z"
   },
   {
    "duration": 11,
    "start_time": "2024-12-21T01:47:06.351Z"
   },
   {
    "duration": 3,
    "start_time": "2024-12-21T01:47:45.249Z"
   },
   {
    "duration": 8,
    "start_time": "2024-12-21T01:48:06.540Z"
   },
   {
    "duration": 4,
    "start_time": "2024-12-21T01:48:54.649Z"
   },
   {
    "duration": 8,
    "start_time": "2024-12-21T01:56:34.406Z"
   },
   {
    "duration": 3,
    "start_time": "2024-12-21T01:57:19.594Z"
   },
   {
    "duration": 5,
    "start_time": "2024-12-21T01:57:59.140Z"
   },
   {
    "duration": 6,
    "start_time": "2024-12-21T01:58:37.036Z"
   },
   {
    "duration": 22,
    "start_time": "2024-12-21T01:58:52.311Z"
   },
   {
    "duration": 3,
    "start_time": "2024-12-21T01:59:23.293Z"
   },
   {
    "duration": 22,
    "start_time": "2024-12-21T01:59:31.674Z"
   },
   {
    "duration": 3,
    "start_time": "2024-12-21T02:01:14.690Z"
   },
   {
    "duration": 3,
    "start_time": "2024-12-21T02:01:18.139Z"
   },
   {
    "duration": 487,
    "start_time": "2024-12-21T02:01:18.144Z"
   },
   {
    "duration": 291,
    "start_time": "2024-12-21T02:01:18.632Z"
   },
   {
    "duration": 8,
    "start_time": "2024-12-21T02:01:18.925Z"
   },
   {
    "duration": 66,
    "start_time": "2024-12-21T02:01:18.936Z"
   },
   {
    "duration": 118,
    "start_time": "2024-12-21T02:01:19.004Z"
   },
   {
    "duration": 6,
    "start_time": "2024-12-21T02:01:19.123Z"
   },
   {
    "duration": 19,
    "start_time": "2024-12-21T02:01:19.130Z"
   },
   {
    "duration": 222,
    "start_time": "2024-12-21T02:01:19.151Z"
   },
   {
    "duration": 8,
    "start_time": "2024-12-21T02:01:19.377Z"
   },
   {
    "duration": 90,
    "start_time": "2024-12-21T02:01:19.386Z"
   },
   {
    "duration": 10,
    "start_time": "2024-12-21T02:01:19.478Z"
   },
   {
    "duration": 20,
    "start_time": "2024-12-21T02:01:19.492Z"
   },
   {
    "duration": 15,
    "start_time": "2024-12-21T02:01:19.513Z"
   },
   {
    "duration": 4,
    "start_time": "2024-12-21T02:01:19.530Z"
   },
   {
    "duration": 36,
    "start_time": "2024-12-21T02:01:19.536Z"
   },
   {
    "duration": 5,
    "start_time": "2024-12-21T02:01:19.573Z"
   },
   {
    "duration": 17,
    "start_time": "2024-12-21T02:01:19.580Z"
   },
   {
    "duration": 89,
    "start_time": "2024-12-21T02:01:19.599Z"
   },
   {
    "duration": 8,
    "start_time": "2024-12-21T02:01:19.690Z"
   },
   {
    "duration": 6,
    "start_time": "2024-12-21T02:01:19.699Z"
   },
   {
    "duration": 6,
    "start_time": "2024-12-21T02:01:19.707Z"
   },
   {
    "duration": 10,
    "start_time": "2024-12-21T02:01:19.715Z"
   },
   {
    "duration": 5,
    "start_time": "2024-12-21T02:01:19.726Z"
   },
   {
    "duration": 41,
    "start_time": "2024-12-21T02:01:19.732Z"
   },
   {
    "duration": 5,
    "start_time": "2024-12-21T02:01:19.775Z"
   },
   {
    "duration": 3,
    "start_time": "2024-12-21T02:01:19.781Z"
   },
   {
    "duration": 206,
    "start_time": "2024-12-21T02:01:19.787Z"
   },
   {
    "duration": 211,
    "start_time": "2024-12-21T02:01:19.995Z"
   },
   {
    "duration": 209,
    "start_time": "2024-12-21T02:01:20.208Z"
   },
   {
    "duration": 253,
    "start_time": "2024-12-21T02:01:20.419Z"
   },
   {
    "duration": 259,
    "start_time": "2024-12-21T02:01:20.674Z"
   },
   {
    "duration": 5,
    "start_time": "2024-12-21T02:01:20.935Z"
   },
   {
    "duration": 1730,
    "start_time": "2024-12-21T02:01:20.941Z"
   },
   {
    "duration": 16,
    "start_time": "2024-12-21T02:01:22.673Z"
   },
   {
    "duration": 10,
    "start_time": "2024-12-21T02:01:22.690Z"
   },
   {
    "duration": 3,
    "start_time": "2024-12-21T02:01:22.705Z"
   },
   {
    "duration": 13,
    "start_time": "2024-12-21T02:01:22.709Z"
   },
   {
    "duration": 12,
    "start_time": "2024-12-21T02:01:22.724Z"
   },
   {
    "duration": 3,
    "start_time": "2024-12-21T02:01:22.739Z"
   },
   {
    "duration": 28,
    "start_time": "2024-12-21T02:01:22.744Z"
   },
   {
    "duration": 4,
    "start_time": "2024-12-21T02:01:22.774Z"
   },
   {
    "duration": 6,
    "start_time": "2024-12-21T02:01:22.780Z"
   },
   {
    "duration": 3,
    "start_time": "2024-12-21T02:01:22.788Z"
   },
   {
    "duration": 5,
    "start_time": "2024-12-21T02:01:22.793Z"
   },
   {
    "duration": 191,
    "start_time": "2024-12-21T02:01:22.800Z"
   },
   {
    "duration": 13,
    "start_time": "2024-12-21T02:03:16.259Z"
   },
   {
    "duration": 18,
    "start_time": "2024-12-21T02:04:22.967Z"
   },
   {
    "duration": 18,
    "start_time": "2024-12-21T02:04:46.741Z"
   },
   {
    "duration": 4,
    "start_time": "2024-12-21T02:07:14.484Z"
   },
   {
    "duration": 5,
    "start_time": "2024-12-21T02:07:17.518Z"
   },
   {
    "duration": 18,
    "start_time": "2024-12-21T02:07:21.760Z"
   },
   {
    "duration": 4,
    "start_time": "2024-12-21T02:08:17.731Z"
   },
   {
    "duration": 3,
    "start_time": "2024-12-21T02:08:19.428Z"
   },
   {
    "duration": 4,
    "start_time": "2024-12-21T02:08:20.410Z"
   },
   {
    "duration": 6,
    "start_time": "2024-12-21T02:08:22.774Z"
   },
   {
    "duration": 20,
    "start_time": "2024-12-21T02:08:24.248Z"
   },
   {
    "duration": 73,
    "start_time": "2024-12-21T02:08:38.387Z"
   },
   {
    "duration": 3,
    "start_time": "2024-12-21T02:10:45.918Z"
   },
   {
    "duration": 5,
    "start_time": "2024-12-21T02:12:01.339Z"
   },
   {
    "duration": 4,
    "start_time": "2024-12-21T02:12:20.269Z"
   },
   {
    "duration": 7,
    "start_time": "2024-12-21T02:13:06.982Z"
   },
   {
    "duration": 4,
    "start_time": "2024-12-21T02:13:27.386Z"
   },
   {
    "duration": 5,
    "start_time": "2024-12-21T02:13:47.604Z"
   },
   {
    "duration": 71,
    "start_time": "2024-12-21T02:14:02.134Z"
   },
   {
    "duration": 23,
    "start_time": "2024-12-21T02:19:52.233Z"
   },
   {
    "duration": 4,
    "start_time": "2024-12-21T02:20:20.179Z"
   },
   {
    "duration": 71,
    "start_time": "2024-12-21T02:20:30.620Z"
   },
   {
    "duration": 3,
    "start_time": "2024-12-21T02:20:41.860Z"
   },
   {
    "duration": 493,
    "start_time": "2024-12-21T02:20:41.869Z"
   },
   {
    "duration": 181,
    "start_time": "2024-12-21T02:20:42.364Z"
   },
   {
    "duration": 7,
    "start_time": "2024-12-21T02:20:42.547Z"
   },
   {
    "duration": 63,
    "start_time": "2024-12-21T02:20:42.555Z"
   },
   {
    "duration": 124,
    "start_time": "2024-12-21T02:20:42.620Z"
   },
   {
    "duration": 6,
    "start_time": "2024-12-21T02:20:42.746Z"
   },
   {
    "duration": 31,
    "start_time": "2024-12-21T02:20:42.753Z"
   },
   {
    "duration": 203,
    "start_time": "2024-12-21T02:20:42.786Z"
   },
   {
    "duration": 7,
    "start_time": "2024-12-21T02:20:42.991Z"
   },
   {
    "duration": 94,
    "start_time": "2024-12-21T02:20:42.999Z"
   },
   {
    "duration": 10,
    "start_time": "2024-12-21T02:20:43.094Z"
   },
   {
    "duration": 20,
    "start_time": "2024-12-21T02:20:43.106Z"
   },
   {
    "duration": 16,
    "start_time": "2024-12-21T02:20:43.128Z"
   },
   {
    "duration": 4,
    "start_time": "2024-12-21T02:20:43.169Z"
   },
   {
    "duration": 6,
    "start_time": "2024-12-21T02:20:43.174Z"
   },
   {
    "duration": 6,
    "start_time": "2024-12-21T02:20:43.181Z"
   },
   {
    "duration": 14,
    "start_time": "2024-12-21T02:20:43.188Z"
   },
   {
    "duration": 102,
    "start_time": "2024-12-21T02:20:43.204Z"
   },
   {
    "duration": 7,
    "start_time": "2024-12-21T02:20:43.308Z"
   },
   {
    "duration": 7,
    "start_time": "2024-12-21T02:20:43.316Z"
   },
   {
    "duration": 7,
    "start_time": "2024-12-21T02:20:43.326Z"
   },
   {
    "duration": 58,
    "start_time": "2024-12-21T02:20:43.336Z"
   },
   {
    "duration": 0,
    "start_time": "2024-12-21T02:20:43.396Z"
   },
   {
    "duration": 0,
    "start_time": "2024-12-21T02:20:43.397Z"
   },
   {
    "duration": 0,
    "start_time": "2024-12-21T02:20:43.398Z"
   },
   {
    "duration": 0,
    "start_time": "2024-12-21T02:20:43.400Z"
   },
   {
    "duration": 0,
    "start_time": "2024-12-21T02:20:43.401Z"
   },
   {
    "duration": 0,
    "start_time": "2024-12-21T02:20:43.402Z"
   },
   {
    "duration": 0,
    "start_time": "2024-12-21T02:20:43.403Z"
   },
   {
    "duration": 0,
    "start_time": "2024-12-21T02:20:43.404Z"
   },
   {
    "duration": 0,
    "start_time": "2024-12-21T02:20:43.405Z"
   },
   {
    "duration": 1,
    "start_time": "2024-12-21T02:20:43.407Z"
   },
   {
    "duration": 0,
    "start_time": "2024-12-21T02:20:43.409Z"
   },
   {
    "duration": 0,
    "start_time": "2024-12-21T02:20:43.410Z"
   },
   {
    "duration": 0,
    "start_time": "2024-12-21T02:20:43.412Z"
   },
   {
    "duration": 0,
    "start_time": "2024-12-21T02:20:43.413Z"
   },
   {
    "duration": 0,
    "start_time": "2024-12-21T02:20:43.415Z"
   },
   {
    "duration": 0,
    "start_time": "2024-12-21T02:20:43.416Z"
   },
   {
    "duration": 0,
    "start_time": "2024-12-21T02:20:43.417Z"
   },
   {
    "duration": 0,
    "start_time": "2024-12-21T02:20:43.418Z"
   },
   {
    "duration": 0,
    "start_time": "2024-12-21T02:20:43.419Z"
   },
   {
    "duration": 1,
    "start_time": "2024-12-21T02:20:43.420Z"
   },
   {
    "duration": 0,
    "start_time": "2024-12-21T02:20:43.421Z"
   },
   {
    "duration": 0,
    "start_time": "2024-12-21T02:20:43.422Z"
   },
   {
    "duration": 0,
    "start_time": "2024-12-21T02:20:43.423Z"
   },
   {
    "duration": 11,
    "start_time": "2024-12-21T02:21:20.336Z"
   },
   {
    "duration": 15,
    "start_time": "2024-12-21T02:23:41.631Z"
   },
   {
    "duration": 129,
    "start_time": "2024-12-21T02:23:59.114Z"
   },
   {
    "duration": 135,
    "start_time": "2024-12-21T02:24:09.863Z"
   },
   {
    "duration": 4,
    "start_time": "2024-12-21T02:28:40.563Z"
   },
   {
    "duration": 7,
    "start_time": "2024-12-21T02:28:41.375Z"
   },
   {
    "duration": 746,
    "start_time": "2024-12-21T02:28:43.063Z"
   },
   {
    "duration": 7,
    "start_time": "2024-12-21T02:30:32.836Z"
   },
   {
    "duration": 9492,
    "start_time": "2024-12-21T02:30:34.991Z"
   },
   {
    "duration": 15,
    "start_time": "2024-12-21T02:33:55.413Z"
   },
   {
    "duration": 258,
    "start_time": "2024-12-21T02:34:15.124Z"
   },
   {
    "duration": 15,
    "start_time": "2024-12-21T02:36:21.247Z"
   },
   {
    "duration": 3,
    "start_time": "2024-12-21T02:40:54.526Z"
   },
   {
    "duration": 505,
    "start_time": "2024-12-21T02:40:54.531Z"
   },
   {
    "duration": 193,
    "start_time": "2024-12-21T02:40:55.040Z"
   },
   {
    "duration": 8,
    "start_time": "2024-12-21T02:40:55.235Z"
   },
   {
    "duration": 65,
    "start_time": "2024-12-21T02:40:55.245Z"
   },
   {
    "duration": 119,
    "start_time": "2024-12-21T02:40:55.312Z"
   },
   {
    "duration": 6,
    "start_time": "2024-12-21T02:40:55.432Z"
   },
   {
    "duration": 30,
    "start_time": "2024-12-21T02:40:55.442Z"
   },
   {
    "duration": 196,
    "start_time": "2024-12-21T02:40:55.474Z"
   },
   {
    "duration": 7,
    "start_time": "2024-12-21T02:40:55.672Z"
   },
   {
    "duration": 91,
    "start_time": "2024-12-21T02:40:55.681Z"
   },
   {
    "duration": 10,
    "start_time": "2024-12-21T02:40:55.774Z"
   },
   {
    "duration": 20,
    "start_time": "2024-12-21T02:40:55.785Z"
   },
   {
    "duration": 23,
    "start_time": "2024-12-21T02:40:55.807Z"
   },
   {
    "duration": 4,
    "start_time": "2024-12-21T02:40:55.832Z"
   },
   {
    "duration": 6,
    "start_time": "2024-12-21T02:40:55.837Z"
   },
   {
    "duration": 29,
    "start_time": "2024-12-21T02:40:55.845Z"
   },
   {
    "duration": 16,
    "start_time": "2024-12-21T02:40:55.875Z"
   },
   {
    "duration": 89,
    "start_time": "2024-12-21T02:40:55.893Z"
   },
   {
    "duration": 7,
    "start_time": "2024-12-21T02:40:55.983Z"
   },
   {
    "duration": 6,
    "start_time": "2024-12-21T02:40:55.992Z"
   },
   {
    "duration": 6,
    "start_time": "2024-12-21T02:40:56.000Z"
   },
   {
    "duration": 10,
    "start_time": "2024-12-21T02:40:56.007Z"
   },
   {
    "duration": 5,
    "start_time": "2024-12-21T02:40:56.018Z"
   },
   {
    "duration": 5,
    "start_time": "2024-12-21T02:40:56.024Z"
   },
   {
    "duration": 4,
    "start_time": "2024-12-21T02:40:56.071Z"
   },
   {
    "duration": 4,
    "start_time": "2024-12-21T02:40:56.077Z"
   },
   {
    "duration": 206,
    "start_time": "2024-12-21T02:40:56.082Z"
   },
   {
    "duration": 206,
    "start_time": "2024-12-21T02:40:56.290Z"
   },
   {
    "duration": 402,
    "start_time": "2024-12-21T02:40:56.498Z"
   },
   {
    "duration": 252,
    "start_time": "2024-12-21T02:40:56.901Z"
   },
   {
    "duration": 274,
    "start_time": "2024-12-21T02:40:57.155Z"
   },
   {
    "duration": 5,
    "start_time": "2024-12-21T02:40:57.431Z"
   },
   {
    "duration": 1739,
    "start_time": "2024-12-21T02:40:57.438Z"
   },
   {
    "duration": 16,
    "start_time": "2024-12-21T02:40:59.179Z"
   },
   {
    "duration": 9,
    "start_time": "2024-12-21T02:40:59.196Z"
   },
   {
    "duration": 3,
    "start_time": "2024-12-21T02:40:59.207Z"
   },
   {
    "duration": 5,
    "start_time": "2024-12-21T02:40:59.212Z"
   },
   {
    "duration": 11,
    "start_time": "2024-12-21T02:40:59.219Z"
   },
   {
    "duration": 39,
    "start_time": "2024-12-21T02:40:59.232Z"
   },
   {
    "duration": 5,
    "start_time": "2024-12-21T02:40:59.273Z"
   },
   {
    "duration": 7,
    "start_time": "2024-12-21T02:40:59.280Z"
   },
   {
    "duration": 503,
    "start_time": "2024-12-21T02:40:59.288Z"
   },
   {
    "duration": 12387,
    "start_time": "2024-12-21T02:40:59.793Z"
   },
   {
    "duration": 146188,
    "start_time": "2024-12-21T02:41:12.183Z"
   },
   {
    "duration": 16,
    "start_time": "2024-12-21T02:51:39.717Z"
   },
   {
    "duration": 3466,
    "start_time": "2024-12-21T02:52:02.617Z"
   },
   {
    "duration": 3747,
    "start_time": "2024-12-21T02:52:23.011Z"
   },
   {
    "duration": 2769,
    "start_time": "2024-12-21T06:49:22.767Z"
   },
   {
    "duration": 633,
    "start_time": "2024-12-21T06:49:25.539Z"
   },
   {
    "duration": 185,
    "start_time": "2024-12-21T06:49:26.173Z"
   },
   {
    "duration": 6,
    "start_time": "2024-12-21T06:49:26.360Z"
   },
   {
    "duration": 65,
    "start_time": "2024-12-21T06:49:26.368Z"
   },
   {
    "duration": 122,
    "start_time": "2024-12-21T06:49:26.435Z"
   },
   {
    "duration": 6,
    "start_time": "2024-12-21T06:49:26.559Z"
   },
   {
    "duration": 32,
    "start_time": "2024-12-21T06:49:26.566Z"
   },
   {
    "duration": 203,
    "start_time": "2024-12-21T06:49:26.600Z"
   },
   {
    "duration": 8,
    "start_time": "2024-12-21T06:49:26.806Z"
   },
   {
    "duration": 94,
    "start_time": "2024-12-21T06:49:26.815Z"
   },
   {
    "duration": 10,
    "start_time": "2024-12-21T06:49:26.911Z"
   },
   {
    "duration": 21,
    "start_time": "2024-12-21T06:49:26.923Z"
   },
   {
    "duration": 40,
    "start_time": "2024-12-21T06:49:26.946Z"
   },
   {
    "duration": 3,
    "start_time": "2024-12-21T06:49:26.988Z"
   },
   {
    "duration": 7,
    "start_time": "2024-12-21T06:49:26.993Z"
   },
   {
    "duration": 5,
    "start_time": "2024-12-21T06:49:27.001Z"
   },
   {
    "duration": 20,
    "start_time": "2024-12-21T06:49:27.008Z"
   },
   {
    "duration": 99,
    "start_time": "2024-12-21T06:49:27.029Z"
   },
   {
    "duration": 7,
    "start_time": "2024-12-21T06:49:27.129Z"
   },
   {
    "duration": 6,
    "start_time": "2024-12-21T06:49:27.137Z"
   },
   {
    "duration": 6,
    "start_time": "2024-12-21T06:49:27.145Z"
   },
   {
    "duration": 9,
    "start_time": "2024-12-21T06:49:27.152Z"
   },
   {
    "duration": 5,
    "start_time": "2024-12-21T06:49:27.186Z"
   },
   {
    "duration": 4,
    "start_time": "2024-12-21T06:49:27.193Z"
   },
   {
    "duration": 4,
    "start_time": "2024-12-21T06:49:27.199Z"
   },
   {
    "duration": 5,
    "start_time": "2024-12-21T06:49:27.204Z"
   },
   {
    "duration": 224,
    "start_time": "2024-12-21T06:49:27.213Z"
   },
   {
    "duration": 203,
    "start_time": "2024-12-21T06:49:27.439Z"
   },
   {
    "duration": 208,
    "start_time": "2024-12-21T06:49:27.644Z"
   },
   {
    "duration": 247,
    "start_time": "2024-12-21T06:49:27.854Z"
   },
   {
    "duration": 332,
    "start_time": "2024-12-21T06:49:28.102Z"
   },
   {
    "duration": 5,
    "start_time": "2024-12-21T06:49:28.435Z"
   },
   {
    "duration": 1632,
    "start_time": "2024-12-21T06:49:28.442Z"
   },
   {
    "duration": 23,
    "start_time": "2024-12-21T06:49:30.076Z"
   },
   {
    "duration": 9,
    "start_time": "2024-12-21T06:49:30.101Z"
   },
   {
    "duration": 4,
    "start_time": "2024-12-21T06:49:30.112Z"
   },
   {
    "duration": 4,
    "start_time": "2024-12-21T06:49:30.117Z"
   },
   {
    "duration": 10,
    "start_time": "2024-12-21T06:49:30.123Z"
   },
   {
    "duration": 4,
    "start_time": "2024-12-21T06:49:30.135Z"
   },
   {
    "duration": 4,
    "start_time": "2024-12-21T06:49:30.141Z"
   },
   {
    "duration": 44,
    "start_time": "2024-12-21T06:49:30.146Z"
   },
   {
    "duration": 509,
    "start_time": "2024-12-21T06:49:30.192Z"
   },
   {
    "duration": 12505,
    "start_time": "2024-12-21T06:49:30.703Z"
   },
   {
    "duration": 148291,
    "start_time": "2024-12-21T06:49:43.210Z"
   },
   {
    "duration": 2844,
    "start_time": "2024-12-21T10:32:23.466Z"
   },
   {
    "duration": 615,
    "start_time": "2024-12-21T10:32:26.313Z"
   },
   {
    "duration": 193,
    "start_time": "2024-12-21T10:32:26.929Z"
   },
   {
    "duration": 8,
    "start_time": "2024-12-21T10:32:27.123Z"
   },
   {
    "duration": 59,
    "start_time": "2024-12-21T10:32:27.142Z"
   },
   {
    "duration": 121,
    "start_time": "2024-12-21T10:32:27.203Z"
   },
   {
    "duration": 6,
    "start_time": "2024-12-21T10:32:27.326Z"
   },
   {
    "duration": 20,
    "start_time": "2024-12-21T10:32:27.342Z"
   },
   {
    "duration": 209,
    "start_time": "2024-12-21T10:32:27.364Z"
   },
   {
    "duration": 8,
    "start_time": "2024-12-21T10:32:27.576Z"
   },
   {
    "duration": 99,
    "start_time": "2024-12-21T10:32:27.585Z"
   },
   {
    "duration": 11,
    "start_time": "2024-12-21T10:32:27.685Z"
   },
   {
    "duration": 21,
    "start_time": "2024-12-21T10:32:27.698Z"
   },
   {
    "duration": 16,
    "start_time": "2024-12-21T10:32:27.742Z"
   },
   {
    "duration": 4,
    "start_time": "2024-12-21T10:32:27.760Z"
   },
   {
    "duration": 6,
    "start_time": "2024-12-21T10:32:27.766Z"
   },
   {
    "duration": 5,
    "start_time": "2024-12-21T10:32:27.774Z"
   },
   {
    "duration": 20,
    "start_time": "2024-12-21T10:32:27.781Z"
   },
   {
    "duration": 100,
    "start_time": "2024-12-21T10:32:27.802Z"
   },
   {
    "duration": 7,
    "start_time": "2024-12-21T10:32:27.904Z"
   },
   {
    "duration": 6,
    "start_time": "2024-12-21T10:32:27.913Z"
   },
   {
    "duration": 26,
    "start_time": "2024-12-21T10:32:27.920Z"
   },
   {
    "duration": 9,
    "start_time": "2024-12-21T10:32:27.948Z"
   },
   {
    "duration": 5,
    "start_time": "2024-12-21T10:32:27.959Z"
   },
   {
    "duration": 6,
    "start_time": "2024-12-21T10:32:27.965Z"
   },
   {
    "duration": 5,
    "start_time": "2024-12-21T10:32:27.972Z"
   },
   {
    "duration": 3,
    "start_time": "2024-12-21T10:32:27.979Z"
   },
   {
    "duration": 232,
    "start_time": "2024-12-21T10:32:27.984Z"
   },
   {
    "duration": 201,
    "start_time": "2024-12-21T10:32:28.218Z"
   },
   {
    "duration": 208,
    "start_time": "2024-12-21T10:32:28.421Z"
   },
   {
    "duration": 245,
    "start_time": "2024-12-21T10:32:28.631Z"
   },
   {
    "duration": 324,
    "start_time": "2024-12-21T10:32:28.878Z"
   },
   {
    "duration": 4,
    "start_time": "2024-12-21T10:32:29.204Z"
   },
   {
    "duration": 1628,
    "start_time": "2024-12-21T10:32:29.210Z"
   },
   {
    "duration": 18,
    "start_time": "2024-12-21T10:32:30.844Z"
   },
   {
    "duration": 9,
    "start_time": "2024-12-21T10:32:30.864Z"
   },
   {
    "duration": 4,
    "start_time": "2024-12-21T10:32:30.875Z"
   },
   {
    "duration": 5,
    "start_time": "2024-12-21T10:32:30.880Z"
   },
   {
    "duration": 11,
    "start_time": "2024-12-21T10:32:30.888Z"
   },
   {
    "duration": 4,
    "start_time": "2024-12-21T10:32:30.901Z"
   },
   {
    "duration": 4,
    "start_time": "2024-12-21T10:32:30.982Z"
   },
   {
    "duration": 22,
    "start_time": "2024-12-21T10:43:19.523Z"
   },
   {
    "duration": 174,
    "start_time": "2024-12-23T18:44:47.196Z"
   },
   {
    "duration": 20,
    "start_time": "2024-12-23T18:56:21.038Z"
   },
   {
    "duration": 5,
    "start_time": "2024-12-23T18:58:38.121Z"
   },
   {
    "duration": 2792,
    "start_time": "2024-12-23T18:58:47.190Z"
   },
   {
    "duration": 699,
    "start_time": "2024-12-23T18:58:49.984Z"
   },
   {
    "duration": 220,
    "start_time": "2024-12-23T18:58:50.685Z"
   },
   {
    "duration": 8,
    "start_time": "2024-12-23T18:58:50.908Z"
   },
   {
    "duration": 84,
    "start_time": "2024-12-23T18:58:50.917Z"
   },
   {
    "duration": 122,
    "start_time": "2024-12-23T18:58:51.002Z"
   },
   {
    "duration": 6,
    "start_time": "2024-12-23T18:58:51.126Z"
   },
   {
    "duration": 22,
    "start_time": "2024-12-23T18:58:51.143Z"
   },
   {
    "duration": 264,
    "start_time": "2024-12-23T18:58:51.168Z"
   },
   {
    "duration": 11,
    "start_time": "2024-12-23T18:58:51.435Z"
   },
   {
    "duration": 115,
    "start_time": "2024-12-23T18:58:51.448Z"
   },
   {
    "duration": 11,
    "start_time": "2024-12-23T18:58:51.564Z"
   },
   {
    "duration": 21,
    "start_time": "2024-12-23T18:58:51.577Z"
   },
   {
    "duration": 17,
    "start_time": "2024-12-23T18:58:51.600Z"
   },
   {
    "duration": 26,
    "start_time": "2024-12-23T18:58:51.618Z"
   },
   {
    "duration": 6,
    "start_time": "2024-12-23T18:58:51.646Z"
   },
   {
    "duration": 8,
    "start_time": "2024-12-23T18:58:51.655Z"
   },
   {
    "duration": 21,
    "start_time": "2024-12-23T18:58:51.666Z"
   },
   {
    "duration": 100,
    "start_time": "2024-12-23T18:58:51.689Z"
   },
   {
    "duration": 7,
    "start_time": "2024-12-23T18:58:51.791Z"
   },
   {
    "duration": 6,
    "start_time": "2024-12-23T18:58:51.800Z"
   },
   {
    "duration": 8,
    "start_time": "2024-12-23T18:58:51.807Z"
   },
   {
    "duration": 35,
    "start_time": "2024-12-23T18:58:51.816Z"
   },
   {
    "duration": 5,
    "start_time": "2024-12-23T18:58:51.854Z"
   },
   {
    "duration": 4,
    "start_time": "2024-12-23T18:58:51.861Z"
   },
   {
    "duration": 6,
    "start_time": "2024-12-23T18:58:51.867Z"
   },
   {
    "duration": 4,
    "start_time": "2024-12-23T18:58:51.874Z"
   },
   {
    "duration": 222,
    "start_time": "2024-12-23T18:58:51.884Z"
   },
   {
    "duration": 206,
    "start_time": "2024-12-23T18:58:52.108Z"
   },
   {
    "duration": 216,
    "start_time": "2024-12-23T18:58:52.316Z"
   },
   {
    "duration": 267,
    "start_time": "2024-12-23T18:58:52.534Z"
   },
   {
    "duration": 319,
    "start_time": "2024-12-23T18:58:52.803Z"
   },
   {
    "duration": 5,
    "start_time": "2024-12-23T18:58:53.124Z"
   },
   {
    "duration": 1631,
    "start_time": "2024-12-23T18:58:53.131Z"
   },
   {
    "duration": 19,
    "start_time": "2024-12-23T18:58:54.764Z"
   },
   {
    "duration": 9,
    "start_time": "2024-12-23T18:58:54.785Z"
   },
   {
    "duration": 4,
    "start_time": "2024-12-23T18:58:54.796Z"
   },
   {
    "duration": 12,
    "start_time": "2024-12-23T18:58:54.802Z"
   },
   {
    "duration": 31,
    "start_time": "2024-12-23T18:58:54.816Z"
   },
   {
    "duration": 368,
    "start_time": "2024-12-23T18:58:54.849Z"
   },
   {
    "duration": 0,
    "start_time": "2024-12-23T18:58:55.219Z"
   },
   {
    "duration": 0,
    "start_time": "2024-12-23T18:58:55.220Z"
   },
   {
    "duration": 0,
    "start_time": "2024-12-23T18:58:55.220Z"
   },
   {
    "duration": 0,
    "start_time": "2024-12-23T18:58:55.222Z"
   },
   {
    "duration": 23,
    "start_time": "2024-12-23T19:02:21.401Z"
   },
   {
    "duration": 24,
    "start_time": "2024-12-23T19:11:52.935Z"
   },
   {
    "duration": 23,
    "start_time": "2024-12-23T19:12:11.685Z"
   },
   {
    "duration": 8,
    "start_time": "2024-12-23T19:12:30.192Z"
   },
   {
    "duration": 15,
    "start_time": "2024-12-23T19:30:42.609Z"
   },
   {
    "duration": 3,
    "start_time": "2024-12-23T19:31:02.553Z"
   },
   {
    "duration": 547,
    "start_time": "2024-12-23T19:31:02.559Z"
   },
   {
    "duration": 189,
    "start_time": "2024-12-23T19:31:03.108Z"
   },
   {
    "duration": 7,
    "start_time": "2024-12-23T19:31:03.299Z"
   },
   {
    "duration": 67,
    "start_time": "2024-12-23T19:31:03.308Z"
   },
   {
    "duration": 117,
    "start_time": "2024-12-23T19:31:03.378Z"
   },
   {
    "duration": 6,
    "start_time": "2024-12-23T19:31:03.497Z"
   },
   {
    "duration": 18,
    "start_time": "2024-12-23T19:31:03.505Z"
   },
   {
    "duration": 218,
    "start_time": "2024-12-23T19:31:03.525Z"
   },
   {
    "duration": 8,
    "start_time": "2024-12-23T19:31:03.744Z"
   },
   {
    "duration": 92,
    "start_time": "2024-12-23T19:31:03.755Z"
   },
   {
    "duration": 10,
    "start_time": "2024-12-23T19:31:03.849Z"
   },
   {
    "duration": 22,
    "start_time": "2024-12-23T19:31:03.861Z"
   },
   {
    "duration": 17,
    "start_time": "2024-12-23T19:31:03.884Z"
   },
   {
    "duration": 4,
    "start_time": "2024-12-23T19:31:03.903Z"
   },
   {
    "duration": 37,
    "start_time": "2024-12-23T19:31:03.909Z"
   },
   {
    "duration": 5,
    "start_time": "2024-12-23T19:31:03.947Z"
   },
   {
    "duration": 17,
    "start_time": "2024-12-23T19:31:03.954Z"
   },
   {
    "duration": 96,
    "start_time": "2024-12-23T19:31:03.972Z"
   },
   {
    "duration": 7,
    "start_time": "2024-12-23T19:31:04.070Z"
   },
   {
    "duration": 6,
    "start_time": "2024-12-23T19:31:04.079Z"
   },
   {
    "duration": 6,
    "start_time": "2024-12-23T19:31:04.087Z"
   },
   {
    "duration": 10,
    "start_time": "2024-12-23T19:31:04.094Z"
   },
   {
    "duration": 5,
    "start_time": "2024-12-23T19:31:04.106Z"
   },
   {
    "duration": 34,
    "start_time": "2024-12-23T19:31:04.112Z"
   },
   {
    "duration": 5,
    "start_time": "2024-12-23T19:31:04.147Z"
   },
   {
    "duration": 4,
    "start_time": "2024-12-23T19:31:04.153Z"
   },
   {
    "duration": 206,
    "start_time": "2024-12-23T19:31:04.158Z"
   },
   {
    "duration": 199,
    "start_time": "2024-12-23T19:31:04.367Z"
   },
   {
    "duration": 212,
    "start_time": "2024-12-23T19:31:04.568Z"
   },
   {
    "duration": 324,
    "start_time": "2024-12-23T19:31:04.782Z"
   },
   {
    "duration": 265,
    "start_time": "2024-12-23T19:31:05.108Z"
   },
   {
    "duration": 5,
    "start_time": "2024-12-23T19:31:05.375Z"
   },
   {
    "duration": 1590,
    "start_time": "2024-12-23T19:31:05.382Z"
   },
   {
    "duration": 15,
    "start_time": "2024-12-23T19:31:06.974Z"
   },
   {
    "duration": 9,
    "start_time": "2024-12-23T19:31:06.991Z"
   },
   {
    "duration": 4,
    "start_time": "2024-12-23T19:31:07.001Z"
   },
   {
    "duration": 40,
    "start_time": "2024-12-23T19:31:07.007Z"
   },
   {
    "duration": 5,
    "start_time": "2024-12-23T19:31:07.049Z"
   },
   {
    "duration": 7,
    "start_time": "2024-12-23T19:31:07.055Z"
   },
   {
    "duration": 14,
    "start_time": "2024-12-23T19:31:07.063Z"
   },
   {
    "duration": 0,
    "start_time": "2024-12-23T19:31:07.079Z"
   },
   {
    "duration": 0,
    "start_time": "2024-12-23T19:31:07.081Z"
   },
   {
    "duration": 0,
    "start_time": "2024-12-23T19:31:07.082Z"
   },
   {
    "duration": 4,
    "start_time": "2024-12-23T19:31:45.928Z"
   },
   {
    "duration": 3,
    "start_time": "2024-12-23T19:31:52.100Z"
   },
   {
    "duration": 490,
    "start_time": "2024-12-23T19:31:52.106Z"
   },
   {
    "duration": 184,
    "start_time": "2024-12-23T19:31:52.598Z"
   },
   {
    "duration": 7,
    "start_time": "2024-12-23T19:31:52.784Z"
   },
   {
    "duration": 68,
    "start_time": "2024-12-23T19:31:52.792Z"
   },
   {
    "duration": 128,
    "start_time": "2024-12-23T19:31:52.862Z"
   },
   {
    "duration": 5,
    "start_time": "2024-12-23T19:31:52.992Z"
   },
   {
    "duration": 19,
    "start_time": "2024-12-23T19:31:52.999Z"
   },
   {
    "duration": 215,
    "start_time": "2024-12-23T19:31:53.021Z"
   },
   {
    "duration": 8,
    "start_time": "2024-12-23T19:31:53.238Z"
   },
   {
    "duration": 78,
    "start_time": "2024-12-23T19:31:53.248Z"
   },
   {
    "duration": 22,
    "start_time": "2024-12-23T19:31:53.328Z"
   },
   {
    "duration": 20,
    "start_time": "2024-12-23T19:31:53.352Z"
   },
   {
    "duration": 17,
    "start_time": "2024-12-23T19:31:53.374Z"
   },
   {
    "duration": 3,
    "start_time": "2024-12-23T19:31:53.393Z"
   },
   {
    "duration": 5,
    "start_time": "2024-12-23T19:31:53.398Z"
   },
   {
    "duration": 5,
    "start_time": "2024-12-23T19:31:53.405Z"
   },
   {
    "duration": 15,
    "start_time": "2024-12-23T19:31:53.443Z"
   },
   {
    "duration": 83,
    "start_time": "2024-12-23T19:31:53.460Z"
   },
   {
    "duration": 9,
    "start_time": "2024-12-23T19:31:53.544Z"
   },
   {
    "duration": 6,
    "start_time": "2024-12-23T19:31:53.555Z"
   },
   {
    "duration": 8,
    "start_time": "2024-12-23T19:31:53.562Z"
   },
   {
    "duration": 10,
    "start_time": "2024-12-23T19:31:53.572Z"
   },
   {
    "duration": 5,
    "start_time": "2024-12-23T19:31:53.587Z"
   },
   {
    "duration": 5,
    "start_time": "2024-12-23T19:31:53.594Z"
   },
   {
    "duration": 42,
    "start_time": "2024-12-23T19:31:53.601Z"
   },
   {
    "duration": 3,
    "start_time": "2024-12-23T19:31:53.645Z"
   },
   {
    "duration": 200,
    "start_time": "2024-12-23T19:31:53.650Z"
   },
   {
    "duration": 199,
    "start_time": "2024-12-23T19:31:53.852Z"
   },
   {
    "duration": 204,
    "start_time": "2024-12-23T19:31:54.052Z"
   },
   {
    "duration": 349,
    "start_time": "2024-12-23T19:31:54.257Z"
   },
   {
    "duration": 255,
    "start_time": "2024-12-23T19:31:54.610Z"
   },
   {
    "duration": 6,
    "start_time": "2024-12-23T19:31:54.866Z"
   },
   {
    "duration": 1665,
    "start_time": "2024-12-23T19:31:54.873Z"
   },
   {
    "duration": 17,
    "start_time": "2024-12-23T19:31:56.543Z"
   },
   {
    "duration": 9,
    "start_time": "2024-12-23T19:31:56.562Z"
   },
   {
    "duration": 6,
    "start_time": "2024-12-23T19:31:56.572Z"
   },
   {
    "duration": 5,
    "start_time": "2024-12-23T19:31:56.579Z"
   },
   {
    "duration": 11,
    "start_time": "2024-12-23T19:31:56.586Z"
   },
   {
    "duration": 4,
    "start_time": "2024-12-23T19:31:56.598Z"
   },
   {
    "duration": 43,
    "start_time": "2024-12-23T19:31:56.603Z"
   },
   {
    "duration": 509,
    "start_time": "2024-12-23T19:31:56.648Z"
   },
   {
    "duration": 12577,
    "start_time": "2024-12-23T19:31:57.159Z"
   },
   {
    "duration": 148062,
    "start_time": "2024-12-23T19:32:09.742Z"
   },
   {
    "duration": 3685,
    "start_time": "2024-12-23T19:34:37.805Z"
   },
   {
    "duration": 566,
    "start_time": "2024-12-23T19:51:52.894Z"
   },
   {
    "duration": 49,
    "start_time": "2024-12-23T19:52:05.166Z"
   },
   {
    "duration": 37,
    "start_time": "2024-12-23T19:52:25.633Z"
   },
   {
    "duration": 5,
    "start_time": "2024-12-23T19:53:15.331Z"
   },
   {
    "duration": 5,
    "start_time": "2024-12-23T19:56:46.869Z"
   },
   {
    "duration": 113,
    "start_time": "2024-12-23T19:56:54.845Z"
   },
   {
    "duration": 47,
    "start_time": "2024-12-23T19:57:31.104Z"
   },
   {
    "duration": 10830,
    "start_time": "2024-12-23T20:03:30.172Z"
   },
   {
    "duration": 10747,
    "start_time": "2024-12-23T20:04:35.999Z"
   },
   {
    "duration": 3,
    "start_time": "2024-12-23T20:04:59.430Z"
   },
   {
    "duration": 4,
    "start_time": "2024-12-23T20:05:05.010Z"
   },
   {
    "duration": 542,
    "start_time": "2024-12-23T20:05:05.019Z"
   },
   {
    "duration": 185,
    "start_time": "2024-12-23T20:05:05.563Z"
   },
   {
    "duration": 8,
    "start_time": "2024-12-23T20:05:05.751Z"
   },
   {
    "duration": 53,
    "start_time": "2024-12-23T20:05:05.761Z"
   },
   {
    "duration": 151,
    "start_time": "2024-12-23T20:05:05.817Z"
   },
   {
    "duration": 6,
    "start_time": "2024-12-23T20:05:05.970Z"
   },
   {
    "duration": 21,
    "start_time": "2024-12-23T20:05:05.978Z"
   },
   {
    "duration": 214,
    "start_time": "2024-12-23T20:05:06.000Z"
   },
   {
    "duration": 8,
    "start_time": "2024-12-23T20:05:06.215Z"
   },
   {
    "duration": 96,
    "start_time": "2024-12-23T20:05:06.225Z"
   },
   {
    "duration": 20,
    "start_time": "2024-12-23T20:05:06.323Z"
   },
   {
    "duration": 26,
    "start_time": "2024-12-23T20:05:06.344Z"
   },
   {
    "duration": 18,
    "start_time": "2024-12-23T20:05:06.372Z"
   },
   {
    "duration": 7,
    "start_time": "2024-12-23T20:05:06.395Z"
   },
   {
    "duration": 20,
    "start_time": "2024-12-23T20:05:06.403Z"
   },
   {
    "duration": 19,
    "start_time": "2024-12-23T20:05:06.425Z"
   },
   {
    "duration": 23,
    "start_time": "2024-12-23T20:05:06.445Z"
   },
   {
    "duration": 79,
    "start_time": "2024-12-23T20:05:06.471Z"
   },
   {
    "duration": 8,
    "start_time": "2024-12-23T20:05:06.553Z"
   },
   {
    "duration": 6,
    "start_time": "2024-12-23T20:05:06.563Z"
   },
   {
    "duration": 8,
    "start_time": "2024-12-23T20:05:06.570Z"
   },
   {
    "duration": 10,
    "start_time": "2024-12-23T20:05:06.580Z"
   },
   {
    "duration": 4,
    "start_time": "2024-12-23T20:05:06.592Z"
   },
   {
    "duration": 4,
    "start_time": "2024-12-23T20:05:06.598Z"
   },
   {
    "duration": 43,
    "start_time": "2024-12-23T20:05:06.604Z"
   },
   {
    "duration": 4,
    "start_time": "2024-12-23T20:05:06.649Z"
   },
   {
    "duration": 354,
    "start_time": "2024-12-23T20:05:06.655Z"
   },
   {
    "duration": 203,
    "start_time": "2024-12-23T20:05:07.011Z"
   },
   {
    "duration": 211,
    "start_time": "2024-12-23T20:05:07.217Z"
   },
   {
    "duration": 266,
    "start_time": "2024-12-23T20:05:07.430Z"
   },
   {
    "duration": 265,
    "start_time": "2024-12-23T20:05:07.698Z"
   },
   {
    "duration": 5,
    "start_time": "2024-12-23T20:05:07.966Z"
   },
   {
    "duration": 1765,
    "start_time": "2024-12-23T20:05:07.972Z"
   },
   {
    "duration": 18,
    "start_time": "2024-12-23T20:05:09.743Z"
   },
   {
    "duration": 11,
    "start_time": "2024-12-23T20:05:09.763Z"
   },
   {
    "duration": 4,
    "start_time": "2024-12-23T20:05:09.776Z"
   },
   {
    "duration": 5,
    "start_time": "2024-12-23T20:05:09.782Z"
   },
   {
    "duration": 12,
    "start_time": "2024-12-23T20:05:09.789Z"
   },
   {
    "duration": 5,
    "start_time": "2024-12-23T20:05:09.802Z"
   },
   {
    "duration": 7,
    "start_time": "2024-12-23T20:05:09.843Z"
   },
   {
    "duration": 591,
    "start_time": "2024-12-23T20:05:09.855Z"
   },
   {
    "duration": 12634,
    "start_time": "2024-12-23T20:05:10.449Z"
   },
   {
    "duration": 150308,
    "start_time": "2024-12-23T20:05:23.086Z"
   },
   {
    "duration": 50,
    "start_time": "2024-12-23T20:07:53.396Z"
   },
   {
    "duration": 0,
    "start_time": "2024-12-23T20:07:53.447Z"
   },
   {
    "duration": 1,
    "start_time": "2024-12-23T20:07:53.448Z"
   },
   {
    "duration": 10822,
    "start_time": "2024-12-23T20:09:32.766Z"
   },
   {
    "duration": 510,
    "start_time": "2024-12-23T20:13:14.534Z"
   },
   {
    "duration": 6,
    "start_time": "2024-12-23T20:14:00.609Z"
   },
   {
    "duration": 4,
    "start_time": "2024-12-23T20:14:07.623Z"
   },
   {
    "duration": 514,
    "start_time": "2024-12-23T20:14:07.630Z"
   },
   {
    "duration": 10,
    "start_time": "2024-12-23T20:14:08.147Z"
   },
   {
    "duration": 202,
    "start_time": "2024-12-23T20:14:08.159Z"
   },
   {
    "duration": 7,
    "start_time": "2024-12-23T20:14:08.363Z"
   },
   {
    "duration": 70,
    "start_time": "2024-12-23T20:14:08.373Z"
   },
   {
    "duration": 115,
    "start_time": "2024-12-23T20:14:08.445Z"
   },
   {
    "duration": 6,
    "start_time": "2024-12-23T20:14:08.563Z"
   },
   {
    "duration": 19,
    "start_time": "2024-12-23T20:14:08.571Z"
   },
   {
    "duration": 225,
    "start_time": "2024-12-23T20:14:08.591Z"
   },
   {
    "duration": 8,
    "start_time": "2024-12-23T20:14:08.818Z"
   },
   {
    "duration": 99,
    "start_time": "2024-12-23T20:14:08.828Z"
   },
   {
    "duration": 15,
    "start_time": "2024-12-23T20:14:08.929Z"
   },
   {
    "duration": 27,
    "start_time": "2024-12-23T20:14:08.945Z"
   },
   {
    "duration": 16,
    "start_time": "2024-12-23T20:14:08.976Z"
   },
   {
    "duration": 5,
    "start_time": "2024-12-23T20:14:08.994Z"
   },
   {
    "duration": 7,
    "start_time": "2024-12-23T20:14:09.001Z"
   },
   {
    "duration": 5,
    "start_time": "2024-12-23T20:14:09.042Z"
   },
   {
    "duration": 14,
    "start_time": "2024-12-23T20:14:09.049Z"
   },
   {
    "duration": 82,
    "start_time": "2024-12-23T20:14:09.065Z"
   },
   {
    "duration": 7,
    "start_time": "2024-12-23T20:14:09.149Z"
   },
   {
    "duration": 6,
    "start_time": "2024-12-23T20:14:09.157Z"
   },
   {
    "duration": 7,
    "start_time": "2024-12-23T20:14:09.165Z"
   },
   {
    "duration": 20,
    "start_time": "2024-12-23T20:14:09.175Z"
   },
   {
    "duration": 5,
    "start_time": "2024-12-23T20:14:09.196Z"
   },
   {
    "duration": 8,
    "start_time": "2024-12-23T20:14:09.203Z"
   },
   {
    "duration": 7,
    "start_time": "2024-12-23T20:14:09.242Z"
   },
   {
    "duration": 6,
    "start_time": "2024-12-23T20:14:09.252Z"
   },
   {
    "duration": 223,
    "start_time": "2024-12-23T20:14:09.265Z"
   },
   {
    "duration": 216,
    "start_time": "2024-12-23T20:14:09.490Z"
   },
   {
    "duration": 230,
    "start_time": "2024-12-23T20:14:09.708Z"
   },
   {
    "duration": 276,
    "start_time": "2024-12-23T20:14:09.940Z"
   },
   {
    "duration": 497,
    "start_time": "2024-12-23T20:14:10.218Z"
   },
   {
    "duration": 5,
    "start_time": "2024-12-23T20:14:10.718Z"
   },
   {
    "duration": 1822,
    "start_time": "2024-12-23T20:14:10.724Z"
   },
   {
    "duration": 16,
    "start_time": "2024-12-23T20:14:12.548Z"
   },
   {
    "duration": 10,
    "start_time": "2024-12-23T20:14:12.567Z"
   },
   {
    "duration": 5,
    "start_time": "2024-12-23T20:14:12.579Z"
   },
   {
    "duration": 7,
    "start_time": "2024-12-23T20:14:12.585Z"
   },
   {
    "duration": 12,
    "start_time": "2024-12-23T20:14:12.594Z"
   },
   {
    "duration": 37,
    "start_time": "2024-12-23T20:14:12.608Z"
   },
   {
    "duration": 6,
    "start_time": "2024-12-23T20:14:12.651Z"
   },
   {
    "duration": 687,
    "start_time": "2024-12-23T20:14:12.659Z"
   },
   {
    "duration": 12602,
    "start_time": "2024-12-23T20:14:13.349Z"
   },
   {
    "duration": 148909,
    "start_time": "2024-12-23T20:14:25.953Z"
   },
   {
    "duration": 10811,
    "start_time": "2024-12-23T20:16:54.864Z"
   },
   {
    "duration": 0,
    "start_time": "2024-12-23T20:17:05.676Z"
   },
   {
    "duration": 3,
    "start_time": "2024-12-23T20:22:36.156Z"
   },
   {
    "duration": 10771,
    "start_time": "2024-12-23T20:22:51.180Z"
   },
   {
    "duration": 5,
    "start_time": "2024-12-23T20:24:30.951Z"
   },
   {
    "duration": 10753,
    "start_time": "2024-12-23T20:25:05.994Z"
   },
   {
    "duration": 77,
    "start_time": "2024-12-23T20:25:20.066Z"
   },
   {
    "duration": 71,
    "start_time": "2024-12-23T20:27:03.005Z"
   },
   {
    "duration": 10777,
    "start_time": "2024-12-23T20:33:35.495Z"
   },
   {
    "duration": 2706,
    "start_time": "2024-12-23T22:01:10.623Z"
   },
   {
    "duration": 623,
    "start_time": "2024-12-23T22:01:13.332Z"
   },
   {
    "duration": 12,
    "start_time": "2024-12-23T22:01:13.957Z"
   },
   {
    "duration": 240,
    "start_time": "2024-12-23T22:01:13.972Z"
   },
   {
    "duration": 7,
    "start_time": "2024-12-23T22:01:14.214Z"
   },
   {
    "duration": 54,
    "start_time": "2024-12-23T22:01:14.222Z"
   },
   {
    "duration": 125,
    "start_time": "2024-12-23T22:01:14.278Z"
   },
   {
    "duration": 5,
    "start_time": "2024-12-23T22:01:14.412Z"
   },
   {
    "duration": 18,
    "start_time": "2024-12-23T22:01:14.419Z"
   },
   {
    "duration": 208,
    "start_time": "2024-12-23T22:01:14.441Z"
   },
   {
    "duration": 6,
    "start_time": "2024-12-23T22:01:14.651Z"
   },
   {
    "duration": 101,
    "start_time": "2024-12-23T22:01:14.659Z"
   },
   {
    "duration": 11,
    "start_time": "2024-12-23T22:01:14.762Z"
   },
   {
    "duration": 21,
    "start_time": "2024-12-23T22:01:14.774Z"
   },
   {
    "duration": 27,
    "start_time": "2024-12-23T22:01:14.796Z"
   },
   {
    "duration": 3,
    "start_time": "2024-12-23T22:01:14.825Z"
   },
   {
    "duration": 6,
    "start_time": "2024-12-23T22:01:14.830Z"
   },
   {
    "duration": 5,
    "start_time": "2024-12-23T22:01:14.837Z"
   },
   {
    "duration": 18,
    "start_time": "2024-12-23T22:01:14.844Z"
   },
   {
    "duration": 101,
    "start_time": "2024-12-23T22:01:14.864Z"
   },
   {
    "duration": 6,
    "start_time": "2024-12-23T22:01:14.967Z"
   },
   {
    "duration": 5,
    "start_time": "2024-12-23T22:01:14.975Z"
   },
   {
    "duration": 6,
    "start_time": "2024-12-23T22:01:14.981Z"
   },
   {
    "duration": 646,
    "start_time": "2024-12-23T22:01:15.012Z"
   },
   {
    "duration": 0,
    "start_time": "2024-12-23T22:01:15.660Z"
   },
   {
    "duration": 0,
    "start_time": "2024-12-23T22:01:15.662Z"
   },
   {
    "duration": 0,
    "start_time": "2024-12-23T22:01:15.663Z"
   },
   {
    "duration": 0,
    "start_time": "2024-12-23T22:01:15.665Z"
   },
   {
    "duration": 0,
    "start_time": "2024-12-23T22:01:15.667Z"
   },
   {
    "duration": 0,
    "start_time": "2024-12-23T22:01:15.668Z"
   },
   {
    "duration": 0,
    "start_time": "2024-12-23T22:01:15.670Z"
   },
   {
    "duration": 0,
    "start_time": "2024-12-23T22:01:15.671Z"
   },
   {
    "duration": 0,
    "start_time": "2024-12-23T22:01:15.672Z"
   },
   {
    "duration": 0,
    "start_time": "2024-12-23T22:01:15.674Z"
   },
   {
    "duration": 0,
    "start_time": "2024-12-23T22:01:15.675Z"
   },
   {
    "duration": 0,
    "start_time": "2024-12-23T22:01:15.677Z"
   },
   {
    "duration": 0,
    "start_time": "2024-12-23T22:01:15.678Z"
   },
   {
    "duration": 0,
    "start_time": "2024-12-23T22:01:15.679Z"
   },
   {
    "duration": 0,
    "start_time": "2024-12-23T22:01:15.681Z"
   },
   {
    "duration": 0,
    "start_time": "2024-12-23T22:01:15.682Z"
   },
   {
    "duration": 0,
    "start_time": "2024-12-23T22:01:15.683Z"
   },
   {
    "duration": 0,
    "start_time": "2024-12-23T22:01:15.712Z"
   },
   {
    "duration": 0,
    "start_time": "2024-12-23T22:01:15.713Z"
   },
   {
    "duration": 0,
    "start_time": "2024-12-23T22:01:15.714Z"
   },
   {
    "duration": 0,
    "start_time": "2024-12-23T22:01:15.715Z"
   },
   {
    "duration": 0,
    "start_time": "2024-12-23T22:01:15.716Z"
   },
   {
    "duration": 134,
    "start_time": "2024-12-23T22:04:15.069Z"
   },
   {
    "duration": 18,
    "start_time": "2024-12-23T22:09:45.700Z"
   },
   {
    "duration": 3,
    "start_time": "2024-12-23T22:09:48.521Z"
   },
   {
    "duration": 513,
    "start_time": "2024-12-23T22:09:48.526Z"
   },
   {
    "duration": 8,
    "start_time": "2024-12-23T22:09:49.041Z"
   },
   {
    "duration": 187,
    "start_time": "2024-12-23T22:09:49.051Z"
   },
   {
    "duration": 6,
    "start_time": "2024-12-23T22:09:49.241Z"
   },
   {
    "duration": 65,
    "start_time": "2024-12-23T22:09:49.249Z"
   },
   {
    "duration": 116,
    "start_time": "2024-12-23T22:09:49.316Z"
   },
   {
    "duration": 5,
    "start_time": "2024-12-23T22:09:49.434Z"
   },
   {
    "duration": 18,
    "start_time": "2024-12-23T22:09:49.441Z"
   },
   {
    "duration": 211,
    "start_time": "2024-12-23T22:09:49.461Z"
   },
   {
    "duration": 8,
    "start_time": "2024-12-23T22:09:49.674Z"
   },
   {
    "duration": 90,
    "start_time": "2024-12-23T22:09:49.683Z"
   },
   {
    "duration": 10,
    "start_time": "2024-12-23T22:09:49.776Z"
   },
   {
    "duration": 34,
    "start_time": "2024-12-23T22:09:49.787Z"
   },
   {
    "duration": 13,
    "start_time": "2024-12-23T22:09:49.822Z"
   },
   {
    "duration": 4,
    "start_time": "2024-12-23T22:09:49.837Z"
   },
   {
    "duration": 6,
    "start_time": "2024-12-23T22:09:49.843Z"
   },
   {
    "duration": 5,
    "start_time": "2024-12-23T22:09:49.850Z"
   },
   {
    "duration": 14,
    "start_time": "2024-12-23T22:09:49.857Z"
   },
   {
    "duration": 112,
    "start_time": "2024-12-23T22:09:49.872Z"
   },
   {
    "duration": 6,
    "start_time": "2024-12-23T22:09:49.986Z"
   },
   {
    "duration": 19,
    "start_time": "2024-12-23T22:09:49.994Z"
   },
   {
    "duration": 6,
    "start_time": "2024-12-23T22:09:50.014Z"
   },
   {
    "duration": 17,
    "start_time": "2024-12-23T22:09:50.021Z"
   },
   {
    "duration": 4,
    "start_time": "2024-12-23T22:09:50.040Z"
   },
   {
    "duration": 5,
    "start_time": "2024-12-23T22:09:50.045Z"
   },
   {
    "duration": 4,
    "start_time": "2024-12-23T22:09:50.052Z"
   },
   {
    "duration": 4,
    "start_time": "2024-12-23T22:09:50.058Z"
   },
   {
    "duration": 233,
    "start_time": "2024-12-23T22:09:50.063Z"
   },
   {
    "duration": 198,
    "start_time": "2024-12-23T22:09:50.298Z"
   },
   {
    "duration": 207,
    "start_time": "2024-12-23T22:09:50.498Z"
   },
   {
    "duration": 251,
    "start_time": "2024-12-23T22:09:50.707Z"
   },
   {
    "duration": 253,
    "start_time": "2024-12-23T22:09:50.960Z"
   },
   {
    "duration": 4,
    "start_time": "2024-12-23T22:09:51.215Z"
   },
   {
    "duration": 1668,
    "start_time": "2024-12-23T22:09:51.221Z"
   },
   {
    "duration": 28,
    "start_time": "2024-12-23T22:09:52.891Z"
   },
   {
    "duration": 8,
    "start_time": "2024-12-23T22:09:52.923Z"
   },
   {
    "duration": 3,
    "start_time": "2024-12-23T22:09:52.933Z"
   },
   {
    "duration": 6,
    "start_time": "2024-12-23T22:09:52.938Z"
   },
   {
    "duration": 132,
    "start_time": "2024-12-23T22:09:52.946Z"
   },
   {
    "duration": 4,
    "start_time": "2024-12-23T22:09:53.080Z"
   },
   {
    "duration": 8,
    "start_time": "2024-12-23T22:09:53.085Z"
   },
   {
    "duration": 29,
    "start_time": "2024-12-23T22:09:53.094Z"
   },
   {
    "duration": 0,
    "start_time": "2024-12-23T22:09:53.124Z"
   },
   {
    "duration": 0,
    "start_time": "2024-12-23T22:09:53.125Z"
   },
   {
    "duration": 0,
    "start_time": "2024-12-23T22:09:53.126Z"
   },
   {
    "duration": 3,
    "start_time": "2024-12-23T22:33:06.202Z"
   },
   {
    "duration": 510,
    "start_time": "2024-12-23T22:33:06.208Z"
   },
   {
    "duration": 7,
    "start_time": "2024-12-23T22:33:06.720Z"
   },
   {
    "duration": 185,
    "start_time": "2024-12-23T22:33:06.728Z"
   },
   {
    "duration": 6,
    "start_time": "2024-12-23T22:33:06.916Z"
   },
   {
    "duration": 52,
    "start_time": "2024-12-23T22:33:06.924Z"
   },
   {
    "duration": 126,
    "start_time": "2024-12-23T22:33:06.978Z"
   },
   {
    "duration": 5,
    "start_time": "2024-12-23T22:33:07.111Z"
   },
   {
    "duration": 18,
    "start_time": "2024-12-23T22:33:07.118Z"
   },
   {
    "duration": 232,
    "start_time": "2024-12-23T22:33:07.138Z"
   },
   {
    "duration": 6,
    "start_time": "2024-12-23T22:33:07.372Z"
   },
   {
    "duration": 89,
    "start_time": "2024-12-23T22:33:07.380Z"
   },
   {
    "duration": 10,
    "start_time": "2024-12-23T22:33:07.471Z"
   },
   {
    "duration": 33,
    "start_time": "2024-12-23T22:33:07.484Z"
   },
   {
    "duration": 14,
    "start_time": "2024-12-23T22:33:07.518Z"
   },
   {
    "duration": 4,
    "start_time": "2024-12-23T22:33:07.534Z"
   },
   {
    "duration": 6,
    "start_time": "2024-12-23T22:33:07.540Z"
   },
   {
    "duration": 5,
    "start_time": "2024-12-23T22:33:07.547Z"
   },
   {
    "duration": 14,
    "start_time": "2024-12-23T22:33:07.554Z"
   },
   {
    "duration": 103,
    "start_time": "2024-12-23T22:33:07.570Z"
   },
   {
    "duration": 6,
    "start_time": "2024-12-23T22:33:07.675Z"
   },
   {
    "duration": 5,
    "start_time": "2024-12-23T22:33:07.682Z"
   },
   {
    "duration": 5,
    "start_time": "2024-12-23T22:33:07.689Z"
   },
   {
    "duration": 16,
    "start_time": "2024-12-23T22:33:07.711Z"
   },
   {
    "duration": 6,
    "start_time": "2024-12-23T22:33:07.728Z"
   },
   {
    "duration": 5,
    "start_time": "2024-12-23T22:33:07.735Z"
   },
   {
    "duration": 4,
    "start_time": "2024-12-23T22:33:07.742Z"
   },
   {
    "duration": 4,
    "start_time": "2024-12-23T22:33:07.747Z"
   },
   {
    "duration": 219,
    "start_time": "2024-12-23T22:33:07.752Z"
   },
   {
    "duration": 201,
    "start_time": "2024-12-23T22:33:07.973Z"
   },
   {
    "duration": 206,
    "start_time": "2024-12-23T22:33:08.176Z"
   },
   {
    "duration": 237,
    "start_time": "2024-12-23T22:33:08.385Z"
   },
   {
    "duration": 252,
    "start_time": "2024-12-23T22:33:08.624Z"
   },
   {
    "duration": 5,
    "start_time": "2024-12-23T22:33:08.877Z"
   },
   {
    "duration": 1662,
    "start_time": "2024-12-23T22:33:08.883Z"
   },
   {
    "duration": 15,
    "start_time": "2024-12-23T22:33:10.547Z"
   },
   {
    "duration": 8,
    "start_time": "2024-12-23T22:33:10.564Z"
   },
   {
    "duration": 3,
    "start_time": "2024-12-23T22:33:10.574Z"
   },
   {
    "duration": 5,
    "start_time": "2024-12-23T22:33:10.579Z"
   },
   {
    "duration": 34,
    "start_time": "2024-12-23T22:33:10.586Z"
   },
   {
    "duration": 5,
    "start_time": "2024-12-23T22:33:10.625Z"
   },
   {
    "duration": 6,
    "start_time": "2024-12-23T22:33:10.631Z"
   },
   {
    "duration": 3,
    "start_time": "2024-12-23T22:33:10.639Z"
   },
   {
    "duration": 15,
    "start_time": "2024-12-23T22:33:10.644Z"
   },
   {
    "duration": 0,
    "start_time": "2024-12-23T22:33:10.660Z"
   },
   {
    "duration": 0,
    "start_time": "2024-12-23T22:33:10.662Z"
   },
   {
    "duration": 0,
    "start_time": "2024-12-23T22:33:10.664Z"
   },
   {
    "duration": 249,
    "start_time": "2024-12-23T22:33:58.064Z"
   },
   {
    "duration": 15,
    "start_time": "2024-12-23T22:34:03.579Z"
   },
   {
    "duration": 4455,
    "start_time": "2024-12-23T22:35:37.856Z"
   },
   {
    "duration": 132034,
    "start_time": "2024-12-23T22:36:17.014Z"
   },
   {
    "duration": 10806,
    "start_time": "2024-12-23T22:38:29.050Z"
   },
   {
    "duration": 5,
    "start_time": "2024-12-23T22:45:16.937Z"
   },
   {
    "duration": 10595,
    "start_time": "2024-12-23T22:45:25.088Z"
   },
   {
    "duration": 3,
    "start_time": "2024-12-23T22:49:01.063Z"
   },
   {
    "duration": 482,
    "start_time": "2024-12-23T22:49:01.070Z"
   },
   {
    "duration": 10,
    "start_time": "2024-12-23T22:49:01.554Z"
   },
   {
    "duration": 187,
    "start_time": "2024-12-23T22:49:01.566Z"
   },
   {
    "duration": 6,
    "start_time": "2024-12-23T22:49:01.756Z"
   },
   {
    "duration": 66,
    "start_time": "2024-12-23T22:49:01.764Z"
   },
   {
    "duration": 117,
    "start_time": "2024-12-23T22:49:01.831Z"
   },
   {
    "duration": 5,
    "start_time": "2024-12-23T22:49:01.950Z"
   },
   {
    "duration": 18,
    "start_time": "2024-12-23T22:49:01.958Z"
   },
   {
    "duration": 213,
    "start_time": "2024-12-23T22:49:01.977Z"
   },
   {
    "duration": 6,
    "start_time": "2024-12-23T22:49:02.193Z"
   },
   {
    "duration": 86,
    "start_time": "2024-12-23T22:49:02.200Z"
   },
   {
    "duration": 10,
    "start_time": "2024-12-23T22:49:02.289Z"
   },
   {
    "duration": 30,
    "start_time": "2024-12-23T22:49:02.300Z"
   },
   {
    "duration": 13,
    "start_time": "2024-12-23T22:49:02.331Z"
   },
   {
    "duration": 4,
    "start_time": "2024-12-23T22:49:02.346Z"
   },
   {
    "duration": 6,
    "start_time": "2024-12-23T22:49:02.352Z"
   },
   {
    "duration": 5,
    "start_time": "2024-12-23T22:49:02.359Z"
   },
   {
    "duration": 46,
    "start_time": "2024-12-23T22:49:02.366Z"
   },
   {
    "duration": 70,
    "start_time": "2024-12-23T22:49:02.413Z"
   },
   {
    "duration": 7,
    "start_time": "2024-12-23T22:49:02.485Z"
   },
   {
    "duration": 22,
    "start_time": "2024-12-23T22:49:02.493Z"
   },
   {
    "duration": 6,
    "start_time": "2024-12-23T22:49:02.517Z"
   },
   {
    "duration": 18,
    "start_time": "2024-12-23T22:49:02.525Z"
   },
   {
    "duration": 5,
    "start_time": "2024-12-23T22:49:02.545Z"
   },
   {
    "duration": 6,
    "start_time": "2024-12-23T22:49:02.552Z"
   },
   {
    "duration": 4,
    "start_time": "2024-12-23T22:49:02.560Z"
   },
   {
    "duration": 3,
    "start_time": "2024-12-23T22:49:02.566Z"
   },
   {
    "duration": 229,
    "start_time": "2024-12-23T22:49:02.573Z"
   },
   {
    "duration": 200,
    "start_time": "2024-12-23T22:49:02.804Z"
   },
   {
    "duration": 206,
    "start_time": "2024-12-23T22:49:03.005Z"
   },
   {
    "duration": 241,
    "start_time": "2024-12-23T22:49:03.213Z"
   },
   {
    "duration": 257,
    "start_time": "2024-12-23T22:49:03.456Z"
   },
   {
    "duration": 4,
    "start_time": "2024-12-23T22:49:03.716Z"
   },
   {
    "duration": 1745,
    "start_time": "2024-12-23T22:49:03.722Z"
   },
   {
    "duration": 14,
    "start_time": "2024-12-23T22:49:05.469Z"
   },
   {
    "duration": 9,
    "start_time": "2024-12-23T22:49:05.485Z"
   },
   {
    "duration": 3,
    "start_time": "2024-12-23T22:49:05.512Z"
   },
   {
    "duration": 4,
    "start_time": "2024-12-23T22:49:05.518Z"
   },
   {
    "duration": 11,
    "start_time": "2024-12-23T22:49:05.524Z"
   },
   {
    "duration": 5,
    "start_time": "2024-12-23T22:49:05.537Z"
   },
   {
    "duration": 4,
    "start_time": "2024-12-23T22:49:05.543Z"
   },
   {
    "duration": 7,
    "start_time": "2024-12-23T22:49:05.549Z"
   },
   {
    "duration": 4,
    "start_time": "2024-12-23T22:49:05.557Z"
   },
   {
    "duration": 267,
    "start_time": "2024-12-23T22:49:05.563Z"
   },
   {
    "duration": 4605,
    "start_time": "2024-12-23T22:49:05.831Z"
   },
   {
    "duration": 132078,
    "start_time": "2024-12-23T22:49:10.437Z"
   },
   {
    "duration": 10624,
    "start_time": "2024-12-23T22:51:22.517Z"
   },
   {
    "duration": 10609,
    "start_time": "2024-12-23T22:53:34.612Z"
   },
   {
    "duration": 4,
    "start_time": "2024-12-23T23:37:17.882Z"
   },
   {
    "duration": 4,
    "start_time": "2024-12-23T23:38:34.525Z"
   },
   {
    "duration": 1115,
    "start_time": "2024-12-24T02:33:49.078Z"
   },
   {
    "duration": 597,
    "start_time": "2024-12-24T02:33:50.195Z"
   },
   {
    "duration": 9,
    "start_time": "2024-12-24T02:33:50.794Z"
   },
   {
    "duration": 193,
    "start_time": "2024-12-24T02:33:50.805Z"
   },
   {
    "duration": 6,
    "start_time": "2024-12-24T02:33:50.999Z"
   },
   {
    "duration": 69,
    "start_time": "2024-12-24T02:33:51.007Z"
   },
   {
    "duration": 122,
    "start_time": "2024-12-24T02:33:51.078Z"
   },
   {
    "duration": 5,
    "start_time": "2024-12-24T02:33:51.201Z"
   },
   {
    "duration": 30,
    "start_time": "2024-12-24T02:33:51.208Z"
   },
   {
    "duration": 197,
    "start_time": "2024-12-24T02:33:51.241Z"
   },
   {
    "duration": 7,
    "start_time": "2024-12-24T02:33:51.440Z"
   },
   {
    "duration": 92,
    "start_time": "2024-12-24T02:33:51.449Z"
   },
   {
    "duration": 12,
    "start_time": "2024-12-24T02:33:51.542Z"
   },
   {
    "duration": 19,
    "start_time": "2024-12-24T02:33:51.556Z"
   },
   {
    "duration": 14,
    "start_time": "2024-12-24T02:33:51.577Z"
   },
   {
    "duration": 4,
    "start_time": "2024-12-24T02:33:51.592Z"
   },
   {
    "duration": 5,
    "start_time": "2024-12-24T02:33:51.624Z"
   },
   {
    "duration": 6,
    "start_time": "2024-12-24T02:33:51.631Z"
   },
   {
    "duration": 18,
    "start_time": "2024-12-24T02:33:51.638Z"
   },
   {
    "duration": 90,
    "start_time": "2024-12-24T02:33:51.658Z"
   },
   {
    "duration": 7,
    "start_time": "2024-12-24T02:33:51.749Z"
   },
   {
    "duration": 6,
    "start_time": "2024-12-24T02:33:51.757Z"
   },
   {
    "duration": 6,
    "start_time": "2024-12-24T02:33:51.765Z"
   },
   {
    "duration": 16,
    "start_time": "2024-12-24T02:33:51.772Z"
   },
   {
    "duration": 34,
    "start_time": "2024-12-24T02:33:51.790Z"
   },
   {
    "duration": 5,
    "start_time": "2024-12-24T02:33:51.826Z"
   },
   {
    "duration": 5,
    "start_time": "2024-12-24T02:33:51.833Z"
   },
   {
    "duration": 4,
    "start_time": "2024-12-24T02:33:51.842Z"
   },
   {
    "duration": 230,
    "start_time": "2024-12-24T02:33:51.848Z"
   },
   {
    "duration": 208,
    "start_time": "2024-12-24T02:33:52.080Z"
   },
   {
    "duration": 273,
    "start_time": "2024-12-24T02:33:52.290Z"
   },
   {
    "duration": 238,
    "start_time": "2024-12-24T02:33:52.564Z"
   },
   {
    "duration": 261,
    "start_time": "2024-12-24T02:33:52.804Z"
   },
   {
    "duration": 4,
    "start_time": "2024-12-24T02:33:53.067Z"
   },
   {
    "duration": 1615,
    "start_time": "2024-12-24T02:33:53.073Z"
   },
   {
    "duration": 20,
    "start_time": "2024-12-24T02:33:54.689Z"
   },
   {
    "duration": 20,
    "start_time": "2024-12-24T02:33:54.711Z"
   },
   {
    "duration": 3,
    "start_time": "2024-12-24T02:33:54.733Z"
   },
   {
    "duration": 6,
    "start_time": "2024-12-24T02:33:54.737Z"
   },
   {
    "duration": 11,
    "start_time": "2024-12-24T02:33:54.744Z"
   },
   {
    "duration": 5,
    "start_time": "2024-12-24T02:33:54.756Z"
   },
   {
    "duration": 4,
    "start_time": "2024-12-24T02:33:54.762Z"
   },
   {
    "duration": 18,
    "start_time": "2024-12-24T02:33:54.769Z"
   },
   {
    "duration": 20,
    "start_time": "2024-12-24T02:34:55.512Z"
   },
   {
    "duration": 16,
    "start_time": "2024-12-24T02:35:46.163Z"
   },
   {
    "duration": 157,
    "start_time": "2024-12-24T03:07:33.194Z"
   },
   {
    "duration": 2852,
    "start_time": "2024-12-24T03:07:38.536Z"
   },
   {
    "duration": 597,
    "start_time": "2024-12-24T03:07:41.390Z"
   },
   {
    "duration": 94,
    "start_time": "2024-12-24T03:07:41.988Z"
   },
   {
    "duration": 0,
    "start_time": "2024-12-24T03:07:42.085Z"
   },
   {
    "duration": 0,
    "start_time": "2024-12-24T03:07:42.086Z"
   },
   {
    "duration": 0,
    "start_time": "2024-12-24T03:07:42.088Z"
   },
   {
    "duration": 0,
    "start_time": "2024-12-24T03:07:42.089Z"
   },
   {
    "duration": 0,
    "start_time": "2024-12-24T03:07:42.090Z"
   },
   {
    "duration": 0,
    "start_time": "2024-12-24T03:07:42.105Z"
   },
   {
    "duration": 0,
    "start_time": "2024-12-24T03:07:42.106Z"
   },
   {
    "duration": 0,
    "start_time": "2024-12-24T03:07:42.107Z"
   },
   {
    "duration": 0,
    "start_time": "2024-12-24T03:07:42.109Z"
   },
   {
    "duration": 0,
    "start_time": "2024-12-24T03:07:42.109Z"
   },
   {
    "duration": 0,
    "start_time": "2024-12-24T03:07:42.110Z"
   },
   {
    "duration": 0,
    "start_time": "2024-12-24T03:07:42.111Z"
   },
   {
    "duration": 0,
    "start_time": "2024-12-24T03:07:42.112Z"
   },
   {
    "duration": 0,
    "start_time": "2024-12-24T03:07:42.114Z"
   },
   {
    "duration": 0,
    "start_time": "2024-12-24T03:07:42.115Z"
   },
   {
    "duration": 0,
    "start_time": "2024-12-24T03:07:42.116Z"
   },
   {
    "duration": 0,
    "start_time": "2024-12-24T03:07:42.117Z"
   },
   {
    "duration": 0,
    "start_time": "2024-12-24T03:07:42.118Z"
   },
   {
    "duration": 0,
    "start_time": "2024-12-24T03:07:42.120Z"
   },
   {
    "duration": 0,
    "start_time": "2024-12-24T03:07:42.121Z"
   },
   {
    "duration": 0,
    "start_time": "2024-12-24T03:07:42.122Z"
   },
   {
    "duration": 0,
    "start_time": "2024-12-24T03:07:42.123Z"
   },
   {
    "duration": 0,
    "start_time": "2024-12-24T03:07:42.124Z"
   },
   {
    "duration": 0,
    "start_time": "2024-12-24T03:07:42.125Z"
   },
   {
    "duration": 0,
    "start_time": "2024-12-24T03:07:42.126Z"
   },
   {
    "duration": 0,
    "start_time": "2024-12-24T03:07:42.127Z"
   },
   {
    "duration": 0,
    "start_time": "2024-12-24T03:07:42.128Z"
   },
   {
    "duration": 0,
    "start_time": "2024-12-24T03:07:42.129Z"
   },
   {
    "duration": 0,
    "start_time": "2024-12-24T03:07:42.130Z"
   },
   {
    "duration": 0,
    "start_time": "2024-12-24T03:07:42.132Z"
   },
   {
    "duration": 0,
    "start_time": "2024-12-24T03:07:42.133Z"
   },
   {
    "duration": 0,
    "start_time": "2024-12-24T03:07:42.134Z"
   },
   {
    "duration": 0,
    "start_time": "2024-12-24T03:07:42.136Z"
   },
   {
    "duration": 0,
    "start_time": "2024-12-24T03:07:42.137Z"
   },
   {
    "duration": 0,
    "start_time": "2024-12-24T03:07:42.138Z"
   },
   {
    "duration": 0,
    "start_time": "2024-12-24T03:07:42.140Z"
   },
   {
    "duration": 0,
    "start_time": "2024-12-24T03:07:42.141Z"
   },
   {
    "duration": 0,
    "start_time": "2024-12-24T03:07:42.143Z"
   },
   {
    "duration": 0,
    "start_time": "2024-12-24T03:07:42.143Z"
   },
   {
    "duration": 0,
    "start_time": "2024-12-24T03:07:42.145Z"
   },
   {
    "duration": 0,
    "start_time": "2024-12-24T03:07:42.205Z"
   },
   {
    "duration": 0,
    "start_time": "2024-12-24T03:07:42.207Z"
   },
   {
    "duration": 0,
    "start_time": "2024-12-24T03:07:42.208Z"
   },
   {
    "duration": 0,
    "start_time": "2024-12-24T03:07:42.210Z"
   },
   {
    "duration": 0,
    "start_time": "2024-12-24T03:07:42.211Z"
   },
   {
    "duration": 0,
    "start_time": "2024-12-24T03:07:42.212Z"
   },
   {
    "duration": 13,
    "start_time": "2024-12-24T03:10:51.426Z"
   },
   {
    "duration": 221,
    "start_time": "2024-12-24T03:12:06.829Z"
   },
   {
    "duration": 182,
    "start_time": "2024-12-24T03:12:07.156Z"
   },
   {
    "duration": 9,
    "start_time": "2024-12-24T03:13:48.097Z"
   },
   {
    "duration": 8,
    "start_time": "2024-12-24T03:13:57.001Z"
   },
   {
    "duration": 4,
    "start_time": "2024-12-24T03:13:59.392Z"
   },
   {
    "duration": 502,
    "start_time": "2024-12-24T03:13:59.398Z"
   },
   {
    "duration": 8,
    "start_time": "2024-12-24T03:13:59.901Z"
   },
   {
    "duration": 196,
    "start_time": "2024-12-24T03:13:59.910Z"
   },
   {
    "duration": 7,
    "start_time": "2024-12-24T03:14:00.109Z"
   },
   {
    "duration": 54,
    "start_time": "2024-12-24T03:14:00.118Z"
   },
   {
    "duration": 125,
    "start_time": "2024-12-24T03:14:00.174Z"
   },
   {
    "duration": 6,
    "start_time": "2024-12-24T03:14:00.305Z"
   },
   {
    "duration": 18,
    "start_time": "2024-12-24T03:14:00.312Z"
   },
   {
    "duration": 212,
    "start_time": "2024-12-24T03:14:00.332Z"
   },
   {
    "duration": 6,
    "start_time": "2024-12-24T03:14:00.546Z"
   },
   {
    "duration": 89,
    "start_time": "2024-12-24T03:14:00.554Z"
   },
   {
    "duration": 15,
    "start_time": "2024-12-24T03:14:00.645Z"
   },
   {
    "duration": 22,
    "start_time": "2024-12-24T03:14:00.664Z"
   },
   {
    "duration": 28,
    "start_time": "2024-12-24T03:14:00.689Z"
   },
   {
    "duration": 3,
    "start_time": "2024-12-24T03:14:00.719Z"
   },
   {
    "duration": 5,
    "start_time": "2024-12-24T03:14:00.724Z"
   },
   {
    "duration": 4,
    "start_time": "2024-12-24T03:14:00.731Z"
   },
   {
    "duration": 19,
    "start_time": "2024-12-24T03:14:00.738Z"
   },
   {
    "duration": 101,
    "start_time": "2024-12-24T03:14:00.758Z"
   },
   {
    "duration": 7,
    "start_time": "2024-12-24T03:14:00.860Z"
   },
   {
    "duration": 6,
    "start_time": "2024-12-24T03:14:00.868Z"
   },
   {
    "duration": 7,
    "start_time": "2024-12-24T03:14:00.876Z"
   },
   {
    "duration": 18,
    "start_time": "2024-12-24T03:14:00.905Z"
   },
   {
    "duration": 5,
    "start_time": "2024-12-24T03:14:00.924Z"
   },
   {
    "duration": 5,
    "start_time": "2024-12-24T03:14:00.931Z"
   },
   {
    "duration": 5,
    "start_time": "2024-12-24T03:14:00.937Z"
   },
   {
    "duration": 3,
    "start_time": "2024-12-24T03:14:00.943Z"
   },
   {
    "duration": 232,
    "start_time": "2024-12-24T03:14:00.948Z"
   },
   {
    "duration": 220,
    "start_time": "2024-12-24T03:14:01.182Z"
   },
   {
    "duration": 214,
    "start_time": "2024-12-24T03:14:01.405Z"
   },
   {
    "duration": 335,
    "start_time": "2024-12-24T03:14:01.621Z"
   },
   {
    "duration": 282,
    "start_time": "2024-12-24T03:14:01.958Z"
   },
   {
    "duration": 5,
    "start_time": "2024-12-24T03:14:02.241Z"
   },
   {
    "duration": 1680,
    "start_time": "2024-12-24T03:14:02.248Z"
   },
   {
    "duration": 16,
    "start_time": "2024-12-24T03:14:03.930Z"
   },
   {
    "duration": 8,
    "start_time": "2024-12-24T03:14:03.948Z"
   },
   {
    "duration": 3,
    "start_time": "2024-12-24T03:14:03.959Z"
   },
   {
    "duration": 4,
    "start_time": "2024-12-24T03:14:03.964Z"
   },
   {
    "duration": 39,
    "start_time": "2024-12-24T03:14:03.971Z"
   },
   {
    "duration": 5,
    "start_time": "2024-12-24T03:14:04.015Z"
   },
   {
    "duration": 5,
    "start_time": "2024-12-24T03:14:04.021Z"
   },
   {
    "duration": 15,
    "start_time": "2024-12-24T03:14:04.027Z"
   },
   {
    "duration": 7,
    "start_time": "2024-12-24T03:14:04.044Z"
   },
   {
    "duration": 4,
    "start_time": "2024-12-24T03:14:04.053Z"
   },
   {
    "duration": 551,
    "start_time": "2024-12-24T03:14:04.058Z"
   },
   {
    "duration": 4582,
    "start_time": "2024-12-24T03:14:04.612Z"
   },
   {
    "duration": 17,
    "start_time": "2024-12-24T03:16:32.711Z"
   },
   {
    "duration": 3,
    "start_time": "2024-12-24T03:16:32.730Z"
   },
   {
    "duration": 501,
    "start_time": "2024-12-24T03:16:32.734Z"
   },
   {
    "duration": 7,
    "start_time": "2024-12-24T03:16:33.237Z"
   },
   {
    "duration": 191,
    "start_time": "2024-12-24T03:16:33.245Z"
   },
   {
    "duration": 7,
    "start_time": "2024-12-24T03:16:33.437Z"
   },
   {
    "duration": 65,
    "start_time": "2024-12-24T03:16:33.446Z"
   },
   {
    "duration": 118,
    "start_time": "2024-12-24T03:16:33.512Z"
   },
   {
    "duration": 6,
    "start_time": "2024-12-24T03:16:33.632Z"
   },
   {
    "duration": 18,
    "start_time": "2024-12-24T03:16:33.639Z"
   },
   {
    "duration": 215,
    "start_time": "2024-12-24T03:16:33.659Z"
   },
   {
    "duration": 7,
    "start_time": "2024-12-24T03:16:33.876Z"
   },
   {
    "duration": 90,
    "start_time": "2024-12-24T03:16:33.885Z"
   },
   {
    "duration": 10,
    "start_time": "2024-12-24T03:16:33.976Z"
   },
   {
    "duration": 35,
    "start_time": "2024-12-24T03:16:33.987Z"
   },
   {
    "duration": 15,
    "start_time": "2024-12-24T03:16:34.024Z"
   },
   {
    "duration": 4,
    "start_time": "2024-12-24T03:16:34.040Z"
   },
   {
    "duration": 6,
    "start_time": "2024-12-24T03:16:34.046Z"
   },
   {
    "duration": 8,
    "start_time": "2024-12-24T03:16:34.054Z"
   },
   {
    "duration": 42,
    "start_time": "2024-12-24T03:16:34.067Z"
   },
   {
    "duration": 88,
    "start_time": "2024-12-24T03:16:34.111Z"
   },
   {
    "duration": 8,
    "start_time": "2024-12-24T03:16:34.201Z"
   },
   {
    "duration": 6,
    "start_time": "2024-12-24T03:16:34.210Z"
   },
   {
    "duration": 7,
    "start_time": "2024-12-24T03:16:34.218Z"
   },
   {
    "duration": 16,
    "start_time": "2024-12-24T03:16:34.227Z"
   },
   {
    "duration": 4,
    "start_time": "2024-12-24T03:16:34.245Z"
   },
   {
    "duration": 6,
    "start_time": "2024-12-24T03:16:34.250Z"
   },
   {
    "duration": 6,
    "start_time": "2024-12-24T03:16:34.257Z"
   },
   {
    "duration": 42,
    "start_time": "2024-12-24T03:16:34.264Z"
   },
   {
    "duration": 206,
    "start_time": "2024-12-24T03:16:34.308Z"
   },
   {
    "duration": 305,
    "start_time": "2024-12-24T03:16:34.516Z"
   },
   {
    "duration": 213,
    "start_time": "2024-12-24T03:16:34.823Z"
   },
   {
    "duration": 246,
    "start_time": "2024-12-24T03:16:35.038Z"
   },
   {
    "duration": 266,
    "start_time": "2024-12-24T03:16:35.288Z"
   },
   {
    "duration": 5,
    "start_time": "2024-12-24T03:16:35.557Z"
   },
   {
    "duration": 1674,
    "start_time": "2024-12-24T03:16:35.563Z"
   },
   {
    "duration": 16,
    "start_time": "2024-12-24T03:16:37.238Z"
   },
   {
    "duration": 10,
    "start_time": "2024-12-24T03:16:37.255Z"
   },
   {
    "duration": 3,
    "start_time": "2024-12-24T03:16:37.267Z"
   },
   {
    "duration": 3,
    "start_time": "2024-12-24T03:16:37.272Z"
   },
   {
    "duration": 36,
    "start_time": "2024-12-24T03:16:37.277Z"
   },
   {
    "duration": 5,
    "start_time": "2024-12-24T03:16:37.314Z"
   },
   {
    "duration": 4,
    "start_time": "2024-12-24T03:16:37.320Z"
   },
   {
    "duration": 15,
    "start_time": "2024-12-24T03:16:37.326Z"
   },
   {
    "duration": 7,
    "start_time": "2024-12-24T03:16:37.342Z"
   },
   {
    "duration": 3,
    "start_time": "2024-12-24T03:16:37.351Z"
   },
   {
    "duration": 369,
    "start_time": "2024-12-24T03:16:37.356Z"
   },
   {
    "duration": 4631,
    "start_time": "2024-12-24T03:16:37.727Z"
   },
   {
    "duration": 132514,
    "start_time": "2024-12-24T03:16:42.360Z"
   },
   {
    "duration": 10689,
    "start_time": "2024-12-24T03:18:54.876Z"
   },
   {
    "duration": 6,
    "start_time": "2024-12-24T03:20:01.098Z"
   },
   {
    "duration": 518,
    "start_time": "2024-12-24T03:20:12.298Z"
   },
   {
    "duration": 23,
    "start_time": "2024-12-24T03:21:18.492Z"
   },
   {
    "duration": 158,
    "start_time": "2024-12-24T03:21:38.527Z"
   },
   {
    "duration": 18,
    "start_time": "2024-12-24T03:21:54.422Z"
   },
   {
    "duration": 18,
    "start_time": "2024-12-24T03:22:21.552Z"
   },
   {
    "duration": 3,
    "start_time": "2024-12-24T03:22:25.007Z"
   },
   {
    "duration": 520,
    "start_time": "2024-12-24T03:22:25.012Z"
   },
   {
    "duration": 11,
    "start_time": "2024-12-24T03:22:25.534Z"
   },
   {
    "duration": 194,
    "start_time": "2024-12-24T03:22:25.547Z"
   },
   {
    "duration": 22,
    "start_time": "2024-12-24T03:22:25.743Z"
   },
   {
    "duration": 10,
    "start_time": "2024-12-24T03:22:25.767Z"
   },
   {
    "duration": 80,
    "start_time": "2024-12-24T03:22:25.780Z"
   },
   {
    "duration": 105,
    "start_time": "2024-12-24T03:22:25.862Z"
   },
   {
    "duration": 19,
    "start_time": "2024-12-24T03:22:25.969Z"
   },
   {
    "duration": 18,
    "start_time": "2024-12-24T03:22:25.992Z"
   },
   {
    "duration": 19,
    "start_time": "2024-12-24T03:22:26.014Z"
   },
   {
    "duration": 220,
    "start_time": "2024-12-24T03:22:26.034Z"
   },
   {
    "duration": 24,
    "start_time": "2024-12-24T03:22:26.256Z"
   },
   {
    "duration": 8,
    "start_time": "2024-12-24T03:22:26.282Z"
   },
   {
    "duration": 102,
    "start_time": "2024-12-24T03:22:26.292Z"
   },
   {
    "duration": 17,
    "start_time": "2024-12-24T03:22:26.397Z"
   },
   {
    "duration": 30,
    "start_time": "2024-12-24T03:22:26.416Z"
   },
   {
    "duration": 15,
    "start_time": "2024-12-24T03:22:26.448Z"
   },
   {
    "duration": 4,
    "start_time": "2024-12-24T03:22:26.465Z"
   },
   {
    "duration": 35,
    "start_time": "2024-12-24T03:22:26.470Z"
   },
   {
    "duration": 6,
    "start_time": "2024-12-24T03:22:26.507Z"
   },
   {
    "duration": 18,
    "start_time": "2024-12-24T03:22:26.515Z"
   },
   {
    "duration": 85,
    "start_time": "2024-12-24T03:22:26.535Z"
   },
   {
    "duration": 7,
    "start_time": "2024-12-24T03:22:26.622Z"
   },
   {
    "duration": 5,
    "start_time": "2024-12-24T03:22:26.631Z"
   },
   {
    "duration": 5,
    "start_time": "2024-12-24T03:22:26.638Z"
   },
   {
    "duration": 140,
    "start_time": "2024-12-24T03:22:26.645Z"
   },
   {
    "duration": 6,
    "start_time": "2024-12-24T03:22:26.788Z"
   },
   {
    "duration": 6,
    "start_time": "2024-12-24T03:22:26.805Z"
   },
   {
    "duration": 6,
    "start_time": "2024-12-24T03:22:26.813Z"
   },
   {
    "duration": 10,
    "start_time": "2024-12-24T03:22:26.820Z"
   },
   {
    "duration": 223,
    "start_time": "2024-12-24T03:22:26.832Z"
   },
   {
    "duration": 215,
    "start_time": "2024-12-24T03:22:27.057Z"
   },
   {
    "duration": 281,
    "start_time": "2024-12-24T03:22:27.274Z"
   },
   {
    "duration": 251,
    "start_time": "2024-12-24T03:22:27.557Z"
   },
   {
    "duration": 309,
    "start_time": "2024-12-24T03:22:27.810Z"
   },
   {
    "duration": 7,
    "start_time": "2024-12-24T03:22:28.121Z"
   },
   {
    "duration": 1715,
    "start_time": "2024-12-24T03:22:28.131Z"
   },
   {
    "duration": 24,
    "start_time": "2024-12-24T03:22:29.848Z"
   },
   {
    "duration": 13,
    "start_time": "2024-12-24T03:22:29.874Z"
   },
   {
    "duration": 5,
    "start_time": "2024-12-24T03:22:29.907Z"
   },
   {
    "duration": 6,
    "start_time": "2024-12-24T03:22:29.914Z"
   },
   {
    "duration": 17,
    "start_time": "2024-12-24T03:22:29.922Z"
   },
   {
    "duration": 7,
    "start_time": "2024-12-24T03:22:29.942Z"
   },
   {
    "duration": 5,
    "start_time": "2024-12-24T03:22:29.951Z"
   },
   {
    "duration": 48,
    "start_time": "2024-12-24T03:22:29.957Z"
   },
   {
    "duration": 8,
    "start_time": "2024-12-24T03:22:30.009Z"
   },
   {
    "duration": 6,
    "start_time": "2024-12-24T03:22:30.019Z"
   },
   {
    "duration": 604,
    "start_time": "2024-12-24T03:22:30.027Z"
   },
   {
    "duration": 4615,
    "start_time": "2024-12-24T03:22:30.636Z"
   },
   {
    "duration": 132833,
    "start_time": "2024-12-24T03:22:35.253Z"
   },
   {
    "duration": 10659,
    "start_time": "2024-12-24T03:24:48.087Z"
   },
   {
    "duration": 2965,
    "start_time": "2024-12-24T03:36:47.947Z"
   },
   {
    "duration": 648,
    "start_time": "2024-12-24T03:36:50.915Z"
   },
   {
    "duration": 11,
    "start_time": "2024-12-24T03:36:51.565Z"
   },
   {
    "duration": 180,
    "start_time": "2024-12-24T03:36:51.579Z"
   },
   {
    "duration": 18,
    "start_time": "2024-12-24T03:36:51.761Z"
   },
   {
    "duration": 6,
    "start_time": "2024-12-24T03:36:51.781Z"
   },
   {
    "duration": 71,
    "start_time": "2024-12-24T03:36:51.789Z"
   },
   {
    "duration": 112,
    "start_time": "2024-12-24T03:36:51.862Z"
   },
   {
    "duration": 17,
    "start_time": "2024-12-24T03:36:51.976Z"
   },
   {
    "duration": 6,
    "start_time": "2024-12-24T03:36:51.997Z"
   },
   {
    "duration": 39,
    "start_time": "2024-12-24T03:36:52.005Z"
   },
   {
    "duration": 191,
    "start_time": "2024-12-24T03:36:52.046Z"
   },
   {
    "duration": 16,
    "start_time": "2024-12-24T03:36:52.240Z"
   },
   {
    "duration": 26,
    "start_time": "2024-12-24T03:36:52.258Z"
   },
   {
    "duration": 95,
    "start_time": "2024-12-24T03:36:52.285Z"
   },
   {
    "duration": 10,
    "start_time": "2024-12-24T03:36:52.382Z"
   },
   {
    "duration": 22,
    "start_time": "2024-12-24T03:36:52.393Z"
   },
   {
    "duration": 16,
    "start_time": "2024-12-24T03:36:52.431Z"
   },
   {
    "duration": 5,
    "start_time": "2024-12-24T03:36:52.448Z"
   },
   {
    "duration": 6,
    "start_time": "2024-12-24T03:36:52.454Z"
   },
   {
    "duration": 5,
    "start_time": "2024-12-24T03:36:52.462Z"
   },
   {
    "duration": 21,
    "start_time": "2024-12-24T03:36:52.469Z"
   },
   {
    "duration": 105,
    "start_time": "2024-12-24T03:36:52.492Z"
   },
   {
    "duration": 7,
    "start_time": "2024-12-24T03:36:52.599Z"
   },
   {
    "duration": 5,
    "start_time": "2024-12-24T03:36:52.608Z"
   },
   {
    "duration": 7,
    "start_time": "2024-12-24T03:36:52.631Z"
   },
   {
    "duration": 18,
    "start_time": "2024-12-24T03:36:52.640Z"
   },
   {
    "duration": 5,
    "start_time": "2024-12-24T03:36:52.662Z"
   },
   {
    "duration": 4,
    "start_time": "2024-12-24T03:36:52.669Z"
   },
   {
    "duration": 5,
    "start_time": "2024-12-24T03:36:52.675Z"
   },
   {
    "duration": 4,
    "start_time": "2024-12-24T03:36:52.681Z"
   },
   {
    "duration": 241,
    "start_time": "2024-12-24T03:36:52.686Z"
   },
   {
    "duration": 201,
    "start_time": "2024-12-24T03:36:52.932Z"
   },
   {
    "duration": 218,
    "start_time": "2024-12-24T03:36:53.135Z"
   },
   {
    "duration": 325,
    "start_time": "2024-12-24T03:36:53.355Z"
   },
   {
    "duration": 261,
    "start_time": "2024-12-24T03:36:53.682Z"
   },
   {
    "duration": 5,
    "start_time": "2024-12-24T03:36:53.945Z"
   },
   {
    "duration": 1592,
    "start_time": "2024-12-24T03:36:53.952Z"
   },
   {
    "duration": 21,
    "start_time": "2024-12-24T03:36:55.545Z"
   },
   {
    "duration": 9,
    "start_time": "2024-12-24T03:36:55.568Z"
   },
   {
    "duration": 4,
    "start_time": "2024-12-24T03:36:55.583Z"
   },
   {
    "duration": 4,
    "start_time": "2024-12-24T03:36:55.589Z"
   },
   {
    "duration": 12,
    "start_time": "2024-12-24T03:36:55.594Z"
   },
   {
    "duration": 5,
    "start_time": "2024-12-24T03:36:55.632Z"
   },
   {
    "duration": 4,
    "start_time": "2024-12-24T03:36:55.639Z"
   },
   {
    "duration": 16,
    "start_time": "2024-12-24T03:36:55.645Z"
   },
   {
    "duration": 72,
    "start_time": "2024-12-24T03:40:43.950Z"
   },
   {
    "duration": 71,
    "start_time": "2024-12-24T03:40:57.110Z"
   },
   {
    "duration": 23,
    "start_time": "2024-12-24T03:41:17.926Z"
   },
   {
    "duration": 4,
    "start_time": "2024-12-24T03:41:31.624Z"
   },
   {
    "duration": 529,
    "start_time": "2024-12-24T03:41:31.816Z"
   },
   {
    "duration": 7,
    "start_time": "2024-12-24T03:41:32.348Z"
   },
   {
    "duration": 19,
    "start_time": "2024-12-24T03:41:32.627Z"
   },
   {
    "duration": 177,
    "start_time": "2024-12-24T03:41:41.405Z"
   },
   {
    "duration": 18,
    "start_time": "2024-12-24T03:41:42.083Z"
   },
   {
    "duration": 6,
    "start_time": "2024-12-24T03:41:45.751Z"
   },
   {
    "duration": 55,
    "start_time": "2024-12-24T03:41:46.245Z"
   },
   {
    "duration": 95,
    "start_time": "2024-12-24T03:41:48.648Z"
   },
   {
    "duration": 4,
    "start_time": "2024-12-24T03:42:22.928Z"
   },
   {
    "duration": 493,
    "start_time": "2024-12-24T03:42:22.934Z"
   },
   {
    "duration": 11,
    "start_time": "2024-12-24T03:42:23.428Z"
   },
   {
    "duration": 178,
    "start_time": "2024-12-24T03:42:23.441Z"
   },
   {
    "duration": 17,
    "start_time": "2024-12-24T03:42:23.630Z"
   },
   {
    "duration": 7,
    "start_time": "2024-12-24T03:42:23.650Z"
   },
   {
    "duration": 55,
    "start_time": "2024-12-24T03:42:23.659Z"
   },
   {
    "duration": 101,
    "start_time": "2024-12-24T03:42:23.732Z"
   },
   {
    "duration": 17,
    "start_time": "2024-12-24T03:42:23.835Z"
   },
   {
    "duration": 5,
    "start_time": "2024-12-24T03:42:23.854Z"
   },
   {
    "duration": 19,
    "start_time": "2024-12-24T03:42:23.860Z"
   },
   {
    "duration": 205,
    "start_time": "2024-12-24T03:42:23.881Z"
   },
   {
    "duration": 16,
    "start_time": "2024-12-24T03:42:24.088Z"
   },
   {
    "duration": 6,
    "start_time": "2024-12-24T03:42:24.108Z"
   },
   {
    "duration": 81,
    "start_time": "2024-12-24T03:42:24.131Z"
   },
   {
    "duration": 24,
    "start_time": "2024-12-24T03:42:24.214Z"
   },
   {
    "duration": 22,
    "start_time": "2024-12-24T03:42:24.240Z"
   },
   {
    "duration": 15,
    "start_time": "2024-12-24T03:42:24.263Z"
   },
   {
    "duration": 4,
    "start_time": "2024-12-24T03:42:24.280Z"
   },
   {
    "duration": 6,
    "start_time": "2024-12-24T03:42:24.285Z"
   },
   {
    "duration": 42,
    "start_time": "2024-12-24T03:42:24.292Z"
   },
   {
    "duration": 15,
    "start_time": "2024-12-24T03:42:24.336Z"
   },
   {
    "duration": 85,
    "start_time": "2024-12-24T03:42:24.353Z"
   },
   {
    "duration": 6,
    "start_time": "2024-12-24T03:42:24.440Z"
   },
   {
    "duration": 6,
    "start_time": "2024-12-24T03:42:24.447Z"
   },
   {
    "duration": 6,
    "start_time": "2024-12-24T03:42:24.454Z"
   },
   {
    "duration": 16,
    "start_time": "2024-12-24T03:42:24.461Z"
   },
   {
    "duration": 19,
    "start_time": "2024-12-24T03:42:24.479Z"
   },
   {
    "duration": 4,
    "start_time": "2024-12-24T03:44:23.221Z"
   },
   {
    "duration": 5,
    "start_time": "2024-12-24T03:44:23.672Z"
   },
   {
    "duration": 6,
    "start_time": "2024-12-24T03:44:24.286Z"
   },
   {
    "duration": 4,
    "start_time": "2024-12-24T03:44:32.561Z"
   },
   {
    "duration": 189,
    "start_time": "2024-12-24T03:44:32.825Z"
   },
   {
    "duration": 294,
    "start_time": "2024-12-24T03:44:33.146Z"
   },
   {
    "duration": 213,
    "start_time": "2024-12-24T03:44:33.442Z"
   },
   {
    "duration": 236,
    "start_time": "2024-12-24T03:44:37.166Z"
   },
   {
    "duration": 261,
    "start_time": "2024-12-24T03:44:37.406Z"
   },
   {
    "duration": 4,
    "start_time": "2024-12-24T03:44:41.261Z"
   },
   {
    "duration": 1740,
    "start_time": "2024-12-24T03:44:41.531Z"
   },
   {
    "duration": 16,
    "start_time": "2024-12-24T03:44:46.458Z"
   },
   {
    "duration": 10,
    "start_time": "2024-12-24T03:44:47.114Z"
   },
   {
    "duration": 20,
    "start_time": "2024-12-24T03:44:58.470Z"
   },
   {
    "duration": 4,
    "start_time": "2024-12-24T03:45:02.770Z"
   },
   {
    "duration": 21,
    "start_time": "2024-12-24T03:45:30.137Z"
   },
   {
    "duration": 4,
    "start_time": "2024-12-24T03:45:33.247Z"
   },
   {
    "duration": 4,
    "start_time": "2024-12-24T03:45:35.103Z"
   },
   {
    "duration": 13,
    "start_time": "2024-12-24T03:45:39.764Z"
   },
   {
    "duration": 5,
    "start_time": "2024-12-24T03:45:46.161Z"
   },
   {
    "duration": 20,
    "start_time": "2024-12-24T03:45:46.957Z"
   },
   {
    "duration": 4,
    "start_time": "2024-12-24T03:45:54.253Z"
   },
   {
    "duration": 19,
    "start_time": "2024-12-24T03:45:54.978Z"
   },
   {
    "duration": 3,
    "start_time": "2024-12-24T03:53:25.436Z"
   },
   {
    "duration": 508,
    "start_time": "2024-12-24T03:53:25.441Z"
   },
   {
    "duration": 185,
    "start_time": "2024-12-24T03:53:25.951Z"
   },
   {
    "duration": 17,
    "start_time": "2024-12-24T03:53:26.138Z"
   },
   {
    "duration": 5,
    "start_time": "2024-12-24T03:53:26.158Z"
   },
   {
    "duration": 59,
    "start_time": "2024-12-24T03:53:26.165Z"
   },
   {
    "duration": 99,
    "start_time": "2024-12-24T03:53:26.226Z"
   },
   {
    "duration": 20,
    "start_time": "2024-12-24T03:53:26.327Z"
   },
   {
    "duration": 5,
    "start_time": "2024-12-24T03:53:26.349Z"
   },
   {
    "duration": 18,
    "start_time": "2024-12-24T03:53:26.356Z"
   },
   {
    "duration": 201,
    "start_time": "2024-12-24T03:53:26.375Z"
   },
   {
    "duration": 16,
    "start_time": "2024-12-24T03:53:26.578Z"
   },
   {
    "duration": 38,
    "start_time": "2024-12-24T03:53:26.599Z"
   },
   {
    "duration": 81,
    "start_time": "2024-12-24T03:53:26.639Z"
   },
   {
    "duration": 11,
    "start_time": "2024-12-24T03:53:26.721Z"
   },
   {
    "duration": 58,
    "start_time": "2024-12-24T03:53:26.734Z"
   },
   {
    "duration": 12,
    "start_time": "2024-12-24T03:53:26.793Z"
   },
   {
    "duration": 16,
    "start_time": "2024-12-24T03:53:26.811Z"
   },
   {
    "duration": 5,
    "start_time": "2024-12-24T03:53:26.840Z"
   },
   {
    "duration": 5,
    "start_time": "2024-12-24T03:53:26.847Z"
   },
   {
    "duration": 14,
    "start_time": "2024-12-24T03:53:26.854Z"
   },
   {
    "duration": 75,
    "start_time": "2024-12-24T03:53:26.870Z"
   },
   {
    "duration": 7,
    "start_time": "2024-12-24T03:53:26.946Z"
   },
   {
    "duration": 6,
    "start_time": "2024-12-24T03:53:26.954Z"
   },
   {
    "duration": 5,
    "start_time": "2024-12-24T03:53:26.962Z"
   },
   {
    "duration": 89,
    "start_time": "2024-12-24T03:53:26.969Z"
   },
   {
    "duration": 0,
    "start_time": "2024-12-24T03:53:27.061Z"
   },
   {
    "duration": 0,
    "start_time": "2024-12-24T03:53:27.061Z"
   },
   {
    "duration": 0,
    "start_time": "2024-12-24T03:53:27.063Z"
   },
   {
    "duration": 0,
    "start_time": "2024-12-24T03:53:27.063Z"
   },
   {
    "duration": 0,
    "start_time": "2024-12-24T03:53:27.064Z"
   },
   {
    "duration": 0,
    "start_time": "2024-12-24T03:53:27.065Z"
   },
   {
    "duration": 0,
    "start_time": "2024-12-24T03:53:27.066Z"
   },
   {
    "duration": 0,
    "start_time": "2024-12-24T03:53:27.067Z"
   },
   {
    "duration": 0,
    "start_time": "2024-12-24T03:53:27.068Z"
   },
   {
    "duration": 0,
    "start_time": "2024-12-24T03:53:27.069Z"
   },
   {
    "duration": 0,
    "start_time": "2024-12-24T03:53:27.070Z"
   },
   {
    "duration": 0,
    "start_time": "2024-12-24T03:53:27.071Z"
   },
   {
    "duration": 0,
    "start_time": "2024-12-24T03:53:27.072Z"
   },
   {
    "duration": 0,
    "start_time": "2024-12-24T03:53:27.073Z"
   },
   {
    "duration": 0,
    "start_time": "2024-12-24T03:53:27.074Z"
   },
   {
    "duration": 0,
    "start_time": "2024-12-24T03:53:27.075Z"
   },
   {
    "duration": 0,
    "start_time": "2024-12-24T03:53:27.076Z"
   },
   {
    "duration": 0,
    "start_time": "2024-12-24T03:53:27.077Z"
   },
   {
    "duration": 0,
    "start_time": "2024-12-24T03:53:27.078Z"
   },
   {
    "duration": 0,
    "start_time": "2024-12-24T03:53:27.079Z"
   },
   {
    "duration": 0,
    "start_time": "2024-12-24T03:53:27.080Z"
   },
   {
    "duration": 0,
    "start_time": "2024-12-24T03:53:27.081Z"
   },
   {
    "duration": 0,
    "start_time": "2024-12-24T03:53:27.082Z"
   },
   {
    "duration": 0,
    "start_time": "2024-12-24T03:53:27.083Z"
   },
   {
    "duration": 0,
    "start_time": "2024-12-24T03:53:27.084Z"
   },
   {
    "duration": 47,
    "start_time": "2024-12-24T03:55:02.328Z"
   },
   {
    "duration": 14,
    "start_time": "2024-12-24T03:55:31.980Z"
   },
   {
    "duration": 4,
    "start_time": "2024-12-24T03:55:36.536Z"
   },
   {
    "duration": 521,
    "start_time": "2024-12-24T03:55:36.542Z"
   },
   {
    "duration": 192,
    "start_time": "2024-12-24T03:55:37.065Z"
   },
   {
    "duration": 25,
    "start_time": "2024-12-24T03:55:37.260Z"
   },
   {
    "duration": 9,
    "start_time": "2024-12-24T03:55:37.288Z"
   },
   {
    "duration": 68,
    "start_time": "2024-12-24T03:55:37.299Z"
   },
   {
    "duration": 106,
    "start_time": "2024-12-24T03:55:37.369Z"
   },
   {
    "duration": 17,
    "start_time": "2024-12-24T03:55:37.477Z"
   },
   {
    "duration": 5,
    "start_time": "2024-12-24T03:55:37.495Z"
   },
   {
    "duration": 32,
    "start_time": "2024-12-24T03:55:37.515Z"
   },
   {
    "duration": 176,
    "start_time": "2024-12-24T03:55:37.548Z"
   },
   {
    "duration": 19,
    "start_time": "2024-12-24T03:55:37.725Z"
   },
   {
    "duration": 9,
    "start_time": "2024-12-24T03:55:37.745Z"
   },
   {
    "duration": 97,
    "start_time": "2024-12-24T03:55:37.759Z"
   },
   {
    "duration": 10,
    "start_time": "2024-12-24T03:55:37.857Z"
   },
   {
    "duration": 143,
    "start_time": "2024-12-24T03:55:37.868Z"
   },
   {
    "duration": 28,
    "start_time": "2024-12-24T03:55:38.016Z"
   },
   {
    "duration": 7,
    "start_time": "2024-12-24T03:55:38.048Z"
   },
   {
    "duration": 10,
    "start_time": "2024-12-24T03:55:38.056Z"
   },
   {
    "duration": 8,
    "start_time": "2024-12-24T03:55:38.068Z"
   },
   {
    "duration": 13,
    "start_time": "2024-12-24T03:55:38.079Z"
   },
   {
    "duration": 74,
    "start_time": "2024-12-24T03:55:38.094Z"
   },
   {
    "duration": 7,
    "start_time": "2024-12-24T03:55:38.170Z"
   },
   {
    "duration": 5,
    "start_time": "2024-12-24T03:55:38.180Z"
   },
   {
    "duration": 37,
    "start_time": "2024-12-24T03:55:38.186Z"
   },
   {
    "duration": 14,
    "start_time": "2024-12-24T03:55:38.235Z"
   },
   {
    "duration": 5,
    "start_time": "2024-12-24T03:55:38.250Z"
   },
   {
    "duration": 6,
    "start_time": "2024-12-24T03:55:38.256Z"
   },
   {
    "duration": 5,
    "start_time": "2024-12-24T03:55:38.264Z"
   },
   {
    "duration": 3,
    "start_time": "2024-12-24T03:55:38.271Z"
   },
   {
    "duration": 214,
    "start_time": "2024-12-24T03:55:38.275Z"
   },
   {
    "duration": 208,
    "start_time": "2024-12-24T03:55:38.491Z"
   },
   {
    "duration": 226,
    "start_time": "2024-12-24T03:55:38.701Z"
   },
   {
    "duration": 245,
    "start_time": "2024-12-24T03:55:38.929Z"
   },
   {
    "duration": 272,
    "start_time": "2024-12-24T03:55:39.175Z"
   },
   {
    "duration": 7,
    "start_time": "2024-12-24T03:55:39.448Z"
   },
   {
    "duration": 1743,
    "start_time": "2024-12-24T03:55:39.458Z"
   },
   {
    "duration": 30,
    "start_time": "2024-12-24T03:55:41.205Z"
   },
   {
    "duration": 268,
    "start_time": "2024-12-24T03:55:41.240Z"
   },
   {
    "duration": 0,
    "start_time": "2024-12-24T03:55:41.510Z"
   },
   {
    "duration": 0,
    "start_time": "2024-12-24T03:55:41.515Z"
   },
   {
    "duration": 0,
    "start_time": "2024-12-24T03:55:41.515Z"
   },
   {
    "duration": 0,
    "start_time": "2024-12-24T03:55:41.516Z"
   },
   {
    "duration": 0,
    "start_time": "2024-12-24T03:55:41.516Z"
   },
   {
    "duration": 0,
    "start_time": "2024-12-24T03:55:41.517Z"
   },
   {
    "duration": 0,
    "start_time": "2024-12-24T03:55:41.517Z"
   },
   {
    "duration": 0,
    "start_time": "2024-12-24T03:55:41.523Z"
   },
   {
    "duration": 0,
    "start_time": "2024-12-24T03:55:41.523Z"
   },
   {
    "duration": 0,
    "start_time": "2024-12-24T03:55:41.524Z"
   },
   {
    "duration": 0,
    "start_time": "2024-12-24T03:55:41.524Z"
   },
   {
    "duration": 0,
    "start_time": "2024-12-24T03:55:41.525Z"
   },
   {
    "duration": 17,
    "start_time": "2024-12-24T03:57:00.846Z"
   },
   {
    "duration": 49,
    "start_time": "2024-12-24T03:57:14.540Z"
   },
   {
    "duration": 4,
    "start_time": "2024-12-24T04:00:17.245Z"
   },
   {
    "duration": 511,
    "start_time": "2024-12-24T04:00:17.252Z"
   },
   {
    "duration": 171,
    "start_time": "2024-12-24T04:00:17.764Z"
   },
   {
    "duration": 18,
    "start_time": "2024-12-24T04:00:17.936Z"
   },
   {
    "duration": 6,
    "start_time": "2024-12-24T04:00:17.957Z"
   },
   {
    "duration": 79,
    "start_time": "2024-12-24T04:00:17.964Z"
   },
   {
    "duration": 107,
    "start_time": "2024-12-24T04:00:18.045Z"
   },
   {
    "duration": 16,
    "start_time": "2024-12-24T04:00:18.154Z"
   },
   {
    "duration": 5,
    "start_time": "2024-12-24T04:00:18.172Z"
   },
   {
    "duration": 18,
    "start_time": "2024-12-24T04:00:18.178Z"
   },
   {
    "duration": 181,
    "start_time": "2024-12-24T04:00:18.219Z"
   },
   {
    "duration": 37,
    "start_time": "2024-12-24T04:00:18.402Z"
   },
   {
    "duration": 6,
    "start_time": "2024-12-24T04:00:18.441Z"
   },
   {
    "duration": 82,
    "start_time": "2024-12-24T04:00:18.450Z"
   },
   {
    "duration": 10,
    "start_time": "2024-12-24T04:00:18.533Z"
   },
   {
    "duration": 57,
    "start_time": "2024-12-24T04:00:18.545Z"
   },
   {
    "duration": 36,
    "start_time": "2024-12-24T04:00:18.603Z"
   },
   {
    "duration": 4,
    "start_time": "2024-12-24T04:00:18.641Z"
   },
   {
    "duration": 5,
    "start_time": "2024-12-24T04:00:18.647Z"
   },
   {
    "duration": 5,
    "start_time": "2024-12-24T04:00:18.654Z"
   },
   {
    "duration": 13,
    "start_time": "2024-12-24T04:00:18.661Z"
   },
   {
    "duration": 91,
    "start_time": "2024-12-24T04:00:18.676Z"
   },
   {
    "duration": 6,
    "start_time": "2024-12-24T04:00:18.769Z"
   },
   {
    "duration": 5,
    "start_time": "2024-12-24T04:00:18.777Z"
   },
   {
    "duration": 6,
    "start_time": "2024-12-24T04:00:18.784Z"
   },
   {
    "duration": 70,
    "start_time": "2024-12-24T04:00:18.792Z"
   },
   {
    "duration": 0,
    "start_time": "2024-12-24T04:00:18.864Z"
   },
   {
    "duration": 0,
    "start_time": "2024-12-24T04:00:18.865Z"
   },
   {
    "duration": 0,
    "start_time": "2024-12-24T04:00:18.867Z"
   },
   {
    "duration": 0,
    "start_time": "2024-12-24T04:00:18.868Z"
   },
   {
    "duration": 0,
    "start_time": "2024-12-24T04:00:18.869Z"
   },
   {
    "duration": 0,
    "start_time": "2024-12-24T04:00:18.871Z"
   },
   {
    "duration": 0,
    "start_time": "2024-12-24T04:00:18.872Z"
   },
   {
    "duration": 0,
    "start_time": "2024-12-24T04:00:18.874Z"
   },
   {
    "duration": 0,
    "start_time": "2024-12-24T04:00:18.875Z"
   },
   {
    "duration": 0,
    "start_time": "2024-12-24T04:00:18.876Z"
   },
   {
    "duration": 0,
    "start_time": "2024-12-24T04:00:18.878Z"
   },
   {
    "duration": 0,
    "start_time": "2024-12-24T04:00:18.881Z"
   },
   {
    "duration": 0,
    "start_time": "2024-12-24T04:00:18.882Z"
   },
   {
    "duration": 0,
    "start_time": "2024-12-24T04:00:18.912Z"
   },
   {
    "duration": 0,
    "start_time": "2024-12-24T04:00:18.913Z"
   },
   {
    "duration": 0,
    "start_time": "2024-12-24T04:00:18.913Z"
   },
   {
    "duration": 0,
    "start_time": "2024-12-24T04:00:18.914Z"
   },
   {
    "duration": 0,
    "start_time": "2024-12-24T04:00:18.915Z"
   },
   {
    "duration": 0,
    "start_time": "2024-12-24T04:00:18.915Z"
   },
   {
    "duration": 0,
    "start_time": "2024-12-24T04:00:18.919Z"
   },
   {
    "duration": 0,
    "start_time": "2024-12-24T04:00:18.920Z"
   },
   {
    "duration": 0,
    "start_time": "2024-12-24T04:00:18.921Z"
   },
   {
    "duration": 0,
    "start_time": "2024-12-24T04:00:18.922Z"
   },
   {
    "duration": 0,
    "start_time": "2024-12-24T04:00:18.922Z"
   },
   {
    "duration": 0,
    "start_time": "2024-12-24T04:00:18.926Z"
   },
   {
    "duration": 10,
    "start_time": "2024-12-24T04:00:42.180Z"
   },
   {
    "duration": 4,
    "start_time": "2024-12-24T04:00:49.890Z"
   },
   {
    "duration": 567,
    "start_time": "2024-12-24T04:00:49.897Z"
   },
   {
    "duration": 177,
    "start_time": "2024-12-24T04:00:50.466Z"
   },
   {
    "duration": 17,
    "start_time": "2024-12-24T04:00:50.645Z"
   },
   {
    "duration": 6,
    "start_time": "2024-12-24T04:00:50.665Z"
   },
   {
    "duration": 71,
    "start_time": "2024-12-24T04:00:50.672Z"
   },
   {
    "duration": 102,
    "start_time": "2024-12-24T04:00:50.745Z"
   },
   {
    "duration": 16,
    "start_time": "2024-12-24T04:00:50.848Z"
   },
   {
    "duration": 5,
    "start_time": "2024-12-24T04:00:50.865Z"
   },
   {
    "duration": 18,
    "start_time": "2024-12-24T04:00:50.872Z"
   },
   {
    "duration": 198,
    "start_time": "2024-12-24T04:00:50.893Z"
   },
   {
    "duration": 47,
    "start_time": "2024-12-24T04:00:51.094Z"
   },
   {
    "duration": 7,
    "start_time": "2024-12-24T04:00:51.143Z"
   },
   {
    "duration": 81,
    "start_time": "2024-12-24T04:00:51.154Z"
   },
   {
    "duration": 11,
    "start_time": "2024-12-24T04:00:51.237Z"
   },
   {
    "duration": 142,
    "start_time": "2024-12-24T04:00:51.250Z"
   },
   {
    "duration": 23,
    "start_time": "2024-12-24T04:00:51.393Z"
   },
   {
    "duration": 4,
    "start_time": "2024-12-24T04:00:51.417Z"
   },
   {
    "duration": 9,
    "start_time": "2024-12-24T04:00:51.422Z"
   },
   {
    "duration": 11,
    "start_time": "2024-12-24T04:00:51.433Z"
   },
   {
    "duration": 17,
    "start_time": "2024-12-24T04:00:51.445Z"
   },
   {
    "duration": 85,
    "start_time": "2024-12-24T04:00:51.463Z"
   },
   {
    "duration": 7,
    "start_time": "2024-12-24T04:00:51.549Z"
   },
   {
    "duration": 5,
    "start_time": "2024-12-24T04:00:51.558Z"
   },
   {
    "duration": 6,
    "start_time": "2024-12-24T04:00:51.565Z"
   },
   {
    "duration": 10,
    "start_time": "2024-12-24T04:00:51.572Z"
   },
   {
    "duration": 5,
    "start_time": "2024-12-24T04:00:51.583Z"
   },
   {
    "duration": 35,
    "start_time": "2024-12-24T04:00:51.589Z"
   },
   {
    "duration": 14,
    "start_time": "2024-12-24T04:00:51.625Z"
   },
   {
    "duration": 3,
    "start_time": "2024-12-24T04:00:51.641Z"
   },
   {
    "duration": 200,
    "start_time": "2024-12-24T04:00:51.645Z"
   },
   {
    "duration": 208,
    "start_time": "2024-12-24T04:00:51.847Z"
   },
   {
    "duration": 213,
    "start_time": "2024-12-24T04:00:52.058Z"
   },
   {
    "duration": 264,
    "start_time": "2024-12-24T04:00:52.273Z"
   },
   {
    "duration": 263,
    "start_time": "2024-12-24T04:00:52.539Z"
   },
   {
    "duration": 13,
    "start_time": "2024-12-24T04:00:52.804Z"
   },
   {
    "duration": 1685,
    "start_time": "2024-12-24T04:00:52.818Z"
   },
   {
    "duration": 19,
    "start_time": "2024-12-24T04:00:54.505Z"
   },
   {
    "duration": 42,
    "start_time": "2024-12-24T04:00:54.535Z"
   },
   {
    "duration": 0,
    "start_time": "2024-12-24T04:00:54.579Z"
   },
   {
    "duration": 0,
    "start_time": "2024-12-24T04:00:54.581Z"
   },
   {
    "duration": 0,
    "start_time": "2024-12-24T04:00:54.582Z"
   },
   {
    "duration": 0,
    "start_time": "2024-12-24T04:00:54.584Z"
   },
   {
    "duration": 0,
    "start_time": "2024-12-24T04:00:54.585Z"
   },
   {
    "duration": 0,
    "start_time": "2024-12-24T04:00:54.586Z"
   },
   {
    "duration": 1,
    "start_time": "2024-12-24T04:00:54.587Z"
   },
   {
    "duration": 0,
    "start_time": "2024-12-24T04:00:54.589Z"
   },
   {
    "duration": 0,
    "start_time": "2024-12-24T04:00:54.590Z"
   },
   {
    "duration": 0,
    "start_time": "2024-12-24T04:00:54.592Z"
   },
   {
    "duration": 0,
    "start_time": "2024-12-24T04:00:54.593Z"
   },
   {
    "duration": 0,
    "start_time": "2024-12-24T04:00:54.594Z"
   },
   {
    "duration": 3,
    "start_time": "2024-12-24T04:04:46.200Z"
   },
   {
    "duration": 489,
    "start_time": "2024-12-24T04:04:46.206Z"
   },
   {
    "duration": 168,
    "start_time": "2024-12-24T04:04:46.697Z"
   },
   {
    "duration": 16,
    "start_time": "2024-12-24T04:04:46.868Z"
   },
   {
    "duration": 7,
    "start_time": "2024-12-24T04:04:46.887Z"
   },
   {
    "duration": 52,
    "start_time": "2024-12-24T04:04:46.911Z"
   },
   {
    "duration": 102,
    "start_time": "2024-12-24T04:04:46.965Z"
   },
   {
    "duration": 17,
    "start_time": "2024-12-24T04:04:47.069Z"
   },
   {
    "duration": 4,
    "start_time": "2024-12-24T04:04:47.088Z"
   },
   {
    "duration": 34,
    "start_time": "2024-12-24T04:04:47.094Z"
   },
   {
    "duration": 189,
    "start_time": "2024-12-24T04:04:47.129Z"
   },
   {
    "duration": 16,
    "start_time": "2024-12-24T04:04:47.319Z"
   },
   {
    "duration": 7,
    "start_time": "2024-12-24T04:04:47.337Z"
   },
   {
    "duration": 92,
    "start_time": "2024-12-24T04:04:47.347Z"
   },
   {
    "duration": 11,
    "start_time": "2024-12-24T04:04:47.440Z"
   },
   {
    "duration": 67,
    "start_time": "2024-12-24T04:04:47.453Z"
   },
   {
    "duration": 12,
    "start_time": "2024-12-24T04:04:47.521Z"
   },
   {
    "duration": 5,
    "start_time": "2024-12-24T04:04:47.535Z"
   },
   {
    "duration": 5,
    "start_time": "2024-12-24T04:04:47.542Z"
   },
   {
    "duration": 5,
    "start_time": "2024-12-24T04:04:47.549Z"
   },
   {
    "duration": 17,
    "start_time": "2024-12-24T04:04:47.556Z"
   },
   {
    "duration": 98,
    "start_time": "2024-12-24T04:04:47.575Z"
   },
   {
    "duration": 6,
    "start_time": "2024-12-24T04:04:47.675Z"
   },
   {
    "duration": 6,
    "start_time": "2024-12-24T04:04:47.683Z"
   },
   {
    "duration": 27,
    "start_time": "2024-12-24T04:04:47.690Z"
   },
   {
    "duration": 10,
    "start_time": "2024-12-24T04:04:47.718Z"
   },
   {
    "duration": 6,
    "start_time": "2024-12-24T04:04:47.729Z"
   },
   {
    "duration": 5,
    "start_time": "2024-12-24T04:04:47.736Z"
   },
   {
    "duration": 4,
    "start_time": "2024-12-24T04:04:47.742Z"
   },
   {
    "duration": 4,
    "start_time": "2024-12-24T04:04:47.748Z"
   },
   {
    "duration": 334,
    "start_time": "2024-12-24T04:04:47.754Z"
   },
   {
    "duration": 210,
    "start_time": "2024-12-24T04:04:48.091Z"
   },
   {
    "duration": 203,
    "start_time": "2024-12-24T04:04:48.303Z"
   },
   {
    "duration": 251,
    "start_time": "2024-12-24T04:04:48.508Z"
   },
   {
    "duration": 252,
    "start_time": "2024-12-24T04:04:48.761Z"
   },
   {
    "duration": 4,
    "start_time": "2024-12-24T04:04:49.015Z"
   },
   {
    "duration": 1630,
    "start_time": "2024-12-24T04:04:49.020Z"
   },
   {
    "duration": 18,
    "start_time": "2024-12-24T04:04:50.652Z"
   },
   {
    "duration": 56,
    "start_time": "2024-12-24T04:04:50.671Z"
   },
   {
    "duration": 0,
    "start_time": "2024-12-24T04:04:50.729Z"
   },
   {
    "duration": 0,
    "start_time": "2024-12-24T04:04:50.729Z"
   },
   {
    "duration": 0,
    "start_time": "2024-12-24T04:04:50.731Z"
   },
   {
    "duration": 0,
    "start_time": "2024-12-24T04:04:50.732Z"
   },
   {
    "duration": 0,
    "start_time": "2024-12-24T04:04:50.733Z"
   },
   {
    "duration": 0,
    "start_time": "2024-12-24T04:04:50.734Z"
   },
   {
    "duration": 0,
    "start_time": "2024-12-24T04:04:50.735Z"
   },
   {
    "duration": 0,
    "start_time": "2024-12-24T04:04:50.736Z"
   },
   {
    "duration": 0,
    "start_time": "2024-12-24T04:04:50.737Z"
   },
   {
    "duration": 0,
    "start_time": "2024-12-24T04:04:50.738Z"
   },
   {
    "duration": 0,
    "start_time": "2024-12-24T04:04:50.739Z"
   },
   {
    "duration": 0,
    "start_time": "2024-12-24T04:04:50.740Z"
   },
   {
    "duration": 5,
    "start_time": "2024-12-24T04:06:29.401Z"
   },
   {
    "duration": 10,
    "start_time": "2024-12-24T04:06:31.690Z"
   },
   {
    "duration": 3,
    "start_time": "2024-12-24T04:06:39.403Z"
   },
   {
    "duration": 504,
    "start_time": "2024-12-24T04:06:39.411Z"
   },
   {
    "duration": 181,
    "start_time": "2024-12-24T04:06:39.917Z"
   },
   {
    "duration": 22,
    "start_time": "2024-12-24T04:06:40.099Z"
   },
   {
    "duration": 7,
    "start_time": "2024-12-24T04:06:40.122Z"
   },
   {
    "duration": 52,
    "start_time": "2024-12-24T04:06:40.132Z"
   },
   {
    "duration": 114,
    "start_time": "2024-12-24T04:06:40.185Z"
   },
   {
    "duration": 22,
    "start_time": "2024-12-24T04:06:40.300Z"
   },
   {
    "duration": 6,
    "start_time": "2024-12-24T04:06:40.324Z"
   },
   {
    "duration": 17,
    "start_time": "2024-12-24T04:06:40.332Z"
   },
   {
    "duration": 196,
    "start_time": "2024-12-24T04:06:40.351Z"
   },
   {
    "duration": 16,
    "start_time": "2024-12-24T04:06:40.549Z"
   },
   {
    "duration": 7,
    "start_time": "2024-12-24T04:06:40.567Z"
   },
   {
    "duration": 91,
    "start_time": "2024-12-24T04:06:40.576Z"
   },
   {
    "duration": 11,
    "start_time": "2024-12-24T04:06:40.672Z"
   },
   {
    "duration": 67,
    "start_time": "2024-12-24T04:06:40.684Z"
   },
   {
    "duration": 12,
    "start_time": "2024-12-24T04:06:40.753Z"
   },
   {
    "duration": 4,
    "start_time": "2024-12-24T04:06:40.767Z"
   },
   {
    "duration": 6,
    "start_time": "2024-12-24T04:06:40.773Z"
   },
   {
    "duration": 31,
    "start_time": "2024-12-24T04:06:40.781Z"
   },
   {
    "duration": 13,
    "start_time": "2024-12-24T04:06:40.814Z"
   },
   {
    "duration": 82,
    "start_time": "2024-12-24T04:06:40.829Z"
   },
   {
    "duration": 7,
    "start_time": "2024-12-24T04:06:40.913Z"
   },
   {
    "duration": 4,
    "start_time": "2024-12-24T04:06:40.922Z"
   },
   {
    "duration": 7,
    "start_time": "2024-12-24T04:06:40.928Z"
   },
   {
    "duration": 151,
    "start_time": "2024-12-24T04:06:40.936Z"
   },
   {
    "duration": 4,
    "start_time": "2024-12-24T04:06:41.089Z"
   },
   {
    "duration": 18,
    "start_time": "2024-12-24T04:06:41.095Z"
   },
   {
    "duration": 5,
    "start_time": "2024-12-24T04:06:41.115Z"
   },
   {
    "duration": 3,
    "start_time": "2024-12-24T04:06:41.122Z"
   },
   {
    "duration": 205,
    "start_time": "2024-12-24T04:06:41.127Z"
   },
   {
    "duration": 195,
    "start_time": "2024-12-24T04:06:41.334Z"
   },
   {
    "duration": 207,
    "start_time": "2024-12-24T04:06:41.531Z"
   },
   {
    "duration": 242,
    "start_time": "2024-12-24T04:06:41.740Z"
   },
   {
    "duration": 260,
    "start_time": "2024-12-24T04:06:41.984Z"
   },
   {
    "duration": 4,
    "start_time": "2024-12-24T04:06:42.246Z"
   },
   {
    "duration": 1724,
    "start_time": "2024-12-24T04:06:42.252Z"
   },
   {
    "duration": 17,
    "start_time": "2024-12-24T04:06:43.978Z"
   },
   {
    "duration": 18,
    "start_time": "2024-12-24T04:06:43.997Z"
   },
   {
    "duration": 9,
    "start_time": "2024-12-24T04:06:44.017Z"
   },
   {
    "duration": 3,
    "start_time": "2024-12-24T04:06:44.028Z"
   },
   {
    "duration": 4,
    "start_time": "2024-12-24T04:06:44.036Z"
   },
   {
    "duration": 11,
    "start_time": "2024-12-24T04:06:44.042Z"
   },
   {
    "duration": 4,
    "start_time": "2024-12-24T04:06:44.055Z"
   },
   {
    "duration": 4,
    "start_time": "2024-12-24T04:06:44.061Z"
   },
   {
    "duration": 51,
    "start_time": "2024-12-24T04:06:44.066Z"
   },
   {
    "duration": 6,
    "start_time": "2024-12-24T04:06:44.119Z"
   },
   {
    "duration": 4,
    "start_time": "2024-12-24T04:06:44.127Z"
   },
   {
    "duration": 486,
    "start_time": "2024-12-24T04:06:44.132Z"
   },
   {
    "duration": 4561,
    "start_time": "2024-12-24T04:06:44.621Z"
   },
   {
    "duration": 2829,
    "start_time": "2024-12-24T04:28:56.217Z"
   },
   {
    "duration": 642,
    "start_time": "2024-12-24T04:28:59.048Z"
   },
   {
    "duration": 233,
    "start_time": "2024-12-24T04:28:59.691Z"
   },
   {
    "duration": 18,
    "start_time": "2024-12-24T04:28:59.930Z"
   },
   {
    "duration": 6,
    "start_time": "2024-12-24T04:28:59.951Z"
   },
   {
    "duration": 73,
    "start_time": "2024-12-24T04:28:59.959Z"
   },
   {
    "duration": 105,
    "start_time": "2024-12-24T04:29:00.034Z"
   },
   {
    "duration": 17,
    "start_time": "2024-12-24T04:29:00.140Z"
   },
   {
    "duration": 6,
    "start_time": "2024-12-24T04:29:00.159Z"
   },
   {
    "duration": 21,
    "start_time": "2024-12-24T04:29:00.167Z"
   },
   {
    "duration": 206,
    "start_time": "2024-12-24T04:29:00.190Z"
   },
   {
    "duration": 28,
    "start_time": "2024-12-24T04:29:00.398Z"
   },
   {
    "duration": 9,
    "start_time": "2024-12-24T04:29:00.427Z"
   },
   {
    "duration": 93,
    "start_time": "2024-12-24T04:29:00.441Z"
   },
   {
    "duration": 11,
    "start_time": "2024-12-24T04:29:00.536Z"
   },
   {
    "duration": 58,
    "start_time": "2024-12-24T04:29:00.548Z"
   },
   {
    "duration": 35,
    "start_time": "2024-12-24T04:29:00.608Z"
   },
   {
    "duration": 12,
    "start_time": "2024-12-24T04:29:00.644Z"
   },
   {
    "duration": 8,
    "start_time": "2024-12-24T04:29:00.657Z"
   },
   {
    "duration": 9,
    "start_time": "2024-12-24T04:29:00.668Z"
   },
   {
    "duration": 24,
    "start_time": "2024-12-24T04:29:00.679Z"
   },
   {
    "duration": 90,
    "start_time": "2024-12-24T04:29:00.705Z"
   },
   {
    "duration": 7,
    "start_time": "2024-12-24T04:29:00.797Z"
   },
   {
    "duration": 5,
    "start_time": "2024-12-24T04:29:00.806Z"
   },
   {
    "duration": 19,
    "start_time": "2024-12-24T04:29:00.813Z"
   },
   {
    "duration": 10,
    "start_time": "2024-12-24T04:29:00.834Z"
   },
   {
    "duration": 6,
    "start_time": "2024-12-24T04:29:00.846Z"
   },
   {
    "duration": 4,
    "start_time": "2024-12-24T04:29:00.853Z"
   },
   {
    "duration": 4,
    "start_time": "2024-12-24T04:29:00.859Z"
   },
   {
    "duration": 4,
    "start_time": "2024-12-24T04:29:00.865Z"
   },
   {
    "duration": 250,
    "start_time": "2024-12-24T04:29:00.871Z"
   },
   {
    "duration": 203,
    "start_time": "2024-12-24T04:29:01.123Z"
   },
   {
    "duration": 215,
    "start_time": "2024-12-24T04:29:01.327Z"
   },
   {
    "duration": 250,
    "start_time": "2024-12-24T04:29:01.543Z"
   },
   {
    "duration": 347,
    "start_time": "2024-12-24T04:29:01.795Z"
   },
   {
    "duration": 5,
    "start_time": "2024-12-24T04:29:02.143Z"
   },
   {
    "duration": 1602,
    "start_time": "2024-12-24T04:29:02.150Z"
   },
   {
    "duration": 16,
    "start_time": "2024-12-24T04:29:03.754Z"
   },
   {
    "duration": 7,
    "start_time": "2024-12-24T04:29:03.772Z"
   },
   {
    "duration": 10,
    "start_time": "2024-12-24T04:29:03.781Z"
   },
   {
    "duration": 4,
    "start_time": "2024-12-24T04:29:03.795Z"
   },
   {
    "duration": 33,
    "start_time": "2024-12-24T04:29:03.800Z"
   },
   {
    "duration": 12,
    "start_time": "2024-12-24T04:29:03.835Z"
   },
   {
    "duration": 4,
    "start_time": "2024-12-24T04:29:03.849Z"
   },
   {
    "duration": 3,
    "start_time": "2024-12-24T04:29:03.855Z"
   },
   {
    "duration": 20,
    "start_time": "2024-12-24T04:29:09.214Z"
   },
   {
    "duration": 7,
    "start_time": "2024-12-24T04:29:27.030Z"
   },
   {
    "duration": 20,
    "start_time": "2024-12-24T04:29:39.953Z"
   },
   {
    "duration": 19,
    "start_time": "2024-12-24T04:30:00.545Z"
   },
   {
    "duration": 7,
    "start_time": "2024-12-24T04:30:18.382Z"
   },
   {
    "duration": 17,
    "start_time": "2024-12-24T04:30:41.629Z"
   },
   {
    "duration": 3,
    "start_time": "2024-12-24T04:39:26.860Z"
   },
   {
    "duration": 526,
    "start_time": "2024-12-24T04:39:26.865Z"
   },
   {
    "duration": 210,
    "start_time": "2024-12-24T04:39:27.394Z"
   },
   {
    "duration": 38,
    "start_time": "2024-12-24T04:39:27.606Z"
   },
   {
    "duration": 9,
    "start_time": "2024-12-24T04:39:27.649Z"
   },
   {
    "duration": 84,
    "start_time": "2024-12-24T04:39:27.660Z"
   },
   {
    "duration": 132,
    "start_time": "2024-12-24T04:39:27.746Z"
   },
   {
    "duration": 18,
    "start_time": "2024-12-24T04:39:27.881Z"
   },
   {
    "duration": 6,
    "start_time": "2024-12-24T04:39:27.901Z"
   },
   {
    "duration": 37,
    "start_time": "2024-12-24T04:39:27.911Z"
   },
   {
    "duration": 234,
    "start_time": "2024-12-24T04:39:27.952Z"
   },
   {
    "duration": 18,
    "start_time": "2024-12-24T04:39:28.188Z"
   },
   {
    "duration": 6,
    "start_time": "2024-12-24T04:39:28.208Z"
   },
   {
    "duration": 88,
    "start_time": "2024-12-24T04:39:28.235Z"
   },
   {
    "duration": 16,
    "start_time": "2024-12-24T04:39:28.327Z"
   },
   {
    "duration": 90,
    "start_time": "2024-12-24T04:39:28.345Z"
   },
   {
    "duration": 17,
    "start_time": "2024-12-24T04:39:28.437Z"
   },
   {
    "duration": 4,
    "start_time": "2024-12-24T04:39:28.456Z"
   },
   {
    "duration": 7,
    "start_time": "2024-12-24T04:39:28.461Z"
   },
   {
    "duration": 5,
    "start_time": "2024-12-24T04:39:28.470Z"
   },
   {
    "duration": 13,
    "start_time": "2024-12-24T04:39:28.477Z"
   },
   {
    "duration": 102,
    "start_time": "2024-12-24T04:39:28.492Z"
   },
   {
    "duration": 6,
    "start_time": "2024-12-24T04:39:28.596Z"
   },
   {
    "duration": 5,
    "start_time": "2024-12-24T04:39:28.604Z"
   },
   {
    "duration": 23,
    "start_time": "2024-12-24T04:39:28.611Z"
   },
   {
    "duration": 10,
    "start_time": "2024-12-24T04:39:28.635Z"
   },
   {
    "duration": 11,
    "start_time": "2024-12-24T04:39:28.646Z"
   },
   {
    "duration": 6,
    "start_time": "2024-12-24T04:39:28.658Z"
   },
   {
    "duration": 6,
    "start_time": "2024-12-24T04:39:28.668Z"
   },
   {
    "duration": 3,
    "start_time": "2024-12-24T04:39:28.676Z"
   },
   {
    "duration": 218,
    "start_time": "2024-12-24T04:39:28.681Z"
   },
   {
    "duration": 202,
    "start_time": "2024-12-24T04:39:28.901Z"
   },
   {
    "duration": 253,
    "start_time": "2024-12-24T04:39:29.104Z"
   },
   {
    "duration": 376,
    "start_time": "2024-12-24T04:39:29.359Z"
   },
   {
    "duration": 283,
    "start_time": "2024-12-24T04:39:29.737Z"
   },
   {
    "duration": 12,
    "start_time": "2024-12-24T04:39:30.022Z"
   },
   {
    "duration": 1802,
    "start_time": "2024-12-24T04:39:30.036Z"
   },
   {
    "duration": 19,
    "start_time": "2024-12-24T04:39:31.840Z"
   },
   {
    "duration": 8,
    "start_time": "2024-12-24T04:39:31.861Z"
   },
   {
    "duration": 10,
    "start_time": "2024-12-24T04:39:31.870Z"
   },
   {
    "duration": 4,
    "start_time": "2024-12-24T04:39:31.882Z"
   },
   {
    "duration": 4,
    "start_time": "2024-12-24T04:39:31.888Z"
   },
   {
    "duration": 48,
    "start_time": "2024-12-24T04:39:31.894Z"
   },
   {
    "duration": 10,
    "start_time": "2024-12-24T04:39:31.944Z"
   },
   {
    "duration": 33,
    "start_time": "2024-12-24T04:39:31.958Z"
   },
   {
    "duration": 19,
    "start_time": "2024-12-24T04:39:56.432Z"
   },
   {
    "duration": 12,
    "start_time": "2024-12-24T04:41:37.704Z"
   },
   {
    "duration": 13,
    "start_time": "2024-12-24T04:41:41.438Z"
   },
   {
    "duration": 2797,
    "start_time": "2024-12-24T19:54:13.953Z"
   },
   {
    "duration": 627,
    "start_time": "2024-12-24T19:54:16.752Z"
   },
   {
    "duration": 172,
    "start_time": "2024-12-24T19:54:17.381Z"
   },
   {
    "duration": 16,
    "start_time": "2024-12-24T19:54:17.556Z"
   },
   {
    "duration": 6,
    "start_time": "2024-12-24T19:54:17.574Z"
   },
   {
    "duration": 73,
    "start_time": "2024-12-24T19:54:17.581Z"
   },
   {
    "duration": 103,
    "start_time": "2024-12-24T19:54:17.656Z"
   },
   {
    "duration": 17,
    "start_time": "2024-12-24T19:54:17.761Z"
   },
   {
    "duration": 5,
    "start_time": "2024-12-24T19:54:17.780Z"
   },
   {
    "duration": 17,
    "start_time": "2024-12-24T19:54:17.805Z"
   },
   {
    "duration": 184,
    "start_time": "2024-12-24T19:54:17.824Z"
   },
   {
    "duration": 18,
    "start_time": "2024-12-24T19:54:18.011Z"
   },
   {
    "duration": 6,
    "start_time": "2024-12-24T19:54:18.030Z"
   },
   {
    "duration": 95,
    "start_time": "2024-12-24T19:54:18.038Z"
   },
   {
    "duration": 10,
    "start_time": "2024-12-24T19:54:18.135Z"
   },
   {
    "duration": 68,
    "start_time": "2024-12-24T19:54:18.146Z"
   },
   {
    "duration": 13,
    "start_time": "2024-12-24T19:54:18.216Z"
   },
   {
    "duration": 4,
    "start_time": "2024-12-24T19:54:18.230Z"
   },
   {
    "duration": 6,
    "start_time": "2024-12-24T19:54:18.236Z"
   },
   {
    "duration": 5,
    "start_time": "2024-12-24T19:54:18.243Z"
   },
   {
    "duration": 19,
    "start_time": "2024-12-24T19:54:18.250Z"
   },
   {
    "duration": 108,
    "start_time": "2024-12-24T19:54:18.271Z"
   },
   {
    "duration": 7,
    "start_time": "2024-12-24T19:54:18.382Z"
   },
   {
    "duration": 16,
    "start_time": "2024-12-24T19:54:18.391Z"
   },
   {
    "duration": 6,
    "start_time": "2024-12-24T19:54:18.409Z"
   },
   {
    "duration": 10,
    "start_time": "2024-12-24T19:54:18.416Z"
   },
   {
    "duration": 4,
    "start_time": "2024-12-24T19:54:18.428Z"
   },
   {
    "duration": 5,
    "start_time": "2024-12-24T19:54:18.437Z"
   },
   {
    "duration": 4,
    "start_time": "2024-12-24T19:54:18.444Z"
   },
   {
    "duration": 4,
    "start_time": "2024-12-24T19:54:18.451Z"
   },
   {
    "duration": 242,
    "start_time": "2024-12-24T19:54:18.457Z"
   },
   {
    "duration": 201,
    "start_time": "2024-12-24T19:54:18.701Z"
   },
   {
    "duration": 211,
    "start_time": "2024-12-24T19:54:18.905Z"
   },
   {
    "duration": 312,
    "start_time": "2024-12-24T19:54:19.118Z"
   },
   {
    "duration": 272,
    "start_time": "2024-12-24T19:54:19.433Z"
   },
   {
    "duration": 5,
    "start_time": "2024-12-24T19:54:19.707Z"
   },
   {
    "duration": 1730,
    "start_time": "2024-12-24T19:54:19.714Z"
   },
   {
    "duration": 16,
    "start_time": "2024-12-24T19:54:21.446Z"
   },
   {
    "duration": 6,
    "start_time": "2024-12-24T19:54:21.463Z"
   },
   {
    "duration": 9,
    "start_time": "2024-12-24T19:54:21.471Z"
   },
   {
    "duration": 24,
    "start_time": "2024-12-24T19:54:21.482Z"
   },
   {
    "duration": 5,
    "start_time": "2024-12-24T19:54:21.508Z"
   },
   {
    "duration": 13,
    "start_time": "2024-12-24T19:54:21.515Z"
   },
   {
    "duration": 6,
    "start_time": "2024-12-24T19:54:21.530Z"
   },
   {
    "duration": 5,
    "start_time": "2024-12-24T19:54:21.538Z"
   },
   {
    "duration": 18,
    "start_time": "2024-12-24T19:54:21.546Z"
   },
   {
    "duration": 46,
    "start_time": "2024-12-24T19:54:21.566Z"
   },
   {
    "duration": 12,
    "start_time": "2024-12-24T19:54:21.614Z"
   },
   {
    "duration": 8,
    "start_time": "2024-12-24T19:54:21.628Z"
   },
   {
    "duration": 4,
    "start_time": "2024-12-24T19:54:21.638Z"
   },
   {
    "duration": 472,
    "start_time": "2024-12-24T19:54:21.643Z"
   },
   {
    "duration": 4604,
    "start_time": "2024-12-24T19:54:22.117Z"
   },
   {
    "duration": 132860,
    "start_time": "2024-12-24T19:54:26.723Z"
   },
   {
    "duration": 10623,
    "start_time": "2024-12-24T19:56:39.587Z"
   },
   {
    "duration": 2701,
    "start_time": "2024-12-24T22:51:26.271Z"
   },
   {
    "duration": 612,
    "start_time": "2024-12-24T22:51:28.974Z"
   },
   {
    "duration": 172,
    "start_time": "2024-12-24T22:51:29.587Z"
   },
   {
    "duration": 16,
    "start_time": "2024-12-24T22:51:29.761Z"
   },
   {
    "duration": 6,
    "start_time": "2024-12-24T22:51:29.780Z"
   },
   {
    "duration": 77,
    "start_time": "2024-12-24T22:51:29.788Z"
   },
   {
    "duration": 98,
    "start_time": "2024-12-24T22:51:29.866Z"
   },
   {
    "duration": 17,
    "start_time": "2024-12-24T22:51:29.965Z"
   },
   {
    "duration": 5,
    "start_time": "2024-12-24T22:51:29.984Z"
   },
   {
    "duration": 17,
    "start_time": "2024-12-24T22:51:29.991Z"
   },
   {
    "duration": 201,
    "start_time": "2024-12-24T22:51:30.010Z"
   },
   {
    "duration": 18,
    "start_time": "2024-12-24T22:51:30.213Z"
   },
   {
    "duration": 16,
    "start_time": "2024-12-24T22:51:30.232Z"
   },
   {
    "duration": 79,
    "start_time": "2024-12-24T22:51:30.252Z"
   },
   {
    "duration": 10,
    "start_time": "2024-12-24T22:51:30.344Z"
   },
   {
    "duration": 119,
    "start_time": "2024-12-24T22:51:30.355Z"
   },
   {
    "duration": 15,
    "start_time": "2024-12-24T22:51:30.476Z"
   },
   {
    "duration": 7,
    "start_time": "2024-12-24T22:51:30.493Z"
   },
   {
    "duration": 6,
    "start_time": "2024-12-24T22:51:30.507Z"
   },
   {
    "duration": 6,
    "start_time": "2024-12-24T22:51:30.515Z"
   },
   {
    "duration": 20,
    "start_time": "2024-12-24T22:51:30.542Z"
   },
   {
    "duration": 78,
    "start_time": "2024-12-24T22:51:30.564Z"
   },
   {
    "duration": 7,
    "start_time": "2024-12-24T22:51:30.644Z"
   },
   {
    "duration": 5,
    "start_time": "2024-12-24T22:51:30.653Z"
   },
   {
    "duration": 6,
    "start_time": "2024-12-24T22:51:30.660Z"
   },
   {
    "duration": 10,
    "start_time": "2024-12-24T22:51:30.668Z"
   },
   {
    "duration": 4,
    "start_time": "2024-12-24T22:51:30.680Z"
   },
   {
    "duration": 4,
    "start_time": "2024-12-24T22:51:30.686Z"
   },
   {
    "duration": 4,
    "start_time": "2024-12-24T22:51:30.692Z"
   },
   {
    "duration": 44,
    "start_time": "2024-12-24T22:51:30.699Z"
   },
   {
    "duration": 213,
    "start_time": "2024-12-24T22:51:30.744Z"
   },
   {
    "duration": 208,
    "start_time": "2024-12-24T22:51:30.958Z"
   },
   {
    "duration": 220,
    "start_time": "2024-12-24T22:51:31.169Z"
   },
   {
    "duration": 245,
    "start_time": "2024-12-24T22:51:31.391Z"
   },
   {
    "duration": 261,
    "start_time": "2024-12-24T22:51:31.637Z"
   },
   {
    "duration": 5,
    "start_time": "2024-12-24T22:51:31.900Z"
   },
   {
    "duration": 1576,
    "start_time": "2024-12-24T22:51:31.906Z"
   },
   {
    "duration": 17,
    "start_time": "2024-12-24T22:51:33.484Z"
   },
   {
    "duration": 6,
    "start_time": "2024-12-24T22:51:33.503Z"
   },
   {
    "duration": 9,
    "start_time": "2024-12-24T22:51:33.511Z"
   },
   {
    "duration": 3,
    "start_time": "2024-12-24T22:51:33.545Z"
   },
   {
    "duration": 4,
    "start_time": "2024-12-24T22:51:33.550Z"
   },
   {
    "duration": 107,
    "start_time": "2024-12-24T22:51:33.556Z"
   },
   {
    "duration": 4,
    "start_time": "2024-12-24T22:51:33.665Z"
   },
   {
    "duration": 243,
    "start_time": "2024-12-24T22:51:33.670Z"
   },
   {
    "duration": 0,
    "start_time": "2024-12-24T22:51:33.915Z"
   },
   {
    "duration": 0,
    "start_time": "2024-12-24T22:51:33.917Z"
   },
   {
    "duration": 0,
    "start_time": "2024-12-24T22:51:33.918Z"
   },
   {
    "duration": 0,
    "start_time": "2024-12-24T22:51:33.919Z"
   },
   {
    "duration": 0,
    "start_time": "2024-12-24T22:51:33.920Z"
   },
   {
    "duration": 0,
    "start_time": "2024-12-24T22:51:33.921Z"
   },
   {
    "duration": 0,
    "start_time": "2024-12-24T22:51:33.922Z"
   },
   {
    "duration": 0,
    "start_time": "2024-12-24T22:51:33.923Z"
   },
   {
    "duration": 0,
    "start_time": "2024-12-24T22:51:33.925Z"
   },
   {
    "duration": 4,
    "start_time": "2024-12-24T22:52:00.254Z"
   },
   {
    "duration": 526,
    "start_time": "2024-12-24T22:52:00.262Z"
   },
   {
    "duration": 171,
    "start_time": "2024-12-24T22:52:00.790Z"
   },
   {
    "duration": 17,
    "start_time": "2024-12-24T22:52:00.963Z"
   },
   {
    "duration": 6,
    "start_time": "2024-12-24T22:52:00.981Z"
   },
   {
    "duration": 75,
    "start_time": "2024-12-24T22:52:00.989Z"
   },
   {
    "duration": 105,
    "start_time": "2024-12-24T22:52:01.065Z"
   },
   {
    "duration": 17,
    "start_time": "2024-12-24T22:52:01.172Z"
   },
   {
    "duration": 5,
    "start_time": "2024-12-24T22:52:01.191Z"
   },
   {
    "duration": 18,
    "start_time": "2024-12-24T22:52:01.198Z"
   },
   {
    "duration": 209,
    "start_time": "2024-12-24T22:52:01.217Z"
   },
   {
    "duration": 21,
    "start_time": "2024-12-24T22:52:01.428Z"
   },
   {
    "duration": 7,
    "start_time": "2024-12-24T22:52:01.451Z"
   },
   {
    "duration": 88,
    "start_time": "2024-12-24T22:52:01.460Z"
   },
   {
    "duration": 10,
    "start_time": "2024-12-24T22:52:01.552Z"
   },
   {
    "duration": 57,
    "start_time": "2024-12-24T22:52:01.564Z"
   },
   {
    "duration": 30,
    "start_time": "2024-12-24T22:52:01.623Z"
   },
   {
    "duration": 4,
    "start_time": "2024-12-24T22:52:01.655Z"
   },
   {
    "duration": 6,
    "start_time": "2024-12-24T22:52:01.661Z"
   },
   {
    "duration": 5,
    "start_time": "2024-12-24T22:52:01.669Z"
   },
   {
    "duration": 14,
    "start_time": "2024-12-24T22:52:01.675Z"
   },
   {
    "duration": 103,
    "start_time": "2024-12-24T22:52:01.691Z"
   },
   {
    "duration": 8,
    "start_time": "2024-12-24T22:52:01.796Z"
   },
   {
    "duration": 5,
    "start_time": "2024-12-24T22:52:01.806Z"
   },
   {
    "duration": 6,
    "start_time": "2024-12-24T22:52:01.812Z"
   },
   {
    "duration": 33,
    "start_time": "2024-12-24T22:52:01.819Z"
   },
   {
    "duration": 5,
    "start_time": "2024-12-24T22:52:01.853Z"
   },
   {
    "duration": 6,
    "start_time": "2024-12-24T22:52:01.860Z"
   },
   {
    "duration": 4,
    "start_time": "2024-12-24T22:52:01.868Z"
   },
   {
    "duration": 3,
    "start_time": "2024-12-24T22:52:01.874Z"
   },
   {
    "duration": 226,
    "start_time": "2024-12-24T22:52:01.878Z"
   },
   {
    "duration": 205,
    "start_time": "2024-12-24T22:52:02.106Z"
   },
   {
    "duration": 286,
    "start_time": "2024-12-24T22:52:02.312Z"
   },
   {
    "duration": 237,
    "start_time": "2024-12-24T22:52:02.599Z"
   },
   {
    "duration": 258,
    "start_time": "2024-12-24T22:52:02.842Z"
   },
   {
    "duration": 5,
    "start_time": "2024-12-24T22:52:03.102Z"
   },
   {
    "duration": 1711,
    "start_time": "2024-12-24T22:52:03.108Z"
   },
   {
    "duration": 23,
    "start_time": "2024-12-24T22:52:04.820Z"
   },
   {
    "duration": 7,
    "start_time": "2024-12-24T22:52:04.845Z"
   },
   {
    "duration": 10,
    "start_time": "2024-12-24T22:52:04.853Z"
   },
   {
    "duration": 4,
    "start_time": "2024-12-24T22:52:04.864Z"
   },
   {
    "duration": 4,
    "start_time": "2024-12-24T22:52:04.872Z"
   },
   {
    "duration": 12,
    "start_time": "2024-12-24T22:52:04.877Z"
   },
   {
    "duration": 5,
    "start_time": "2024-12-24T22:52:04.891Z"
   },
   {
    "duration": 4,
    "start_time": "2024-12-24T22:52:04.897Z"
   },
   {
    "duration": 54,
    "start_time": "2024-12-24T22:52:04.902Z"
   },
   {
    "duration": 11,
    "start_time": "2024-12-24T22:52:04.958Z"
   },
   {
    "duration": 12,
    "start_time": "2024-12-24T22:52:04.970Z"
   },
   {
    "duration": 7,
    "start_time": "2024-12-24T22:52:04.983Z"
   },
   {
    "duration": 4,
    "start_time": "2024-12-24T22:52:04.991Z"
   },
   {
    "duration": 348,
    "start_time": "2024-12-24T22:52:04.997Z"
   },
   {
    "duration": 4576,
    "start_time": "2024-12-24T22:52:05.347Z"
   },
   {
    "duration": 132525,
    "start_time": "2024-12-24T22:52:09.925Z"
   },
   {
    "duration": 10591,
    "start_time": "2024-12-24T22:54:22.451Z"
   },
   {
    "duration": 16,
    "start_time": "2024-12-24T23:05:59.553Z"
   },
   {
    "duration": 257,
    "start_time": "2024-12-24T23:08:25.426Z"
   },
   {
    "duration": 3,
    "start_time": "2024-12-24T23:08:31.132Z"
   },
   {
    "duration": 504,
    "start_time": "2024-12-24T23:08:31.140Z"
   },
   {
    "duration": 165,
    "start_time": "2024-12-24T23:08:31.646Z"
   },
   {
    "duration": 16,
    "start_time": "2024-12-24T23:08:31.813Z"
   },
   {
    "duration": 16,
    "start_time": "2024-12-24T23:08:31.831Z"
   },
   {
    "duration": 52,
    "start_time": "2024-12-24T23:08:31.849Z"
   },
   {
    "duration": 105,
    "start_time": "2024-12-24T23:08:31.903Z"
   },
   {
    "duration": 16,
    "start_time": "2024-12-24T23:08:32.010Z"
   },
   {
    "duration": 17,
    "start_time": "2024-12-24T23:08:32.028Z"
   },
   {
    "duration": 19,
    "start_time": "2024-12-24T23:08:32.047Z"
   },
   {
    "duration": 189,
    "start_time": "2024-12-24T23:08:32.067Z"
   },
   {
    "duration": 16,
    "start_time": "2024-12-24T23:08:32.258Z"
   },
   {
    "duration": 6,
    "start_time": "2024-12-24T23:08:32.276Z"
   },
   {
    "duration": 96,
    "start_time": "2024-12-24T23:08:32.284Z"
   },
   {
    "duration": 9,
    "start_time": "2024-12-24T23:08:32.385Z"
   },
   {
    "duration": 66,
    "start_time": "2024-12-24T23:08:32.396Z"
   },
   {
    "duration": 12,
    "start_time": "2024-12-24T23:08:32.464Z"
   },
   {
    "duration": 3,
    "start_time": "2024-12-24T23:08:32.478Z"
   },
   {
    "duration": 6,
    "start_time": "2024-12-24T23:08:32.483Z"
   },
   {
    "duration": 5,
    "start_time": "2024-12-24T23:08:32.490Z"
   },
   {
    "duration": 46,
    "start_time": "2024-12-24T23:08:32.497Z"
   },
   {
    "duration": 74,
    "start_time": "2024-12-24T23:08:32.544Z"
   },
   {
    "duration": 7,
    "start_time": "2024-12-24T23:08:32.620Z"
   },
   {
    "duration": 5,
    "start_time": "2024-12-24T23:08:32.642Z"
   },
   {
    "duration": 6,
    "start_time": "2024-12-24T23:08:32.649Z"
   },
   {
    "duration": 10,
    "start_time": "2024-12-24T23:08:32.656Z"
   },
   {
    "duration": 6,
    "start_time": "2024-12-24T23:08:32.667Z"
   },
   {
    "duration": 4,
    "start_time": "2024-12-24T23:08:32.674Z"
   },
   {
    "duration": 4,
    "start_time": "2024-12-24T23:08:32.680Z"
   },
   {
    "duration": 4,
    "start_time": "2024-12-24T23:08:32.685Z"
   },
   {
    "duration": 231,
    "start_time": "2024-12-24T23:08:32.692Z"
   },
   {
    "duration": 207,
    "start_time": "2024-12-24T23:08:32.924Z"
   },
   {
    "duration": 214,
    "start_time": "2024-12-24T23:08:33.133Z"
   },
   {
    "duration": 236,
    "start_time": "2024-12-24T23:08:33.348Z"
   },
   {
    "duration": 256,
    "start_time": "2024-12-24T23:08:33.587Z"
   },
   {
    "duration": 5,
    "start_time": "2024-12-24T23:08:33.844Z"
   },
   {
    "duration": 1623,
    "start_time": "2024-12-24T23:08:33.850Z"
   },
   {
    "duration": 17,
    "start_time": "2024-12-24T23:08:35.475Z"
   },
   {
    "duration": 5,
    "start_time": "2024-12-24T23:08:35.494Z"
   },
   {
    "duration": 9,
    "start_time": "2024-12-24T23:08:35.500Z"
   },
   {
    "duration": 4,
    "start_time": "2024-12-24T23:08:35.512Z"
   },
   {
    "duration": 5,
    "start_time": "2024-12-24T23:08:35.545Z"
   },
   {
    "duration": 12,
    "start_time": "2024-12-24T23:08:35.551Z"
   },
   {
    "duration": 5,
    "start_time": "2024-12-24T23:08:35.565Z"
   },
   {
    "duration": 4,
    "start_time": "2024-12-24T23:08:35.572Z"
   },
   {
    "duration": 15,
    "start_time": "2024-12-24T23:08:35.577Z"
   },
   {
    "duration": 11,
    "start_time": "2024-12-24T23:08:35.594Z"
   },
   {
    "duration": 46,
    "start_time": "2024-12-24T23:08:35.606Z"
   },
   {
    "duration": 29,
    "start_time": "2024-12-24T23:08:35.654Z"
   },
   {
    "duration": 5,
    "start_time": "2024-12-24T23:08:35.685Z"
   },
   {
    "duration": 197,
    "start_time": "2024-12-24T23:08:35.691Z"
   },
   {
    "duration": 0,
    "start_time": "2024-12-24T23:08:35.890Z"
   },
   {
    "duration": 0,
    "start_time": "2024-12-24T23:08:35.891Z"
   },
   {
    "duration": 0,
    "start_time": "2024-12-24T23:08:35.892Z"
   },
   {
    "duration": 4,
    "start_time": "2024-12-24T23:09:15.862Z"
   },
   {
    "duration": 25,
    "start_time": "2024-12-24T23:09:18.675Z"
   },
   {
    "duration": 4,
    "start_time": "2024-12-24T23:09:51.241Z"
   },
   {
    "duration": 443,
    "start_time": "2024-12-24T23:09:51.250Z"
   },
   {
    "duration": 169,
    "start_time": "2024-12-24T23:09:51.695Z"
   },
   {
    "duration": 17,
    "start_time": "2024-12-24T23:09:51.866Z"
   },
   {
    "duration": 7,
    "start_time": "2024-12-24T23:09:51.884Z"
   },
   {
    "duration": 72,
    "start_time": "2024-12-24T23:09:51.895Z"
   },
   {
    "duration": 104,
    "start_time": "2024-12-24T23:09:51.969Z"
   },
   {
    "duration": 18,
    "start_time": "2024-12-24T23:09:52.074Z"
   },
   {
    "duration": 5,
    "start_time": "2024-12-24T23:09:52.094Z"
   },
   {
    "duration": 18,
    "start_time": "2024-12-24T23:09:52.100Z"
   },
   {
    "duration": 204,
    "start_time": "2024-12-24T23:09:52.120Z"
   },
   {
    "duration": 21,
    "start_time": "2024-12-24T23:09:52.326Z"
   },
   {
    "duration": 7,
    "start_time": "2024-12-24T23:09:52.350Z"
   },
   {
    "duration": 90,
    "start_time": "2024-12-24T23:09:52.363Z"
   },
   {
    "duration": 10,
    "start_time": "2024-12-24T23:09:52.458Z"
   },
   {
    "duration": 59,
    "start_time": "2024-12-24T23:09:52.470Z"
   },
   {
    "duration": 20,
    "start_time": "2024-12-24T23:09:52.531Z"
   },
   {
    "duration": 3,
    "start_time": "2024-12-24T23:09:52.553Z"
   },
   {
    "duration": 6,
    "start_time": "2024-12-24T23:09:52.558Z"
   },
   {
    "duration": 5,
    "start_time": "2024-12-24T23:09:52.566Z"
   },
   {
    "duration": 11,
    "start_time": "2024-12-24T23:09:52.573Z"
   },
   {
    "duration": 108,
    "start_time": "2024-12-24T23:09:52.586Z"
   },
   {
    "duration": 6,
    "start_time": "2024-12-24T23:09:52.696Z"
   },
   {
    "duration": 4,
    "start_time": "2024-12-24T23:09:52.704Z"
   },
   {
    "duration": 7,
    "start_time": "2024-12-24T23:09:52.710Z"
   },
   {
    "duration": 32,
    "start_time": "2024-12-24T23:09:52.718Z"
   },
   {
    "duration": 5,
    "start_time": "2024-12-24T23:09:52.751Z"
   },
   {
    "duration": 7,
    "start_time": "2024-12-24T23:09:52.757Z"
   },
   {
    "duration": 5,
    "start_time": "2024-12-24T23:09:52.765Z"
   },
   {
    "duration": 4,
    "start_time": "2024-12-24T23:09:52.771Z"
   },
   {
    "duration": 228,
    "start_time": "2024-12-24T23:09:52.777Z"
   },
   {
    "duration": 195,
    "start_time": "2024-12-24T23:09:53.007Z"
   },
   {
    "duration": 212,
    "start_time": "2024-12-24T23:09:53.204Z"
   },
   {
    "duration": 244,
    "start_time": "2024-12-24T23:09:53.419Z"
   },
   {
    "duration": 256,
    "start_time": "2024-12-24T23:09:53.665Z"
   },
   {
    "duration": 5,
    "start_time": "2024-12-24T23:09:53.923Z"
   },
   {
    "duration": 1681,
    "start_time": "2024-12-24T23:09:53.929Z"
   },
   {
    "duration": 14,
    "start_time": "2024-12-24T23:09:55.612Z"
   },
   {
    "duration": 17,
    "start_time": "2024-12-24T23:09:55.628Z"
   },
   {
    "duration": 9,
    "start_time": "2024-12-24T23:09:55.647Z"
   },
   {
    "duration": 4,
    "start_time": "2024-12-24T23:09:55.658Z"
   },
   {
    "duration": 4,
    "start_time": "2024-12-24T23:09:55.667Z"
   },
   {
    "duration": 134,
    "start_time": "2024-12-24T23:09:55.673Z"
   },
   {
    "duration": 5,
    "start_time": "2024-12-24T23:09:55.809Z"
   },
   {
    "duration": 28,
    "start_time": "2024-12-24T23:09:55.815Z"
   },
   {
    "duration": 10,
    "start_time": "2024-12-24T23:09:55.845Z"
   },
   {
    "duration": 12,
    "start_time": "2024-12-24T23:09:55.857Z"
   },
   {
    "duration": 27,
    "start_time": "2024-12-24T23:09:55.871Z"
   },
   {
    "duration": 4,
    "start_time": "2024-12-24T23:09:55.900Z"
   },
   {
    "duration": 57,
    "start_time": "2024-12-24T23:09:55.905Z"
   },
   {
    "duration": 0,
    "start_time": "2024-12-24T23:09:55.965Z"
   },
   {
    "duration": 0,
    "start_time": "2024-12-24T23:09:55.966Z"
   },
   {
    "duration": 0,
    "start_time": "2024-12-24T23:09:55.967Z"
   },
   {
    "duration": 25,
    "start_time": "2024-12-24T23:10:54.777Z"
   },
   {
    "duration": 3,
    "start_time": "2024-12-24T23:11:02.167Z"
   },
   {
    "duration": 463,
    "start_time": "2024-12-24T23:11:02.173Z"
   },
   {
    "duration": 166,
    "start_time": "2024-12-24T23:11:02.638Z"
   },
   {
    "duration": 16,
    "start_time": "2024-12-24T23:11:02.806Z"
   },
   {
    "duration": 23,
    "start_time": "2024-12-24T23:11:02.824Z"
   },
   {
    "duration": 53,
    "start_time": "2024-12-24T23:11:02.849Z"
   },
   {
    "duration": 113,
    "start_time": "2024-12-24T23:11:02.904Z"
   },
   {
    "duration": 16,
    "start_time": "2024-12-24T23:11:03.018Z"
   },
   {
    "duration": 5,
    "start_time": "2024-12-24T23:11:03.043Z"
   },
   {
    "duration": 18,
    "start_time": "2024-12-24T23:11:03.050Z"
   },
   {
    "duration": 211,
    "start_time": "2024-12-24T23:11:03.070Z"
   },
   {
    "duration": 16,
    "start_time": "2024-12-24T23:11:03.283Z"
   },
   {
    "duration": 9,
    "start_time": "2024-12-24T23:11:03.301Z"
   },
   {
    "duration": 97,
    "start_time": "2024-12-24T23:11:03.312Z"
   },
   {
    "duration": 13,
    "start_time": "2024-12-24T23:11:03.412Z"
   },
   {
    "duration": 94,
    "start_time": "2024-12-24T23:11:03.427Z"
   },
   {
    "duration": 20,
    "start_time": "2024-12-24T23:11:03.523Z"
   },
   {
    "duration": 4,
    "start_time": "2024-12-24T23:11:03.545Z"
   },
   {
    "duration": 7,
    "start_time": "2024-12-24T23:11:03.551Z"
   },
   {
    "duration": 6,
    "start_time": "2024-12-24T23:11:03.559Z"
   },
   {
    "duration": 18,
    "start_time": "2024-12-24T23:11:03.567Z"
   },
   {
    "duration": 102,
    "start_time": "2024-12-24T23:11:03.587Z"
   },
   {
    "duration": 7,
    "start_time": "2024-12-24T23:11:03.692Z"
   },
   {
    "duration": 6,
    "start_time": "2024-12-24T23:11:03.706Z"
   },
   {
    "duration": 7,
    "start_time": "2024-12-24T23:11:03.714Z"
   },
   {
    "duration": 10,
    "start_time": "2024-12-24T23:11:03.742Z"
   },
   {
    "duration": 5,
    "start_time": "2024-12-24T23:11:03.754Z"
   },
   {
    "duration": 7,
    "start_time": "2024-12-24T23:11:03.761Z"
   },
   {
    "duration": 5,
    "start_time": "2024-12-24T23:11:03.770Z"
   },
   {
    "duration": 5,
    "start_time": "2024-12-24T23:11:03.777Z"
   },
   {
    "duration": 239,
    "start_time": "2024-12-24T23:11:03.784Z"
   },
   {
    "duration": 201,
    "start_time": "2024-12-24T23:11:04.025Z"
   },
   {
    "duration": 219,
    "start_time": "2024-12-24T23:11:04.228Z"
   },
   {
    "duration": 244,
    "start_time": "2024-12-24T23:11:04.449Z"
   },
   {
    "duration": 262,
    "start_time": "2024-12-24T23:11:04.695Z"
   },
   {
    "duration": 5,
    "start_time": "2024-12-24T23:11:04.959Z"
   },
   {
    "duration": 1658,
    "start_time": "2024-12-24T23:11:04.966Z"
   },
   {
    "duration": 19,
    "start_time": "2024-12-24T23:11:06.625Z"
   },
   {
    "duration": 5,
    "start_time": "2024-12-24T23:11:06.646Z"
   },
   {
    "duration": 9,
    "start_time": "2024-12-24T23:11:06.653Z"
   },
   {
    "duration": 4,
    "start_time": "2024-12-24T23:11:06.664Z"
   },
   {
    "duration": 4,
    "start_time": "2024-12-24T23:11:06.669Z"
   },
   {
    "duration": 141,
    "start_time": "2024-12-24T23:11:06.675Z"
   },
   {
    "duration": 5,
    "start_time": "2024-12-24T23:11:06.818Z"
   },
   {
    "duration": 31,
    "start_time": "2024-12-24T23:11:06.824Z"
   },
   {
    "duration": 11,
    "start_time": "2024-12-24T23:11:06.857Z"
   },
   {
    "duration": 12,
    "start_time": "2024-12-24T23:11:06.871Z"
   },
   {
    "duration": 9,
    "start_time": "2024-12-24T23:11:06.885Z"
   },
   {
    "duration": 5,
    "start_time": "2024-12-24T23:11:06.896Z"
   },
   {
    "duration": 66,
    "start_time": "2024-12-24T23:11:06.903Z"
   },
   {
    "duration": 0,
    "start_time": "2024-12-24T23:11:06.970Z"
   },
   {
    "duration": 0,
    "start_time": "2024-12-24T23:11:06.972Z"
   },
   {
    "duration": 0,
    "start_time": "2024-12-24T23:11:06.973Z"
   },
   {
    "duration": 3,
    "start_time": "2024-12-24T23:13:13.379Z"
   },
   {
    "duration": 25,
    "start_time": "2024-12-24T23:13:15.661Z"
   },
   {
    "duration": 4,
    "start_time": "2024-12-24T23:13:27.019Z"
   },
   {
    "duration": 81,
    "start_time": "2024-12-24T23:13:29.339Z"
   },
   {
    "duration": 6,
    "start_time": "2024-12-24T23:14:08.500Z"
   },
   {
    "duration": 3,
    "start_time": "2024-12-24T23:14:33.886Z"
   },
   {
    "duration": 503,
    "start_time": "2024-12-24T23:14:33.894Z"
   },
   {
    "duration": 165,
    "start_time": "2024-12-24T23:14:34.399Z"
   },
   {
    "duration": 18,
    "start_time": "2024-12-24T23:14:34.566Z"
   },
   {
    "duration": 6,
    "start_time": "2024-12-24T23:14:34.586Z"
   },
   {
    "duration": 71,
    "start_time": "2024-12-24T23:14:34.594Z"
   },
   {
    "duration": 102,
    "start_time": "2024-12-24T23:14:34.666Z"
   },
   {
    "duration": 17,
    "start_time": "2024-12-24T23:14:34.769Z"
   },
   {
    "duration": 5,
    "start_time": "2024-12-24T23:14:34.789Z"
   },
   {
    "duration": 18,
    "start_time": "2024-12-24T23:14:34.795Z"
   },
   {
    "duration": 201,
    "start_time": "2024-12-24T23:14:34.815Z"
   },
   {
    "duration": 26,
    "start_time": "2024-12-24T23:14:35.018Z"
   },
   {
    "duration": 7,
    "start_time": "2024-12-24T23:14:35.045Z"
   },
   {
    "duration": 76,
    "start_time": "2024-12-24T23:14:35.053Z"
   },
   {
    "duration": 10,
    "start_time": "2024-12-24T23:14:35.145Z"
   },
   {
    "duration": 63,
    "start_time": "2024-12-24T23:14:35.156Z"
   },
   {
    "duration": 24,
    "start_time": "2024-12-24T23:14:35.221Z"
   },
   {
    "duration": 4,
    "start_time": "2024-12-24T23:14:35.247Z"
   },
   {
    "duration": 5,
    "start_time": "2024-12-24T23:14:35.253Z"
   },
   {
    "duration": 6,
    "start_time": "2024-12-24T23:14:35.260Z"
   },
   {
    "duration": 12,
    "start_time": "2024-12-24T23:14:35.267Z"
   },
   {
    "duration": 103,
    "start_time": "2024-12-24T23:14:35.281Z"
   },
   {
    "duration": 10,
    "start_time": "2024-12-24T23:14:35.386Z"
   },
   {
    "duration": 5,
    "start_time": "2024-12-24T23:14:35.398Z"
   },
   {
    "duration": 8,
    "start_time": "2024-12-24T23:14:35.405Z"
   },
   {
    "duration": 31,
    "start_time": "2024-12-24T23:14:35.416Z"
   },
   {
    "duration": 5,
    "start_time": "2024-12-24T23:14:35.449Z"
   },
   {
    "duration": 6,
    "start_time": "2024-12-24T23:14:35.455Z"
   },
   {
    "duration": 5,
    "start_time": "2024-12-24T23:14:35.463Z"
   },
   {
    "duration": 3,
    "start_time": "2024-12-24T23:14:35.470Z"
   },
   {
    "duration": 216,
    "start_time": "2024-12-24T23:14:35.476Z"
   },
   {
    "duration": 205,
    "start_time": "2024-12-24T23:14:35.694Z"
   },
   {
    "duration": 206,
    "start_time": "2024-12-24T23:14:35.901Z"
   },
   {
    "duration": 236,
    "start_time": "2024-12-24T23:14:36.109Z"
   },
   {
    "duration": 262,
    "start_time": "2024-12-24T23:14:36.347Z"
   },
   {
    "duration": 5,
    "start_time": "2024-12-24T23:14:36.611Z"
   },
   {
    "duration": 1646,
    "start_time": "2024-12-24T23:14:36.617Z"
   },
   {
    "duration": 15,
    "start_time": "2024-12-24T23:14:38.265Z"
   },
   {
    "duration": 5,
    "start_time": "2024-12-24T23:14:38.282Z"
   },
   {
    "duration": 9,
    "start_time": "2024-12-24T23:14:38.288Z"
   },
   {
    "duration": 3,
    "start_time": "2024-12-24T23:14:38.299Z"
   },
   {
    "duration": 4,
    "start_time": "2024-12-24T23:14:38.306Z"
   },
   {
    "duration": 119,
    "start_time": "2024-12-24T23:14:38.343Z"
   },
   {
    "duration": 5,
    "start_time": "2024-12-24T23:14:38.465Z"
   },
   {
    "duration": 15,
    "start_time": "2024-12-24T23:14:38.472Z"
   },
   {
    "duration": 11,
    "start_time": "2024-12-24T23:14:38.489Z"
   },
   {
    "duration": 13,
    "start_time": "2024-12-24T23:14:38.501Z"
   },
   {
    "duration": 33,
    "start_time": "2024-12-24T23:14:38.515Z"
   },
   {
    "duration": 4,
    "start_time": "2024-12-24T23:14:38.549Z"
   },
   {
    "duration": 39,
    "start_time": "2024-12-24T23:14:38.555Z"
   },
   {
    "duration": 0,
    "start_time": "2024-12-24T23:14:38.596Z"
   },
   {
    "duration": 0,
    "start_time": "2024-12-24T23:14:38.597Z"
   },
   {
    "duration": 0,
    "start_time": "2024-12-24T23:14:38.599Z"
   },
   {
    "duration": 3,
    "start_time": "2024-12-24T23:15:20.907Z"
   },
   {
    "duration": 6,
    "start_time": "2024-12-24T23:15:38.087Z"
   },
   {
    "duration": 16,
    "start_time": "2024-12-24T23:17:53.411Z"
   },
   {
    "duration": 5,
    "start_time": "2024-12-24T23:18:48.551Z"
   },
   {
    "duration": 4,
    "start_time": "2024-12-24T23:18:54.005Z"
   },
   {
    "duration": 5,
    "start_time": "2024-12-24T23:19:44.854Z"
   },
   {
    "duration": 4,
    "start_time": "2024-12-24T23:19:58.079Z"
   },
   {
    "duration": 4,
    "start_time": "2024-12-24T23:20:48.606Z"
   },
   {
    "duration": 26,
    "start_time": "2024-12-24T23:22:17.633Z"
   },
   {
    "duration": 3,
    "start_time": "2024-12-24T23:23:31.289Z"
   },
   {
    "duration": 4,
    "start_time": "2024-12-24T23:24:50.050Z"
   },
   {
    "duration": 456,
    "start_time": "2024-12-24T23:24:50.057Z"
   },
   {
    "duration": 177,
    "start_time": "2024-12-24T23:24:50.515Z"
   },
   {
    "duration": 16,
    "start_time": "2024-12-24T23:24:50.693Z"
   },
   {
    "duration": 7,
    "start_time": "2024-12-24T23:24:50.712Z"
   },
   {
    "duration": 74,
    "start_time": "2024-12-24T23:24:50.722Z"
   },
   {
    "duration": 108,
    "start_time": "2024-12-24T23:24:50.797Z"
   },
   {
    "duration": 18,
    "start_time": "2024-12-24T23:24:50.907Z"
   },
   {
    "duration": 6,
    "start_time": "2024-12-24T23:24:50.926Z"
   },
   {
    "duration": 20,
    "start_time": "2024-12-24T23:24:50.942Z"
   },
   {
    "duration": 199,
    "start_time": "2024-12-24T23:24:50.964Z"
   },
   {
    "duration": 17,
    "start_time": "2024-12-24T23:24:51.164Z"
   },
   {
    "duration": 6,
    "start_time": "2024-12-24T23:24:51.183Z"
   },
   {
    "duration": 94,
    "start_time": "2024-12-24T23:24:51.192Z"
   },
   {
    "duration": 10,
    "start_time": "2024-12-24T23:24:51.289Z"
   },
   {
    "duration": 67,
    "start_time": "2024-12-24T23:24:51.300Z"
   },
   {
    "duration": 11,
    "start_time": "2024-12-24T23:24:51.369Z"
   },
   {
    "duration": 5,
    "start_time": "2024-12-24T23:24:51.382Z"
   },
   {
    "duration": 6,
    "start_time": "2024-12-24T23:24:51.389Z"
   },
   {
    "duration": 5,
    "start_time": "2024-12-24T23:24:51.397Z"
   },
   {
    "duration": 45,
    "start_time": "2024-12-24T23:24:51.404Z"
   },
   {
    "duration": 70,
    "start_time": "2024-12-24T23:24:51.451Z"
   },
   {
    "duration": 21,
    "start_time": "2024-12-24T23:24:51.523Z"
   },
   {
    "duration": 6,
    "start_time": "2024-12-24T23:24:51.545Z"
   },
   {
    "duration": 5,
    "start_time": "2024-12-24T23:24:51.553Z"
   },
   {
    "duration": 9,
    "start_time": "2024-12-24T23:24:51.560Z"
   },
   {
    "duration": 4,
    "start_time": "2024-12-24T23:24:51.571Z"
   },
   {
    "duration": 5,
    "start_time": "2024-12-24T23:24:51.577Z"
   },
   {
    "duration": 5,
    "start_time": "2024-12-24T23:24:51.583Z"
   },
   {
    "duration": 4,
    "start_time": "2024-12-24T23:24:51.590Z"
   },
   {
    "duration": 230,
    "start_time": "2024-12-24T23:24:51.595Z"
   },
   {
    "duration": 218,
    "start_time": "2024-12-24T23:24:51.827Z"
   },
   {
    "duration": 203,
    "start_time": "2024-12-24T23:24:52.047Z"
   },
   {
    "duration": 237,
    "start_time": "2024-12-24T23:24:52.252Z"
   },
   {
    "duration": 258,
    "start_time": "2024-12-24T23:24:52.491Z"
   },
   {
    "duration": 4,
    "start_time": "2024-12-24T23:24:52.751Z"
   },
   {
    "duration": 1609,
    "start_time": "2024-12-24T23:24:52.756Z"
   },
   {
    "duration": 19,
    "start_time": "2024-12-24T23:24:54.367Z"
   },
   {
    "duration": 6,
    "start_time": "2024-12-24T23:24:54.388Z"
   },
   {
    "duration": 15,
    "start_time": "2024-12-24T23:24:54.396Z"
   },
   {
    "duration": 3,
    "start_time": "2024-12-24T23:24:54.413Z"
   },
   {
    "duration": 4,
    "start_time": "2024-12-24T23:24:54.442Z"
   },
   {
    "duration": 11,
    "start_time": "2024-12-24T23:24:54.448Z"
   },
   {
    "duration": 5,
    "start_time": "2024-12-24T23:24:54.462Z"
   },
   {
    "duration": 15,
    "start_time": "2024-12-24T23:24:54.468Z"
   },
   {
    "duration": 12,
    "start_time": "2024-12-24T23:24:54.485Z"
   },
   {
    "duration": 48,
    "start_time": "2024-12-24T23:24:54.498Z"
   },
   {
    "duration": 12,
    "start_time": "2024-12-24T23:24:54.549Z"
   },
   {
    "duration": 3,
    "start_time": "2024-12-24T23:24:54.563Z"
   },
   {
    "duration": 6,
    "start_time": "2024-12-24T23:24:54.567Z"
   },
   {
    "duration": 4,
    "start_time": "2024-12-24T23:24:54.575Z"
   },
   {
    "duration": 340,
    "start_time": "2024-12-24T23:24:54.580Z"
   },
   {
    "duration": 0,
    "start_time": "2024-12-24T23:24:54.922Z"
   },
   {
    "duration": 0,
    "start_time": "2024-12-24T23:24:54.923Z"
   },
   {
    "duration": 0,
    "start_time": "2024-12-24T23:24:54.925Z"
   },
   {
    "duration": 3,
    "start_time": "2024-12-24T23:26:47.995Z"
   },
   {
    "duration": 476,
    "start_time": "2024-12-24T23:26:48.007Z"
   },
   {
    "duration": 167,
    "start_time": "2024-12-24T23:26:48.485Z"
   },
   {
    "duration": 19,
    "start_time": "2024-12-24T23:26:48.654Z"
   },
   {
    "duration": 6,
    "start_time": "2024-12-24T23:26:48.675Z"
   },
   {
    "duration": 67,
    "start_time": "2024-12-24T23:26:48.683Z"
   },
   {
    "duration": 101,
    "start_time": "2024-12-24T23:26:48.752Z"
   },
   {
    "duration": 21,
    "start_time": "2024-12-24T23:26:48.855Z"
   },
   {
    "duration": 4,
    "start_time": "2024-12-24T23:26:48.878Z"
   },
   {
    "duration": 17,
    "start_time": "2024-12-24T23:26:48.884Z"
   },
   {
    "duration": 207,
    "start_time": "2024-12-24T23:26:48.903Z"
   },
   {
    "duration": 31,
    "start_time": "2024-12-24T23:26:49.112Z"
   },
   {
    "duration": 6,
    "start_time": "2024-12-24T23:26:49.144Z"
   },
   {
    "duration": 75,
    "start_time": "2024-12-24T23:26:49.152Z"
   },
   {
    "duration": 10,
    "start_time": "2024-12-24T23:26:49.244Z"
   },
   {
    "duration": 56,
    "start_time": "2024-12-24T23:26:49.255Z"
   },
   {
    "duration": 12,
    "start_time": "2024-12-24T23:26:49.313Z"
   },
   {
    "duration": 18,
    "start_time": "2024-12-24T23:26:49.326Z"
   },
   {
    "duration": 6,
    "start_time": "2024-12-24T23:26:49.346Z"
   },
   {
    "duration": 5,
    "start_time": "2024-12-24T23:26:49.354Z"
   },
   {
    "duration": 14,
    "start_time": "2024-12-24T23:26:49.361Z"
   },
   {
    "duration": 109,
    "start_time": "2024-12-24T23:26:49.377Z"
   },
   {
    "duration": 8,
    "start_time": "2024-12-24T23:26:49.488Z"
   },
   {
    "duration": 5,
    "start_time": "2024-12-24T23:26:49.497Z"
   },
   {
    "duration": 6,
    "start_time": "2024-12-24T23:26:49.504Z"
   },
   {
    "duration": 32,
    "start_time": "2024-12-24T23:26:49.512Z"
   },
   {
    "duration": 6,
    "start_time": "2024-12-24T23:26:49.545Z"
   },
   {
    "duration": 7,
    "start_time": "2024-12-24T23:26:49.552Z"
   },
   {
    "duration": 4,
    "start_time": "2024-12-24T23:26:49.560Z"
   },
   {
    "duration": 3,
    "start_time": "2024-12-24T23:26:49.566Z"
   },
   {
    "duration": 213,
    "start_time": "2024-12-24T23:26:49.571Z"
   },
   {
    "duration": 200,
    "start_time": "2024-12-24T23:26:49.786Z"
   },
   {
    "duration": 202,
    "start_time": "2024-12-24T23:26:49.987Z"
   },
   {
    "duration": 371,
    "start_time": "2024-12-24T23:26:50.191Z"
   },
   {
    "duration": 260,
    "start_time": "2024-12-24T23:26:50.564Z"
   },
   {
    "duration": 5,
    "start_time": "2024-12-24T23:26:50.825Z"
   },
   {
    "duration": 1701,
    "start_time": "2024-12-24T23:26:50.832Z"
   },
   {
    "duration": 21,
    "start_time": "2024-12-24T23:26:52.536Z"
   },
   {
    "duration": 5,
    "start_time": "2024-12-24T23:26:52.559Z"
   },
   {
    "duration": 10,
    "start_time": "2024-12-24T23:26:52.565Z"
   },
   {
    "duration": 4,
    "start_time": "2024-12-24T23:26:52.576Z"
   },
   {
    "duration": 4,
    "start_time": "2024-12-24T23:26:52.585Z"
   },
   {
    "duration": 12,
    "start_time": "2024-12-24T23:26:52.591Z"
   },
   {
    "duration": 39,
    "start_time": "2024-12-24T23:26:52.604Z"
   },
   {
    "duration": 17,
    "start_time": "2024-12-24T23:26:52.644Z"
   },
   {
    "duration": 13,
    "start_time": "2024-12-24T23:26:52.662Z"
   },
   {
    "duration": 12,
    "start_time": "2024-12-24T23:26:52.676Z"
   },
   {
    "duration": 11,
    "start_time": "2024-12-24T23:26:52.689Z"
   },
   {
    "duration": 238,
    "start_time": "2024-12-24T23:26:52.701Z"
   },
   {
    "duration": 0,
    "start_time": "2024-12-24T23:26:52.942Z"
   },
   {
    "duration": 0,
    "start_time": "2024-12-24T23:26:52.943Z"
   },
   {
    "duration": 0,
    "start_time": "2024-12-24T23:26:52.944Z"
   },
   {
    "duration": 0,
    "start_time": "2024-12-24T23:26:52.945Z"
   },
   {
    "duration": 0,
    "start_time": "2024-12-24T23:26:52.946Z"
   },
   {
    "duration": 11,
    "start_time": "2024-12-24T23:27:50.411Z"
   },
   {
    "duration": 3,
    "start_time": "2024-12-24T23:28:06.937Z"
   },
   {
    "duration": 17,
    "start_time": "2024-12-24T23:28:33.820Z"
   },
   {
    "duration": 16,
    "start_time": "2024-12-24T23:28:59.504Z"
   },
   {
    "duration": 24,
    "start_time": "2024-12-24T23:29:26.408Z"
   },
   {
    "duration": 42,
    "start_time": "2024-12-24T23:34:51.776Z"
   },
   {
    "duration": 3,
    "start_time": "2024-12-24T23:35:05.850Z"
   },
   {
    "duration": 493,
    "start_time": "2024-12-24T23:35:05.858Z"
   },
   {
    "duration": 169,
    "start_time": "2024-12-24T23:35:06.353Z"
   },
   {
    "duration": 20,
    "start_time": "2024-12-24T23:35:06.525Z"
   },
   {
    "duration": 5,
    "start_time": "2024-12-24T23:35:06.547Z"
   },
   {
    "duration": 53,
    "start_time": "2024-12-24T23:35:06.555Z"
   },
   {
    "duration": 239,
    "start_time": "2024-12-24T23:35:06.610Z"
   },
   {
    "duration": 16,
    "start_time": "2024-12-24T23:35:06.851Z"
   },
   {
    "duration": 5,
    "start_time": "2024-12-24T23:35:06.868Z"
   },
   {
    "duration": 18,
    "start_time": "2024-12-24T23:35:06.874Z"
   },
   {
    "duration": 198,
    "start_time": "2024-12-24T23:35:06.894Z"
   },
   {
    "duration": 17,
    "start_time": "2024-12-24T23:35:07.093Z"
   },
   {
    "duration": 6,
    "start_time": "2024-12-24T23:35:07.111Z"
   },
   {
    "duration": 95,
    "start_time": "2024-12-24T23:35:07.119Z"
   },
   {
    "duration": 10,
    "start_time": "2024-12-24T23:35:07.217Z"
   },
   {
    "duration": 69,
    "start_time": "2024-12-24T23:35:07.229Z"
   },
   {
    "duration": 12,
    "start_time": "2024-12-24T23:35:07.300Z"
   },
   {
    "duration": 4,
    "start_time": "2024-12-24T23:35:07.314Z"
   },
   {
    "duration": 24,
    "start_time": "2024-12-24T23:35:07.320Z"
   },
   {
    "duration": 5,
    "start_time": "2024-12-24T23:35:07.345Z"
   },
   {
    "duration": 12,
    "start_time": "2024-12-24T23:35:07.351Z"
   },
   {
    "duration": 90,
    "start_time": "2024-12-24T23:35:07.365Z"
   },
   {
    "duration": 7,
    "start_time": "2024-12-24T23:35:07.457Z"
   },
   {
    "duration": 6,
    "start_time": "2024-12-24T23:35:07.466Z"
   },
   {
    "duration": 7,
    "start_time": "2024-12-24T23:35:07.473Z"
   },
   {
    "duration": 69,
    "start_time": "2024-12-24T23:35:07.482Z"
   },
   {
    "duration": 0,
    "start_time": "2024-12-24T23:35:07.553Z"
   },
   {
    "duration": 0,
    "start_time": "2024-12-24T23:35:07.555Z"
   },
   {
    "duration": 0,
    "start_time": "2024-12-24T23:35:07.556Z"
   },
   {
    "duration": 0,
    "start_time": "2024-12-24T23:35:07.559Z"
   },
   {
    "duration": 0,
    "start_time": "2024-12-24T23:35:07.560Z"
   },
   {
    "duration": 0,
    "start_time": "2024-12-24T23:35:07.562Z"
   },
   {
    "duration": 0,
    "start_time": "2024-12-24T23:35:07.563Z"
   },
   {
    "duration": 0,
    "start_time": "2024-12-24T23:35:07.564Z"
   },
   {
    "duration": 0,
    "start_time": "2024-12-24T23:35:07.566Z"
   },
   {
    "duration": 0,
    "start_time": "2024-12-24T23:35:07.567Z"
   },
   {
    "duration": 0,
    "start_time": "2024-12-24T23:35:07.569Z"
   },
   {
    "duration": 0,
    "start_time": "2024-12-24T23:35:07.570Z"
   },
   {
    "duration": 0,
    "start_time": "2024-12-24T23:35:07.572Z"
   },
   {
    "duration": 0,
    "start_time": "2024-12-24T23:35:07.573Z"
   },
   {
    "duration": 0,
    "start_time": "2024-12-24T23:35:07.575Z"
   },
   {
    "duration": 0,
    "start_time": "2024-12-24T23:35:07.576Z"
   },
   {
    "duration": 0,
    "start_time": "2024-12-24T23:35:07.578Z"
   },
   {
    "duration": 0,
    "start_time": "2024-12-24T23:35:07.579Z"
   },
   {
    "duration": 0,
    "start_time": "2024-12-24T23:35:07.581Z"
   },
   {
    "duration": 0,
    "start_time": "2024-12-24T23:35:07.582Z"
   },
   {
    "duration": 0,
    "start_time": "2024-12-24T23:35:07.584Z"
   },
   {
    "duration": 0,
    "start_time": "2024-12-24T23:35:07.585Z"
   },
   {
    "duration": 0,
    "start_time": "2024-12-24T23:35:07.587Z"
   },
   {
    "duration": 0,
    "start_time": "2024-12-24T23:35:07.589Z"
   },
   {
    "duration": 0,
    "start_time": "2024-12-24T23:35:07.642Z"
   },
   {
    "duration": 0,
    "start_time": "2024-12-24T23:35:07.643Z"
   },
   {
    "duration": 0,
    "start_time": "2024-12-24T23:35:07.645Z"
   },
   {
    "duration": 0,
    "start_time": "2024-12-24T23:35:07.647Z"
   },
   {
    "duration": 47,
    "start_time": "2024-12-24T23:38:48.446Z"
   },
   {
    "duration": 49,
    "start_time": "2024-12-24T23:47:30.971Z"
   },
   {
    "duration": 4,
    "start_time": "2024-12-24T23:47:37.544Z"
   },
   {
    "duration": 451,
    "start_time": "2024-12-24T23:47:37.549Z"
   },
   {
    "duration": 167,
    "start_time": "2024-12-24T23:47:38.002Z"
   },
   {
    "duration": 16,
    "start_time": "2024-12-24T23:47:38.171Z"
   },
   {
    "duration": 6,
    "start_time": "2024-12-24T23:47:38.189Z"
   },
   {
    "duration": 73,
    "start_time": "2024-12-24T23:47:38.197Z"
   },
   {
    "duration": 99,
    "start_time": "2024-12-24T23:47:38.272Z"
   },
   {
    "duration": 16,
    "start_time": "2024-12-24T23:47:38.373Z"
   },
   {
    "duration": 5,
    "start_time": "2024-12-24T23:47:38.391Z"
   },
   {
    "duration": 20,
    "start_time": "2024-12-24T23:47:38.398Z"
   },
   {
    "duration": 200,
    "start_time": "2024-12-24T23:47:38.421Z"
   },
   {
    "duration": 24,
    "start_time": "2024-12-24T23:47:38.623Z"
   },
   {
    "duration": 7,
    "start_time": "2024-12-24T23:47:38.649Z"
   },
   {
    "duration": 86,
    "start_time": "2024-12-24T23:47:38.657Z"
   },
   {
    "duration": 10,
    "start_time": "2024-12-24T23:47:38.745Z"
   },
   {
    "duration": 54,
    "start_time": "2024-12-24T23:47:38.757Z"
   },
   {
    "duration": 32,
    "start_time": "2024-12-24T23:47:38.813Z"
   },
   {
    "duration": 5,
    "start_time": "2024-12-24T23:47:38.847Z"
   },
   {
    "duration": 16,
    "start_time": "2024-12-24T23:47:38.853Z"
   },
   {
    "duration": 5,
    "start_time": "2024-12-24T23:47:38.871Z"
   },
   {
    "duration": 12,
    "start_time": "2024-12-24T23:47:38.878Z"
   },
   {
    "duration": 81,
    "start_time": "2024-12-24T23:47:38.892Z"
   },
   {
    "duration": 6,
    "start_time": "2024-12-24T23:47:38.975Z"
   },
   {
    "duration": 6,
    "start_time": "2024-12-24T23:47:38.982Z"
   },
   {
    "duration": 6,
    "start_time": "2024-12-24T23:47:38.989Z"
   },
   {
    "duration": 76,
    "start_time": "2024-12-24T23:47:38.996Z"
   },
   {
    "duration": 0,
    "start_time": "2024-12-24T23:47:39.075Z"
   },
   {
    "duration": 0,
    "start_time": "2024-12-24T23:47:39.076Z"
   },
   {
    "duration": 0,
    "start_time": "2024-12-24T23:47:39.078Z"
   },
   {
    "duration": 0,
    "start_time": "2024-12-24T23:47:39.079Z"
   },
   {
    "duration": 0,
    "start_time": "2024-12-24T23:47:39.081Z"
   },
   {
    "duration": 0,
    "start_time": "2024-12-24T23:47:39.082Z"
   },
   {
    "duration": 0,
    "start_time": "2024-12-24T23:47:39.084Z"
   },
   {
    "duration": 0,
    "start_time": "2024-12-24T23:47:39.085Z"
   },
   {
    "duration": 0,
    "start_time": "2024-12-24T23:47:39.086Z"
   },
   {
    "duration": 0,
    "start_time": "2024-12-24T23:47:39.087Z"
   },
   {
    "duration": 0,
    "start_time": "2024-12-24T23:47:39.088Z"
   },
   {
    "duration": 0,
    "start_time": "2024-12-24T23:47:39.089Z"
   },
   {
    "duration": 0,
    "start_time": "2024-12-24T23:47:39.090Z"
   },
   {
    "duration": 0,
    "start_time": "2024-12-24T23:47:39.092Z"
   },
   {
    "duration": 0,
    "start_time": "2024-12-24T23:47:39.092Z"
   },
   {
    "duration": 0,
    "start_time": "2024-12-24T23:47:39.093Z"
   },
   {
    "duration": 0,
    "start_time": "2024-12-24T23:47:39.095Z"
   },
   {
    "duration": 0,
    "start_time": "2024-12-24T23:47:39.096Z"
   },
   {
    "duration": 0,
    "start_time": "2024-12-24T23:47:39.097Z"
   },
   {
    "duration": 0,
    "start_time": "2024-12-24T23:47:39.098Z"
   },
   {
    "duration": 0,
    "start_time": "2024-12-24T23:47:39.099Z"
   },
   {
    "duration": 0,
    "start_time": "2024-12-24T23:47:39.100Z"
   },
   {
    "duration": 0,
    "start_time": "2024-12-24T23:47:39.101Z"
   },
   {
    "duration": 0,
    "start_time": "2024-12-24T23:47:39.143Z"
   },
   {
    "duration": 0,
    "start_time": "2024-12-24T23:47:39.146Z"
   },
   {
    "duration": 0,
    "start_time": "2024-12-24T23:47:39.147Z"
   },
   {
    "duration": 0,
    "start_time": "2024-12-24T23:47:39.148Z"
   },
   {
    "duration": 0,
    "start_time": "2024-12-24T23:47:39.149Z"
   },
   {
    "duration": 14,
    "start_time": "2024-12-24T23:48:57.269Z"
   },
   {
    "duration": 50,
    "start_time": "2024-12-24T23:49:31.289Z"
   },
   {
    "duration": 23,
    "start_time": "2024-12-24T23:50:23.183Z"
   },
   {
    "duration": 11,
    "start_time": "2024-12-24T23:50:47.920Z"
   },
   {
    "duration": 13,
    "start_time": "2024-12-24T23:51:31.049Z"
   },
   {
    "duration": 50,
    "start_time": "2024-12-24T23:52:52.450Z"
   },
   {
    "duration": 2749,
    "start_time": "2024-12-26T23:01:43.193Z"
   },
   {
    "duration": 597,
    "start_time": "2024-12-26T23:01:45.944Z"
   },
   {
    "duration": 174,
    "start_time": "2024-12-26T23:01:46.543Z"
   },
   {
    "duration": 19,
    "start_time": "2024-12-26T23:01:46.719Z"
   },
   {
    "duration": 7,
    "start_time": "2024-12-26T23:01:46.741Z"
   },
   {
    "duration": 83,
    "start_time": "2024-12-26T23:01:46.749Z"
   },
   {
    "duration": 101,
    "start_time": "2024-12-26T23:01:46.833Z"
   },
   {
    "duration": 17,
    "start_time": "2024-12-26T23:01:46.935Z"
   },
   {
    "duration": 6,
    "start_time": "2024-12-26T23:01:46.954Z"
   },
   {
    "duration": 18,
    "start_time": "2024-12-26T23:01:46.963Z"
   },
   {
    "duration": 256,
    "start_time": "2024-12-26T23:01:46.982Z"
   },
   {
    "duration": 16,
    "start_time": "2024-12-26T23:01:47.240Z"
   },
   {
    "duration": 7,
    "start_time": "2024-12-26T23:01:47.258Z"
   },
   {
    "duration": 100,
    "start_time": "2024-12-26T23:01:47.267Z"
   },
   {
    "duration": 10,
    "start_time": "2024-12-26T23:01:47.370Z"
   },
   {
    "duration": 69,
    "start_time": "2024-12-26T23:01:47.382Z"
   },
   {
    "duration": 13,
    "start_time": "2024-12-26T23:01:47.453Z"
   },
   {
    "duration": 4,
    "start_time": "2024-12-26T23:01:47.468Z"
   },
   {
    "duration": 6,
    "start_time": "2024-12-26T23:01:47.474Z"
   },
   {
    "duration": 6,
    "start_time": "2024-12-26T23:01:47.481Z"
   },
   {
    "duration": 48,
    "start_time": "2024-12-26T23:01:47.489Z"
   },
   {
    "duration": 69,
    "start_time": "2024-12-26T23:01:47.539Z"
   },
   {
    "duration": 23,
    "start_time": "2024-12-26T23:01:47.610Z"
   },
   {
    "duration": 5,
    "start_time": "2024-12-26T23:01:47.635Z"
   },
   {
    "duration": 5,
    "start_time": "2024-12-26T23:01:47.642Z"
   },
   {
    "duration": 675,
    "start_time": "2024-12-26T23:01:47.649Z"
   },
   {
    "duration": 0,
    "start_time": "2024-12-26T23:01:48.326Z"
   },
   {
    "duration": 0,
    "start_time": "2024-12-26T23:01:48.327Z"
   },
   {
    "duration": 0,
    "start_time": "2024-12-26T23:01:48.328Z"
   },
   {
    "duration": 0,
    "start_time": "2024-12-26T23:01:48.329Z"
   },
   {
    "duration": 0,
    "start_time": "2024-12-26T23:01:48.330Z"
   },
   {
    "duration": 0,
    "start_time": "2024-12-26T23:01:48.331Z"
   },
   {
    "duration": 0,
    "start_time": "2024-12-26T23:01:48.333Z"
   },
   {
    "duration": 0,
    "start_time": "2024-12-26T23:01:48.334Z"
   },
   {
    "duration": 0,
    "start_time": "2024-12-26T23:01:48.335Z"
   },
   {
    "duration": 0,
    "start_time": "2024-12-26T23:01:48.336Z"
   },
   {
    "duration": 0,
    "start_time": "2024-12-26T23:01:48.337Z"
   },
   {
    "duration": 0,
    "start_time": "2024-12-26T23:01:48.338Z"
   },
   {
    "duration": 0,
    "start_time": "2024-12-26T23:01:48.339Z"
   },
   {
    "duration": 0,
    "start_time": "2024-12-26T23:01:48.340Z"
   },
   {
    "duration": 0,
    "start_time": "2024-12-26T23:01:48.341Z"
   },
   {
    "duration": 0,
    "start_time": "2024-12-26T23:01:48.342Z"
   },
   {
    "duration": 0,
    "start_time": "2024-12-26T23:01:48.344Z"
   },
   {
    "duration": 0,
    "start_time": "2024-12-26T23:01:48.345Z"
   },
   {
    "duration": 0,
    "start_time": "2024-12-26T23:01:48.347Z"
   },
   {
    "duration": 0,
    "start_time": "2024-12-26T23:01:48.349Z"
   },
   {
    "duration": 0,
    "start_time": "2024-12-26T23:01:48.350Z"
   },
   {
    "duration": 0,
    "start_time": "2024-12-26T23:01:48.352Z"
   },
   {
    "duration": 0,
    "start_time": "2024-12-26T23:01:48.353Z"
   },
   {
    "duration": 0,
    "start_time": "2024-12-26T23:01:48.354Z"
   },
   {
    "duration": 0,
    "start_time": "2024-12-26T23:01:48.356Z"
   },
   {
    "duration": 0,
    "start_time": "2024-12-26T23:01:48.356Z"
   },
   {
    "duration": 0,
    "start_time": "2024-12-26T23:01:48.358Z"
   },
   {
    "duration": 0,
    "start_time": "2024-12-26T23:01:48.359Z"
   },
   {
    "duration": 3,
    "start_time": "2024-12-26T23:21:36.127Z"
   },
   {
    "duration": 520,
    "start_time": "2024-12-26T23:21:36.133Z"
   },
   {
    "duration": 174,
    "start_time": "2024-12-26T23:21:36.656Z"
   },
   {
    "duration": 19,
    "start_time": "2024-12-26T23:21:36.832Z"
   },
   {
    "duration": 8,
    "start_time": "2024-12-26T23:21:36.855Z"
   },
   {
    "duration": 83,
    "start_time": "2024-12-26T23:21:36.866Z"
   },
   {
    "duration": 109,
    "start_time": "2024-12-26T23:21:36.952Z"
   },
   {
    "duration": 19,
    "start_time": "2024-12-26T23:21:37.063Z"
   },
   {
    "duration": 6,
    "start_time": "2024-12-26T23:21:37.084Z"
   },
   {
    "duration": 40,
    "start_time": "2024-12-26T23:21:37.091Z"
   },
   {
    "duration": 191,
    "start_time": "2024-12-26T23:21:37.134Z"
   },
   {
    "duration": 18,
    "start_time": "2024-12-26T23:21:37.327Z"
   },
   {
    "duration": 6,
    "start_time": "2024-12-26T23:21:37.347Z"
   },
   {
    "duration": 99,
    "start_time": "2024-12-26T23:21:37.355Z"
   },
   {
    "duration": 12,
    "start_time": "2024-12-26T23:21:37.456Z"
   },
   {
    "duration": 76,
    "start_time": "2024-12-26T23:21:37.469Z"
   },
   {
    "duration": 13,
    "start_time": "2024-12-26T23:21:37.547Z"
   },
   {
    "duration": 4,
    "start_time": "2024-12-26T23:21:37.561Z"
   },
   {
    "duration": 6,
    "start_time": "2024-12-26T23:21:37.567Z"
   },
   {
    "duration": 5,
    "start_time": "2024-12-26T23:21:37.575Z"
   },
   {
    "duration": 51,
    "start_time": "2024-12-26T23:21:37.582Z"
   },
   {
    "duration": 72,
    "start_time": "2024-12-26T23:21:37.635Z"
   },
   {
    "duration": 20,
    "start_time": "2024-12-26T23:21:37.709Z"
   },
   {
    "duration": 6,
    "start_time": "2024-12-26T23:21:37.731Z"
   },
   {
    "duration": 7,
    "start_time": "2024-12-26T23:21:37.740Z"
   },
   {
    "duration": 178,
    "start_time": "2024-12-26T23:21:37.748Z"
   },
   {
    "duration": 0,
    "start_time": "2024-12-26T23:21:37.928Z"
   },
   {
    "duration": 0,
    "start_time": "2024-12-26T23:21:37.929Z"
   },
   {
    "duration": 0,
    "start_time": "2024-12-26T23:21:37.931Z"
   },
   {
    "duration": 0,
    "start_time": "2024-12-26T23:21:37.932Z"
   },
   {
    "duration": 0,
    "start_time": "2024-12-26T23:21:37.933Z"
   },
   {
    "duration": 0,
    "start_time": "2024-12-26T23:21:37.934Z"
   },
   {
    "duration": 0,
    "start_time": "2024-12-26T23:21:37.935Z"
   },
   {
    "duration": 0,
    "start_time": "2024-12-26T23:21:37.936Z"
   },
   {
    "duration": 0,
    "start_time": "2024-12-26T23:21:37.937Z"
   },
   {
    "duration": 0,
    "start_time": "2024-12-26T23:21:37.938Z"
   },
   {
    "duration": 0,
    "start_time": "2024-12-26T23:21:37.938Z"
   },
   {
    "duration": 0,
    "start_time": "2024-12-26T23:21:37.939Z"
   },
   {
    "duration": 0,
    "start_time": "2024-12-26T23:21:37.940Z"
   },
   {
    "duration": 0,
    "start_time": "2024-12-26T23:21:37.941Z"
   },
   {
    "duration": 0,
    "start_time": "2024-12-26T23:21:37.942Z"
   },
   {
    "duration": 0,
    "start_time": "2024-12-26T23:21:37.943Z"
   },
   {
    "duration": 0,
    "start_time": "2024-12-26T23:21:37.944Z"
   },
   {
    "duration": 0,
    "start_time": "2024-12-26T23:21:37.944Z"
   },
   {
    "duration": 0,
    "start_time": "2024-12-26T23:21:37.945Z"
   },
   {
    "duration": 0,
    "start_time": "2024-12-26T23:21:37.947Z"
   },
   {
    "duration": 0,
    "start_time": "2024-12-26T23:21:37.948Z"
   },
   {
    "duration": 0,
    "start_time": "2024-12-26T23:21:37.949Z"
   },
   {
    "duration": 0,
    "start_time": "2024-12-26T23:21:37.954Z"
   },
   {
    "duration": 0,
    "start_time": "2024-12-26T23:21:37.956Z"
   },
   {
    "duration": 0,
    "start_time": "2024-12-26T23:21:37.957Z"
   },
   {
    "duration": 0,
    "start_time": "2024-12-26T23:21:37.958Z"
   },
   {
    "duration": 0,
    "start_time": "2024-12-26T23:21:37.959Z"
   },
   {
    "duration": 0,
    "start_time": "2024-12-26T23:21:37.960Z"
   },
   {
    "duration": 4,
    "start_time": "2024-12-26T23:22:55.131Z"
   },
   {
    "duration": 498,
    "start_time": "2024-12-26T23:22:55.139Z"
   },
   {
    "duration": 170,
    "start_time": "2024-12-26T23:22:55.639Z"
   },
   {
    "duration": 21,
    "start_time": "2024-12-26T23:22:55.811Z"
   },
   {
    "duration": 6,
    "start_time": "2024-12-26T23:22:55.834Z"
   },
   {
    "duration": 54,
    "start_time": "2024-12-26T23:22:55.842Z"
   },
   {
    "duration": 111,
    "start_time": "2024-12-26T23:22:55.898Z"
   },
   {
    "duration": 33,
    "start_time": "2024-12-26T23:22:56.010Z"
   },
   {
    "duration": 6,
    "start_time": "2024-12-26T23:22:56.045Z"
   },
   {
    "duration": 20,
    "start_time": "2024-12-26T23:22:56.053Z"
   },
   {
    "duration": 205,
    "start_time": "2024-12-26T23:22:56.075Z"
   },
   {
    "duration": 16,
    "start_time": "2024-12-26T23:22:56.282Z"
   },
   {
    "duration": 7,
    "start_time": "2024-12-26T23:22:56.300Z"
   },
   {
    "duration": 76,
    "start_time": "2024-12-26T23:22:56.324Z"
   },
   {
    "duration": 21,
    "start_time": "2024-12-26T23:22:56.404Z"
   },
   {
    "duration": 55,
    "start_time": "2024-12-26T23:22:56.427Z"
   },
   {
    "duration": 12,
    "start_time": "2024-12-26T23:22:56.483Z"
   },
   {
    "duration": 3,
    "start_time": "2024-12-26T23:22:56.497Z"
   },
   {
    "duration": 26,
    "start_time": "2024-12-26T23:22:56.502Z"
   },
   {
    "duration": 5,
    "start_time": "2024-12-26T23:22:56.530Z"
   },
   {
    "duration": 13,
    "start_time": "2024-12-26T23:22:56.536Z"
   },
   {
    "duration": 87,
    "start_time": "2024-12-26T23:22:56.552Z"
   },
   {
    "duration": 7,
    "start_time": "2024-12-26T23:22:56.641Z"
   },
   {
    "duration": 5,
    "start_time": "2024-12-26T23:22:56.649Z"
   },
   {
    "duration": 5,
    "start_time": "2024-12-26T23:22:56.656Z"
   },
   {
    "duration": 4,
    "start_time": "2024-12-26T23:22:56.663Z"
   },
   {
    "duration": 16,
    "start_time": "2024-12-26T23:22:56.668Z"
   },
   {
    "duration": 5,
    "start_time": "2024-12-26T23:22:56.685Z"
   },
   {
    "duration": 4,
    "start_time": "2024-12-26T23:22:56.725Z"
   },
   {
    "duration": 5,
    "start_time": "2024-12-26T23:22:56.731Z"
   },
   {
    "duration": 3,
    "start_time": "2024-12-26T23:22:56.738Z"
   },
   {
    "duration": 221,
    "start_time": "2024-12-26T23:22:56.743Z"
   },
   {
    "duration": 201,
    "start_time": "2024-12-26T23:22:56.966Z"
   },
   {
    "duration": 215,
    "start_time": "2024-12-26T23:22:57.169Z"
   },
   {
    "duration": 263,
    "start_time": "2024-12-26T23:22:57.386Z"
   },
   {
    "duration": 368,
    "start_time": "2024-12-26T23:22:57.650Z"
   },
   {
    "duration": 4,
    "start_time": "2024-12-26T23:22:58.023Z"
   },
   {
    "duration": 1627,
    "start_time": "2024-12-26T23:22:58.031Z"
   },
   {
    "duration": 16,
    "start_time": "2024-12-26T23:22:59.660Z"
   },
   {
    "duration": 7,
    "start_time": "2024-12-26T23:22:59.677Z"
   },
   {
    "duration": 9,
    "start_time": "2024-12-26T23:22:59.686Z"
   },
   {
    "duration": 4,
    "start_time": "2024-12-26T23:22:59.725Z"
   },
   {
    "duration": 4,
    "start_time": "2024-12-26T23:22:59.730Z"
   },
   {
    "duration": 12,
    "start_time": "2024-12-26T23:22:59.736Z"
   },
   {
    "duration": 6,
    "start_time": "2024-12-26T23:22:59.750Z"
   },
   {
    "duration": 15,
    "start_time": "2024-12-26T23:22:59.757Z"
   },
   {
    "duration": 12,
    "start_time": "2024-12-26T23:22:59.773Z"
   },
   {
    "duration": 44,
    "start_time": "2024-12-26T23:22:59.786Z"
   },
   {
    "duration": 10,
    "start_time": "2024-12-26T23:22:59.832Z"
   },
   {
    "duration": 15,
    "start_time": "2024-12-26T23:22:59.844Z"
   },
   {
    "duration": 4,
    "start_time": "2024-12-26T23:22:59.861Z"
   },
   {
    "duration": 242,
    "start_time": "2024-12-26T23:22:59.867Z"
   },
   {
    "duration": 0,
    "start_time": "2024-12-26T23:23:00.111Z"
   },
   {
    "duration": 0,
    "start_time": "2024-12-26T23:23:00.111Z"
   },
   {
    "duration": 0,
    "start_time": "2024-12-26T23:23:00.113Z"
   },
   {
    "duration": 189,
    "start_time": "2024-12-26T23:34:49.517Z"
   },
   {
    "duration": 9,
    "start_time": "2024-12-26T23:35:17.471Z"
   },
   {
    "duration": 7,
    "start_time": "2024-12-26T23:35:20.299Z"
   },
   {
    "duration": 5,
    "start_time": "2024-12-26T23:35:21.896Z"
   },
   {
    "duration": 260,
    "start_time": "2024-12-26T23:35:23.699Z"
   },
   {
    "duration": 4,
    "start_time": "2024-12-26T23:35:49.176Z"
   },
   {
    "duration": 81,
    "start_time": "2024-12-26T23:36:34.046Z"
   },
   {
    "duration": 16,
    "start_time": "2024-12-26T23:38:23.530Z"
   },
   {
    "duration": 4,
    "start_time": "2024-12-26T23:38:26.024Z"
   },
   {
    "duration": 104,
    "start_time": "2024-12-26T23:38:28.780Z"
   },
   {
    "duration": 3,
    "start_time": "2024-12-26T23:40:43.847Z"
   },
   {
    "duration": 4,
    "start_time": "2024-12-26T23:43:00.139Z"
   },
   {
    "duration": 3,
    "start_time": "2024-12-26T23:43:17.825Z"
   },
   {
    "duration": 4,
    "start_time": "2024-12-26T23:43:20.723Z"
   },
   {
    "duration": 461,
    "start_time": "2024-12-26T23:43:22.372Z"
   },
   {
    "duration": 7720,
    "start_time": "2024-12-26T23:43:26.441Z"
   },
   {
    "duration": 225963,
    "start_time": "2024-12-26T23:43:38.494Z"
   },
   {
    "duration": 18435,
    "start_time": "2024-12-26T23:47:33.139Z"
   },
   {
    "duration": 16,
    "start_time": "2024-12-26T23:53:33.777Z"
   },
   {
    "duration": 41,
    "start_time": "2024-12-26T23:55:00.912Z"
   },
   {
    "duration": 37,
    "start_time": "2024-12-26T23:55:25.348Z"
   },
   {
    "duration": 37,
    "start_time": "2024-12-26T23:55:28.830Z"
   },
   {
    "duration": 3,
    "start_time": "2024-12-26T23:59:01.247Z"
   },
   {
    "duration": 43,
    "start_time": "2024-12-26T23:59:09.226Z"
   },
   {
    "duration": 43,
    "start_time": "2024-12-27T00:00:34.519Z"
   },
   {
    "duration": 3,
    "start_time": "2024-12-27T00:02:19.148Z"
   },
   {
    "duration": 4,
    "start_time": "2024-12-27T00:03:03.979Z"
   },
   {
    "duration": 503,
    "start_time": "2024-12-27T00:03:03.987Z"
   },
   {
    "duration": 169,
    "start_time": "2024-12-27T00:03:04.493Z"
   },
   {
    "duration": 32,
    "start_time": "2024-12-27T00:03:04.664Z"
   },
   {
    "duration": 8,
    "start_time": "2024-12-27T00:03:04.698Z"
   },
   {
    "duration": 67,
    "start_time": "2024-12-27T00:03:04.709Z"
   },
   {
    "duration": 102,
    "start_time": "2024-12-27T00:03:04.778Z"
   },
   {
    "duration": 17,
    "start_time": "2024-12-27T00:03:04.882Z"
   },
   {
    "duration": 4,
    "start_time": "2024-12-27T00:03:04.901Z"
   },
   {
    "duration": 34,
    "start_time": "2024-12-27T00:03:04.907Z"
   },
   {
    "duration": 186,
    "start_time": "2024-12-27T00:03:04.943Z"
   },
   {
    "duration": 17,
    "start_time": "2024-12-27T00:03:05.131Z"
   },
   {
    "duration": 7,
    "start_time": "2024-12-27T00:03:05.149Z"
   },
   {
    "duration": 97,
    "start_time": "2024-12-27T00:03:05.157Z"
   },
   {
    "duration": 10,
    "start_time": "2024-12-27T00:03:05.258Z"
   },
   {
    "duration": 74,
    "start_time": "2024-12-27T00:03:05.269Z"
   },
   {
    "duration": 13,
    "start_time": "2024-12-27T00:03:05.345Z"
   },
   {
    "duration": 4,
    "start_time": "2024-12-27T00:03:05.359Z"
   },
   {
    "duration": 5,
    "start_time": "2024-12-27T00:03:05.365Z"
   },
   {
    "duration": 5,
    "start_time": "2024-12-27T00:03:05.371Z"
   },
   {
    "duration": 17,
    "start_time": "2024-12-27T00:03:05.378Z"
   },
   {
    "duration": 71,
    "start_time": "2024-12-27T00:03:05.425Z"
   },
   {
    "duration": 6,
    "start_time": "2024-12-27T00:03:05.498Z"
   },
   {
    "duration": 23,
    "start_time": "2024-12-27T00:03:05.505Z"
   },
   {
    "duration": 6,
    "start_time": "2024-12-27T00:03:05.530Z"
   },
   {
    "duration": 4,
    "start_time": "2024-12-27T00:03:05.538Z"
   },
   {
    "duration": 15,
    "start_time": "2024-12-27T00:03:05.545Z"
   },
   {
    "duration": 5,
    "start_time": "2024-12-27T00:03:05.561Z"
   },
   {
    "duration": 5,
    "start_time": "2024-12-27T00:03:05.568Z"
   },
   {
    "duration": 4,
    "start_time": "2024-12-27T00:03:05.574Z"
   },
   {
    "duration": 44,
    "start_time": "2024-12-27T00:03:05.580Z"
   },
   {
    "duration": 211,
    "start_time": "2024-12-27T00:03:05.625Z"
   },
   {
    "duration": 280,
    "start_time": "2024-12-27T00:03:05.838Z"
   },
   {
    "duration": 206,
    "start_time": "2024-12-27T00:03:06.124Z"
   },
   {
    "duration": 244,
    "start_time": "2024-12-27T00:03:06.331Z"
   },
   {
    "duration": 253,
    "start_time": "2024-12-27T00:03:06.577Z"
   },
   {
    "duration": 5,
    "start_time": "2024-12-27T00:03:06.832Z"
   },
   {
    "duration": 1731,
    "start_time": "2024-12-27T00:03:06.838Z"
   },
   {
    "duration": 14,
    "start_time": "2024-12-27T00:03:08.571Z"
   },
   {
    "duration": 7,
    "start_time": "2024-12-27T00:03:08.587Z"
   },
   {
    "duration": 29,
    "start_time": "2024-12-27T00:03:08.596Z"
   },
   {
    "duration": 3,
    "start_time": "2024-12-27T00:03:08.631Z"
   },
   {
    "duration": 7,
    "start_time": "2024-12-27T00:03:08.636Z"
   },
   {
    "duration": 16,
    "start_time": "2024-12-27T00:03:08.644Z"
   },
   {
    "duration": 4,
    "start_time": "2024-12-27T00:03:08.662Z"
   },
   {
    "duration": 19,
    "start_time": "2024-12-27T00:03:08.668Z"
   },
   {
    "duration": 14,
    "start_time": "2024-12-27T00:03:08.688Z"
   },
   {
    "duration": 12,
    "start_time": "2024-12-27T00:03:08.725Z"
   },
   {
    "duration": 8,
    "start_time": "2024-12-27T00:03:08.739Z"
   },
   {
    "duration": 3,
    "start_time": "2024-12-27T00:03:08.749Z"
   },
   {
    "duration": 4,
    "start_time": "2024-12-27T00:03:08.754Z"
   },
   {
    "duration": 2,
    "start_time": "2024-12-27T00:03:08.760Z"
   },
   {
    "duration": 5,
    "start_time": "2024-12-27T00:03:08.764Z"
   },
   {
    "duration": 575,
    "start_time": "2024-12-27T00:03:08.770Z"
   },
   {
    "duration": 8145,
    "start_time": "2024-12-27T00:03:09.346Z"
   },
   {
    "duration": 227182,
    "start_time": "2024-12-27T00:03:17.492Z"
   },
   {
    "duration": 3,
    "start_time": "2024-12-27T00:07:04.676Z"
   },
   {
    "duration": 0,
    "start_time": "2024-12-27T00:07:04.741Z"
   },
   {
    "duration": 43,
    "start_time": "2024-12-27T00:07:30.554Z"
   },
   {
    "duration": 41,
    "start_time": "2024-12-27T00:10:02.899Z"
   },
   {
    "duration": 39,
    "start_time": "2024-12-27T00:10:55.595Z"
   },
   {
    "duration": 3,
    "start_time": "2024-12-27T00:11:15.967Z"
   },
   {
    "duration": 4,
    "start_time": "2024-12-27T00:11:21.818Z"
   },
   {
    "duration": 41,
    "start_time": "2024-12-27T00:11:32.717Z"
   },
   {
    "duration": 4,
    "start_time": "2024-12-27T00:12:22.518Z"
   },
   {
    "duration": 507,
    "start_time": "2024-12-27T00:12:22.526Z"
   },
   {
    "duration": 170,
    "start_time": "2024-12-27T00:12:23.035Z"
   },
   {
    "duration": 26,
    "start_time": "2024-12-27T00:12:23.207Z"
   },
   {
    "duration": 6,
    "start_time": "2024-12-27T00:12:23.234Z"
   },
   {
    "duration": 53,
    "start_time": "2024-12-27T00:12:23.244Z"
   },
   {
    "duration": 109,
    "start_time": "2024-12-27T00:12:23.299Z"
   },
   {
    "duration": 28,
    "start_time": "2024-12-27T00:12:23.410Z"
   },
   {
    "duration": 5,
    "start_time": "2024-12-27T00:12:23.440Z"
   },
   {
    "duration": 17,
    "start_time": "2024-12-27T00:12:23.448Z"
   },
   {
    "duration": 194,
    "start_time": "2024-12-27T00:12:23.467Z"
   },
   {
    "duration": 17,
    "start_time": "2024-12-27T00:12:23.663Z"
   },
   {
    "duration": 7,
    "start_time": "2024-12-27T00:12:23.681Z"
   },
   {
    "duration": 107,
    "start_time": "2024-12-27T00:12:23.690Z"
   },
   {
    "duration": 10,
    "start_time": "2024-12-27T00:12:23.801Z"
   },
   {
    "duration": 72,
    "start_time": "2024-12-27T00:12:23.813Z"
   },
   {
    "duration": 12,
    "start_time": "2024-12-27T00:12:23.887Z"
   },
   {
    "duration": 4,
    "start_time": "2024-12-27T00:12:23.901Z"
   },
   {
    "duration": 21,
    "start_time": "2024-12-27T00:12:23.906Z"
   },
   {
    "duration": 6,
    "start_time": "2024-12-27T00:12:23.929Z"
   },
   {
    "duration": 14,
    "start_time": "2024-12-27T00:12:23.936Z"
   },
   {
    "duration": 95,
    "start_time": "2024-12-27T00:12:23.952Z"
   },
   {
    "duration": 6,
    "start_time": "2024-12-27T00:12:24.049Z"
   },
   {
    "duration": 4,
    "start_time": "2024-12-27T00:12:24.057Z"
   },
   {
    "duration": 6,
    "start_time": "2024-12-27T00:12:24.063Z"
   },
   {
    "duration": 5,
    "start_time": "2024-12-27T00:12:24.071Z"
   },
   {
    "duration": 16,
    "start_time": "2024-12-27T00:12:24.077Z"
   },
   {
    "duration": 5,
    "start_time": "2024-12-27T00:12:24.125Z"
   },
   {
    "duration": 5,
    "start_time": "2024-12-27T00:12:24.132Z"
   },
   {
    "duration": 4,
    "start_time": "2024-12-27T00:12:24.139Z"
   },
   {
    "duration": 4,
    "start_time": "2024-12-27T00:12:24.145Z"
   },
   {
    "duration": 225,
    "start_time": "2024-12-27T00:12:24.151Z"
   },
   {
    "duration": 340,
    "start_time": "2024-12-27T00:12:24.377Z"
   },
   {
    "duration": 213,
    "start_time": "2024-12-27T00:12:24.724Z"
   },
   {
    "duration": 240,
    "start_time": "2024-12-27T00:12:24.938Z"
   },
   {
    "duration": 267,
    "start_time": "2024-12-27T00:12:25.180Z"
   },
   {
    "duration": 4,
    "start_time": "2024-12-27T00:12:25.449Z"
   },
   {
    "duration": 1753,
    "start_time": "2024-12-27T00:12:25.455Z"
   },
   {
    "duration": 25,
    "start_time": "2024-12-27T00:12:27.210Z"
   },
   {
    "duration": 5,
    "start_time": "2024-12-27T00:12:27.237Z"
   },
   {
    "duration": 11,
    "start_time": "2024-12-27T00:12:27.244Z"
   },
   {
    "duration": 4,
    "start_time": "2024-12-27T00:12:27.259Z"
   },
   {
    "duration": 5,
    "start_time": "2024-12-27T00:12:27.265Z"
   },
   {
    "duration": 13,
    "start_time": "2024-12-27T00:12:27.272Z"
   },
   {
    "duration": 42,
    "start_time": "2024-12-27T00:12:27.287Z"
   },
   {
    "duration": 17,
    "start_time": "2024-12-27T00:12:27.331Z"
   },
   {
    "duration": 11,
    "start_time": "2024-12-27T00:12:27.351Z"
   },
   {
    "duration": 13,
    "start_time": "2024-12-27T00:12:27.364Z"
   },
   {
    "duration": 3,
    "start_time": "2024-12-27T00:12:27.379Z"
   },
   {
    "duration": 3,
    "start_time": "2024-12-27T00:12:27.425Z"
   },
   {
    "duration": 3,
    "start_time": "2024-12-27T00:12:27.431Z"
   },
   {
    "duration": 12,
    "start_time": "2024-12-27T00:12:27.436Z"
   },
   {
    "duration": 6,
    "start_time": "2024-12-27T00:12:27.451Z"
   },
   {
    "duration": 159,
    "start_time": "2024-12-27T00:12:27.459Z"
   },
   {
    "duration": 0,
    "start_time": "2024-12-27T00:12:27.632Z"
   },
   {
    "duration": 0,
    "start_time": "2024-12-27T00:12:27.633Z"
   },
   {
    "duration": 0,
    "start_time": "2024-12-27T00:12:27.634Z"
   },
   {
    "duration": 0,
    "start_time": "2024-12-27T00:12:27.636Z"
   },
   {
    "duration": 26,
    "start_time": "2024-12-27T00:13:09.181Z"
   },
   {
    "duration": 3,
    "start_time": "2024-12-27T00:13:36.552Z"
   },
   {
    "duration": 3,
    "start_time": "2024-12-27T00:13:41.655Z"
   },
   {
    "duration": 454,
    "start_time": "2024-12-27T00:13:41.663Z"
   },
   {
    "duration": 175,
    "start_time": "2024-12-27T00:13:42.119Z"
   },
   {
    "duration": 16,
    "start_time": "2024-12-27T00:13:42.296Z"
   },
   {
    "duration": 15,
    "start_time": "2024-12-27T00:13:42.314Z"
   },
   {
    "duration": 52,
    "start_time": "2024-12-27T00:13:42.331Z"
   },
   {
    "duration": 108,
    "start_time": "2024-12-27T00:13:42.386Z"
   },
   {
    "duration": 28,
    "start_time": "2024-12-27T00:13:42.496Z"
   },
   {
    "duration": 5,
    "start_time": "2024-12-27T00:13:42.527Z"
   },
   {
    "duration": 18,
    "start_time": "2024-12-27T00:13:42.534Z"
   },
   {
    "duration": 194,
    "start_time": "2024-12-27T00:13:42.554Z"
   },
   {
    "duration": 17,
    "start_time": "2024-12-27T00:13:42.750Z"
   },
   {
    "duration": 7,
    "start_time": "2024-12-27T00:13:42.768Z"
   },
   {
    "duration": 97,
    "start_time": "2024-12-27T00:13:42.777Z"
   },
   {
    "duration": 10,
    "start_time": "2024-12-27T00:13:42.877Z"
   },
   {
    "duration": 186,
    "start_time": "2024-12-27T00:13:42.889Z"
   },
   {
    "duration": 12,
    "start_time": "2024-12-27T00:13:43.078Z"
   },
   {
    "duration": 4,
    "start_time": "2024-12-27T00:13:43.092Z"
   },
   {
    "duration": 26,
    "start_time": "2024-12-27T00:13:43.098Z"
   },
   {
    "duration": 6,
    "start_time": "2024-12-27T00:13:43.126Z"
   },
   {
    "duration": 14,
    "start_time": "2024-12-27T00:13:43.133Z"
   },
   {
    "duration": 90,
    "start_time": "2024-12-27T00:13:43.149Z"
   },
   {
    "duration": 7,
    "start_time": "2024-12-27T00:13:43.241Z"
   },
   {
    "duration": 5,
    "start_time": "2024-12-27T00:13:43.249Z"
   },
   {
    "duration": 6,
    "start_time": "2024-12-27T00:13:43.256Z"
   },
   {
    "duration": 4,
    "start_time": "2024-12-27T00:13:43.264Z"
   },
   {
    "duration": 15,
    "start_time": "2024-12-27T00:13:43.270Z"
   },
   {
    "duration": 5,
    "start_time": "2024-12-27T00:13:43.286Z"
   },
   {
    "duration": 5,
    "start_time": "2024-12-27T00:13:43.324Z"
   },
   {
    "duration": 5,
    "start_time": "2024-12-27T00:13:43.331Z"
   },
   {
    "duration": 4,
    "start_time": "2024-12-27T00:13:43.338Z"
   },
   {
    "duration": 225,
    "start_time": "2024-12-27T00:13:43.343Z"
   },
   {
    "duration": 217,
    "start_time": "2024-12-27T00:13:43.570Z"
   },
   {
    "duration": 229,
    "start_time": "2024-12-27T00:13:43.789Z"
   },
   {
    "duration": 244,
    "start_time": "2024-12-27T00:13:44.025Z"
   },
   {
    "duration": 261,
    "start_time": "2024-12-27T00:13:44.271Z"
   },
   {
    "duration": 4,
    "start_time": "2024-12-27T00:13:44.534Z"
   },
   {
    "duration": 1756,
    "start_time": "2024-12-27T00:13:44.540Z"
   },
   {
    "duration": 28,
    "start_time": "2024-12-27T00:13:46.298Z"
   },
   {
    "duration": 6,
    "start_time": "2024-12-27T00:13:46.328Z"
   },
   {
    "duration": 9,
    "start_time": "2024-12-27T00:13:46.335Z"
   },
   {
    "duration": 3,
    "start_time": "2024-12-27T00:13:46.349Z"
   },
   {
    "duration": 5,
    "start_time": "2024-12-27T00:13:46.354Z"
   },
   {
    "duration": 13,
    "start_time": "2024-12-27T00:13:46.360Z"
   },
   {
    "duration": 5,
    "start_time": "2024-12-27T00:13:46.374Z"
   },
   {
    "duration": 49,
    "start_time": "2024-12-27T00:13:46.381Z"
   },
   {
    "duration": 11,
    "start_time": "2024-12-27T00:13:46.432Z"
   },
   {
    "duration": 12,
    "start_time": "2024-12-27T00:13:46.444Z"
   },
   {
    "duration": 10,
    "start_time": "2024-12-27T00:13:46.457Z"
   },
   {
    "duration": 2,
    "start_time": "2024-12-27T00:13:46.469Z"
   },
   {
    "duration": 3,
    "start_time": "2024-12-27T00:13:46.473Z"
   },
   {
    "duration": 3,
    "start_time": "2024-12-27T00:13:46.478Z"
   },
   {
    "duration": 43,
    "start_time": "2024-12-27T00:13:46.483Z"
   },
   {
    "duration": 48,
    "start_time": "2024-12-27T00:13:46.528Z"
   },
   {
    "duration": 0,
    "start_time": "2024-12-27T00:13:46.578Z"
   },
   {
    "duration": 0,
    "start_time": "2024-12-27T00:13:46.579Z"
   },
   {
    "duration": 1,
    "start_time": "2024-12-27T00:13:46.579Z"
   },
   {
    "duration": 0,
    "start_time": "2024-12-27T00:13:46.581Z"
   },
   {
    "duration": 3,
    "start_time": "2024-12-27T00:14:05.340Z"
   },
   {
    "duration": 3,
    "start_time": "2024-12-27T00:14:07.749Z"
   },
   {
    "duration": 4,
    "start_time": "2024-12-27T00:15:22.500Z"
   },
   {
    "duration": 479,
    "start_time": "2024-12-27T00:15:22.508Z"
   },
   {
    "duration": 171,
    "start_time": "2024-12-27T00:15:22.989Z"
   },
   {
    "duration": 17,
    "start_time": "2024-12-27T00:15:23.161Z"
   },
   {
    "duration": 6,
    "start_time": "2024-12-27T00:15:23.179Z"
   },
   {
    "duration": 76,
    "start_time": "2024-12-27T00:15:23.188Z"
   },
   {
    "duration": 106,
    "start_time": "2024-12-27T00:15:23.266Z"
   },
   {
    "duration": 17,
    "start_time": "2024-12-27T00:15:23.373Z"
   },
   {
    "duration": 5,
    "start_time": "2024-12-27T00:15:23.392Z"
   },
   {
    "duration": 38,
    "start_time": "2024-12-27T00:15:23.398Z"
   },
   {
    "duration": 323,
    "start_time": "2024-12-27T00:15:23.438Z"
   },
   {
    "duration": 16,
    "start_time": "2024-12-27T00:15:23.763Z"
   },
   {
    "duration": 7,
    "start_time": "2024-12-27T00:15:23.781Z"
   },
   {
    "duration": 100,
    "start_time": "2024-12-27T00:15:23.789Z"
   },
   {
    "duration": 10,
    "start_time": "2024-12-27T00:15:23.894Z"
   },
   {
    "duration": 64,
    "start_time": "2024-12-27T00:15:23.906Z"
   },
   {
    "duration": 13,
    "start_time": "2024-12-27T00:15:23.972Z"
   },
   {
    "duration": 3,
    "start_time": "2024-12-27T00:15:23.987Z"
   },
   {
    "duration": 5,
    "start_time": "2024-12-27T00:15:23.992Z"
   },
   {
    "duration": 26,
    "start_time": "2024-12-27T00:15:23.999Z"
   },
   {
    "duration": 12,
    "start_time": "2024-12-27T00:15:24.026Z"
   },
   {
    "duration": 84,
    "start_time": "2024-12-27T00:15:24.040Z"
   },
   {
    "duration": 7,
    "start_time": "2024-12-27T00:15:24.126Z"
   },
   {
    "duration": 4,
    "start_time": "2024-12-27T00:15:24.135Z"
   },
   {
    "duration": 6,
    "start_time": "2024-12-27T00:15:24.141Z"
   },
   {
    "duration": 5,
    "start_time": "2024-12-27T00:15:24.148Z"
   },
   {
    "duration": 16,
    "start_time": "2024-12-27T00:15:24.154Z"
   },
   {
    "duration": 5,
    "start_time": "2024-12-27T00:15:24.171Z"
   },
   {
    "duration": 4,
    "start_time": "2024-12-27T00:15:24.178Z"
   },
   {
    "duration": 6,
    "start_time": "2024-12-27T00:15:24.223Z"
   },
   {
    "duration": 4,
    "start_time": "2024-12-27T00:15:24.231Z"
   },
   {
    "duration": 205,
    "start_time": "2024-12-27T00:15:24.236Z"
   },
   {
    "duration": 207,
    "start_time": "2024-12-27T00:15:24.444Z"
   },
   {
    "duration": 206,
    "start_time": "2024-12-27T00:15:24.653Z"
   },
   {
    "duration": 245,
    "start_time": "2024-12-27T00:15:24.861Z"
   },
   {
    "duration": 254,
    "start_time": "2024-12-27T00:15:25.108Z"
   },
   {
    "duration": 4,
    "start_time": "2024-12-27T00:15:25.365Z"
   },
   {
    "duration": 1621,
    "start_time": "2024-12-27T00:15:25.371Z"
   },
   {
    "duration": 16,
    "start_time": "2024-12-27T00:15:26.994Z"
   },
   {
    "duration": 5,
    "start_time": "2024-12-27T00:15:27.023Z"
   },
   {
    "duration": 45,
    "start_time": "2024-12-27T00:15:27.030Z"
   },
   {
    "duration": 0,
    "start_time": "2024-12-27T00:15:27.077Z"
   },
   {
    "duration": 0,
    "start_time": "2024-12-27T00:15:27.078Z"
   },
   {
    "duration": 0,
    "start_time": "2024-12-27T00:15:27.080Z"
   },
   {
    "duration": 0,
    "start_time": "2024-12-27T00:15:27.081Z"
   },
   {
    "duration": 0,
    "start_time": "2024-12-27T00:15:27.082Z"
   },
   {
    "duration": 0,
    "start_time": "2024-12-27T00:15:27.083Z"
   },
   {
    "duration": 0,
    "start_time": "2024-12-27T00:15:27.085Z"
   },
   {
    "duration": 0,
    "start_time": "2024-12-27T00:15:27.085Z"
   },
   {
    "duration": 0,
    "start_time": "2024-12-27T00:15:27.086Z"
   },
   {
    "duration": 0,
    "start_time": "2024-12-27T00:15:27.087Z"
   },
   {
    "duration": 0,
    "start_time": "2024-12-27T00:15:27.088Z"
   },
   {
    "duration": 0,
    "start_time": "2024-12-27T00:15:27.089Z"
   },
   {
    "duration": 0,
    "start_time": "2024-12-27T00:15:27.091Z"
   },
   {
    "duration": 0,
    "start_time": "2024-12-27T00:15:27.124Z"
   },
   {
    "duration": 4,
    "start_time": "2024-12-27T00:16:15.044Z"
   },
   {
    "duration": 497,
    "start_time": "2024-12-27T00:16:15.053Z"
   },
   {
    "duration": 172,
    "start_time": "2024-12-27T00:16:15.552Z"
   },
   {
    "duration": 17,
    "start_time": "2024-12-27T00:16:15.725Z"
   },
   {
    "duration": 6,
    "start_time": "2024-12-27T00:16:15.744Z"
   },
   {
    "duration": 72,
    "start_time": "2024-12-27T00:16:15.753Z"
   },
   {
    "duration": 101,
    "start_time": "2024-12-27T00:16:15.827Z"
   },
   {
    "duration": 17,
    "start_time": "2024-12-27T00:16:15.930Z"
   },
   {
    "duration": 6,
    "start_time": "2024-12-27T00:16:15.949Z"
   },
   {
    "duration": 18,
    "start_time": "2024-12-27T00:16:15.956Z"
   },
   {
    "duration": 322,
    "start_time": "2024-12-27T00:16:15.976Z"
   },
   {
    "duration": 26,
    "start_time": "2024-12-27T00:16:16.300Z"
   },
   {
    "duration": 7,
    "start_time": "2024-12-27T00:16:16.327Z"
   },
   {
    "duration": 93,
    "start_time": "2024-12-27T00:16:16.335Z"
   },
   {
    "duration": 10,
    "start_time": "2024-12-27T00:16:16.433Z"
   },
   {
    "duration": 55,
    "start_time": "2024-12-27T00:16:16.445Z"
   },
   {
    "duration": 29,
    "start_time": "2024-12-27T00:16:16.501Z"
   },
   {
    "duration": 4,
    "start_time": "2024-12-27T00:16:16.531Z"
   },
   {
    "duration": 6,
    "start_time": "2024-12-27T00:16:16.537Z"
   },
   {
    "duration": 5,
    "start_time": "2024-12-27T00:16:16.545Z"
   },
   {
    "duration": 13,
    "start_time": "2024-12-27T00:16:16.552Z"
   },
   {
    "duration": 97,
    "start_time": "2024-12-27T00:16:16.567Z"
   },
   {
    "duration": 7,
    "start_time": "2024-12-27T00:16:16.665Z"
   },
   {
    "duration": 5,
    "start_time": "2024-12-27T00:16:16.674Z"
   },
   {
    "duration": 7,
    "start_time": "2024-12-27T00:16:16.680Z"
   },
   {
    "duration": 4,
    "start_time": "2024-12-27T00:16:16.688Z"
   },
   {
    "duration": 44,
    "start_time": "2024-12-27T00:16:16.693Z"
   },
   {
    "duration": 5,
    "start_time": "2024-12-27T00:16:16.739Z"
   },
   {
    "duration": 4,
    "start_time": "2024-12-27T00:16:16.746Z"
   },
   {
    "duration": 4,
    "start_time": "2024-12-27T00:16:16.752Z"
   },
   {
    "duration": 4,
    "start_time": "2024-12-27T00:16:16.758Z"
   },
   {
    "duration": 214,
    "start_time": "2024-12-27T00:16:16.763Z"
   },
   {
    "duration": 202,
    "start_time": "2024-12-27T00:16:16.979Z"
   },
   {
    "duration": 207,
    "start_time": "2024-12-27T00:16:17.183Z"
   },
   {
    "duration": 267,
    "start_time": "2024-12-27T00:16:17.392Z"
   },
   {
    "duration": 264,
    "start_time": "2024-12-27T00:16:17.661Z"
   },
   {
    "duration": 5,
    "start_time": "2024-12-27T00:16:17.927Z"
   },
   {
    "duration": 1712,
    "start_time": "2024-12-27T00:16:17.934Z"
   },
   {
    "duration": 15,
    "start_time": "2024-12-27T00:16:19.648Z"
   },
   {
    "duration": 10,
    "start_time": "2024-12-27T00:16:19.665Z"
   },
   {
    "duration": 4,
    "start_time": "2024-12-27T00:16:19.676Z"
   },
   {
    "duration": 4,
    "start_time": "2024-12-27T00:16:19.684Z"
   },
   {
    "duration": 43,
    "start_time": "2024-12-27T00:16:19.689Z"
   },
   {
    "duration": 4,
    "start_time": "2024-12-27T00:16:19.735Z"
   },
   {
    "duration": 42,
    "start_time": "2024-12-27T00:16:19.741Z"
   },
   {
    "duration": 0,
    "start_time": "2024-12-27T00:16:19.785Z"
   },
   {
    "duration": 0,
    "start_time": "2024-12-27T00:16:19.786Z"
   },
   {
    "duration": 0,
    "start_time": "2024-12-27T00:16:19.787Z"
   },
   {
    "duration": 0,
    "start_time": "2024-12-27T00:16:19.788Z"
   },
   {
    "duration": 0,
    "start_time": "2024-12-27T00:16:19.789Z"
   },
   {
    "duration": 0,
    "start_time": "2024-12-27T00:16:19.790Z"
   },
   {
    "duration": 0,
    "start_time": "2024-12-27T00:16:19.791Z"
   },
   {
    "duration": 0,
    "start_time": "2024-12-27T00:16:19.792Z"
   },
   {
    "duration": 0,
    "start_time": "2024-12-27T00:16:19.793Z"
   },
   {
    "duration": 0,
    "start_time": "2024-12-27T00:16:19.794Z"
   },
   {
    "duration": 4,
    "start_time": "2024-12-27T00:18:07.835Z"
   },
   {
    "duration": 460,
    "start_time": "2024-12-27T00:18:07.845Z"
   },
   {
    "duration": 295,
    "start_time": "2024-12-27T00:18:08.308Z"
   },
   {
    "duration": 22,
    "start_time": "2024-12-27T00:18:08.605Z"
   },
   {
    "duration": 6,
    "start_time": "2024-12-27T00:18:08.629Z"
   },
   {
    "duration": 53,
    "start_time": "2024-12-27T00:18:08.638Z"
   },
   {
    "duration": 113,
    "start_time": "2024-12-27T00:18:08.693Z"
   },
   {
    "duration": 25,
    "start_time": "2024-12-27T00:18:08.808Z"
   },
   {
    "duration": 6,
    "start_time": "2024-12-27T00:18:08.835Z"
   },
   {
    "duration": 18,
    "start_time": "2024-12-27T00:18:08.842Z"
   },
   {
    "duration": 194,
    "start_time": "2024-12-27T00:18:08.861Z"
   },
   {
    "duration": 16,
    "start_time": "2024-12-27T00:18:09.056Z"
   },
   {
    "duration": 6,
    "start_time": "2024-12-27T00:18:09.075Z"
   },
   {
    "duration": 103,
    "start_time": "2024-12-27T00:18:09.083Z"
   },
   {
    "duration": 10,
    "start_time": "2024-12-27T00:18:09.190Z"
   },
   {
    "duration": 67,
    "start_time": "2024-12-27T00:18:09.202Z"
   },
   {
    "duration": 13,
    "start_time": "2024-12-27T00:18:09.271Z"
   },
   {
    "duration": 4,
    "start_time": "2024-12-27T00:18:09.285Z"
   },
   {
    "duration": 6,
    "start_time": "2024-12-27T00:18:09.290Z"
   },
   {
    "duration": 29,
    "start_time": "2024-12-27T00:18:09.298Z"
   },
   {
    "duration": 12,
    "start_time": "2024-12-27T00:18:09.329Z"
   },
   {
    "duration": 85,
    "start_time": "2024-12-27T00:18:09.342Z"
   },
   {
    "duration": 7,
    "start_time": "2024-12-27T00:18:09.428Z"
   },
   {
    "duration": 7,
    "start_time": "2024-12-27T00:18:09.436Z"
   },
   {
    "duration": 6,
    "start_time": "2024-12-27T00:18:09.444Z"
   },
   {
    "duration": 5,
    "start_time": "2024-12-27T00:18:09.451Z"
   },
   {
    "duration": 16,
    "start_time": "2024-12-27T00:18:09.457Z"
   },
   {
    "duration": 4,
    "start_time": "2024-12-27T00:18:09.475Z"
   },
   {
    "duration": 4,
    "start_time": "2024-12-27T00:18:09.481Z"
   },
   {
    "duration": 5,
    "start_time": "2024-12-27T00:18:09.524Z"
   },
   {
    "duration": 3,
    "start_time": "2024-12-27T00:18:09.531Z"
   },
   {
    "duration": 207,
    "start_time": "2024-12-27T00:18:09.535Z"
   },
   {
    "duration": 201,
    "start_time": "2024-12-27T00:18:09.743Z"
   },
   {
    "duration": 212,
    "start_time": "2024-12-27T00:18:09.946Z"
   },
   {
    "duration": 243,
    "start_time": "2024-12-27T00:18:10.160Z"
   },
   {
    "duration": 253,
    "start_time": "2024-12-27T00:18:10.405Z"
   },
   {
    "duration": 5,
    "start_time": "2024-12-27T00:18:10.659Z"
   },
   {
    "duration": 1661,
    "start_time": "2024-12-27T00:18:10.665Z"
   },
   {
    "duration": 15,
    "start_time": "2024-12-27T00:18:12.328Z"
   },
   {
    "duration": 9,
    "start_time": "2024-12-27T00:18:12.345Z"
   },
   {
    "duration": 4,
    "start_time": "2024-12-27T00:18:12.356Z"
   },
   {
    "duration": 4,
    "start_time": "2024-12-27T00:18:12.365Z"
   },
   {
    "duration": 170,
    "start_time": "2024-12-27T00:18:12.370Z"
   },
   {
    "duration": 6,
    "start_time": "2024-12-27T00:18:12.542Z"
   },
   {
    "duration": 15,
    "start_time": "2024-12-27T00:18:12.549Z"
   },
   {
    "duration": 4,
    "start_time": "2024-12-27T00:18:12.566Z"
   },
   {
    "duration": 11,
    "start_time": "2024-12-27T00:18:12.572Z"
   },
   {
    "duration": 44,
    "start_time": "2024-12-27T00:18:12.585Z"
   },
   {
    "duration": 24,
    "start_time": "2024-12-27T00:18:12.631Z"
   },
   {
    "duration": 0,
    "start_time": "2024-12-27T00:18:12.657Z"
   },
   {
    "duration": 0,
    "start_time": "2024-12-27T00:18:12.658Z"
   },
   {
    "duration": 0,
    "start_time": "2024-12-27T00:18:12.659Z"
   },
   {
    "duration": 0,
    "start_time": "2024-12-27T00:18:12.660Z"
   },
   {
    "duration": 0,
    "start_time": "2024-12-27T00:18:12.661Z"
   },
   {
    "duration": 0,
    "start_time": "2024-12-27T00:18:12.661Z"
   },
   {
    "duration": 24,
    "start_time": "2024-12-27T00:19:50.086Z"
   },
   {
    "duration": 4,
    "start_time": "2024-12-27T00:20:00.513Z"
   },
   {
    "duration": 474,
    "start_time": "2024-12-27T00:20:00.522Z"
   },
   {
    "duration": 172,
    "start_time": "2024-12-27T00:20:00.998Z"
   },
   {
    "duration": 23,
    "start_time": "2024-12-27T00:20:01.172Z"
   },
   {
    "duration": 7,
    "start_time": "2024-12-27T00:20:01.197Z"
   },
   {
    "duration": 71,
    "start_time": "2024-12-27T00:20:01.206Z"
   },
   {
    "duration": 106,
    "start_time": "2024-12-27T00:20:01.279Z"
   },
   {
    "duration": 17,
    "start_time": "2024-12-27T00:20:01.387Z"
   },
   {
    "duration": 21,
    "start_time": "2024-12-27T00:20:01.406Z"
   },
   {
    "duration": 21,
    "start_time": "2024-12-27T00:20:01.429Z"
   },
   {
    "duration": 190,
    "start_time": "2024-12-27T00:20:01.451Z"
   },
   {
    "duration": 17,
    "start_time": "2024-12-27T00:20:01.643Z"
   },
   {
    "duration": 6,
    "start_time": "2024-12-27T00:20:01.662Z"
   },
   {
    "duration": 101,
    "start_time": "2024-12-27T00:20:01.670Z"
   },
   {
    "duration": 12,
    "start_time": "2024-12-27T00:20:01.777Z"
   },
   {
    "duration": 67,
    "start_time": "2024-12-27T00:20:01.790Z"
   },
   {
    "duration": 13,
    "start_time": "2024-12-27T00:20:01.859Z"
   },
   {
    "duration": 4,
    "start_time": "2024-12-27T00:20:01.873Z"
   },
   {
    "duration": 6,
    "start_time": "2024-12-27T00:20:01.879Z"
   },
   {
    "duration": 5,
    "start_time": "2024-12-27T00:20:01.887Z"
   },
   {
    "duration": 42,
    "start_time": "2024-12-27T00:20:01.894Z"
   },
   {
    "duration": 69,
    "start_time": "2024-12-27T00:20:01.938Z"
   },
   {
    "duration": 20,
    "start_time": "2024-12-27T00:20:02.009Z"
   },
   {
    "duration": 5,
    "start_time": "2024-12-27T00:20:02.031Z"
   },
   {
    "duration": 6,
    "start_time": "2024-12-27T00:20:02.037Z"
   },
   {
    "duration": 5,
    "start_time": "2024-12-27T00:20:02.044Z"
   },
   {
    "duration": 15,
    "start_time": "2024-12-27T00:20:02.051Z"
   },
   {
    "duration": 5,
    "start_time": "2024-12-27T00:20:02.068Z"
   },
   {
    "duration": 4,
    "start_time": "2024-12-27T00:20:02.075Z"
   },
   {
    "duration": 47,
    "start_time": "2024-12-27T00:20:02.081Z"
   },
   {
    "duration": 4,
    "start_time": "2024-12-27T00:20:02.129Z"
   },
   {
    "duration": 210,
    "start_time": "2024-12-27T00:20:02.134Z"
   },
   {
    "duration": 204,
    "start_time": "2024-12-27T00:20:02.346Z"
   },
   {
    "duration": 211,
    "start_time": "2024-12-27T00:20:02.552Z"
   },
   {
    "duration": 246,
    "start_time": "2024-12-27T00:20:02.765Z"
   },
   {
    "duration": 375,
    "start_time": "2024-12-27T00:20:03.012Z"
   },
   {
    "duration": 6,
    "start_time": "2024-12-27T00:20:03.389Z"
   },
   {
    "duration": 1804,
    "start_time": "2024-12-27T00:20:03.396Z"
   },
   {
    "duration": 25,
    "start_time": "2024-12-27T00:20:05.203Z"
   },
   {
    "duration": 9,
    "start_time": "2024-12-27T00:20:05.230Z"
   },
   {
    "duration": 4,
    "start_time": "2024-12-27T00:20:05.240Z"
   },
   {
    "duration": 4,
    "start_time": "2024-12-27T00:20:05.249Z"
   },
   {
    "duration": 12,
    "start_time": "2024-12-27T00:20:05.255Z"
   },
   {
    "duration": 4,
    "start_time": "2024-12-27T00:20:05.269Z"
   },
   {
    "duration": 78,
    "start_time": "2024-12-27T00:20:05.274Z"
   },
   {
    "duration": 1,
    "start_time": "2024-12-27T00:20:05.353Z"
   },
   {
    "duration": 0,
    "start_time": "2024-12-27T00:20:05.355Z"
   },
   {
    "duration": 0,
    "start_time": "2024-12-27T00:20:05.356Z"
   },
   {
    "duration": 0,
    "start_time": "2024-12-27T00:20:05.357Z"
   },
   {
    "duration": 0,
    "start_time": "2024-12-27T00:20:05.358Z"
   },
   {
    "duration": 0,
    "start_time": "2024-12-27T00:20:05.359Z"
   },
   {
    "duration": 0,
    "start_time": "2024-12-27T00:20:05.361Z"
   },
   {
    "duration": 0,
    "start_time": "2024-12-27T00:20:05.362Z"
   },
   {
    "duration": 0,
    "start_time": "2024-12-27T00:20:05.363Z"
   },
   {
    "duration": 1,
    "start_time": "2024-12-27T00:20:05.363Z"
   },
   {
    "duration": 4,
    "start_time": "2024-12-27T00:24:38.691Z"
   },
   {
    "duration": 4,
    "start_time": "2024-12-27T00:28:04.659Z"
   },
   {
    "duration": 5,
    "start_time": "2024-12-27T00:29:49.212Z"
   },
   {
    "duration": 25,
    "start_time": "2024-12-27T00:29:55.104Z"
   },
   {
    "duration": 4,
    "start_time": "2024-12-27T00:30:05.388Z"
   },
   {
    "duration": 454,
    "start_time": "2024-12-27T00:30:05.397Z"
   },
   {
    "duration": 172,
    "start_time": "2024-12-27T00:30:05.853Z"
   },
   {
    "duration": 17,
    "start_time": "2024-12-27T00:30:06.027Z"
   },
   {
    "duration": 6,
    "start_time": "2024-12-27T00:30:06.046Z"
   },
   {
    "duration": 74,
    "start_time": "2024-12-27T00:30:06.055Z"
   },
   {
    "duration": 105,
    "start_time": "2024-12-27T00:30:06.131Z"
   },
   {
    "duration": 17,
    "start_time": "2024-12-27T00:30:06.238Z"
   },
   {
    "duration": 6,
    "start_time": "2024-12-27T00:30:06.257Z"
   },
   {
    "duration": 18,
    "start_time": "2024-12-27T00:30:06.265Z"
   },
   {
    "duration": 208,
    "start_time": "2024-12-27T00:30:06.284Z"
   },
   {
    "duration": 17,
    "start_time": "2024-12-27T00:30:06.494Z"
   },
   {
    "duration": 17,
    "start_time": "2024-12-27T00:30:06.512Z"
   },
   {
    "duration": 76,
    "start_time": "2024-12-27T00:30:06.530Z"
   },
   {
    "duration": 10,
    "start_time": "2024-12-27T00:30:06.623Z"
   },
   {
    "duration": 56,
    "start_time": "2024-12-27T00:30:06.635Z"
   },
   {
    "duration": 12,
    "start_time": "2024-12-27T00:30:06.693Z"
   },
   {
    "duration": 20,
    "start_time": "2024-12-27T00:30:06.706Z"
   },
   {
    "duration": 5,
    "start_time": "2024-12-27T00:30:06.728Z"
   },
   {
    "duration": 6,
    "start_time": "2024-12-27T00:30:06.735Z"
   },
   {
    "duration": 15,
    "start_time": "2024-12-27T00:30:06.743Z"
   },
   {
    "duration": 98,
    "start_time": "2024-12-27T00:30:06.759Z"
   },
   {
    "duration": 6,
    "start_time": "2024-12-27T00:30:06.859Z"
   },
   {
    "duration": 5,
    "start_time": "2024-12-27T00:30:06.867Z"
   },
   {
    "duration": 6,
    "start_time": "2024-12-27T00:30:06.874Z"
   },
   {
    "duration": 4,
    "start_time": "2024-12-27T00:30:06.882Z"
   },
   {
    "duration": 44,
    "start_time": "2024-12-27T00:30:06.888Z"
   },
   {
    "duration": 4,
    "start_time": "2024-12-27T00:30:06.934Z"
   },
   {
    "duration": 5,
    "start_time": "2024-12-27T00:30:06.940Z"
   },
   {
    "duration": 5,
    "start_time": "2024-12-27T00:30:06.947Z"
   },
   {
    "duration": 4,
    "start_time": "2024-12-27T00:30:06.953Z"
   },
   {
    "duration": 213,
    "start_time": "2024-12-27T00:30:06.959Z"
   },
   {
    "duration": 219,
    "start_time": "2024-12-27T00:30:07.174Z"
   },
   {
    "duration": 232,
    "start_time": "2024-12-27T00:30:07.395Z"
   },
   {
    "duration": 251,
    "start_time": "2024-12-27T00:30:07.629Z"
   },
   {
    "duration": 272,
    "start_time": "2024-12-27T00:30:07.882Z"
   },
   {
    "duration": 5,
    "start_time": "2024-12-27T00:30:08.156Z"
   },
   {
    "duration": 2109,
    "start_time": "2024-12-27T00:30:08.162Z"
   },
   {
    "duration": 16,
    "start_time": "2024-12-27T00:30:10.273Z"
   },
   {
    "duration": 9,
    "start_time": "2024-12-27T00:30:10.291Z"
   },
   {
    "duration": 24,
    "start_time": "2024-12-27T00:30:10.302Z"
   },
   {
    "duration": 3,
    "start_time": "2024-12-27T00:30:10.332Z"
   },
   {
    "duration": 13,
    "start_time": "2024-12-27T00:30:10.337Z"
   },
   {
    "duration": 5,
    "start_time": "2024-12-27T00:30:10.352Z"
   },
   {
    "duration": 4,
    "start_time": "2024-12-27T00:30:10.359Z"
   },
   {
    "duration": 121,
    "start_time": "2024-12-27T00:30:10.366Z"
   },
   {
    "duration": 0,
    "start_time": "2024-12-27T00:30:10.490Z"
   },
   {
    "duration": 0,
    "start_time": "2024-12-27T00:30:10.491Z"
   },
   {
    "duration": 1,
    "start_time": "2024-12-27T00:30:10.492Z"
   },
   {
    "duration": 0,
    "start_time": "2024-12-27T00:30:10.494Z"
   },
   {
    "duration": 0,
    "start_time": "2024-12-27T00:30:10.494Z"
   },
   {
    "duration": 0,
    "start_time": "2024-12-27T00:30:10.495Z"
   },
   {
    "duration": 0,
    "start_time": "2024-12-27T00:30:10.497Z"
   },
   {
    "duration": 0,
    "start_time": "2024-12-27T00:30:10.497Z"
   },
   {
    "duration": 0,
    "start_time": "2024-12-27T00:30:10.499Z"
   },
   {
    "duration": 0,
    "start_time": "2024-12-27T00:30:10.524Z"
   },
   {
    "duration": 4,
    "start_time": "2024-12-27T00:31:55.024Z"
   },
   {
    "duration": 4,
    "start_time": "2024-12-27T00:32:48.657Z"
   },
   {
    "duration": 454,
    "start_time": "2024-12-27T00:32:48.663Z"
   },
   {
    "duration": 173,
    "start_time": "2024-12-27T00:32:49.119Z"
   },
   {
    "duration": 19,
    "start_time": "2024-12-27T00:32:49.294Z"
   },
   {
    "duration": 7,
    "start_time": "2024-12-27T00:32:49.323Z"
   },
   {
    "duration": 53,
    "start_time": "2024-12-27T00:32:49.332Z"
   },
   {
    "duration": 113,
    "start_time": "2024-12-27T00:32:49.386Z"
   },
   {
    "duration": 24,
    "start_time": "2024-12-27T00:32:49.501Z"
   },
   {
    "duration": 5,
    "start_time": "2024-12-27T00:32:49.528Z"
   },
   {
    "duration": 19,
    "start_time": "2024-12-27T00:32:49.536Z"
   },
   {
    "duration": 211,
    "start_time": "2024-12-27T00:32:49.557Z"
   },
   {
    "duration": 17,
    "start_time": "2024-12-27T00:32:49.770Z"
   },
   {
    "duration": 7,
    "start_time": "2024-12-27T00:32:49.789Z"
   },
   {
    "duration": 92,
    "start_time": "2024-12-27T00:32:49.798Z"
   },
   {
    "duration": 11,
    "start_time": "2024-12-27T00:32:49.891Z"
   },
   {
    "duration": 71,
    "start_time": "2024-12-27T00:32:49.904Z"
   },
   {
    "duration": 13,
    "start_time": "2024-12-27T00:32:49.977Z"
   },
   {
    "duration": 3,
    "start_time": "2024-12-27T00:32:49.992Z"
   },
   {
    "duration": 28,
    "start_time": "2024-12-27T00:32:49.998Z"
   },
   {
    "duration": 6,
    "start_time": "2024-12-27T00:32:50.028Z"
   },
   {
    "duration": 18,
    "start_time": "2024-12-27T00:32:50.036Z"
   },
   {
    "duration": 90,
    "start_time": "2024-12-27T00:32:50.056Z"
   },
   {
    "duration": 7,
    "start_time": "2024-12-27T00:32:50.147Z"
   },
   {
    "duration": 5,
    "start_time": "2024-12-27T00:32:50.159Z"
   },
   {
    "duration": 6,
    "start_time": "2024-12-27T00:32:50.166Z"
   },
   {
    "duration": 4,
    "start_time": "2024-12-27T00:32:50.173Z"
   },
   {
    "duration": 178,
    "start_time": "2024-12-27T00:32:50.180Z"
   },
   {
    "duration": 8,
    "start_time": "2024-12-27T00:32:50.360Z"
   },
   {
    "duration": 10,
    "start_time": "2024-12-27T00:32:50.370Z"
   },
   {
    "duration": 10,
    "start_time": "2024-12-27T00:32:50.381Z"
   },
   {
    "duration": 8,
    "start_time": "2024-12-27T00:32:50.392Z"
   },
   {
    "duration": 205,
    "start_time": "2024-12-27T00:32:50.402Z"
   },
   {
    "duration": 217,
    "start_time": "2024-12-27T00:32:50.609Z"
   },
   {
    "duration": 207,
    "start_time": "2024-12-27T00:32:50.827Z"
   },
   {
    "duration": 255,
    "start_time": "2024-12-27T00:32:51.036Z"
   },
   {
    "duration": 257,
    "start_time": "2024-12-27T00:32:51.293Z"
   },
   {
    "duration": 5,
    "start_time": "2024-12-27T00:32:51.553Z"
   },
   {
    "duration": 1683,
    "start_time": "2024-12-27T00:32:51.561Z"
   },
   {
    "duration": 16,
    "start_time": "2024-12-27T00:32:53.245Z"
   },
   {
    "duration": 10,
    "start_time": "2024-12-27T00:32:53.263Z"
   },
   {
    "duration": 4,
    "start_time": "2024-12-27T00:32:53.274Z"
   },
   {
    "duration": 4,
    "start_time": "2024-12-27T00:32:53.280Z"
   },
   {
    "duration": 45,
    "start_time": "2024-12-27T00:32:53.285Z"
   },
   {
    "duration": 4,
    "start_time": "2024-12-27T00:32:53.333Z"
   },
   {
    "duration": 3,
    "start_time": "2024-12-27T00:32:53.339Z"
   },
   {
    "duration": 4,
    "start_time": "2024-12-27T00:32:53.344Z"
   },
   {
    "duration": 3,
    "start_time": "2024-12-27T00:32:53.350Z"
   },
   {
    "duration": 71,
    "start_time": "2024-12-27T00:32:53.355Z"
   },
   {
    "duration": 0,
    "start_time": "2024-12-27T00:32:53.428Z"
   },
   {
    "duration": 0,
    "start_time": "2024-12-27T00:32:53.430Z"
   },
   {
    "duration": 0,
    "start_time": "2024-12-27T00:32:53.431Z"
   },
   {
    "duration": 0,
    "start_time": "2024-12-27T00:32:53.432Z"
   },
   {
    "duration": 0,
    "start_time": "2024-12-27T00:32:53.433Z"
   },
   {
    "duration": 0,
    "start_time": "2024-12-27T00:32:53.434Z"
   },
   {
    "duration": 0,
    "start_time": "2024-12-27T00:32:53.435Z"
   },
   {
    "duration": 0,
    "start_time": "2024-12-27T00:32:53.436Z"
   },
   {
    "duration": 0,
    "start_time": "2024-12-27T00:32:53.437Z"
   },
   {
    "duration": 0,
    "start_time": "2024-12-27T00:32:53.438Z"
   },
   {
    "duration": 43,
    "start_time": "2024-12-27T00:34:32.267Z"
   },
   {
    "duration": 4,
    "start_time": "2024-12-27T00:36:06.039Z"
   },
   {
    "duration": 433,
    "start_time": "2024-12-27T00:36:06.048Z"
   },
   {
    "duration": 176,
    "start_time": "2024-12-27T00:36:06.484Z"
   },
   {
    "duration": 17,
    "start_time": "2024-12-27T00:36:06.662Z"
   },
   {
    "duration": 8,
    "start_time": "2024-12-27T00:36:06.680Z"
   },
   {
    "duration": 74,
    "start_time": "2024-12-27T00:36:06.690Z"
   },
   {
    "duration": 102,
    "start_time": "2024-12-27T00:36:06.765Z"
   },
   {
    "duration": 18,
    "start_time": "2024-12-27T00:36:06.869Z"
   },
   {
    "duration": 6,
    "start_time": "2024-12-27T00:36:06.889Z"
   },
   {
    "duration": 40,
    "start_time": "2024-12-27T00:36:06.897Z"
   },
   {
    "duration": 188,
    "start_time": "2024-12-27T00:36:06.939Z"
   },
   {
    "duration": 16,
    "start_time": "2024-12-27T00:36:07.129Z"
   },
   {
    "duration": 7,
    "start_time": "2024-12-27T00:36:07.147Z"
   },
   {
    "duration": 101,
    "start_time": "2024-12-27T00:36:07.155Z"
   },
   {
    "duration": 12,
    "start_time": "2024-12-27T00:36:07.261Z"
   },
   {
    "duration": 94,
    "start_time": "2024-12-27T00:36:07.275Z"
   },
   {
    "duration": 12,
    "start_time": "2024-12-27T00:36:07.371Z"
   },
   {
    "duration": 3,
    "start_time": "2024-12-27T00:36:07.385Z"
   },
   {
    "duration": 5,
    "start_time": "2024-12-27T00:36:07.390Z"
   },
   {
    "duration": 29,
    "start_time": "2024-12-27T00:36:07.397Z"
   },
   {
    "duration": 12,
    "start_time": "2024-12-27T00:36:07.428Z"
   },
   {
    "duration": 225,
    "start_time": "2024-12-27T00:36:07.441Z"
   },
   {
    "duration": 7,
    "start_time": "2024-12-27T00:36:07.668Z"
   },
   {
    "duration": 5,
    "start_time": "2024-12-27T00:36:07.678Z"
   },
   {
    "duration": 7,
    "start_time": "2024-12-27T00:36:07.684Z"
   },
   {
    "duration": 5,
    "start_time": "2024-12-27T00:36:07.693Z"
   },
   {
    "duration": 38,
    "start_time": "2024-12-27T00:36:07.699Z"
   },
   {
    "duration": 6,
    "start_time": "2024-12-27T00:36:07.738Z"
   },
   {
    "duration": 6,
    "start_time": "2024-12-27T00:36:07.746Z"
   },
   {
    "duration": 5,
    "start_time": "2024-12-27T00:36:07.753Z"
   },
   {
    "duration": 4,
    "start_time": "2024-12-27T00:36:07.759Z"
   },
   {
    "duration": 232,
    "start_time": "2024-12-27T00:36:07.764Z"
   },
   {
    "duration": 208,
    "start_time": "2024-12-27T00:36:07.998Z"
   },
   {
    "duration": 218,
    "start_time": "2024-12-27T00:36:08.208Z"
   },
   {
    "duration": 244,
    "start_time": "2024-12-27T00:36:08.428Z"
   },
   {
    "duration": 263,
    "start_time": "2024-12-27T00:36:08.674Z"
   },
   {
    "duration": 6,
    "start_time": "2024-12-27T00:36:08.939Z"
   },
   {
    "duration": 1744,
    "start_time": "2024-12-27T00:36:08.946Z"
   },
   {
    "duration": 15,
    "start_time": "2024-12-27T00:36:10.692Z"
   },
   {
    "duration": 22,
    "start_time": "2024-12-27T00:36:10.708Z"
   },
   {
    "duration": 3,
    "start_time": "2024-12-27T00:36:10.732Z"
   },
   {
    "duration": 4,
    "start_time": "2024-12-27T00:36:10.741Z"
   },
   {
    "duration": 12,
    "start_time": "2024-12-27T00:36:10.746Z"
   },
   {
    "duration": 4,
    "start_time": "2024-12-27T00:36:10.759Z"
   },
   {
    "duration": 4,
    "start_time": "2024-12-27T00:36:10.764Z"
   },
   {
    "duration": 3,
    "start_time": "2024-12-27T00:36:10.770Z"
   },
   {
    "duration": 4,
    "start_time": "2024-12-27T00:36:10.774Z"
   },
   {
    "duration": 57,
    "start_time": "2024-12-27T00:36:10.780Z"
   },
   {
    "duration": 11,
    "start_time": "2024-12-27T00:36:10.838Z"
   },
   {
    "duration": 11,
    "start_time": "2024-12-27T00:36:10.851Z"
   },
   {
    "duration": 24,
    "start_time": "2024-12-27T00:36:10.864Z"
   },
   {
    "duration": 0,
    "start_time": "2024-12-27T00:36:10.890Z"
   },
   {
    "duration": 0,
    "start_time": "2024-12-27T00:36:10.891Z"
   },
   {
    "duration": 0,
    "start_time": "2024-12-27T00:36:10.923Z"
   },
   {
    "duration": 0,
    "start_time": "2024-12-27T00:36:10.925Z"
   },
   {
    "duration": 0,
    "start_time": "2024-12-27T00:36:10.927Z"
   },
   {
    "duration": 0,
    "start_time": "2024-12-27T00:36:10.928Z"
   },
   {
    "duration": 31,
    "start_time": "2024-12-27T00:37:17.519Z"
   },
   {
    "duration": 4,
    "start_time": "2024-12-27T00:38:03.545Z"
   },
   {
    "duration": 476,
    "start_time": "2024-12-27T00:38:03.554Z"
   },
   {
    "duration": 179,
    "start_time": "2024-12-27T00:38:04.032Z"
   },
   {
    "duration": 23,
    "start_time": "2024-12-27T00:38:04.213Z"
   },
   {
    "duration": 8,
    "start_time": "2024-12-27T00:38:04.238Z"
   },
   {
    "duration": 55,
    "start_time": "2024-12-27T00:38:04.249Z"
   },
   {
    "duration": 112,
    "start_time": "2024-12-27T00:38:04.325Z"
   },
   {
    "duration": 18,
    "start_time": "2024-12-27T00:38:04.439Z"
   },
   {
    "duration": 5,
    "start_time": "2024-12-27T00:38:04.459Z"
   },
   {
    "duration": 20,
    "start_time": "2024-12-27T00:38:04.466Z"
   },
   {
    "duration": 376,
    "start_time": "2024-12-27T00:38:04.488Z"
   },
   {
    "duration": 17,
    "start_time": "2024-12-27T00:38:04.866Z"
   },
   {
    "duration": 7,
    "start_time": "2024-12-27T00:38:04.885Z"
   },
   {
    "duration": 100,
    "start_time": "2024-12-27T00:38:04.894Z"
   },
   {
    "duration": 10,
    "start_time": "2024-12-27T00:38:04.998Z"
   },
   {
    "duration": 70,
    "start_time": "2024-12-27T00:38:05.010Z"
   },
   {
    "duration": 13,
    "start_time": "2024-12-27T00:38:05.082Z"
   },
   {
    "duration": 4,
    "start_time": "2024-12-27T00:38:05.098Z"
   },
   {
    "duration": 7,
    "start_time": "2024-12-27T00:38:05.123Z"
   },
   {
    "duration": 6,
    "start_time": "2024-12-27T00:38:05.132Z"
   },
   {
    "duration": 15,
    "start_time": "2024-12-27T00:38:05.139Z"
   },
   {
    "duration": 98,
    "start_time": "2024-12-27T00:38:05.155Z"
   },
   {
    "duration": 7,
    "start_time": "2024-12-27T00:38:05.255Z"
   },
   {
    "duration": 5,
    "start_time": "2024-12-27T00:38:05.263Z"
   },
   {
    "duration": 7,
    "start_time": "2024-12-27T00:38:05.270Z"
   },
   {
    "duration": 4,
    "start_time": "2024-12-27T00:38:05.279Z"
   },
   {
    "duration": 45,
    "start_time": "2024-12-27T00:38:05.285Z"
   },
   {
    "duration": 6,
    "start_time": "2024-12-27T00:38:05.332Z"
   },
   {
    "duration": 6,
    "start_time": "2024-12-27T00:38:05.340Z"
   },
   {
    "duration": 6,
    "start_time": "2024-12-27T00:38:05.347Z"
   },
   {
    "duration": 4,
    "start_time": "2024-12-27T00:38:05.354Z"
   },
   {
    "duration": 247,
    "start_time": "2024-12-27T00:38:05.360Z"
   },
   {
    "duration": 210,
    "start_time": "2024-12-27T00:38:05.610Z"
   },
   {
    "duration": 219,
    "start_time": "2024-12-27T00:38:05.825Z"
   },
   {
    "duration": 260,
    "start_time": "2024-12-27T00:38:06.046Z"
   },
   {
    "duration": 273,
    "start_time": "2024-12-27T00:38:06.308Z"
   },
   {
    "duration": 5,
    "start_time": "2024-12-27T00:38:06.583Z"
   },
   {
    "duration": 1802,
    "start_time": "2024-12-27T00:38:06.590Z"
   },
   {
    "duration": 17,
    "start_time": "2024-12-27T00:38:08.393Z"
   },
   {
    "duration": 18,
    "start_time": "2024-12-27T00:38:08.412Z"
   },
   {
    "duration": 5,
    "start_time": "2024-12-27T00:38:08.432Z"
   },
   {
    "duration": 5,
    "start_time": "2024-12-27T00:38:08.442Z"
   },
   {
    "duration": 13,
    "start_time": "2024-12-27T00:38:08.449Z"
   },
   {
    "duration": 5,
    "start_time": "2024-12-27T00:38:08.464Z"
   },
   {
    "duration": 3,
    "start_time": "2024-12-27T00:38:08.471Z"
   },
   {
    "duration": 4,
    "start_time": "2024-12-27T00:38:08.476Z"
   },
   {
    "duration": 45,
    "start_time": "2024-12-27T00:38:08.482Z"
   },
   {
    "duration": 16,
    "start_time": "2024-12-27T00:38:08.529Z"
   },
   {
    "duration": 11,
    "start_time": "2024-12-27T00:38:08.548Z"
   },
   {
    "duration": 13,
    "start_time": "2024-12-27T00:38:08.561Z"
   },
   {
    "duration": 7,
    "start_time": "2024-12-27T00:38:08.576Z"
   },
   {
    "duration": 42,
    "start_time": "2024-12-27T00:38:08.585Z"
   },
   {
    "duration": 283,
    "start_time": "2024-12-27T00:38:08.631Z"
   },
   {
    "duration": 0,
    "start_time": "2024-12-27T00:38:08.915Z"
   },
   {
    "duration": 0,
    "start_time": "2024-12-27T00:38:08.924Z"
   },
   {
    "duration": 0,
    "start_time": "2024-12-27T00:38:08.925Z"
   },
   {
    "duration": 0,
    "start_time": "2024-12-27T00:38:08.926Z"
   },
   {
    "duration": 4,
    "start_time": "2024-12-27T00:43:25.117Z"
   },
   {
    "duration": 4,
    "start_time": "2024-12-27T00:43:26.676Z"
   },
   {
    "duration": 523,
    "start_time": "2024-12-27T00:43:29.291Z"
   },
   {
    "duration": 14,
    "start_time": "2024-12-27T00:45:30.469Z"
   },
   {
    "duration": 3,
    "start_time": "2024-12-27T00:45:56.645Z"
   },
   {
    "duration": 3,
    "start_time": "2024-12-27T00:46:05.476Z"
   },
   {
    "duration": 452,
    "start_time": "2024-12-27T00:46:05.484Z"
   },
   {
    "duration": 167,
    "start_time": "2024-12-27T00:46:05.939Z"
   },
   {
    "duration": 23,
    "start_time": "2024-12-27T00:46:06.109Z"
   },
   {
    "duration": 7,
    "start_time": "2024-12-27T00:46:06.133Z"
   },
   {
    "duration": 52,
    "start_time": "2024-12-27T00:46:06.142Z"
   },
   {
    "duration": 115,
    "start_time": "2024-12-27T00:46:06.196Z"
   },
   {
    "duration": 25,
    "start_time": "2024-12-27T00:46:06.313Z"
   },
   {
    "duration": 7,
    "start_time": "2024-12-27T00:46:06.339Z"
   },
   {
    "duration": 18,
    "start_time": "2024-12-27T00:46:06.347Z"
   },
   {
    "duration": 198,
    "start_time": "2024-12-27T00:46:06.367Z"
   },
   {
    "duration": 16,
    "start_time": "2024-12-27T00:46:06.567Z"
   },
   {
    "duration": 7,
    "start_time": "2024-12-27T00:46:06.585Z"
   },
   {
    "duration": 96,
    "start_time": "2024-12-27T00:46:06.594Z"
   },
   {
    "duration": 9,
    "start_time": "2024-12-27T00:46:06.694Z"
   },
   {
    "duration": 64,
    "start_time": "2024-12-27T00:46:06.705Z"
   },
   {
    "duration": 13,
    "start_time": "2024-12-27T00:46:06.770Z"
   },
   {
    "duration": 3,
    "start_time": "2024-12-27T00:46:06.785Z"
   },
   {
    "duration": 7,
    "start_time": "2024-12-27T00:46:06.790Z"
   },
   {
    "duration": 29,
    "start_time": "2024-12-27T00:46:06.798Z"
   },
   {
    "duration": 17,
    "start_time": "2024-12-27T00:46:06.829Z"
   },
   {
    "duration": 91,
    "start_time": "2024-12-27T00:46:06.848Z"
   },
   {
    "duration": 8,
    "start_time": "2024-12-27T00:46:06.941Z"
   },
   {
    "duration": 6,
    "start_time": "2024-12-27T00:46:06.950Z"
   },
   {
    "duration": 7,
    "start_time": "2024-12-27T00:46:06.957Z"
   },
   {
    "duration": 5,
    "start_time": "2024-12-27T00:46:06.965Z"
   },
   {
    "duration": 15,
    "start_time": "2024-12-27T00:46:06.972Z"
   },
   {
    "duration": 36,
    "start_time": "2024-12-27T00:46:06.989Z"
   },
   {
    "duration": 5,
    "start_time": "2024-12-27T00:46:07.027Z"
   },
   {
    "duration": 4,
    "start_time": "2024-12-27T00:46:07.034Z"
   },
   {
    "duration": 4,
    "start_time": "2024-12-27T00:46:07.040Z"
   },
   {
    "duration": 234,
    "start_time": "2024-12-27T00:46:07.046Z"
   },
   {
    "duration": 205,
    "start_time": "2024-12-27T00:46:07.282Z"
   },
   {
    "duration": 220,
    "start_time": "2024-12-27T00:46:07.489Z"
   },
   {
    "duration": 268,
    "start_time": "2024-12-27T00:46:07.712Z"
   },
   {
    "duration": 275,
    "start_time": "2024-12-27T00:46:07.982Z"
   },
   {
    "duration": 5,
    "start_time": "2024-12-27T00:46:08.258Z"
   },
   {
    "duration": 1629,
    "start_time": "2024-12-27T00:46:08.266Z"
   },
   {
    "duration": 15,
    "start_time": "2024-12-27T00:46:09.897Z"
   },
   {
    "duration": 10,
    "start_time": "2024-12-27T00:46:09.924Z"
   },
   {
    "duration": 4,
    "start_time": "2024-12-27T00:46:09.935Z"
   },
   {
    "duration": 5,
    "start_time": "2024-12-27T00:46:09.944Z"
   },
   {
    "duration": 13,
    "start_time": "2024-12-27T00:46:09.950Z"
   },
   {
    "duration": 4,
    "start_time": "2024-12-27T00:46:09.964Z"
   },
   {
    "duration": 5,
    "start_time": "2024-12-27T00:46:09.970Z"
   },
   {
    "duration": 4,
    "start_time": "2024-12-27T00:46:09.977Z"
   },
   {
    "duration": 44,
    "start_time": "2024-12-27T00:46:09.982Z"
   },
   {
    "duration": 16,
    "start_time": "2024-12-27T00:46:10.028Z"
   },
   {
    "duration": 11,
    "start_time": "2024-12-27T00:46:10.046Z"
   },
   {
    "duration": 12,
    "start_time": "2024-12-27T00:46:10.059Z"
   },
   {
    "duration": 3,
    "start_time": "2024-12-27T00:46:10.073Z"
   },
   {
    "duration": 4,
    "start_time": "2024-12-27T00:46:10.079Z"
   },
   {
    "duration": 39,
    "start_time": "2024-12-27T00:46:10.085Z"
   },
   {
    "duration": 814,
    "start_time": "2024-12-27T00:46:10.126Z"
   },
   {
    "duration": 7916,
    "start_time": "2024-12-27T00:46:10.942Z"
   },
   {
    "duration": 224368,
    "start_time": "2024-12-27T00:46:18.860Z"
   },
   {
    "duration": 4,
    "start_time": "2024-12-27T00:50:03.230Z"
   },
   {
    "duration": 299,
    "start_time": "2024-12-27T00:50:03.235Z"
   },
   {
    "duration": 3,
    "start_time": "2024-12-27T00:55:30.404Z"
   },
   {
    "duration": 4,
    "start_time": "2024-12-27T00:55:40.285Z"
   },
   {
    "duration": 6,
    "start_time": "2024-12-27T00:55:48.431Z"
   },
   {
    "duration": 116996,
    "start_time": "2024-12-27T00:55:54.098Z"
   },
   {
    "duration": 18437,
    "start_time": "2024-12-27T01:01:32.614Z"
   },
   {
    "duration": 18488,
    "start_time": "2024-12-27T01:05:28.496Z"
   },
   {
    "duration": 7,
    "start_time": "2024-12-27T01:07:27.694Z"
   },
   {
    "duration": 116416,
    "start_time": "2024-12-27T01:07:31.481Z"
   },
   {
    "duration": 1469,
    "start_time": "2024-12-27T03:19:21.451Z"
   },
   {
    "duration": 917,
    "start_time": "2024-12-27T03:19:22.922Z"
   },
   {
    "duration": 225,
    "start_time": "2024-12-27T03:19:23.841Z"
   },
   {
    "duration": 33,
    "start_time": "2024-12-27T03:19:24.069Z"
   },
   {
    "duration": 8,
    "start_time": "2024-12-27T03:19:24.104Z"
   },
   {
    "duration": 94,
    "start_time": "2024-12-27T03:19:24.114Z"
   },
   {
    "duration": 150,
    "start_time": "2024-12-27T03:19:24.211Z"
   },
   {
    "duration": 28,
    "start_time": "2024-12-27T03:19:24.364Z"
   },
   {
    "duration": 5,
    "start_time": "2024-12-27T03:19:24.394Z"
   },
   {
    "duration": 23,
    "start_time": "2024-12-27T03:19:24.402Z"
   },
   {
    "duration": 374,
    "start_time": "2024-12-27T03:19:24.427Z"
   },
   {
    "duration": 20,
    "start_time": "2024-12-27T03:19:24.803Z"
   },
   {
    "duration": 8,
    "start_time": "2024-12-27T03:19:24.825Z"
   },
   {
    "duration": 201,
    "start_time": "2024-12-27T03:19:24.887Z"
   },
   {
    "duration": 14,
    "start_time": "2024-12-27T03:19:25.090Z"
   },
   {
    "duration": 204,
    "start_time": "2024-12-27T03:19:25.106Z"
   },
   {
    "duration": 17,
    "start_time": "2024-12-27T03:19:25.312Z"
   },
   {
    "duration": 55,
    "start_time": "2024-12-27T03:19:25.331Z"
   },
   {
    "duration": 7,
    "start_time": "2024-12-27T03:19:25.389Z"
   },
   {
    "duration": 6,
    "start_time": "2024-12-27T03:19:25.398Z"
   },
   {
    "duration": 32,
    "start_time": "2024-12-27T03:19:25.406Z"
   },
   {
    "duration": 155,
    "start_time": "2024-12-27T03:19:25.440Z"
   },
   {
    "duration": 11,
    "start_time": "2024-12-27T03:19:25.607Z"
   },
   {
    "duration": 19,
    "start_time": "2024-12-27T03:19:25.619Z"
   },
   {
    "duration": 7,
    "start_time": "2024-12-27T03:19:25.641Z"
   },
   {
    "duration": 5,
    "start_time": "2024-12-27T03:19:25.650Z"
   },
   {
    "duration": 25,
    "start_time": "2024-12-27T03:19:25.686Z"
   },
   {
    "duration": 6,
    "start_time": "2024-12-27T03:19:25.716Z"
   },
   {
    "duration": 10,
    "start_time": "2024-12-27T03:19:25.724Z"
   },
   {
    "duration": 7,
    "start_time": "2024-12-27T03:19:25.736Z"
   },
   {
    "duration": 5,
    "start_time": "2024-12-27T03:19:25.744Z"
   },
   {
    "duration": 365,
    "start_time": "2024-12-27T03:19:25.751Z"
   },
   {
    "duration": 261,
    "start_time": "2024-12-27T03:19:26.120Z"
   },
   {
    "duration": 252,
    "start_time": "2024-12-27T03:19:26.386Z"
   },
   {
    "duration": 260,
    "start_time": "2024-12-27T03:19:26.642Z"
   },
   {
    "duration": 291,
    "start_time": "2024-12-27T03:19:26.904Z"
   },
   {
    "duration": 6,
    "start_time": "2024-12-27T03:19:27.197Z"
   },
   {
    "duration": 2511,
    "start_time": "2024-12-27T03:19:27.205Z"
   },
   {
    "duration": 28,
    "start_time": "2024-12-27T03:19:29.718Z"
   },
   {
    "duration": 14,
    "start_time": "2024-12-27T03:19:29.749Z"
   },
   {
    "duration": 4,
    "start_time": "2024-12-27T03:19:29.765Z"
   },
   {
    "duration": 5,
    "start_time": "2024-12-27T03:19:29.787Z"
   },
   {
    "duration": 22,
    "start_time": "2024-12-27T03:19:29.794Z"
   },
   {
    "duration": 13,
    "start_time": "2024-12-27T03:19:52.977Z"
   },
   {
    "duration": 5,
    "start_time": "2024-12-27T03:19:57.895Z"
   },
   {
    "duration": 4,
    "start_time": "2024-12-27T03:20:00.500Z"
   },
   {
    "duration": 4,
    "start_time": "2024-12-27T03:20:03.260Z"
   },
   {
    "duration": 3,
    "start_time": "2024-12-27T03:20:05.397Z"
   },
   {
    "duration": 4,
    "start_time": "2024-12-27T03:20:08.278Z"
   },
   {
    "duration": 523,
    "start_time": "2024-12-27T03:20:08.284Z"
   },
   {
    "duration": 181,
    "start_time": "2024-12-27T03:20:08.809Z"
   },
   {
    "duration": 18,
    "start_time": "2024-12-27T03:20:08.992Z"
   },
   {
    "duration": 7,
    "start_time": "2024-12-27T03:20:09.013Z"
   },
   {
    "duration": 76,
    "start_time": "2024-12-27T03:20:09.025Z"
   },
   {
    "duration": 100,
    "start_time": "2024-12-27T03:20:09.104Z"
   },
   {
    "duration": 19,
    "start_time": "2024-12-27T03:20:09.206Z"
   },
   {
    "duration": 6,
    "start_time": "2024-12-27T03:20:09.227Z"
   },
   {
    "duration": 20,
    "start_time": "2024-12-27T03:20:09.236Z"
   },
   {
    "duration": 217,
    "start_time": "2024-12-27T03:20:09.258Z"
   },
   {
    "duration": 24,
    "start_time": "2024-12-27T03:20:09.476Z"
   },
   {
    "duration": 8,
    "start_time": "2024-12-27T03:20:09.502Z"
   },
   {
    "duration": 101,
    "start_time": "2024-12-27T03:20:09.513Z"
   },
   {
    "duration": 11,
    "start_time": "2024-12-27T03:20:09.616Z"
   },
   {
    "duration": 183,
    "start_time": "2024-12-27T03:20:09.629Z"
   },
   {
    "duration": 16,
    "start_time": "2024-12-27T03:20:09.814Z"
   },
   {
    "duration": 6,
    "start_time": "2024-12-27T03:20:09.831Z"
   },
   {
    "duration": 7,
    "start_time": "2024-12-27T03:20:09.839Z"
   },
   {
    "duration": 7,
    "start_time": "2024-12-27T03:20:09.847Z"
   },
   {
    "duration": 41,
    "start_time": "2024-12-27T03:20:09.858Z"
   },
   {
    "duration": 88,
    "start_time": "2024-12-27T03:20:09.901Z"
   },
   {
    "duration": 7,
    "start_time": "2024-12-27T03:20:09.991Z"
   },
   {
    "duration": 5,
    "start_time": "2024-12-27T03:20:10.000Z"
   },
   {
    "duration": 7,
    "start_time": "2024-12-27T03:20:10.007Z"
   },
   {
    "duration": 5,
    "start_time": "2024-12-27T03:20:10.016Z"
   },
   {
    "duration": 16,
    "start_time": "2024-12-27T03:20:10.023Z"
   },
   {
    "duration": 5,
    "start_time": "2024-12-27T03:20:10.041Z"
   },
   {
    "duration": 7,
    "start_time": "2024-12-27T03:20:10.087Z"
   },
   {
    "duration": 6,
    "start_time": "2024-12-27T03:20:10.096Z"
   },
   {
    "duration": 3,
    "start_time": "2024-12-27T03:20:10.104Z"
   },
   {
    "duration": 223,
    "start_time": "2024-12-27T03:20:10.109Z"
   },
   {
    "duration": 205,
    "start_time": "2024-12-27T03:20:10.334Z"
   },
   {
    "duration": 221,
    "start_time": "2024-12-27T03:20:10.541Z"
   },
   {
    "duration": 376,
    "start_time": "2024-12-27T03:20:10.765Z"
   },
   {
    "duration": 264,
    "start_time": "2024-12-27T03:20:11.143Z"
   },
   {
    "duration": 5,
    "start_time": "2024-12-27T03:20:11.410Z"
   },
   {
    "duration": 1757,
    "start_time": "2024-12-27T03:20:11.418Z"
   },
   {
    "duration": 24,
    "start_time": "2024-12-27T03:20:13.178Z"
   },
   {
    "duration": 10,
    "start_time": "2024-12-27T03:20:13.204Z"
   },
   {
    "duration": 4,
    "start_time": "2024-12-27T03:20:13.220Z"
   },
   {
    "duration": 4,
    "start_time": "2024-12-27T03:20:13.226Z"
   },
   {
    "duration": 13,
    "start_time": "2024-12-27T03:20:13.232Z"
   },
   {
    "duration": 4,
    "start_time": "2024-12-27T03:20:13.247Z"
   },
   {
    "duration": 34,
    "start_time": "2024-12-27T03:20:13.253Z"
   },
   {
    "duration": 10,
    "start_time": "2024-12-27T03:20:13.288Z"
   },
   {
    "duration": 4,
    "start_time": "2024-12-27T03:20:13.299Z"
   },
   {
    "duration": 1127,
    "start_time": "2024-12-27T03:20:17.794Z"
   },
   {
    "duration": 679,
    "start_time": "2024-12-27T03:20:18.924Z"
   },
   {
    "duration": 383,
    "start_time": "2024-12-27T03:20:19.605Z"
   },
   {
    "duration": 17,
    "start_time": "2024-12-27T03:20:19.990Z"
   },
   {
    "duration": 6,
    "start_time": "2024-12-27T03:20:20.010Z"
   },
   {
    "duration": 108,
    "start_time": "2024-12-27T03:20:20.018Z"
   },
   {
    "duration": 122,
    "start_time": "2024-12-27T03:20:20.128Z"
   },
   {
    "duration": 22,
    "start_time": "2024-12-27T03:20:20.252Z"
   },
   {
    "duration": 6,
    "start_time": "2024-12-27T03:20:20.287Z"
   },
   {
    "duration": 23,
    "start_time": "2024-12-27T03:20:20.295Z"
   },
   {
    "duration": 210,
    "start_time": "2024-12-27T03:20:20.321Z"
   },
   {
    "duration": 17,
    "start_time": "2024-12-27T03:20:20.533Z"
   },
   {
    "duration": 8,
    "start_time": "2024-12-27T03:20:20.552Z"
   },
   {
    "duration": 100,
    "start_time": "2024-12-27T03:20:20.564Z"
   },
   {
    "duration": 20,
    "start_time": "2024-12-27T03:20:20.666Z"
   },
   {
    "duration": 63,
    "start_time": "2024-12-27T03:20:20.690Z"
   },
   {
    "duration": 15,
    "start_time": "2024-12-27T03:20:20.755Z"
   },
   {
    "duration": 17,
    "start_time": "2024-12-27T03:20:20.772Z"
   },
   {
    "duration": 6,
    "start_time": "2024-12-27T03:20:20.790Z"
   },
   {
    "duration": 6,
    "start_time": "2024-12-27T03:20:20.798Z"
   },
   {
    "duration": 22,
    "start_time": "2024-12-27T03:20:20.806Z"
   },
   {
    "duration": 104,
    "start_time": "2024-12-27T03:20:20.829Z"
   },
   {
    "duration": 7,
    "start_time": "2024-12-27T03:20:20.935Z"
   },
   {
    "duration": 6,
    "start_time": "2024-12-27T03:20:20.944Z"
   },
   {
    "duration": 7,
    "start_time": "2024-12-27T03:20:20.952Z"
   },
   {
    "duration": 5,
    "start_time": "2024-12-27T03:20:20.988Z"
   },
   {
    "duration": 18,
    "start_time": "2024-12-27T03:20:20.995Z"
   },
   {
    "duration": 5,
    "start_time": "2024-12-27T03:20:21.015Z"
   },
   {
    "duration": 5,
    "start_time": "2024-12-27T03:20:21.022Z"
   },
   {
    "duration": 7,
    "start_time": "2024-12-27T03:20:21.029Z"
   },
   {
    "duration": 3,
    "start_time": "2024-12-27T03:20:21.037Z"
   },
   {
    "duration": 313,
    "start_time": "2024-12-27T03:20:21.042Z"
   },
   {
    "duration": 216,
    "start_time": "2024-12-27T03:20:21.356Z"
   },
   {
    "duration": 234,
    "start_time": "2024-12-27T03:20:21.574Z"
   },
   {
    "duration": 276,
    "start_time": "2024-12-27T03:20:21.810Z"
   },
   {
    "duration": 284,
    "start_time": "2024-12-27T03:20:22.089Z"
   },
   {
    "duration": 11,
    "start_time": "2024-12-27T03:20:22.375Z"
   },
   {
    "duration": 1793,
    "start_time": "2024-12-27T03:20:22.388Z"
   },
   {
    "duration": 21,
    "start_time": "2024-12-27T03:20:24.183Z"
   },
   {
    "duration": 10,
    "start_time": "2024-12-27T03:20:24.206Z"
   },
   {
    "duration": 4,
    "start_time": "2024-12-27T03:20:24.222Z"
   },
   {
    "duration": 4,
    "start_time": "2024-12-27T03:20:24.228Z"
   },
   {
    "duration": 13,
    "start_time": "2024-12-27T03:20:24.234Z"
   },
   {
    "duration": 42,
    "start_time": "2024-12-27T03:20:24.249Z"
   },
   {
    "duration": 4,
    "start_time": "2024-12-27T03:20:24.293Z"
   },
   {
    "duration": 3,
    "start_time": "2024-12-27T03:20:24.298Z"
   },
   {
    "duration": 3,
    "start_time": "2024-12-27T03:20:24.303Z"
   },
   {
    "duration": 19,
    "start_time": "2024-12-27T03:20:24.308Z"
   },
   {
    "duration": 12,
    "start_time": "2024-12-27T03:20:24.329Z"
   },
   {
    "duration": 48,
    "start_time": "2024-12-27T03:20:24.343Z"
   },
   {
    "duration": 530,
    "start_time": "2024-12-27T03:20:24.394Z"
   },
   {
    "duration": 0,
    "start_time": "2024-12-27T03:20:24.926Z"
   },
   {
    "duration": 0,
    "start_time": "2024-12-27T03:20:24.927Z"
   },
   {
    "duration": 0,
    "start_time": "2024-12-27T03:20:24.928Z"
   },
   {
    "duration": 0,
    "start_time": "2024-12-27T03:20:24.930Z"
   },
   {
    "duration": 0,
    "start_time": "2024-12-27T03:20:24.931Z"
   },
   {
    "duration": 0,
    "start_time": "2024-12-27T03:20:24.932Z"
   },
   {
    "duration": 6,
    "start_time": "2024-12-27T03:20:36.703Z"
   },
   {
    "duration": 16,
    "start_time": "2024-12-27T03:20:36.711Z"
   },
   {
    "duration": 0,
    "start_time": "2024-12-27T03:20:36.729Z"
   },
   {
    "duration": 0,
    "start_time": "2024-12-27T03:20:36.730Z"
   },
   {
    "duration": 0,
    "start_time": "2024-12-27T03:20:36.731Z"
   },
   {
    "duration": 0,
    "start_time": "2024-12-27T03:20:36.732Z"
   },
   {
    "duration": 0,
    "start_time": "2024-12-27T03:20:36.733Z"
   },
   {
    "duration": 159,
    "start_time": "2024-12-27T03:44:52.977Z"
   },
   {
    "duration": 2817,
    "start_time": "2024-12-27T03:45:03.518Z"
   },
   {
    "duration": 631,
    "start_time": "2024-12-27T03:45:06.337Z"
   },
   {
    "duration": 239,
    "start_time": "2024-12-27T03:45:06.970Z"
   },
   {
    "duration": 20,
    "start_time": "2024-12-27T03:45:07.212Z"
   },
   {
    "duration": 7,
    "start_time": "2024-12-27T03:45:07.234Z"
   },
   {
    "duration": 57,
    "start_time": "2024-12-27T03:45:07.243Z"
   },
   {
    "duration": 129,
    "start_time": "2024-12-27T03:45:07.302Z"
   },
   {
    "duration": 17,
    "start_time": "2024-12-27T03:45:07.433Z"
   },
   {
    "duration": 5,
    "start_time": "2024-12-27T03:45:07.452Z"
   },
   {
    "duration": 17,
    "start_time": "2024-12-27T03:45:07.460Z"
   },
   {
    "duration": 212,
    "start_time": "2024-12-27T03:45:07.479Z"
   },
   {
    "duration": 18,
    "start_time": "2024-12-27T03:45:07.693Z"
   },
   {
    "duration": 20,
    "start_time": "2024-12-27T03:45:07.713Z"
   },
   {
    "duration": 84,
    "start_time": "2024-12-27T03:45:07.735Z"
   },
   {
    "duration": 11,
    "start_time": "2024-12-27T03:45:07.831Z"
   },
   {
    "duration": 60,
    "start_time": "2024-12-27T03:45:07.844Z"
   },
   {
    "duration": 35,
    "start_time": "2024-12-27T03:45:07.907Z"
   },
   {
    "duration": 5,
    "start_time": "2024-12-27T03:45:07.944Z"
   },
   {
    "duration": 6,
    "start_time": "2024-12-27T03:45:07.951Z"
   },
   {
    "duration": 6,
    "start_time": "2024-12-27T03:45:07.958Z"
   },
   {
    "duration": 20,
    "start_time": "2024-12-27T03:45:07.966Z"
   },
   {
    "duration": 105,
    "start_time": "2024-12-27T03:45:07.988Z"
   },
   {
    "duration": 8,
    "start_time": "2024-12-27T03:45:08.095Z"
   },
   {
    "duration": 5,
    "start_time": "2024-12-27T03:45:08.105Z"
   },
   {
    "duration": 25,
    "start_time": "2024-12-27T03:45:08.112Z"
   },
   {
    "duration": 5,
    "start_time": "2024-12-27T03:45:08.139Z"
   },
   {
    "duration": 18,
    "start_time": "2024-12-27T03:45:08.146Z"
   },
   {
    "duration": 8,
    "start_time": "2024-12-27T03:45:08.169Z"
   },
   {
    "duration": 6,
    "start_time": "2024-12-27T03:45:08.179Z"
   },
   {
    "duration": 5,
    "start_time": "2024-12-27T03:45:08.187Z"
   },
   {
    "duration": 4,
    "start_time": "2024-12-27T03:45:08.194Z"
   },
   {
    "duration": 222,
    "start_time": "2024-12-27T03:45:08.232Z"
   },
   {
    "duration": 205,
    "start_time": "2024-12-27T03:45:08.455Z"
   },
   {
    "duration": 215,
    "start_time": "2024-12-27T03:45:08.662Z"
   },
   {
    "duration": 326,
    "start_time": "2024-12-27T03:45:08.879Z"
   },
   {
    "duration": 267,
    "start_time": "2024-12-27T03:45:09.207Z"
   },
   {
    "duration": 5,
    "start_time": "2024-12-27T03:45:09.476Z"
   },
   {
    "duration": 1676,
    "start_time": "2024-12-27T03:45:09.482Z"
   },
   {
    "duration": 17,
    "start_time": "2024-12-27T03:45:11.160Z"
   },
   {
    "duration": 9,
    "start_time": "2024-12-27T03:45:11.179Z"
   },
   {
    "duration": 3,
    "start_time": "2024-12-27T03:45:11.191Z"
   },
   {
    "duration": 5,
    "start_time": "2024-12-27T03:45:11.196Z"
   },
   {
    "duration": 40,
    "start_time": "2024-12-27T03:45:11.202Z"
   },
   {
    "duration": 5,
    "start_time": "2024-12-27T03:45:11.243Z"
   },
   {
    "duration": 3,
    "start_time": "2024-12-27T03:45:11.250Z"
   },
   {
    "duration": 4,
    "start_time": "2024-12-27T03:45:11.255Z"
   },
   {
    "duration": 4,
    "start_time": "2024-12-27T03:45:11.260Z"
   },
   {
    "duration": 16,
    "start_time": "2024-12-27T03:45:11.265Z"
   },
   {
    "duration": 48,
    "start_time": "2024-12-27T03:45:11.284Z"
   },
   {
    "duration": 13,
    "start_time": "2024-12-27T03:45:11.334Z"
   },
   {
    "duration": 9,
    "start_time": "2024-12-27T03:45:11.349Z"
   },
   {
    "duration": 4,
    "start_time": "2024-12-27T03:45:11.360Z"
   },
   {
    "duration": 848,
    "start_time": "2024-12-27T03:45:11.365Z"
   },
   {
    "duration": 0,
    "start_time": "2024-12-27T03:45:12.215Z"
   },
   {
    "duration": 0,
    "start_time": "2024-12-27T03:45:12.216Z"
   },
   {
    "duration": 0,
    "start_time": "2024-12-27T03:45:12.217Z"
   },
   {
    "duration": 9,
    "start_time": "2024-12-27T03:49:19.497Z"
   },
   {
    "duration": 5,
    "start_time": "2024-12-27T03:49:33.612Z"
   },
   {
    "duration": 556,
    "start_time": "2024-12-27T03:49:36.097Z"
   },
   {
    "duration": 581,
    "start_time": "2024-12-27T03:49:40.057Z"
   },
   {
    "duration": 579,
    "start_time": "2024-12-27T03:54:08.737Z"
   },
   {
    "duration": 6565,
    "start_time": "2024-12-27T03:54:58.693Z"
   },
   {
    "duration": 6573,
    "start_time": "2024-12-27T04:02:59.813Z"
   },
   {
    "duration": 55,
    "start_time": "2024-12-27T04:05:02.057Z"
   },
   {
    "duration": 2913,
    "start_time": "2024-12-30T23:40:16.155Z"
   },
   {
    "duration": 616,
    "start_time": "2024-12-30T23:40:19.071Z"
   },
   {
    "duration": 251,
    "start_time": "2024-12-30T23:40:19.689Z"
   },
   {
    "duration": 16,
    "start_time": "2024-12-30T23:40:19.943Z"
   },
   {
    "duration": 7,
    "start_time": "2024-12-30T23:40:19.961Z"
   },
   {
    "duration": 77,
    "start_time": "2024-12-30T23:40:19.970Z"
   },
   {
    "duration": 100,
    "start_time": "2024-12-30T23:40:20.049Z"
   },
   {
    "duration": 16,
    "start_time": "2024-12-30T23:40:20.151Z"
   },
   {
    "duration": 5,
    "start_time": "2024-12-30T23:40:20.170Z"
   },
   {
    "duration": 40,
    "start_time": "2024-12-30T23:40:20.178Z"
   },
   {
    "duration": 190,
    "start_time": "2024-12-30T23:40:20.219Z"
   },
   {
    "duration": 17,
    "start_time": "2024-12-30T23:40:20.410Z"
   },
   {
    "duration": 8,
    "start_time": "2024-12-30T23:40:20.428Z"
   },
   {
    "duration": 98,
    "start_time": "2024-12-30T23:40:20.437Z"
   },
   {
    "duration": 11,
    "start_time": "2024-12-30T23:40:20.537Z"
   },
   {
    "duration": 73,
    "start_time": "2024-12-30T23:40:20.549Z"
   },
   {
    "duration": 13,
    "start_time": "2024-12-30T23:40:20.624Z"
   },
   {
    "duration": 4,
    "start_time": "2024-12-30T23:40:20.639Z"
   },
   {
    "duration": 6,
    "start_time": "2024-12-30T23:40:20.644Z"
   },
   {
    "duration": 6,
    "start_time": "2024-12-30T23:40:20.652Z"
   },
   {
    "duration": 50,
    "start_time": "2024-12-30T23:40:20.659Z"
   },
   {
    "duration": 70,
    "start_time": "2024-12-30T23:40:20.711Z"
   },
   {
    "duration": 6,
    "start_time": "2024-12-30T23:40:20.783Z"
   },
   {
    "duration": 21,
    "start_time": "2024-12-30T23:40:20.791Z"
   },
   {
    "duration": 6,
    "start_time": "2024-12-30T23:40:20.813Z"
   },
   {
    "duration": 4,
    "start_time": "2024-12-30T23:40:20.821Z"
   },
   {
    "duration": 16,
    "start_time": "2024-12-30T23:40:20.827Z"
   },
   {
    "duration": 6,
    "start_time": "2024-12-30T23:40:20.847Z"
   },
   {
    "duration": 4,
    "start_time": "2024-12-30T23:40:20.855Z"
   },
   {
    "duration": 5,
    "start_time": "2024-12-30T23:40:20.861Z"
   },
   {
    "duration": 43,
    "start_time": "2024-12-30T23:40:20.868Z"
   },
   {
    "duration": 219,
    "start_time": "2024-12-30T23:40:20.913Z"
   },
   {
    "duration": 1103,
    "start_time": "2024-12-30T23:40:25.086Z"
   },
   {
    "duration": 519,
    "start_time": "2024-12-30T23:40:26.192Z"
   },
   {
    "duration": 177,
    "start_time": "2024-12-30T23:40:26.713Z"
   },
   {
    "duration": 22,
    "start_time": "2024-12-30T23:40:26.892Z"
   },
   {
    "duration": 7,
    "start_time": "2024-12-30T23:40:26.915Z"
   },
   {
    "duration": 57,
    "start_time": "2024-12-30T23:40:26.924Z"
   },
   {
    "duration": 118,
    "start_time": "2024-12-30T23:40:26.983Z"
   },
   {
    "duration": 17,
    "start_time": "2024-12-30T23:40:27.109Z"
   },
   {
    "duration": 6,
    "start_time": "2024-12-30T23:40:27.128Z"
   },
   {
    "duration": 18,
    "start_time": "2024-12-30T23:40:27.137Z"
   },
   {
    "duration": 234,
    "start_time": "2024-12-30T23:40:27.157Z"
   },
   {
    "duration": 31,
    "start_time": "2024-12-30T23:40:27.393Z"
   },
   {
    "duration": 7,
    "start_time": "2024-12-30T23:40:27.426Z"
   },
   {
    "duration": 90,
    "start_time": "2024-12-30T23:40:27.435Z"
   },
   {
    "duration": 11,
    "start_time": "2024-12-30T23:40:27.527Z"
   },
   {
    "duration": 69,
    "start_time": "2024-12-30T23:40:27.540Z"
   },
   {
    "duration": 15,
    "start_time": "2024-12-30T23:40:27.612Z"
   },
   {
    "duration": 5,
    "start_time": "2024-12-30T23:40:27.628Z"
   },
   {
    "duration": 5,
    "start_time": "2024-12-30T23:40:27.635Z"
   },
   {
    "duration": 5,
    "start_time": "2024-12-30T23:40:27.643Z"
   },
   {
    "duration": 20,
    "start_time": "2024-12-30T23:40:27.649Z"
   },
   {
    "duration": 103,
    "start_time": "2024-12-30T23:40:27.671Z"
   },
   {
    "duration": 7,
    "start_time": "2024-12-30T23:40:27.777Z"
   },
   {
    "duration": 5,
    "start_time": "2024-12-30T23:40:27.785Z"
   },
   {
    "duration": 8,
    "start_time": "2024-12-30T23:40:27.809Z"
   },
   {
    "duration": 5,
    "start_time": "2024-12-30T23:40:27.819Z"
   },
   {
    "duration": 17,
    "start_time": "2024-12-30T23:40:27.825Z"
   },
   {
    "duration": 5,
    "start_time": "2024-12-30T23:40:27.846Z"
   },
   {
    "duration": 4,
    "start_time": "2024-12-30T23:40:27.854Z"
   },
   {
    "duration": 5,
    "start_time": "2024-12-30T23:40:27.860Z"
   },
   {
    "duration": 4,
    "start_time": "2024-12-30T23:40:27.866Z"
   },
   {
    "duration": 270,
    "start_time": "2024-12-30T23:40:27.908Z"
   },
   {
    "duration": 205,
    "start_time": "2024-12-30T23:40:28.179Z"
   },
   {
    "duration": 211,
    "start_time": "2024-12-30T23:40:28.386Z"
   },
   {
    "duration": 246,
    "start_time": "2024-12-30T23:40:28.599Z"
   },
   {
    "duration": 262,
    "start_time": "2024-12-30T23:40:28.847Z"
   },
   {
    "duration": 5,
    "start_time": "2024-12-30T23:40:29.111Z"
   },
   {
    "duration": 1700,
    "start_time": "2024-12-30T23:40:29.118Z"
   },
   {
    "duration": 18,
    "start_time": "2024-12-30T23:40:30.820Z"
   },
   {
    "duration": 9,
    "start_time": "2024-12-30T23:40:30.841Z"
   },
   {
    "duration": 3,
    "start_time": "2024-12-30T23:40:30.852Z"
   },
   {
    "duration": 5,
    "start_time": "2024-12-30T23:40:30.857Z"
   },
   {
    "duration": 12,
    "start_time": "2024-12-30T23:40:30.863Z"
   },
   {
    "duration": 33,
    "start_time": "2024-12-30T23:40:30.877Z"
   },
   {
    "duration": 3,
    "start_time": "2024-12-30T23:40:30.912Z"
   },
   {
    "duration": 4,
    "start_time": "2024-12-30T23:40:30.917Z"
   },
   {
    "duration": 4,
    "start_time": "2024-12-30T23:40:30.922Z"
   },
   {
    "duration": 17,
    "start_time": "2024-12-30T23:40:30.928Z"
   },
   {
    "duration": 11,
    "start_time": "2024-12-30T23:40:30.946Z"
   },
   {
    "duration": 53,
    "start_time": "2024-12-30T23:40:30.959Z"
   },
   {
    "duration": 342,
    "start_time": "2024-12-30T23:40:31.014Z"
   },
   {
    "duration": 0,
    "start_time": "2024-12-30T23:40:31.357Z"
   },
   {
    "duration": 0,
    "start_time": "2024-12-30T23:40:31.359Z"
   },
   {
    "duration": 0,
    "start_time": "2024-12-30T23:40:31.359Z"
   },
   {
    "duration": 0,
    "start_time": "2024-12-30T23:40:31.361Z"
   },
   {
    "duration": 0,
    "start_time": "2024-12-30T23:40:31.362Z"
   },
   {
    "duration": 4,
    "start_time": "2024-12-30T23:59:27.352Z"
   },
   {
    "duration": 16,
    "start_time": "2024-12-30T23:59:31.783Z"
   },
   {
    "duration": 6,
    "start_time": "2024-12-31T00:01:14.311Z"
   },
   {
    "duration": 635,
    "start_time": "2024-12-31T00:01:18.570Z"
   },
   {
    "duration": 18,
    "start_time": "2024-12-31T00:01:37.962Z"
   },
   {
    "duration": 11,
    "start_time": "2024-12-31T00:01:57.459Z"
   },
   {
    "duration": 128,
    "start_time": "2024-12-31T00:02:00.172Z"
   },
   {
    "duration": 7,
    "start_time": "2024-12-31T00:02:30.170Z"
   },
   {
    "duration": 5,
    "start_time": "2024-12-31T00:03:10.506Z"
   },
   {
    "duration": 5,
    "start_time": "2024-12-31T00:05:39.599Z"
   },
   {
    "duration": 1075,
    "start_time": "2024-12-31T00:06:05.869Z"
   },
   {
    "duration": 537,
    "start_time": "2024-12-31T00:06:06.947Z"
   },
   {
    "duration": 190,
    "start_time": "2024-12-31T00:06:07.486Z"
   },
   {
    "duration": 17,
    "start_time": "2024-12-31T00:06:07.679Z"
   },
   {
    "duration": 18,
    "start_time": "2024-12-31T00:06:07.698Z"
   },
   {
    "duration": 61,
    "start_time": "2024-12-31T00:06:07.717Z"
   },
   {
    "duration": 114,
    "start_time": "2024-12-31T00:06:07.781Z"
   },
   {
    "duration": 22,
    "start_time": "2024-12-31T00:06:07.897Z"
   },
   {
    "duration": 5,
    "start_time": "2024-12-31T00:06:07.921Z"
   },
   {
    "duration": 20,
    "start_time": "2024-12-31T00:06:07.931Z"
   },
   {
    "duration": 201,
    "start_time": "2024-12-31T00:06:07.953Z"
   },
   {
    "duration": 18,
    "start_time": "2024-12-31T00:06:08.157Z"
   },
   {
    "duration": 6,
    "start_time": "2024-12-31T00:06:08.177Z"
   },
   {
    "duration": 100,
    "start_time": "2024-12-31T00:06:08.185Z"
   },
   {
    "duration": 11,
    "start_time": "2024-12-31T00:06:08.286Z"
   },
   {
    "duration": 67,
    "start_time": "2024-12-31T00:06:08.299Z"
   },
   {
    "duration": 14,
    "start_time": "2024-12-31T00:06:08.367Z"
   },
   {
    "duration": 4,
    "start_time": "2024-12-31T00:06:08.382Z"
   },
   {
    "duration": 25,
    "start_time": "2024-12-31T00:06:08.388Z"
   },
   {
    "duration": 5,
    "start_time": "2024-12-31T00:06:08.415Z"
   },
   {
    "duration": 20,
    "start_time": "2024-12-31T00:06:08.422Z"
   },
   {
    "duration": 86,
    "start_time": "2024-12-31T00:06:08.444Z"
   },
   {
    "duration": 7,
    "start_time": "2024-12-31T00:06:08.532Z"
   },
   {
    "duration": 5,
    "start_time": "2024-12-31T00:06:08.540Z"
   },
   {
    "duration": 8,
    "start_time": "2024-12-31T00:06:08.546Z"
   },
   {
    "duration": 5,
    "start_time": "2024-12-31T00:06:08.555Z"
   },
   {
    "duration": 49,
    "start_time": "2024-12-31T00:06:08.561Z"
   },
   {
    "duration": 7,
    "start_time": "2024-12-31T00:06:08.615Z"
   },
   {
    "duration": 5,
    "start_time": "2024-12-31T00:06:08.623Z"
   },
   {
    "duration": 5,
    "start_time": "2024-12-31T00:06:08.630Z"
   },
   {
    "duration": 3,
    "start_time": "2024-12-31T00:06:08.637Z"
   },
   {
    "duration": 302,
    "start_time": "2024-12-31T00:06:08.642Z"
   },
   {
    "duration": 211,
    "start_time": "2024-12-31T00:06:08.946Z"
   },
   {
    "duration": 216,
    "start_time": "2024-12-31T00:06:09.159Z"
   },
   {
    "duration": 246,
    "start_time": "2024-12-31T00:06:09.377Z"
   },
   {
    "duration": 287,
    "start_time": "2024-12-31T00:06:09.624Z"
   },
   {
    "duration": 5,
    "start_time": "2024-12-31T00:06:09.914Z"
   },
   {
    "duration": 1657,
    "start_time": "2024-12-31T00:06:09.921Z"
   },
   {
    "duration": 29,
    "start_time": "2024-12-31T00:06:11.580Z"
   },
   {
    "duration": 9,
    "start_time": "2024-12-31T00:06:11.611Z"
   },
   {
    "duration": 4,
    "start_time": "2024-12-31T00:06:11.622Z"
   },
   {
    "duration": 4,
    "start_time": "2024-12-31T00:06:11.628Z"
   },
   {
    "duration": 12,
    "start_time": "2024-12-31T00:06:11.633Z"
   },
   {
    "duration": 6,
    "start_time": "2024-12-31T00:06:11.646Z"
   },
   {
    "duration": 4,
    "start_time": "2024-12-31T00:06:11.654Z"
   },
   {
    "duration": 4,
    "start_time": "2024-12-31T00:06:11.660Z"
   },
   {
    "duration": 4,
    "start_time": "2024-12-31T00:06:11.665Z"
   },
   {
    "duration": 16,
    "start_time": "2024-12-31T00:06:11.709Z"
   },
   {
    "duration": 11,
    "start_time": "2024-12-31T00:06:11.727Z"
   },
   {
    "duration": 13,
    "start_time": "2024-12-31T00:06:11.740Z"
   },
   {
    "duration": 4,
    "start_time": "2024-12-31T00:06:11.754Z"
   },
   {
    "duration": 5,
    "start_time": "2024-12-31T00:06:11.761Z"
   },
   {
    "duration": 50,
    "start_time": "2024-12-31T00:06:11.768Z"
   },
   {
    "duration": 4,
    "start_time": "2024-12-31T00:06:11.820Z"
   },
   {
    "duration": 0,
    "start_time": "2024-12-31T00:06:11.826Z"
   },
   {
    "duration": 0,
    "start_time": "2024-12-31T00:06:11.828Z"
   },
   {
    "duration": 0,
    "start_time": "2024-12-31T00:06:11.829Z"
   },
   {
    "duration": 0,
    "start_time": "2024-12-31T00:06:11.830Z"
   },
   {
    "duration": 591,
    "start_time": "2024-12-31T00:07:59.757Z"
   },
   {
    "duration": 3,
    "start_time": "2024-12-31T00:10:41.218Z"
   },
   {
    "duration": 4,
    "start_time": "2024-12-31T00:12:44.676Z"
   },
   {
    "duration": 1097,
    "start_time": "2024-12-31T00:15:02.902Z"
   },
   {
    "duration": 525,
    "start_time": "2024-12-31T00:15:04.001Z"
   },
   {
    "duration": 177,
    "start_time": "2024-12-31T00:15:04.528Z"
   },
   {
    "duration": 17,
    "start_time": "2024-12-31T00:15:04.708Z"
   },
   {
    "duration": 8,
    "start_time": "2024-12-31T00:15:04.727Z"
   },
   {
    "duration": 79,
    "start_time": "2024-12-31T00:15:04.736Z"
   },
   {
    "duration": 103,
    "start_time": "2024-12-31T00:15:04.817Z"
   },
   {
    "duration": 17,
    "start_time": "2024-12-31T00:15:04.922Z"
   },
   {
    "duration": 5,
    "start_time": "2024-12-31T00:15:04.941Z"
   },
   {
    "duration": 19,
    "start_time": "2024-12-31T00:15:04.949Z"
   },
   {
    "duration": 204,
    "start_time": "2024-12-31T00:15:04.969Z"
   },
   {
    "duration": 16,
    "start_time": "2024-12-31T00:15:05.175Z"
   },
   {
    "duration": 20,
    "start_time": "2024-12-31T00:15:05.193Z"
   },
   {
    "duration": 81,
    "start_time": "2024-12-31T00:15:05.215Z"
   },
   {
    "duration": 11,
    "start_time": "2024-12-31T00:15:05.309Z"
   },
   {
    "duration": 58,
    "start_time": "2024-12-31T00:15:05.322Z"
   },
   {
    "duration": 29,
    "start_time": "2024-12-31T00:15:05.382Z"
   },
   {
    "duration": 4,
    "start_time": "2024-12-31T00:15:05.413Z"
   },
   {
    "duration": 5,
    "start_time": "2024-12-31T00:15:05.419Z"
   },
   {
    "duration": 5,
    "start_time": "2024-12-31T00:15:05.426Z"
   },
   {
    "duration": 21,
    "start_time": "2024-12-31T00:15:05.433Z"
   },
   {
    "duration": 99,
    "start_time": "2024-12-31T00:15:05.455Z"
   },
   {
    "duration": 7,
    "start_time": "2024-12-31T00:15:05.556Z"
   },
   {
    "duration": 5,
    "start_time": "2024-12-31T00:15:05.565Z"
   },
   {
    "duration": 7,
    "start_time": "2024-12-31T00:15:05.572Z"
   },
   {
    "duration": 28,
    "start_time": "2024-12-31T00:15:05.581Z"
   },
   {
    "duration": 16,
    "start_time": "2024-12-31T00:15:05.611Z"
   },
   {
    "duration": 6,
    "start_time": "2024-12-31T00:15:05.631Z"
   },
   {
    "duration": 6,
    "start_time": "2024-12-31T00:15:05.638Z"
   },
   {
    "duration": 6,
    "start_time": "2024-12-31T00:15:05.645Z"
   },
   {
    "duration": 3,
    "start_time": "2024-12-31T00:15:05.652Z"
   },
   {
    "duration": 299,
    "start_time": "2024-12-31T00:15:05.657Z"
   },
   {
    "duration": 203,
    "start_time": "2024-12-31T00:15:05.959Z"
   },
   {
    "duration": 216,
    "start_time": "2024-12-31T00:15:06.164Z"
   },
   {
    "duration": 253,
    "start_time": "2024-12-31T00:15:06.382Z"
   },
   {
    "duration": 266,
    "start_time": "2024-12-31T00:15:06.637Z"
   },
   {
    "duration": 6,
    "start_time": "2024-12-31T00:15:06.905Z"
   },
   {
    "duration": 1743,
    "start_time": "2024-12-31T00:15:06.913Z"
   },
   {
    "duration": 18,
    "start_time": "2024-12-31T00:15:08.658Z"
   },
   {
    "duration": 10,
    "start_time": "2024-12-31T00:15:08.678Z"
   },
   {
    "duration": 20,
    "start_time": "2024-12-31T00:15:08.689Z"
   },
   {
    "duration": 4,
    "start_time": "2024-12-31T00:15:08.711Z"
   },
   {
    "duration": 4,
    "start_time": "2024-12-31T00:15:08.717Z"
   },
   {
    "duration": 4,
    "start_time": "2024-12-31T00:15:08.723Z"
   },
   {
    "duration": 4,
    "start_time": "2024-12-31T00:15:08.729Z"
   },
   {
    "duration": 3,
    "start_time": "2024-12-31T00:15:08.735Z"
   },
   {
    "duration": 3,
    "start_time": "2024-12-31T00:15:08.740Z"
   },
   {
    "duration": 15,
    "start_time": "2024-12-31T00:15:08.745Z"
   },
   {
    "duration": 57,
    "start_time": "2024-12-31T00:15:08.761Z"
   },
   {
    "duration": 14,
    "start_time": "2024-12-31T00:15:08.819Z"
   },
   {
    "duration": 6,
    "start_time": "2024-12-31T00:15:08.834Z"
   },
   {
    "duration": 11,
    "start_time": "2024-12-31T00:15:08.842Z"
   },
   {
    "duration": 615,
    "start_time": "2024-12-31T00:15:08.855Z"
   },
   {
    "duration": 0,
    "start_time": "2024-12-31T00:15:09.472Z"
   },
   {
    "duration": 0,
    "start_time": "2024-12-31T00:15:09.473Z"
   },
   {
    "duration": 0,
    "start_time": "2024-12-31T00:15:09.475Z"
   },
   {
    "duration": 0,
    "start_time": "2024-12-31T00:15:09.476Z"
   },
   {
    "duration": 11,
    "start_time": "2024-12-31T00:18:06.495Z"
   },
   {
    "duration": 4,
    "start_time": "2024-12-31T00:18:22.792Z"
   },
   {
    "duration": 250,
    "start_time": "2024-12-31T00:18:29.021Z"
   },
   {
    "duration": 77,
    "start_time": "2024-12-31T00:18:57.883Z"
   },
   {
    "duration": 4,
    "start_time": "2024-12-31T00:20:56.423Z"
   },
   {
    "duration": 519,
    "start_time": "2024-12-31T00:21:09.263Z"
   },
   {
    "duration": 2747,
    "start_time": "2025-01-06T23:20:26.709Z"
   },
   {
    "duration": 612,
    "start_time": "2025-01-06T23:20:29.458Z"
   },
   {
    "duration": 243,
    "start_time": "2025-01-06T23:20:30.072Z"
   },
   {
    "duration": 17,
    "start_time": "2025-01-06T23:20:30.318Z"
   },
   {
    "duration": 7,
    "start_time": "2025-01-06T23:20:30.336Z"
   },
   {
    "duration": 76,
    "start_time": "2025-01-06T23:20:30.344Z"
   },
   {
    "duration": 99,
    "start_time": "2025-01-06T23:20:30.422Z"
   },
   {
    "duration": 18,
    "start_time": "2025-01-06T23:20:30.523Z"
   },
   {
    "duration": 5,
    "start_time": "2025-01-06T23:20:30.543Z"
   },
   {
    "duration": 36,
    "start_time": "2025-01-06T23:20:30.551Z"
   },
   {
    "duration": 191,
    "start_time": "2025-01-06T23:20:30.588Z"
   },
   {
    "duration": 17,
    "start_time": "2025-01-06T23:20:30.780Z"
   },
   {
    "duration": 11,
    "start_time": "2025-01-06T23:20:30.799Z"
   },
   {
    "duration": 92,
    "start_time": "2025-01-06T23:20:30.812Z"
   },
   {
    "duration": 10,
    "start_time": "2025-01-06T23:20:30.906Z"
   },
   {
    "duration": 69,
    "start_time": "2025-01-06T23:20:30.917Z"
   },
   {
    "duration": 12,
    "start_time": "2025-01-06T23:20:30.990Z"
   },
   {
    "duration": 5,
    "start_time": "2025-01-06T23:20:31.003Z"
   },
   {
    "duration": 5,
    "start_time": "2025-01-06T23:20:31.010Z"
   },
   {
    "duration": 5,
    "start_time": "2025-01-06T23:20:31.017Z"
   },
   {
    "duration": 19,
    "start_time": "2025-01-06T23:20:31.024Z"
   },
   {
    "duration": 69,
    "start_time": "2025-01-06T23:20:31.071Z"
   },
   {
    "duration": 7,
    "start_time": "2025-01-06T23:20:31.142Z"
   },
   {
    "duration": 23,
    "start_time": "2025-01-06T23:20:31.151Z"
   },
   {
    "duration": 6,
    "start_time": "2025-01-06T23:20:31.175Z"
   },
   {
    "duration": 5,
    "start_time": "2025-01-06T23:20:31.183Z"
   },
   {
    "duration": 16,
    "start_time": "2025-01-06T23:20:31.189Z"
   },
   {
    "duration": 4,
    "start_time": "2025-01-06T23:20:31.209Z"
   },
   {
    "duration": 5,
    "start_time": "2025-01-06T23:20:31.216Z"
   },
   {
    "duration": 5,
    "start_time": "2025-01-06T23:20:31.223Z"
   },
   {
    "duration": 43,
    "start_time": "2025-01-06T23:20:31.229Z"
   },
   {
    "duration": 215,
    "start_time": "2025-01-06T23:20:31.274Z"
   },
   {
    "duration": 206,
    "start_time": "2025-01-06T23:20:31.491Z"
   },
   {
    "duration": 213,
    "start_time": "2025-01-06T23:20:31.699Z"
   },
   {
    "duration": 314,
    "start_time": "2025-01-06T23:20:31.913Z"
   },
   {
    "duration": 281,
    "start_time": "2025-01-06T23:20:32.229Z"
   },
   {
    "duration": 5,
    "start_time": "2025-01-06T23:20:32.512Z"
   },
   {
    "duration": 1598,
    "start_time": "2025-01-06T23:20:32.518Z"
   },
   {
    "duration": 17,
    "start_time": "2025-01-06T23:20:34.117Z"
   },
   {
    "duration": 10,
    "start_time": "2025-01-06T23:20:34.136Z"
   },
   {
    "duration": 3,
    "start_time": "2025-01-06T23:20:34.148Z"
   },
   {
    "duration": 4,
    "start_time": "2025-01-06T23:20:34.171Z"
   },
   {
    "duration": 5,
    "start_time": "2025-01-06T23:20:34.176Z"
   },
   {
    "duration": 4,
    "start_time": "2025-01-06T23:20:34.182Z"
   },
   {
    "duration": 5,
    "start_time": "2025-01-06T23:20:34.188Z"
   },
   {
    "duration": 5,
    "start_time": "2025-01-06T23:20:34.194Z"
   },
   {
    "duration": 4,
    "start_time": "2025-01-06T23:20:34.200Z"
   },
   {
    "duration": 15,
    "start_time": "2025-01-06T23:20:34.206Z"
   },
   {
    "duration": 49,
    "start_time": "2025-01-06T23:20:34.222Z"
   },
   {
    "duration": 12,
    "start_time": "2025-01-06T23:20:34.273Z"
   },
   {
    "duration": 8,
    "start_time": "2025-01-06T23:20:34.287Z"
   },
   {
    "duration": 263,
    "start_time": "2025-01-06T23:20:34.297Z"
   },
   {
    "duration": 0,
    "start_time": "2025-01-06T23:20:34.562Z"
   },
   {
    "duration": 0,
    "start_time": "2025-01-06T23:20:34.563Z"
   },
   {
    "duration": 0,
    "start_time": "2025-01-06T23:20:34.570Z"
   },
   {
    "duration": 3,
    "start_time": "2025-01-06T23:23:05.434Z"
   },
   {
    "duration": 5,
    "start_time": "2025-01-06T23:24:20.029Z"
   },
   {
    "duration": 483,
    "start_time": "2025-01-06T23:24:58.115Z"
   },
   {
    "duration": 1186,
    "start_time": "2025-01-06T23:25:08.023Z"
   },
   {
    "duration": 512,
    "start_time": "2025-01-06T23:25:09.212Z"
   },
   {
    "duration": 170,
    "start_time": "2025-01-06T23:25:09.726Z"
   },
   {
    "duration": 17,
    "start_time": "2025-01-06T23:25:09.898Z"
   },
   {
    "duration": 6,
    "start_time": "2025-01-06T23:25:09.917Z"
   },
   {
    "duration": 84,
    "start_time": "2025-01-06T23:25:09.925Z"
   },
   {
    "duration": 142,
    "start_time": "2025-01-06T23:25:10.013Z"
   },
   {
    "duration": 23,
    "start_time": "2025-01-06T23:25:10.157Z"
   },
   {
    "duration": 6,
    "start_time": "2025-01-06T23:25:10.182Z"
   },
   {
    "duration": 20,
    "start_time": "2025-01-06T23:25:10.192Z"
   },
   {
    "duration": 207,
    "start_time": "2025-01-06T23:25:10.214Z"
   },
   {
    "duration": 24,
    "start_time": "2025-01-06T23:25:10.424Z"
   },
   {
    "duration": 20,
    "start_time": "2025-01-06T23:25:10.450Z"
   },
   {
    "duration": 82,
    "start_time": "2025-01-06T23:25:10.473Z"
   },
   {
    "duration": 21,
    "start_time": "2025-01-06T23:25:10.557Z"
   },
   {
    "duration": 59,
    "start_time": "2025-01-06T23:25:10.581Z"
   },
   {
    "duration": 30,
    "start_time": "2025-01-06T23:25:10.642Z"
   },
   {
    "duration": 4,
    "start_time": "2025-01-06T23:25:10.674Z"
   },
   {
    "duration": 7,
    "start_time": "2025-01-06T23:25:10.680Z"
   },
   {
    "duration": 5,
    "start_time": "2025-01-06T23:25:10.688Z"
   },
   {
    "duration": 20,
    "start_time": "2025-01-06T23:25:10.695Z"
   },
   {
    "duration": 102,
    "start_time": "2025-01-06T23:25:10.716Z"
   },
   {
    "duration": 7,
    "start_time": "2025-01-06T23:25:10.820Z"
   },
   {
    "duration": 6,
    "start_time": "2025-01-06T23:25:10.829Z"
   },
   {
    "duration": 7,
    "start_time": "2025-01-06T23:25:10.837Z"
   },
   {
    "duration": 27,
    "start_time": "2025-01-06T23:25:10.846Z"
   },
   {
    "duration": 18,
    "start_time": "2025-01-06T23:25:10.875Z"
   },
   {
    "duration": 5,
    "start_time": "2025-01-06T23:25:10.899Z"
   },
   {
    "duration": 5,
    "start_time": "2025-01-06T23:25:10.907Z"
   },
   {
    "duration": 5,
    "start_time": "2025-01-06T23:25:10.914Z"
   },
   {
    "duration": 4,
    "start_time": "2025-01-06T23:25:10.920Z"
   },
   {
    "duration": 321,
    "start_time": "2025-01-06T23:25:10.925Z"
   },
   {
    "duration": 230,
    "start_time": "2025-01-06T23:25:11.248Z"
   },
   {
    "duration": 223,
    "start_time": "2025-01-06T23:25:11.480Z"
   },
   {
    "duration": 260,
    "start_time": "2025-01-06T23:25:11.706Z"
   },
   {
    "duration": 294,
    "start_time": "2025-01-06T23:25:11.971Z"
   },
   {
    "duration": 6,
    "start_time": "2025-01-06T23:25:12.271Z"
   },
   {
    "duration": 1680,
    "start_time": "2025-01-06T23:25:12.281Z"
   },
   {
    "duration": 20,
    "start_time": "2025-01-06T23:25:13.963Z"
   },
   {
    "duration": 12,
    "start_time": "2025-01-06T23:25:13.985Z"
   },
   {
    "duration": 5,
    "start_time": "2025-01-06T23:25:13.999Z"
   },
   {
    "duration": 6,
    "start_time": "2025-01-06T23:25:14.007Z"
   },
   {
    "duration": 1064,
    "start_time": "2025-01-06T23:25:14.014Z"
   },
   {
    "duration": 0,
    "start_time": "2025-01-06T23:25:15.080Z"
   },
   {
    "duration": 0,
    "start_time": "2025-01-06T23:25:15.081Z"
   },
   {
    "duration": 0,
    "start_time": "2025-01-06T23:25:15.083Z"
   },
   {
    "duration": 0,
    "start_time": "2025-01-06T23:25:15.084Z"
   },
   {
    "duration": 0,
    "start_time": "2025-01-06T23:25:15.085Z"
   },
   {
    "duration": 0,
    "start_time": "2025-01-06T23:25:15.086Z"
   },
   {
    "duration": 0,
    "start_time": "2025-01-06T23:25:15.087Z"
   },
   {
    "duration": 0,
    "start_time": "2025-01-06T23:25:15.088Z"
   },
   {
    "duration": 37,
    "start_time": "2025-01-06T23:25:53.205Z"
   },
   {
    "duration": 5,
    "start_time": "2025-01-06T23:26:02.097Z"
   },
   {
    "duration": 255,
    "start_time": "2025-01-06T23:26:09.195Z"
   },
   {
    "duration": 4,
    "start_time": "2025-01-06T23:31:35.955Z"
   },
   {
    "duration": 14,
    "start_time": "2025-01-06T23:31:48.839Z"
   },
   {
    "duration": 47,
    "start_time": "2025-01-06T23:33:34.732Z"
   },
   {
    "duration": 4,
    "start_time": "2025-01-06T23:34:03.342Z"
   },
   {
    "duration": 32,
    "start_time": "2025-01-06T23:34:06.440Z"
   },
   {
    "duration": 4,
    "start_time": "2025-01-06T23:35:36.466Z"
   },
   {
    "duration": 11,
    "start_time": "2025-01-06T23:35:49.584Z"
   },
   {
    "duration": 349,
    "start_time": "2025-01-06T23:36:02.844Z"
   },
   {
    "duration": 15,
    "start_time": "2025-01-06T23:36:26.237Z"
   },
   {
    "duration": 17,
    "start_time": "2025-01-06T23:36:46.631Z"
   },
   {
    "duration": 235,
    "start_time": "2025-01-06T23:36:50.949Z"
   },
   {
    "duration": 20,
    "start_time": "2025-01-06T23:38:21.292Z"
   },
   {
    "duration": 60,
    "start_time": "2025-01-06T23:38:39.955Z"
   },
   {
    "duration": 6,
    "start_time": "2025-01-06T23:39:11.663Z"
   },
   {
    "duration": 678,
    "start_time": "2025-01-06T23:39:11.672Z"
   },
   {
    "duration": 179,
    "start_time": "2025-01-06T23:39:12.352Z"
   },
   {
    "duration": 17,
    "start_time": "2025-01-06T23:39:12.534Z"
   },
   {
    "duration": 19,
    "start_time": "2025-01-06T23:39:12.554Z"
   },
   {
    "duration": 55,
    "start_time": "2025-01-06T23:39:12.575Z"
   },
   {
    "duration": 132,
    "start_time": "2025-01-06T23:39:12.632Z"
   },
   {
    "duration": 27,
    "start_time": "2025-01-06T23:39:12.766Z"
   },
   {
    "duration": 6,
    "start_time": "2025-01-06T23:39:12.795Z"
   },
   {
    "duration": 22,
    "start_time": "2025-01-06T23:39:12.803Z"
   },
   {
    "duration": 226,
    "start_time": "2025-01-06T23:39:12.827Z"
   },
   {
    "duration": 26,
    "start_time": "2025-01-06T23:39:13.057Z"
   },
   {
    "duration": 9,
    "start_time": "2025-01-06T23:39:13.087Z"
   },
   {
    "duration": 87,
    "start_time": "2025-01-06T23:39:13.100Z"
   },
   {
    "duration": 10,
    "start_time": "2025-01-06T23:39:13.189Z"
   },
   {
    "duration": 74,
    "start_time": "2025-01-06T23:39:13.201Z"
   },
   {
    "duration": 14,
    "start_time": "2025-01-06T23:39:13.279Z"
   },
   {
    "duration": 5,
    "start_time": "2025-01-06T23:39:13.295Z"
   },
   {
    "duration": 7,
    "start_time": "2025-01-06T23:39:13.301Z"
   },
   {
    "duration": 8,
    "start_time": "2025-01-06T23:39:13.309Z"
   },
   {
    "duration": 15,
    "start_time": "2025-01-06T23:39:13.320Z"
   },
   {
    "duration": 96,
    "start_time": "2025-01-06T23:39:13.338Z"
   },
   {
    "duration": 8,
    "start_time": "2025-01-06T23:39:13.436Z"
   },
   {
    "duration": 6,
    "start_time": "2025-01-06T23:39:13.446Z"
   },
   {
    "duration": 6,
    "start_time": "2025-01-06T23:39:13.471Z"
   },
   {
    "duration": 5,
    "start_time": "2025-01-06T23:39:13.479Z"
   },
   {
    "duration": 25,
    "start_time": "2025-01-06T23:39:13.485Z"
   },
   {
    "duration": 7,
    "start_time": "2025-01-06T23:39:13.515Z"
   },
   {
    "duration": 6,
    "start_time": "2025-01-06T23:39:13.524Z"
   },
   {
    "duration": 5,
    "start_time": "2025-01-06T23:39:13.532Z"
   },
   {
    "duration": 35,
    "start_time": "2025-01-06T23:39:13.539Z"
   },
   {
    "duration": 222,
    "start_time": "2025-01-06T23:39:13.576Z"
   },
   {
    "duration": 308,
    "start_time": "2025-01-06T23:39:13.800Z"
   },
   {
    "duration": 284,
    "start_time": "2025-01-06T23:39:14.110Z"
   },
   {
    "duration": 280,
    "start_time": "2025-01-06T23:39:14.396Z"
   },
   {
    "duration": 365,
    "start_time": "2025-01-06T23:39:14.678Z"
   },
   {
    "duration": 6,
    "start_time": "2025-01-06T23:39:15.046Z"
   },
   {
    "duration": 1889,
    "start_time": "2025-01-06T23:39:15.055Z"
   },
   {
    "duration": 31,
    "start_time": "2025-01-06T23:39:16.946Z"
   },
   {
    "duration": 10,
    "start_time": "2025-01-06T23:39:16.980Z"
   },
   {
    "duration": 5,
    "start_time": "2025-01-06T23:39:16.995Z"
   },
   {
    "duration": 5,
    "start_time": "2025-01-06T23:39:17.002Z"
   },
   {
    "duration": 9,
    "start_time": "2025-01-06T23:39:17.008Z"
   },
   {
    "duration": 18,
    "start_time": "2025-01-06T23:39:17.019Z"
   },
   {
    "duration": 42,
    "start_time": "2025-01-06T23:39:17.038Z"
   },
   {
    "duration": 15,
    "start_time": "2025-01-06T23:39:17.082Z"
   },
   {
    "duration": 424,
    "start_time": "2025-01-06T23:39:17.098Z"
   },
   {
    "duration": 70,
    "start_time": "2025-01-06T23:39:17.524Z"
   },
   {
    "duration": 0,
    "start_time": "2025-01-06T23:39:17.596Z"
   },
   {
    "duration": 0,
    "start_time": "2025-01-06T23:39:17.597Z"
   },
   {
    "duration": 0,
    "start_time": "2025-01-06T23:39:17.602Z"
   },
   {
    "duration": 59,
    "start_time": "2025-01-06T23:42:10.485Z"
   },
   {
    "duration": 66,
    "start_time": "2025-01-06T23:42:16.687Z"
   },
   {
    "duration": 5,
    "start_time": "2025-01-06T23:50:58.425Z"
   },
   {
    "duration": 5,
    "start_time": "2025-01-06T23:51:06.969Z"
   },
   {
    "duration": 341,
    "start_time": "2025-01-06T23:52:16.015Z"
   },
   {
    "duration": 14,
    "start_time": "2025-01-06T23:53:31.844Z"
   },
   {
    "duration": 3,
    "start_time": "2025-01-06T23:55:01.031Z"
   },
   {
    "duration": 542,
    "start_time": "2025-01-06T23:55:01.040Z"
   },
   {
    "duration": 188,
    "start_time": "2025-01-06T23:55:01.584Z"
   },
   {
    "duration": 21,
    "start_time": "2025-01-06T23:55:01.774Z"
   },
   {
    "duration": 7,
    "start_time": "2025-01-06T23:55:01.797Z"
   },
   {
    "duration": 85,
    "start_time": "2025-01-06T23:55:01.806Z"
   },
   {
    "duration": 101,
    "start_time": "2025-01-06T23:55:01.893Z"
   },
   {
    "duration": 20,
    "start_time": "2025-01-06T23:55:01.996Z"
   },
   {
    "duration": 5,
    "start_time": "2025-01-06T23:55:02.018Z"
   },
   {
    "duration": 19,
    "start_time": "2025-01-06T23:55:02.024Z"
   },
   {
    "duration": 227,
    "start_time": "2025-01-06T23:55:02.044Z"
   },
   {
    "duration": 17,
    "start_time": "2025-01-06T23:55:02.275Z"
   },
   {
    "duration": 8,
    "start_time": "2025-01-06T23:55:02.294Z"
   },
   {
    "duration": 95,
    "start_time": "2025-01-06T23:55:02.305Z"
   },
   {
    "duration": 10,
    "start_time": "2025-01-06T23:55:02.404Z"
   },
   {
    "duration": 92,
    "start_time": "2025-01-06T23:55:02.415Z"
   },
   {
    "duration": 14,
    "start_time": "2025-01-06T23:55:02.509Z"
   },
   {
    "duration": 5,
    "start_time": "2025-01-06T23:55:02.525Z"
   },
   {
    "duration": 6,
    "start_time": "2025-01-06T23:55:02.531Z"
   },
   {
    "duration": 6,
    "start_time": "2025-01-06T23:55:02.539Z"
   },
   {
    "duration": 36,
    "start_time": "2025-01-06T23:55:02.546Z"
   },
   {
    "duration": 70,
    "start_time": "2025-01-06T23:55:02.584Z"
   },
   {
    "duration": 20,
    "start_time": "2025-01-06T23:55:02.656Z"
   },
   {
    "duration": 6,
    "start_time": "2025-01-06T23:55:02.678Z"
   },
   {
    "duration": 8,
    "start_time": "2025-01-06T23:55:02.686Z"
   },
   {
    "duration": 4,
    "start_time": "2025-01-06T23:55:02.696Z"
   },
   {
    "duration": 79,
    "start_time": "2025-01-06T23:55:02.702Z"
   },
   {
    "duration": 5,
    "start_time": "2025-01-06T23:55:02.783Z"
   },
   {
    "duration": 6,
    "start_time": "2025-01-06T23:55:02.790Z"
   },
   {
    "duration": 6,
    "start_time": "2025-01-06T23:55:02.797Z"
   },
   {
    "duration": 4,
    "start_time": "2025-01-06T23:55:02.804Z"
   },
   {
    "duration": 687,
    "start_time": "2025-01-06T23:55:02.810Z"
   },
   {
    "duration": 331,
    "start_time": "2025-01-06T23:55:03.499Z"
   },
   {
    "duration": 211,
    "start_time": "2025-01-06T23:55:03.831Z"
   },
   {
    "duration": 245,
    "start_time": "2025-01-06T23:55:04.044Z"
   },
   {
    "duration": 296,
    "start_time": "2025-01-06T23:55:04.291Z"
   },
   {
    "duration": 5,
    "start_time": "2025-01-06T23:55:04.589Z"
   },
   {
    "duration": 2119,
    "start_time": "2025-01-06T23:55:04.596Z"
   },
   {
    "duration": 19,
    "start_time": "2025-01-06T23:55:06.719Z"
   },
   {
    "duration": 6,
    "start_time": "2025-01-06T23:55:06.741Z"
   },
   {
    "duration": 3,
    "start_time": "2025-01-06T23:55:06.752Z"
   },
   {
    "duration": 186,
    "start_time": "2025-01-06T23:55:06.760Z"
   },
   {
    "duration": 9,
    "start_time": "2025-01-06T23:55:06.948Z"
   },
   {
    "duration": 30,
    "start_time": "2025-01-06T23:55:06.959Z"
   },
   {
    "duration": 16,
    "start_time": "2025-01-06T23:55:06.991Z"
   },
   {
    "duration": 13,
    "start_time": "2025-01-06T23:55:07.009Z"
   },
   {
    "duration": 394,
    "start_time": "2025-01-06T23:55:07.024Z"
   },
   {
    "duration": 15,
    "start_time": "2025-01-06T23:55:07.421Z"
   },
   {
    "duration": 0,
    "start_time": "2025-01-06T23:55:07.438Z"
   },
   {
    "duration": 0,
    "start_time": "2025-01-06T23:55:07.440Z"
   },
   {
    "duration": 0,
    "start_time": "2025-01-06T23:55:07.441Z"
   },
   {
    "duration": 15,
    "start_time": "2025-01-06T23:55:48.847Z"
   },
   {
    "duration": 15,
    "start_time": "2025-01-06T23:56:05.755Z"
   },
   {
    "duration": 56,
    "start_time": "2025-01-06T23:56:10.684Z"
   },
   {
    "duration": 10,
    "start_time": "2025-01-06T23:59:13.554Z"
   },
   {
    "duration": 4,
    "start_time": "2025-01-06T23:59:38.609Z"
   },
   {
    "duration": 512,
    "start_time": "2025-01-06T23:59:38.615Z"
   },
   {
    "duration": 196,
    "start_time": "2025-01-06T23:59:39.129Z"
   },
   {
    "duration": 17,
    "start_time": "2025-01-06T23:59:39.326Z"
   },
   {
    "duration": 7,
    "start_time": "2025-01-06T23:59:39.346Z"
   },
   {
    "duration": 80,
    "start_time": "2025-01-06T23:59:39.355Z"
   },
   {
    "duration": 112,
    "start_time": "2025-01-06T23:59:39.439Z"
   },
   {
    "duration": 21,
    "start_time": "2025-01-06T23:59:39.553Z"
   },
   {
    "duration": 6,
    "start_time": "2025-01-06T23:59:39.575Z"
   },
   {
    "duration": 21,
    "start_time": "2025-01-06T23:59:39.583Z"
   },
   {
    "duration": 225,
    "start_time": "2025-01-06T23:59:39.606Z"
   },
   {
    "duration": 17,
    "start_time": "2025-01-06T23:59:39.833Z"
   },
   {
    "duration": 18,
    "start_time": "2025-01-06T23:59:39.853Z"
   },
   {
    "duration": 87,
    "start_time": "2025-01-06T23:59:39.873Z"
   },
   {
    "duration": 17,
    "start_time": "2025-01-06T23:59:39.961Z"
   },
   {
    "duration": 72,
    "start_time": "2025-01-06T23:59:39.980Z"
   },
   {
    "duration": 15,
    "start_time": "2025-01-06T23:59:40.073Z"
   },
   {
    "duration": 13,
    "start_time": "2025-01-06T23:59:40.089Z"
   },
   {
    "duration": 7,
    "start_time": "2025-01-06T23:59:40.105Z"
   },
   {
    "duration": 6,
    "start_time": "2025-01-06T23:59:40.113Z"
   },
   {
    "duration": 12,
    "start_time": "2025-01-06T23:59:40.120Z"
   },
   {
    "duration": 100,
    "start_time": "2025-01-06T23:59:40.134Z"
   },
   {
    "duration": 7,
    "start_time": "2025-01-06T23:59:40.236Z"
   },
   {
    "duration": 6,
    "start_time": "2025-01-06T23:59:40.245Z"
   },
   {
    "duration": 19,
    "start_time": "2025-01-06T23:59:40.252Z"
   },
   {
    "duration": 9,
    "start_time": "2025-01-06T23:59:40.273Z"
   },
   {
    "duration": 24,
    "start_time": "2025-01-06T23:59:40.284Z"
   },
   {
    "duration": 5,
    "start_time": "2025-01-06T23:59:40.310Z"
   },
   {
    "duration": 4,
    "start_time": "2025-01-06T23:59:40.317Z"
   },
   {
    "duration": 5,
    "start_time": "2025-01-06T23:59:40.323Z"
   },
   {
    "duration": 3,
    "start_time": "2025-01-06T23:59:40.330Z"
   },
   {
    "duration": 263,
    "start_time": "2025-01-06T23:59:40.334Z"
   },
   {
    "duration": 318,
    "start_time": "2025-01-06T23:59:40.599Z"
   },
   {
    "duration": 511,
    "start_time": "2025-01-06T23:59:40.971Z"
   },
   {
    "duration": 346,
    "start_time": "2025-01-06T23:59:41.484Z"
   },
   {
    "duration": 299,
    "start_time": "2025-01-06T23:59:41.832Z"
   },
   {
    "duration": 5,
    "start_time": "2025-01-06T23:59:42.136Z"
   },
   {
    "duration": 1978,
    "start_time": "2025-01-06T23:59:42.143Z"
   },
   {
    "duration": 10,
    "start_time": "2025-01-06T23:59:44.124Z"
   },
   {
    "duration": 5,
    "start_time": "2025-01-06T23:59:44.135Z"
   },
   {
    "duration": 5,
    "start_time": "2025-01-06T23:59:44.141Z"
   },
   {
    "duration": 194,
    "start_time": "2025-01-06T23:59:44.147Z"
   },
   {
    "duration": 8,
    "start_time": "2025-01-06T23:59:44.343Z"
   },
   {
    "duration": 30,
    "start_time": "2025-01-06T23:59:44.352Z"
   },
   {
    "duration": 12,
    "start_time": "2025-01-06T23:59:44.384Z"
   },
   {
    "duration": 13,
    "start_time": "2025-01-06T23:59:44.397Z"
   },
   {
    "duration": 446,
    "start_time": "2025-01-06T23:59:44.411Z"
   },
   {
    "duration": 65,
    "start_time": "2025-01-06T23:59:44.859Z"
   },
   {
    "duration": 0,
    "start_time": "2025-01-06T23:59:44.926Z"
   },
   {
    "duration": 0,
    "start_time": "2025-01-06T23:59:44.927Z"
   },
   {
    "duration": 0,
    "start_time": "2025-01-06T23:59:44.929Z"
   },
   {
    "duration": 14,
    "start_time": "2025-01-07T00:00:33.731Z"
   },
   {
    "duration": 196,
    "start_time": "2025-01-07T00:00:40.124Z"
   },
   {
    "duration": 3,
    "start_time": "2025-01-07T00:02:32.122Z"
   },
   {
    "duration": 32,
    "start_time": "2025-01-07T00:02:36.697Z"
   },
   {
    "duration": 3,
    "start_time": "2025-01-07T00:04:05.447Z"
   },
   {
    "duration": 21,
    "start_time": "2025-01-07T00:04:08.089Z"
   },
   {
    "duration": 58,
    "start_time": "2025-01-07T00:04:36.410Z"
   },
   {
    "duration": 4,
    "start_time": "2025-01-07T00:06:25.541Z"
   },
   {
    "duration": 122,
    "start_time": "2025-01-07T00:08:43.564Z"
   },
   {
    "duration": 24,
    "start_time": "2025-01-07T00:09:27.839Z"
   },
   {
    "duration": 6,
    "start_time": "2025-01-07T00:10:10.978Z"
   },
   {
    "duration": 536,
    "start_time": "2025-01-07T00:10:10.991Z"
   },
   {
    "duration": 170,
    "start_time": "2025-01-07T00:10:11.529Z"
   },
   {
    "duration": 21,
    "start_time": "2025-01-07T00:10:11.701Z"
   },
   {
    "duration": 6,
    "start_time": "2025-01-07T00:10:11.724Z"
   },
   {
    "duration": 75,
    "start_time": "2025-01-07T00:10:11.732Z"
   },
   {
    "duration": 109,
    "start_time": "2025-01-07T00:10:11.809Z"
   },
   {
    "duration": 16,
    "start_time": "2025-01-07T00:10:11.920Z"
   },
   {
    "duration": 5,
    "start_time": "2025-01-07T00:10:11.941Z"
   },
   {
    "duration": 42,
    "start_time": "2025-01-07T00:10:11.948Z"
   },
   {
    "duration": 194,
    "start_time": "2025-01-07T00:10:11.994Z"
   },
   {
    "duration": 22,
    "start_time": "2025-01-07T00:10:12.190Z"
   },
   {
    "duration": 7,
    "start_time": "2025-01-07T00:10:12.214Z"
   },
   {
    "duration": 105,
    "start_time": "2025-01-07T00:10:12.222Z"
   },
   {
    "duration": 11,
    "start_time": "2025-01-07T00:10:12.331Z"
   },
   {
    "duration": 87,
    "start_time": "2025-01-07T00:10:12.344Z"
   },
   {
    "duration": 12,
    "start_time": "2025-01-07T00:10:12.434Z"
   },
   {
    "duration": 4,
    "start_time": "2025-01-07T00:10:12.448Z"
   },
   {
    "duration": 6,
    "start_time": "2025-01-07T00:10:12.470Z"
   },
   {
    "duration": 7,
    "start_time": "2025-01-07T00:10:12.479Z"
   },
   {
    "duration": 13,
    "start_time": "2025-01-07T00:10:12.489Z"
   },
   {
    "duration": 88,
    "start_time": "2025-01-07T00:10:12.504Z"
   },
   {
    "duration": 8,
    "start_time": "2025-01-07T00:10:12.594Z"
   },
   {
    "duration": 6,
    "start_time": "2025-01-07T00:10:12.604Z"
   },
   {
    "duration": 7,
    "start_time": "2025-01-07T00:10:12.612Z"
   },
   {
    "duration": 75,
    "start_time": "2025-01-07T00:10:12.620Z"
   },
   {
    "duration": 0,
    "start_time": "2025-01-07T00:10:12.696Z"
   },
   {
    "duration": 0,
    "start_time": "2025-01-07T00:10:12.697Z"
   },
   {
    "duration": 0,
    "start_time": "2025-01-07T00:10:12.700Z"
   },
   {
    "duration": 0,
    "start_time": "2025-01-07T00:10:12.701Z"
   },
   {
    "duration": 0,
    "start_time": "2025-01-07T00:10:12.702Z"
   },
   {
    "duration": 0,
    "start_time": "2025-01-07T00:10:12.704Z"
   },
   {
    "duration": 0,
    "start_time": "2025-01-07T00:10:12.705Z"
   },
   {
    "duration": 0,
    "start_time": "2025-01-07T00:10:12.707Z"
   },
   {
    "duration": 0,
    "start_time": "2025-01-07T00:10:12.708Z"
   },
   {
    "duration": 0,
    "start_time": "2025-01-07T00:10:12.709Z"
   },
   {
    "duration": 0,
    "start_time": "2025-01-07T00:10:12.712Z"
   },
   {
    "duration": 0,
    "start_time": "2025-01-07T00:10:12.713Z"
   },
   {
    "duration": 0,
    "start_time": "2025-01-07T00:10:12.715Z"
   },
   {
    "duration": 0,
    "start_time": "2025-01-07T00:10:12.716Z"
   },
   {
    "duration": 0,
    "start_time": "2025-01-07T00:10:12.717Z"
   },
   {
    "duration": 0,
    "start_time": "2025-01-07T00:10:12.718Z"
   },
   {
    "duration": 0,
    "start_time": "2025-01-07T00:10:12.719Z"
   },
   {
    "duration": 0,
    "start_time": "2025-01-07T00:10:12.721Z"
   },
   {
    "duration": 0,
    "start_time": "2025-01-07T00:10:12.722Z"
   },
   {
    "duration": 0,
    "start_time": "2025-01-07T00:10:12.723Z"
   },
   {
    "duration": 0,
    "start_time": "2025-01-07T00:10:12.725Z"
   },
   {
    "duration": 0,
    "start_time": "2025-01-07T00:10:12.726Z"
   },
   {
    "duration": 0,
    "start_time": "2025-01-07T00:10:12.727Z"
   },
   {
    "duration": 196,
    "start_time": "2025-01-07T00:11:08.248Z"
   },
   {
    "duration": 20,
    "start_time": "2025-01-07T00:11:45.337Z"
   },
   {
    "duration": 6,
    "start_time": "2025-01-07T00:11:49.747Z"
   },
   {
    "duration": 6,
    "start_time": "2025-01-07T00:13:24.577Z"
   },
   {
    "duration": 5,
    "start_time": "2025-01-07T00:13:29.149Z"
   },
   {
    "duration": 5,
    "start_time": "2025-01-07T00:16:22.908Z"
   },
   {
    "duration": 3,
    "start_time": "2025-01-07T00:16:36.069Z"
   },
   {
    "duration": 522,
    "start_time": "2025-01-07T00:16:36.089Z"
   },
   {
    "duration": 186,
    "start_time": "2025-01-07T00:16:36.613Z"
   },
   {
    "duration": 18,
    "start_time": "2025-01-07T00:16:36.801Z"
   },
   {
    "duration": 6,
    "start_time": "2025-01-07T00:16:36.821Z"
   },
   {
    "duration": 73,
    "start_time": "2025-01-07T00:16:36.829Z"
   },
   {
    "duration": 121,
    "start_time": "2025-01-07T00:16:36.905Z"
   },
   {
    "duration": 22,
    "start_time": "2025-01-07T00:16:37.029Z"
   },
   {
    "duration": 19,
    "start_time": "2025-01-07T00:16:37.053Z"
   },
   {
    "duration": 20,
    "start_time": "2025-01-07T00:16:37.075Z"
   },
   {
    "duration": 204,
    "start_time": "2025-01-07T00:16:37.097Z"
   },
   {
    "duration": 22,
    "start_time": "2025-01-07T00:16:37.303Z"
   },
   {
    "duration": 9,
    "start_time": "2025-01-07T00:16:37.326Z"
   },
   {
    "duration": 112,
    "start_time": "2025-01-07T00:16:37.337Z"
   },
   {
    "duration": 17,
    "start_time": "2025-01-07T00:16:37.453Z"
   },
   {
    "duration": 56,
    "start_time": "2025-01-07T00:16:37.472Z"
   },
   {
    "duration": 14,
    "start_time": "2025-01-07T00:16:37.530Z"
   },
   {
    "duration": 4,
    "start_time": "2025-01-07T00:16:37.546Z"
   },
   {
    "duration": 7,
    "start_time": "2025-01-07T00:16:37.571Z"
   },
   {
    "duration": 7,
    "start_time": "2025-01-07T00:16:37.580Z"
   },
   {
    "duration": 15,
    "start_time": "2025-01-07T00:16:37.588Z"
   },
   {
    "duration": 91,
    "start_time": "2025-01-07T00:16:37.605Z"
   },
   {
    "duration": 8,
    "start_time": "2025-01-07T00:16:37.698Z"
   },
   {
    "duration": 7,
    "start_time": "2025-01-07T00:16:37.707Z"
   },
   {
    "duration": 9,
    "start_time": "2025-01-07T00:16:37.717Z"
   },
   {
    "duration": 42,
    "start_time": "2025-01-07T00:16:37.728Z"
   },
   {
    "duration": 5,
    "start_time": "2025-01-07T00:16:37.772Z"
   },
   {
    "duration": 6,
    "start_time": "2025-01-07T00:16:37.778Z"
   },
   {
    "duration": 6,
    "start_time": "2025-01-07T00:16:37.785Z"
   },
   {
    "duration": 4,
    "start_time": "2025-01-07T00:16:37.793Z"
   },
   {
    "duration": 579,
    "start_time": "2025-01-07T00:16:37.799Z"
   },
   {
    "duration": 404,
    "start_time": "2025-01-07T00:16:38.380Z"
   },
   {
    "duration": 221,
    "start_time": "2025-01-07T00:16:38.787Z"
   },
   {
    "duration": 283,
    "start_time": "2025-01-07T00:16:39.010Z"
   },
   {
    "duration": 287,
    "start_time": "2025-01-07T00:16:39.295Z"
   },
   {
    "duration": 6,
    "start_time": "2025-01-07T00:16:39.584Z"
   },
   {
    "duration": 1757,
    "start_time": "2025-01-07T00:16:39.591Z"
   },
   {
    "duration": 20,
    "start_time": "2025-01-07T00:16:41.350Z"
   },
   {
    "duration": 6,
    "start_time": "2025-01-07T00:16:41.372Z"
   },
   {
    "duration": 5,
    "start_time": "2025-01-07T00:16:41.379Z"
   },
   {
    "duration": 20,
    "start_time": "2025-01-07T00:16:41.391Z"
   },
   {
    "duration": 18,
    "start_time": "2025-01-07T00:16:41.418Z"
   },
   {
    "duration": 13,
    "start_time": "2025-01-07T00:16:41.438Z"
   },
   {
    "duration": 14,
    "start_time": "2025-01-07T00:16:41.470Z"
   },
   {
    "duration": 59,
    "start_time": "2025-01-07T00:16:41.486Z"
   },
   {
    "duration": 0,
    "start_time": "2025-01-07T00:16:41.546Z"
   },
   {
    "duration": 0,
    "start_time": "2025-01-07T00:16:41.547Z"
   },
   {
    "duration": 0,
    "start_time": "2025-01-07T00:16:41.548Z"
   },
   {
    "duration": 0,
    "start_time": "2025-01-07T00:16:41.551Z"
   },
   {
    "duration": 6,
    "start_time": "2025-01-07T00:17:10.119Z"
   },
   {
    "duration": 5,
    "start_time": "2025-01-07T00:28:28.763Z"
   },
   {
    "duration": 25,
    "start_time": "2025-01-07T00:28:43.876Z"
   },
   {
    "duration": 47,
    "start_time": "2025-01-07T00:28:59.746Z"
   },
   {
    "duration": 7,
    "start_time": "2025-01-07T00:30:14.962Z"
   },
   {
    "duration": 32,
    "start_time": "2025-01-07T00:35:31.383Z"
   },
   {
    "duration": 31,
    "start_time": "2025-01-07T00:37:26.997Z"
   },
   {
    "duration": 41,
    "start_time": "2025-01-07T00:39:47.822Z"
   },
   {
    "duration": 33,
    "start_time": "2025-01-07T00:41:24.167Z"
   },
   {
    "duration": 5,
    "start_time": "2025-01-07T00:43:56.244Z"
   },
   {
    "duration": 26,
    "start_time": "2025-01-07T00:44:03.235Z"
   },
   {
    "duration": 30,
    "start_time": "2025-01-07T00:45:41.026Z"
   },
   {
    "duration": 3,
    "start_time": "2025-01-07T00:48:09.752Z"
   },
   {
    "duration": 25,
    "start_time": "2025-01-07T00:48:42.432Z"
   },
   {
    "duration": 25,
    "start_time": "2025-01-07T00:52:38.117Z"
   },
   {
    "duration": 4,
    "start_time": "2025-01-07T00:55:25.987Z"
   },
   {
    "duration": 4,
    "start_time": "2025-01-07T00:55:34.656Z"
   },
   {
    "duration": 8,
    "start_time": "2025-01-07T00:55:45.391Z"
   },
   {
    "duration": 11,
    "start_time": "2025-01-07T00:56:20.985Z"
   },
   {
    "duration": 9,
    "start_time": "2025-01-07T00:57:15.896Z"
   },
   {
    "duration": 4,
    "start_time": "2025-01-07T00:57:18.913Z"
   },
   {
    "duration": 4,
    "start_time": "2025-01-07T00:57:57.866Z"
   },
   {
    "duration": 3,
    "start_time": "2025-01-07T00:58:02.090Z"
   },
   {
    "duration": 499,
    "start_time": "2025-01-07T00:58:02.101Z"
   },
   {
    "duration": 170,
    "start_time": "2025-01-07T00:58:02.602Z"
   },
   {
    "duration": 17,
    "start_time": "2025-01-07T00:58:02.774Z"
   },
   {
    "duration": 7,
    "start_time": "2025-01-07T00:58:02.792Z"
   },
   {
    "duration": 69,
    "start_time": "2025-01-07T00:58:02.802Z"
   },
   {
    "duration": 107,
    "start_time": "2025-01-07T00:58:02.873Z"
   },
   {
    "duration": 17,
    "start_time": "2025-01-07T00:58:02.982Z"
   },
   {
    "duration": 5,
    "start_time": "2025-01-07T00:58:03.001Z"
   },
   {
    "duration": 17,
    "start_time": "2025-01-07T00:58:03.008Z"
   },
   {
    "duration": 197,
    "start_time": "2025-01-07T00:58:03.027Z"
   },
   {
    "duration": 18,
    "start_time": "2025-01-07T00:58:03.226Z"
   },
   {
    "duration": 25,
    "start_time": "2025-01-07T00:58:03.246Z"
   },
   {
    "duration": 78,
    "start_time": "2025-01-07T00:58:03.272Z"
   },
   {
    "duration": 21,
    "start_time": "2025-01-07T00:58:03.354Z"
   },
   {
    "duration": 220,
    "start_time": "2025-01-07T00:58:03.376Z"
   },
   {
    "duration": 12,
    "start_time": "2025-01-07T00:58:03.598Z"
   },
   {
    "duration": 4,
    "start_time": "2025-01-07T00:58:03.612Z"
   },
   {
    "duration": 6,
    "start_time": "2025-01-07T00:58:03.617Z"
   },
   {
    "duration": 5,
    "start_time": "2025-01-07T00:58:03.625Z"
   },
   {
    "duration": 51,
    "start_time": "2025-01-07T00:58:03.632Z"
   },
   {
    "duration": 70,
    "start_time": "2025-01-07T00:58:03.684Z"
   },
   {
    "duration": 19,
    "start_time": "2025-01-07T00:58:03.755Z"
   },
   {
    "duration": 5,
    "start_time": "2025-01-07T00:58:03.776Z"
   },
   {
    "duration": 5,
    "start_time": "2025-01-07T00:58:03.783Z"
   },
   {
    "duration": 19,
    "start_time": "2025-01-07T00:58:03.790Z"
   },
   {
    "duration": 4,
    "start_time": "2025-01-07T00:58:03.811Z"
   },
   {
    "duration": 5,
    "start_time": "2025-01-07T00:58:03.817Z"
   },
   {
    "duration": 5,
    "start_time": "2025-01-07T00:58:03.823Z"
   },
   {
    "duration": 41,
    "start_time": "2025-01-07T00:58:03.830Z"
   },
   {
    "duration": 199,
    "start_time": "2025-01-07T00:58:03.873Z"
   },
   {
    "duration": 199,
    "start_time": "2025-01-07T00:58:04.073Z"
   },
   {
    "duration": 207,
    "start_time": "2025-01-07T00:58:04.274Z"
   },
   {
    "duration": 246,
    "start_time": "2025-01-07T00:58:04.482Z"
   },
   {
    "duration": 271,
    "start_time": "2025-01-07T00:58:04.730Z"
   },
   {
    "duration": 5,
    "start_time": "2025-01-07T00:58:05.003Z"
   },
   {
    "duration": 1726,
    "start_time": "2025-01-07T00:58:05.010Z"
   },
   {
    "duration": 10,
    "start_time": "2025-01-07T00:58:06.738Z"
   },
   {
    "duration": 5,
    "start_time": "2025-01-07T00:58:06.749Z"
   },
   {
    "duration": 5,
    "start_time": "2025-01-07T00:58:06.770Z"
   },
   {
    "duration": 31,
    "start_time": "2025-01-07T00:58:06.777Z"
   },
   {
    "duration": 9,
    "start_time": "2025-01-07T00:58:06.812Z"
   },
   {
    "duration": 6,
    "start_time": "2025-01-07T00:58:06.822Z"
   },
   {
    "duration": 70,
    "start_time": "2025-01-07T00:58:06.830Z"
   },
   {
    "duration": 0,
    "start_time": "2025-01-07T00:58:06.902Z"
   },
   {
    "duration": 0,
    "start_time": "2025-01-07T00:58:06.904Z"
   },
   {
    "duration": 0,
    "start_time": "2025-01-07T00:58:06.905Z"
   },
   {
    "duration": 0,
    "start_time": "2025-01-07T00:58:06.906Z"
   },
   {
    "duration": 0,
    "start_time": "2025-01-07T00:58:06.908Z"
   },
   {
    "duration": 0,
    "start_time": "2025-01-07T00:58:06.910Z"
   },
   {
    "duration": 0,
    "start_time": "2025-01-07T00:58:06.911Z"
   },
   {
    "duration": 0,
    "start_time": "2025-01-07T00:58:06.912Z"
   },
   {
    "duration": 93,
    "start_time": "2025-01-07T01:00:09.369Z"
   },
   {
    "duration": 140,
    "start_time": "2025-01-07T01:00:22.846Z"
   },
   {
    "duration": 55,
    "start_time": "2025-01-07T01:00:51.436Z"
   },
   {
    "duration": 2846,
    "start_time": "2025-01-07T04:11:50.805Z"
   },
   {
    "duration": 622,
    "start_time": "2025-01-07T04:11:53.653Z"
   },
   {
    "duration": 231,
    "start_time": "2025-01-07T04:11:54.279Z"
   },
   {
    "duration": 18,
    "start_time": "2025-01-07T04:11:54.513Z"
   },
   {
    "duration": 7,
    "start_time": "2025-01-07T04:11:54.533Z"
   },
   {
    "duration": 80,
    "start_time": "2025-01-07T04:11:54.541Z"
   },
   {
    "duration": 101,
    "start_time": "2025-01-07T04:11:54.623Z"
   },
   {
    "duration": 18,
    "start_time": "2025-01-07T04:11:54.726Z"
   },
   {
    "duration": 7,
    "start_time": "2025-01-07T04:11:54.746Z"
   },
   {
    "duration": 19,
    "start_time": "2025-01-07T04:11:54.756Z"
   },
   {
    "duration": 199,
    "start_time": "2025-01-07T04:11:54.777Z"
   },
   {
    "duration": 16,
    "start_time": "2025-01-07T04:11:54.978Z"
   },
   {
    "duration": 7,
    "start_time": "2025-01-07T04:11:55.006Z"
   },
   {
    "duration": 94,
    "start_time": "2025-01-07T04:11:55.015Z"
   },
   {
    "duration": 10,
    "start_time": "2025-01-07T04:11:55.112Z"
   },
   {
    "duration": 57,
    "start_time": "2025-01-07T04:11:55.124Z"
   },
   {
    "duration": 29,
    "start_time": "2025-01-07T04:11:55.183Z"
   },
   {
    "duration": 4,
    "start_time": "2025-01-07T04:11:55.214Z"
   },
   {
    "duration": 7,
    "start_time": "2025-01-07T04:11:55.220Z"
   },
   {
    "duration": 5,
    "start_time": "2025-01-07T04:11:55.229Z"
   },
   {
    "duration": 20,
    "start_time": "2025-01-07T04:11:55.236Z"
   },
   {
    "duration": 99,
    "start_time": "2025-01-07T04:11:55.257Z"
   },
   {
    "duration": 7,
    "start_time": "2025-01-07T04:11:55.358Z"
   },
   {
    "duration": 4,
    "start_time": "2025-01-07T04:11:55.367Z"
   },
   {
    "duration": 5,
    "start_time": "2025-01-07T04:11:55.373Z"
   },
   {
    "duration": 40,
    "start_time": "2025-01-07T04:11:55.380Z"
   },
   {
    "duration": 6,
    "start_time": "2025-01-07T04:11:55.422Z"
   },
   {
    "duration": 4,
    "start_time": "2025-01-07T04:11:55.433Z"
   },
   {
    "duration": 5,
    "start_time": "2025-01-07T04:11:55.438Z"
   },
   {
    "duration": 4,
    "start_time": "2025-01-07T04:11:55.445Z"
   },
   {
    "duration": 228,
    "start_time": "2025-01-07T04:11:55.450Z"
   },
   {
    "duration": 201,
    "start_time": "2025-01-07T04:11:55.680Z"
   },
   {
    "duration": 201,
    "start_time": "2025-01-07T04:11:55.883Z"
   },
   {
    "duration": 301,
    "start_time": "2025-01-07T04:11:56.086Z"
   },
   {
    "duration": 263,
    "start_time": "2025-01-07T04:11:56.389Z"
   },
   {
    "duration": 4,
    "start_time": "2025-01-07T04:11:56.654Z"
   },
   {
    "duration": 1642,
    "start_time": "2025-01-07T04:11:56.660Z"
   },
   {
    "duration": 237,
    "start_time": "2025-01-07T04:11:58.305Z"
   },
   {
    "duration": 0,
    "start_time": "2025-01-07T04:11:58.544Z"
   },
   {
    "duration": 0,
    "start_time": "2025-01-07T04:11:58.546Z"
   },
   {
    "duration": 0,
    "start_time": "2025-01-07T04:11:58.547Z"
   },
   {
    "duration": 0,
    "start_time": "2025-01-07T04:11:58.548Z"
   },
   {
    "duration": 0,
    "start_time": "2025-01-07T04:11:58.549Z"
   },
   {
    "duration": 0,
    "start_time": "2025-01-07T04:11:58.551Z"
   },
   {
    "duration": 0,
    "start_time": "2025-01-07T04:11:58.552Z"
   },
   {
    "duration": 0,
    "start_time": "2025-01-07T04:11:58.553Z"
   },
   {
    "duration": 0,
    "start_time": "2025-01-07T04:11:58.554Z"
   },
   {
    "duration": 0,
    "start_time": "2025-01-07T04:11:58.555Z"
   },
   {
    "duration": 17,
    "start_time": "2025-01-07T04:18:33.875Z"
   },
   {
    "duration": 18,
    "start_time": "2025-01-07T04:19:00.350Z"
   },
   {
    "duration": 9,
    "start_time": "2025-01-07T04:19:29.455Z"
   },
   {
    "duration": 5,
    "start_time": "2025-01-07T04:19:35.835Z"
   },
   {
    "duration": 5,
    "start_time": "2025-01-07T04:19:39.005Z"
   },
   {
    "duration": 26,
    "start_time": "2025-01-07T04:19:43.286Z"
   },
   {
    "duration": 107,
    "start_time": "2025-01-07T04:22:15.478Z"
   },
   {
    "duration": 297,
    "start_time": "2025-01-07T04:22:48.295Z"
   },
   {
    "duration": 112,
    "start_time": "2025-01-07T04:23:52.381Z"
   },
   {
    "duration": 6,
    "start_time": "2025-01-07T04:25:47.098Z"
   },
   {
    "duration": 87,
    "start_time": "2025-01-07T04:26:34.333Z"
   },
   {
    "duration": 3,
    "start_time": "2025-01-07T04:26:40.309Z"
   },
   {
    "duration": 525,
    "start_time": "2025-01-07T04:26:40.316Z"
   },
   {
    "duration": 169,
    "start_time": "2025-01-07T04:26:40.843Z"
   },
   {
    "duration": 17,
    "start_time": "2025-01-07T04:26:41.014Z"
   },
   {
    "duration": 7,
    "start_time": "2025-01-07T04:26:41.034Z"
   },
   {
    "duration": 73,
    "start_time": "2025-01-07T04:26:41.043Z"
   },
   {
    "duration": 97,
    "start_time": "2025-01-07T04:26:41.118Z"
   },
   {
    "duration": 23,
    "start_time": "2025-01-07T04:26:41.217Z"
   },
   {
    "duration": 5,
    "start_time": "2025-01-07T04:26:41.245Z"
   },
   {
    "duration": 17,
    "start_time": "2025-01-07T04:26:41.252Z"
   },
   {
    "duration": 198,
    "start_time": "2025-01-07T04:26:41.271Z"
   },
   {
    "duration": 17,
    "start_time": "2025-01-07T04:26:41.471Z"
   },
   {
    "duration": 21,
    "start_time": "2025-01-07T04:26:41.489Z"
   },
   {
    "duration": 77,
    "start_time": "2025-01-07T04:26:41.512Z"
   },
   {
    "duration": 10,
    "start_time": "2025-01-07T04:26:41.604Z"
   },
   {
    "duration": 57,
    "start_time": "2025-01-07T04:26:41.616Z"
   },
   {
    "duration": 12,
    "start_time": "2025-01-07T04:26:41.674Z"
   },
   {
    "duration": 4,
    "start_time": "2025-01-07T04:26:41.704Z"
   },
   {
    "duration": 7,
    "start_time": "2025-01-07T04:26:41.710Z"
   },
   {
    "duration": 6,
    "start_time": "2025-01-07T04:26:41.719Z"
   },
   {
    "duration": 14,
    "start_time": "2025-01-07T04:26:41.726Z"
   },
   {
    "duration": 92,
    "start_time": "2025-01-07T04:26:41.741Z"
   },
   {
    "duration": 6,
    "start_time": "2025-01-07T04:26:41.835Z"
   },
   {
    "duration": 4,
    "start_time": "2025-01-07T04:26:41.843Z"
   },
   {
    "duration": 6,
    "start_time": "2025-01-07T04:26:41.849Z"
   },
   {
    "duration": 49,
    "start_time": "2025-01-07T04:26:41.857Z"
   },
   {
    "duration": 5,
    "start_time": "2025-01-07T04:26:41.907Z"
   },
   {
    "duration": 4,
    "start_time": "2025-01-07T04:26:41.914Z"
   },
   {
    "duration": 4,
    "start_time": "2025-01-07T04:26:41.920Z"
   },
   {
    "duration": 4,
    "start_time": "2025-01-07T04:26:41.925Z"
   },
   {
    "duration": 208,
    "start_time": "2025-01-07T04:26:41.931Z"
   },
   {
    "duration": 212,
    "start_time": "2025-01-07T04:26:42.141Z"
   },
   {
    "duration": 225,
    "start_time": "2025-01-07T04:26:42.355Z"
   },
   {
    "duration": 329,
    "start_time": "2025-01-07T04:26:42.582Z"
   },
   {
    "duration": 252,
    "start_time": "2025-01-07T04:26:42.915Z"
   },
   {
    "duration": 5,
    "start_time": "2025-01-07T04:26:43.169Z"
   },
   {
    "duration": 1676,
    "start_time": "2025-01-07T04:26:43.175Z"
   },
   {
    "duration": 10,
    "start_time": "2025-01-07T04:26:44.853Z"
   },
   {
    "duration": 4,
    "start_time": "2025-01-07T04:26:44.865Z"
   },
   {
    "duration": 6,
    "start_time": "2025-01-07T04:26:44.871Z"
   },
   {
    "duration": 500,
    "start_time": "2025-01-07T04:26:44.878Z"
   },
   {
    "duration": 0,
    "start_time": "2025-01-07T04:26:45.380Z"
   },
   {
    "duration": 0,
    "start_time": "2025-01-07T04:26:45.381Z"
   },
   {
    "duration": 0,
    "start_time": "2025-01-07T04:26:45.382Z"
   },
   {
    "duration": 0,
    "start_time": "2025-01-07T04:26:45.384Z"
   },
   {
    "duration": 0,
    "start_time": "2025-01-07T04:26:45.384Z"
   },
   {
    "duration": 75,
    "start_time": "2025-01-07T04:28:09.367Z"
   },
   {
    "duration": 3,
    "start_time": "2025-01-07T04:33:15.373Z"
   },
   {
    "duration": 156,
    "start_time": "2025-01-07T23:08:53.779Z"
   },
   {
    "duration": 12,
    "start_time": "2025-01-07T23:16:25.366Z"
   },
   {
    "duration": 2788,
    "start_time": "2025-01-07T23:16:32.623Z"
   },
   {
    "duration": 639,
    "start_time": "2025-01-07T23:16:35.414Z"
   },
   {
    "duration": 171,
    "start_time": "2025-01-07T23:16:36.055Z"
   },
   {
    "duration": 16,
    "start_time": "2025-01-07T23:16:36.229Z"
   },
   {
    "duration": 5,
    "start_time": "2025-01-07T23:16:36.248Z"
   },
   {
    "duration": 56,
    "start_time": "2025-01-07T23:16:36.270Z"
   },
   {
    "duration": 109,
    "start_time": "2025-01-07T23:16:36.328Z"
   },
   {
    "duration": 16,
    "start_time": "2025-01-07T23:16:36.439Z"
   },
   {
    "duration": 16,
    "start_time": "2025-01-07T23:16:36.457Z"
   },
   {
    "duration": 19,
    "start_time": "2025-01-07T23:16:36.477Z"
   },
   {
    "duration": 203,
    "start_time": "2025-01-07T23:16:36.498Z"
   },
   {
    "duration": 16,
    "start_time": "2025-01-07T23:16:36.703Z"
   },
   {
    "duration": 6,
    "start_time": "2025-01-07T23:16:36.721Z"
   },
   {
    "duration": 100,
    "start_time": "2025-01-07T23:16:36.729Z"
   },
   {
    "duration": 10,
    "start_time": "2025-01-07T23:16:36.831Z"
   },
   {
    "duration": 71,
    "start_time": "2025-01-07T23:16:36.843Z"
   },
   {
    "duration": 13,
    "start_time": "2025-01-07T23:16:36.916Z"
   },
   {
    "duration": 4,
    "start_time": "2025-01-07T23:16:36.930Z"
   },
   {
    "duration": 6,
    "start_time": "2025-01-07T23:16:36.936Z"
   },
   {
    "duration": 28,
    "start_time": "2025-01-07T23:16:36.944Z"
   },
   {
    "duration": 22,
    "start_time": "2025-01-07T23:16:36.974Z"
   },
   {
    "duration": 96,
    "start_time": "2025-01-07T23:16:36.999Z"
   },
   {
    "duration": 7,
    "start_time": "2025-01-07T23:16:37.097Z"
   },
   {
    "duration": 5,
    "start_time": "2025-01-07T23:16:37.106Z"
   },
   {
    "duration": 6,
    "start_time": "2025-01-07T23:16:37.113Z"
   },
   {
    "duration": 106,
    "start_time": "2025-01-07T23:16:37.120Z"
   },
   {
    "duration": 5,
    "start_time": "2025-01-07T23:16:37.228Z"
   },
   {
    "duration": 4,
    "start_time": "2025-01-07T23:16:37.238Z"
   },
   {
    "duration": 5,
    "start_time": "2025-01-07T23:16:37.243Z"
   },
   {
    "duration": 23,
    "start_time": "2025-01-07T23:16:37.249Z"
   },
   {
    "duration": 210,
    "start_time": "2025-01-07T23:16:37.273Z"
   },
   {
    "duration": 206,
    "start_time": "2025-01-07T23:16:37.484Z"
   },
   {
    "duration": 216,
    "start_time": "2025-01-07T23:16:37.691Z"
   },
   {
    "duration": 279,
    "start_time": "2025-01-07T23:16:37.909Z"
   },
   {
    "duration": 266,
    "start_time": "2025-01-07T23:16:38.192Z"
   },
   {
    "duration": 13,
    "start_time": "2025-01-07T23:16:38.460Z"
   },
   {
    "duration": 1615,
    "start_time": "2025-01-07T23:16:38.475Z"
   },
   {
    "duration": 9,
    "start_time": "2025-01-07T23:16:40.092Z"
   },
   {
    "duration": 4,
    "start_time": "2025-01-07T23:16:40.103Z"
   },
   {
    "duration": 4,
    "start_time": "2025-01-07T23:16:40.109Z"
   },
   {
    "duration": 5,
    "start_time": "2025-01-07T23:16:40.115Z"
   },
   {
    "duration": 6,
    "start_time": "2025-01-07T23:16:40.121Z"
   },
   {
    "duration": 6,
    "start_time": "2025-01-07T23:16:40.129Z"
   },
   {
    "duration": 62976,
    "start_time": "2025-01-07T23:16:40.137Z"
   },
   {
    "duration": 15,
    "start_time": "2025-01-07T23:17:43.115Z"
   },
   {
    "duration": 11,
    "start_time": "2025-01-07T23:17:43.132Z"
   },
   {
    "duration": 33,
    "start_time": "2025-01-07T23:17:43.144Z"
   },
   {
    "duration": 69639,
    "start_time": "2025-01-07T23:17:43.179Z"
   },
   {
    "duration": 47177,
    "start_time": "2025-01-07T23:24:10.353Z"
   },
   {
    "duration": 69274,
    "start_time": "2025-01-07T23:25:03.639Z"
   },
   {
    "duration": 17093,
    "start_time": "2025-01-07T23:31:19.127Z"
   },
   {
    "duration": 17197,
    "start_time": "2025-01-07T23:34:01.151Z"
   },
   {
    "duration": 3,
    "start_time": "2025-01-07T23:35:34.351Z"
   },
   {
    "duration": 486,
    "start_time": "2025-01-07T23:35:34.359Z"
   },
   {
    "duration": 168,
    "start_time": "2025-01-07T23:35:34.847Z"
   },
   {
    "duration": 16,
    "start_time": "2025-01-07T23:35:35.017Z"
   },
   {
    "duration": 7,
    "start_time": "2025-01-07T23:35:35.035Z"
   },
   {
    "duration": 71,
    "start_time": "2025-01-07T23:35:35.044Z"
   },
   {
    "duration": 103,
    "start_time": "2025-01-07T23:35:35.117Z"
   },
   {
    "duration": 18,
    "start_time": "2025-01-07T23:35:35.221Z"
   },
   {
    "duration": 6,
    "start_time": "2025-01-07T23:35:35.240Z"
   },
   {
    "duration": 35,
    "start_time": "2025-01-07T23:35:35.247Z"
   },
   {
    "duration": 207,
    "start_time": "2025-01-07T23:35:35.284Z"
   },
   {
    "duration": 16,
    "start_time": "2025-01-07T23:35:35.493Z"
   },
   {
    "duration": 7,
    "start_time": "2025-01-07T23:35:35.511Z"
   },
   {
    "duration": 93,
    "start_time": "2025-01-07T23:35:35.519Z"
   },
   {
    "duration": 10,
    "start_time": "2025-01-07T23:35:35.617Z"
   },
   {
    "duration": 71,
    "start_time": "2025-01-07T23:35:35.628Z"
   },
   {
    "duration": 12,
    "start_time": "2025-01-07T23:35:35.701Z"
   },
   {
    "duration": 4,
    "start_time": "2025-01-07T23:35:35.715Z"
   },
   {
    "duration": 7,
    "start_time": "2025-01-07T23:35:35.721Z"
   },
   {
    "duration": 6,
    "start_time": "2025-01-07T23:35:35.729Z"
   },
   {
    "duration": 36,
    "start_time": "2025-01-07T23:35:35.737Z"
   },
   {
    "duration": 70,
    "start_time": "2025-01-07T23:35:35.775Z"
   },
   {
    "duration": 7,
    "start_time": "2025-01-07T23:35:35.847Z"
   },
   {
    "duration": 5,
    "start_time": "2025-01-07T23:35:35.871Z"
   },
   {
    "duration": 6,
    "start_time": "2025-01-07T23:35:35.877Z"
   },
   {
    "duration": 18,
    "start_time": "2025-01-07T23:35:35.885Z"
   },
   {
    "duration": 6,
    "start_time": "2025-01-07T23:35:35.904Z"
   },
   {
    "duration": 5,
    "start_time": "2025-01-07T23:35:35.912Z"
   },
   {
    "duration": 5,
    "start_time": "2025-01-07T23:35:35.919Z"
   },
   {
    "duration": 4,
    "start_time": "2025-01-07T23:35:35.925Z"
   },
   {
    "duration": 230,
    "start_time": "2025-01-07T23:35:35.931Z"
   },
   {
    "duration": 211,
    "start_time": "2025-01-07T23:35:36.163Z"
   },
   {
    "duration": 231,
    "start_time": "2025-01-07T23:35:36.375Z"
   },
   {
    "duration": 356,
    "start_time": "2025-01-07T23:35:36.609Z"
   },
   {
    "duration": 275,
    "start_time": "2025-01-07T23:35:36.970Z"
   },
   {
    "duration": 4,
    "start_time": "2025-01-07T23:35:37.247Z"
   },
   {
    "duration": 1688,
    "start_time": "2025-01-07T23:35:37.253Z"
   },
   {
    "duration": 10,
    "start_time": "2025-01-07T23:35:38.943Z"
   },
   {
    "duration": 4,
    "start_time": "2025-01-07T23:35:38.954Z"
   },
   {
    "duration": 3,
    "start_time": "2025-01-07T23:35:38.970Z"
   },
   {
    "duration": 6,
    "start_time": "2025-01-07T23:35:38.975Z"
   },
   {
    "duration": 6,
    "start_time": "2025-01-07T23:35:38.985Z"
   },
   {
    "duration": 62674,
    "start_time": "2025-01-07T23:35:38.992Z"
   },
   {
    "duration": 17,
    "start_time": "2025-01-07T23:36:41.667Z"
   },
   {
    "duration": 12,
    "start_time": "2025-01-07T23:36:41.685Z"
   },
   {
    "duration": 12,
    "start_time": "2025-01-07T23:36:41.698Z"
   },
   {
    "duration": 17129,
    "start_time": "2025-01-07T23:36:41.712Z"
   },
   {
    "duration": 475,
    "start_time": "2025-01-07T23:37:30.477Z"
   },
   {
    "duration": 69057,
    "start_time": "2025-01-07T23:40:28.996Z"
   },
   {
    "duration": 5,
    "start_time": "2025-01-07T23:44:44.585Z"
   },
   {
    "duration": 44,
    "start_time": "2025-01-07T23:45:25.107Z"
   },
   {
    "duration": 43,
    "start_time": "2025-01-07T23:45:44.997Z"
   },
   {
    "duration": 4,
    "start_time": "2025-01-07T23:46:40.391Z"
   },
   {
    "duration": 278,
    "start_time": "2025-01-07T23:48:50.296Z"
   },
   {
    "duration": 42,
    "start_time": "2025-01-07T23:49:41.446Z"
   },
   {
    "duration": 3,
    "start_time": "2025-01-07T23:49:49.334Z"
   },
   {
    "duration": 530,
    "start_time": "2025-01-07T23:49:49.340Z"
   },
   {
    "duration": 172,
    "start_time": "2025-01-07T23:49:49.871Z"
   },
   {
    "duration": 25,
    "start_time": "2025-01-07T23:49:50.045Z"
   },
   {
    "duration": 6,
    "start_time": "2025-01-07T23:49:50.072Z"
   },
   {
    "duration": 53,
    "start_time": "2025-01-07T23:49:50.080Z"
   },
   {
    "duration": 123,
    "start_time": "2025-01-07T23:49:50.135Z"
   },
   {
    "duration": 25,
    "start_time": "2025-01-07T23:49:50.260Z"
   },
   {
    "duration": 5,
    "start_time": "2025-01-07T23:49:50.287Z"
   },
   {
    "duration": 18,
    "start_time": "2025-01-07T23:49:50.294Z"
   },
   {
    "duration": 309,
    "start_time": "2025-01-07T23:49:50.314Z"
   },
   {
    "duration": 16,
    "start_time": "2025-01-07T23:49:50.624Z"
   },
   {
    "duration": 7,
    "start_time": "2025-01-07T23:49:50.644Z"
   },
   {
    "duration": 78,
    "start_time": "2025-01-07T23:49:50.669Z"
   },
   {
    "duration": 21,
    "start_time": "2025-01-07T23:49:50.749Z"
   },
   {
    "duration": 57,
    "start_time": "2025-01-07T23:49:50.772Z"
   },
   {
    "duration": 13,
    "start_time": "2025-01-07T23:49:50.832Z"
   },
   {
    "duration": 4,
    "start_time": "2025-01-07T23:49:50.846Z"
   },
   {
    "duration": 22,
    "start_time": "2025-01-07T23:49:50.852Z"
   },
   {
    "duration": 6,
    "start_time": "2025-01-07T23:49:50.876Z"
   },
   {
    "duration": 14,
    "start_time": "2025-01-07T23:49:50.883Z"
   },
   {
    "duration": 93,
    "start_time": "2025-01-07T23:49:50.898Z"
   },
   {
    "duration": 7,
    "start_time": "2025-01-07T23:49:50.993Z"
   },
   {
    "duration": 5,
    "start_time": "2025-01-07T23:49:51.001Z"
   },
   {
    "duration": 8,
    "start_time": "2025-01-07T23:49:51.008Z"
   },
   {
    "duration": 20,
    "start_time": "2025-01-07T23:49:51.018Z"
   },
   {
    "duration": 4,
    "start_time": "2025-01-07T23:49:51.039Z"
   },
   {
    "duration": 5,
    "start_time": "2025-01-07T23:49:51.070Z"
   },
   {
    "duration": 5,
    "start_time": "2025-01-07T23:49:51.076Z"
   },
   {
    "duration": 5,
    "start_time": "2025-01-07T23:49:51.082Z"
   },
   {
    "duration": 230,
    "start_time": "2025-01-07T23:49:51.088Z"
   },
   {
    "duration": 206,
    "start_time": "2025-01-07T23:49:51.321Z"
   },
   {
    "duration": 233,
    "start_time": "2025-01-07T23:49:51.529Z"
   },
   {
    "duration": 259,
    "start_time": "2025-01-07T23:49:51.764Z"
   },
   {
    "duration": 268,
    "start_time": "2025-01-07T23:49:52.025Z"
   },
   {
    "duration": 5,
    "start_time": "2025-01-07T23:49:52.295Z"
   },
   {
    "duration": 1668,
    "start_time": "2025-01-07T23:49:52.306Z"
   },
   {
    "duration": 10,
    "start_time": "2025-01-07T23:49:53.975Z"
   },
   {
    "duration": 3,
    "start_time": "2025-01-07T23:49:53.988Z"
   },
   {
    "duration": 4,
    "start_time": "2025-01-07T23:49:53.993Z"
   },
   {
    "duration": 5,
    "start_time": "2025-01-07T23:49:53.998Z"
   },
   {
    "duration": 6,
    "start_time": "2025-01-07T23:49:54.005Z"
   },
   {
    "duration": 63122,
    "start_time": "2025-01-07T23:49:54.013Z"
   },
   {
    "duration": 15,
    "start_time": "2025-01-07T23:50:57.137Z"
   },
   {
    "duration": 27,
    "start_time": "2025-01-07T23:50:57.155Z"
   },
   {
    "duration": 14,
    "start_time": "2025-01-07T23:50:57.184Z"
   },
   {
    "duration": 4,
    "start_time": "2025-01-07T23:50:57.200Z"
   },
   {
    "duration": 37,
    "start_time": "2025-01-07T23:50:57.205Z"
   },
   {
    "duration": 0,
    "start_time": "2025-01-07T23:50:57.243Z"
   },
   {
    "duration": 45,
    "start_time": "2025-01-07T23:51:20.193Z"
   },
   {
    "duration": 3,
    "start_time": "2025-01-07T23:51:28.904Z"
   },
   {
    "duration": 491,
    "start_time": "2025-01-07T23:51:28.913Z"
   },
   {
    "duration": 172,
    "start_time": "2025-01-07T23:51:29.406Z"
   },
   {
    "duration": 17,
    "start_time": "2025-01-07T23:51:29.580Z"
   },
   {
    "duration": 7,
    "start_time": "2025-01-07T23:51:29.599Z"
   },
   {
    "duration": 74,
    "start_time": "2025-01-07T23:51:29.608Z"
   },
   {
    "duration": 107,
    "start_time": "2025-01-07T23:51:29.685Z"
   },
   {
    "duration": 20,
    "start_time": "2025-01-07T23:51:29.794Z"
   },
   {
    "duration": 9,
    "start_time": "2025-01-07T23:51:29.815Z"
   },
   {
    "duration": 19,
    "start_time": "2025-01-07T23:51:29.826Z"
   },
   {
    "duration": 207,
    "start_time": "2025-01-07T23:51:29.847Z"
   },
   {
    "duration": 23,
    "start_time": "2025-01-07T23:51:30.056Z"
   },
   {
    "duration": 8,
    "start_time": "2025-01-07T23:51:30.081Z"
   },
   {
    "duration": 93,
    "start_time": "2025-01-07T23:51:30.091Z"
   },
   {
    "duration": 11,
    "start_time": "2025-01-07T23:51:30.189Z"
   },
   {
    "duration": 72,
    "start_time": "2025-01-07T23:51:30.202Z"
   },
   {
    "duration": 14,
    "start_time": "2025-01-07T23:51:30.277Z"
   },
   {
    "duration": 5,
    "start_time": "2025-01-07T23:51:30.293Z"
   },
   {
    "duration": 7,
    "start_time": "2025-01-07T23:51:30.300Z"
   },
   {
    "duration": 6,
    "start_time": "2025-01-07T23:51:30.308Z"
   },
   {
    "duration": 18,
    "start_time": "2025-01-07T23:51:30.316Z"
   },
   {
    "duration": 106,
    "start_time": "2025-01-07T23:51:30.336Z"
   },
   {
    "duration": 7,
    "start_time": "2025-01-07T23:51:30.444Z"
   },
   {
    "duration": 19,
    "start_time": "2025-01-07T23:51:30.452Z"
   },
   {
    "duration": 8,
    "start_time": "2025-01-07T23:51:30.474Z"
   },
   {
    "duration": 25,
    "start_time": "2025-01-07T23:51:30.484Z"
   },
   {
    "duration": 4,
    "start_time": "2025-01-07T23:51:30.511Z"
   },
   {
    "duration": 5,
    "start_time": "2025-01-07T23:51:30.517Z"
   },
   {
    "duration": 6,
    "start_time": "2025-01-07T23:51:30.523Z"
   },
   {
    "duration": 40,
    "start_time": "2025-01-07T23:51:30.530Z"
   },
   {
    "duration": 233,
    "start_time": "2025-01-07T23:51:30.572Z"
   },
   {
    "duration": 384,
    "start_time": "2025-01-07T23:51:30.808Z"
   },
   {
    "duration": 214,
    "start_time": "2025-01-07T23:51:31.194Z"
   },
   {
    "duration": 284,
    "start_time": "2025-01-07T23:51:31.411Z"
   },
   {
    "duration": 286,
    "start_time": "2025-01-07T23:51:31.697Z"
   },
   {
    "duration": 5,
    "start_time": "2025-01-07T23:51:31.986Z"
   },
   {
    "duration": 1898,
    "start_time": "2025-01-07T23:51:31.992Z"
   },
   {
    "duration": 10,
    "start_time": "2025-01-07T23:51:33.891Z"
   },
   {
    "duration": 3,
    "start_time": "2025-01-07T23:51:33.903Z"
   },
   {
    "duration": 4,
    "start_time": "2025-01-07T23:51:33.908Z"
   },
   {
    "duration": 5,
    "start_time": "2025-01-07T23:51:33.913Z"
   },
   {
    "duration": 8,
    "start_time": "2025-01-07T23:51:33.922Z"
   },
   {
    "duration": 62938,
    "start_time": "2025-01-07T23:51:33.932Z"
   },
   {
    "duration": 17,
    "start_time": "2025-01-07T23:52:36.873Z"
   },
   {
    "duration": 11,
    "start_time": "2025-01-07T23:52:36.892Z"
   },
   {
    "duration": 12,
    "start_time": "2025-01-07T23:52:36.904Z"
   },
   {
    "duration": 4,
    "start_time": "2025-01-07T23:52:36.917Z"
   },
   {
    "duration": 68,
    "start_time": "2025-01-07T23:52:36.922Z"
   },
   {
    "duration": 0,
    "start_time": "2025-01-07T23:52:36.992Z"
   },
   {
    "duration": 69006,
    "start_time": "2025-01-07T23:52:59.434Z"
   },
   {
    "duration": 14,
    "start_time": "2025-01-07T23:56:07.145Z"
   },
   {
    "duration": 14,
    "start_time": "2025-01-07T23:56:25.838Z"
   },
   {
    "duration": 5663,
    "start_time": "2025-01-07T23:56:51.378Z"
   },
   {
    "duration": 41,
    "start_time": "2025-01-08T00:02:31.558Z"
   },
   {
    "duration": 16,
    "start_time": "2025-01-08T00:03:05.353Z"
   },
   {
    "duration": 8,
    "start_time": "2025-01-08T00:04:13.527Z"
   },
   {
    "duration": 4,
    "start_time": "2025-01-08T00:05:54.328Z"
   },
   {
    "duration": 523,
    "start_time": "2025-01-08T00:05:54.333Z"
   },
   {
    "duration": 165,
    "start_time": "2025-01-08T00:05:54.859Z"
   },
   {
    "duration": 18,
    "start_time": "2025-01-08T00:05:55.026Z"
   },
   {
    "duration": 7,
    "start_time": "2025-01-08T00:05:55.045Z"
   },
   {
    "duration": 65,
    "start_time": "2025-01-08T00:05:55.053Z"
   },
   {
    "duration": 109,
    "start_time": "2025-01-08T00:05:55.119Z"
   },
   {
    "duration": 16,
    "start_time": "2025-01-08T00:05:55.230Z"
   },
   {
    "duration": 21,
    "start_time": "2025-01-08T00:05:55.250Z"
   },
   {
    "duration": 18,
    "start_time": "2025-01-08T00:05:55.273Z"
   },
   {
    "duration": 203,
    "start_time": "2025-01-08T00:05:55.293Z"
   },
   {
    "duration": 25,
    "start_time": "2025-01-08T00:05:55.499Z"
   },
   {
    "duration": 7,
    "start_time": "2025-01-08T00:05:55.526Z"
   },
   {
    "duration": 90,
    "start_time": "2025-01-08T00:05:55.534Z"
   },
   {
    "duration": 10,
    "start_time": "2025-01-08T00:05:55.626Z"
   },
   {
    "duration": 69,
    "start_time": "2025-01-08T00:05:55.638Z"
   },
   {
    "duration": 13,
    "start_time": "2025-01-08T00:05:55.708Z"
   },
   {
    "duration": 4,
    "start_time": "2025-01-08T00:05:55.723Z"
   },
   {
    "duration": 5,
    "start_time": "2025-01-08T00:05:55.729Z"
   },
   {
    "duration": 5,
    "start_time": "2025-01-08T00:05:55.736Z"
   },
   {
    "duration": 16,
    "start_time": "2025-01-08T00:05:55.770Z"
   },
   {
    "duration": 82,
    "start_time": "2025-01-08T00:05:55.788Z"
   },
   {
    "duration": 8,
    "start_time": "2025-01-08T00:05:55.872Z"
   },
   {
    "duration": 5,
    "start_time": "2025-01-08T00:05:55.881Z"
   },
   {
    "duration": 6,
    "start_time": "2025-01-08T00:05:55.889Z"
   },
   {
    "duration": 19,
    "start_time": "2025-01-08T00:05:55.897Z"
   },
   {
    "duration": 4,
    "start_time": "2025-01-08T00:05:55.920Z"
   },
   {
    "duration": 5,
    "start_time": "2025-01-08T00:05:55.925Z"
   },
   {
    "duration": 42,
    "start_time": "2025-01-08T00:05:55.932Z"
   },
   {
    "duration": 4,
    "start_time": "2025-01-08T00:05:55.975Z"
   },
   {
    "duration": 205,
    "start_time": "2025-01-08T00:05:55.980Z"
   },
   {
    "duration": 214,
    "start_time": "2025-01-08T00:05:56.187Z"
   },
   {
    "duration": 237,
    "start_time": "2025-01-08T00:05:56.403Z"
   },
   {
    "duration": 252,
    "start_time": "2025-01-08T00:05:56.642Z"
   },
   {
    "duration": 454,
    "start_time": "2025-01-08T00:05:56.896Z"
   },
   {
    "duration": 5,
    "start_time": "2025-01-08T00:05:57.352Z"
   },
   {
    "duration": 1713,
    "start_time": "2025-01-08T00:05:57.370Z"
   },
   {
    "duration": 10,
    "start_time": "2025-01-08T00:05:59.085Z"
   },
   {
    "duration": 4,
    "start_time": "2025-01-08T00:05:59.097Z"
   },
   {
    "duration": 4,
    "start_time": "2025-01-08T00:05:59.102Z"
   },
   {
    "duration": 6,
    "start_time": "2025-01-08T00:05:59.107Z"
   },
   {
    "duration": 9,
    "start_time": "2025-01-08T00:05:59.114Z"
   },
   {
    "duration": 139,
    "start_time": "2025-01-08T00:05:59.125Z"
   },
   {
    "duration": 0,
    "start_time": "2025-01-08T00:05:59.270Z"
   },
   {
    "duration": 0,
    "start_time": "2025-01-08T00:05:59.271Z"
   },
   {
    "duration": 0,
    "start_time": "2025-01-08T00:05:59.271Z"
   },
   {
    "duration": 0,
    "start_time": "2025-01-08T00:05:59.273Z"
   },
   {
    "duration": 0,
    "start_time": "2025-01-08T00:05:59.274Z"
   },
   {
    "duration": 4,
    "start_time": "2025-01-08T00:08:07.705Z"
   },
   {
    "duration": 429,
    "start_time": "2025-01-08T00:08:07.711Z"
   },
   {
    "duration": 179,
    "start_time": "2025-01-08T00:08:08.143Z"
   },
   {
    "duration": 20,
    "start_time": "2025-01-08T00:08:08.325Z"
   },
   {
    "duration": 24,
    "start_time": "2025-01-08T00:08:08.348Z"
   },
   {
    "duration": 54,
    "start_time": "2025-01-08T00:08:08.374Z"
   },
   {
    "duration": 108,
    "start_time": "2025-01-08T00:08:08.429Z"
   },
   {
    "duration": 18,
    "start_time": "2025-01-08T00:08:08.539Z"
   },
   {
    "duration": 14,
    "start_time": "2025-01-08T00:08:08.559Z"
   },
   {
    "duration": 18,
    "start_time": "2025-01-08T00:08:08.574Z"
   },
   {
    "duration": 189,
    "start_time": "2025-01-08T00:08:08.594Z"
   },
   {
    "duration": 16,
    "start_time": "2025-01-08T00:08:08.785Z"
   },
   {
    "duration": 7,
    "start_time": "2025-01-08T00:08:08.803Z"
   },
   {
    "duration": 97,
    "start_time": "2025-01-08T00:08:08.811Z"
   },
   {
    "duration": 10,
    "start_time": "2025-01-08T00:08:08.910Z"
   },
   {
    "duration": 70,
    "start_time": "2025-01-08T00:08:08.923Z"
   },
   {
    "duration": 13,
    "start_time": "2025-01-08T00:08:08.994Z"
   },
   {
    "duration": 4,
    "start_time": "2025-01-08T00:08:09.008Z"
   },
   {
    "duration": 6,
    "start_time": "2025-01-08T00:08:09.014Z"
   },
   {
    "duration": 5,
    "start_time": "2025-01-08T00:08:09.022Z"
   },
   {
    "duration": 13,
    "start_time": "2025-01-08T00:08:09.029Z"
   },
   {
    "duration": 68,
    "start_time": "2025-01-08T00:08:09.070Z"
   },
   {
    "duration": 7,
    "start_time": "2025-01-08T00:08:09.140Z"
   },
   {
    "duration": 22,
    "start_time": "2025-01-08T00:08:09.149Z"
   },
   {
    "duration": 6,
    "start_time": "2025-01-08T00:08:09.172Z"
   },
   {
    "duration": 7,
    "start_time": "2025-01-08T00:08:09.180Z"
   },
   {
    "duration": 5,
    "start_time": "2025-01-08T00:08:09.189Z"
   },
   {
    "duration": 5,
    "start_time": "2025-01-08T00:08:09.195Z"
   },
   {
    "duration": 3,
    "start_time": "2025-01-08T00:08:09.204Z"
   },
   {
    "duration": 230,
    "start_time": "2025-01-08T00:08:09.209Z"
   },
   {
    "duration": 205,
    "start_time": "2025-01-08T00:08:09.441Z"
   },
   {
    "duration": 206,
    "start_time": "2025-01-08T00:08:09.647Z"
   },
   {
    "duration": 246,
    "start_time": "2025-01-08T00:08:09.855Z"
   },
   {
    "duration": 271,
    "start_time": "2025-01-08T00:08:10.103Z"
   },
   {
    "duration": 5,
    "start_time": "2025-01-08T00:08:10.375Z"
   },
   {
    "duration": 1753,
    "start_time": "2025-01-08T00:08:10.382Z"
   },
   {
    "duration": 10,
    "start_time": "2025-01-08T00:08:12.138Z"
   },
   {
    "duration": 4,
    "start_time": "2025-01-08T00:08:12.149Z"
   },
   {
    "duration": 3,
    "start_time": "2025-01-08T00:08:12.171Z"
   },
   {
    "duration": 5,
    "start_time": "2025-01-08T00:08:12.176Z"
   },
   {
    "duration": 9,
    "start_time": "2025-01-08T00:08:12.183Z"
   },
   {
    "duration": 97,
    "start_time": "2025-01-08T00:08:12.194Z"
   },
   {
    "duration": 0,
    "start_time": "2025-01-08T00:08:12.293Z"
   },
   {
    "duration": 0,
    "start_time": "2025-01-08T00:08:12.294Z"
   },
   {
    "duration": 0,
    "start_time": "2025-01-08T00:08:12.295Z"
   },
   {
    "duration": 0,
    "start_time": "2025-01-08T00:08:12.297Z"
   },
   {
    "duration": 0,
    "start_time": "2025-01-08T00:08:12.298Z"
   },
   {
    "duration": 8,
    "start_time": "2025-01-08T00:09:34.779Z"
   },
   {
    "duration": 16,
    "start_time": "2025-01-08T00:12:17.744Z"
   },
   {
    "duration": 3,
    "start_time": "2025-01-08T00:12:24.694Z"
   },
   {
    "duration": 43,
    "start_time": "2025-01-08T00:12:30.999Z"
   },
   {
    "duration": 5,
    "start_time": "2025-01-08T00:14:10.041Z"
   },
   {
    "duration": 3,
    "start_time": "2025-01-08T00:14:21.790Z"
   },
   {
    "duration": 9,
    "start_time": "2025-01-08T00:14:26.316Z"
   },
   {
    "duration": 62148,
    "start_time": "2025-01-08T00:14:32.395Z"
   },
   {
    "duration": 5792,
    "start_time": "2025-01-08T00:15:59.514Z"
   },
   {
    "duration": 5662,
    "start_time": "2025-01-08T00:18:58.294Z"
   },
   {
    "duration": 44,
    "start_time": "2025-01-08T00:29:03.760Z"
   },
   {
    "duration": 43,
    "start_time": "2025-01-08T00:29:43.082Z"
   },
   {
    "duration": 4,
    "start_time": "2025-01-08T00:30:36.251Z"
   },
   {
    "duration": 4,
    "start_time": "2025-01-08T00:30:43.003Z"
   },
   {
    "duration": 3,
    "start_time": "2025-01-08T00:31:04.007Z"
   },
   {
    "duration": 5672,
    "start_time": "2025-01-08T00:31:07.575Z"
   },
   {
    "duration": 4,
    "start_time": "2025-01-08T00:33:45.996Z"
   },
   {
    "duration": 5,
    "start_time": "2025-01-08T00:34:05.282Z"
   },
   {
    "duration": 6,
    "start_time": "2025-01-08T00:35:02.179Z"
   },
   {
    "duration": 5674,
    "start_time": "2025-01-08T00:35:17.382Z"
   },
   {
    "duration": 68879,
    "start_time": "2025-01-08T00:36:30.344Z"
   },
   {
    "duration": 69129,
    "start_time": "2025-01-08T00:39:47.318Z"
   },
   {
    "duration": 4,
    "start_time": "2025-01-08T00:42:33.474Z"
   },
   {
    "duration": 6,
    "start_time": "2025-01-08T00:43:19.472Z"
   },
   {
    "duration": 5,
    "start_time": "2025-01-08T00:43:22.774Z"
   },
   {
    "duration": 3,
    "start_time": "2025-01-08T00:43:24.477Z"
   },
   {
    "duration": 59042,
    "start_time": "2025-01-08T00:43:28.067Z"
   },
   {
    "duration": 1046,
    "start_time": "2025-01-08T00:49:11.654Z"
   },
   {
    "duration": 513,
    "start_time": "2025-01-08T00:49:12.702Z"
   },
   {
    "duration": 168,
    "start_time": "2025-01-08T00:49:13.217Z"
   },
   {
    "duration": 18,
    "start_time": "2025-01-08T00:49:13.388Z"
   },
   {
    "duration": 6,
    "start_time": "2025-01-08T00:49:13.408Z"
   },
   {
    "duration": 76,
    "start_time": "2025-01-08T00:49:13.416Z"
   },
   {
    "duration": 99,
    "start_time": "2025-01-08T00:49:13.494Z"
   },
   {
    "duration": 17,
    "start_time": "2025-01-08T00:49:13.595Z"
   },
   {
    "duration": 6,
    "start_time": "2025-01-08T00:49:13.614Z"
   },
   {
    "duration": 18,
    "start_time": "2025-01-08T00:49:13.623Z"
   },
   {
    "duration": 204,
    "start_time": "2025-01-08T00:49:13.643Z"
   },
   {
    "duration": 22,
    "start_time": "2025-01-08T00:49:13.849Z"
   },
   {
    "duration": 7,
    "start_time": "2025-01-08T00:49:13.872Z"
   },
   {
    "duration": 94,
    "start_time": "2025-01-08T00:49:13.880Z"
   },
   {
    "duration": 11,
    "start_time": "2025-01-08T00:49:13.975Z"
   },
   {
    "duration": 55,
    "start_time": "2025-01-08T00:49:13.987Z"
   },
   {
    "duration": 33,
    "start_time": "2025-01-08T00:49:14.044Z"
   },
   {
    "duration": 4,
    "start_time": "2025-01-08T00:49:14.079Z"
   },
   {
    "duration": 4,
    "start_time": "2025-01-08T00:49:14.085Z"
   },
   {
    "duration": 5,
    "start_time": "2025-01-08T00:49:14.091Z"
   },
   {
    "duration": 19,
    "start_time": "2025-01-08T00:49:14.098Z"
   },
   {
    "duration": 92,
    "start_time": "2025-01-08T00:49:14.119Z"
   },
   {
    "duration": 6,
    "start_time": "2025-01-08T00:49:14.213Z"
   },
   {
    "duration": 5,
    "start_time": "2025-01-08T00:49:14.221Z"
   },
   {
    "duration": 7,
    "start_time": "2025-01-08T00:49:14.227Z"
   },
   {
    "duration": 5,
    "start_time": "2025-01-08T00:49:14.236Z"
   },
   {
    "duration": 28,
    "start_time": "2025-01-08T00:49:14.243Z"
   },
   {
    "duration": 4,
    "start_time": "2025-01-08T00:49:14.276Z"
   },
   {
    "duration": 3,
    "start_time": "2025-01-08T00:49:14.282Z"
   },
   {
    "duration": 224,
    "start_time": "2025-01-08T00:49:14.287Z"
   },
   {
    "duration": 197,
    "start_time": "2025-01-08T00:49:14.512Z"
   },
   {
    "duration": 214,
    "start_time": "2025-01-08T00:49:14.711Z"
   },
   {
    "duration": 303,
    "start_time": "2025-01-08T00:49:14.927Z"
   },
   {
    "duration": 256,
    "start_time": "2025-01-08T00:49:15.232Z"
   },
   {
    "duration": 5,
    "start_time": "2025-01-08T00:49:15.490Z"
   },
   {
    "duration": 1657,
    "start_time": "2025-01-08T00:49:15.496Z"
   },
   {
    "duration": 20,
    "start_time": "2025-01-08T00:49:17.154Z"
   },
   {
    "duration": 10,
    "start_time": "2025-01-08T00:49:17.176Z"
   },
   {
    "duration": 4,
    "start_time": "2025-01-08T00:49:17.187Z"
   },
   {
    "duration": 6,
    "start_time": "2025-01-08T00:49:17.193Z"
   },
   {
    "duration": 5,
    "start_time": "2025-01-08T00:49:17.201Z"
   },
   {
    "duration": 9,
    "start_time": "2025-01-08T00:49:17.211Z"
   },
   {
    "duration": 62704,
    "start_time": "2025-01-08T00:49:17.222Z"
   },
   {
    "duration": 15,
    "start_time": "2025-01-08T00:50:19.928Z"
   },
   {
    "duration": 28,
    "start_time": "2025-01-08T00:50:19.945Z"
   },
   {
    "duration": 13,
    "start_time": "2025-01-08T00:50:19.975Z"
   },
   {
    "duration": 6,
    "start_time": "2025-01-08T00:50:19.990Z"
   },
   {
    "duration": 3,
    "start_time": "2025-01-08T00:50:19.998Z"
   },
   {
    "duration": 58852,
    "start_time": "2025-01-08T00:50:20.003Z"
   },
   {
    "duration": 3,
    "start_time": "2025-01-08T00:54:18.881Z"
   },
   {
    "duration": 5,
    "start_time": "2025-01-08T00:56:37.101Z"
   },
   {
    "duration": 4,
    "start_time": "2025-01-08T00:56:46.705Z"
   },
   {
    "duration": 5,
    "start_time": "2025-01-08T00:57:03.701Z"
   },
   {
    "duration": 3,
    "start_time": "2025-01-08T00:57:21.912Z"
   },
   {
    "duration": 7,
    "start_time": "2025-01-08T00:57:37.177Z"
   },
   {
    "duration": 5,
    "start_time": "2025-01-08T01:01:02.120Z"
   },
   {
    "duration": 6,
    "start_time": "2025-01-08T01:01:09.954Z"
   },
   {
    "duration": 4,
    "start_time": "2025-01-08T01:01:11.404Z"
   },
   {
    "duration": 4,
    "start_time": "2025-01-08T01:01:11.977Z"
   },
   {
    "duration": 58972,
    "start_time": "2025-01-08T01:01:13.300Z"
   },
   {
    "duration": 3,
    "start_time": "2025-01-08T01:03:21.518Z"
   },
   {
    "duration": 5,
    "start_time": "2025-01-08T01:03:22.578Z"
   },
   {
    "duration": 3,
    "start_time": "2025-01-08T01:03:23.091Z"
   },
   {
    "duration": 58247,
    "start_time": "2025-01-08T01:03:23.837Z"
   },
   {
    "duration": 3,
    "start_time": "2025-01-08T01:06:40.542Z"
   },
   {
    "duration": 3,
    "start_time": "2025-01-08T01:06:58.773Z"
   },
   {
    "duration": 3,
    "start_time": "2025-01-08T01:15:19.614Z"
   },
   {
    "duration": 3,
    "start_time": "2025-01-08T01:15:41.116Z"
   },
   {
    "duration": 3,
    "start_time": "2025-01-08T01:15:45.293Z"
   },
   {
    "duration": 3,
    "start_time": "2025-01-08T01:15:47.439Z"
   },
   {
    "duration": 3,
    "start_time": "2025-01-08T01:15:50.425Z"
   },
   {
    "duration": 3043,
    "start_time": "2025-01-21T22:21:28.799Z"
   },
   {
    "duration": 771,
    "start_time": "2025-01-21T22:21:31.844Z"
   },
   {
    "duration": 189,
    "start_time": "2025-01-21T22:21:32.617Z"
   },
   {
    "duration": 28,
    "start_time": "2025-01-21T22:21:32.809Z"
   },
   {
    "duration": 8,
    "start_time": "2025-01-21T22:21:32.841Z"
   },
   {
    "duration": 102,
    "start_time": "2025-01-21T22:21:32.851Z"
   },
   {
    "duration": 138,
    "start_time": "2025-01-21T22:21:32.956Z"
   },
   {
    "duration": 28,
    "start_time": "2025-01-21T22:21:33.096Z"
   },
   {
    "duration": 6,
    "start_time": "2025-01-21T22:21:33.126Z"
   },
   {
    "duration": 21,
    "start_time": "2025-01-21T22:21:33.134Z"
   },
   {
    "duration": 278,
    "start_time": "2025-01-21T22:21:33.157Z"
   },
   {
    "duration": 21,
    "start_time": "2025-01-21T22:21:33.437Z"
   },
   {
    "duration": 8,
    "start_time": "2025-01-21T22:21:33.460Z"
   },
   {
    "duration": 104,
    "start_time": "2025-01-21T22:21:33.472Z"
   },
   {
    "duration": 10,
    "start_time": "2025-01-21T22:21:33.579Z"
   },
   {
    "duration": 71,
    "start_time": "2025-01-21T22:21:33.591Z"
   },
   {
    "duration": 13,
    "start_time": "2025-01-21T22:21:33.664Z"
   },
   {
    "duration": 4,
    "start_time": "2025-01-21T22:21:33.679Z"
   },
   {
    "duration": 7,
    "start_time": "2025-01-21T22:21:33.706Z"
   },
   {
    "duration": 7,
    "start_time": "2025-01-21T22:21:33.715Z"
   },
   {
    "duration": 14,
    "start_time": "2025-01-21T22:21:33.724Z"
   },
   {
    "duration": 99,
    "start_time": "2025-01-21T22:21:33.740Z"
   },
   {
    "duration": 7,
    "start_time": "2025-01-21T22:21:33.841Z"
   },
   {
    "duration": 9,
    "start_time": "2025-01-21T22:21:33.850Z"
   },
   {
    "duration": 7,
    "start_time": "2025-01-21T22:21:33.860Z"
   },
   {
    "duration": 6,
    "start_time": "2025-01-21T22:21:33.868Z"
   },
   {
    "duration": 6,
    "start_time": "2025-01-21T22:21:33.907Z"
   },
   {
    "duration": 5,
    "start_time": "2025-01-21T22:21:33.915Z"
   },
   {
    "duration": 315,
    "start_time": "2025-01-21T22:21:33.922Z"
   },
   {
    "duration": 212,
    "start_time": "2025-01-21T22:21:34.239Z"
   },
   {
    "duration": 217,
    "start_time": "2025-01-21T22:21:34.453Z"
   },
   {
    "duration": 293,
    "start_time": "2025-01-21T22:21:34.673Z"
   },
   {
    "duration": 394,
    "start_time": "2025-01-21T22:21:34.968Z"
   },
   {
    "duration": 5,
    "start_time": "2025-01-21T22:21:35.364Z"
   },
   {
    "duration": 1844,
    "start_time": "2025-01-21T22:21:35.371Z"
   },
   {
    "duration": 10,
    "start_time": "2025-01-21T22:21:37.217Z"
   },
   {
    "duration": 4,
    "start_time": "2025-01-21T22:21:37.228Z"
   },
   {
    "duration": 4,
    "start_time": "2025-01-21T22:21:37.234Z"
   },
   {
    "duration": 0,
    "start_time": "2025-01-21T22:21:37.240Z"
   },
   {
    "duration": 0,
    "start_time": "2025-01-21T22:21:37.242Z"
   },
   {
    "duration": 0,
    "start_time": "2025-01-21T22:21:37.243Z"
   },
   {
    "duration": 0,
    "start_time": "2025-01-21T22:21:37.244Z"
   },
   {
    "duration": 0,
    "start_time": "2025-01-21T22:21:37.245Z"
   },
   {
    "duration": 0,
    "start_time": "2025-01-21T22:21:37.246Z"
   },
   {
    "duration": 0,
    "start_time": "2025-01-21T22:21:37.247Z"
   },
   {
    "duration": 0,
    "start_time": "2025-01-21T22:21:37.249Z"
   },
   {
    "duration": 0,
    "start_time": "2025-01-21T22:21:37.251Z"
   },
   {
    "duration": 0,
    "start_time": "2025-01-21T22:21:37.252Z"
   },
   {
    "duration": 0,
    "start_time": "2025-01-21T22:21:37.254Z"
   },
   {
    "duration": 0,
    "start_time": "2025-01-21T22:21:37.255Z"
   },
   {
    "duration": 0,
    "start_time": "2025-01-21T22:21:37.256Z"
   },
   {
    "duration": 5,
    "start_time": "2025-01-21T22:22:02.408Z"
   },
   {
    "duration": 357,
    "start_time": "2025-01-21T22:22:03.712Z"
   },
   {
    "duration": 3,
    "start_time": "2025-01-21T22:22:04.347Z"
   },
   {
    "duration": 9,
    "start_time": "2025-01-21T22:22:08.482Z"
   },
   {
    "duration": 61291,
    "start_time": "2025-01-21T22:22:16.442Z"
   },
   {
    "duration": 15,
    "start_time": "2025-01-21T22:35:41.100Z"
   },
   {
    "duration": 12,
    "start_time": "2025-01-21T22:35:47.664Z"
   },
   {
    "duration": 12,
    "start_time": "2025-01-21T22:35:48.756Z"
   },
   {
    "duration": 4,
    "start_time": "2025-01-21T22:35:53.457Z"
   },
   {
    "duration": 3,
    "start_time": "2025-01-21T22:35:54.688Z"
   },
   {
    "duration": 3,
    "start_time": "2025-01-21T22:35:57.003Z"
   },
   {
    "duration": 5,
    "start_time": "2025-01-21T22:36:02.464Z"
   },
   {
    "duration": 3,
    "start_time": "2025-01-21T22:38:32.398Z"
   },
   {
    "duration": 3,
    "start_time": "2025-01-21T22:38:36.158Z"
   },
   {
    "duration": 59397,
    "start_time": "2025-01-21T22:38:38.521Z"
   },
   {
    "duration": 40,
    "start_time": "2025-01-21T22:41:58.032Z"
   },
   {
    "duration": 3,
    "start_time": "2025-01-21T22:42:43.604Z"
   },
   {
    "duration": 511,
    "start_time": "2025-01-21T22:42:43.611Z"
   },
   {
    "duration": 172,
    "start_time": "2025-01-21T22:42:44.124Z"
   },
   {
    "duration": 16,
    "start_time": "2025-01-21T22:42:44.305Z"
   },
   {
    "duration": 6,
    "start_time": "2025-01-21T22:42:44.322Z"
   },
   {
    "duration": 53,
    "start_time": "2025-01-21T22:42:44.331Z"
   },
   {
    "duration": 100,
    "start_time": "2025-01-21T22:42:44.405Z"
   },
   {
    "duration": 20,
    "start_time": "2025-01-21T22:42:44.507Z"
   },
   {
    "duration": 5,
    "start_time": "2025-01-21T22:42:44.529Z"
   },
   {
    "duration": 20,
    "start_time": "2025-01-21T22:42:44.536Z"
   },
   {
    "duration": 201,
    "start_time": "2025-01-21T22:42:44.558Z"
   },
   {
    "duration": 16,
    "start_time": "2025-01-21T22:42:44.761Z"
   },
   {
    "duration": 7,
    "start_time": "2025-01-21T22:42:44.779Z"
   },
   {
    "duration": 95,
    "start_time": "2025-01-21T22:42:44.787Z"
   },
   {
    "duration": 22,
    "start_time": "2025-01-21T22:42:44.887Z"
   },
   {
    "duration": 58,
    "start_time": "2025-01-21T22:42:44.910Z"
   },
   {
    "duration": 13,
    "start_time": "2025-01-21T22:42:44.970Z"
   },
   {
    "duration": 4,
    "start_time": "2025-01-21T22:42:44.984Z"
   },
   {
    "duration": 5,
    "start_time": "2025-01-21T22:42:45.006Z"
   },
   {
    "duration": 6,
    "start_time": "2025-01-21T22:42:45.013Z"
   },
   {
    "duration": 11,
    "start_time": "2025-01-21T22:42:45.021Z"
   },
   {
    "duration": 93,
    "start_time": "2025-01-21T22:42:45.034Z"
   },
   {
    "duration": 8,
    "start_time": "2025-01-21T22:42:45.129Z"
   },
   {
    "duration": 5,
    "start_time": "2025-01-21T22:42:45.138Z"
   },
   {
    "duration": 7,
    "start_time": "2025-01-21T22:42:45.144Z"
   },
   {
    "duration": 4,
    "start_time": "2025-01-21T22:42:45.152Z"
   },
   {
    "duration": 4,
    "start_time": "2025-01-21T22:42:45.158Z"
   },
   {
    "duration": 3,
    "start_time": "2025-01-21T22:42:45.164Z"
   },
   {
    "duration": 322,
    "start_time": "2025-01-21T22:42:45.168Z"
   },
   {
    "duration": 206,
    "start_time": "2025-01-21T22:42:45.491Z"
   },
   {
    "duration": 207,
    "start_time": "2025-01-21T22:42:45.699Z"
   },
   {
    "duration": 238,
    "start_time": "2025-01-21T22:42:45.908Z"
   },
   {
    "duration": 258,
    "start_time": "2025-01-21T22:42:46.148Z"
   },
   {
    "duration": 5,
    "start_time": "2025-01-21T22:42:46.408Z"
   },
   {
    "duration": 1647,
    "start_time": "2025-01-21T22:42:46.414Z"
   },
   {
    "duration": 8,
    "start_time": "2025-01-21T22:42:48.063Z"
   },
   {
    "duration": 4,
    "start_time": "2025-01-21T22:42:48.073Z"
   },
   {
    "duration": 4,
    "start_time": "2025-01-21T22:42:48.079Z"
   },
   {
    "duration": 58,
    "start_time": "2025-01-21T22:42:48.084Z"
   },
   {
    "duration": 0,
    "start_time": "2025-01-21T22:42:48.144Z"
   },
   {
    "duration": 0,
    "start_time": "2025-01-21T22:42:48.145Z"
   },
   {
    "duration": 0,
    "start_time": "2025-01-21T22:42:48.146Z"
   },
   {
    "duration": 0,
    "start_time": "2025-01-21T22:42:48.147Z"
   },
   {
    "duration": 0,
    "start_time": "2025-01-21T22:42:48.148Z"
   },
   {
    "duration": 0,
    "start_time": "2025-01-21T22:42:48.149Z"
   },
   {
    "duration": 0,
    "start_time": "2025-01-21T22:42:48.151Z"
   },
   {
    "duration": 0,
    "start_time": "2025-01-21T22:42:48.152Z"
   },
   {
    "duration": 0,
    "start_time": "2025-01-21T22:42:48.153Z"
   },
   {
    "duration": 0,
    "start_time": "2025-01-21T22:42:48.154Z"
   },
   {
    "duration": 46,
    "start_time": "2025-01-21T22:43:14.359Z"
   },
   {
    "duration": 39,
    "start_time": "2025-01-21T22:43:57.564Z"
   },
   {
    "duration": 68,
    "start_time": "2025-01-21T22:44:27.382Z"
   },
   {
    "duration": 46,
    "start_time": "2025-01-21T22:45:11.670Z"
   },
   {
    "duration": 4,
    "start_time": "2025-01-21T22:45:14.269Z"
   },
   {
    "duration": 158,
    "start_time": "2025-01-21T22:45:17.550Z"
   },
   {
    "duration": 42,
    "start_time": "2025-01-21T22:45:24.041Z"
   },
   {
    "duration": 40,
    "start_time": "2025-01-21T22:48:01.703Z"
   },
   {
    "duration": 61584,
    "start_time": "2025-01-21T22:50:18.102Z"
   },
   {
    "duration": 4,
    "start_time": "2025-01-21T22:51:57.141Z"
   },
   {
    "duration": 4,
    "start_time": "2025-01-21T22:51:58.529Z"
   },
   {
    "duration": 5,
    "start_time": "2025-01-21T22:52:01.327Z"
   },
   {
    "duration": 3,
    "start_time": "2025-01-21T22:52:05.604Z"
   },
   {
    "duration": 8,
    "start_time": "2025-01-21T22:52:07.779Z"
   },
   {
    "duration": 61533,
    "start_time": "2025-01-21T22:52:09.309Z"
   },
   {
    "duration": 68360,
    "start_time": "2025-01-21T22:55:55.247Z"
   },
   {
    "duration": 4,
    "start_time": "2025-01-21T22:57:35.097Z"
   },
   {
    "duration": 68317,
    "start_time": "2025-01-21T22:57:37.645Z"
   },
   {
    "duration": 3,
    "start_time": "2025-01-21T23:02:04.909Z"
   },
   {
    "duration": 3,
    "start_time": "2025-01-21T23:02:07.467Z"
   },
   {
    "duration": 6,
    "start_time": "2025-01-21T23:04:21.066Z"
   },
   {
    "duration": 3,
    "start_time": "2025-01-21T23:04:22.782Z"
   },
   {
    "duration": 4,
    "start_time": "2025-01-21T23:04:23.905Z"
   },
   {
    "duration": 59901,
    "start_time": "2025-01-21T23:04:45.547Z"
   },
   {
    "duration": 14,
    "start_time": "2025-01-21T23:08:41.094Z"
   },
   {
    "duration": 3,
    "start_time": "2025-01-21T23:10:28.478Z"
   },
   {
    "duration": 3,
    "start_time": "2025-01-21T23:10:40.346Z"
   },
   {
    "duration": 58313,
    "start_time": "2025-01-21T23:12:52.682Z"
   },
   {
    "duration": 5,
    "start_time": "2025-01-21T23:18:06.568Z"
   },
   {
    "duration": 4,
    "start_time": "2025-01-21T23:18:07.018Z"
   },
   {
    "duration": 3,
    "start_time": "2025-01-21T23:18:07.465Z"
   },
   {
    "duration": 4,
    "start_time": "2025-01-21T23:18:08.102Z"
   },
   {
    "duration": 3,
    "start_time": "2025-01-21T23:18:08.652Z"
   },
   {
    "duration": 4,
    "start_time": "2025-01-21T23:18:09.288Z"
   },
   {
    "duration": 58157,
    "start_time": "2025-01-21T23:18:10.094Z"
   },
   {
    "duration": 15,
    "start_time": "2025-01-21T23:24:45.323Z"
   },
   {
    "duration": 4,
    "start_time": "2025-01-21T23:25:57.997Z"
   },
   {
    "duration": 18,
    "start_time": "2025-01-21T23:26:05.809Z"
   },
   {
    "duration": 19,
    "start_time": "2025-01-21T23:27:05.595Z"
   },
   {
    "duration": 5,
    "start_time": "2025-01-21T23:27:22.812Z"
   },
   {
    "duration": 14,
    "start_time": "2025-01-21T23:27:30.547Z"
   },
   {
    "duration": 13,
    "start_time": "2025-01-21T23:28:27.088Z"
   },
   {
    "duration": 58588,
    "start_time": "2025-01-21T23:36:33.830Z"
   },
   {
    "duration": 2,
    "start_time": "2025-01-21T23:37:50.150Z"
   },
   {
    "duration": 2,
    "start_time": "2025-01-21T23:37:51.882Z"
   },
   {
    "duration": 3,
    "start_time": "2025-01-21T23:37:53.401Z"
   },
   {
    "duration": 58501,
    "start_time": "2025-01-21T23:39:52.372Z"
   },
   {
    "duration": 19,
    "start_time": "2025-01-21T23:43:38.417Z"
   },
   {
    "duration": 4,
    "start_time": "2025-01-21T23:45:24.586Z"
   },
   {
    "duration": 2,
    "start_time": "2025-01-21T23:45:35.159Z"
   },
   {
    "duration": 2,
    "start_time": "2025-01-21T23:45:38.938Z"
   },
   {
    "duration": 58204,
    "start_time": "2025-01-21T23:45:47.887Z"
   },
   {
    "duration": 4,
    "start_time": "2025-01-21T23:47:14.661Z"
   },
   {
    "duration": 453,
    "start_time": "2025-01-21T23:47:14.667Z"
   },
   {
    "duration": 169,
    "start_time": "2025-01-21T23:47:15.122Z"
   },
   {
    "duration": 21,
    "start_time": "2025-01-21T23:47:15.293Z"
   },
   {
    "duration": 6,
    "start_time": "2025-01-21T23:47:15.317Z"
   },
   {
    "duration": 52,
    "start_time": "2025-01-21T23:47:15.325Z"
   },
   {
    "duration": 143,
    "start_time": "2025-01-21T23:47:15.379Z"
   },
   {
    "duration": 16,
    "start_time": "2025-01-21T23:47:15.525Z"
   },
   {
    "duration": 5,
    "start_time": "2025-01-21T23:47:15.543Z"
   },
   {
    "duration": 18,
    "start_time": "2025-01-21T23:47:15.550Z"
   },
   {
    "duration": 201,
    "start_time": "2025-01-21T23:47:15.571Z"
   },
   {
    "duration": 16,
    "start_time": "2025-01-21T23:47:15.774Z"
   },
   {
    "duration": 15,
    "start_time": "2025-01-21T23:47:15.791Z"
   },
   {
    "duration": 78,
    "start_time": "2025-01-21T23:47:15.808Z"
   },
   {
    "duration": 27,
    "start_time": "2025-01-21T23:47:15.887Z"
   },
   {
    "duration": 58,
    "start_time": "2025-01-21T23:47:15.915Z"
   },
   {
    "duration": 30,
    "start_time": "2025-01-21T23:47:15.975Z"
   },
   {
    "duration": 4,
    "start_time": "2025-01-21T23:47:16.006Z"
   },
   {
    "duration": 7,
    "start_time": "2025-01-21T23:47:16.012Z"
   },
   {
    "duration": 5,
    "start_time": "2025-01-21T23:47:16.021Z"
   },
   {
    "duration": 9,
    "start_time": "2025-01-21T23:47:16.028Z"
   },
   {
    "duration": 94,
    "start_time": "2025-01-21T23:47:16.039Z"
   },
   {
    "duration": 7,
    "start_time": "2025-01-21T23:47:16.135Z"
   },
   {
    "duration": 4,
    "start_time": "2025-01-21T23:47:16.144Z"
   },
   {
    "duration": 6,
    "start_time": "2025-01-21T23:47:16.150Z"
   },
   {
    "duration": 5,
    "start_time": "2025-01-21T23:47:16.157Z"
   },
   {
    "duration": 5,
    "start_time": "2025-01-21T23:47:16.163Z"
   },
   {
    "duration": 36,
    "start_time": "2025-01-21T23:47:16.170Z"
   },
   {
    "duration": 201,
    "start_time": "2025-01-21T23:47:16.210Z"
   },
   {
    "duration": 208,
    "start_time": "2025-01-21T23:47:16.413Z"
   },
   {
    "duration": 326,
    "start_time": "2025-01-21T23:47:16.623Z"
   },
   {
    "duration": 248,
    "start_time": "2025-01-21T23:47:16.951Z"
   },
   {
    "duration": 260,
    "start_time": "2025-01-21T23:47:17.204Z"
   },
   {
    "duration": 5,
    "start_time": "2025-01-21T23:47:17.465Z"
   },
   {
    "duration": 1717,
    "start_time": "2025-01-21T23:47:17.472Z"
   },
   {
    "duration": 18,
    "start_time": "2025-01-21T23:47:19.191Z"
   },
   {
    "duration": 4,
    "start_time": "2025-01-21T23:47:19.210Z"
   },
   {
    "duration": 4,
    "start_time": "2025-01-21T23:47:19.216Z"
   },
   {
    "duration": 4,
    "start_time": "2025-01-21T23:47:19.222Z"
   },
   {
    "duration": 6,
    "start_time": "2025-01-21T23:47:19.227Z"
   },
   {
    "duration": 3,
    "start_time": "2025-01-21T23:47:19.234Z"
   },
   {
    "duration": 9,
    "start_time": "2025-01-21T23:47:19.238Z"
   },
   {
    "duration": 61788,
    "start_time": "2025-01-21T23:47:19.248Z"
   },
   {
    "duration": 15,
    "start_time": "2025-01-21T23:48:21.038Z"
   },
   {
    "duration": 14,
    "start_time": "2025-01-21T23:48:21.054Z"
   },
   {
    "duration": 13,
    "start_time": "2025-01-21T23:48:21.069Z"
   },
   {
    "duration": 6,
    "start_time": "2025-01-21T23:48:21.105Z"
   },
   {
    "duration": 4,
    "start_time": "2025-01-21T23:48:21.112Z"
   },
   {
    "duration": 3,
    "start_time": "2025-01-21T23:48:21.118Z"
   },
   {
    "duration": 4,
    "start_time": "2025-01-21T23:48:21.122Z"
   },
   {
    "duration": 3,
    "start_time": "2025-01-21T23:48:21.128Z"
   },
   {
    "duration": 4,
    "start_time": "2025-01-21T23:48:21.132Z"
   },
   {
    "duration": 3,
    "start_time": "2025-01-21T23:48:21.137Z"
   },
   {
    "duration": 2,
    "start_time": "2025-01-21T23:48:21.143Z"
   },
   {
    "duration": 2,
    "start_time": "2025-01-21T23:48:21.147Z"
   },
   {
    "duration": 3,
    "start_time": "2025-01-21T23:48:21.151Z"
   },
   {
    "duration": 58349,
    "start_time": "2025-01-21T23:48:21.156Z"
   },
   {
    "duration": 2862,
    "start_time": "2025-01-22T02:43:59.086Z"
   },
   {
    "duration": 637,
    "start_time": "2025-01-22T02:44:01.950Z"
   },
   {
    "duration": 181,
    "start_time": "2025-01-22T02:44:02.589Z"
   },
   {
    "duration": 16,
    "start_time": "2025-01-22T02:44:02.772Z"
   },
   {
    "duration": 16,
    "start_time": "2025-01-22T02:44:02.790Z"
   },
   {
    "duration": 59,
    "start_time": "2025-01-22T02:44:02.808Z"
   },
   {
    "duration": 111,
    "start_time": "2025-01-22T02:44:02.869Z"
   },
   {
    "duration": 23,
    "start_time": "2025-01-22T02:44:02.982Z"
   },
   {
    "duration": 7,
    "start_time": "2025-01-22T02:44:03.007Z"
   },
   {
    "duration": 18,
    "start_time": "2025-01-22T02:44:03.016Z"
   },
   {
    "duration": 198,
    "start_time": "2025-01-22T02:44:03.036Z"
   },
   {
    "duration": 17,
    "start_time": "2025-01-22T02:44:03.236Z"
   },
   {
    "duration": 6,
    "start_time": "2025-01-22T02:44:03.256Z"
   },
   {
    "duration": 111,
    "start_time": "2025-01-22T02:44:03.266Z"
   },
   {
    "duration": 10,
    "start_time": "2025-01-22T02:44:03.379Z"
   },
   {
    "duration": 72,
    "start_time": "2025-01-22T02:44:03.391Z"
   },
   {
    "duration": 12,
    "start_time": "2025-01-22T02:44:03.464Z"
   },
   {
    "duration": 4,
    "start_time": "2025-01-22T02:44:03.478Z"
   },
   {
    "duration": 25,
    "start_time": "2025-01-22T02:44:03.484Z"
   },
   {
    "duration": 5,
    "start_time": "2025-01-22T02:44:03.511Z"
   },
   {
    "duration": 12,
    "start_time": "2025-01-22T02:44:03.518Z"
   },
   {
    "duration": 91,
    "start_time": "2025-01-22T02:44:03.532Z"
   },
   {
    "duration": 7,
    "start_time": "2025-01-22T02:44:03.624Z"
   },
   {
    "duration": 6,
    "start_time": "2025-01-22T02:44:03.632Z"
   },
   {
    "duration": 6,
    "start_time": "2025-01-22T02:44:03.640Z"
   },
   {
    "duration": 4,
    "start_time": "2025-01-22T02:44:03.647Z"
   },
   {
    "duration": 5,
    "start_time": "2025-01-22T02:44:03.653Z"
   },
   {
    "duration": 3,
    "start_time": "2025-01-22T02:44:03.660Z"
   },
   {
    "duration": 244,
    "start_time": "2025-01-22T02:44:03.665Z"
   },
   {
    "duration": 204,
    "start_time": "2025-01-22T02:44:03.911Z"
   },
   {
    "duration": 222,
    "start_time": "2025-01-22T02:44:04.117Z"
   },
   {
    "duration": 327,
    "start_time": "2025-01-22T02:44:04.341Z"
   },
   {
    "duration": 261,
    "start_time": "2025-01-22T02:44:04.670Z"
   },
   {
    "duration": 4,
    "start_time": "2025-01-22T02:44:04.933Z"
   },
   {
    "duration": 1606,
    "start_time": "2025-01-22T02:44:04.939Z"
   },
   {
    "duration": 11,
    "start_time": "2025-01-22T02:44:06.547Z"
   },
   {
    "duration": 4,
    "start_time": "2025-01-22T02:44:06.560Z"
   },
   {
    "duration": 5,
    "start_time": "2025-01-22T02:44:06.566Z"
   },
   {
    "duration": 4,
    "start_time": "2025-01-22T02:44:06.573Z"
   },
   {
    "duration": 31,
    "start_time": "2025-01-22T02:44:06.579Z"
   },
   {
    "duration": 2,
    "start_time": "2025-01-22T02:44:06.615Z"
   },
   {
    "duration": 13,
    "start_time": "2025-01-22T02:44:06.619Z"
   },
   {
    "duration": 61820,
    "start_time": "2025-01-22T02:44:06.634Z"
   },
   {
    "duration": 15,
    "start_time": "2025-01-22T02:45:08.456Z"
   },
   {
    "duration": 10,
    "start_time": "2025-01-22T02:45:08.473Z"
   },
   {
    "duration": 32,
    "start_time": "2025-01-22T02:45:08.485Z"
   },
   {
    "duration": 6,
    "start_time": "2025-01-22T02:45:08.520Z"
   },
   {
    "duration": 3,
    "start_time": "2025-01-22T02:45:08.528Z"
   },
   {
    "duration": 2,
    "start_time": "2025-01-22T02:45:08.533Z"
   },
   {
    "duration": 3,
    "start_time": "2025-01-22T02:45:08.537Z"
   },
   {
    "duration": 3,
    "start_time": "2025-01-22T02:45:08.542Z"
   },
   {
    "duration": 3,
    "start_time": "2025-01-22T02:45:08.546Z"
   },
   {
    "duration": 273,
    "start_time": "2025-01-22T02:45:08.551Z"
   },
   {
    "duration": 0,
    "start_time": "2025-01-22T02:45:08.826Z"
   },
   {
    "duration": 0,
    "start_time": "2025-01-22T02:45:08.827Z"
   },
   {
    "duration": 0,
    "start_time": "2025-01-22T02:45:08.828Z"
   },
   {
    "duration": 0,
    "start_time": "2025-01-22T02:45:08.830Z"
   },
   {
    "duration": 5,
    "start_time": "2025-01-22T03:00:48.984Z"
   },
   {
    "duration": 15,
    "start_time": "2025-01-22T03:03:15.492Z"
   },
   {
    "duration": 8,
    "start_time": "2025-01-22T03:03:22.358Z"
   },
   {
    "duration": 3,
    "start_time": "2025-01-22T03:05:19.635Z"
   },
   {
    "duration": 490,
    "start_time": "2025-01-22T03:05:19.640Z"
   },
   {
    "duration": 161,
    "start_time": "2025-01-22T03:05:20.132Z"
   },
   {
    "duration": 22,
    "start_time": "2025-01-22T03:05:20.296Z"
   },
   {
    "duration": 6,
    "start_time": "2025-01-22T03:05:20.320Z"
   },
   {
    "duration": 53,
    "start_time": "2025-01-22T03:05:20.328Z"
   },
   {
    "duration": 123,
    "start_time": "2025-01-22T03:05:20.383Z"
   },
   {
    "duration": 18,
    "start_time": "2025-01-22T03:05:20.508Z"
   },
   {
    "duration": 5,
    "start_time": "2025-01-22T03:05:20.527Z"
   },
   {
    "duration": 17,
    "start_time": "2025-01-22T03:05:20.536Z"
   },
   {
    "duration": 205,
    "start_time": "2025-01-22T03:05:20.555Z"
   },
   {
    "duration": 16,
    "start_time": "2025-01-22T03:05:20.762Z"
   },
   {
    "duration": 26,
    "start_time": "2025-01-22T03:05:20.780Z"
   },
   {
    "duration": 76,
    "start_time": "2025-01-22T03:05:20.808Z"
   },
   {
    "duration": 22,
    "start_time": "2025-01-22T03:05:20.886Z"
   },
   {
    "duration": 56,
    "start_time": "2025-01-22T03:05:20.909Z"
   },
   {
    "duration": 14,
    "start_time": "2025-01-22T03:05:20.966Z"
   },
   {
    "duration": 3,
    "start_time": "2025-01-22T03:05:20.982Z"
   },
   {
    "duration": 23,
    "start_time": "2025-01-22T03:05:20.987Z"
   },
   {
    "duration": 5,
    "start_time": "2025-01-22T03:05:21.011Z"
   },
   {
    "duration": 10,
    "start_time": "2025-01-22T03:05:21.018Z"
   },
   {
    "duration": 175,
    "start_time": "2025-01-22T03:05:21.030Z"
   },
   {
    "duration": 9,
    "start_time": "2025-01-22T03:05:21.207Z"
   },
   {
    "duration": 6,
    "start_time": "2025-01-22T03:05:21.218Z"
   },
   {
    "duration": 5,
    "start_time": "2025-01-22T03:05:21.226Z"
   },
   {
    "duration": 5,
    "start_time": "2025-01-22T03:05:21.232Z"
   },
   {
    "duration": 5,
    "start_time": "2025-01-22T03:05:21.238Z"
   },
   {
    "duration": 58,
    "start_time": "2025-01-22T03:05:21.248Z"
   },
   {
    "duration": 681,
    "start_time": "2025-01-22T03:05:21.308Z"
   },
   {
    "duration": 199,
    "start_time": "2025-01-22T03:05:21.990Z"
   },
   {
    "duration": 211,
    "start_time": "2025-01-22T03:05:22.190Z"
   },
   {
    "duration": 272,
    "start_time": "2025-01-22T03:05:22.403Z"
   },
   {
    "duration": 274,
    "start_time": "2025-01-22T03:05:22.677Z"
   },
   {
    "duration": 4,
    "start_time": "2025-01-22T03:05:22.953Z"
   },
   {
    "duration": 1726,
    "start_time": "2025-01-22T03:05:22.959Z"
   },
   {
    "duration": 23,
    "start_time": "2025-01-22T03:05:24.687Z"
   },
   {
    "duration": 5,
    "start_time": "2025-01-22T03:05:24.712Z"
   },
   {
    "duration": 4,
    "start_time": "2025-01-22T03:05:24.718Z"
   },
   {
    "duration": 4,
    "start_time": "2025-01-22T03:05:24.724Z"
   },
   {
    "duration": 5,
    "start_time": "2025-01-22T03:05:24.729Z"
   },
   {
    "duration": 2,
    "start_time": "2025-01-22T03:05:24.737Z"
   },
   {
    "duration": 9,
    "start_time": "2025-01-22T03:05:24.741Z"
   },
   {
    "duration": 62381,
    "start_time": "2025-01-22T03:05:24.751Z"
   },
   {
    "duration": 17,
    "start_time": "2025-01-22T03:06:27.133Z"
   },
   {
    "duration": 12,
    "start_time": "2025-01-22T03:06:27.151Z"
   },
   {
    "duration": 12,
    "start_time": "2025-01-22T03:06:27.164Z"
   },
   {
    "duration": 5,
    "start_time": "2025-01-22T03:06:27.205Z"
   },
   {
    "duration": 3,
    "start_time": "2025-01-22T03:06:27.212Z"
   },
   {
    "duration": 3,
    "start_time": "2025-01-22T03:06:27.217Z"
   },
   {
    "duration": 4,
    "start_time": "2025-01-22T03:06:27.222Z"
   },
   {
    "duration": 3,
    "start_time": "2025-01-22T03:06:27.227Z"
   },
   {
    "duration": 3,
    "start_time": "2025-01-22T03:06:27.232Z"
   },
   {
    "duration": 13,
    "start_time": "2025-01-22T03:06:27.236Z"
   },
   {
    "duration": 0,
    "start_time": "2025-01-22T03:06:27.250Z"
   },
   {
    "duration": 0,
    "start_time": "2025-01-22T03:06:27.252Z"
   },
   {
    "duration": 0,
    "start_time": "2025-01-22T03:06:27.253Z"
   },
   {
    "duration": 0,
    "start_time": "2025-01-22T03:06:27.254Z"
   },
   {
    "duration": 2749,
    "start_time": "2025-01-22T03:54:52.007Z"
   },
   {
    "duration": 656,
    "start_time": "2025-01-22T03:54:54.758Z"
   },
   {
    "duration": 227,
    "start_time": "2025-01-22T03:54:55.416Z"
   },
   {
    "duration": 24,
    "start_time": "2025-01-22T03:54:55.646Z"
   },
   {
    "duration": 6,
    "start_time": "2025-01-22T03:54:55.672Z"
   },
   {
    "duration": 56,
    "start_time": "2025-01-22T03:54:55.680Z"
   },
   {
    "duration": 107,
    "start_time": "2025-01-22T03:54:55.738Z"
   },
   {
    "duration": 25,
    "start_time": "2025-01-22T03:54:55.846Z"
   },
   {
    "duration": 4,
    "start_time": "2025-01-22T03:54:55.873Z"
   },
   {
    "duration": 18,
    "start_time": "2025-01-22T03:54:55.881Z"
   },
   {
    "duration": 198,
    "start_time": "2025-01-22T03:54:55.901Z"
   },
   {
    "duration": 17,
    "start_time": "2025-01-22T03:54:56.100Z"
   },
   {
    "duration": 7,
    "start_time": "2025-01-22T03:54:56.119Z"
   },
   {
    "duration": 101,
    "start_time": "2025-01-22T03:54:56.127Z"
   },
   {
    "duration": 10,
    "start_time": "2025-01-22T03:54:56.230Z"
   },
   {
    "duration": 70,
    "start_time": "2025-01-22T03:54:56.242Z"
   },
   {
    "duration": 13,
    "start_time": "2025-01-22T03:54:56.313Z"
   },
   {
    "duration": 13,
    "start_time": "2025-01-22T03:54:56.328Z"
   },
   {
    "duration": 6,
    "start_time": "2025-01-22T03:54:56.343Z"
   },
   {
    "duration": 19,
    "start_time": "2025-01-22T03:54:56.352Z"
   },
   {
    "duration": 16,
    "start_time": "2025-01-22T03:54:56.373Z"
   },
   {
    "duration": 91,
    "start_time": "2025-01-22T03:54:56.391Z"
   },
   {
    "duration": 5,
    "start_time": "2025-01-22T03:54:56.484Z"
   },
   {
    "duration": 5,
    "start_time": "2025-01-22T03:54:56.491Z"
   },
   {
    "duration": 6,
    "start_time": "2025-01-22T03:54:56.497Z"
   },
   {
    "duration": 5,
    "start_time": "2025-01-22T03:54:56.505Z"
   },
   {
    "duration": 5,
    "start_time": "2025-01-22T03:54:56.511Z"
   },
   {
    "duration": 3,
    "start_time": "2025-01-22T03:54:56.521Z"
   },
   {
    "duration": 246,
    "start_time": "2025-01-22T03:54:56.526Z"
   },
   {
    "duration": 207,
    "start_time": "2025-01-22T03:54:56.775Z"
   },
   {
    "duration": 216,
    "start_time": "2025-01-22T03:54:56.984Z"
   },
   {
    "duration": 249,
    "start_time": "2025-01-22T03:54:57.202Z"
   },
   {
    "duration": 330,
    "start_time": "2025-01-22T03:54:57.452Z"
   },
   {
    "duration": 4,
    "start_time": "2025-01-22T03:54:57.784Z"
   },
   {
    "duration": 1583,
    "start_time": "2025-01-22T03:54:57.790Z"
   },
   {
    "duration": 11,
    "start_time": "2025-01-22T03:54:59.375Z"
   },
   {
    "duration": 3,
    "start_time": "2025-01-22T03:54:59.388Z"
   },
   {
    "duration": 5,
    "start_time": "2025-01-22T03:54:59.393Z"
   },
   {
    "duration": 4,
    "start_time": "2025-01-22T03:54:59.400Z"
   },
   {
    "duration": 6,
    "start_time": "2025-01-22T03:54:59.405Z"
   },
   {
    "duration": 5,
    "start_time": "2025-01-22T03:54:59.412Z"
   },
   {
    "duration": 9,
    "start_time": "2025-01-22T03:54:59.419Z"
   },
   {
    "duration": 61603,
    "start_time": "2025-01-22T03:54:59.429Z"
   },
   {
    "duration": 16,
    "start_time": "2025-01-22T03:56:01.034Z"
   },
   {
    "duration": 22,
    "start_time": "2025-01-22T03:56:01.052Z"
   },
   {
    "duration": 11,
    "start_time": "2025-01-22T03:56:01.076Z"
   },
   {
    "duration": 5,
    "start_time": "2025-01-22T03:56:01.088Z"
   },
   {
    "duration": 3,
    "start_time": "2025-01-22T03:56:01.095Z"
   },
   {
    "duration": 4,
    "start_time": "2025-01-22T03:56:01.099Z"
   },
   {
    "duration": 3,
    "start_time": "2025-01-22T03:56:01.105Z"
   },
   {
    "duration": 3,
    "start_time": "2025-01-22T03:56:01.110Z"
   },
   {
    "duration": 3,
    "start_time": "2025-01-22T03:56:01.116Z"
   },
   {
    "duration": 283,
    "start_time": "2025-01-22T03:56:01.120Z"
   },
   {
    "duration": 0,
    "start_time": "2025-01-22T03:56:01.405Z"
   },
   {
    "duration": 0,
    "start_time": "2025-01-22T03:56:01.405Z"
   },
   {
    "duration": 1,
    "start_time": "2025-01-22T03:56:01.406Z"
   },
   {
    "duration": 0,
    "start_time": "2025-01-22T03:56:01.408Z"
   },
   {
    "duration": 3,
    "start_time": "2025-01-22T03:58:52.894Z"
   },
   {
    "duration": 3,
    "start_time": "2025-01-22T03:59:04.863Z"
   },
   {
    "duration": 14,
    "start_time": "2025-01-22T03:59:06.729Z"
   },
   {
    "duration": 17,
    "start_time": "2025-01-22T03:59:28.816Z"
   },
   {
    "duration": 16,
    "start_time": "2025-01-22T03:59:56.385Z"
   },
   {
    "duration": 58182,
    "start_time": "2025-01-22T04:00:09.582Z"
   },
   {
    "duration": 5,
    "start_time": "2025-01-22T04:01:07.765Z"
   },
   {
    "duration": 2,
    "start_time": "2025-01-22T04:07:06.712Z"
   },
   {
    "duration": 58244,
    "start_time": "2025-01-22T04:07:08.495Z"
   },
   {
    "duration": 18,
    "start_time": "2025-01-22T04:08:06.741Z"
   },
   {
    "duration": 0,
    "start_time": "2025-01-22T04:08:06.770Z"
   },
   {
    "duration": 58264,
    "start_time": "2025-01-22T04:16:13.189Z"
   },
   {
    "duration": 2,
    "start_time": "2025-01-22T04:18:07.558Z"
   },
   {
    "duration": 7,
    "start_time": "2025-01-22T04:18:09.779Z"
   },
   {
    "duration": 4,
    "start_time": "2025-01-22T04:18:29.345Z"
   },
   {
    "duration": 3,
    "start_time": "2025-01-22T04:18:34.224Z"
   },
   {
    "duration": 4,
    "start_time": "2025-01-22T04:18:42.394Z"
   },
   {
    "duration": 4,
    "start_time": "2025-01-22T04:18:49.434Z"
   },
   {
    "duration": 4,
    "start_time": "2025-01-22T04:19:08.889Z"
   },
   {
    "duration": 4,
    "start_time": "2025-01-22T04:19:25.677Z"
   },
   {
    "duration": 3,
    "start_time": "2025-01-22T04:20:52.999Z"
   },
   {
    "duration": 5,
    "start_time": "2025-01-22T04:21:31.416Z"
   },
   {
    "duration": 3,
    "start_time": "2025-01-22T04:21:41.135Z"
   },
   {
    "duration": 58303,
    "start_time": "2025-01-22T04:21:45.405Z"
   },
   {
    "duration": 3,
    "start_time": "2025-01-22T04:22:43.711Z"
   },
   {
    "duration": 1108,
    "start_time": "2025-01-22T04:22:55.591Z"
   },
   {
    "duration": 543,
    "start_time": "2025-01-22T04:22:56.703Z"
   },
   {
    "duration": 174,
    "start_time": "2025-01-22T04:22:57.248Z"
   },
   {
    "duration": 17,
    "start_time": "2025-01-22T04:22:57.424Z"
   },
   {
    "duration": 7,
    "start_time": "2025-01-22T04:22:57.443Z"
   },
   {
    "duration": 73,
    "start_time": "2025-01-22T04:22:57.451Z"
   },
   {
    "duration": 104,
    "start_time": "2025-01-22T04:22:57.526Z"
   },
   {
    "duration": 18,
    "start_time": "2025-01-22T04:22:57.632Z"
   },
   {
    "duration": 5,
    "start_time": "2025-01-22T04:22:57.651Z"
   },
   {
    "duration": 30,
    "start_time": "2025-01-22T04:22:57.658Z"
   },
   {
    "duration": 202,
    "start_time": "2025-01-22T04:22:57.689Z"
   },
   {
    "duration": 17,
    "start_time": "2025-01-22T04:22:57.893Z"
   },
   {
    "duration": 7,
    "start_time": "2025-01-22T04:22:57.912Z"
   },
   {
    "duration": 96,
    "start_time": "2025-01-22T04:22:57.920Z"
   },
   {
    "duration": 10,
    "start_time": "2025-01-22T04:22:58.019Z"
   },
   {
    "duration": 65,
    "start_time": "2025-01-22T04:22:58.030Z"
   },
   {
    "duration": 12,
    "start_time": "2025-01-22T04:22:58.097Z"
   },
   {
    "duration": 4,
    "start_time": "2025-01-22T04:22:58.111Z"
   },
   {
    "duration": 7,
    "start_time": "2025-01-22T04:22:58.117Z"
   },
   {
    "duration": 6,
    "start_time": "2025-01-22T04:22:58.125Z"
   },
   {
    "duration": 42,
    "start_time": "2025-01-22T04:22:58.132Z"
   },
   {
    "duration": 73,
    "start_time": "2025-01-22T04:22:58.175Z"
   },
   {
    "duration": 23,
    "start_time": "2025-01-22T04:22:58.249Z"
   },
   {
    "duration": 6,
    "start_time": "2025-01-22T04:22:58.274Z"
   },
   {
    "duration": 6,
    "start_time": "2025-01-22T04:22:58.282Z"
   },
   {
    "duration": 5,
    "start_time": "2025-01-22T04:22:58.290Z"
   },
   {
    "duration": 5,
    "start_time": "2025-01-22T04:22:58.296Z"
   },
   {
    "duration": 3,
    "start_time": "2025-01-22T04:22:58.306Z"
   },
   {
    "duration": 236,
    "start_time": "2025-01-22T04:22:58.310Z"
   },
   {
    "duration": 202,
    "start_time": "2025-01-22T04:22:58.548Z"
   },
   {
    "duration": 218,
    "start_time": "2025-01-22T04:22:58.752Z"
   },
   {
    "duration": 308,
    "start_time": "2025-01-22T04:22:58.971Z"
   },
   {
    "duration": 258,
    "start_time": "2025-01-22T04:22:59.280Z"
   },
   {
    "duration": 5,
    "start_time": "2025-01-22T04:22:59.540Z"
   },
   {
    "duration": 1657,
    "start_time": "2025-01-22T04:22:59.547Z"
   },
   {
    "duration": 9,
    "start_time": "2025-01-22T04:23:01.206Z"
   },
   {
    "duration": 3,
    "start_time": "2025-01-22T04:23:01.217Z"
   },
   {
    "duration": 6,
    "start_time": "2025-01-22T04:23:01.222Z"
   },
   {
    "duration": 4,
    "start_time": "2025-01-22T04:23:01.229Z"
   },
   {
    "duration": 6,
    "start_time": "2025-01-22T04:23:01.234Z"
   },
   {
    "duration": 3,
    "start_time": "2025-01-22T04:23:01.269Z"
   },
   {
    "duration": 10,
    "start_time": "2025-01-22T04:23:01.274Z"
   },
   {
    "duration": 61833,
    "start_time": "2025-01-22T04:23:01.286Z"
   },
   {
    "duration": 16,
    "start_time": "2025-01-22T04:24:03.121Z"
   },
   {
    "duration": 32,
    "start_time": "2025-01-22T04:24:03.139Z"
   },
   {
    "duration": 14,
    "start_time": "2025-01-22T04:24:03.173Z"
   },
   {
    "duration": 5,
    "start_time": "2025-01-22T04:24:03.188Z"
   },
   {
    "duration": 5,
    "start_time": "2025-01-22T04:24:03.194Z"
   },
   {
    "duration": 3,
    "start_time": "2025-01-22T04:24:03.201Z"
   },
   {
    "duration": 4,
    "start_time": "2025-01-22T04:24:03.205Z"
   },
   {
    "duration": 3,
    "start_time": "2025-01-22T04:24:03.211Z"
   },
   {
    "duration": 3,
    "start_time": "2025-01-22T04:24:03.216Z"
   },
   {
    "duration": 279,
    "start_time": "2025-01-22T04:24:03.221Z"
   },
   {
    "duration": 0,
    "start_time": "2025-01-22T04:24:03.502Z"
   },
   {
    "duration": 0,
    "start_time": "2025-01-22T04:24:03.503Z"
   },
   {
    "duration": 0,
    "start_time": "2025-01-22T04:24:03.505Z"
   },
   {
    "duration": 15,
    "start_time": "2025-01-22T04:24:33.946Z"
   },
   {
    "duration": 1084,
    "start_time": "2025-01-22T04:25:37.495Z"
   },
   {
    "duration": 524,
    "start_time": "2025-01-22T04:25:38.581Z"
   },
   {
    "duration": 173,
    "start_time": "2025-01-22T04:25:39.107Z"
   },
   {
    "duration": 17,
    "start_time": "2025-01-22T04:25:39.282Z"
   },
   {
    "duration": 7,
    "start_time": "2025-01-22T04:25:39.302Z"
   },
   {
    "duration": 77,
    "start_time": "2025-01-22T04:25:39.310Z"
   },
   {
    "duration": 104,
    "start_time": "2025-01-22T04:25:39.388Z"
   },
   {
    "duration": 17,
    "start_time": "2025-01-22T04:25:39.494Z"
   },
   {
    "duration": 5,
    "start_time": "2025-01-22T04:25:39.513Z"
   },
   {
    "duration": 18,
    "start_time": "2025-01-22T04:25:39.519Z"
   },
   {
    "duration": 209,
    "start_time": "2025-01-22T04:25:39.539Z"
   },
   {
    "duration": 21,
    "start_time": "2025-01-22T04:25:39.750Z"
   },
   {
    "duration": 7,
    "start_time": "2025-01-22T04:25:39.773Z"
   },
   {
    "duration": 99,
    "start_time": "2025-01-22T04:25:39.784Z"
   },
   {
    "duration": 10,
    "start_time": "2025-01-22T04:25:39.885Z"
   },
   {
    "duration": 57,
    "start_time": "2025-01-22T04:25:39.896Z"
   },
   {
    "duration": 27,
    "start_time": "2025-01-22T04:25:39.955Z"
   },
   {
    "duration": 4,
    "start_time": "2025-01-22T04:25:39.983Z"
   },
   {
    "duration": 5,
    "start_time": "2025-01-22T04:25:39.990Z"
   },
   {
    "duration": 6,
    "start_time": "2025-01-22T04:25:39.996Z"
   },
   {
    "duration": 13,
    "start_time": "2025-01-22T04:25:40.003Z"
   },
   {
    "duration": 113,
    "start_time": "2025-01-22T04:25:40.018Z"
   },
   {
    "duration": 7,
    "start_time": "2025-01-22T04:25:40.133Z"
   },
   {
    "duration": 6,
    "start_time": "2025-01-22T04:25:40.142Z"
   },
   {
    "duration": 25,
    "start_time": "2025-01-22T04:25:40.150Z"
   },
   {
    "duration": 6,
    "start_time": "2025-01-22T04:25:40.177Z"
   },
   {
    "duration": 5,
    "start_time": "2025-01-22T04:25:40.185Z"
   },
   {
    "duration": 3,
    "start_time": "2025-01-22T04:25:40.192Z"
   },
   {
    "duration": 222,
    "start_time": "2025-01-22T04:25:40.197Z"
   },
   {
    "duration": 207,
    "start_time": "2025-01-22T04:25:40.421Z"
   },
   {
    "duration": 212,
    "start_time": "2025-01-22T04:25:40.630Z"
   },
   {
    "duration": 320,
    "start_time": "2025-01-22T04:25:40.843Z"
   },
   {
    "duration": 263,
    "start_time": "2025-01-22T04:25:41.166Z"
   },
   {
    "duration": 4,
    "start_time": "2025-01-22T04:25:41.431Z"
   },
   {
    "duration": 1560,
    "start_time": "2025-01-22T04:25:41.437Z"
   },
   {
    "duration": 9,
    "start_time": "2025-01-22T04:25:42.999Z"
   },
   {
    "duration": 3,
    "start_time": "2025-01-22T04:25:43.010Z"
   },
   {
    "duration": 4,
    "start_time": "2025-01-22T04:25:43.015Z"
   },
   {
    "duration": 3,
    "start_time": "2025-01-22T04:25:43.021Z"
   },
   {
    "duration": 6,
    "start_time": "2025-01-22T04:25:43.026Z"
   },
   {
    "duration": 2,
    "start_time": "2025-01-22T04:25:43.036Z"
   },
   {
    "duration": 9,
    "start_time": "2025-01-22T04:25:43.070Z"
   },
   {
    "duration": 62234,
    "start_time": "2025-01-22T04:25:43.080Z"
   },
   {
    "duration": 15,
    "start_time": "2025-01-22T04:26:45.316Z"
   },
   {
    "duration": 13,
    "start_time": "2025-01-22T04:26:45.332Z"
   },
   {
    "duration": 31,
    "start_time": "2025-01-22T04:26:45.346Z"
   },
   {
    "duration": 5,
    "start_time": "2025-01-22T04:26:45.378Z"
   },
   {
    "duration": 4,
    "start_time": "2025-01-22T04:26:45.385Z"
   },
   {
    "duration": 3,
    "start_time": "2025-01-22T04:26:45.390Z"
   },
   {
    "duration": 3,
    "start_time": "2025-01-22T04:26:45.395Z"
   },
   {
    "duration": 2,
    "start_time": "2025-01-22T04:26:45.400Z"
   },
   {
    "duration": 3,
    "start_time": "2025-01-22T04:26:45.404Z"
   },
   {
    "duration": 58765,
    "start_time": "2025-01-22T04:26:45.409Z"
   },
   {
    "duration": 0,
    "start_time": "2025-01-22T04:27:44.176Z"
   },
   {
    "duration": 0,
    "start_time": "2025-01-22T04:27:44.177Z"
   },
   {
    "duration": 0,
    "start_time": "2025-01-22T04:27:44.178Z"
   },
   {
    "duration": 58070,
    "start_time": "2025-01-22T04:29:55.259Z"
   },
   {
    "duration": 3,
    "start_time": "2025-01-22T04:34:53.066Z"
   },
   {
    "duration": 58019,
    "start_time": "2025-01-22T04:34:59.093Z"
   },
   {
    "duration": 58001,
    "start_time": "2025-01-22T04:37:31.341Z"
   },
   {
    "duration": 1058,
    "start_time": "2025-01-22T04:39:12.091Z"
   },
   {
    "duration": 516,
    "start_time": "2025-01-22T04:39:13.151Z"
   },
   {
    "duration": 174,
    "start_time": "2025-01-22T04:39:13.669Z"
   },
   {
    "duration": 24,
    "start_time": "2025-01-22T04:39:13.846Z"
   },
   {
    "duration": 6,
    "start_time": "2025-01-22T04:39:13.872Z"
   },
   {
    "duration": 57,
    "start_time": "2025-01-22T04:39:13.880Z"
   },
   {
    "duration": 126,
    "start_time": "2025-01-22T04:39:13.939Z"
   },
   {
    "duration": 17,
    "start_time": "2025-01-22T04:39:14.071Z"
   },
   {
    "duration": 5,
    "start_time": "2025-01-22T04:39:14.090Z"
   },
   {
    "duration": 17,
    "start_time": "2025-01-22T04:39:14.101Z"
   },
   {
    "duration": 203,
    "start_time": "2025-01-22T04:39:14.120Z"
   },
   {
    "duration": 18,
    "start_time": "2025-01-22T04:39:14.325Z"
   },
   {
    "duration": 6,
    "start_time": "2025-01-22T04:39:14.344Z"
   },
   {
    "duration": 98,
    "start_time": "2025-01-22T04:39:14.352Z"
   },
   {
    "duration": 20,
    "start_time": "2025-01-22T04:39:14.452Z"
   },
   {
    "duration": 56,
    "start_time": "2025-01-22T04:39:14.473Z"
   },
   {
    "duration": 14,
    "start_time": "2025-01-22T04:39:14.530Z"
   },
   {
    "duration": 4,
    "start_time": "2025-01-22T04:39:14.545Z"
   },
   {
    "duration": 6,
    "start_time": "2025-01-22T04:39:14.570Z"
   },
   {
    "duration": 5,
    "start_time": "2025-01-22T04:39:14.577Z"
   },
   {
    "duration": 13,
    "start_time": "2025-01-22T04:39:14.583Z"
   },
   {
    "duration": 97,
    "start_time": "2025-01-22T04:39:14.598Z"
   },
   {
    "duration": 8,
    "start_time": "2025-01-22T04:39:14.696Z"
   },
   {
    "duration": 5,
    "start_time": "2025-01-22T04:39:14.707Z"
   },
   {
    "duration": 6,
    "start_time": "2025-01-22T04:39:14.714Z"
   },
   {
    "duration": 6,
    "start_time": "2025-01-22T04:39:14.722Z"
   },
   {
    "duration": 5,
    "start_time": "2025-01-22T04:39:14.729Z"
   },
   {
    "duration": 4,
    "start_time": "2025-01-22T04:39:14.769Z"
   },
   {
    "duration": 208,
    "start_time": "2025-01-22T04:39:14.774Z"
   },
   {
    "duration": 225,
    "start_time": "2025-01-22T04:39:14.984Z"
   },
   {
    "duration": 211,
    "start_time": "2025-01-22T04:39:15.211Z"
   },
   {
    "duration": 310,
    "start_time": "2025-01-22T04:39:15.424Z"
   },
   {
    "duration": 262,
    "start_time": "2025-01-22T04:39:15.736Z"
   },
   {
    "duration": 5,
    "start_time": "2025-01-22T04:39:16.000Z"
   },
   {
    "duration": 1746,
    "start_time": "2025-01-22T04:39:16.007Z"
   },
   {
    "duration": 18,
    "start_time": "2025-01-22T04:39:17.755Z"
   },
   {
    "duration": 4,
    "start_time": "2025-01-22T04:39:17.774Z"
   },
   {
    "duration": 4,
    "start_time": "2025-01-22T04:39:17.780Z"
   },
   {
    "duration": 3,
    "start_time": "2025-01-22T04:39:17.786Z"
   },
   {
    "duration": 5,
    "start_time": "2025-01-22T04:39:17.791Z"
   },
   {
    "duration": 3,
    "start_time": "2025-01-22T04:39:17.798Z"
   },
   {
    "duration": 10,
    "start_time": "2025-01-22T04:39:17.802Z"
   },
   {
    "duration": 61665,
    "start_time": "2025-01-22T04:39:17.813Z"
   },
   {
    "duration": 15,
    "start_time": "2025-01-22T04:40:19.479Z"
   },
   {
    "duration": 11,
    "start_time": "2025-01-22T04:40:19.496Z"
   },
   {
    "duration": 12,
    "start_time": "2025-01-22T04:40:19.509Z"
   },
   {
    "duration": 5,
    "start_time": "2025-01-22T04:40:19.523Z"
   },
   {
    "duration": 4,
    "start_time": "2025-01-22T04:40:19.529Z"
   },
   {
    "duration": 36,
    "start_time": "2025-01-22T04:40:19.535Z"
   },
   {
    "duration": 4,
    "start_time": "2025-01-22T04:40:19.573Z"
   },
   {
    "duration": 3,
    "start_time": "2025-01-22T04:40:19.579Z"
   },
   {
    "duration": 3,
    "start_time": "2025-01-22T04:40:19.583Z"
   },
   {
    "duration": 3,
    "start_time": "2025-01-22T04:40:19.588Z"
   },
   {
    "duration": 58426,
    "start_time": "2025-01-22T04:40:19.593Z"
   },
   {
    "duration": 0,
    "start_time": "2025-01-22T04:41:18.021Z"
   },
   {
    "duration": 58130,
    "start_time": "2025-01-22T04:42:41.584Z"
   },
   {
    "duration": 4,
    "start_time": "2025-01-22T04:44:26.487Z"
   },
   {
    "duration": 58059,
    "start_time": "2025-01-22T04:44:49.538Z"
   },
   {
    "duration": 58541,
    "start_time": "2025-01-22T04:46:01.118Z"
   },
   {
    "duration": 1079,
    "start_time": "2025-01-22T04:49:45.956Z"
   },
   {
    "duration": 521,
    "start_time": "2025-01-22T04:49:47.037Z"
   },
   {
    "duration": 173,
    "start_time": "2025-01-22T04:49:47.560Z"
   },
   {
    "duration": 18,
    "start_time": "2025-01-22T04:49:47.735Z"
   },
   {
    "duration": 16,
    "start_time": "2025-01-22T04:49:47.755Z"
   },
   {
    "duration": 56,
    "start_time": "2025-01-22T04:49:47.773Z"
   },
   {
    "duration": 112,
    "start_time": "2025-01-22T04:49:47.832Z"
   },
   {
    "duration": 24,
    "start_time": "2025-01-22T04:49:47.946Z"
   },
   {
    "duration": 5,
    "start_time": "2025-01-22T04:49:47.972Z"
   },
   {
    "duration": 18,
    "start_time": "2025-01-22T04:49:47.980Z"
   },
   {
    "duration": 195,
    "start_time": "2025-01-22T04:49:47.999Z"
   },
   {
    "duration": 17,
    "start_time": "2025-01-22T04:49:48.196Z"
   },
   {
    "duration": 7,
    "start_time": "2025-01-22T04:49:48.215Z"
   },
   {
    "duration": 99,
    "start_time": "2025-01-22T04:49:48.224Z"
   },
   {
    "duration": 10,
    "start_time": "2025-01-22T04:49:48.325Z"
   },
   {
    "duration": 65,
    "start_time": "2025-01-22T04:49:48.337Z"
   },
   {
    "duration": 13,
    "start_time": "2025-01-22T04:49:48.404Z"
   },
   {
    "duration": 4,
    "start_time": "2025-01-22T04:49:48.418Z"
   },
   {
    "duration": 6,
    "start_time": "2025-01-22T04:49:48.423Z"
   },
   {
    "duration": 6,
    "start_time": "2025-01-22T04:49:48.431Z"
   },
   {
    "duration": 42,
    "start_time": "2025-01-22T04:49:48.438Z"
   },
   {
    "duration": 76,
    "start_time": "2025-01-22T04:49:48.481Z"
   },
   {
    "duration": 16,
    "start_time": "2025-01-22T04:49:48.559Z"
   },
   {
    "duration": 5,
    "start_time": "2025-01-22T04:49:48.577Z"
   },
   {
    "duration": 5,
    "start_time": "2025-01-22T04:49:48.584Z"
   },
   {
    "duration": 4,
    "start_time": "2025-01-22T04:49:48.591Z"
   },
   {
    "duration": 5,
    "start_time": "2025-01-22T04:49:48.597Z"
   },
   {
    "duration": 3,
    "start_time": "2025-01-22T04:49:48.607Z"
   },
   {
    "duration": 243,
    "start_time": "2025-01-22T04:49:48.612Z"
   },
   {
    "duration": 201,
    "start_time": "2025-01-22T04:49:48.858Z"
   },
   {
    "duration": 226,
    "start_time": "2025-01-22T04:49:49.061Z"
   },
   {
    "duration": 304,
    "start_time": "2025-01-22T04:49:49.288Z"
   },
   {
    "duration": 264,
    "start_time": "2025-01-22T04:49:49.594Z"
   },
   {
    "duration": 12,
    "start_time": "2025-01-22T04:49:49.860Z"
   },
   {
    "duration": 1798,
    "start_time": "2025-01-22T04:49:49.874Z"
   },
   {
    "duration": 9,
    "start_time": "2025-01-22T04:49:51.674Z"
   },
   {
    "duration": 3,
    "start_time": "2025-01-22T04:49:51.685Z"
   },
   {
    "duration": 6,
    "start_time": "2025-01-22T04:49:51.690Z"
   },
   {
    "duration": 4,
    "start_time": "2025-01-22T04:49:51.698Z"
   },
   {
    "duration": 6,
    "start_time": "2025-01-22T04:49:51.703Z"
   },
   {
    "duration": 3,
    "start_time": "2025-01-22T04:49:51.710Z"
   },
   {
    "duration": 10,
    "start_time": "2025-01-22T04:49:51.715Z"
   },
   {
    "duration": 61949,
    "start_time": "2025-01-22T04:49:51.726Z"
   },
   {
    "duration": 16,
    "start_time": "2025-01-22T04:50:53.677Z"
   },
   {
    "duration": 12,
    "start_time": "2025-01-22T04:50:53.695Z"
   },
   {
    "duration": 14,
    "start_time": "2025-01-22T04:50:53.708Z"
   },
   {
    "duration": 6,
    "start_time": "2025-01-22T04:50:53.723Z"
   },
   {
    "duration": 40,
    "start_time": "2025-01-22T04:50:53.731Z"
   },
   {
    "duration": 3,
    "start_time": "2025-01-22T04:50:53.772Z"
   },
   {
    "duration": 5,
    "start_time": "2025-01-22T04:50:53.777Z"
   },
   {
    "duration": 3,
    "start_time": "2025-01-22T04:50:53.783Z"
   },
   {
    "duration": 4,
    "start_time": "2025-01-22T04:50:53.788Z"
   },
   {
    "duration": 5,
    "start_time": "2025-01-22T04:50:53.793Z"
   },
   {
    "duration": 58681,
    "start_time": "2025-01-22T04:50:53.799Z"
   },
   {
    "duration": 0,
    "start_time": "2025-01-22T04:51:52.482Z"
   },
   {
    "duration": 58031,
    "start_time": "2025-01-22T04:58:58.872Z"
   },
   {
    "duration": 33,
    "start_time": "2025-01-22T05:01:59.019Z"
   },
   {
    "duration": 1077,
    "start_time": "2025-01-22T05:04:28.864Z"
   },
   {
    "duration": 510,
    "start_time": "2025-01-22T05:04:29.944Z"
   },
   {
    "duration": 176,
    "start_time": "2025-01-22T05:04:30.456Z"
   },
   {
    "duration": 17,
    "start_time": "2025-01-22T05:04:30.635Z"
   },
   {
    "duration": 18,
    "start_time": "2025-01-22T05:04:30.654Z"
   },
   {
    "duration": 57,
    "start_time": "2025-01-22T05:04:30.674Z"
   },
   {
    "duration": 106,
    "start_time": "2025-01-22T05:04:30.733Z"
   },
   {
    "duration": 31,
    "start_time": "2025-01-22T05:04:30.841Z"
   },
   {
    "duration": 5,
    "start_time": "2025-01-22T05:04:30.874Z"
   },
   {
    "duration": 18,
    "start_time": "2025-01-22T05:04:30.882Z"
   },
   {
    "duration": 193,
    "start_time": "2025-01-22T05:04:30.901Z"
   },
   {
    "duration": 16,
    "start_time": "2025-01-22T05:04:31.096Z"
   },
   {
    "duration": 7,
    "start_time": "2025-01-22T05:04:31.114Z"
   },
   {
    "duration": 98,
    "start_time": "2025-01-22T05:04:31.122Z"
   },
   {
    "duration": 11,
    "start_time": "2025-01-22T05:04:31.222Z"
   },
   {
    "duration": 71,
    "start_time": "2025-01-22T05:04:31.235Z"
   },
   {
    "duration": 12,
    "start_time": "2025-01-22T05:04:31.308Z"
   },
   {
    "duration": 5,
    "start_time": "2025-01-22T05:04:31.322Z"
   },
   {
    "duration": 6,
    "start_time": "2025-01-22T05:04:31.328Z"
   },
   {
    "duration": 5,
    "start_time": "2025-01-22T05:04:31.336Z"
   },
   {
    "duration": 42,
    "start_time": "2025-01-22T05:04:31.342Z"
   },
   {
    "duration": 89,
    "start_time": "2025-01-22T05:04:31.386Z"
   },
   {
    "duration": 8,
    "start_time": "2025-01-22T05:04:31.477Z"
   },
   {
    "duration": 5,
    "start_time": "2025-01-22T05:04:31.487Z"
   },
   {
    "duration": 6,
    "start_time": "2025-01-22T05:04:31.493Z"
   },
   {
    "duration": 4,
    "start_time": "2025-01-22T05:04:31.500Z"
   },
   {
    "duration": 5,
    "start_time": "2025-01-22T05:04:31.507Z"
   },
   {
    "duration": 4,
    "start_time": "2025-01-22T05:04:31.518Z"
   },
   {
    "duration": 252,
    "start_time": "2025-01-22T05:04:31.524Z"
   },
   {
    "duration": 200,
    "start_time": "2025-01-22T05:04:31.778Z"
   },
   {
    "duration": 207,
    "start_time": "2025-01-22T05:04:31.980Z"
   },
   {
    "duration": 307,
    "start_time": "2025-01-22T05:04:32.188Z"
   },
   {
    "duration": 277,
    "start_time": "2025-01-22T05:04:32.498Z"
   },
   {
    "duration": 4,
    "start_time": "2025-01-22T05:04:32.777Z"
   },
   {
    "duration": 1681,
    "start_time": "2025-01-22T05:04:32.783Z"
   },
   {
    "duration": 9,
    "start_time": "2025-01-22T05:04:34.466Z"
   },
   {
    "duration": 4,
    "start_time": "2025-01-22T05:04:34.477Z"
   },
   {
    "duration": 6,
    "start_time": "2025-01-22T05:04:34.482Z"
   },
   {
    "duration": 3,
    "start_time": "2025-01-22T05:04:34.490Z"
   },
   {
    "duration": 5,
    "start_time": "2025-01-22T05:04:34.495Z"
   },
   {
    "duration": 2,
    "start_time": "2025-01-22T05:04:34.502Z"
   },
   {
    "duration": 9,
    "start_time": "2025-01-22T05:04:34.506Z"
   },
   {
    "duration": 61829,
    "start_time": "2025-01-22T05:04:34.516Z"
   },
   {
    "duration": 15,
    "start_time": "2025-01-22T05:05:36.347Z"
   },
   {
    "duration": 20,
    "start_time": "2025-01-22T05:05:36.363Z"
   },
   {
    "duration": 14,
    "start_time": "2025-01-22T05:05:36.384Z"
   },
   {
    "duration": 5,
    "start_time": "2025-01-22T05:05:36.399Z"
   },
   {
    "duration": 4,
    "start_time": "2025-01-22T05:05:36.406Z"
   },
   {
    "duration": 5,
    "start_time": "2025-01-22T05:05:36.413Z"
   },
   {
    "duration": 5,
    "start_time": "2025-01-22T05:05:36.421Z"
   },
   {
    "duration": 4,
    "start_time": "2025-01-22T05:05:36.429Z"
   },
   {
    "duration": 36,
    "start_time": "2025-01-22T05:05:36.435Z"
   },
   {
    "duration": 58136,
    "start_time": "2025-01-22T05:05:36.473Z"
   },
   {
    "duration": 150,
    "start_time": "2025-01-22T05:06:34.610Z"
   },
   {
    "duration": 0,
    "start_time": "2025-01-22T05:06:34.761Z"
   },
   {
    "duration": 0,
    "start_time": "2025-01-22T05:06:34.762Z"
   },
   {
    "duration": 0,
    "start_time": "2025-01-22T05:06:34.763Z"
   },
   {
    "duration": 103,
    "start_time": "2025-01-22T05:07:38.608Z"
   },
   {
    "duration": 13,
    "start_time": "2025-01-22T05:07:49.915Z"
   },
   {
    "duration": 432,
    "start_time": "2025-01-22T05:07:54.121Z"
   },
   {
    "duration": 15,
    "start_time": "2025-01-22T05:08:37.654Z"
   },
   {
    "duration": 58186,
    "start_time": "2025-01-22T05:08:52.024Z"
   },
   {
    "duration": 14,
    "start_time": "2025-01-22T05:10:02.184Z"
   },
   {
    "duration": 3,
    "start_time": "2025-01-22T05:11:12.767Z"
   },
   {
    "duration": 3,
    "start_time": "2025-01-22T05:11:16.717Z"
   },
   {
    "duration": 14,
    "start_time": "2025-01-22T05:11:18.511Z"
   },
   {
    "duration": 26,
    "start_time": "2025-01-22T05:12:02.586Z"
   },
   {
    "duration": 14,
    "start_time": "2025-01-22T05:14:56.295Z"
   },
   {
    "duration": 33,
    "start_time": "2025-01-22T05:15:47.322Z"
   },
   {
    "duration": 4,
    "start_time": "2025-01-22T05:18:22.642Z"
   },
   {
    "duration": 3,
    "start_time": "2025-01-22T05:18:29.326Z"
   },
   {
    "duration": 3,
    "start_time": "2025-01-22T05:18:41.422Z"
   },
   {
    "duration": 15,
    "start_time": "2025-01-22T05:20:55.299Z"
   },
   {
    "duration": 4,
    "start_time": "2025-01-22T05:22:22.817Z"
   },
   {
    "duration": 3,
    "start_time": "2025-01-22T05:22:25.091Z"
   },
   {
    "duration": 1101,
    "start_time": "2025-01-22T05:22:34.535Z"
   },
   {
    "duration": 508,
    "start_time": "2025-01-22T05:22:35.638Z"
   },
   {
    "duration": 169,
    "start_time": "2025-01-22T05:22:36.148Z"
   },
   {
    "duration": 22,
    "start_time": "2025-01-22T05:22:36.320Z"
   },
   {
    "duration": 8,
    "start_time": "2025-01-22T05:22:36.345Z"
   },
   {
    "duration": 86,
    "start_time": "2025-01-22T05:22:36.354Z"
   },
   {
    "duration": 120,
    "start_time": "2025-01-22T05:22:36.442Z"
   },
   {
    "duration": 19,
    "start_time": "2025-01-22T05:22:36.569Z"
   },
   {
    "duration": 5,
    "start_time": "2025-01-22T05:22:36.590Z"
   },
   {
    "duration": 18,
    "start_time": "2025-01-22T05:22:36.598Z"
   },
   {
    "duration": 213,
    "start_time": "2025-01-22T05:22:36.618Z"
   },
   {
    "duration": 17,
    "start_time": "2025-01-22T05:22:36.832Z"
   },
   {
    "duration": 7,
    "start_time": "2025-01-22T05:22:36.850Z"
   },
   {
    "duration": 95,
    "start_time": "2025-01-22T05:22:36.858Z"
   },
   {
    "duration": 25,
    "start_time": "2025-01-22T05:22:36.955Z"
   },
   {
    "duration": 59,
    "start_time": "2025-01-22T05:22:36.982Z"
   },
   {
    "duration": 29,
    "start_time": "2025-01-22T05:22:37.043Z"
   },
   {
    "duration": 5,
    "start_time": "2025-01-22T05:22:37.073Z"
   },
   {
    "duration": 8,
    "start_time": "2025-01-22T05:22:37.080Z"
   },
   {
    "duration": 6,
    "start_time": "2025-01-22T05:22:37.089Z"
   },
   {
    "duration": 13,
    "start_time": "2025-01-22T05:22:37.096Z"
   },
   {
    "duration": 104,
    "start_time": "2025-01-22T05:22:37.111Z"
   },
   {
    "duration": 7,
    "start_time": "2025-01-22T05:22:37.217Z"
   },
   {
    "duration": 5,
    "start_time": "2025-01-22T05:22:37.225Z"
   },
   {
    "duration": 6,
    "start_time": "2025-01-22T05:22:37.232Z"
   },
   {
    "duration": 4,
    "start_time": "2025-01-22T05:22:37.240Z"
   },
   {
    "duration": 6,
    "start_time": "2025-01-22T05:22:37.271Z"
   },
   {
    "duration": 3,
    "start_time": "2025-01-22T05:22:37.283Z"
   },
   {
    "duration": 237,
    "start_time": "2025-01-22T05:22:37.288Z"
   },
   {
    "duration": 208,
    "start_time": "2025-01-22T05:22:37.527Z"
   },
   {
    "duration": 222,
    "start_time": "2025-01-22T05:22:37.737Z"
   },
   {
    "duration": 316,
    "start_time": "2025-01-22T05:22:37.961Z"
   },
   {
    "duration": 293,
    "start_time": "2025-01-22T05:22:38.279Z"
   },
   {
    "duration": 5,
    "start_time": "2025-01-22T05:22:38.574Z"
   },
   {
    "duration": 1700,
    "start_time": "2025-01-22T05:22:38.581Z"
   },
   {
    "duration": 9,
    "start_time": "2025-01-22T05:22:40.283Z"
   },
   {
    "duration": 3,
    "start_time": "2025-01-22T05:22:40.294Z"
   },
   {
    "duration": 5,
    "start_time": "2025-01-22T05:22:40.299Z"
   },
   {
    "duration": 4,
    "start_time": "2025-01-22T05:22:40.305Z"
   },
   {
    "duration": 6,
    "start_time": "2025-01-22T05:22:40.310Z"
   },
   {
    "duration": 3,
    "start_time": "2025-01-22T05:22:40.318Z"
   },
   {
    "duration": 9,
    "start_time": "2025-01-22T05:22:40.323Z"
   },
   {
    "duration": 61583,
    "start_time": "2025-01-22T05:22:40.333Z"
   },
   {
    "duration": 16,
    "start_time": "2025-01-22T05:23:41.918Z"
   },
   {
    "duration": 12,
    "start_time": "2025-01-22T05:23:41.935Z"
   },
   {
    "duration": 32,
    "start_time": "2025-01-22T05:23:41.948Z"
   },
   {
    "duration": 4,
    "start_time": "2025-01-22T05:23:41.981Z"
   },
   {
    "duration": 4,
    "start_time": "2025-01-22T05:23:41.987Z"
   },
   {
    "duration": 3,
    "start_time": "2025-01-22T05:23:41.993Z"
   },
   {
    "duration": 4,
    "start_time": "2025-01-22T05:23:41.997Z"
   },
   {
    "duration": 3,
    "start_time": "2025-01-22T05:23:42.002Z"
   },
   {
    "duration": 3,
    "start_time": "2025-01-22T05:23:42.008Z"
   },
   {
    "duration": 58412,
    "start_time": "2025-01-22T05:23:42.012Z"
   },
   {
    "duration": 3,
    "start_time": "2025-01-22T05:24:40.426Z"
   },
   {
    "duration": 6,
    "start_time": "2025-01-22T05:24:40.430Z"
   },
   {
    "duration": 4,
    "start_time": "2025-01-22T05:24:40.437Z"
   },
   {
    "duration": 3,
    "start_time": "2025-01-22T05:24:40.443Z"
   },
   {
    "duration": 24,
    "start_time": "2025-01-22T05:24:40.448Z"
   },
   {
    "duration": 3,
    "start_time": "2025-01-22T05:24:40.474Z"
   },
   {
    "duration": 4,
    "start_time": "2025-01-22T05:30:29.716Z"
   },
   {
    "duration": 3,
    "start_time": "2025-01-22T05:31:07.451Z"
   },
   {
    "duration": 4,
    "start_time": "2025-01-22T05:32:51.366Z"
   },
   {
    "duration": 1087,
    "start_time": "2025-01-22T05:33:37.061Z"
   },
   {
    "duration": 520,
    "start_time": "2025-01-22T05:33:38.150Z"
   },
   {
    "duration": 192,
    "start_time": "2025-01-22T05:33:38.673Z"
   },
   {
    "duration": 18,
    "start_time": "2025-01-22T05:33:38.867Z"
   },
   {
    "duration": 7,
    "start_time": "2025-01-22T05:33:38.886Z"
   },
   {
    "duration": 75,
    "start_time": "2025-01-22T05:33:38.896Z"
   },
   {
    "duration": 103,
    "start_time": "2025-01-22T05:33:38.972Z"
   },
   {
    "duration": 16,
    "start_time": "2025-01-22T05:33:39.077Z"
   },
   {
    "duration": 5,
    "start_time": "2025-01-22T05:33:39.095Z"
   },
   {
    "duration": 17,
    "start_time": "2025-01-22T05:33:39.104Z"
   },
   {
    "duration": 204,
    "start_time": "2025-01-22T05:33:39.122Z"
   },
   {
    "duration": 19,
    "start_time": "2025-01-22T05:33:39.328Z"
   },
   {
    "duration": 22,
    "start_time": "2025-01-22T05:33:39.348Z"
   },
   {
    "duration": 80,
    "start_time": "2025-01-22T05:33:39.372Z"
   },
   {
    "duration": 19,
    "start_time": "2025-01-22T05:33:39.453Z"
   },
   {
    "duration": 55,
    "start_time": "2025-01-22T05:33:39.474Z"
   },
   {
    "duration": 13,
    "start_time": "2025-01-22T05:33:39.531Z"
   },
   {
    "duration": 4,
    "start_time": "2025-01-22T05:33:39.545Z"
   },
   {
    "duration": 6,
    "start_time": "2025-01-22T05:33:39.570Z"
   },
   {
    "duration": 4,
    "start_time": "2025-01-22T05:33:39.578Z"
   },
   {
    "duration": 12,
    "start_time": "2025-01-22T05:33:39.585Z"
   },
   {
    "duration": 98,
    "start_time": "2025-01-22T05:33:39.599Z"
   },
   {
    "duration": 7,
    "start_time": "2025-01-22T05:33:39.698Z"
   },
   {
    "duration": 5,
    "start_time": "2025-01-22T05:33:39.707Z"
   },
   {
    "duration": 5,
    "start_time": "2025-01-22T05:33:39.714Z"
   },
   {
    "duration": 5,
    "start_time": "2025-01-22T05:33:39.721Z"
   },
   {
    "duration": 5,
    "start_time": "2025-01-22T05:33:39.727Z"
   },
   {
    "duration": 4,
    "start_time": "2025-01-22T05:33:39.773Z"
   },
   {
    "duration": 210,
    "start_time": "2025-01-22T05:33:39.779Z"
   },
   {
    "duration": 204,
    "start_time": "2025-01-22T05:33:39.991Z"
   },
   {
    "duration": 213,
    "start_time": "2025-01-22T05:33:40.197Z"
   },
   {
    "duration": 323,
    "start_time": "2025-01-22T05:33:40.412Z"
   },
   {
    "duration": 269,
    "start_time": "2025-01-22T05:33:40.737Z"
   },
   {
    "duration": 4,
    "start_time": "2025-01-22T05:33:41.008Z"
   },
   {
    "duration": 1668,
    "start_time": "2025-01-22T05:33:41.014Z"
   },
   {
    "duration": 10,
    "start_time": "2025-01-22T05:33:42.684Z"
   },
   {
    "duration": 10,
    "start_time": "2025-01-22T05:33:42.695Z"
   },
   {
    "duration": 6,
    "start_time": "2025-01-22T05:33:42.706Z"
   },
   {
    "duration": 3,
    "start_time": "2025-01-22T05:33:42.713Z"
   },
   {
    "duration": 5,
    "start_time": "2025-01-22T05:33:42.718Z"
   },
   {
    "duration": 4,
    "start_time": "2025-01-22T05:33:42.725Z"
   },
   {
    "duration": 45,
    "start_time": "2025-01-22T05:33:42.731Z"
   },
   {
    "duration": 61213,
    "start_time": "2025-01-22T05:33:42.777Z"
   },
   {
    "duration": 15,
    "start_time": "2025-01-22T05:34:43.992Z"
   },
   {
    "duration": 11,
    "start_time": "2025-01-22T05:34:44.009Z"
   },
   {
    "duration": 12,
    "start_time": "2025-01-22T05:34:44.021Z"
   },
   {
    "duration": 5,
    "start_time": "2025-01-22T05:34:44.034Z"
   },
   {
    "duration": 3,
    "start_time": "2025-01-22T05:34:44.070Z"
   },
   {
    "duration": 2,
    "start_time": "2025-01-22T05:34:44.075Z"
   },
   {
    "duration": 3,
    "start_time": "2025-01-22T05:34:44.079Z"
   },
   {
    "duration": 3,
    "start_time": "2025-01-22T05:34:44.084Z"
   },
   {
    "duration": 4,
    "start_time": "2025-01-22T05:34:44.088Z"
   },
   {
    "duration": 58267,
    "start_time": "2025-01-22T05:34:44.093Z"
   },
   {
    "duration": 9,
    "start_time": "2025-01-22T05:35:42.362Z"
   },
   {
    "duration": 4,
    "start_time": "2025-01-22T05:35:42.372Z"
   },
   {
    "duration": 4,
    "start_time": "2025-01-22T05:35:42.377Z"
   },
   {
    "duration": 4,
    "start_time": "2025-01-22T05:35:42.382Z"
   },
   {
    "duration": 5,
    "start_time": "2025-01-22T05:35:42.387Z"
   },
   {
    "duration": 3,
    "start_time": "2025-01-22T05:35:42.394Z"
   },
   {
    "duration": 4,
    "start_time": "2025-01-22T05:35:42.398Z"
   },
   {
    "duration": 1060,
    "start_time": "2025-01-22T05:36:04.815Z"
   },
   {
    "duration": 517,
    "start_time": "2025-01-22T05:36:05.877Z"
   },
   {
    "duration": 190,
    "start_time": "2025-01-22T05:36:06.395Z"
   },
   {
    "duration": 17,
    "start_time": "2025-01-22T05:36:06.588Z"
   },
   {
    "duration": 6,
    "start_time": "2025-01-22T05:36:06.607Z"
   },
   {
    "duration": 77,
    "start_time": "2025-01-22T05:36:06.615Z"
   },
   {
    "duration": 103,
    "start_time": "2025-01-22T05:36:06.694Z"
   },
   {
    "duration": 16,
    "start_time": "2025-01-22T05:36:06.799Z"
   },
   {
    "duration": 5,
    "start_time": "2025-01-22T05:36:06.817Z"
   },
   {
    "duration": 18,
    "start_time": "2025-01-22T05:36:06.825Z"
   },
   {
    "duration": 212,
    "start_time": "2025-01-22T05:36:06.844Z"
   },
   {
    "duration": 19,
    "start_time": "2025-01-22T05:36:07.058Z"
   },
   {
    "duration": 8,
    "start_time": "2025-01-22T05:36:07.079Z"
   },
   {
    "duration": 103,
    "start_time": "2025-01-22T05:36:07.088Z"
   },
   {
    "duration": 11,
    "start_time": "2025-01-22T05:36:07.193Z"
   },
   {
    "duration": 70,
    "start_time": "2025-01-22T05:36:07.206Z"
   },
   {
    "duration": 12,
    "start_time": "2025-01-22T05:36:07.278Z"
   },
   {
    "duration": 3,
    "start_time": "2025-01-22T05:36:07.292Z"
   },
   {
    "duration": 6,
    "start_time": "2025-01-22T05:36:07.297Z"
   },
   {
    "duration": 6,
    "start_time": "2025-01-22T05:36:07.304Z"
   },
   {
    "duration": 12,
    "start_time": "2025-01-22T05:36:07.312Z"
   },
   {
    "duration": 102,
    "start_time": "2025-01-22T05:36:07.326Z"
   },
   {
    "duration": 8,
    "start_time": "2025-01-22T05:36:07.430Z"
   },
   {
    "duration": 5,
    "start_time": "2025-01-22T05:36:07.440Z"
   },
   {
    "duration": 24,
    "start_time": "2025-01-22T05:36:07.447Z"
   },
   {
    "duration": 6,
    "start_time": "2025-01-22T05:36:07.473Z"
   },
   {
    "duration": 4,
    "start_time": "2025-01-22T05:36:07.482Z"
   },
   {
    "duration": 3,
    "start_time": "2025-01-22T05:36:07.492Z"
   },
   {
    "duration": 227,
    "start_time": "2025-01-22T05:36:07.497Z"
   },
   {
    "duration": 201,
    "start_time": "2025-01-22T05:36:07.726Z"
   },
   {
    "duration": 210,
    "start_time": "2025-01-22T05:36:07.929Z"
   },
   {
    "duration": 320,
    "start_time": "2025-01-22T05:36:08.141Z"
   },
   {
    "duration": 277,
    "start_time": "2025-01-22T05:36:08.463Z"
   },
   {
    "duration": 4,
    "start_time": "2025-01-22T05:36:08.745Z"
   },
   {
    "duration": 1636,
    "start_time": "2025-01-22T05:36:08.750Z"
   },
   {
    "duration": 9,
    "start_time": "2025-01-22T05:36:10.388Z"
   },
   {
    "duration": 3,
    "start_time": "2025-01-22T05:36:10.399Z"
   },
   {
    "duration": 5,
    "start_time": "2025-01-22T05:36:10.404Z"
   },
   {
    "duration": 3,
    "start_time": "2025-01-22T05:36:10.411Z"
   },
   {
    "duration": 6,
    "start_time": "2025-01-22T05:36:10.416Z"
   },
   {
    "duration": 3,
    "start_time": "2025-01-22T05:36:10.423Z"
   },
   {
    "duration": 43,
    "start_time": "2025-01-22T05:36:10.428Z"
   },
   {
    "duration": 61969,
    "start_time": "2025-01-22T05:36:10.473Z"
   },
   {
    "duration": 16,
    "start_time": "2025-01-22T05:37:12.443Z"
   },
   {
    "duration": 19,
    "start_time": "2025-01-22T05:37:12.460Z"
   },
   {
    "duration": 12,
    "start_time": "2025-01-22T05:37:12.481Z"
   },
   {
    "duration": 5,
    "start_time": "2025-01-22T05:37:12.494Z"
   },
   {
    "duration": 3,
    "start_time": "2025-01-22T05:37:12.501Z"
   },
   {
    "duration": 3,
    "start_time": "2025-01-22T05:37:12.506Z"
   },
   {
    "duration": 3,
    "start_time": "2025-01-22T05:37:12.510Z"
   },
   {
    "duration": 3,
    "start_time": "2025-01-22T05:37:12.515Z"
   },
   {
    "duration": 49,
    "start_time": "2025-01-22T05:37:12.520Z"
   },
   {
    "duration": 3053,
    "start_time": "2025-01-22T05:48:59.378Z"
   },
   {
    "duration": 615,
    "start_time": "2025-01-22T05:49:02.433Z"
   },
   {
    "duration": 232,
    "start_time": "2025-01-22T05:49:03.049Z"
   },
   {
    "duration": 17,
    "start_time": "2025-01-22T05:49:03.284Z"
   },
   {
    "duration": 23,
    "start_time": "2025-01-22T05:49:03.303Z"
   },
   {
    "duration": 56,
    "start_time": "2025-01-22T05:49:03.328Z"
   },
   {
    "duration": 107,
    "start_time": "2025-01-22T05:49:03.385Z"
   },
   {
    "duration": 16,
    "start_time": "2025-01-22T05:49:03.494Z"
   },
   {
    "duration": 16,
    "start_time": "2025-01-22T05:49:03.512Z"
   },
   {
    "duration": 18,
    "start_time": "2025-01-22T05:49:03.530Z"
   },
   {
    "duration": 188,
    "start_time": "2025-01-22T05:49:03.549Z"
   },
   {
    "duration": 17,
    "start_time": "2025-01-22T05:49:03.739Z"
   },
   {
    "duration": 6,
    "start_time": "2025-01-22T05:49:03.758Z"
   },
   {
    "duration": 102,
    "start_time": "2025-01-22T05:49:03.765Z"
   },
   {
    "duration": 11,
    "start_time": "2025-01-22T05:49:03.871Z"
   },
   {
    "duration": 62,
    "start_time": "2025-01-22T05:49:03.883Z"
   },
   {
    "duration": 13,
    "start_time": "2025-01-22T05:49:03.947Z"
   },
   {
    "duration": 4,
    "start_time": "2025-01-22T05:49:03.961Z"
   },
   {
    "duration": 6,
    "start_time": "2025-01-22T05:49:03.967Z"
   },
   {
    "duration": 6,
    "start_time": "2025-01-22T05:49:03.974Z"
   },
   {
    "duration": 45,
    "start_time": "2025-01-22T05:49:03.982Z"
   },
   {
    "duration": 73,
    "start_time": "2025-01-22T05:49:04.029Z"
   },
   {
    "duration": 7,
    "start_time": "2025-01-22T05:49:04.103Z"
   },
   {
    "duration": 7,
    "start_time": "2025-01-22T05:49:04.123Z"
   },
   {
    "duration": 8,
    "start_time": "2025-01-22T05:49:04.131Z"
   },
   {
    "duration": 5,
    "start_time": "2025-01-22T05:49:04.141Z"
   },
   {
    "duration": 7,
    "start_time": "2025-01-22T05:49:04.147Z"
   },
   {
    "duration": 4,
    "start_time": "2025-01-22T05:49:04.159Z"
   },
   {
    "duration": 241,
    "start_time": "2025-01-22T05:49:04.165Z"
   },
   {
    "duration": 205,
    "start_time": "2025-01-22T05:49:04.408Z"
   },
   {
    "duration": 203,
    "start_time": "2025-01-22T05:49:04.616Z"
   },
   {
    "duration": 245,
    "start_time": "2025-01-22T05:49:04.825Z"
   },
   {
    "duration": 340,
    "start_time": "2025-01-22T05:49:05.071Z"
   },
   {
    "duration": 12,
    "start_time": "2025-01-22T05:49:05.414Z"
   },
   {
    "duration": 1618,
    "start_time": "2025-01-22T05:49:05.427Z"
   },
   {
    "duration": 10,
    "start_time": "2025-01-22T05:49:07.047Z"
   },
   {
    "duration": 5,
    "start_time": "2025-01-22T05:49:07.059Z"
   },
   {
    "duration": 4,
    "start_time": "2025-01-22T05:49:07.066Z"
   },
   {
    "duration": 3,
    "start_time": "2025-01-22T05:49:07.072Z"
   },
   {
    "duration": 6,
    "start_time": "2025-01-22T05:49:07.077Z"
   },
   {
    "duration": 3,
    "start_time": "2025-01-22T05:49:07.084Z"
   },
   {
    "duration": 41,
    "start_time": "2025-01-22T05:49:07.088Z"
   },
   {
    "duration": 64844,
    "start_time": "2025-01-22T05:49:07.131Z"
   },
   {
    "duration": 15,
    "start_time": "2025-01-22T05:50:11.977Z"
   },
   {
    "duration": 9,
    "start_time": "2025-01-22T05:50:11.995Z"
   },
   {
    "duration": 29,
    "start_time": "2025-01-22T05:50:12.024Z"
   },
   {
    "duration": 5,
    "start_time": "2025-01-22T05:50:12.054Z"
   },
   {
    "duration": 4,
    "start_time": "2025-01-22T05:50:12.061Z"
   },
   {
    "duration": 3,
    "start_time": "2025-01-22T05:50:12.066Z"
   },
   {
    "duration": 3,
    "start_time": "2025-01-22T05:50:12.071Z"
   },
   {
    "duration": 3,
    "start_time": "2025-01-22T05:50:12.076Z"
   },
   {
    "duration": 2,
    "start_time": "2025-01-22T05:50:12.081Z"
   },
   {
    "duration": 62440,
    "start_time": "2025-01-22T05:50:12.085Z"
   },
   {
    "duration": 3,
    "start_time": "2025-01-22T05:51:14.527Z"
   },
   {
    "duration": 2,
    "start_time": "2025-01-22T05:51:14.532Z"
   },
   {
    "duration": 2,
    "start_time": "2025-01-22T05:51:14.536Z"
   },
   {
    "duration": 3,
    "start_time": "2025-01-22T05:51:14.540Z"
   },
   {
    "duration": 3,
    "start_time": "2025-01-22T05:51:14.545Z"
   },
   {
    "duration": 3,
    "start_time": "2025-01-22T05:51:14.550Z"
   },
   {
    "duration": 3,
    "start_time": "2025-01-22T05:51:14.554Z"
   }
  ],
  "kernelspec": {
   "display_name": "Python 3 (ipykernel)",
   "language": "python",
   "name": "python3"
  },
  "language_info": {
   "codemirror_mode": {
    "name": "ipython",
    "version": 3
   },
   "file_extension": ".py",
   "mimetype": "text/x-python",
   "name": "python",
   "nbconvert_exporter": "python",
   "pygments_lexer": "ipython3",
   "version": "3.9.19"
  },
  "toc": {
   "base_numbering": 1,
   "nav_menu": {},
   "number_sections": true,
   "sideBar": true,
   "skip_h1_title": true,
   "title_cell": "Table of Contents",
   "title_sidebar": "Contents",
   "toc_cell": false,
   "toc_position": {
    "height": "calc(100% - 180px)",
    "left": "10px",
    "top": "150px",
    "width": "270.2px"
   },
   "toc_section_display": true,
   "toc_window_display": true
  }
 },
 "nbformat": 4,
 "nbformat_minor": 2
}
